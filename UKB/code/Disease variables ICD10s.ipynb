{
 "cells": [
  {
   "cell_type": "code",
   "execution_count": null,
   "metadata": {},
   "outputs": [],
   "source": [
    "'''\n",
    "Determine a set of ICD10s associated with each disease to investigate and pull these out for each patient\n",
    "'''"
   ]
  },
  {
   "cell_type": "code",
   "execution_count": 6,
   "metadata": {
    "ExecuteTime": {
     "end_time": "2021-03-02T11:16:30.025083Z",
     "start_time": "2021-03-02T11:16:30.002035Z"
    }
   },
   "outputs": [],
   "source": [
    "import pandas as pd\n",
    "import numpy as np\n",
    "import re\n",
    "import warnings\n",
    "import datetime as dt\n",
    "warnings.filterwarnings('ignore')\n",
    "path=\"../../../ukb/data/\""
   ]
  },
  {
   "cell_type": "code",
   "execution_count": 7,
   "metadata": {
    "ExecuteTime": {
     "end_time": "2021-03-02T11:16:30.641325Z",
     "start_time": "2021-03-02T11:16:30.622657Z"
    }
   },
   "outputs": [],
   "source": [
    "year=2021\n",
    "month=1\n",
    "day=1"
   ]
  },
  {
   "cell_type": "code",
   "execution_count": 36,
   "metadata": {
    "ExecuteTime": {
     "end_time": "2021-03-03T22:12:04.864289Z",
     "start_time": "2021-03-03T22:12:04.852653Z"
    }
   },
   "outputs": [],
   "source": [
    "\n",
    "conditions=['AD','PD','FTD','EPIL','DIAB','COVID','CERVASC','STROKE','CERVASCALL','CELIAC','SLEEP_DIS','AUD']\n",
    "icd10dis={\n",
    "    'AD': \"F00|F000|F001|F002|F009|G30|G300|G301|G308|G309\",\n",
    "    'PD': \"G20\",\n",
    "    'FTD':\"G31\",\n",
    "    'EPIL':\"G40\",\n",
    "    'DIAB':\"E10|E11|E13|E14\",\n",
    "    #'DIAB':\"E08|E09|E10|E11|E13\",\n",
    "    'COVID':\"U07\",\n",
    "    'CERVASC':\"I67\", #show I63-I69\n",
    "    'STROKE':\"I63\", #show I63-I69\n",
    "    'CERVASCALL':\"I60|I61|I62|I63|I64|I65|I66|I67|I68|I69\",\n",
    "    'CELIAC':\"K90\",\n",
    "    'SLEEP_DIS':'G47',\n",
    "    'AUD':'F101|F102'\n",
    "    \n",
    "}\n",
    "\n",
    "icd9dis={\n",
    "    'AD': \"F00|F000|F001|F002|F009|G30|G300|G301|G308|G309\",\n",
    "    'PD': \"G20\",\n",
    "    'FTD':\"G31\",\n",
    "    'EPIL':\"G40\",\n",
    "    'DIAB':\"E11\",\n",
    "    'COVID':\"U07\",\n",
    "    'CERVASC':\"I67\",\n",
    "    'CELIAC':\"579\",\n",
    "    'REM_DIS':'G47.52'\n",
    "}"
   ]
  },
  {
   "cell_type": "code",
   "execution_count": 37,
   "metadata": {
    "ExecuteTime": {
     "end_time": "2021-03-03T22:12:06.274632Z",
     "start_time": "2021-03-03T22:12:06.268674Z"
    }
   },
   "outputs": [],
   "source": [
    "'''\n",
    "Helper function to find out columns containing specific text\n",
    "'''\n",
    "def findcols(df,text):\n",
    "    return [col for col in df.columns if text in col]"
   ]
  },
  {
   "cell_type": "code",
   "execution_count": 88,
   "metadata": {
    "ExecuteTime": {
     "end_time": "2021-03-05T05:25:58.778002Z",
     "start_time": "2021-03-05T05:25:58.745341Z"
    }
   },
   "outputs": [],
   "source": [
    "def read_data(file,path=path,chunksize=10000):\n",
    "    df_chunk = pd.read_csv('%s%s' % (path,file), chunksize=chunksize, iterator=True,sep=',')#,nrows=1000)\n",
    "    df = pd.concat(df_chunk, ignore_index=True)\n",
    "    return df\n",
    "\n",
    "def returndata(df,tp,minvals=50000):\n",
    "    df=df[(df['time_point']==tp)]\n",
    "    cols=[col for col in df.columns if df[col].count()>minvals]\n",
    "    df=df[cols]\n",
    "    return df\n",
    "\n",
    "def returndisease(df,conditions=conditions,icd10dis=icd10dis):\n",
    "    \n",
    "    conditions_diag_date=['Diag_Date_'+disease for disease in conditions]\n",
    "    conditions_age_diag=['Age_Diag_'+disease for disease in conditions]\n",
    "    conditions_years_bef=['years_bef_diag'+disease for disease in conditions]\n",
    "    for i,disease in enumerate(conditions):\n",
    "        df[disease]=0\n",
    "    \n",
    "        disease_num=disease+'_num'\n",
    "        disease_diag_date=conditions_diag_date[i]\n",
    "        disease_diag_age=conditions_age_diag[i]\n",
    "        disease_years_bef=conditions_years_bef[i]\n",
    "        df[disease_diag_date]=pd.NaT\n",
    "        df[disease_diag_age]=0\n",
    "        df[disease_years_bef]=0\n",
    "        df[disease_num]='none'\n",
    "        \n",
    "        #print(df.columns)\n",
    "        for s in df.columns:\n",
    "            if s!=\"n_eid\" and '41270' in s:\n",
    "                uscloc=[j for j,s1 in enumerate(s) if s1=='_']\n",
    "                mask=(df[s].str.contains(icd10dis[disease]))&pd.notnull(df[s])\n",
    "\n",
    "                df[disease][mask]=1 \n",
    "                number='num'+str(s[uscloc[len(uscloc)-1]+1:len(s)])\n",
    "                df[disease_num][mask]=number\n",
    "\n",
    "        for i,s in enumerate(df.columns):\n",
    "            if s!=\"n_eid\" and '41280' in s:\n",
    "                uscloc=[j for j,s1 in enumerate(s) if s1=='_']\n",
    "                number2='num'+str(s[uscloc[len(uscloc)-1]+1:len(s)])\n",
    "                mask_num=(df[disease_num]==number2)\n",
    "                df[disease_diag_date][mask_num]=df[s].astype(str).apply(lambda x:x[2:12])\n",
    "                \n",
    "                try:\n",
    "                    df[disease_diag_age][(pd.notnull(df[disease_diag_date]))]=\\\n",
    "                    df['age_when_attended_assessment_centre_f21003']+(pd.to_datetime(df[disease_diag_date])-\\\n",
    "                    pd.to_datetime(df['date_of_attending_assessment_centre_f53'])).dt.days/365\n",
    "                \n",
    "                except:\n",
    "                    pass\n",
    "                             \n",
    "                try:\n",
    "                    df[disease_years_bef]=(pd.to_datetime(df[disease_diag_date])-\\\n",
    "                    pd.to_datetime(df['date_of_attending_assessment_centre_f53'])).dt.days/365\n",
    "                except:\n",
    "                    pass\n",
    "\n",
    "    df_out=df[np.concatenate([['n_eid','date_of_attending_assessment_centre_f53','age_when_attended_assessment_centre_f21003'],\n",
    "                              conditions,conditions_diag_date,conditions_age_diag,conditions_years_bef])]\n",
    "    \n",
    "    return df_out"
   ]
  },
  {
   "cell_type": "code",
   "execution_count": 89,
   "metadata": {
    "ExecuteTime": {
     "end_time": "2021-03-05T05:28:04.487762Z",
     "start_time": "2021-03-05T05:26:08.053945Z"
    }
   },
   "outputs": [],
   "source": [
    "inpatient_update=read_data(\"inpatient_update.csv\")\n",
    "death_codes=read_data(\"hm_cod_update_02sep2020.csv\")"
   ]
  },
  {
   "cell_type": "code",
   "execution_count": 90,
   "metadata": {
    "ExecuteTime": {
     "end_time": "2021-03-05T05:28:56.895313Z",
     "start_time": "2021-03-05T05:28:04.490234Z"
    }
   },
   "outputs": [],
   "source": [
    "ukb_tp0=pd.read_pickle('%s%s' % (path,'ukb_tp0.p'))"
   ]
  },
  {
   "cell_type": "code",
   "execution_count": 126,
   "metadata": {
    "ExecuteTime": {
     "end_time": "2021-03-07T00:28:20.348508Z",
     "start_time": "2021-03-07T00:21:36.259340Z"
    }
   },
   "outputs": [],
   "source": [
    "\n",
    "check2=inpatient_update.copy()\n",
    "#check['MND']=0\n",
    "check2['LBD']=0\n",
    "for s in check2.columns:\n",
    "    if s!=\"n_eid\" and check2[s].dtype==\"O\":\n",
    "        #uscloc=[j for j,s1 in enumerate(s) if s1=='_']\n",
    "        #mask=(check[s].str.contains('G122'))&pd.notnull(check[s]) \n",
    "        mask_lbd=(check2[s].str.contains('G3183'))&pd.notnull(check2[s]) \n",
    "        #check['MND'][mask]=1 \n",
    "        check2['LBD'][mask]=1 "
   ]
  },
  {
   "cell_type": "code",
   "execution_count": null,
   "metadata": {
    "ExecuteTime": {
     "start_time": "2021-03-10T06:02:15.171Z"
    }
   },
   "outputs": [],
   "source": [
    "check3=inpatient_update.copy()\n",
    "#check['MND']=0\n",
    "check3['AUTISM']=0\n",
    "check3['HD']=0\n",
    "check3['RBD']=0\n",
    "for s in check3.columns:\n",
    "    if s!=\"n_eid\" and check3[s].dtype==\"O\":\n",
    "        #uscloc=[j for j,s1 in enumerate(s) if s1=='_']\n",
    "        #mask=(check[s].str.contains('G122'))&pd.notnull(check[s]) \n",
    "        mask_aut=(check3[s].str.contains('F84'))&pd.notnull(check3[s]) \n",
    "        mask_hunt=(check3[s].str.contains('G10'))&pd.notnull(check3[s]) \n",
    "        mask_rbd=(check3[s].str.contains('G475'))&pd.notnull(check3[s]) \n",
    "        #check['MND'][mask]=1 \n",
    "        check3['AUTISM'][mask_aut]=1 \n",
    "        check3['HD'][mask_hunt]=1 \n",
    "        check3['RBD'][mask_rbd]=1 "
   ]
  },
  {
   "cell_type": "code",
   "execution_count": 142,
   "metadata": {
    "ExecuteTime": {
     "end_time": "2021-03-10T09:35:15.551351Z",
     "start_time": "2021-03-10T09:35:15.544263Z"
    }
   },
   "outputs": [
    {
     "name": "stdout",
     "output_type": "stream",
     "text": [
      "194\n",
      "41\n",
      "0\n"
     ]
    }
   ],
   "source": [
    "print(check3['AUTISM'].sum())\n",
    "print(check3['HD'].sum())\n",
    "print(check3['RBD'].sum())"
   ]
  },
  {
   "cell_type": "code",
   "execution_count": 129,
   "metadata": {
    "ExecuteTime": {
     "end_time": "2021-03-07T00:43:43.176560Z",
     "start_time": "2021-03-07T00:43:43.160081Z"
    }
   },
   "outputs": [
    {
     "data": {
      "text/plain": [
       "504"
      ]
     },
     "execution_count": 129,
     "metadata": {},
     "output_type": "execute_result"
    }
   ],
   "source": [
    "check['MND'].sum()"
   ]
  },
  {
   "cell_type": "code",
   "execution_count": 92,
   "metadata": {
    "ExecuteTime": {
     "end_time": "2021-03-05T05:28:56.939586Z",
     "start_time": "2021-03-05T05:28:56.904768Z"
    }
   },
   "outputs": [],
   "source": [
    "death_codes=death_codes[['n_eid','s_40000_0_0']]\n",
    "death_codes['death']=1\n",
    "death_codes.columns=['eid','death_date','death']"
   ]
  },
  {
   "cell_type": "code",
   "execution_count": 93,
   "metadata": {
    "ExecuteTime": {
     "end_time": "2021-03-05T05:29:44.441116Z",
     "start_time": "2021-03-05T05:28:56.941460Z"
    }
   },
   "outputs": [],
   "source": [
    "ukb_tp0_assess=ukb_tp0[['eid','age_when_attended_assessment_centre_f21003','date_of_attending_assessment_centre_f53']]\n",
    "inpatient_update=pd.merge(ukb_tp0_assess,inpatient_update,left_on='eid',right_on='n_eid',how='left')"
   ]
  },
  {
   "cell_type": "code",
   "execution_count": 94,
   "metadata": {
    "ExecuteTime": {
     "end_time": "2021-03-05T05:29:44.572961Z",
     "start_time": "2021-03-05T05:29:44.443462Z"
    }
   },
   "outputs": [],
   "source": [
    "ukb_tp0['Age_Today']=ukb_tp0['age_when_attended_assessment_centre_f21003']+\\\n",
    "(dt.datetime(year, month, day)-pd.to_datetime(ukb_tp0['date_of_attending_assessment_centre_f53'])).dt.days/365"
   ]
  },
  {
   "cell_type": "code",
   "execution_count": null,
   "metadata": {
    "ExecuteTime": {
     "start_time": "2021-03-05T05:26:17.194Z"
    }
   },
   "outputs": [],
   "source": [
    "%%time\n",
    "diseases_bin=returndisease(inpatient_update)"
   ]
  },
  {
   "cell_type": "code",
   "execution_count": 85,
   "metadata": {
    "ExecuteTime": {
     "end_time": "2021-03-05T04:59:38.433064Z",
     "start_time": "2021-03-05T04:59:38.430773Z"
    }
   },
   "outputs": [],
   "source": [
    "#%%time\n",
    "#diseases_bin_check=returndisease(inpatient_update.sample(20000))"
   ]
  },
  {
   "cell_type": "code",
   "execution_count": 139,
   "metadata": {
    "ExecuteTime": {
     "end_time": "2021-03-10T06:01:11.341725Z",
     "start_time": "2021-03-10T06:01:11.308156Z"
    }
   },
   "outputs": [
    {
     "data": {
      "text/plain": [
       "10611"
      ]
     },
     "execution_count": 139,
     "metadata": {},
     "output_type": "execute_result"
    }
   ],
   "source": [
    "diseases_bin['SLEEP_DIS'].sum()"
   ]
  },
  {
   "cell_type": "code",
   "execution_count": 102,
   "metadata": {
    "ExecuteTime": {
     "end_time": "2021-03-05T06:56:14.659548Z",
     "start_time": "2021-03-05T06:56:14.649983Z"
    }
   },
   "outputs": [
    {
     "data": {
      "text/plain": [
       "7613"
      ]
     },
     "execution_count": 102,
     "metadata": {},
     "output_type": "execute_result"
    }
   ],
   "source": [
    "diseases_bin['AUD'].sum()"
   ]
  },
  {
   "cell_type": "code",
   "execution_count": 103,
   "metadata": {
    "ExecuteTime": {
     "end_time": "2021-03-05T06:56:17.516137Z",
     "start_time": "2021-03-05T06:56:16.568190Z"
    }
   },
   "outputs": [],
   "source": [
    "diseases_bin=pd.merge(diseases_bin,death_codes,left_on='n_eid',right_on='eid',how='left')"
   ]
  },
  {
   "cell_type": "code",
   "execution_count": 117,
   "metadata": {
    "ExecuteTime": {
     "end_time": "2021-03-05T07:20:20.088035Z",
     "start_time": "2021-03-05T07:20:20.073912Z"
    }
   },
   "outputs": [],
   "source": [
    "def dis_before(var,days=100,df=diseases_bin,depvar='AUD'):\n",
    "    df['timebefore'+depvar+var]=0\n",
    "    mask1=(df[depvar]==1)&(df[var]==1)\n",
    "    df['timebefore'+depvar+var][mask1]=\\\n",
    "    (pd.to_datetime(df['Diag_Date_'+depvar][mask1])-\\\n",
    "     pd.to_datetime(df['Diag_Date_'+var][mask1])).dt.days\n",
    "    \n",
    "    df[var+'_bef']=0\n",
    "    df[var+'_bef'][(df['timebefore'+depvar+var]<days)&(df[var]==1)]=1\n",
    "    #print(var+df[var+'_bef'].value_counts())\n",
    "    return df    "
   ]
  },
  {
   "cell_type": "code",
   "execution_count": 118,
   "metadata": {
    "ExecuteTime": {
     "end_time": "2021-03-05T07:20:22.305125Z",
     "start_time": "2021-03-05T07:20:21.419157Z"
    }
   },
   "outputs": [],
   "source": [
    "diseases_bin=dis_before('CERVASCALL',100,df=diseases_bin)\n",
    "diseases_bin=dis_before('STROKE',100,df=diseases_bin)\n",
    "diseases_bin=dis_before('EPIL',100,df=diseases_bin)\n",
    "diseases_bin=dis_before('DIAB',100,df=diseases_bin)\n",
    "diseases_bin=dis_before('CELIAC',100,df=diseases_bin)\n",
    "diseases_bin=dis_before('CERVASC',100,df=diseases_bin)\n",
    "diseases_bin=dis_before('AUD',100,df=diseases_bin)"
   ]
  },
  {
   "cell_type": "code",
   "execution_count": 119,
   "metadata": {
    "ExecuteTime": {
     "end_time": "2021-03-05T07:20:23.569235Z",
     "start_time": "2021-03-05T07:20:23.425603Z"
    }
   },
   "outputs": [],
   "source": [
    "diseases_bin['Age_Today']=diseases_bin['age_when_attended_assessment_centre_f21003']+\\\n",
    "(dt.datetime(2021, 1, 1)-pd.to_datetime(diseases_bin['date_of_attending_assessment_centre_f53'])).dt.days/365"
   ]
  },
  {
   "cell_type": "code",
   "execution_count": 120,
   "metadata": {
    "ExecuteTime": {
     "end_time": "2021-03-05T07:20:25.716384Z",
     "start_time": "2021-03-05T07:20:25.310830Z"
    }
   },
   "outputs": [],
   "source": [
    "mask_AUD_date=((pd.to_datetime(diseases_bin['Diag_Date_AUD'])-\\\n",
    "pd.to_datetime(diseases_bin['date_of_attending_assessment_centre_f53'])).dt.days/365>=2)|(diseases_bin['AUD']==0)\n",
    "diseases_bin=diseases_bin[mask_AUD_date]"
   ]
  },
  {
   "cell_type": "code",
   "execution_count": 121,
   "metadata": {
    "ExecuteTime": {
     "end_time": "2021-03-05T07:20:28.646193Z",
     "start_time": "2021-03-05T07:20:26.259890Z"
    }
   },
   "outputs": [],
   "source": [
    "diseases_bin.to_pickle('%s%s' % (path,'ukb_disease_labels_AUD.p'))"
   ]
  },
  {
   "cell_type": "code",
   "execution_count": 122,
   "metadata": {
    "ExecuteTime": {
     "end_time": "2021-03-05T07:20:28.653684Z",
     "start_time": "2021-03-05T07:20:28.648500Z"
    }
   },
   "outputs": [
    {
     "data": {
      "text/plain": [
       "5192"
      ]
     },
     "execution_count": 122,
     "metadata": {},
     "output_type": "execute_result"
    }
   ],
   "source": [
    "diseases_bin['AUD'].sum()"
   ]
  },
  {
   "cell_type": "code",
   "execution_count": null,
   "metadata": {},
   "outputs": [],
   "source": []
  }
 ],
 "metadata": {
  "kernelspec": {
   "display_name": "Python 3",
   "language": "python",
   "name": "python3"
  },
  "language_info": {
   "codemirror_mode": {
    "name": "ipython",
    "version": 3
   },
   "file_extension": ".py",
   "mimetype": "text/x-python",
   "name": "python",
   "nbconvert_exporter": "python",
   "pygments_lexer": "ipython3",
   "version": "3.7.6"
  },
  "toc": {
   "base_numbering": 1,
   "nav_menu": {},
   "number_sections": false,
   "sideBar": true,
   "skip_h1_title": false,
   "title_cell": "Table of Contents",
   "title_sidebar": "Contents",
   "toc_cell": false,
   "toc_position": {},
   "toc_section_display": true,
   "toc_window_display": false
  }
 },
 "nbformat": 4,
 "nbformat_minor": 2
}
