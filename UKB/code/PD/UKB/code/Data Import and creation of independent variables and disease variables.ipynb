{
 "cells": [
  {
   "cell_type": "code",
   "execution_count": 86,
   "metadata": {
    "ExecuteTime": {
     "end_time": "2021-01-29T08:42:46.177433Z",
     "start_time": "2021-01-29T08:42:46.172807Z"
    }
   },
   "outputs": [],
   "source": [
    "import pandas as pd\n",
    "import numpy as np\n",
    "import re\n",
    "import warnings\n",
    "import datetime as dt\n",
    "warnings.filterwarnings('ignore')\n",
    "path=\"../../data/\""
   ]
  },
  {
   "cell_type": "code",
   "execution_count": 87,
   "metadata": {
    "ExecuteTime": {
     "end_time": "2021-01-29T08:42:46.199151Z",
     "start_time": "2021-01-29T08:42:46.188501Z"
    }
   },
   "outputs": [],
   "source": [
    "year=2021\n",
    "month=1\n",
    "day=1"
   ]
  },
  {
   "cell_type": "code",
   "execution_count": 126,
   "metadata": {
    "ExecuteTime": {
     "end_time": "2021-01-30T03:06:17.191339Z",
     "start_time": "2021-01-30T03:06:17.176866Z"
    }
   },
   "outputs": [],
   "source": [
    "config = dict(time_points = ['1','2','3'])\n",
    "\n",
    "conditions=['AD','PD','FTD','EPIL','DIAB','COVID','CERVASC','STROKE','CERVASCALL','CELIAC','SLEEP_DIS']\n",
    "icd10dis={\n",
    "    'AD': \"F00|F000|F001|F002|F009|G30|G300|G301|G308|G309\",\n",
    "    'PD': \"G20\",\n",
    "    'FTD':\"G31\",\n",
    "    'EPIL':\"G40\",\n",
    "    'DIAB':\"E10|E11|E13|E14\",\n",
    "    #'DIAB':\"E08|E09|E10|E11|E13\",\n",
    "    'COVID':\"U07\",\n",
    "    'CERVASC':\"I67\", #show I63-I69\n",
    "    'STROKE':\"I63\", #show I63-I69\n",
    "    'CERVASCALL':\"I60|I61|I62|I63|I64|I65|I66|I67|I68|I69\",\n",
    "    'CELIAC':\"K90\",\n",
    "    'SLEEP_DIS':'G47'\n",
    "}\n",
    "\n",
    "icd9dis={\n",
    "    'AD': \"F00|F000|F001|F002|F009|G30|G300|G301|G308|G309\",\n",
    "    'PD': \"G20\",\n",
    "    'FTD':\"G31\",\n",
    "    'EPIL':\"G40\",\n",
    "    'DIAB':\"E11\",\n",
    "    'COVID':\"U07\",\n",
    "    'CERVASC':\"I67\",\n",
    "    'CELIAC':\"579\",\n",
    "    'REM_DIS':'G47.52'\n",
    "}"
   ]
  },
  {
   "cell_type": "code",
   "execution_count": 124,
   "metadata": {
    "ExecuteTime": {
     "end_time": "2021-01-30T03:05:49.004070Z",
     "start_time": "2021-01-30T03:05:48.995481Z"
    }
   },
   "outputs": [],
   "source": [
    "'''\n",
    "Helper function to find out columns containing specific text\n",
    "'''\n",
    "def findcols(df,text):\n",
    "    return [col for col in df.columns if text in col]"
   ]
  },
  {
   "cell_type": "code",
   "execution_count": 125,
   "metadata": {
    "ExecuteTime": {
     "end_time": "2021-01-30T03:05:49.607045Z",
     "start_time": "2021-01-30T03:05:49.555353Z"
    }
   },
   "outputs": [],
   "source": [
    "def read_data(file,path=path,chunksize=10000):\n",
    "    df_chunk = pd.read_csv('%s%s' % (path,file), chunksize=chunksize, iterator=True,sep=',')#,nrows=1000)\n",
    "    df = pd.concat(df_chunk, ignore_index=True)\n",
    "    return df\n",
    "\n",
    "#create independent variable set\n",
    "def createindepvars(df,tps=config['time_points']):\n",
    "    cols=np.asarray(df.columns)\n",
    "    colselected=np.asarray([])\n",
    "    timeperiod=np.asarray([])\n",
    "    newcolnames=np.asarray([])\n",
    "\n",
    "    for i,s in enumerate(cols):\n",
    "\n",
    "        t=s[len(s)-6:len(s)]\n",
    "        u=s[len(s)-2:len(s)]\n",
    "        if u==\"_0\":\n",
    "            colselected=np.append(colselected,s)\n",
    "            inds = [i for i,c in enumerate(s) if c=='_']\n",
    "            t=s[inds[len(inds)-2]+1:inds[len(inds)-1]]\n",
    "            u=s[0:inds[len(inds)-2]]\n",
    "            timeperiod=np.append(timeperiod,t)\n",
    "            newcolnames=np.append(newcolnames,u)\n",
    "\n",
    "    df_out=pd.DataFrame([])\n",
    "\n",
    "    #for i in range(int(max(timeperiod))):\n",
    "    for i in tps:\n",
    "        indices=[j for j,c in enumerate(timeperiod) if c==str(i)]\n",
    "        dfa=df[colselected[indices]]\n",
    "\n",
    "        #print(colselected[indices])\n",
    "        dfa.columns=newcolnames[indices]\n",
    "        dfa['eid']=df['eid']\n",
    "        dfa['time_point']=str(i)\n",
    "        df_out=pd.concat([df_out,dfa],axis=0)\n",
    "    print(df_out.shape)\n",
    "    return df_out\n",
    "\n",
    "def returndata(df,tp,minvals=50000):\n",
    "    df=df[(df['time_point']==tp)]\n",
    "    cols=[col for col in df.columns if df[col].count()>minvals]\n",
    "    df=df[cols]\n",
    "    return df\n",
    "\n",
    "def returndisease(df,conditions=conditions,icd10dis=icd10dis):\n",
    "    \n",
    "    conditions_diag_date=['Diag_Date_'+disease for disease in conditions]\n",
    "    conditions_age_diag=['Age_Diag_'+disease for disease in conditions]\n",
    "    conditions_years_bef=['years_bef_diag'+disease for disease in conditions]\n",
    "    for i,disease in enumerate(conditions):\n",
    "        df[disease]=0\n",
    "    \n",
    "        disease_num=disease+'_num'\n",
    "        disease_diag_date=conditions_diag_date[i]\n",
    "        disease_diag_age=conditions_age_diag[i]\n",
    "        disease_years_bef=conditions_years_bef[i]\n",
    "        df[disease_diag_date]=pd.NaT\n",
    "        df[disease_diag_age]=0\n",
    "        df[disease_years_bef]=0\n",
    "        df[disease_num]='none'\n",
    "        \n",
    "        #print(df.columns)\n",
    "        for s in df.columns:\n",
    "            if s!=\"n_eid\" and '41270' in s:\n",
    "                uscloc=[j for j,s1 in enumerate(s) if s1=='_']\n",
    "                mask=(df[s].str.contains(icd10dis[disease]))&pd.notnull(df[s])\n",
    "\n",
    "                df[disease][mask]=1 \n",
    "                number='num'+str(s[uscloc[len(uscloc)-1]+1:len(s)])\n",
    "                df[disease_num][mask]=number\n",
    "\n",
    "        for i,s in enumerate(df.columns):\n",
    "            if s!=\"n_eid\" and '41280' in s:\n",
    "                uscloc=[j for j,s1 in enumerate(s) if s1=='_']\n",
    "                number2='num'+str(s[uscloc[len(uscloc)-1]+1:len(s)])\n",
    "                mask_num=(df[disease_num]==number2)\n",
    "                df[disease_diag_date][mask_num]=df[s].astype(str).apply(lambda x:x[2:12])\n",
    "                \n",
    "                try:\n",
    "                    df[disease_diag_age][(pd.notnull(df[disease_diag_date]))]=\\\n",
    "                    df['age_when_attended_assessment_centre_f21003']+(pd.to_datetime(df[disease_diag_date])-\\\n",
    "                    pd.to_datetime(df['date_of_attending_assessment_centre_f53'])).dt.days/365\n",
    "                \n",
    "                except:\n",
    "                    pass\n",
    "                             \n",
    "                try:\n",
    "                    df[disease_years_bef]=(pd.to_datetime(df[disease_diag_date])-\\\n",
    "                    pd.to_datetime(df['date_of_attending_assessment_centre_f53'])).dt.days/365\n",
    "                except:\n",
    "                    pass\n",
    "\n",
    "    df_out=df[np.concatenate([['n_eid','date_of_attending_assessment_centre_f53','age_when_attended_assessment_centre_f21003'],\n",
    "                              conditions,conditions_diag_date,conditions_age_diag,conditions_years_bef])]\n",
    "    \n",
    "    return df_out"
   ]
  },
  {
   "cell_type": "code",
   "execution_count": 5,
   "metadata": {
    "ExecuteTime": {
     "end_time": "2020-12-21T05:41:57.183578Z",
     "start_time": "2020-12-21T05:40:29.370003Z"
    }
   },
   "outputs": [],
   "source": [
    "genotype=read_data(\"ukb_genotype.csv\")\n",
    "ukb=read_data(\"all_fields_251020.csv\")\n",
    "customfields=read_data(\"ukb_customfields.csv\")\n",
    "genotype=read_data(\"ukb_genotype.csv\")\n",
    "death_codes=read_data(\"hm_cod_update_02sep2020.csv\")\n",
    "inpatient_update=read_data(\"inpatient_update.csv\")"
   ]
  },
  {
   "cell_type": "code",
   "execution_count": 6,
   "metadata": {
    "ExecuteTime": {
     "end_time": "2020-12-21T05:41:57.431045Z",
     "start_time": "2020-12-21T05:41:57.186234Z"
    }
   },
   "outputs": [],
   "source": [
    "customfields=pd.merge(customfields,genotype,on='eid',how='left')\n",
    "customfields=customfields[['eid','parental_ad_status','APOE4_Carriers','APOE4_assigned','Genotype']]"
   ]
  },
  {
   "cell_type": "code",
   "execution_count": 7,
   "metadata": {
    "ExecuteTime": {
     "end_time": "2020-12-21T05:41:57.455318Z",
     "start_time": "2020-12-21T05:41:57.433372Z"
    }
   },
   "outputs": [],
   "source": [
    "death_codes=death_codes[['n_eid','s_40000_0_0']]\n",
    "death_codes['death']=1\n",
    "death_codes.columns=['eid','death_date','death']"
   ]
  },
  {
   "cell_type": "code",
   "execution_count": 96,
   "metadata": {
    "ExecuteTime": {
     "end_time": "2020-12-08T04:11:19.916352Z",
     "start_time": "2020-12-08T03:46:48.862299Z"
    }
   },
   "outputs": [
    {
     "name": "stdout",
     "output_type": "stream",
     "text": [
      "(502523, 1516)\n",
      "CPU times: user 4min 3s, sys: 12min 30s, total: 16min 33s\n",
      "Wall time: 24min 31s\n"
     ]
    }
   ],
   "source": [
    "%%time\n",
    "ukb_tp0=createindepvars(ukb,tps='0')"
   ]
  },
  {
   "cell_type": "code",
   "execution_count": 97,
   "metadata": {
    "ExecuteTime": {
     "end_time": "2020-12-08T04:35:44.775926Z",
     "start_time": "2020-12-08T04:11:19.937011Z"
    }
   },
   "outputs": [
    {
     "name": "stdout",
     "output_type": "stream",
     "text": [
      "(1507569, 1847)\n"
     ]
    }
   ],
   "source": [
    "ukb_tp=createindepvars(ukb,tps=config['time_points'])\n",
    "ukb_tp_brain=ukb_tp[[col for col in ukb_tp if 'brain' in col or 'eid' in col or 'time_point' in col]]\\\n",
    "[(ukb_tp_brain['time_point']=='2')]\n",
    "#ukb_tp_brain.to_pickle('%s%s' % (path,'ukb_brain.p'))"
   ]
  },
  {
   "cell_type": "code",
   "execution_count": 98,
   "metadata": {
    "ExecuteTime": {
     "end_time": "2020-12-08T04:37:08.728644Z",
     "start_time": "2020-12-08T04:35:44.791247Z"
    }
   },
   "outputs": [],
   "source": [
    "ukb_tp0=pd.merge(ukb_tp0,death_codes,on='eid',how='left')"
   ]
  },
  {
   "cell_type": "code",
   "execution_count": 14,
   "metadata": {
    "ExecuteTime": {
     "end_time": "2020-12-21T06:12:02.295506Z",
     "start_time": "2020-12-21T06:08:54.996116Z"
    }
   },
   "outputs": [],
   "source": [
    "ukb_tp0_assess=ukb_tp0[['eid','age_when_attended_assessment_centre_f21003','date_of_attending_assessment_centre_f53']]\n",
    "inpatient_update=pd.merge(ukb_tp0_assess,inpatient_update,left_on='eid',right_on='n_eid',how='left')"
   ]
  },
  {
   "cell_type": "code",
   "execution_count": 100,
   "metadata": {
    "ExecuteTime": {
     "end_time": "2020-12-08T04:39:48.740663Z",
     "start_time": "2020-12-08T04:39:48.244967Z"
    }
   },
   "outputs": [
    {
     "name": "stdout",
     "output_type": "stream",
     "text": [
      "CPU times: user 234 ms, sys: 57.3 ms, total: 291 ms\n",
      "Wall time: 479 ms\n"
     ]
    }
   ],
   "source": [
    "%%time\n",
    "ukb_temp=pd.merge(ukb_tp0[['eid']],customfields,on='eid',how='left')"
   ]
  },
  {
   "cell_type": "code",
   "execution_count": 101,
   "metadata": {
    "ExecuteTime": {
     "end_time": "2020-12-08T04:39:48.778883Z",
     "start_time": "2020-12-08T04:39:48.743961Z"
    }
   },
   "outputs": [],
   "source": [
    "ukb_tp0['parental_ad_status']=ukb_temp['parental_ad_status']\n",
    "ukb_tp0['APOE4_Carriers']=ukb_temp['APOE4_Carriers']\n",
    "ukb_tp0['Genotype']=ukb_temp['Genotype']"
   ]
  },
  {
   "cell_type": "code",
   "execution_count": 34,
   "metadata": {
    "ExecuteTime": {
     "end_time": "2020-12-21T08:03:46.270388Z",
     "start_time": "2020-12-21T08:03:46.137778Z"
    }
   },
   "outputs": [],
   "source": [
    "ukb_tp0['Age_Today']=ukb_tp0['age_when_attended_assessment_centre_f21003']+\\\n",
    "(dt.datetime(year, month, day)-pd.to_datetime(ukb_tp0['date_of_attending_assessment_centre_f53'])).dt.days/365"
   ]
  },
  {
   "cell_type": "code",
   "execution_count": 35,
   "metadata": {
    "ExecuteTime": {
     "end_time": "2020-12-21T08:04:43.594847Z",
     "start_time": "2020-12-21T08:03:47.406792Z"
    }
   },
   "outputs": [],
   "source": [
    "ukb_tp0.to_pickle('%s%s' % (path,'ukb_tp0.p'))"
   ]
  },
  {
   "cell_type": "code",
   "execution_count": 8,
   "metadata": {
    "ExecuteTime": {
     "end_time": "2020-12-21T05:42:30.334865Z",
     "start_time": "2020-12-21T05:41:57.457424Z"
    }
   },
   "outputs": [],
   "source": [
    "ukb_tp0=pd.read_pickle('%s%s' % (path,'ukb_tp0.p'))"
   ]
  },
  {
   "cell_type": "code",
   "execution_count": 9,
   "metadata": {
    "ExecuteTime": {
     "end_time": "2020-12-21T05:42:43.831878Z",
     "start_time": "2020-12-21T05:42:30.336793Z"
    }
   },
   "outputs": [],
   "source": [
    "ukb_tp0_geno=ukb_tp0[['eid','Genotype']]\n",
    "ukb_tp0_geno['APOE4s']=0\n",
    "APOE_mask=(ukb_tp0_geno['Genotype']==\"e3/e4\")|(ukb_tp0_geno['Genotype']==\"e4/e4\")\n",
    "ukb_tp0_geno['APOE4s'][APOE_mask]=1"
   ]
  },
  {
   "cell_type": "code",
   "execution_count": 127,
   "metadata": {
    "ExecuteTime": {
     "end_time": "2021-01-30T03:47:26.022305Z",
     "start_time": "2021-01-30T03:06:29.790174Z"
    }
   },
   "outputs": [
    {
     "name": "stdout",
     "output_type": "stream",
     "text": [
      "CPU times: user 38min 22s, sys: 3min 13s, total: 41min 36s\n",
      "Wall time: 40min 56s\n"
     ]
    }
   ],
   "source": [
    "%%time\n",
    "diseases_bin=returndisease(inpatient_update)"
   ]
  },
  {
   "cell_type": "code",
   "execution_count": 109,
   "metadata": {
    "ExecuteTime": {
     "end_time": "2021-01-30T01:42:07.101574Z",
     "start_time": "2021-01-30T01:39:26.709771Z"
    }
   },
   "outputs": [
    {
     "name": "stdout",
     "output_type": "stream",
     "text": [
      "CPU times: user 2min 36s, sys: 12.1 s, total: 2min 48s\n",
      "Wall time: 2min 40s\n"
     ]
    }
   ],
   "source": [
    "%%time\n",
    "diseases_bin_check=returndisease(inpatient_update.sample(20000))"
   ]
  },
  {
   "cell_type": "code",
   "execution_count": 111,
   "metadata": {
    "ExecuteTime": {
     "end_time": "2021-01-30T02:51:17.493701Z",
     "start_time": "2021-01-30T02:51:17.484267Z"
    }
   },
   "outputs": [
    {
     "data": {
      "text/plain": [
       "0"
      ]
     },
     "execution_count": 111,
     "metadata": {},
     "output_type": "execute_result"
    }
   ],
   "source": [
    "diseases_bin_check['REM_DIS'].sum()"
   ]
  },
  {
   "cell_type": "code",
   "execution_count": 16,
   "metadata": {
    "ExecuteTime": {
     "end_time": "2020-12-21T06:47:58.380685Z",
     "start_time": "2020-12-21T06:47:57.532490Z"
    }
   },
   "outputs": [],
   "source": [
    "diseases_bin=pd.merge(diseases_bin,death_codes,left_on='n_eid',right_on='eid',how='left')"
   ]
  },
  {
   "cell_type": "code",
   "execution_count": 17,
   "metadata": {
    "ExecuteTime": {
     "end_time": "2020-12-21T06:47:59.112274Z",
     "start_time": "2020-12-21T06:47:58.382762Z"
    }
   },
   "outputs": [],
   "source": [
    "diseases_bin=pd.merge(diseases_bin,ukb_tp0_geno[['eid','APOE4s']],left_on='n_eid',right_on='eid')\n",
    "APOEADmask=(diseases_bin['AD']==1)&(diseases_bin['APOE4s']==1)\n",
    "diseases_bin['APOE_AD']=0\n",
    "diseases_bin['APOE_AD'][APOEADmask]=1\n",
    "diseases_bin['eid']=diseases_bin['n_eid']"
   ]
  },
  {
   "cell_type": "code",
   "execution_count": 18,
   "metadata": {
    "ExecuteTime": {
     "end_time": "2020-12-21T06:47:59.120526Z",
     "start_time": "2020-12-21T06:47:59.114230Z"
    }
   },
   "outputs": [],
   "source": [
    "def dis_before(var,days=100,df=diseases_bin):\n",
    "    df['timebeforeAD'+var]=0\n",
    "    mask1=(df['AD']==1)&(df[var]==1)\n",
    "    df['timebeforeAD'+var][mask1]=\\\n",
    "    (pd.to_datetime(df['Diag_Date_AD'][mask1])-\\\n",
    "     pd.to_datetime(df['Diag_Date_'+var][mask1])).dt.days\n",
    "    \n",
    "    df[var+'_bef']=0\n",
    "    df[var+'_bef'][(df['timebeforeAD'+var]<days)&(df[var]==1)]=1\n",
    "    #print(var+df[var+'_bef'].value_counts())\n",
    "    return df    "
   ]
  },
  {
   "cell_type": "code",
   "execution_count": 19,
   "metadata": {
    "ExecuteTime": {
     "end_time": "2020-12-21T06:47:59.892466Z",
     "start_time": "2020-12-21T06:47:59.122201Z"
    }
   },
   "outputs": [],
   "source": [
    "diseases_bin=dis_before('CERVASCALL',100,df=diseases_bin)\n",
    "diseases_bin=dis_before('STROKE',100,df=diseases_bin)\n",
    "diseases_bin=dis_before('EPIL',100,df=diseases_bin)\n",
    "diseases_bin=dis_before('DIAB',100,df=diseases_bin)\n",
    "diseases_bin=dis_before('CELIAC',100,df=diseases_bin)\n",
    "diseases_bin=dis_before('CERVASC',100,df=diseases_bin)"
   ]
  },
  {
   "cell_type": "code",
   "execution_count": 36,
   "metadata": {
    "ExecuteTime": {
     "end_time": "2020-12-21T08:56:04.706580Z",
     "start_time": "2020-12-21T08:56:04.589058Z"
    }
   },
   "outputs": [],
   "source": [
    "diseases_bin['Age_Today']=diseases_bin['age_when_attended_assessment_centre_f21003']+\\\n",
    "(dt.datetime(2021, 1, 1)-pd.to_datetime(diseases_bin['date_of_attending_assessment_centre_f53'])).dt.days/365"
   ]
  },
  {
   "cell_type": "code",
   "execution_count": null,
   "metadata": {},
   "outputs": [],
   "source": []
  },
  {
   "cell_type": "code",
   "execution_count": 43,
   "metadata": {
    "ExecuteTime": {
     "end_time": "2020-12-21T09:07:03.145451Z",
     "start_time": "2020-12-21T09:07:02.811680Z"
    }
   },
   "outputs": [],
   "source": [
    "mask_AD_date=((pd.to_datetime(diseases_bin['Diag_Date_AD'])-\\\n",
    "pd.to_datetime(diseases_bin['date_of_attending_assessment_centre_f53'])).dt.days/365>=2)|(diseases_bin['AD']==0)\n",
    "diseases_bin=diseases_bin[mask_AD_date]"
   ]
  },
  {
   "cell_type": "code",
   "execution_count": 37,
   "metadata": {
    "ExecuteTime": {
     "end_time": "2020-12-21T08:56:06.412244Z",
     "start_time": "2020-12-21T08:56:05.365532Z"
    }
   },
   "outputs": [],
   "source": [
    "diseases_bin.to_pickle('%s%s' % (path,'ukb_disease_labels.p'))"
   ]
  },
  {
   "cell_type": "code",
   "execution_count": 52,
   "metadata": {
    "ExecuteTime": {
     "end_time": "2020-12-21T09:13:31.660944Z",
     "start_time": "2020-12-21T09:13:31.650968Z"
    }
   },
   "outputs": [
    {
     "data": {
      "text/plain": [
       "2147"
      ]
     },
     "execution_count": 52,
     "metadata": {},
     "output_type": "execute_result"
    }
   ],
   "source": [
    "diseases_bin['AD'].sum()"
   ]
  },
  {
   "cell_type": "code",
   "execution_count": 58,
   "metadata": {
    "ExecuteTime": {
     "end_time": "2020-12-21T09:15:21.037838Z",
     "start_time": "2020-12-21T09:15:21.021515Z"
    }
   },
   "outputs": [
    {
     "data": {
      "text/plain": [
       "1567"
      ]
     },
     "execution_count": 58,
     "metadata": {},
     "output_type": "execute_result"
    }
   ],
   "source": [
    "diseases_bin['AD'][(diseases_bin['Age_Today']>=75)].sum()"
   ]
  },
  {
   "cell_type": "code",
   "execution_count": null,
   "metadata": {},
   "outputs": [],
   "source": []
  }
 ],
 "metadata": {
  "kernelspec": {
   "display_name": "Python 3",
   "language": "python",
   "name": "python3"
  },
  "language_info": {
   "codemirror_mode": {
    "name": "ipython",
    "version": 3
   },
   "file_extension": ".py",
   "mimetype": "text/x-python",
   "name": "python",
   "nbconvert_exporter": "python",
   "pygments_lexer": "ipython3",
   "version": "3.7.6"
  },
  "toc": {
   "base_numbering": 1,
   "nav_menu": {},
   "number_sections": false,
   "sideBar": true,
   "skip_h1_title": false,
   "title_cell": "Table of Contents",
   "title_sidebar": "Contents",
   "toc_cell": false,
   "toc_position": {},
   "toc_section_display": true,
   "toc_window_display": false
  }
 },
 "nbformat": 4,
 "nbformat_minor": 2
}
