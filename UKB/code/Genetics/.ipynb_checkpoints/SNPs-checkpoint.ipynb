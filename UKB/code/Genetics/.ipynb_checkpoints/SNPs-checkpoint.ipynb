{
 "cells": [
  {
   "cell_type": "code",
   "execution_count": 29,
   "metadata": {
    "ExecuteTime": {
     "end_time": "2021-03-10T01:37:33.890957Z",
     "start_time": "2021-03-10T01:37:33.877793Z"
    }
   },
   "outputs": [],
   "source": [
    "import pandas as pd\n",
    "import numpy as np\n",
    "import re\n",
    "import warnings\n",
    "warnings.filterwarnings('ignore')\n",
    "path='../../../../ukb/data/Genetic/'\n",
    "\n",
    "import matplotlib.pyplot as plt\n",
    "import seaborn as sns\n",
    "import datetime as dt\n",
    "\n",
    "from OSGridConverter import grid2latlong\n",
    "\n",
    "'''\n",
    "Helper function to find out columns containing specific text\n",
    "'''\n",
    "def findcols(df,text):\n",
    "    return [col for col in df.columns if text in col]"
   ]
  },
  {
   "cell_type": "code",
   "execution_count": 48,
   "metadata": {
    "ExecuteTime": {
     "end_time": "2021-03-10T03:42:47.671731Z",
     "start_time": "2021-03-10T03:42:47.665046Z"
    }
   },
   "outputs": [
    {
     "data": {
      "text/plain": [
       "['PDoutput_chrom10.csv',\n",
       " 'PDoutput_chrom3.ukb49777_cal_chr3_v2_s488264',\n",
       " 'PDoutput_chrom12.csv',\n",
       " 'PDoutput_chrom11.csv',\n",
       " 'PDoutput_chrom3.csv',\n",
       " 'PDoutput_chrom13.csv',\n",
       " 'AD_sumstats_Jansenetal_2019sept.txt',\n",
       " 'PDoutput_chrom2.csv',\n",
       " 'chrom4snpexample.csv',\n",
       " 'PDoutput_chrom8.csv',\n",
       " 'PDoutput_chrom6.csv',\n",
       " 'PDoutput_chrom16.csv',\n",
       " 'PDoutput_chrom4.csv',\n",
       " 'PDoutput_chrom14.csv',\n",
       " 'PDoutput_chrom1.csv']"
      ]
     },
     "execution_count": 48,
     "metadata": {},
     "output_type": "execute_result"
    }
   ],
   "source": [
    "import os\n",
    "os.listdir(path)"
   ]
  },
  {
   "cell_type": "code",
   "execution_count": 66,
   "metadata": {
    "ExecuteTime": {
     "end_time": "2021-03-10T04:02:53.405410Z",
     "start_time": "2021-03-10T04:02:53.392317Z"
    }
   },
   "outputs": [],
   "source": [
    "SNPlookup=pd.read_csv('%s%s' % (path,'SNPlookupfileUKB.csv'))"
   ]
  },
  {
   "cell_type": "code",
   "execution_count": 73,
   "metadata": {
    "ExecuteTime": {
     "end_time": "2021-03-10T04:05:03.225617Z",
     "start_time": "2021-03-10T04:05:03.211949Z"
    }
   },
   "outputs": [
    {
     "data": {
      "text/plain": [
       "array(['eid', 'rs35749011', 'rs823118'], dtype='<U10')"
      ]
     },
     "execution_count": 73,
     "metadata": {},
     "output_type": "execute_result"
    }
   ],
   "source": [
    "SNPlookup\n",
    "mask_chrom=(SNPlookup['Chromosome']==1)\n",
    "np.append('eid',[x for x in SNPlookup[mask_chrom]['Risk Variant']])"
   ]
  },
  {
   "cell_type": "code",
   "execution_count": 110,
   "metadata": {
    "ExecuteTime": {
     "end_time": "2021-03-10T04:26:42.530521Z",
     "start_time": "2021-03-10T04:26:42.520794Z"
    }
   },
   "outputs": [],
   "source": [
    "def colrename(file,chrom=1):\n",
    "    mask_chrom=(SNPlookup['Chromosome']==chrom)\n",
    "    if file.shape[1]-6!=SNPlookup[mask_chrom].shape[0]:\n",
    "        print(str(chrom)+\" fail\")\n",
    "    else:\n",
    "        print(str(chrom)+\" success\")\n",
    "        df_out=file[[m for m in range(file.shape[1]) if m==1 or m>5]]\n",
    "        df_out.columns=np.append('eid',[x for x in SNPlookup[mask_chrom]['Risk Variant']])\n",
    "        \n",
    "        return df_out\n",
    "    "
   ]
  },
  {
   "cell_type": "code",
   "execution_count": 107,
   "metadata": {
    "ExecuteTime": {
     "end_time": "2021-03-10T04:26:21.101903Z",
     "start_time": "2021-03-10T04:26:20.922326Z"
    }
   },
   "outputs": [
    {
     "name": "stdout",
     "output_type": "stream",
     "text": [
      "1 fail\n",
      "2 fail\n",
      "3 success\n",
      "4 success\n",
      "6 fail\n",
      "8 success\n",
      "10 success\n",
      "11 success\n",
      "12 success\n",
      "13 success\n",
      "14 success\n",
      "16 success\n"
     ]
    }
   ],
   "source": [
    "colrename(chrom1,1)\n",
    "colrename(chrom2,2)\n",
    "colrename(chrom3,3)\n",
    "colrename(chrom4,4)\n",
    "colrename(chrom6,6)\n",
    "colrename(chrom8,8)\n",
    "colrename(chrom10,10)\n",
    "colrename(chrom11,11)\n",
    "colrename(chrom12,12)\n",
    "colrename(chrom13,13)\n",
    "colrename(chrom14,14)\n",
    "colrename(chrom16,16)"
   ]
  },
  {
   "cell_type": "code",
   "execution_count": 111,
   "metadata": {
    "ExecuteTime": {
     "end_time": "2021-03-10T04:26:45.730698Z",
     "start_time": "2021-03-10T04:26:45.712401Z"
    }
   },
   "outputs": [
    {
     "name": "stdout",
     "output_type": "stream",
     "text": [
      "16 success\n"
     ]
    }
   ],
   "source": [
    "dfcheck=colrename(chrom16,16)"
   ]
  },
  {
   "cell_type": "code",
   "execution_count": 112,
   "metadata": {
    "ExecuteTime": {
     "end_time": "2021-03-10T04:26:49.957715Z",
     "start_time": "2021-03-10T04:26:49.940662Z"
    }
   },
   "outputs": [
    {
     "data": {
      "text/html": [
       "<div>\n",
       "<style scoped>\n",
       "    .dataframe tbody tr th:only-of-type {\n",
       "        vertical-align: middle;\n",
       "    }\n",
       "\n",
       "    .dataframe tbody tr th {\n",
       "        vertical-align: top;\n",
       "    }\n",
       "\n",
       "    .dataframe thead th {\n",
       "        text-align: right;\n",
       "    }\n",
       "</style>\n",
       "<table border=\"1\" class=\"dataframe\">\n",
       "  <thead>\n",
       "    <tr style=\"text-align: right;\">\n",
       "      <th></th>\n",
       "      <th>eid</th>\n",
       "      <th>rs2904880</th>\n",
       "    </tr>\n",
       "  </thead>\n",
       "  <tbody>\n",
       "    <tr>\n",
       "      <th>0</th>\n",
       "      <td>1403239</td>\n",
       "      <td>C G</td>\n",
       "    </tr>\n",
       "    <tr>\n",
       "      <th>1</th>\n",
       "      <td>5878175</td>\n",
       "      <td>C G</td>\n",
       "    </tr>\n",
       "    <tr>\n",
       "      <th>2</th>\n",
       "      <td>3424148</td>\n",
       "      <td>C G</td>\n",
       "    </tr>\n",
       "    <tr>\n",
       "      <th>3</th>\n",
       "      <td>1877932</td>\n",
       "      <td>G G</td>\n",
       "    </tr>\n",
       "    <tr>\n",
       "      <th>4</th>\n",
       "      <td>4612594</td>\n",
       "      <td>C G</td>\n",
       "    </tr>\n",
       "    <tr>\n",
       "      <th>...</th>\n",
       "      <td>...</td>\n",
       "      <td>...</td>\n",
       "    </tr>\n",
       "    <tr>\n",
       "      <th>488372</th>\n",
       "      <td>5831674</td>\n",
       "      <td>G G</td>\n",
       "    </tr>\n",
       "    <tr>\n",
       "      <th>488373</th>\n",
       "      <td>1218831</td>\n",
       "      <td>C G</td>\n",
       "    </tr>\n",
       "    <tr>\n",
       "      <th>488374</th>\n",
       "      <td>1056269</td>\n",
       "      <td>C G</td>\n",
       "    </tr>\n",
       "    <tr>\n",
       "      <th>488375</th>\n",
       "      <td>3806522</td>\n",
       "      <td>G G</td>\n",
       "    </tr>\n",
       "    <tr>\n",
       "      <th>488376</th>\n",
       "      <td>5875788</td>\n",
       "      <td>C G</td>\n",
       "    </tr>\n",
       "  </tbody>\n",
       "</table>\n",
       "<p>488377 rows × 2 columns</p>\n",
       "</div>"
      ],
      "text/plain": [
       "            eid rs2904880\n",
       "0       1403239       C G\n",
       "1       5878175       C G\n",
       "2       3424148       C G\n",
       "3       1877932       G G\n",
       "4       4612594       C G\n",
       "...         ...       ...\n",
       "488372  5831674       G G\n",
       "488373  1218831       C G\n",
       "488374  1056269       C G\n",
       "488375  3806522       G G\n",
       "488376  5875788       C G\n",
       "\n",
       "[488377 rows x 2 columns]"
      ]
     },
     "execution_count": 112,
     "metadata": {},
     "output_type": "execute_result"
    }
   ],
   "source": [
    "dfcheck"
   ]
  },
  {
   "cell_type": "code",
   "execution_count": 90,
   "metadata": {
    "ExecuteTime": {
     "end_time": "2021-03-10T04:16:06.590937Z",
     "start_time": "2021-03-10T04:16:06.578869Z"
    }
   },
   "outputs": [
    {
     "data": {
      "text/plain": [
       "Chromosome\n",
       "1     2\n",
       "2     2\n",
       "3     2\n",
       "4     6\n",
       "6     3\n",
       "8     2\n",
       "10    2\n",
       "11    1\n",
       "12    4\n",
       "13    1\n",
       "14    2\n",
       "16    1\n",
       "17    2\n",
       "dtype: int64"
      ]
     },
     "execution_count": 90,
     "metadata": {},
     "output_type": "execute_result"
    }
   ],
   "source": [
    "SNPlookup.groupby('Chromosome').size()"
   ]
  },
  {
   "cell_type": "code",
   "execution_count": 77,
   "metadata": {
    "ExecuteTime": {
     "end_time": "2021-03-10T04:05:49.054548Z",
     "start_time": "2021-03-10T04:05:46.431260Z"
    }
   },
   "outputs": [],
   "source": [
    "chrom1=pd.read_csv('%s%s' % (path,'PDoutput_chrom1.csv'),sep='\\t',header=None)\n",
    "chrom2=pd.read_csv('%s%s' % (path,'PDoutput_chrom2.csv'),sep='\\t',header=None)\n",
    "chrom3=pd.read_csv('%s%s' % (path,'PDoutput_chrom3.csv'),sep='\\t',header=None)\n",
    "chrom4=pd.read_csv('%s%s' % (path,'PDoutput_chrom4.csv'),sep='\\t',header=None)\n",
    "chrom6=pd.read_csv('%s%s' % (path,'PDoutput_chrom6.csv'),sep='\\t',header=None)\n",
    "chrom8=pd.read_csv('%s%s' % (path,'PDoutput_chrom8.csv'),sep='\\t',header=None)\n",
    "chrom10=pd.read_csv('%s%s' % (path,'PDoutput_chrom10.csv'),sep='\\t',header=None)\n",
    "chrom11=pd.read_csv('%s%s' % (path,'PDoutput_chrom11.csv'),sep='\\t',header=None)\n",
    "chrom12=pd.read_csv('%s%s' % (path,'PDoutput_chrom12.csv'),sep='\\t',header=None)\n",
    "chrom13=pd.read_csv('%s%s' % (path,'PDoutput_chrom13.csv'),sep='\\t',header=None)\n",
    "chrom14=pd.read_csv('%s%s' % (path,'PDoutput_chrom14.csv'),sep='\\t',header=None)\n",
    "chrom16=pd.read_csv('%s%s' % (path,'PDoutput_chrom16.csv'),sep='\\t',header=None)\n"
   ]
  },
  {
   "cell_type": "code",
   "execution_count": 92,
   "metadata": {
    "ExecuteTime": {
     "end_time": "2021-03-10T04:17:15.769973Z",
     "start_time": "2021-03-10T04:17:15.762289Z"
    }
   },
   "outputs": [],
   "source": [
    "files=[chrom1,chrom2,chrom3,chrom4,chrom6,chrom8,chrom10,chrom11,chrom12,chrom13,chrom14,chrom16]"
   ]
  },
  {
   "cell_type": "code",
   "execution_count": 95,
   "metadata": {
    "ExecuteTime": {
     "end_time": "2021-03-10T04:17:41.602928Z",
     "start_time": "2021-03-10T04:17:41.596398Z"
    }
   },
   "outputs": [
    {
     "name": "stdout",
     "output_type": "stream",
     "text": [
      "1\n",
      "1\n",
      "2\n",
      "6\n",
      "2\n",
      "2\n",
      "2\n",
      "1\n",
      "4\n",
      "1\n",
      "2\n",
      "1\n"
     ]
    }
   ],
   "source": [
    "for f in files:\n",
    "    print(f.shape[1]-6)"
   ]
  },
  {
   "cell_type": "code",
   "execution_count": 85,
   "metadata": {
    "ExecuteTime": {
     "end_time": "2021-03-10T04:13:23.452919Z",
     "start_time": "2021-03-10T04:13:23.241321Z"
    }
   },
   "outputs": [
    {
     "data": {
      "text/html": [
       "<div>\n",
       "<style scoped>\n",
       "    .dataframe tbody tr th:only-of-type {\n",
       "        vertical-align: middle;\n",
       "    }\n",
       "\n",
       "    .dataframe tbody tr th {\n",
       "        vertical-align: top;\n",
       "    }\n",
       "\n",
       "    .dataframe thead th {\n",
       "        text-align: right;\n",
       "    }\n",
       "</style>\n",
       "<table border=\"1\" class=\"dataframe\">\n",
       "  <thead>\n",
       "    <tr style=\"text-align: right;\">\n",
       "      <th></th>\n",
       "      <th>0</th>\n",
       "      <th>1</th>\n",
       "      <th>2</th>\n",
       "      <th>3</th>\n",
       "      <th>4</th>\n",
       "      <th>5</th>\n",
       "      <th>6</th>\n",
       "    </tr>\n",
       "  </thead>\n",
       "  <tbody>\n",
       "    <tr>\n",
       "      <th>0</th>\n",
       "      <td>1403239</td>\n",
       "      <td>1403239</td>\n",
       "      <td>0</td>\n",
       "      <td>0</td>\n",
       "      <td>1</td>\n",
       "      <td>-9</td>\n",
       "      <td>C C</td>\n",
       "    </tr>\n",
       "    <tr>\n",
       "      <th>1</th>\n",
       "      <td>5878175</td>\n",
       "      <td>5878175</td>\n",
       "      <td>0</td>\n",
       "      <td>0</td>\n",
       "      <td>2</td>\n",
       "      <td>-9</td>\n",
       "      <td>C C</td>\n",
       "    </tr>\n",
       "    <tr>\n",
       "      <th>2</th>\n",
       "      <td>3424148</td>\n",
       "      <td>3424148</td>\n",
       "      <td>0</td>\n",
       "      <td>0</td>\n",
       "      <td>2</td>\n",
       "      <td>-9</td>\n",
       "      <td>C T</td>\n",
       "    </tr>\n",
       "    <tr>\n",
       "      <th>3</th>\n",
       "      <td>1877932</td>\n",
       "      <td>1877932</td>\n",
       "      <td>0</td>\n",
       "      <td>0</td>\n",
       "      <td>2</td>\n",
       "      <td>-9</td>\n",
       "      <td>C T</td>\n",
       "    </tr>\n",
       "    <tr>\n",
       "      <th>4</th>\n",
       "      <td>4612594</td>\n",
       "      <td>4612594</td>\n",
       "      <td>0</td>\n",
       "      <td>0</td>\n",
       "      <td>2</td>\n",
       "      <td>-9</td>\n",
       "      <td>T T</td>\n",
       "    </tr>\n",
       "    <tr>\n",
       "      <th>...</th>\n",
       "      <td>...</td>\n",
       "      <td>...</td>\n",
       "      <td>...</td>\n",
       "      <td>...</td>\n",
       "      <td>...</td>\n",
       "      <td>...</td>\n",
       "      <td>...</td>\n",
       "    </tr>\n",
       "    <tr>\n",
       "      <th>488372</th>\n",
       "      <td>5831674</td>\n",
       "      <td>5831674</td>\n",
       "      <td>0</td>\n",
       "      <td>0</td>\n",
       "      <td>2</td>\n",
       "      <td>-9</td>\n",
       "      <td>0 0</td>\n",
       "    </tr>\n",
       "    <tr>\n",
       "      <th>488373</th>\n",
       "      <td>1218831</td>\n",
       "      <td>1218831</td>\n",
       "      <td>0</td>\n",
       "      <td>0</td>\n",
       "      <td>2</td>\n",
       "      <td>-9</td>\n",
       "      <td>0 0</td>\n",
       "    </tr>\n",
       "    <tr>\n",
       "      <th>488374</th>\n",
       "      <td>1056269</td>\n",
       "      <td>1056269</td>\n",
       "      <td>0</td>\n",
       "      <td>0</td>\n",
       "      <td>1</td>\n",
       "      <td>-9</td>\n",
       "      <td>0 0</td>\n",
       "    </tr>\n",
       "    <tr>\n",
       "      <th>488375</th>\n",
       "      <td>3806522</td>\n",
       "      <td>3806522</td>\n",
       "      <td>0</td>\n",
       "      <td>0</td>\n",
       "      <td>2</td>\n",
       "      <td>-9</td>\n",
       "      <td>0 0</td>\n",
       "    </tr>\n",
       "    <tr>\n",
       "      <th>488376</th>\n",
       "      <td>5875788</td>\n",
       "      <td>5875788</td>\n",
       "      <td>0</td>\n",
       "      <td>0</td>\n",
       "      <td>1</td>\n",
       "      <td>-9</td>\n",
       "      <td>0 0</td>\n",
       "    </tr>\n",
       "  </tbody>\n",
       "</table>\n",
       "<p>488377 rows × 7 columns</p>\n",
       "</div>"
      ],
      "text/plain": [
       "              0        1  2  3  4  5    6\n",
       "0       1403239  1403239  0  0  1 -9  C C\n",
       "1       5878175  5878175  0  0  2 -9  C C\n",
       "2       3424148  3424148  0  0  2 -9  C T\n",
       "3       1877932  1877932  0  0  2 -9  C T\n",
       "4       4612594  4612594  0  0  2 -9  T T\n",
       "...         ...      ... .. .. .. ..  ...\n",
       "488372  5831674  5831674  0  0  2 -9  0 0\n",
       "488373  1218831  1218831  0  0  2 -9  0 0\n",
       "488374  1056269  1056269  0  0  1 -9  0 0\n",
       "488375  3806522  3806522  0  0  2 -9  0 0\n",
       "488376  5875788  5875788  0  0  1 -9  0 0\n",
       "\n",
       "[488377 rows x 7 columns]"
      ]
     },
     "execution_count": 85,
     "metadata": {},
     "output_type": "execute_result"
    }
   ],
   "source": [
    "chrom1=pd.read_csv('%s%s' % (path,'PDoutput_chrom1.csv'),sep='\\t',header=None)\n",
    "\n",
    "chrom1"
   ]
  },
  {
   "cell_type": "code",
   "execution_count": 105,
   "metadata": {
    "ExecuteTime": {
     "end_time": "2021-03-10T04:25:29.542468Z",
     "start_time": "2021-03-10T04:25:29.519217Z"
    }
   },
   "outputs": [
    {
     "data": {
      "text/html": [
       "<div>\n",
       "<style scoped>\n",
       "    .dataframe tbody tr th:only-of-type {\n",
       "        vertical-align: middle;\n",
       "    }\n",
       "\n",
       "    .dataframe tbody tr th {\n",
       "        vertical-align: top;\n",
       "    }\n",
       "\n",
       "    .dataframe thead th {\n",
       "        text-align: right;\n",
       "    }\n",
       "</style>\n",
       "<table border=\"1\" class=\"dataframe\">\n",
       "  <thead>\n",
       "    <tr style=\"text-align: right;\">\n",
       "      <th></th>\n",
       "      <th>1</th>\n",
       "      <th>6</th>\n",
       "    </tr>\n",
       "  </thead>\n",
       "  <tbody>\n",
       "    <tr>\n",
       "      <th>0</th>\n",
       "      <td>1403239</td>\n",
       "      <td>A A</td>\n",
       "    </tr>\n",
       "    <tr>\n",
       "      <th>1</th>\n",
       "      <td>5878175</td>\n",
       "      <td>A A</td>\n",
       "    </tr>\n",
       "    <tr>\n",
       "      <th>2</th>\n",
       "      <td>3424148</td>\n",
       "      <td>G A</td>\n",
       "    </tr>\n",
       "    <tr>\n",
       "      <th>3</th>\n",
       "      <td>1877932</td>\n",
       "      <td>A A</td>\n",
       "    </tr>\n",
       "    <tr>\n",
       "      <th>4</th>\n",
       "      <td>4612594</td>\n",
       "      <td>A A</td>\n",
       "    </tr>\n",
       "    <tr>\n",
       "      <th>...</th>\n",
       "      <td>...</td>\n",
       "      <td>...</td>\n",
       "    </tr>\n",
       "    <tr>\n",
       "      <th>488372</th>\n",
       "      <td>5831674</td>\n",
       "      <td>A A</td>\n",
       "    </tr>\n",
       "    <tr>\n",
       "      <th>488373</th>\n",
       "      <td>1218831</td>\n",
       "      <td>A A</td>\n",
       "    </tr>\n",
       "    <tr>\n",
       "      <th>488374</th>\n",
       "      <td>1056269</td>\n",
       "      <td>G A</td>\n",
       "    </tr>\n",
       "    <tr>\n",
       "      <th>488375</th>\n",
       "      <td>3806522</td>\n",
       "      <td>A A</td>\n",
       "    </tr>\n",
       "    <tr>\n",
       "      <th>488376</th>\n",
       "      <td>5875788</td>\n",
       "      <td>G A</td>\n",
       "    </tr>\n",
       "  </tbody>\n",
       "</table>\n",
       "<p>488377 rows × 2 columns</p>\n",
       "</div>"
      ],
      "text/plain": [
       "              1    6\n",
       "0       1403239  A A\n",
       "1       5878175  A A\n",
       "2       3424148  G A\n",
       "3       1877932  A A\n",
       "4       4612594  A A\n",
       "...         ...  ...\n",
       "488372  5831674  A A\n",
       "488373  1218831  A A\n",
       "488374  1056269  G A\n",
       "488375  3806522  A A\n",
       "488376  5875788  G A\n",
       "\n",
       "[488377 rows x 2 columns]"
      ]
     },
     "execution_count": 105,
     "metadata": {},
     "output_type": "execute_result"
    }
   ],
   "source": [
    "chrom2[[m for m in range(chrom2.shape[1]) if m==1 or m>5]]"
   ]
  },
  {
   "cell_type": "code",
   "execution_count": 38,
   "metadata": {
    "ExecuteTime": {
     "end_time": "2021-03-10T01:41:24.780172Z",
     "start_time": "2021-03-10T01:41:24.566401Z"
    }
   },
   "outputs": [],
   "source": [
    "chrom3=pd.read_csv('%s%s' % (path,'PDoutput_chrom3.csv'),sep='\\t',header=None)"
   ]
  },
  {
   "cell_type": "code",
   "execution_count": 42,
   "metadata": {
    "ExecuteTime": {
     "end_time": "2021-03-10T01:42:23.002051Z",
     "start_time": "2021-03-10T01:42:22.981976Z"
    }
   },
   "outputs": [],
   "source": [
    "chrom3[[0,6]].columns=['eid','SNP3']"
   ]
  },
  {
   "cell_type": "code",
   "execution_count": 2,
   "metadata": {
    "ExecuteTime": {
     "end_time": "2021-03-08T23:24:50.960316Z",
     "start_time": "2021-03-08T23:24:50.774528Z"
    }
   },
   "outputs": [
    {
     "ename": "FileNotFoundError",
     "evalue": "[Errno 2] File b'../../../../ukb/data/GeneticAD_sumstats_Jansenetal_2019sept.txt' does not exist: b'../../../../ukb/data/GeneticAD_sumstats_Jansenetal_2019sept.txt'",
     "output_type": "error",
     "traceback": [
      "\u001b[0;31m---------------------------------------------------------------------------\u001b[0m",
      "\u001b[0;31mFileNotFoundError\u001b[0m                         Traceback (most recent call last)",
      "\u001b[0;32m<ipython-input-2-48592eac0489>\u001b[0m in \u001b[0;36m<module>\u001b[0;34m\u001b[0m\n\u001b[0;32m----> 1\u001b[0;31m \u001b[0mpd\u001b[0m\u001b[0;34m.\u001b[0m\u001b[0mread_csv\u001b[0m\u001b[0;34m(\u001b[0m\u001b[0;34m'%s%s'\u001b[0m \u001b[0;34m%\u001b[0m \u001b[0;34m(\u001b[0m\u001b[0mpath\u001b[0m\u001b[0;34m,\u001b[0m\u001b[0;34m'AD_sumstats_Jansenetal_2019sept.txt'\u001b[0m\u001b[0;34m)\u001b[0m\u001b[0;34m)\u001b[0m\u001b[0;34m\u001b[0m\u001b[0;34m\u001b[0m\u001b[0m\n\u001b[0m",
      "\u001b[0;32m/opt/conda/lib/python3.7/site-packages/pandas/io/parsers.py\u001b[0m in \u001b[0;36mparser_f\u001b[0;34m(filepath_or_buffer, sep, delimiter, header, names, index_col, usecols, squeeze, prefix, mangle_dupe_cols, dtype, engine, converters, true_values, false_values, skipinitialspace, skiprows, skipfooter, nrows, na_values, keep_default_na, na_filter, verbose, skip_blank_lines, parse_dates, infer_datetime_format, keep_date_col, date_parser, dayfirst, cache_dates, iterator, chunksize, compression, thousands, decimal, lineterminator, quotechar, quoting, doublequote, escapechar, comment, encoding, dialect, error_bad_lines, warn_bad_lines, delim_whitespace, low_memory, memory_map, float_precision)\u001b[0m\n\u001b[1;32m    683\u001b[0m         )\n\u001b[1;32m    684\u001b[0m \u001b[0;34m\u001b[0m\u001b[0m\n\u001b[0;32m--> 685\u001b[0;31m         \u001b[0;32mreturn\u001b[0m \u001b[0m_read\u001b[0m\u001b[0;34m(\u001b[0m\u001b[0mfilepath_or_buffer\u001b[0m\u001b[0;34m,\u001b[0m \u001b[0mkwds\u001b[0m\u001b[0;34m)\u001b[0m\u001b[0;34m\u001b[0m\u001b[0;34m\u001b[0m\u001b[0m\n\u001b[0m\u001b[1;32m    686\u001b[0m \u001b[0;34m\u001b[0m\u001b[0m\n\u001b[1;32m    687\u001b[0m     \u001b[0mparser_f\u001b[0m\u001b[0;34m.\u001b[0m\u001b[0m__name__\u001b[0m \u001b[0;34m=\u001b[0m \u001b[0mname\u001b[0m\u001b[0;34m\u001b[0m\u001b[0;34m\u001b[0m\u001b[0m\n",
      "\u001b[0;32m/opt/conda/lib/python3.7/site-packages/pandas/io/parsers.py\u001b[0m in \u001b[0;36m_read\u001b[0;34m(filepath_or_buffer, kwds)\u001b[0m\n\u001b[1;32m    455\u001b[0m \u001b[0;34m\u001b[0m\u001b[0m\n\u001b[1;32m    456\u001b[0m     \u001b[0;31m# Create the parser.\u001b[0m\u001b[0;34m\u001b[0m\u001b[0;34m\u001b[0m\u001b[0;34m\u001b[0m\u001b[0m\n\u001b[0;32m--> 457\u001b[0;31m     \u001b[0mparser\u001b[0m \u001b[0;34m=\u001b[0m \u001b[0mTextFileReader\u001b[0m\u001b[0;34m(\u001b[0m\u001b[0mfp_or_buf\u001b[0m\u001b[0;34m,\u001b[0m \u001b[0;34m**\u001b[0m\u001b[0mkwds\u001b[0m\u001b[0;34m)\u001b[0m\u001b[0;34m\u001b[0m\u001b[0;34m\u001b[0m\u001b[0m\n\u001b[0m\u001b[1;32m    458\u001b[0m \u001b[0;34m\u001b[0m\u001b[0m\n\u001b[1;32m    459\u001b[0m     \u001b[0;32mif\u001b[0m \u001b[0mchunksize\u001b[0m \u001b[0;32mor\u001b[0m \u001b[0miterator\u001b[0m\u001b[0;34m:\u001b[0m\u001b[0;34m\u001b[0m\u001b[0;34m\u001b[0m\u001b[0m\n",
      "\u001b[0;32m/opt/conda/lib/python3.7/site-packages/pandas/io/parsers.py\u001b[0m in \u001b[0;36m__init__\u001b[0;34m(self, f, engine, **kwds)\u001b[0m\n\u001b[1;32m    893\u001b[0m             \u001b[0mself\u001b[0m\u001b[0;34m.\u001b[0m\u001b[0moptions\u001b[0m\u001b[0;34m[\u001b[0m\u001b[0;34m\"has_index_names\"\u001b[0m\u001b[0;34m]\u001b[0m \u001b[0;34m=\u001b[0m \u001b[0mkwds\u001b[0m\u001b[0;34m[\u001b[0m\u001b[0;34m\"has_index_names\"\u001b[0m\u001b[0;34m]\u001b[0m\u001b[0;34m\u001b[0m\u001b[0;34m\u001b[0m\u001b[0m\n\u001b[1;32m    894\u001b[0m \u001b[0;34m\u001b[0m\u001b[0m\n\u001b[0;32m--> 895\u001b[0;31m         \u001b[0mself\u001b[0m\u001b[0;34m.\u001b[0m\u001b[0m_make_engine\u001b[0m\u001b[0;34m(\u001b[0m\u001b[0mself\u001b[0m\u001b[0;34m.\u001b[0m\u001b[0mengine\u001b[0m\u001b[0;34m)\u001b[0m\u001b[0;34m\u001b[0m\u001b[0;34m\u001b[0m\u001b[0m\n\u001b[0m\u001b[1;32m    896\u001b[0m \u001b[0;34m\u001b[0m\u001b[0m\n\u001b[1;32m    897\u001b[0m     \u001b[0;32mdef\u001b[0m \u001b[0mclose\u001b[0m\u001b[0;34m(\u001b[0m\u001b[0mself\u001b[0m\u001b[0;34m)\u001b[0m\u001b[0;34m:\u001b[0m\u001b[0;34m\u001b[0m\u001b[0;34m\u001b[0m\u001b[0m\n",
      "\u001b[0;32m/opt/conda/lib/python3.7/site-packages/pandas/io/parsers.py\u001b[0m in \u001b[0;36m_make_engine\u001b[0;34m(self, engine)\u001b[0m\n\u001b[1;32m   1133\u001b[0m     \u001b[0;32mdef\u001b[0m \u001b[0m_make_engine\u001b[0m\u001b[0;34m(\u001b[0m\u001b[0mself\u001b[0m\u001b[0;34m,\u001b[0m \u001b[0mengine\u001b[0m\u001b[0;34m=\u001b[0m\u001b[0;34m\"c\"\u001b[0m\u001b[0;34m)\u001b[0m\u001b[0;34m:\u001b[0m\u001b[0;34m\u001b[0m\u001b[0;34m\u001b[0m\u001b[0m\n\u001b[1;32m   1134\u001b[0m         \u001b[0;32mif\u001b[0m \u001b[0mengine\u001b[0m \u001b[0;34m==\u001b[0m \u001b[0;34m\"c\"\u001b[0m\u001b[0;34m:\u001b[0m\u001b[0;34m\u001b[0m\u001b[0;34m\u001b[0m\u001b[0m\n\u001b[0;32m-> 1135\u001b[0;31m             \u001b[0mself\u001b[0m\u001b[0;34m.\u001b[0m\u001b[0m_engine\u001b[0m \u001b[0;34m=\u001b[0m \u001b[0mCParserWrapper\u001b[0m\u001b[0;34m(\u001b[0m\u001b[0mself\u001b[0m\u001b[0;34m.\u001b[0m\u001b[0mf\u001b[0m\u001b[0;34m,\u001b[0m \u001b[0;34m**\u001b[0m\u001b[0mself\u001b[0m\u001b[0;34m.\u001b[0m\u001b[0moptions\u001b[0m\u001b[0;34m)\u001b[0m\u001b[0;34m\u001b[0m\u001b[0;34m\u001b[0m\u001b[0m\n\u001b[0m\u001b[1;32m   1136\u001b[0m         \u001b[0;32melse\u001b[0m\u001b[0;34m:\u001b[0m\u001b[0;34m\u001b[0m\u001b[0;34m\u001b[0m\u001b[0m\n\u001b[1;32m   1137\u001b[0m             \u001b[0;32mif\u001b[0m \u001b[0mengine\u001b[0m \u001b[0;34m==\u001b[0m \u001b[0;34m\"python\"\u001b[0m\u001b[0;34m:\u001b[0m\u001b[0;34m\u001b[0m\u001b[0;34m\u001b[0m\u001b[0m\n",
      "\u001b[0;32m/opt/conda/lib/python3.7/site-packages/pandas/io/parsers.py\u001b[0m in \u001b[0;36m__init__\u001b[0;34m(self, src, **kwds)\u001b[0m\n\u001b[1;32m   1915\u001b[0m         \u001b[0mkwds\u001b[0m\u001b[0;34m[\u001b[0m\u001b[0;34m\"usecols\"\u001b[0m\u001b[0;34m]\u001b[0m \u001b[0;34m=\u001b[0m \u001b[0mself\u001b[0m\u001b[0;34m.\u001b[0m\u001b[0musecols\u001b[0m\u001b[0;34m\u001b[0m\u001b[0;34m\u001b[0m\u001b[0m\n\u001b[1;32m   1916\u001b[0m \u001b[0;34m\u001b[0m\u001b[0m\n\u001b[0;32m-> 1917\u001b[0;31m         \u001b[0mself\u001b[0m\u001b[0;34m.\u001b[0m\u001b[0m_reader\u001b[0m \u001b[0;34m=\u001b[0m \u001b[0mparsers\u001b[0m\u001b[0;34m.\u001b[0m\u001b[0mTextReader\u001b[0m\u001b[0;34m(\u001b[0m\u001b[0msrc\u001b[0m\u001b[0;34m,\u001b[0m \u001b[0;34m**\u001b[0m\u001b[0mkwds\u001b[0m\u001b[0;34m)\u001b[0m\u001b[0;34m\u001b[0m\u001b[0;34m\u001b[0m\u001b[0m\n\u001b[0m\u001b[1;32m   1918\u001b[0m         \u001b[0mself\u001b[0m\u001b[0;34m.\u001b[0m\u001b[0munnamed_cols\u001b[0m \u001b[0;34m=\u001b[0m \u001b[0mself\u001b[0m\u001b[0;34m.\u001b[0m\u001b[0m_reader\u001b[0m\u001b[0;34m.\u001b[0m\u001b[0munnamed_cols\u001b[0m\u001b[0;34m\u001b[0m\u001b[0;34m\u001b[0m\u001b[0m\n\u001b[1;32m   1919\u001b[0m \u001b[0;34m\u001b[0m\u001b[0m\n",
      "\u001b[0;32mpandas/_libs/parsers.pyx\u001b[0m in \u001b[0;36mpandas._libs.parsers.TextReader.__cinit__\u001b[0;34m()\u001b[0m\n",
      "\u001b[0;32mpandas/_libs/parsers.pyx\u001b[0m in \u001b[0;36mpandas._libs.parsers.TextReader._setup_parser_source\u001b[0;34m()\u001b[0m\n",
      "\u001b[0;31mFileNotFoundError\u001b[0m: [Errno 2] File b'../../../../ukb/data/GeneticAD_sumstats_Jansenetal_2019sept.txt' does not exist: b'../../../../ukb/data/GeneticAD_sumstats_Jansenetal_2019sept.txt'"
     ]
    }
   ],
   "source": [
    "pd.read_csv('%s%s' % (path,'AD_sumstats_Jansenetal_2019sept.txt'))"
   ]
  },
  {
   "cell_type": "code",
   "execution_count": 26,
   "metadata": {
    "ExecuteTime": {
     "end_time": "2021-03-08T23:32:19.119119Z",
     "start_time": "2021-03-08T23:32:18.786437Z"
    }
   },
   "outputs": [],
   "source": [
    "df=pd.read_csv('%s%s' % (path,'chrom4snpexample.csv'))"
   ]
  },
  {
   "cell_type": "code",
   "execution_count": 27,
   "metadata": {
    "ExecuteTime": {
     "end_time": "2021-03-08T23:32:19.482182Z",
     "start_time": "2021-03-08T23:32:19.464819Z"
    }
   },
   "outputs": [
    {
     "data": {
      "text/html": [
       "<div>\n",
       "<style scoped>\n",
       "    .dataframe tbody tr th:only-of-type {\n",
       "        vertical-align: middle;\n",
       "    }\n",
       "\n",
       "    .dataframe tbody tr th {\n",
       "        vertical-align: top;\n",
       "    }\n",
       "\n",
       "    .dataframe thead th {\n",
       "        text-align: right;\n",
       "    }\n",
       "</style>\n",
       "<table border=\"1\" class=\"dataframe\">\n",
       "  <thead>\n",
       "    <tr style=\"text-align: right;\">\n",
       "      <th></th>\n",
       "      <th>eid</th>\n",
       "      <th>rs873786</th>\n",
       "      <th>rs34311866</th>\n",
       "      <th>rs4698412</th>\n",
       "      <th>rs6825004</th>\n",
       "      <th>rs13117519</th>\n",
       "      <th>rs62333164</th>\n",
       "    </tr>\n",
       "  </thead>\n",
       "  <tbody>\n",
       "    <tr>\n",
       "      <th>0</th>\n",
       "      <td>1403239</td>\n",
       "      <td>T T</td>\n",
       "      <td>T T</td>\n",
       "      <td>A A</td>\n",
       "      <td>C C</td>\n",
       "      <td>C C</td>\n",
       "      <td>G G</td>\n",
       "    </tr>\n",
       "    <tr>\n",
       "      <th>1</th>\n",
       "      <td>5878175</td>\n",
       "      <td>C C</td>\n",
       "      <td>T T</td>\n",
       "      <td>G G</td>\n",
       "      <td>G C</td>\n",
       "      <td>C C</td>\n",
       "      <td>G G</td>\n",
       "    </tr>\n",
       "    <tr>\n",
       "      <th>2</th>\n",
       "      <td>3424148</td>\n",
       "      <td>T C</td>\n",
       "      <td>T T</td>\n",
       "      <td>A A</td>\n",
       "      <td>G C</td>\n",
       "      <td>C C</td>\n",
       "      <td>A G</td>\n",
       "    </tr>\n",
       "    <tr>\n",
       "      <th>3</th>\n",
       "      <td>1877932</td>\n",
       "      <td>C C</td>\n",
       "      <td>T T</td>\n",
       "      <td>A A</td>\n",
       "      <td>G C</td>\n",
       "      <td>C C</td>\n",
       "      <td>A G</td>\n",
       "    </tr>\n",
       "    <tr>\n",
       "      <th>4</th>\n",
       "      <td>4612594</td>\n",
       "      <td>C C</td>\n",
       "      <td>T T</td>\n",
       "      <td>G A</td>\n",
       "      <td>C C</td>\n",
       "      <td>C C</td>\n",
       "      <td>A G</td>\n",
       "    </tr>\n",
       "  </tbody>\n",
       "</table>\n",
       "</div>"
      ],
      "text/plain": [
       "       eid rs873786 rs34311866 rs4698412 rs6825004 rs13117519 rs62333164\n",
       "0  1403239      T T        T T       A A       C C        C C        G G\n",
       "1  5878175      C C        T T       G G       G C        C C        G G\n",
       "2  3424148      T C        T T       A A       G C        C C        A G\n",
       "3  1877932      C C        T T       A A       G C        C C        A G\n",
       "4  4612594      C C        T T       G A       C C        C C        A G"
      ]
     },
     "execution_count": 27,
     "metadata": {},
     "output_type": "execute_result"
    }
   ],
   "source": [
    "df.head()"
   ]
  },
  {
   "cell_type": "code",
   "execution_count": 28,
   "metadata": {
    "ExecuteTime": {
     "end_time": "2021-03-08T23:32:55.327373Z",
     "start_time": "2021-03-08T23:32:55.016229Z"
    }
   },
   "outputs": [
    {
     "data": {
      "text/html": [
       "<div>\n",
       "<style scoped>\n",
       "    .dataframe tbody tr th:only-of-type {\n",
       "        vertical-align: middle;\n",
       "    }\n",
       "\n",
       "    .dataframe tbody tr th {\n",
       "        vertical-align: top;\n",
       "    }\n",
       "\n",
       "    .dataframe thead th {\n",
       "        text-align: right;\n",
       "    }\n",
       "</style>\n",
       "<table border=\"1\" class=\"dataframe\">\n",
       "  <thead>\n",
       "    <tr style=\"text-align: right;\">\n",
       "      <th></th>\n",
       "      <th>rs873786_0 0</th>\n",
       "      <th>rs873786_C C</th>\n",
       "      <th>rs873786_T C</th>\n",
       "      <th>rs873786_T T</th>\n",
       "      <th>rs34311866_0 0</th>\n",
       "      <th>rs34311866_C C</th>\n",
       "      <th>rs34311866_C T</th>\n",
       "      <th>rs34311866_T T</th>\n",
       "      <th>rs4698412_0 0</th>\n",
       "      <th>rs4698412_A A</th>\n",
       "      <th>...</th>\n",
       "      <th>rs6825004_G C</th>\n",
       "      <th>rs6825004_G G</th>\n",
       "      <th>rs13117519_0 0</th>\n",
       "      <th>rs13117519_C C</th>\n",
       "      <th>rs13117519_T C</th>\n",
       "      <th>rs13117519_T T</th>\n",
       "      <th>rs62333164_0 0</th>\n",
       "      <th>rs62333164_A A</th>\n",
       "      <th>rs62333164_A G</th>\n",
       "      <th>rs62333164_G G</th>\n",
       "    </tr>\n",
       "  </thead>\n",
       "  <tbody>\n",
       "    <tr>\n",
       "      <th>0</th>\n",
       "      <td>0</td>\n",
       "      <td>0</td>\n",
       "      <td>0</td>\n",
       "      <td>1</td>\n",
       "      <td>0</td>\n",
       "      <td>0</td>\n",
       "      <td>0</td>\n",
       "      <td>1</td>\n",
       "      <td>0</td>\n",
       "      <td>1</td>\n",
       "      <td>...</td>\n",
       "      <td>0</td>\n",
       "      <td>0</td>\n",
       "      <td>0</td>\n",
       "      <td>1</td>\n",
       "      <td>0</td>\n",
       "      <td>0</td>\n",
       "      <td>0</td>\n",
       "      <td>0</td>\n",
       "      <td>0</td>\n",
       "      <td>1</td>\n",
       "    </tr>\n",
       "    <tr>\n",
       "      <th>1</th>\n",
       "      <td>0</td>\n",
       "      <td>1</td>\n",
       "      <td>0</td>\n",
       "      <td>0</td>\n",
       "      <td>0</td>\n",
       "      <td>0</td>\n",
       "      <td>0</td>\n",
       "      <td>1</td>\n",
       "      <td>0</td>\n",
       "      <td>0</td>\n",
       "      <td>...</td>\n",
       "      <td>1</td>\n",
       "      <td>0</td>\n",
       "      <td>0</td>\n",
       "      <td>1</td>\n",
       "      <td>0</td>\n",
       "      <td>0</td>\n",
       "      <td>0</td>\n",
       "      <td>0</td>\n",
       "      <td>0</td>\n",
       "      <td>1</td>\n",
       "    </tr>\n",
       "    <tr>\n",
       "      <th>2</th>\n",
       "      <td>0</td>\n",
       "      <td>0</td>\n",
       "      <td>1</td>\n",
       "      <td>0</td>\n",
       "      <td>0</td>\n",
       "      <td>0</td>\n",
       "      <td>0</td>\n",
       "      <td>1</td>\n",
       "      <td>0</td>\n",
       "      <td>1</td>\n",
       "      <td>...</td>\n",
       "      <td>1</td>\n",
       "      <td>0</td>\n",
       "      <td>0</td>\n",
       "      <td>1</td>\n",
       "      <td>0</td>\n",
       "      <td>0</td>\n",
       "      <td>0</td>\n",
       "      <td>0</td>\n",
       "      <td>1</td>\n",
       "      <td>0</td>\n",
       "    </tr>\n",
       "    <tr>\n",
       "      <th>3</th>\n",
       "      <td>0</td>\n",
       "      <td>1</td>\n",
       "      <td>0</td>\n",
       "      <td>0</td>\n",
       "      <td>0</td>\n",
       "      <td>0</td>\n",
       "      <td>0</td>\n",
       "      <td>1</td>\n",
       "      <td>0</td>\n",
       "      <td>1</td>\n",
       "      <td>...</td>\n",
       "      <td>1</td>\n",
       "      <td>0</td>\n",
       "      <td>0</td>\n",
       "      <td>1</td>\n",
       "      <td>0</td>\n",
       "      <td>0</td>\n",
       "      <td>0</td>\n",
       "      <td>0</td>\n",
       "      <td>1</td>\n",
       "      <td>0</td>\n",
       "    </tr>\n",
       "    <tr>\n",
       "      <th>4</th>\n",
       "      <td>0</td>\n",
       "      <td>1</td>\n",
       "      <td>0</td>\n",
       "      <td>0</td>\n",
       "      <td>0</td>\n",
       "      <td>0</td>\n",
       "      <td>0</td>\n",
       "      <td>1</td>\n",
       "      <td>0</td>\n",
       "      <td>0</td>\n",
       "      <td>...</td>\n",
       "      <td>0</td>\n",
       "      <td>0</td>\n",
       "      <td>0</td>\n",
       "      <td>1</td>\n",
       "      <td>0</td>\n",
       "      <td>0</td>\n",
       "      <td>0</td>\n",
       "      <td>0</td>\n",
       "      <td>1</td>\n",
       "      <td>0</td>\n",
       "    </tr>\n",
       "    <tr>\n",
       "      <th>...</th>\n",
       "      <td>...</td>\n",
       "      <td>...</td>\n",
       "      <td>...</td>\n",
       "      <td>...</td>\n",
       "      <td>...</td>\n",
       "      <td>...</td>\n",
       "      <td>...</td>\n",
       "      <td>...</td>\n",
       "      <td>...</td>\n",
       "      <td>...</td>\n",
       "      <td>...</td>\n",
       "      <td>...</td>\n",
       "      <td>...</td>\n",
       "      <td>...</td>\n",
       "      <td>...</td>\n",
       "      <td>...</td>\n",
       "      <td>...</td>\n",
       "      <td>...</td>\n",
       "      <td>...</td>\n",
       "      <td>...</td>\n",
       "      <td>...</td>\n",
       "    </tr>\n",
       "    <tr>\n",
       "      <th>488372</th>\n",
       "      <td>0</td>\n",
       "      <td>1</td>\n",
       "      <td>0</td>\n",
       "      <td>0</td>\n",
       "      <td>0</td>\n",
       "      <td>0</td>\n",
       "      <td>1</td>\n",
       "      <td>0</td>\n",
       "      <td>0</td>\n",
       "      <td>0</td>\n",
       "      <td>...</td>\n",
       "      <td>0</td>\n",
       "      <td>0</td>\n",
       "      <td>0</td>\n",
       "      <td>1</td>\n",
       "      <td>0</td>\n",
       "      <td>0</td>\n",
       "      <td>1</td>\n",
       "      <td>0</td>\n",
       "      <td>0</td>\n",
       "      <td>0</td>\n",
       "    </tr>\n",
       "    <tr>\n",
       "      <th>488373</th>\n",
       "      <td>0</td>\n",
       "      <td>1</td>\n",
       "      <td>0</td>\n",
       "      <td>0</td>\n",
       "      <td>0</td>\n",
       "      <td>0</td>\n",
       "      <td>1</td>\n",
       "      <td>0</td>\n",
       "      <td>0</td>\n",
       "      <td>0</td>\n",
       "      <td>...</td>\n",
       "      <td>0</td>\n",
       "      <td>0</td>\n",
       "      <td>0</td>\n",
       "      <td>1</td>\n",
       "      <td>0</td>\n",
       "      <td>0</td>\n",
       "      <td>1</td>\n",
       "      <td>0</td>\n",
       "      <td>0</td>\n",
       "      <td>0</td>\n",
       "    </tr>\n",
       "    <tr>\n",
       "      <th>488374</th>\n",
       "      <td>0</td>\n",
       "      <td>1</td>\n",
       "      <td>0</td>\n",
       "      <td>0</td>\n",
       "      <td>0</td>\n",
       "      <td>0</td>\n",
       "      <td>1</td>\n",
       "      <td>0</td>\n",
       "      <td>0</td>\n",
       "      <td>0</td>\n",
       "      <td>...</td>\n",
       "      <td>0</td>\n",
       "      <td>0</td>\n",
       "      <td>0</td>\n",
       "      <td>1</td>\n",
       "      <td>0</td>\n",
       "      <td>0</td>\n",
       "      <td>1</td>\n",
       "      <td>0</td>\n",
       "      <td>0</td>\n",
       "      <td>0</td>\n",
       "    </tr>\n",
       "    <tr>\n",
       "      <th>488375</th>\n",
       "      <td>0</td>\n",
       "      <td>1</td>\n",
       "      <td>0</td>\n",
       "      <td>0</td>\n",
       "      <td>0</td>\n",
       "      <td>0</td>\n",
       "      <td>0</td>\n",
       "      <td>1</td>\n",
       "      <td>0</td>\n",
       "      <td>0</td>\n",
       "      <td>...</td>\n",
       "      <td>0</td>\n",
       "      <td>0</td>\n",
       "      <td>0</td>\n",
       "      <td>0</td>\n",
       "      <td>1</td>\n",
       "      <td>0</td>\n",
       "      <td>1</td>\n",
       "      <td>0</td>\n",
       "      <td>0</td>\n",
       "      <td>0</td>\n",
       "    </tr>\n",
       "    <tr>\n",
       "      <th>488376</th>\n",
       "      <td>0</td>\n",
       "      <td>1</td>\n",
       "      <td>0</td>\n",
       "      <td>0</td>\n",
       "      <td>0</td>\n",
       "      <td>0</td>\n",
       "      <td>1</td>\n",
       "      <td>0</td>\n",
       "      <td>0</td>\n",
       "      <td>1</td>\n",
       "      <td>...</td>\n",
       "      <td>0</td>\n",
       "      <td>0</td>\n",
       "      <td>0</td>\n",
       "      <td>1</td>\n",
       "      <td>0</td>\n",
       "      <td>0</td>\n",
       "      <td>1</td>\n",
       "      <td>0</td>\n",
       "      <td>0</td>\n",
       "      <td>0</td>\n",
       "    </tr>\n",
       "  </tbody>\n",
       "</table>\n",
       "<p>488377 rows × 24 columns</p>\n",
       "</div>"
      ],
      "text/plain": [
       "        rs873786_0 0  rs873786_C C  rs873786_T C  rs873786_T T  \\\n",
       "0                  0             0             0             1   \n",
       "1                  0             1             0             0   \n",
       "2                  0             0             1             0   \n",
       "3                  0             1             0             0   \n",
       "4                  0             1             0             0   \n",
       "...              ...           ...           ...           ...   \n",
       "488372             0             1             0             0   \n",
       "488373             0             1             0             0   \n",
       "488374             0             1             0             0   \n",
       "488375             0             1             0             0   \n",
       "488376             0             1             0             0   \n",
       "\n",
       "        rs34311866_0 0  rs34311866_C C  rs34311866_C T  rs34311866_T T  \\\n",
       "0                    0               0               0               1   \n",
       "1                    0               0               0               1   \n",
       "2                    0               0               0               1   \n",
       "3                    0               0               0               1   \n",
       "4                    0               0               0               1   \n",
       "...                ...             ...             ...             ...   \n",
       "488372               0               0               1               0   \n",
       "488373               0               0               1               0   \n",
       "488374               0               0               1               0   \n",
       "488375               0               0               0               1   \n",
       "488376               0               0               1               0   \n",
       "\n",
       "        rs4698412_0 0  rs4698412_A A  ...  rs6825004_G C  rs6825004_G G  \\\n",
       "0                   0              1  ...              0              0   \n",
       "1                   0              0  ...              1              0   \n",
       "2                   0              1  ...              1              0   \n",
       "3                   0              1  ...              1              0   \n",
       "4                   0              0  ...              0              0   \n",
       "...               ...            ...  ...            ...            ...   \n",
       "488372              0              0  ...              0              0   \n",
       "488373              0              0  ...              0              0   \n",
       "488374              0              0  ...              0              0   \n",
       "488375              0              0  ...              0              0   \n",
       "488376              0              1  ...              0              0   \n",
       "\n",
       "        rs13117519_0 0  rs13117519_C C  rs13117519_T C  rs13117519_T T  \\\n",
       "0                    0               1               0               0   \n",
       "1                    0               1               0               0   \n",
       "2                    0               1               0               0   \n",
       "3                    0               1               0               0   \n",
       "4                    0               1               0               0   \n",
       "...                ...             ...             ...             ...   \n",
       "488372               0               1               0               0   \n",
       "488373               0               1               0               0   \n",
       "488374               0               1               0               0   \n",
       "488375               0               0               1               0   \n",
       "488376               0               1               0               0   \n",
       "\n",
       "        rs62333164_0 0  rs62333164_A A  rs62333164_A G  rs62333164_G G  \n",
       "0                    0               0               0               1  \n",
       "1                    0               0               0               1  \n",
       "2                    0               0               1               0  \n",
       "3                    0               0               1               0  \n",
       "4                    0               0               1               0  \n",
       "...                ...             ...             ...             ...  \n",
       "488372               1               0               0               0  \n",
       "488373               1               0               0               0  \n",
       "488374               1               0               0               0  \n",
       "488375               1               0               0               0  \n",
       "488376               1               0               0               0  \n",
       "\n",
       "[488377 rows x 24 columns]"
      ]
     },
     "execution_count": 28,
     "metadata": {},
     "output_type": "execute_result"
    }
   ],
   "source": [
    "ohe_cols=[col for col in df.columns if col!='eid']\n",
    "\n",
    "pd.get_dummies(df[ohe_cols], prefix=ohe_cols)"
   ]
  },
  {
   "cell_type": "code",
   "execution_count": 20,
   "metadata": {
    "ExecuteTime": {
     "end_time": "2021-03-08T23:29:53.465142Z",
     "start_time": "2021-03-08T23:29:53.446631Z"
    }
   },
   "outputs": [],
   "source": [
    "\n",
    "for col in df.columns:\n",
    "    if col!='eid':  \n",
    "        df_out=pd.get_dummies(ohe_cols, prefix=col,columns=ohe_cols)"
   ]
  },
  {
   "cell_type": "code",
   "execution_count": 25,
   "metadata": {
    "ExecuteTime": {
     "end_time": "2021-03-08T23:32:14.618674Z",
     "start_time": "2021-03-08T23:32:14.606788Z"
    }
   },
   "outputs": [
    {
     "data": {
      "text/html": [
       "<div>\n",
       "<style scoped>\n",
       "    .dataframe tbody tr th:only-of-type {\n",
       "        vertical-align: middle;\n",
       "    }\n",
       "\n",
       "    .dataframe tbody tr th {\n",
       "        vertical-align: top;\n",
       "    }\n",
       "\n",
       "    .dataframe thead th {\n",
       "        text-align: right;\n",
       "    }\n",
       "</style>\n",
       "<table border=\"1\" class=\"dataframe\">\n",
       "  <thead>\n",
       "    <tr style=\"text-align: right;\">\n",
       "      <th></th>\n",
       "      <th>A</th>\n",
       "      <th>B</th>\n",
       "      <th>C</th>\n",
       "    </tr>\n",
       "  </thead>\n",
       "  <tbody>\n",
       "    <tr>\n",
       "      <th>0</th>\n",
       "      <td>a</td>\n",
       "      <td>b</td>\n",
       "      <td>1</td>\n",
       "    </tr>\n",
       "    <tr>\n",
       "      <th>1</th>\n",
       "      <td>b</td>\n",
       "      <td>a</td>\n",
       "      <td>2</td>\n",
       "    </tr>\n",
       "    <tr>\n",
       "      <th>2</th>\n",
       "      <td>a</td>\n",
       "      <td>c</td>\n",
       "      <td>3</td>\n",
       "    </tr>\n",
       "  </tbody>\n",
       "</table>\n",
       "</div>"
      ],
      "text/plain": [
       "   A  B  C\n",
       "0  a  b  1\n",
       "1  b  a  2\n",
       "2  a  c  3"
      ]
     },
     "execution_count": 25,
     "metadata": {},
     "output_type": "execute_result"
    }
   ],
   "source": [
    "df"
   ]
  },
  {
   "cell_type": "code",
   "execution_count": 22,
   "metadata": {
    "ExecuteTime": {
     "end_time": "2021-03-08T23:31:16.844581Z",
     "start_time": "2021-03-08T23:31:16.836799Z"
    }
   },
   "outputs": [],
   "source": [
    "df = pd.DataFrame({'A': ['a', 'b', 'a'], 'B': ['b', 'a', 'c'],\n",
    "                   'C': [1, 2, 3]})"
   ]
  },
  {
   "cell_type": "code",
   "execution_count": 24,
   "metadata": {
    "ExecuteTime": {
     "end_time": "2021-03-08T23:31:35.972698Z",
     "start_time": "2021-03-08T23:31:35.958099Z"
    }
   },
   "outputs": [
    {
     "data": {
      "text/html": [
       "<div>\n",
       "<style scoped>\n",
       "    .dataframe tbody tr th:only-of-type {\n",
       "        vertical-align: middle;\n",
       "    }\n",
       "\n",
       "    .dataframe tbody tr th {\n",
       "        vertical-align: top;\n",
       "    }\n",
       "\n",
       "    .dataframe thead th {\n",
       "        text-align: right;\n",
       "    }\n",
       "</style>\n",
       "<table border=\"1\" class=\"dataframe\">\n",
       "  <thead>\n",
       "    <tr style=\"text-align: right;\">\n",
       "      <th></th>\n",
       "      <th>A</th>\n",
       "      <th>B</th>\n",
       "      <th>C</th>\n",
       "    </tr>\n",
       "  </thead>\n",
       "  <tbody>\n",
       "    <tr>\n",
       "      <th>0</th>\n",
       "      <td>a</td>\n",
       "      <td>b</td>\n",
       "      <td>1</td>\n",
       "    </tr>\n",
       "    <tr>\n",
       "      <th>1</th>\n",
       "      <td>b</td>\n",
       "      <td>a</td>\n",
       "      <td>2</td>\n",
       "    </tr>\n",
       "    <tr>\n",
       "      <th>2</th>\n",
       "      <td>a</td>\n",
       "      <td>c</td>\n",
       "      <td>3</td>\n",
       "    </tr>\n",
       "  </tbody>\n",
       "</table>\n",
       "</div>"
      ],
      "text/plain": [
       "   A  B  C\n",
       "0  a  b  1\n",
       "1  b  a  2\n",
       "2  a  c  3"
      ]
     },
     "execution_count": 24,
     "metadata": {},
     "output_type": "execute_result"
    }
   ],
   "source": [
    "df"
   ]
  },
  {
   "cell_type": "code",
   "execution_count": 23,
   "metadata": {
    "ExecuteTime": {
     "end_time": "2021-03-08T23:31:31.051320Z",
     "start_time": "2021-03-08T23:31:31.026362Z"
    }
   },
   "outputs": [
    {
     "data": {
      "text/html": [
       "<div>\n",
       "<style scoped>\n",
       "    .dataframe tbody tr th:only-of-type {\n",
       "        vertical-align: middle;\n",
       "    }\n",
       "\n",
       "    .dataframe tbody tr th {\n",
       "        vertical-align: top;\n",
       "    }\n",
       "\n",
       "    .dataframe thead th {\n",
       "        text-align: right;\n",
       "    }\n",
       "</style>\n",
       "<table border=\"1\" class=\"dataframe\">\n",
       "  <thead>\n",
       "    <tr style=\"text-align: right;\">\n",
       "      <th></th>\n",
       "      <th>C</th>\n",
       "      <th>col1_a</th>\n",
       "      <th>col1_b</th>\n",
       "      <th>col2_a</th>\n",
       "      <th>col2_b</th>\n",
       "      <th>col2_c</th>\n",
       "    </tr>\n",
       "  </thead>\n",
       "  <tbody>\n",
       "    <tr>\n",
       "      <th>0</th>\n",
       "      <td>1</td>\n",
       "      <td>1</td>\n",
       "      <td>0</td>\n",
       "      <td>0</td>\n",
       "      <td>1</td>\n",
       "      <td>0</td>\n",
       "    </tr>\n",
       "    <tr>\n",
       "      <th>1</th>\n",
       "      <td>2</td>\n",
       "      <td>0</td>\n",
       "      <td>1</td>\n",
       "      <td>1</td>\n",
       "      <td>0</td>\n",
       "      <td>0</td>\n",
       "    </tr>\n",
       "    <tr>\n",
       "      <th>2</th>\n",
       "      <td>3</td>\n",
       "      <td>1</td>\n",
       "      <td>0</td>\n",
       "      <td>0</td>\n",
       "      <td>0</td>\n",
       "      <td>1</td>\n",
       "    </tr>\n",
       "  </tbody>\n",
       "</table>\n",
       "</div>"
      ],
      "text/plain": [
       "   C  col1_a  col1_b  col2_a  col2_b  col2_c\n",
       "0  1       1       0       0       1       0\n",
       "1  2       0       1       1       0       0\n",
       "2  3       1       0       0       0       1"
      ]
     },
     "execution_count": 23,
     "metadata": {},
     "output_type": "execute_result"
    }
   ],
   "source": [
    "pd.get_dummies(df, prefix=['col1', 'col2'])"
   ]
  },
  {
   "cell_type": "code",
   "execution_count": 30,
   "metadata": {
    "ExecuteTime": {
     "end_time": "2021-02-25T01:42:46.351966Z",
     "start_time": "2021-02-25T01:42:46.343404Z"
    }
   },
   "outputs": [
    {
     "data": {
      "text/plain": [
       "['AD_sumstats_Jansenetal_2019sept.txt']"
      ]
     },
     "execution_count": 30,
     "metadata": {},
     "output_type": "execute_result"
    }
   ],
   "source": [
    "import os\n",
    "os.listdir(path)"
   ]
  },
  {
   "cell_type": "code",
   "execution_count": 27,
   "metadata": {
    "ExecuteTime": {
     "end_time": "2021-02-25T01:42:36.357175Z",
     "start_time": "2021-02-25T01:42:36.341662Z"
    }
   },
   "outputs": [
    {
     "ename": "FileNotFoundError",
     "evalue": "[Errno 2] No such file or directory: '/../../../../ukb/data/GeneticAD_sumstats_Jansenetal_2019sept.txt'",
     "output_type": "error",
     "traceback": [
      "\u001b[0;31m---------------------------------------------------------------------------\u001b[0m",
      "\u001b[0;31mFileNotFoundError\u001b[0m                         Traceback (most recent call last)",
      "\u001b[0;32m<ipython-input-27-91c797c89b51>\u001b[0m in \u001b[0;36m<module>\u001b[0;34m\u001b[0m\n\u001b[0;32m----> 1\u001b[0;31m \u001b[0mfile\u001b[0m\u001b[0;34m=\u001b[0m\u001b[0mopen\u001b[0m\u001b[0;34m(\u001b[0m\u001b[0;34m'%s%s'\u001b[0m \u001b[0;34m%\u001b[0m \u001b[0;34m(\u001b[0m\u001b[0mpath\u001b[0m\u001b[0;34m,\u001b[0m\u001b[0;34m'AD_sumstats_Jansenetal_2019sept.txt'\u001b[0m\u001b[0;34m)\u001b[0m\u001b[0;34m)\u001b[0m\u001b[0;34m\u001b[0m\u001b[0;34m\u001b[0m\u001b[0m\n\u001b[0m",
      "\u001b[0;31mFileNotFoundError\u001b[0m: [Errno 2] No such file or directory: '/../../../../ukb/data/GeneticAD_sumstats_Jansenetal_2019sept.txt'"
     ]
    }
   ],
   "source": [
    "file=open('%s%s' % (path,'AD_sumstats_Jansenetal_2019sept.txt'))"
   ]
  },
  {
   "cell_type": "code",
   "execution_count": null,
   "metadata": {},
   "outputs": [],
   "source": []
  }
 ],
 "metadata": {
  "kernelspec": {
   "display_name": "Python 3",
   "language": "python",
   "name": "python3"
  },
  "language_info": {
   "codemirror_mode": {
    "name": "ipython",
    "version": 3
   },
   "file_extension": ".py",
   "mimetype": "text/x-python",
   "name": "python",
   "nbconvert_exporter": "python",
   "pygments_lexer": "ipython3",
   "version": "3.7.6"
  },
  "toc": {
   "base_numbering": 1,
   "nav_menu": {},
   "number_sections": false,
   "sideBar": true,
   "skip_h1_title": false,
   "title_cell": "Table of Contents",
   "title_sidebar": "Contents",
   "toc_cell": false,
   "toc_position": {},
   "toc_section_display": true,
   "toc_window_display": false
  }
 },
 "nbformat": 4,
 "nbformat_minor": 2
}
