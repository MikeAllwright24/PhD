{
 "cells": [
  {
   "cell_type": "code",
   "execution_count": 33,
   "metadata": {
    "ExecuteTime": {
     "end_time": "2021-03-05T07:38:43.651637Z",
     "start_time": "2021-03-05T07:38:43.621234Z"
    }
   },
   "outputs": [],
   "source": [
    "import pandas as pd\n",
    "import numpy as np\n",
    "import re\n",
    "import warnings\n",
    "warnings.filterwarnings('ignore')\n",
    "warnings.filterwarnings('ignore')\n",
    "path=\"../../../ukb/data/\"\n",
    "\n",
    "'''\n",
    "Helper function to find out columns containing specific text\n",
    "'''\n",
    "def findcols(df,text):\n",
    "    return [col for col in df.columns if text in col]\n",
    "\n",
    "def combinedata(eids,sets,df1,df2):\n",
    "    df1=df1[(df1['eid'].isin(eids))]\n",
    "    df2=df2[(df2['eid'].isin(eids))]\n",
    "    df_out=pd.merge(df1,df2,on='eid',how='inner')\n",
    "    df_out=pd.merge(df_out,sets[['eid','set']],on='eid',how='left')\n",
    "    return df_out\n",
    "\n",
    "def rebalage(df,min_age=75,max_age=83,disease=\"AD\",diagcutoff=2,sampleratio=1,death='death',agematch=1):\n",
    "    \n",
    "    df['Age_Today']=df['Age_Today'].round()\n",
    "    rule_age=(df['Age_Today']>=min_age)&(df['Age_Today']<=max_age)\n",
    "    rule_dis=(df[disease]==1)\n",
    "    rule_cont=(df[disease]==0)\n",
    "    rule_death=(df[death]!=1)\n",
    "    rule_diag_cut=(df['years_bef_diag'+disease]>diagcutoff)\n",
    "    \n",
    "    rule_nonnull=pd.notnull(df['eid'])\n",
    "    mask_dis=rule_age&rule_dis&rule_diag_cut&rule_nonnull\n",
    "    mask_cont=rule_age&rule_cont&rule_death&rule_nonnull\n",
    "    case=df['eid'][mask_dis]\n",
    "    \n",
    "    if agematch==1:\n",
    "        #find matches by age between disease and control - do we want age today or age attended?\n",
    "        dis_age=pd.DataFrame(df[mask_dis].groupby('Age_Today').size()).reset_index()\n",
    "        dis_age.columns=['Age_Today','age_recs']\n",
    "\n",
    "        cont_age=pd.merge(df[['eid','Age_Today']][mask_cont],dis_age,on='Age_Today',how='inner')\n",
    "        cont_age=pd.DataFrame(cont_age.groupby('Age_Today').\\\n",
    "        apply(lambda x: x['eid'].sample(x['age_recs'].max()*sampleratio,replace=False))).reset_index()\n",
    "        cont_age=pd.merge(cont_age,dis_age,on='Age_Today',how='inner')\n",
    "        \n",
    "        cont_age['set_score']=cont_age.groupby(['Age_Today']).cumcount()/cont_age['age_recs']\n",
    "        cont_age['set']=cont_age['set_score'].apply(np.floor)\n",
    "\n",
    "        cont_age=cont_age[['eid','set']]\n",
    "        control=cont_age['eid']\n",
    "        \n",
    "        \n",
    "    else:\n",
    "        \n",
    "        control=df['eid'][mask_cont]\n",
    "        cont_age=control.copy()\n",
    "        cont_age['set']=1\n",
    "    \n",
    "    \n",
    "    \n",
    "    eids=pd.concat([case,control],axis=0)\n",
    "    \n",
    "    return eids,cont_age\n",
    "\n",
    "\n",
    "disease_vars=['EPIL_bef','DIAB_bef','CERVASC_bef','CERVASCALL_bef','STROKE_bef','AD','EPIL','DIAB','CERVASC',\\\n",
    "              'CELIAC','PD','AUD','eid']"
   ]
  },
  {
   "cell_type": "code",
   "execution_count": 3,
   "metadata": {
    "ExecuteTime": {
     "end_time": "2021-03-05T07:12:58.908088Z",
     "start_time": "2021-03-05T07:12:56.746016Z"
    }
   },
   "outputs": [],
   "source": [
    "ukb_tp0_ohc=pd.read_pickle('%s%s' % (path,'ukb_tp0_ohc.p'))"
   ]
  },
  {
   "cell_type": "code",
   "execution_count": 22,
   "metadata": {
    "ExecuteTime": {
     "end_time": "2021-03-05T07:24:41.549689Z",
     "start_time": "2021-03-05T07:24:40.759488Z"
    }
   },
   "outputs": [],
   "source": [
    "diseases_bin_AUD=pd.read_pickle('%s%s' % (path,'ukb_disease_labels_AUD.p'))"
   ]
  },
  {
   "cell_type": "code",
   "execution_count": 24,
   "metadata": {
    "ExecuteTime": {
     "end_time": "2021-03-05T07:24:51.799491Z",
     "start_time": "2021-03-05T07:24:51.791851Z"
    }
   },
   "outputs": [
    {
     "data": {
      "text/plain": [
       "(500102, 76)"
      ]
     },
     "execution_count": 24,
     "metadata": {},
     "output_type": "execute_result"
    }
   ],
   "source": [
    "diseases_bin_AUD.shape"
   ]
  },
  {
   "cell_type": "code",
   "execution_count": 34,
   "metadata": {
    "ExecuteTime": {
     "end_time": "2021-03-05T07:38:52.938976Z",
     "start_time": "2021-03-05T07:38:52.929416Z"
    }
   },
   "outputs": [],
   "source": [
    "diseases_bin_AUD['eid']=diseases_bin_AUD['n_eid']"
   ]
  },
  {
   "cell_type": "code",
   "execution_count": 35,
   "metadata": {
    "ExecuteTime": {
     "end_time": "2021-03-05T07:40:09.633651Z",
     "start_time": "2021-03-05T07:39:03.424447Z"
    }
   },
   "outputs": [],
   "source": [
    "AUD_model_full=pd.merge(ukb_tp0_ohc,diseases_bin_AUD[disease_vars],on='eid')"
   ]
  },
  {
   "cell_type": "code",
   "execution_count": 36,
   "metadata": {
    "ExecuteTime": {
     "end_time": "2021-03-05T07:40:21.038828Z",
     "start_time": "2021-03-05T07:40:09.636746Z"
    }
   },
   "outputs": [],
   "source": [
    "AUD_model_full.to_pickle('%s%s' % (path,'AUD_model_full.p'))"
   ]
  },
  {
   "cell_type": "code",
   "execution_count": null,
   "metadata": {},
   "outputs": [],
   "source": []
  }
 ],
 "metadata": {
  "kernelspec": {
   "display_name": "Python 3",
   "language": "python",
   "name": "python3"
  },
  "language_info": {
   "codemirror_mode": {
    "name": "ipython",
    "version": 3
   },
   "file_extension": ".py",
   "mimetype": "text/x-python",
   "name": "python",
   "nbconvert_exporter": "python",
   "pygments_lexer": "ipython3",
   "version": "3.7.6"
  },
  "toc": {
   "base_numbering": 1,
   "nav_menu": {},
   "number_sections": false,
   "sideBar": true,
   "skip_h1_title": false,
   "title_cell": "Table of Contents",
   "title_sidebar": "Contents",
   "toc_cell": false,
   "toc_position": {},
   "toc_section_display": true,
   "toc_window_display": false
  }
 },
 "nbformat": 4,
 "nbformat_minor": 2
}
