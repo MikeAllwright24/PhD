{
 "cells": [
  {
   "cell_type": "code",
   "execution_count": 8,
   "metadata": {
    "ExecuteTime": {
     "end_time": "2021-02-13T23:33:29.261400Z",
     "start_time": "2021-02-13T23:33:29.249972Z"
    }
   },
   "outputs": [],
   "source": [
    "import pandas as pd\n",
    "import numpy as np\n",
    "import re\n",
    "import warnings\n",
    "warnings.filterwarnings('ignore')\n",
    "warnings.filterwarnings('ignore')\n",
    "path=\"../../../ukb/data/\"\n",
    "\n",
    "'''\n",
    "Helper function to find out columns containing specific text\n",
    "'''\n",
    "def findcols(df,text):\n",
    "    return [col for col in df.columns if text in col]"
   ]
  },
  {
   "cell_type": "code",
   "execution_count": 9,
   "metadata": {
    "ExecuteTime": {
     "end_time": "2021-02-13T23:33:30.586546Z",
     "start_time": "2021-02-13T23:33:30.577625Z"
    }
   },
   "outputs": [],
   "source": [
    "'''\n",
    "set of variables removed as noise\n",
    "'''\n",
    "\n",
    "drop_ohc_cols=['death_date','age_at_death_f40007', 'date_of_death_f40000', 'death_record_format_f40018',\n",
    " 'death_record_origin_f40020', 'description_of_cause_of_death_f40010',\n",
    "'date_of_alzheimers_disease_report_f42020', 'source_of_alzheimers_disease_report_f42021',\n",
    "'date_of_all_cause_dementia_report_f42018', 'date_of_frontotemporal_dementia_report_f42024', 'date_of_vascular_dementia_report_f42022',\n",
    " 'source_of_all_cause_dementia_report_f42019', 'source_of_frontotemporal_dementia_report_f42025', \n",
    " 'source_of_vascular_dementia_report_f42023','Age_Today']\n",
    "\n",
    "exc_ohc_cols=['eid','death']\n",
    "\n",
    "disease_vars=['EPIL_bef','DIAB_bef','CERVASC_bef','CERVASCALL_bef','STROKE_bef','AD','EPIL','DIAB','CERVASC','CELIAC','PD']"
   ]
  },
  {
   "cell_type": "code",
   "execution_count": 31,
   "metadata": {
    "ExecuteTime": {
     "end_time": "2021-02-13T23:53:32.847419Z",
     "start_time": "2021-02-13T23:53:32.815244Z"
    }
   },
   "outputs": [],
   "source": [
    "def onehotencoder(df,dropcols,exccols,maxrecs=12,mincount=0.8,minctcts=0.8,nodrop=0):\n",
    "    \n",
    "    if nodrop==0:\n",
    "        df1=df.drop(columns=np.append(dropcols,exccols),axis=0)\n",
    "    else:\n",
    "        df1=df.copy()\n",
    "   \n",
    "    \n",
    "    print(r'Total variables = %0.0f ' % (df1.shape[1]-1))\n",
    "    \n",
    "    ohe_cols=\\\n",
    "    [col for col in df1.columns if len(df1[col].value_counts())<maxrecs and df1[col].count()/df1[col].shape[0]>mincount]\n",
    "    \n",
    "    print(r'Total ohe variables = %0.0f ' % (len(ohe_cols)))\n",
    "        \n",
    "    df_ohe_cols=df1[ohe_cols]\n",
    "    \n",
    "    cts_cols=[col for i,col in enumerate(df1.columns) if re.search(str(df1.dtypes[i]),'float64|int')\n",
    "             #and len(df1[col].value_counts())>=maxrecs \n",
    "              and \n",
    "              df1[col].count()/len(df1[col])>minctcts]\n",
    "    \n",
    "    print(r'Total cts variables = %0.0f ' % (len(cts_cols)))\n",
    "    \n",
    "    df_ctsvars=df1[cts_cols]\n",
    "    \n",
    "    df_ctsvars['eid']=df['eid']\n",
    "    \n",
    "    for col in df_ohe_cols.columns:\n",
    "        df_ohe_cols[col][pd.isnull(df_ohe_cols[col])]='Unknown'\n",
    "    df_out=pd.get_dummies(df_ohe_cols, prefix=df_ohe_cols.columns,\n",
    "               columns=df_ohe_cols.columns)\n",
    "    \n",
    "    print(r'Total ohe variables post trans = %0.0f ' % (df_out.shape[1]-1))\n",
    "    \n",
    "    exccols2=[col for col in df.columns if col in exccols]\n",
    "    \n",
    "    df_out[exccols2]=df[exccols2]\n",
    "    \n",
    "    df_full=pd.merge(df_out,df_ctsvars,on='eid',how='left')    \n",
    "    \n",
    "    \n",
    "    print(r'Total variables out = %0.0f ' % (df_full.shape[1]-1))\n",
    "    \n",
    "    return df_full\n",
    "\n",
    "def rebalage(df,min_age=75,max_age=83,disease=\"AD\",diagcutoff=2,sampleratio=1,death='death',agematch=1):\n",
    "    \n",
    "    df['Age_Today']=df['Age_Today'].round()\n",
    "    rule_age=(df['Age_Today']>=min_age)&(df['Age_Today']<=max_age)\n",
    "    rule_dis=(df[disease]==1)\n",
    "    rule_cont=(df[disease]==0)\n",
    "    rule_death=(df[death]!=1)\n",
    "    rule_diag_cut=(df['years_bef_diag'+disease]>diagcutoff)\n",
    "    \n",
    "    rule_nonnull=pd.notnull(df['eid'])\n",
    "    mask_dis=rule_age&rule_dis&rule_diag_cut&rule_nonnull\n",
    "    mask_cont=rule_age&rule_cont&rule_death&rule_nonnull\n",
    "    case=df['eid'][mask_dis]\n",
    "    \n",
    "    if agematch==1:\n",
    "        #find matches by age between disease and control - do we want age today or age attended?\n",
    "        dis_age=pd.DataFrame(df[mask_dis].groupby('Age_Today').size()).reset_index()\n",
    "        dis_age.columns=['Age_Today','age_recs']\n",
    "\n",
    "        cont_age=pd.merge(df[['eid','Age_Today']][mask_cont],dis_age,on='Age_Today',how='inner')\n",
    "        cont_age=pd.DataFrame(cont_age.groupby('Age_Today').\\\n",
    "        apply(lambda x: x['eid'].sample(x['age_recs'].max()*sampleratio,replace=False))).reset_index()\n",
    "        cont_age=pd.merge(cont_age,dis_age,on='Age_Today',how='inner')\n",
    "        \n",
    "        cont_age['set_score']=cont_age.groupby(['Age_Today']).cumcount()/cont_age['age_recs']\n",
    "        cont_age['set']=cont_age['set_score'].apply(np.floor)\n",
    "\n",
    "        cont_age=cont_age[['eid','set']]\n",
    "        control=cont_age['eid']\n",
    "        \n",
    "        \n",
    "    else:\n",
    "        \n",
    "        control=df['eid'][mask_cont]\n",
    "        cont_age=control.copy()\n",
    "        cont_age['set']=1\n",
    "    \n",
    "    \n",
    "    \n",
    "    eids=pd.concat([case,control],axis=0)\n",
    "    \n",
    "    return eids,cont_age\n",
    "\n",
    "\n",
    "def maskdfs(df,name):\n",
    "    mask_df=(eid_df['eid'].isin(df['eid']))\n",
    "    eid_df[name]=0\n",
    "    eid_df[name][mask_df]=1\n",
    "    return eid_df\n",
    "\n",
    "def combinedata(eids,sets,df1,df2):\n",
    "    df1=df1[(df1['eid'].isin(eids))]\n",
    "    df2=df2[(df2['eid'].isin(eids))]\n",
    "    df_out=pd.merge(df1,df2,on='eid',how='inner')\n",
    "    df_out=pd.merge(df_out,sets[['eid','set']],on='eid',how='left')\n",
    "    return df_out\n",
    "\n",
    "def mergewidedf(df1,df2,feats=['Age_Today'],depvar='AD'):\n",
    "    #df1.sort_values(by='eid',inplace=True)\n",
    "    \n",
    "    #df2.sort_values(by='eid',inplace=True)\n",
    "    print(df2.shape)\n",
    "    df1_temp=pd.merge(df1[['eid']],df2[np.append('eid',feats)], on='eid',how='left')\n",
    "    print(df1_temp.shape)\n",
    "    #df1_temp.sort_values(by='eid',inplace=True)\n",
    "    df1[feats]=df1_temp[feats]\n",
    "    df1=df1[pd.notnull(df1[depvar])]\n",
    "    return df1"
   ]
  },
  {
   "cell_type": "code",
   "execution_count": 11,
   "metadata": {
    "ExecuteTime": {
     "end_time": "2021-02-13T23:34:07.605977Z",
     "start_time": "2021-02-13T23:33:31.397845Z"
    }
   },
   "outputs": [],
   "source": [
    "ukb_tp0=pd.read_pickle('%s%s' % (path,'ukb_tp0.p'))\n",
    "ukb_tp_brain=pd.read_pickle('%s%s' % (path,'ukb_brain.p'))\n",
    "diseases_bin=pd.read_pickle('%s%s' % (path,'ukb_disease_labels.p'))"
   ]
  },
  {
   "cell_type": "code",
   "execution_count": 12,
   "metadata": {
    "ExecuteTime": {
     "end_time": "2021-02-13T23:34:07.614593Z",
     "start_time": "2021-02-13T23:34:07.608437Z"
    }
   },
   "outputs": [
    {
     "data": {
      "text/plain": [
       "(502523, 1522)"
      ]
     },
     "execution_count": 12,
     "metadata": {},
     "output_type": "execute_result"
    }
   ],
   "source": [
    "ukb_tp0.shape"
   ]
  },
  {
   "cell_type": "code",
   "execution_count": 13,
   "metadata": {
    "ExecuteTime": {
     "end_time": "2021-02-13T23:34:07.744276Z",
     "start_time": "2021-02-13T23:34:07.616720Z"
    }
   },
   "outputs": [],
   "source": [
    "mod_riskfactors=pd.read_csv('%s%s' % (path,\"Modifiableriskfactors.csv\"))\n",
    "modriskfactors=[col for col in ukb_tp0.columns if col in np.asarray(mod_riskfactors['variable']) \n",
    "                or re.search('eid|Genotype|qual',col)]"
   ]
  },
  {
   "cell_type": "code",
   "execution_count": 30,
   "metadata": {
    "ExecuteTime": {
     "end_time": "2021-02-13T23:52:08.159789Z",
     "start_time": "2021-02-13T23:52:08.106645Z"
    }
   },
   "outputs": [],
   "source": [
    "qualmap={'None of the above':0,'Prefer not to answer':0,'O levels/GCSEs or equivalent':1,\\\n",
    "'NVQ or HND or HNC or equivalent':2,'NVQ or HND or HNC or equivalent' :3,\\\n",
    "'NVQ or HND or HNC or equivalent':4,'CSEs or equivalent':5,\\\n",
    "'Other professional qualifications eg: nursing, teaching':6,'A levels/AS levels or equivalent':7,\\\n",
    "'College or University degree':8 }   \n",
    "ukb_tp0['qualif_score']=ukb_tp0['qualifications_f6138'].map(qualmap)\n",
    "ukb_tp0['qualif_score'][pd.isnull(ukb_tp0['qualif_score'])]=0\n"
   ]
  },
  {
   "cell_type": "markdown",
   "metadata": {},
   "source": [
    "#### Filter to remove insufficiently populated variables"
   ]
  },
  {
   "cell_type": "code",
   "execution_count": 17,
   "metadata": {
    "ExecuteTime": {
     "end_time": "2021-02-13T23:36:35.931485Z",
     "start_time": "2021-02-13T23:36:30.396535Z"
    }
   },
   "outputs": [],
   "source": [
    "diseases_bin['eid']=diseases_bin['n_eid']\n",
    "APOEADmask=((diseases_bin['APOE_AD']==1))\n",
    "diseases_bin_APOE=diseases_bin[~APOEADmask]\n",
    "mask_coeliac=pd.notnull(ukb_tp0['diagnosed_with_coeliac_disease_or_gluten_sensitivity_f21068'])\n",
    "ukb_tp0_surv=ukb_tp0[(mask_coeliac)]\n"
   ]
  },
  {
   "cell_type": "code",
   "execution_count": 18,
   "metadata": {
    "ExecuteTime": {
     "end_time": "2021-02-13T23:36:36.262226Z",
     "start_time": "2021-02-13T23:36:35.933664Z"
    }
   },
   "outputs": [],
   "source": [
    "ukb_tp0_mod=ukb_tp0[modriskfactors]"
   ]
  },
  {
   "cell_type": "code",
   "execution_count": 32,
   "metadata": {
    "ExecuteTime": {
     "end_time": "2021-02-13T23:57:28.551809Z",
     "start_time": "2021-02-13T23:53:38.483220Z"
    },
    "code_folding": []
   },
   "outputs": [
    {
     "name": "stdout",
     "output_type": "stream",
     "text": [
      "Total variables = 1505 \n",
      "Total ohe variables = 358 \n",
      "Total cts variables = 189 \n",
      "Total ohe variables post trans = 1464 \n",
      "Total variables out = 1655 \n"
     ]
    }
   ],
   "source": [
    "ukb_tp0_ohc=onehotencoder(ukb_tp0,dropcols=drop_ohc_cols,exccols=exc_ohc_cols,maxrecs=9,mincount=0.8)"
   ]
  },
  {
   "cell_type": "code",
   "execution_count": 33,
   "metadata": {
    "ExecuteTime": {
     "end_time": "2021-02-13T23:58:16.624173Z",
     "start_time": "2021-02-13T23:58:16.611979Z"
    }
   },
   "outputs": [
    {
     "data": {
      "text/plain": [
       "['usual_side_of_head_for_mobile_phone_use_f1150_Equally left and right',\n",
       " 'handedness_chiralitylaterality_f1707_Use both right and left hands equally',\n",
       " 'qualifications_f6138_A levels/AS levels or equivalent',\n",
       " 'qualifications_f6138_CSEs or equivalent',\n",
       " 'qualifications_f6138_College or University degree',\n",
       " 'qualifications_f6138_NVQ or HND or HNC or equivalent',\n",
       " 'qualifications_f6138_None of the above',\n",
       " 'qualifications_f6138_O levels/GCSEs or equivalent',\n",
       " 'qualifications_f6138_Other professional qualifications eg: nursing, teaching',\n",
       " 'qualifications_f6138_Prefer not to answer',\n",
       " 'qualifications_f6138_Unknown',\n",
       " 'qualif_score_0.0',\n",
       " 'qualif_score_1.0',\n",
       " 'qualif_score_4.0',\n",
       " 'qualif_score_5.0',\n",
       " 'qualif_score_6.0',\n",
       " 'qualif_score_7.0',\n",
       " 'qualif_score_8.0',\n",
       " 'affymetrix_quality_control_metric_clustercr_f22025',\n",
       " 'affymetrix_quality_control_metric_dqc_f22026',\n",
       " 'qualif_score']"
      ]
     },
     "execution_count": 33,
     "metadata": {},
     "output_type": "execute_result"
    }
   ],
   "source": [
    "findcols(ukb_tp0_ohc,'qual')"
   ]
  },
  {
   "cell_type": "code",
   "execution_count": 20,
   "metadata": {
    "ExecuteTime": {
     "end_time": "2021-02-13T23:40:55.233891Z",
     "start_time": "2021-02-13T23:40:43.071747Z"
    }
   },
   "outputs": [
    {
     "name": "stdout",
     "output_type": "stream",
     "text": [
      "Total variables = 109 \n",
      "Total ohe variables = 60 \n",
      "Total cts variables = 47 \n",
      "Total ohe variables post trans = 415 \n",
      "Total variables out = 463 \n"
     ]
    }
   ],
   "source": [
    "ukb_tp0_ohc_mod=onehotencoder(ukb_tp0_mod,dropcols='',exccols=exc_ohc_cols,maxrecs=15,mincount=0.8,nodrop=1)"
   ]
  },
  {
   "cell_type": "code",
   "execution_count": 11,
   "metadata": {
    "ExecuteTime": {
     "end_time": "2021-01-24T23:21:42.273831Z",
     "start_time": "2021-01-24T23:21:42.251629Z"
    }
   },
   "outputs": [
    {
     "data": {
      "text/plain": [
       "30435.0"
      ]
     },
     "execution_count": 11,
     "metadata": {},
     "output_type": "execute_result"
    }
   ],
   "source": [
    "diseases_bin['death'].sum()"
   ]
  },
  {
   "cell_type": "code",
   "execution_count": 34,
   "metadata": {
    "ExecuteTime": {
     "end_time": "2021-02-13T23:58:48.597258Z",
     "start_time": "2021-02-13T23:58:37.544819Z"
    }
   },
   "outputs": [],
   "source": [
    "AD_eids_full,cont_age_full=rebalage(diseases_bin,min_age=70,max_age=83,disease=\"AD\",\n",
    "                                     diagcutoff=2,sampleratio=28,agematch=0)\n",
    "AD_model_full=combinedata(AD_eids_full,cont_age_full,ukb_tp0_ohc,\n",
    "                          diseases_bin[np.append(['eid','Age_Today'],disease_vars)])\n",
    "AD_model_full.to_pickle('%s%s' % (path,'AD_model_full70.p'))"
   ]
  },
  {
   "cell_type": "code",
   "execution_count": 389,
   "metadata": {
    "ExecuteTime": {
     "end_time": "2021-01-13T21:06:21.643320Z",
     "start_time": "2021-01-13T21:05:26.840463Z"
    }
   },
   "outputs": [],
   "source": [
    "AD_eids_full,cont_age_full=rebalage(diseases_bin,min_age=75,max_age=83,disease=\"AD\",\n",
    "                                     diagcutoff=2,sampleratio=28,agematch=0)\n",
    "AD_model_full=combinedata(AD_eids_full,cont_age_full,ukb_tp0_ohc,\n",
    "                          diseases_bin[np.append(['eid','Age_Today'],disease_vars)])\n",
    "AD_model_full.to_pickle('%s%s' % (path,'AD_model_full75.p'))"
   ]
  },
  {
   "cell_type": "code",
   "execution_count": 10,
   "metadata": {
    "ExecuteTime": {
     "end_time": "2021-01-20T23:04:35.608826Z",
     "start_time": "2021-01-20T23:04:31.225446Z"
    }
   },
   "outputs": [],
   "source": [
    "AD_eids_full_mod,cont_age_full_mod=rebalage(diseases_bin,min_age=70,max_age=83,disease=\"AD\",\n",
    "                                     diagcutoff=2,sampleratio=28,agematch=0)\n",
    "AD_model_full_mod=combinedata(AD_eids_full_mod,cont_age_full_mod,ukb_tp0_ohc_mod,\n",
    "                          diseases_bin[np.append(['eid','Age_Today'],disease_vars)])\n",
    "AD_model_full_mod.to_pickle('%s%s' % (path,'AD_model_full70_mod.p'))"
   ]
  },
  {
   "cell_type": "code",
   "execution_count": 390,
   "metadata": {
    "ExecuteTime": {
     "end_time": "2021-01-13T22:19:33.480896Z",
     "start_time": "2021-01-13T22:19:22.810253Z"
    }
   },
   "outputs": [],
   "source": [
    "AD_eidsage,cont_age=rebalage(diseases_bin,min_age=75,max_age=83,disease=\"AD\",\n",
    "                                     diagcutoff=2,sampleratio=23,agematch=1)\n",
    "AD_modelage=combinedata(AD_eidsage,cont_age,ukb_tp0_ohc,diseases_bin[np.append(['eid','Age_Today'],disease_vars)])\n",
    "AD_modelage.to_pickle('%s%s' % (path,'AD_modelage.p'))"
   ]
  },
  {
   "cell_type": "code",
   "execution_count": 36,
   "metadata": {
    "ExecuteTime": {
     "end_time": "2020-12-11T03:51:42.540729Z",
     "start_time": "2020-12-11T03:51:41.426833Z"
    }
   },
   "outputs": [],
   "source": [
    "APOE_eidsage,APOE_cont_age=rebalage(diseases_bin_APOE,min_age=75,max_age=83,disease=\"AD\",\n",
    "                                     diagcutoff=2,sampleratio=28,agematch=1)\n",
    "APOE_modelage=combinedata(APOE_eidsage,APOE_cont_age,ukb_tp0_ohc,diseases_bin_APOE[np.append(['eid','Age_Today'],disease_vars)])\n",
    "APOE_modelage.to_pickle('%s%s' % (path,'APOE_modelage.p'))"
   ]
  },
  {
   "cell_type": "code",
   "execution_count": 351,
   "metadata": {
    "ExecuteTime": {
     "end_time": "2020-12-23T01:27:33.543545Z",
     "start_time": "2020-12-23T01:27:22.914737Z"
    }
   },
   "outputs": [],
   "source": [
    "PD_eids_full,cont_age_full_PD=rebalage(diseases_bin,min_age=70,max_age=83,disease=\"PD\",\n",
    "                                     diagcutoff=2,sampleratio=28,agematch=0)\n",
    "PD_model_full=combinedata(PD_eids_full,cont_age_full_PD,ukb_tp0_ohc,\n",
    "                          diseases_bin[np.append(['eid','Age_Today'],disease_vars)])\n",
    "PD_model_full.to_pickle('%s%s' % (path,'PD_model_full70.p'))"
   ]
  },
  {
   "cell_type": "code",
   "execution_count": 360,
   "metadata": {
    "ExecuteTime": {
     "end_time": "2020-12-23T06:21:09.650441Z",
     "start_time": "2020-12-23T06:21:09.578557Z"
    }
   },
   "outputs": [
    {
     "data": {
      "text/plain": [
       "(129070, 63)"
      ]
     },
     "execution_count": 360,
     "metadata": {},
     "output_type": "execute_result"
    }
   ],
   "source": [
    "diseases_bin[(diseases_bin['Age_Today']>=75)].shape"
   ]
  },
  {
   "cell_type": "code",
   "execution_count": 361,
   "metadata": {
    "ExecuteTime": {
     "end_time": "2020-12-23T06:21:21.283628Z",
     "start_time": "2020-12-23T06:21:21.063091Z"
    }
   },
   "outputs": [
    {
     "data": {
      "text/plain": [
       "<matplotlib.axes._subplots.AxesSubplot at 0x7f69b54dea10>"
      ]
     },
     "execution_count": 361,
     "metadata": {},
     "output_type": "execute_result"
    },
    {
     "data": {
      "image/png": "[encoded data removed]",
      "text/plain": [
       "<Figure size 432x288 with 1 Axes>"
      ]
     },
     "metadata": {
      "needs_background": "light"
     },
     "output_type": "display_data"
    }
   ],
   "source": [
    "diseases_bin['Age_Diag_PD'][(diseases_bin['PD']==1)].hist()\n"
   ]
  },
  {
   "cell_type": "code",
   "execution_count": 355,
   "metadata": {
    "ExecuteTime": {
     "end_time": "2020-12-23T06:19:14.872337Z",
     "start_time": "2020-12-23T06:19:14.444288Z"
    }
   },
   "outputs": [
    {
     "name": "stdout",
     "output_type": "stream",
     "text": [
      "73.22005669693428\n",
      "0.4202832343535861\n",
      "8.601969679414617\n",
      "2.547537661059168\n"
     ]
    },
    {
     "data": {
      "image/png": "[encoded data removed]",
      "text/plain": [
       "<Figure size 432x288 with 1 Axes>"
      ]
     },
     "metadata": {
      "needs_background": "light"
     },
     "output_type": "display_data"
    }
   ],
   "source": [
    "\n",
    "print(diseases_bin['Age_Diag_AD'][(diseases_bin['AD']==1)].mean())\n",
    "\n",
    "print(diseases_bin[(diseases_bin['AD']==1)&(diseases_bin['Age_Diag_AD']>=75)].shape[0]/\n",
    "      diseases_bin[(diseases_bin['AD']==1)].shape[0])\n",
    "\n",
    "diseases_bin['Age_Today'][(diseases_bin['PD']==1)].hist()\n",
    "diseases_bin['years_bef_diagPD'][(diseases_bin['Age_Today']>75)].hist()\n",
    "diseases_bin['years_bef_diagAD'][(diseases_bin['Age_Today']>75)].hist()\n",
    "print(diseases_bin['years_bef_diagAD'][(diseases_bin['Age_Today']>75)].mean())\n",
    "print(diseases_bin['years_bef_diagAD'][(diseases_bin['Age_Today']>75)].std())"
   ]
  },
  {
   "cell_type": "code",
   "execution_count": 37,
   "metadata": {
    "ExecuteTime": {
     "end_time": "2020-12-11T03:51:42.718730Z",
     "start_time": "2020-12-11T03:51:42.543074Z"
    }
   },
   "outputs": [],
   "source": [
    "#Set of eids labelled\n",
    "\n",
    "eid_df=pd.DataFrame(ukb_tp0['eid'])\n",
    "eid_df=maskdfs(APOE_modelage,'APOE_eids')\n",
    "eid_df=maskdfs(AD_modelage,'Age_eids')\n",
    "eid_df=maskdfs(AD_model_full,'o75_eids')\n",
    "\n",
    "eid_df.to_pickle('%s%s' % (path,'eid_df.p'))"
   ]
  },
  {
   "cell_type": "code",
   "execution_count": null,
   "metadata": {},
   "outputs": [],
   "source": []
  }
 ],
 "metadata": {
  "kernelspec": {
   "display_name": "Python 3",
   "language": "python",
   "name": "python3"
  },
  "language_info": {
   "codemirror_mode": {
    "name": "ipython",
    "version": 3
   },
   "file_extension": ".py",
   "mimetype": "text/x-python",
   "name": "python",
   "nbconvert_exporter": "python",
   "pygments_lexer": "ipython3",
   "version": "3.7.6"
  },
  "toc": {
   "base_numbering": 1,
   "nav_menu": {},
   "number_sections": false,
   "sideBar": true,
   "skip_h1_title": false,
   "title_cell": "Table of Contents",
   "title_sidebar": "Contents",
   "toc_cell": false,
   "toc_position": {},
   "toc_section_display": true,
   "toc_window_display": false
  }
 },
 "nbformat": 4,
 "nbformat_minor": 2
}
