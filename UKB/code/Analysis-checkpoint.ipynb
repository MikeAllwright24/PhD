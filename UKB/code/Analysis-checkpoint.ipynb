{
 "cells": [
  {
   "cell_type": "code",
   "execution_count": 1,
   "metadata": {
    "ExecuteTime": {
     "end_time": "2020-12-03T05:21:49.979774Z",
     "start_time": "2020-12-03T05:21:49.197451Z"
    }
   },
   "outputs": [],
   "source": [
    "import pandas as pd\n",
    "import numpy as np\n",
    "import re\n",
    "import warnings\n",
    "warnings.filterwarnings('ignore')\n",
    "path=\"../../data/\"\n",
    "import matplotlib.pyplot as plt\n",
    "import seaborn as sns\n",
    "import datetime as dt"
   ]
  },
  {
   "cell_type": "code",
   "execution_count": 2,
   "metadata": {
    "ExecuteTime": {
     "end_time": "2020-12-03T05:21:49.984838Z",
     "start_time": "2020-12-03T05:21:49.982122Z"
    }
   },
   "outputs": [],
   "source": [
    "#!pip install OSGridConverter"
   ]
  },
  {
   "cell_type": "code",
   "execution_count": 3,
   "metadata": {
    "ExecuteTime": {
     "end_time": "2020-12-03T05:21:50.879557Z",
     "start_time": "2020-12-03T05:21:50.872568Z"
    }
   },
   "outputs": [],
   "source": [
    "from OSGridConverter import grid2latlong"
   ]
  },
  {
   "cell_type": "code",
   "execution_count": 4,
   "metadata": {
    "ExecuteTime": {
     "end_time": "2020-12-03T05:21:51.909010Z",
     "start_time": "2020-12-03T05:21:51.904794Z"
    }
   },
   "outputs": [],
   "source": [
    "'''\n",
    "Helper function to find out columns containing specific text\n",
    "'''\n",
    "def findcols(df,text):\n",
    "    return [col for col in df.columns if text in col]"
   ]
  },
  {
   "cell_type": "code",
   "execution_count": 5,
   "metadata": {
    "ExecuteTime": {
     "end_time": "2020-12-03T05:22:44.689978Z",
     "start_time": "2020-12-03T05:21:54.061263Z"
    }
   },
   "outputs": [],
   "source": [
    "ukb_tp0=pd.read_pickle('%s%s' % (path,'ukb_tp0.p'))"
   ]
  },
  {
   "cell_type": "code",
   "execution_count": 6,
   "metadata": {
    "ExecuteTime": {
     "end_time": "2020-12-03T05:22:45.080780Z",
     "start_time": "2020-12-03T05:22:44.692915Z"
    }
   },
   "outputs": [],
   "source": [
    "diseases_bin=pd.read_pickle('%s%s' % (path,'ukb_disease_labels.p'))"
   ]
  },
  {
   "cell_type": "code",
   "execution_count": 30,
   "metadata": {
    "ExecuteTime": {
     "end_time": "2020-12-03T05:53:52.363503Z",
     "start_time": "2020-12-03T05:53:52.350534Z"
    }
   },
   "outputs": [],
   "source": [
    "outputs_score=pd.read_pickle('%s%s' % (path,'outputs_score.p'))"
   ]
  },
  {
   "cell_type": "code",
   "execution_count": 32,
   "metadata": {
    "ExecuteTime": {
     "end_time": "2020-12-03T05:55:20.457465Z",
     "start_time": "2020-12-03T05:55:20.415714Z"
    }
   },
   "outputs": [],
   "source": [
    "ukb_tp0['rounded_matches_f20023']=(ukb_tp0['mean_time_to_correctly_identify_matches_f20023']/50).round()*10\n",
    "ukb_tp0['airpoll_24006']=ukb_tp0['particulate_matter_air_pollution_pm25_2010_f24006'].round()\n",
    "ukb_tp0['airpoll_24007']=ukb_tp0['particulate_matter_air_pollution_pm25_absorbance_2010_f24007'].round()\n",
    "ukb_tp0['uk_north_coord']=(ukb_tp0['place_of_birth_in_uk_north_coordinate_f129']/100000).round()*100000\n",
    "ukb_tp0['uk_east_coord']=(ukb_tp0['place_of_birth_in_uk_east_coordinate_f130']/100000).round()*100000"
   ]
  },
  {
   "cell_type": "code",
   "execution_count": 40,
   "metadata": {
    "ExecuteTime": {
     "end_time": "2020-12-02T04:47:09.563490Z",
     "start_time": "2020-12-02T04:47:09.555707Z"
    }
   },
   "outputs": [],
   "source": [
    "def combineanalyse(df1,df2):\n",
    "    df_out=pd.merge(df1,df2,left_on='eid',right_on='n_eid',how='left')\n",
    "    return df_out    "
   ]
  },
  {
   "cell_type": "code",
   "execution_count": 103,
   "metadata": {
    "ExecuteTime": {
     "end_time": "2020-12-03T00:02:20.656959Z",
     "start_time": "2020-12-03T00:02:20.404848Z"
    }
   },
   "outputs": [
    {
     "data": {
      "text/plain": [
       "<matplotlib.axes._subplots.AxesSubplot at 0x7f5983865d90>"
      ]
     },
     "execution_count": 103,
     "metadata": {},
     "output_type": "execute_result"
    },
    {
     "data": {
      "image/png": "[encoded data removed]",
      "text/plain": [
       "<Figure size 432x288 with 1 Axes>"
      ]
     },
     "metadata": {
      "needs_background": "light"
     },
     "output_type": "display_data"
    }
   ],
   "source": [
    "ukb_tp0['sex_inference_y_probeintensity_f22023'].hist()"
   ]
  },
  {
   "cell_type": "code",
   "execution_count": 45,
   "metadata": {
    "ExecuteTime": {
     "end_time": "2020-12-03T06:29:42.575672Z",
     "start_time": "2020-12-03T06:29:42.570882Z"
    }
   },
   "outputs": [],
   "source": [
    "dis_vars=['n_eid','Age_Today','AD','PD','Diag_Date_AD','years_bef_diagAD',\n",
    "                           'date_of_attending_assessment_centre_f53', 'age_when_attended_assessment_centre_f21003',\n",
    "                           'EPIL','DIAB','CELIAC','CERVASC','CERVASC_bef','EPIL_bef','DIAB_bef']"
   ]
  },
  {
   "cell_type": "code",
   "execution_count": 42,
   "metadata": {
    "ExecuteTime": {
     "end_time": "2020-12-03T06:27:26.546527Z",
     "start_time": "2020-12-03T06:27:26.531026Z"
    }
   },
   "outputs": [],
   "source": [
    "shap_vars=['eid','Genotype','particulate_matter_air_pollution_pm25_2010_f24006','airpoll_24006','airpoll_24007',\n",
    "       'mean_time_to_correctly_identify_matches_f20023','rounded_matches_f20023',\n",
    "       'number_of_treatmentsmedications_taken_f137',\n",
    "       'sleeplessness_insomnia_f1200',\n",
    "       'particulate_matter_air_pollution_pm25_absorbance_2010_f24007',\n",
    "       'never_eat_eggs_dairy_wheat_sugar_f6144',\n",
    "       'uk_east_coord',\n",
    "       'parental_ad_status',\n",
    "       'uk_north_coord',\n",
    "       'particulate_matter_air_pollution_pm10_2010_f24005',\n",
    "       'time_spent_driving_f1090', 'creactive_protein_f30710',\n",
    "       'alanine_aminotransferase_f30620',\n",
    "       'answered_sexual_history_questions_f2129',\n",
    "       'neutrophill_count_f30140', 'carer_support_indicators_f41214',\n",
    "       'drive_faster_than_motorway_speed_limit_f1100',\n",
    "       'history_of_psychiatric_care_on_admission_f41218',\n",
    "       'particulate_matter_air_pollution_2510um_2010_f24008',\n",
    "       'frequency_of_solariumsunlamp_use_f2277',\n",
    "       'hand_grip_strength_left_f46', 'glycated_haemoglobin_hba1c_f30750',\n",
    "       'frequency_of_tenseness_restlessness_in_last_2_weeks_f2070',\n",
    "       'forced_expiratory_volume_in_1second_fev1_best_measure_f20150']"
   ]
  },
  {
   "cell_type": "code",
   "execution_count": 51,
   "metadata": {
    "ExecuteTime": {
     "end_time": "2020-12-03T06:33:06.238623Z",
     "start_time": "2020-12-03T06:33:00.163891Z"
    }
   },
   "outputs": [],
   "source": [
    "ukb_shap=ukb_tp0[shap_vars]\n",
    "ukb_shap=pd.merge(ukb_shap,diseases_bin[dis_vars],left_on='eid',right_on='n_eid',how='left')\n",
    "ukb_shap=pd.merge(ukb_shap,outputs_score,on='eid',how='inner')\n",
    "ukb_shap.to_csv('%s%s' % (path,'ukb_shap.csv'))"
   ]
  },
  {
   "cell_type": "code",
   "execution_count": 87,
   "metadata": {
    "ExecuteTime": {
     "end_time": "2020-12-02T05:52:27.799495Z",
     "start_time": "2020-12-02T05:51:35.753568Z"
    }
   },
   "outputs": [],
   "source": [
    "ukb_cols_filt=[col for col in ukb_tp0.columns if \n",
    "               (ukb_tp0[col].count()>400000 and len(ukb_tp0[col].value_counts())<100) or col=='eid' or col in dis_vars]"
   ]
  },
  {
   "cell_type": "code",
   "execution_count": 88,
   "metadata": {
    "ExecuteTime": {
     "end_time": "2020-12-02T05:52:33.948037Z",
     "start_time": "2020-12-02T05:52:27.801875Z"
    }
   },
   "outputs": [],
   "source": [
    "ukb_filt0=ukb_tp0[ukb_cols_filt]"
   ]
  },
  {
   "cell_type": "code",
   "execution_count": 89,
   "metadata": {
    "ExecuteTime": {
     "end_time": "2020-12-02T05:52:34.412501Z",
     "start_time": "2020-12-02T05:52:33.950382Z"
    }
   },
   "outputs": [],
   "source": [
    "ukbfilttemp=pd.merge(ukb_filt0[['eid']],diseases_bin[dis_vars],left_on='eid',right_on='n_eid',how='left')"
   ]
  },
  {
   "cell_type": "code",
   "execution_count": 90,
   "metadata": {
    "ExecuteTime": {
     "end_time": "2020-12-02T05:52:34.539226Z",
     "start_time": "2020-12-02T05:52:34.415657Z"
    }
   },
   "outputs": [],
   "source": [
    "ukb_filt0[dis_vars]=ukbfilttemp[dis_vars]"
   ]
  },
  {
   "cell_type": "code",
   "execution_count": 91,
   "metadata": {
    "ExecuteTime": {
     "end_time": "2020-12-02T05:52:39.443146Z",
     "start_time": "2020-12-02T05:52:34.541012Z"
    }
   },
   "outputs": [],
   "source": [
    "age_mask=(ukb_filt0['Age_Today']>=75)\n",
    "ukb_filt0=ukb_filt0[age_mask]"
   ]
  },
  {
   "cell_type": "code",
   "execution_count": 93,
   "metadata": {
    "ExecuteTime": {
     "end_time": "2020-12-02T05:52:39.463406Z",
     "start_time": "2020-12-02T05:52:39.450898Z"
    }
   },
   "outputs": [],
   "source": [
    "ukb_cols_filt2=np.append(ukb_cols_filt,['CERVASC_bef','EPIL_bef','DIAB_bef','PD'])"
   ]
  },
  {
   "cell_type": "code",
   "execution_count": 94,
   "metadata": {
    "ExecuteTime": {
     "end_time": "2020-12-02T05:52:39.502035Z",
     "start_time": "2020-12-02T05:52:39.465618Z"
    }
   },
   "outputs": [],
   "source": [
    "ukb_filt0['APOE4']=0\n",
    "apoe_mask=(ukb_filt0['Genotype']==\"e4/e4\")|(ukb_filt0['Genotype']==\"e3/e4\")|(ukb_filt0['Genotype']==\"e2/e4\")\n",
    "ukb_filt0['APOE4'][apoe_mask]=1"
   ]
  },
  {
   "cell_type": "code",
   "execution_count": 95,
   "metadata": {
    "ExecuteTime": {
     "end_time": "2020-12-02T05:52:51.167901Z",
     "start_time": "2020-12-02T05:52:39.503712Z"
    }
   },
   "outputs": [
    {
     "data": {
      "text/html": [
       "<div>\n",
       "<style scoped>\n",
       "    .dataframe tbody tr th:only-of-type {\n",
       "        vertical-align: middle;\n",
       "    }\n",
       "\n",
       "    .dataframe tbody tr th {\n",
       "        vertical-align: top;\n",
       "    }\n",
       "\n",
       "    .dataframe thead th {\n",
       "        text-align: right;\n",
       "    }\n",
       "</style>\n",
       "<table border=\"1\" class=\"dataframe\">\n",
       "  <thead>\n",
       "    <tr style=\"text-align: right;\">\n",
       "      <th></th>\n",
       "      <th>APOE4</th>\n",
       "      <th>breakdown</th>\n",
       "      <th>ADrate</th>\n",
       "      <th>recs</th>\n",
       "      <th>num_AD</th>\n",
       "      <th>ADRate_avg</th>\n",
       "      <th>variable</th>\n",
       "    </tr>\n",
       "  </thead>\n",
       "  <tbody>\n",
       "    <tr>\n",
       "      <th>0</th>\n",
       "      <td>0</td>\n",
       "      <td>2-4 times a week</td>\n",
       "      <td>1.033421</td>\n",
       "      <td>7066</td>\n",
       "      <td>64.0</td>\n",
       "      <td>0.008765</td>\n",
       "      <td>able_to_confide_f2110</td>\n",
       "    </tr>\n",
       "    <tr>\n",
       "      <th>1</th>\n",
       "      <td>0</td>\n",
       "      <td>About once a month</td>\n",
       "      <td>1.063007</td>\n",
       "      <td>4508</td>\n",
       "      <td>42.0</td>\n",
       "      <td>0.008765</td>\n",
       "      <td>able_to_confide_f2110</td>\n",
       "    </tr>\n",
       "    <tr>\n",
       "      <th>2</th>\n",
       "      <td>0</td>\n",
       "      <td>About once a week</td>\n",
       "      <td>0.920922</td>\n",
       "      <td>9292</td>\n",
       "      <td>75.0</td>\n",
       "      <td>0.008765</td>\n",
       "      <td>able_to_confide_f2110</td>\n",
       "    </tr>\n",
       "    <tr>\n",
       "      <th>3</th>\n",
       "      <td>0</td>\n",
       "      <td>Almost daily</td>\n",
       "      <td>0.885976</td>\n",
       "      <td>43914</td>\n",
       "      <td>341.0</td>\n",
       "      <td>0.008765</td>\n",
       "      <td>able_to_confide_f2110</td>\n",
       "    </tr>\n",
       "    <tr>\n",
       "      <th>4</th>\n",
       "      <td>0</td>\n",
       "      <td>Do not know</td>\n",
       "      <td>1.431853</td>\n",
       "      <td>3028</td>\n",
       "      <td>38.0</td>\n",
       "      <td>0.008765</td>\n",
       "      <td>able_to_confide_f2110</td>\n",
       "    </tr>\n",
       "    <tr>\n",
       "      <th>...</th>\n",
       "      <td>...</td>\n",
       "      <td>...</td>\n",
       "      <td>...</td>\n",
       "      <td>...</td>\n",
       "      <td>...</td>\n",
       "      <td>...</td>\n",
       "      <td>...</td>\n",
       "    </tr>\n",
       "    <tr>\n",
       "      <th>3</th>\n",
       "      <td>1</td>\n",
       "      <td>1</td>\n",
       "      <td>0.770953</td>\n",
       "      <td>2827</td>\n",
       "      <td>66.0</td>\n",
       "      <td>0.030282</td>\n",
       "      <td>DIAB_bef</td>\n",
       "    </tr>\n",
       "    <tr>\n",
       "      <th>0</th>\n",
       "      <td>0</td>\n",
       "      <td>0</td>\n",
       "      <td>0.934317</td>\n",
       "      <td>86581</td>\n",
       "      <td>709.0</td>\n",
       "      <td>0.008765</td>\n",
       "      <td>PD</td>\n",
       "    </tr>\n",
       "    <tr>\n",
       "      <th>1</th>\n",
       "      <td>0</td>\n",
       "      <td>1</td>\n",
       "      <td>5.467292</td>\n",
       "      <td>1273</td>\n",
       "      <td>61.0</td>\n",
       "      <td>0.008765</td>\n",
       "      <td>PD</td>\n",
       "    </tr>\n",
       "    <tr>\n",
       "      <th>2</th>\n",
       "      <td>1</td>\n",
       "      <td>0</td>\n",
       "      <td>0.955736</td>\n",
       "      <td>25983</td>\n",
       "      <td>752.0</td>\n",
       "      <td>0.030282</td>\n",
       "      <td>PD</td>\n",
       "    </tr>\n",
       "    <tr>\n",
       "      <th>3</th>\n",
       "      <td>1</td>\n",
       "      <td>1</td>\n",
       "      <td>3.457481</td>\n",
       "      <td>468</td>\n",
       "      <td>49.0</td>\n",
       "      <td>0.030282</td>\n",
       "      <td>PD</td>\n",
       "    </tr>\n",
       "  </tbody>\n",
       "</table>\n",
       "<p>8170 rows × 7 columns</p>\n",
       "</div>"
      ],
      "text/plain": [
       "    APOE4           breakdown    ADrate   recs  num_AD  ADRate_avg  \\\n",
       "0       0    2-4 times a week  1.033421   7066    64.0    0.008765   \n",
       "1       0  About once a month  1.063007   4508    42.0    0.008765   \n",
       "2       0   About once a week  0.920922   9292    75.0    0.008765   \n",
       "3       0        Almost daily  0.885976  43914   341.0    0.008765   \n",
       "4       0         Do not know  1.431853   3028    38.0    0.008765   \n",
       "..    ...                 ...       ...    ...     ...         ...   \n",
       "3       1                   1  0.770953   2827    66.0    0.030282   \n",
       "0       0                   0  0.934317  86581   709.0    0.008765   \n",
       "1       0                   1  5.467292   1273    61.0    0.008765   \n",
       "2       1                   0  0.955736  25983   752.0    0.030282   \n",
       "3       1                   1  3.457481    468    49.0    0.030282   \n",
       "\n",
       "                 variable  \n",
       "0   able_to_confide_f2110  \n",
       "1   able_to_confide_f2110  \n",
       "2   able_to_confide_f2110  \n",
       "3   able_to_confide_f2110  \n",
       "4   able_to_confide_f2110  \n",
       "..                    ...  \n",
       "3                DIAB_bef  \n",
       "0                      PD  \n",
       "1                      PD  \n",
       "2                      PD  \n",
       "3                      PD  \n",
       "\n",
       "[8170 rows x 7 columns]"
      ]
     },
     "execution_count": 95,
     "metadata": {},
     "output_type": "execute_result"
    }
   ],
   "source": [
    "df1=pd.DataFrame(ukb_filt0.groupby('APOE4')['AD'].mean()).reset_index()\n",
    "df1.columns=['APOE4','ADRate_avg']\n",
    "\n",
    "df_full=pd.DataFrame()\n",
    "for col in ukb_cols_filt2:\n",
    "    if col !='eid':\n",
    "        df=pd.DataFrame(ukb_filt0.groupby(['APOE4',col]).agg({'AD':['mean','count','sum']})).reset_index()\n",
    "        df.columns=['APOE4','breakdown','ADrate','recs','num_AD']\n",
    "        \n",
    "        df=pd.merge(df,df1,on='APOE4',how='inner')\n",
    "       \n",
    "        df['ADrate']=df['ADrate']/df['ADRate_avg']\n",
    "\n",
    "        \n",
    "        \n",
    "        df['variable']=col\n",
    "        df_full=pd.concat([df_full,df],axis=0)\n",
    "df_full"
   ]
  },
  {
   "cell_type": "code",
   "execution_count": 96,
   "metadata": {
    "ExecuteTime": {
     "end_time": "2020-12-02T05:52:51.235284Z",
     "start_time": "2020-12-02T05:52:51.169571Z"
    }
   },
   "outputs": [],
   "source": [
    "df_full.to_csv('%s%s' % (path,'variablesummary.csv'))"
   ]
  },
  {
   "cell_type": "code",
   "execution_count": 180,
   "metadata": {
    "ExecuteTime": {
     "end_time": "2020-11-30T09:17:04.874787Z",
     "start_time": "2020-11-30T09:17:04.864038Z"
    }
   },
   "outputs": [],
   "source": [
    "ukb_tp0['AD']=ukb_tp0_dvars['AD']"
   ]
  },
  {
   "cell_type": "code",
   "execution_count": 173,
   "metadata": {
    "ExecuteTime": {
     "end_time": "2020-11-27T02:55:22.119944Z",
     "start_time": "2020-11-27T02:44:41.136893Z"
    }
   },
   "outputs": [],
   "source": [
    "ukb_tp0.to_csv('%s%s' % (path,'ukb_tp0.csv'))"
   ]
  },
  {
   "cell_type": "code",
   "execution_count": 78,
   "metadata": {
    "ExecuteTime": {
     "end_time": "2020-12-02T05:20:06.919630Z",
     "start_time": "2020-12-02T05:20:06.884800Z"
    }
   },
   "outputs": [
    {
     "data": {
      "text/html": [
       "<div>\n",
       "<style scoped>\n",
       "    .dataframe tbody tr th:only-of-type {\n",
       "        vertical-align: middle;\n",
       "    }\n",
       "\n",
       "    .dataframe tbody tr th {\n",
       "        vertical-align: top;\n",
       "    }\n",
       "\n",
       "    .dataframe thead th {\n",
       "        text-align: right;\n",
       "    }\n",
       "</style>\n",
       "<table border=\"1\" class=\"dataframe\">\n",
       "  <thead>\n",
       "    <tr style=\"text-align: right;\">\n",
       "      <th></th>\n",
       "      <th>APOE4</th>\n",
       "      <th>breakdown</th>\n",
       "      <th>ADrate</th>\n",
       "      <th>recs</th>\n",
       "      <th>num_AD</th>\n",
       "      <th>ADRate_avg</th>\n",
       "      <th>variable</th>\n",
       "    </tr>\n",
       "  </thead>\n",
       "  <tbody>\n",
       "    <tr>\n",
       "      <th>0</th>\n",
       "      <td>0</td>\n",
       "      <td>10</td>\n",
       "      <td>0.0</td>\n",
       "      <td>1</td>\n",
       "      <td>0.0</td>\n",
       "      <td>0.008765</td>\n",
       "      <td>rounded_matches_f20023</td>\n",
       "    </tr>\n",
       "    <tr>\n",
       "      <th>1</th>\n",
       "      <td>0</td>\n",
       "      <td>20</td>\n",
       "      <td>0.0</td>\n",
       "      <td>2</td>\n",
       "      <td>0.0</td>\n",
       "      <td>0.008765</td>\n",
       "      <td>rounded_matches_f20023</td>\n",
       "    </tr>\n",
       "    <tr>\n",
       "      <th>2</th>\n",
       "      <td>0</td>\n",
       "      <td>40</td>\n",
       "      <td>0.0</td>\n",
       "      <td>1</td>\n",
       "      <td>0.0</td>\n",
       "      <td>0.008765</td>\n",
       "      <td>rounded_matches_f20023</td>\n",
       "    </tr>\n",
       "    <tr>\n",
       "      <th>3</th>\n",
       "      <td>0</td>\n",
       "      <td>50</td>\n",
       "      <td>0.0</td>\n",
       "      <td>2</td>\n",
       "      <td>0.0</td>\n",
       "      <td>0.008765</td>\n",
       "      <td>rounded_matches_f20023</td>\n",
       "    </tr>\n",
       "    <tr>\n",
       "      <th>4</th>\n",
       "      <td>0</td>\n",
       "      <td>60</td>\n",
       "      <td>0.0</td>\n",
       "      <td>10</td>\n",
       "      <td>0.0</td>\n",
       "      <td>0.008765</td>\n",
       "      <td>rounded_matches_f20023</td>\n",
       "    </tr>\n",
       "    <tr>\n",
       "      <th>...</th>\n",
       "      <td>...</td>\n",
       "      <td>...</td>\n",
       "      <td>...</td>\n",
       "      <td>...</td>\n",
       "      <td>...</td>\n",
       "      <td>...</td>\n",
       "      <td>...</td>\n",
       "    </tr>\n",
       "    <tr>\n",
       "      <th>69</th>\n",
       "      <td>1</td>\n",
       "      <td>340</td>\n",
       "      <td>0.0</td>\n",
       "      <td>5</td>\n",
       "      <td>0.0</td>\n",
       "      <td>0.030282</td>\n",
       "      <td>rounded_matches_f20023</td>\n",
       "    </tr>\n",
       "    <tr>\n",
       "      <th>70</th>\n",
       "      <td>1</td>\n",
       "      <td>350</td>\n",
       "      <td>0.0</td>\n",
       "      <td>2</td>\n",
       "      <td>0.0</td>\n",
       "      <td>0.030282</td>\n",
       "      <td>rounded_matches_f20023</td>\n",
       "    </tr>\n",
       "    <tr>\n",
       "      <th>71</th>\n",
       "      <td>1</td>\n",
       "      <td>360</td>\n",
       "      <td>0.0</td>\n",
       "      <td>1</td>\n",
       "      <td>0.0</td>\n",
       "      <td>0.030282</td>\n",
       "      <td>rounded_matches_f20023</td>\n",
       "    </tr>\n",
       "    <tr>\n",
       "      <th>72</th>\n",
       "      <td>1</td>\n",
       "      <td>370</td>\n",
       "      <td>0.0</td>\n",
       "      <td>1</td>\n",
       "      <td>0.0</td>\n",
       "      <td>0.030282</td>\n",
       "      <td>rounded_matches_f20023</td>\n",
       "    </tr>\n",
       "    <tr>\n",
       "      <th>73</th>\n",
       "      <td>1</td>\n",
       "      <td>380</td>\n",
       "      <td>0.0</td>\n",
       "      <td>2</td>\n",
       "      <td>0.0</td>\n",
       "      <td>0.030282</td>\n",
       "      <td>rounded_matches_f20023</td>\n",
       "    </tr>\n",
       "  </tbody>\n",
       "</table>\n",
       "<p>74 rows × 7 columns</p>\n",
       "</div>"
      ],
      "text/plain": [
       "    APOE4 breakdown  ADrate  recs  num_AD  ADRate_avg                variable\n",
       "0       0        10     0.0     1     0.0    0.008765  rounded_matches_f20023\n",
       "1       0        20     0.0     2     0.0    0.008765  rounded_matches_f20023\n",
       "2       0        40     0.0     1     0.0    0.008765  rounded_matches_f20023\n",
       "3       0        50     0.0     2     0.0    0.008765  rounded_matches_f20023\n",
       "4       0        60     0.0    10     0.0    0.008765  rounded_matches_f20023\n",
       "..    ...       ...     ...   ...     ...         ...                     ...\n",
       "69      1       340     0.0     5     0.0    0.030282  rounded_matches_f20023\n",
       "70      1       350     0.0     2     0.0    0.030282  rounded_matches_f20023\n",
       "71      1       360     0.0     1     0.0    0.030282  rounded_matches_f20023\n",
       "72      1       370     0.0     1     0.0    0.030282  rounded_matches_f20023\n",
       "73      1       380     0.0     2     0.0    0.030282  rounded_matches_f20023\n",
       "\n",
       "[74 rows x 7 columns]"
      ]
     },
     "execution_count": 78,
     "metadata": {},
     "output_type": "execute_result"
    }
   ],
   "source": [
    "df_full[(df_full['variable'].str.contains('matches'))]"
   ]
  },
  {
   "cell_type": "code",
   "execution_count": 115,
   "metadata": {
    "ExecuteTime": {
     "end_time": "2020-11-25T01:52:04.107334Z",
     "start_time": "2020-11-25T01:52:04.100586Z"
    }
   },
   "outputs": [],
   "source": [
    "vars_analyse=['eid','Genotype','recent_feelings_of_depression_f20510','sleeplessness_insomnia_f1200','parental_ad_status',\n",
    "      'particulate_matter_air_pollution_pm25_2010_f24006',\n",
    "      'number_of_symbol_digit_matches_made_correctly_f20159','sex_f31',\n",
    "      'type_of_special_diet_followed_f20086','ever_used_hormonereplacement_therapy_hrt_f2814'\n",
    "      ]"
   ]
  },
  {
   "cell_type": "code",
   "execution_count": 122,
   "metadata": {
    "ExecuteTime": {
     "end_time": "2020-11-25T01:56:16.557115Z",
     "start_time": "2020-11-25T01:56:15.689085Z"
    }
   },
   "outputs": [],
   "source": [
    "ukb_tp0_dvars=pd.merge(ukb_tp0[vars_analyse],\n",
    "               diseases_bin[['n_eid','Age_Today','AD','Diag_Date_AD','years_bef_diagAD',\n",
    "                           'date_of_attending_assessment_centre_f53', 'age_when_attended_assessment_centre_f21003',\n",
    "                           'EPIL','DIAB','CELIAC','CERVASC','EPIL_bef','DIAB_bef']],\n",
    "                      left_on='eid',right_on='n_eid',how='left')"
   ]
  },
  {
   "cell_type": "code",
   "execution_count": 125,
   "metadata": {
    "ExecuteTime": {
     "end_time": "2020-11-25T01:56:27.870739Z",
     "start_time": "2020-11-25T01:56:27.861509Z"
    }
   },
   "outputs": [
    {
     "data": {
      "text/plain": [
       "Index(['eid', 'Genotype', 'recent_feelings_of_depression_f20510',\n",
       "       'sleeplessness_insomnia_f1200', 'parental_ad_status',\n",
       "       'particulate_matter_air_pollution_pm25_2010_f24006',\n",
       "       'number_of_symbol_digit_matches_made_correctly_f20159', 'sex_f31',\n",
       "       'type_of_special_diet_followed_f20086',\n",
       "       'ever_used_hormonereplacement_therapy_hrt_f2814', 'n_eid', 'Age_Today',\n",
       "       'AD', 'Diag_Date_AD', 'years_bef_diagAD',\n",
       "       'date_of_attending_assessment_centre_f53',\n",
       "       'age_when_attended_assessment_centre_f21003', 'EPIL', 'DIAB', 'CELIAC',\n",
       "       'CERVASC', 'EPIL_bef', 'DIAB_bef', 'mean_score', 'std_score'],\n",
       "      dtype='object')"
      ]
     },
     "execution_count": 125,
     "metadata": {},
     "output_type": "execute_result"
    }
   ],
   "source": [
    "ukb_tp0_score.columns"
   ]
  },
  {
   "cell_type": "code",
   "execution_count": 124,
   "metadata": {
    "ExecuteTime": {
     "end_time": "2020-11-25T01:56:24.153681Z",
     "start_time": "2020-11-25T01:56:23.844824Z"
    }
   },
   "outputs": [],
   "source": [
    "ukb_tp0_score=pd.merge(ukb_tp0_dvars,scoredf,on='eid',how='inner')"
   ]
  },
  {
   "cell_type": "code",
   "execution_count": 126,
   "metadata": {
    "ExecuteTime": {
     "end_time": "2020-11-25T01:56:32.371381Z",
     "start_time": "2020-11-25T01:56:31.497366Z"
    }
   },
   "outputs": [],
   "source": [
    "ukb_tp0_score.to_csv('%s%s' % (path,'ukb_tp0_score.csv'))"
   ]
  },
  {
   "cell_type": "code",
   "execution_count": null,
   "metadata": {},
   "outputs": [],
   "source": [
    "def ageunits(df):\n",
    "    ukb_time=df[['eid','Diag_Date_AD','AD','age_when_attended_assessment_centre_f21003',\n",
    "                        'years_bef_diagAD', 'date_of_attending_assessment_centre_f53']]\n",
    "    ukb_time['age']=ukb_time['age_when_attended_assessment_centre_f21003']\n",
    "    ukb_time['years_fwd']=(dt.datetime.strptime('2020-01-01', '%Y-%m-%d')-\\\n",
    "    pd.to_datetime(ukb_time['date_of_attending_assessment_centre_f53'])).dt.days/365\n",
    "    ukb_time=ukb_time[pd.notnull(ukb_time['years_fwd'])]\n",
    "\n",
    "    ukb_time['time']=0\n",
    "    new_rows = []\n",
    "    for i, row in ukb_time.iterrows():\n",
    "        for j in range(int(row['years_fwd'])): \n",
    "            row['time'] = j\n",
    "            row['age']=row['age_when_attended_assessment_centre_f21003']+j\n",
    "            newrow = row.copy()\n",
    "            new_rows.append(newrow.values)\n",
    "\n",
    "\n",
    "    ukb_time_full = pd.DataFrame(new_rows, columns=ukb_time.columns).reset_index()\n",
    "    return ukb_time_full\n",
    "    "
   ]
  },
  {
   "cell_type": "code",
   "execution_count": null,
   "metadata": {},
   "outputs": [],
   "source": [
    "ukb_time_full=ageunits(ukb_tp0_dvars)"
   ]
  },
  {
   "cell_type": "code",
   "execution_count": 16,
   "metadata": {
    "ExecuteTime": {
     "end_time": "2020-11-20T05:31:53.169167Z",
     "start_time": "2020-11-20T05:05:37.628405Z"
    }
   },
   "outputs": [
    {
     "name": "stdout",
     "output_type": "stream",
     "text": [
      "CPU times: user 25min 32s, sys: 43.4 s, total: 26min 15s\n",
      "Wall time: 26min 15s\n"
     ]
    }
   ],
   "source": [
    "%%time\n",
    "ukb_time=ukb_tp0_dvars[['eid','Diag_Date_AD','AD','age_when_attended_assessment_centre_f21003',\n",
    "                        'years_bef_diagAD', 'date_of_attending_assessment_centre_f53']]\n",
    "\n",
    "ukb_time['age']=ukb_time['age_when_attended_assessment_centre_f21003']\n",
    "ukb_time['years_fwd']=(dt.datetime.strptime('2020-01-01', '%Y-%m-%d')-\\\n",
    "pd.to_datetime(ukb_time['date_of_attending_assessment_centre_f53'])).dt.days/365\n",
    "ukb_time=ukb_time[pd.notnull(ukb_time['years_fwd'])]\n",
    "\n",
    "ukb_time['time']=0\n",
    "new_rows = []\n",
    "for i, row in ukb_time.iterrows():\n",
    "    for j in range(int(row['years_fwd'])): \n",
    "        row['time'] = j\n",
    "        row['age']=row['age_when_attended_assessment_centre_f21003']+j\n",
    "        newrow = row.copy()\n",
    "        new_rows.append(newrow.values)\n",
    "        \n",
    "\n",
    "ukb_time_full = pd.DataFrame(new_rows, columns=ukb_time.columns).reset_index()"
   ]
  },
  {
   "cell_type": "code",
   "execution_count": 68,
   "metadata": {
    "ExecuteTime": {
     "end_time": "2020-11-24T05:00:50.915017Z",
     "start_time": "2020-11-24T05:00:50.910246Z"
    }
   },
   "outputs": [
    {
     "data": {
      "text/plain": [
       "['CELIAC']"
      ]
     },
     "execution_count": 68,
     "metadata": {},
     "output_type": "execute_result"
    }
   ],
   "source": [
    "findcols(ukb_tp0_dvars,'CE')"
   ]
  },
  {
   "cell_type": "code",
   "execution_count": 25,
   "metadata": {
    "ExecuteTime": {
     "end_time": "2020-11-20T05:40:57.834745Z",
     "start_time": "2020-11-20T05:40:53.260577Z"
    }
   },
   "outputs": [],
   "source": [
    "ukb_time_full2=pd.merge(ukb_time,ukb_tp0_dvars[['eid','diagnosed_with_coeliac_disease_or_gluten_sensitivity_f21068',\n",
    "                                               'EPIL','DIAB','EPIL_bef','DIAB_bef']],on='eid',how='left')"
   ]
  },
  {
   "cell_type": "code",
   "execution_count": 18,
   "metadata": {
    "ExecuteTime": {
     "end_time": "2020-11-20T05:31:57.038350Z",
     "start_time": "2020-11-20T05:31:57.034134Z"
    }
   },
   "outputs": [],
   "source": [
    "def drawline(df,varx,vary,huevar):\n",
    "    plt.figure(figsize=(12, 8))\n",
    "    sns.lineplot(data = df, x=varx, y=vary, hue=huevar)"
   ]
  },
  {
   "cell_type": "code",
   "execution_count": 19,
   "metadata": {
    "ExecuteTime": {
     "end_time": "2020-11-20T05:32:31.241831Z",
     "start_time": "2020-11-20T05:31:57.040081Z"
    },
    "scrolled": true
   },
   "outputs": [
    {
     "data": {
      "image/png": "[encoded data removed]",
      "text/plain": [
       "<Figure size 864x576 with 1 Axes>"
      ]
     },
     "metadata": {
      "needs_background": "light"
     },
     "output_type": "display_data"
    }
   ],
   "source": [
    "drawline(ukb_time_full2,\"age\",\"AD\",'diagnosed_with_coeliac_disease_or_gluten_sensitivity_f21068')"
   ]
  },
  {
   "cell_type": "code",
   "execution_count": 96,
   "metadata": {
    "ExecuteTime": {
     "end_time": "2020-11-24T05:53:45.046350Z",
     "start_time": "2020-11-24T05:53:44.511340Z"
    }
   },
   "outputs": [
    {
     "data": {
      "text/plain": [
       "ever_used_hormonereplacement_therapy_hrt_f2814\n",
       "Do not know             0.011127\n",
       "No                      0.003351\n",
       "Prefer not to answer    0.003788\n",
       "Yes                     0.006556\n",
       "Name: AD, dtype: float64"
      ]
     },
     "execution_count": 96,
     "metadata": {},
     "output_type": "execute_result"
    }
   ],
   "source": [
    "ukb_tp0_dvars[(ukb_tp0_dvars['sex_f31']==\"Female\")].groupby(['ever_used_hormonereplacement_therapy_hrt_f2814'])['AD'].mean()"
   ]
  },
  {
   "cell_type": "code",
   "execution_count": 95,
   "metadata": {
    "ExecuteTime": {
     "end_time": "2020-11-24T05:53:28.288103Z",
     "start_time": "2020-11-24T05:53:28.155880Z"
    }
   },
   "outputs": [
    {
     "data": {
      "text/plain": [
       "Female    273378\n",
       "Male      229115\n",
       "Name: sex_f31, dtype: int64"
      ]
     },
     "execution_count": 95,
     "metadata": {},
     "output_type": "execute_result"
    }
   ],
   "source": [
    "ukb_tp0_dvars['sex_f31'].value_counts()"
   ]
  },
  {
   "cell_type": "code",
   "execution_count": 94,
   "metadata": {
    "ExecuteTime": {
     "end_time": "2020-11-24T05:53:13.318856Z",
     "start_time": "2020-11-24T05:53:13.310789Z"
    }
   },
   "outputs": [
    {
     "data": {
      "text/plain": [
       "['sex_f31']"
      ]
     },
     "execution_count": 94,
     "metadata": {},
     "output_type": "execute_result"
    }
   ],
   "source": [
    "findcols(ukb_tp0_dvars,'sex')"
   ]
  },
  {
   "cell_type": "code",
   "execution_count": 32,
   "metadata": {
    "ExecuteTime": {
     "end_time": "2020-11-20T05:43:44.305553Z",
     "start_time": "2020-11-20T05:43:43.970566Z"
    }
   },
   "outputs": [],
   "source": [
    "rule_coeliac=(ukb_tp0_dvars['diagnosed_with_coeliac_disease_or_gluten_sensitivity_f21068']==\"Yes\")\n",
    "rule_coeliacno=(ukb_tp0_dvars['diagnosed_with_coeliac_disease_or_gluten_sensitivity_f21068']==\"No\")\n",
    "rule_diaby=(ukb_tp0_dvars['DIAB_bef']==1)\n",
    "rule_diabn=(ukb_tp0_dvars['DIAB_bef']==0)\n",
    "rule_epily=(ukb_tp0_dvars['EPIL_bef']==1)\n",
    "rule_epiln=(ukb_tp0_dvars['EPIL_bef']==0)\n",
    "rule_age=(ukb_tp0_dvars['Age_Today']>75)\n",
    "rule_AD=(ukb_tp0_dvars['AD']==1)"
   ]
  },
  {
   "cell_type": "code",
   "execution_count": 57,
   "metadata": {
    "ExecuteTime": {
     "end_time": "2020-11-24T04:46:53.250369Z",
     "start_time": "2020-11-24T04:46:52.759480Z"
    }
   },
   "outputs": [],
   "source": [
    "mask=(pd.isnull(ukb_tp0_dvars['diagnosed_with_coeliac_disease_or_gluten_sensitivity_f21068']))\n",
    "ukb_tp0_dvars['diagnosed_with_coeliac_disease_or_gluten_sensitivity_f21068'][mask]=\"Missing\""
   ]
  },
  {
   "cell_type": "code",
   "execution_count": 75,
   "metadata": {
    "ExecuteTime": {
     "end_time": "2020-11-24T05:14:53.927765Z",
     "start_time": "2020-11-24T05:14:53.919546Z"
    }
   },
   "outputs": [
    {
     "data": {
      "text/plain": [
       "['type_of_special_diet_followed_f20086']"
      ]
     },
     "execution_count": 75,
     "metadata": {},
     "output_type": "execute_result"
    }
   ],
   "source": [
    "findcols(ukb_tp0,'f20086')"
   ]
  },
  {
   "cell_type": "code",
   "execution_count": 81,
   "metadata": {
    "ExecuteTime": {
     "end_time": "2020-11-24T05:17:17.095108Z",
     "start_time": "2020-11-24T05:17:16.971737Z"
    }
   },
   "outputs": [
    {
     "data": {
      "text/plain": [
       "type_of_special_diet_followed_f20086\n",
       "Gluten-free     0.004782\n",
       "Lactose-free    0.002986\n",
       "Low calorie     0.003086\n",
       "Other           0.002945\n",
       "Vegan           0.000000\n",
       "Vegetarian      0.001918\n",
       "Name: AD, dtype: float64"
      ]
     },
     "execution_count": 81,
     "metadata": {},
     "output_type": "execute_result"
    }
   ],
   "source": [
    "ukb_tp0_dvars.groupby(['type_of_special_diet_followed_f20086'])['AD'].mean()"
   ]
  },
  {
   "cell_type": "code",
   "execution_count": 80,
   "metadata": {
    "ExecuteTime": {
     "end_time": "2020-11-24T05:17:08.583988Z",
     "start_time": "2020-11-24T05:17:07.862544Z"
    }
   },
   "outputs": [
    {
     "ename": "TypeError",
     "evalue": "unsupported operand type(s) for +: 'int' and 'str'",
     "output_type": "error",
     "traceback": [
      "\u001b[0;31m---------------------------------------------------------------------------\u001b[0m",
      "\u001b[0;31mTypeError\u001b[0m                                 Traceback (most recent call last)",
      "\u001b[0;32m/opt/conda/lib/python3.7/site-packages/pandas/core/groupby/generic.py\u001b[0m in \u001b[0;36maggregate\u001b[0;34m(self, func_or_funcs, *args, **kwargs)\u001b[0m\n\u001b[1;32m    862\u001b[0m             \u001b[0;32mtry\u001b[0m\u001b[0;34m:\u001b[0m\u001b[0;34m\u001b[0m\u001b[0;34m\u001b[0m\u001b[0m\n\u001b[0;32m--> 863\u001b[0;31m                 \u001b[0;32mreturn\u001b[0m \u001b[0mself\u001b[0m\u001b[0;34m.\u001b[0m\u001b[0m_python_agg_general\u001b[0m\u001b[0;34m(\u001b[0m\u001b[0mfunc_or_funcs\u001b[0m\u001b[0;34m,\u001b[0m \u001b[0;34m*\u001b[0m\u001b[0margs\u001b[0m\u001b[0;34m,\u001b[0m \u001b[0;34m**\u001b[0m\u001b[0mkwargs\u001b[0m\u001b[0;34m)\u001b[0m\u001b[0;34m\u001b[0m\u001b[0;34m\u001b[0m\u001b[0m\n\u001b[0m\u001b[1;32m    864\u001b[0m             \u001b[0;32mexcept\u001b[0m \u001b[0mException\u001b[0m\u001b[0;34m:\u001b[0m\u001b[0;34m\u001b[0m\u001b[0;34m\u001b[0m\u001b[0m\n",
      "\u001b[0;32m/opt/conda/lib/python3.7/site-packages/pandas/core/groupby/groupby.py\u001b[0m in \u001b[0;36m_python_agg_general\u001b[0;34m(self, func, *args, **kwargs)\u001b[0m\n\u001b[1;32m    905\u001b[0m         \u001b[0;32mif\u001b[0m \u001b[0mlen\u001b[0m\u001b[0;34m(\u001b[0m\u001b[0moutput\u001b[0m\u001b[0;34m)\u001b[0m \u001b[0;34m==\u001b[0m \u001b[0;36m0\u001b[0m\u001b[0;34m:\u001b[0m\u001b[0;34m\u001b[0m\u001b[0;34m\u001b[0m\u001b[0m\n\u001b[0;32m--> 906\u001b[0;31m             \u001b[0;32mreturn\u001b[0m \u001b[0mself\u001b[0m\u001b[0;34m.\u001b[0m\u001b[0m_python_apply_general\u001b[0m\u001b[0;34m(\u001b[0m\u001b[0mf\u001b[0m\u001b[0;34m)\u001b[0m\u001b[0;34m\u001b[0m\u001b[0;34m\u001b[0m\u001b[0m\n\u001b[0m\u001b[1;32m    907\u001b[0m \u001b[0;34m\u001b[0m\u001b[0m\n",
      "\u001b[0;32m/opt/conda/lib/python3.7/site-packages/pandas/core/groupby/groupby.py\u001b[0m in \u001b[0;36m_python_apply_general\u001b[0;34m(self, f)\u001b[0m\n\u001b[1;32m    741\u001b[0m     \u001b[0;32mdef\u001b[0m \u001b[0m_python_apply_general\u001b[0m\u001b[0;34m(\u001b[0m\u001b[0mself\u001b[0m\u001b[0;34m,\u001b[0m \u001b[0mf\u001b[0m\u001b[0;34m)\u001b[0m\u001b[0;34m:\u001b[0m\u001b[0;34m\u001b[0m\u001b[0;34m\u001b[0m\u001b[0m\n\u001b[0;32m--> 742\u001b[0;31m         \u001b[0mkeys\u001b[0m\u001b[0;34m,\u001b[0m \u001b[0mvalues\u001b[0m\u001b[0;34m,\u001b[0m \u001b[0mmutated\u001b[0m \u001b[0;34m=\u001b[0m \u001b[0mself\u001b[0m\u001b[0;34m.\u001b[0m\u001b[0mgrouper\u001b[0m\u001b[0;34m.\u001b[0m\u001b[0mapply\u001b[0m\u001b[0;34m(\u001b[0m\u001b[0mf\u001b[0m\u001b[0;34m,\u001b[0m \u001b[0mself\u001b[0m\u001b[0;34m.\u001b[0m\u001b[0m_selected_obj\u001b[0m\u001b[0;34m,\u001b[0m \u001b[0mself\u001b[0m\u001b[0;34m.\u001b[0m\u001b[0maxis\u001b[0m\u001b[0;34m)\u001b[0m\u001b[0;34m\u001b[0m\u001b[0;34m\u001b[0m\u001b[0m\n\u001b[0m\u001b[1;32m    743\u001b[0m \u001b[0;34m\u001b[0m\u001b[0m\n",
      "\u001b[0;32m/opt/conda/lib/python3.7/site-packages/pandas/core/groupby/ops.py\u001b[0m in \u001b[0;36mapply\u001b[0;34m(self, f, data, axis)\u001b[0m\n\u001b[1;32m    236\u001b[0m             \u001b[0mgroup_axes\u001b[0m \u001b[0;34m=\u001b[0m \u001b[0m_get_axes\u001b[0m\u001b[0;34m(\u001b[0m\u001b[0mgroup\u001b[0m\u001b[0;34m)\u001b[0m\u001b[0;34m\u001b[0m\u001b[0;34m\u001b[0m\u001b[0m\n\u001b[0;32m--> 237\u001b[0;31m             \u001b[0mres\u001b[0m \u001b[0;34m=\u001b[0m \u001b[0mf\u001b[0m\u001b[0;34m(\u001b[0m\u001b[0mgroup\u001b[0m\u001b[0;34m)\u001b[0m\u001b[0;34m\u001b[0m\u001b[0;34m\u001b[0m\u001b[0m\n\u001b[0m\u001b[1;32m    238\u001b[0m             \u001b[0;32mif\u001b[0m \u001b[0;32mnot\u001b[0m \u001b[0m_is_indexed_like\u001b[0m\u001b[0;34m(\u001b[0m\u001b[0mres\u001b[0m\u001b[0;34m,\u001b[0m \u001b[0mgroup_axes\u001b[0m\u001b[0;34m)\u001b[0m\u001b[0;34m:\u001b[0m\u001b[0;34m\u001b[0m\u001b[0;34m\u001b[0m\u001b[0m\n",
      "\u001b[0;32m/opt/conda/lib/python3.7/site-packages/pandas/core/groupby/groupby.py\u001b[0m in \u001b[0;36m<lambda>\u001b[0;34m(x)\u001b[0m\n\u001b[1;32m    893\u001b[0m         \u001b[0mfunc\u001b[0m \u001b[0;34m=\u001b[0m \u001b[0mself\u001b[0m\u001b[0;34m.\u001b[0m\u001b[0m_is_builtin_func\u001b[0m\u001b[0;34m(\u001b[0m\u001b[0mfunc\u001b[0m\u001b[0;34m)\u001b[0m\u001b[0;34m\u001b[0m\u001b[0;34m\u001b[0m\u001b[0m\n\u001b[0;32m--> 894\u001b[0;31m         \u001b[0mf\u001b[0m \u001b[0;34m=\u001b[0m \u001b[0;32mlambda\u001b[0m \u001b[0mx\u001b[0m\u001b[0;34m:\u001b[0m \u001b[0mfunc\u001b[0m\u001b[0;34m(\u001b[0m\u001b[0mx\u001b[0m\u001b[0;34m,\u001b[0m \u001b[0;34m*\u001b[0m\u001b[0margs\u001b[0m\u001b[0;34m,\u001b[0m \u001b[0;34m**\u001b[0m\u001b[0mkwargs\u001b[0m\u001b[0;34m)\u001b[0m\u001b[0;34m\u001b[0m\u001b[0;34m\u001b[0m\u001b[0m\n\u001b[0m\u001b[1;32m    895\u001b[0m \u001b[0;34m\u001b[0m\u001b[0m\n",
      "\u001b[0;32m/opt/conda/lib/python3.7/site-packages/pandas/core/groupby/groupby.py\u001b[0m in \u001b[0;36m<lambda>\u001b[0;34m(x)\u001b[0m\n\u001b[1;32m   1376\u001b[0m                 \u001b[0;31m# apply a non-cython aggregation\u001b[0m\u001b[0;34m\u001b[0m\u001b[0;34m\u001b[0m\u001b[0;34m\u001b[0m\u001b[0m\n\u001b[0;32m-> 1377\u001b[0;31m                 \u001b[0mresult\u001b[0m \u001b[0;34m=\u001b[0m \u001b[0mself\u001b[0m\u001b[0;34m.\u001b[0m\u001b[0maggregate\u001b[0m\u001b[0;34m(\u001b[0m\u001b[0;32mlambda\u001b[0m \u001b[0mx\u001b[0m\u001b[0;34m:\u001b[0m \u001b[0mnpfunc\u001b[0m\u001b[0;34m(\u001b[0m\u001b[0mx\u001b[0m\u001b[0;34m,\u001b[0m \u001b[0maxis\u001b[0m\u001b[0;34m=\u001b[0m\u001b[0mself\u001b[0m\u001b[0;34m.\u001b[0m\u001b[0maxis\u001b[0m\u001b[0;34m)\u001b[0m\u001b[0;34m)\u001b[0m\u001b[0;34m\u001b[0m\u001b[0;34m\u001b[0m\u001b[0m\n\u001b[0m\u001b[1;32m   1378\u001b[0m \u001b[0;34m\u001b[0m\u001b[0m\n",
      "\u001b[0;32m<__array_function__ internals>\u001b[0m in \u001b[0;36msum\u001b[0;34m(*args, **kwargs)\u001b[0m\n",
      "\u001b[0;32m/opt/conda/lib/python3.7/site-packages/numpy/core/fromnumeric.py\u001b[0m in \u001b[0;36msum\u001b[0;34m(a, axis, dtype, out, keepdims, initial, where)\u001b[0m\n\u001b[1;32m   2228\u001b[0m     return _wrapreduction(a, np.add, 'sum', axis, dtype, out, keepdims=keepdims,\n\u001b[0;32m-> 2229\u001b[0;31m                           initial=initial, where=where)\n\u001b[0m\u001b[1;32m   2230\u001b[0m \u001b[0;34m\u001b[0m\u001b[0m\n",
      "\u001b[0;32m/opt/conda/lib/python3.7/site-packages/numpy/core/fromnumeric.py\u001b[0m in \u001b[0;36m_wrapreduction\u001b[0;34m(obj, ufunc, method, axis, dtype, out, **kwargs)\u001b[0m\n\u001b[1;32m     87\u001b[0m             \u001b[0;32melse\u001b[0m\u001b[0;34m:\u001b[0m\u001b[0;34m\u001b[0m\u001b[0;34m\u001b[0m\u001b[0m\n\u001b[0;32m---> 88\u001b[0;31m                 \u001b[0;32mreturn\u001b[0m \u001b[0mreduction\u001b[0m\u001b[0;34m(\u001b[0m\u001b[0maxis\u001b[0m\u001b[0;34m=\u001b[0m\u001b[0maxis\u001b[0m\u001b[0;34m,\u001b[0m \u001b[0mout\u001b[0m\u001b[0;34m=\u001b[0m\u001b[0mout\u001b[0m\u001b[0;34m,\u001b[0m \u001b[0;34m**\u001b[0m\u001b[0mpasskwargs\u001b[0m\u001b[0;34m)\u001b[0m\u001b[0;34m\u001b[0m\u001b[0;34m\u001b[0m\u001b[0m\n\u001b[0m\u001b[1;32m     89\u001b[0m \u001b[0;34m\u001b[0m\u001b[0m\n",
      "\u001b[0;32m/opt/conda/lib/python3.7/site-packages/pandas/core/generic.py\u001b[0m in \u001b[0;36mstat_func\u001b[0;34m(self, axis, skipna, level, numeric_only, min_count, **kwargs)\u001b[0m\n\u001b[1;32m  11584\u001b[0m             \u001b[0mnumeric_only\u001b[0m\u001b[0;34m=\u001b[0m\u001b[0mnumeric_only\u001b[0m\u001b[0;34m,\u001b[0m\u001b[0;34m\u001b[0m\u001b[0;34m\u001b[0m\u001b[0m\n\u001b[0;32m> 11585\u001b[0;31m             \u001b[0mmin_count\u001b[0m\u001b[0;34m=\u001b[0m\u001b[0mmin_count\u001b[0m\u001b[0;34m,\u001b[0m\u001b[0;34m\u001b[0m\u001b[0;34m\u001b[0m\u001b[0m\n\u001b[0m\u001b[1;32m  11586\u001b[0m         )\n",
      "\u001b[0;32m/opt/conda/lib/python3.7/site-packages/pandas/core/series.py\u001b[0m in \u001b[0;36m_reduce\u001b[0;34m(self, op, name, axis, skipna, numeric_only, filter_type, **kwds)\u001b[0m\n\u001b[1;32m   4089\u001b[0m             \u001b[0;32mwith\u001b[0m \u001b[0mnp\u001b[0m\u001b[0;34m.\u001b[0m\u001b[0merrstate\u001b[0m\u001b[0;34m(\u001b[0m\u001b[0mall\u001b[0m\u001b[0;34m=\u001b[0m\u001b[0;34m\"ignore\"\u001b[0m\u001b[0;34m)\u001b[0m\u001b[0;34m:\u001b[0m\u001b[0;34m\u001b[0m\u001b[0;34m\u001b[0m\u001b[0m\n\u001b[0;32m-> 4090\u001b[0;31m                 \u001b[0;32mreturn\u001b[0m \u001b[0mop\u001b[0m\u001b[0;34m(\u001b[0m\u001b[0mdelegate\u001b[0m\u001b[0;34m,\u001b[0m \u001b[0mskipna\u001b[0m\u001b[0;34m=\u001b[0m\u001b[0mskipna\u001b[0m\u001b[0;34m,\u001b[0m \u001b[0;34m**\u001b[0m\u001b[0mkwds\u001b[0m\u001b[0;34m)\u001b[0m\u001b[0;34m\u001b[0m\u001b[0;34m\u001b[0m\u001b[0m\n\u001b[0m\u001b[1;32m   4091\u001b[0m \u001b[0;34m\u001b[0m\u001b[0m\n",
      "\u001b[0;32m/opt/conda/lib/python3.7/site-packages/pandas/core/nanops.py\u001b[0m in \u001b[0;36m_f\u001b[0;34m(*args, **kwargs)\u001b[0m\n\u001b[1;32m     69\u001b[0m                 \u001b[0;32mwith\u001b[0m \u001b[0mnp\u001b[0m\u001b[0;34m.\u001b[0m\u001b[0merrstate\u001b[0m\u001b[0;34m(\u001b[0m\u001b[0minvalid\u001b[0m\u001b[0;34m=\u001b[0m\u001b[0;34m\"ignore\"\u001b[0m\u001b[0;34m)\u001b[0m\u001b[0;34m:\u001b[0m\u001b[0;34m\u001b[0m\u001b[0;34m\u001b[0m\u001b[0m\n\u001b[0;32m---> 70\u001b[0;31m                     \u001b[0;32mreturn\u001b[0m \u001b[0mf\u001b[0m\u001b[0;34m(\u001b[0m\u001b[0;34m*\u001b[0m\u001b[0margs\u001b[0m\u001b[0;34m,\u001b[0m \u001b[0;34m**\u001b[0m\u001b[0mkwargs\u001b[0m\u001b[0;34m)\u001b[0m\u001b[0;34m\u001b[0m\u001b[0;34m\u001b[0m\u001b[0m\n\u001b[0m\u001b[1;32m     71\u001b[0m             \u001b[0;32mexcept\u001b[0m \u001b[0mValueError\u001b[0m \u001b[0;32mas\u001b[0m \u001b[0me\u001b[0m\u001b[0;34m:\u001b[0m\u001b[0;34m\u001b[0m\u001b[0;34m\u001b[0m\u001b[0m\n",
      "\u001b[0;32m/opt/conda/lib/python3.7/site-packages/pandas/core/nanops.py\u001b[0m in \u001b[0;36mnansum\u001b[0;34m(values, axis, skipna, min_count, mask)\u001b[0m\n\u001b[1;32m    501\u001b[0m         \u001b[0mdtype_sum\u001b[0m \u001b[0;34m=\u001b[0m \u001b[0mnp\u001b[0m\u001b[0;34m.\u001b[0m\u001b[0mfloat64\u001b[0m\u001b[0;34m\u001b[0m\u001b[0;34m\u001b[0m\u001b[0m\n\u001b[0;32m--> 502\u001b[0;31m     \u001b[0mthe_sum\u001b[0m \u001b[0;34m=\u001b[0m \u001b[0mvalues\u001b[0m\u001b[0;34m.\u001b[0m\u001b[0msum\u001b[0m\u001b[0;34m(\u001b[0m\u001b[0maxis\u001b[0m\u001b[0;34m,\u001b[0m \u001b[0mdtype\u001b[0m\u001b[0;34m=\u001b[0m\u001b[0mdtype_sum\u001b[0m\u001b[0;34m)\u001b[0m\u001b[0;34m\u001b[0m\u001b[0;34m\u001b[0m\u001b[0m\n\u001b[0m\u001b[1;32m    503\u001b[0m     \u001b[0mthe_sum\u001b[0m \u001b[0;34m=\u001b[0m \u001b[0m_maybe_null_out\u001b[0m\u001b[0;34m(\u001b[0m\u001b[0mthe_sum\u001b[0m\u001b[0;34m,\u001b[0m \u001b[0maxis\u001b[0m\u001b[0;34m,\u001b[0m \u001b[0mmask\u001b[0m\u001b[0;34m,\u001b[0m \u001b[0mvalues\u001b[0m\u001b[0;34m.\u001b[0m\u001b[0mshape\u001b[0m\u001b[0;34m,\u001b[0m \u001b[0mmin_count\u001b[0m\u001b[0;34m=\u001b[0m\u001b[0mmin_count\u001b[0m\u001b[0;34m)\u001b[0m\u001b[0;34m\u001b[0m\u001b[0;34m\u001b[0m\u001b[0m\n",
      "\u001b[0;32m/opt/conda/lib/python3.7/site-packages/numpy/core/_methods.py\u001b[0m in \u001b[0;36m_sum\u001b[0;34m(a, axis, dtype, out, keepdims, initial, where)\u001b[0m\n\u001b[1;32m     37\u001b[0m          initial=_NoValue, where=True):\n\u001b[0;32m---> 38\u001b[0;31m     \u001b[0;32mreturn\u001b[0m \u001b[0mumr_sum\u001b[0m\u001b[0;34m(\u001b[0m\u001b[0ma\u001b[0m\u001b[0;34m,\u001b[0m \u001b[0maxis\u001b[0m\u001b[0;34m,\u001b[0m \u001b[0mdtype\u001b[0m\u001b[0;34m,\u001b[0m \u001b[0mout\u001b[0m\u001b[0;34m,\u001b[0m \u001b[0mkeepdims\u001b[0m\u001b[0;34m,\u001b[0m \u001b[0minitial\u001b[0m\u001b[0;34m,\u001b[0m \u001b[0mwhere\u001b[0m\u001b[0;34m)\u001b[0m\u001b[0;34m\u001b[0m\u001b[0;34m\u001b[0m\u001b[0m\n\u001b[0m\u001b[1;32m     39\u001b[0m \u001b[0;34m\u001b[0m\u001b[0m\n",
      "\u001b[0;31mTypeError\u001b[0m: unsupported operand type(s) for +: 'int' and 'str'",
      "\nDuring handling of the above exception, another exception occurred:\n",
      "\u001b[0;31mTypeError\u001b[0m                                 Traceback (most recent call last)",
      "\u001b[0;32m<ipython-input-80-1a44b22a5ea8>\u001b[0m in \u001b[0;36m<module>\u001b[0;34m\u001b[0m\n\u001b[0;32m----> 1\u001b[0;31m \u001b[0mukb_tp0_dvars\u001b[0m\u001b[0;34m.\u001b[0m\u001b[0mgroupby\u001b[0m\u001b[0;34m(\u001b[0m\u001b[0;34m[\u001b[0m\u001b[0;34m'AD'\u001b[0m\u001b[0;34m]\u001b[0m\u001b[0;34m)\u001b[0m\u001b[0;34m[\u001b[0m\u001b[0;34m'type_of_special_diet_followed_f20086'\u001b[0m\u001b[0;34m]\u001b[0m\u001b[0;34m.\u001b[0m\u001b[0msum\u001b[0m\u001b[0;34m(\u001b[0m\u001b[0;34m)\u001b[0m\u001b[0;34m\u001b[0m\u001b[0;34m\u001b[0m\u001b[0m\n\u001b[0m",
      "\u001b[0;32m/opt/conda/lib/python3.7/site-packages/pandas/core/groupby/groupby.py\u001b[0m in \u001b[0;36mf\u001b[0;34m(self, **kwargs)\u001b[0m\n\u001b[1;32m   1375\u001b[0m \u001b[0;34m\u001b[0m\u001b[0m\n\u001b[1;32m   1376\u001b[0m                 \u001b[0;31m# apply a non-cython aggregation\u001b[0m\u001b[0;34m\u001b[0m\u001b[0;34m\u001b[0m\u001b[0;34m\u001b[0m\u001b[0m\n\u001b[0;32m-> 1377\u001b[0;31m                 \u001b[0mresult\u001b[0m \u001b[0;34m=\u001b[0m \u001b[0mself\u001b[0m\u001b[0;34m.\u001b[0m\u001b[0maggregate\u001b[0m\u001b[0;34m(\u001b[0m\u001b[0;32mlambda\u001b[0m \u001b[0mx\u001b[0m\u001b[0;34m:\u001b[0m \u001b[0mnpfunc\u001b[0m\u001b[0;34m(\u001b[0m\u001b[0mx\u001b[0m\u001b[0;34m,\u001b[0m \u001b[0maxis\u001b[0m\u001b[0;34m=\u001b[0m\u001b[0mself\u001b[0m\u001b[0;34m.\u001b[0m\u001b[0maxis\u001b[0m\u001b[0;34m)\u001b[0m\u001b[0;34m)\u001b[0m\u001b[0;34m\u001b[0m\u001b[0;34m\u001b[0m\u001b[0m\n\u001b[0m\u001b[1;32m   1378\u001b[0m \u001b[0;34m\u001b[0m\u001b[0m\n\u001b[1;32m   1379\u001b[0m                 \u001b[0;31m# coerce the resulting columns if we can\u001b[0m\u001b[0;34m\u001b[0m\u001b[0;34m\u001b[0m\u001b[0;34m\u001b[0m\u001b[0m\n",
      "\u001b[0;32m/opt/conda/lib/python3.7/site-packages/pandas/core/groupby/generic.py\u001b[0m in \u001b[0;36maggregate\u001b[0;34m(self, func_or_funcs, *args, **kwargs)\u001b[0m\n\u001b[1;32m    863\u001b[0m                 \u001b[0;32mreturn\u001b[0m \u001b[0mself\u001b[0m\u001b[0;34m.\u001b[0m\u001b[0m_python_agg_general\u001b[0m\u001b[0;34m(\u001b[0m\u001b[0mfunc_or_funcs\u001b[0m\u001b[0;34m,\u001b[0m \u001b[0;34m*\u001b[0m\u001b[0margs\u001b[0m\u001b[0;34m,\u001b[0m \u001b[0;34m**\u001b[0m\u001b[0mkwargs\u001b[0m\u001b[0;34m)\u001b[0m\u001b[0;34m\u001b[0m\u001b[0;34m\u001b[0m\u001b[0m\n\u001b[1;32m    864\u001b[0m             \u001b[0;32mexcept\u001b[0m \u001b[0mException\u001b[0m\u001b[0;34m:\u001b[0m\u001b[0;34m\u001b[0m\u001b[0;34m\u001b[0m\u001b[0m\n\u001b[0;32m--> 865\u001b[0;31m                 \u001b[0mresult\u001b[0m \u001b[0;34m=\u001b[0m \u001b[0mself\u001b[0m\u001b[0;34m.\u001b[0m\u001b[0m_aggregate_named\u001b[0m\u001b[0;34m(\u001b[0m\u001b[0mfunc_or_funcs\u001b[0m\u001b[0;34m,\u001b[0m \u001b[0;34m*\u001b[0m\u001b[0margs\u001b[0m\u001b[0;34m,\u001b[0m \u001b[0;34m**\u001b[0m\u001b[0mkwargs\u001b[0m\u001b[0;34m)\u001b[0m\u001b[0;34m\u001b[0m\u001b[0;34m\u001b[0m\u001b[0m\n\u001b[0m\u001b[1;32m    866\u001b[0m \u001b[0;34m\u001b[0m\u001b[0m\n\u001b[1;32m    867\u001b[0m             \u001b[0mindex\u001b[0m \u001b[0;34m=\u001b[0m \u001b[0mIndex\u001b[0m\u001b[0;34m(\u001b[0m\u001b[0msorted\u001b[0m\u001b[0;34m(\u001b[0m\u001b[0mresult\u001b[0m\u001b[0;34m)\u001b[0m\u001b[0;34m,\u001b[0m \u001b[0mname\u001b[0m\u001b[0;34m=\u001b[0m\u001b[0mself\u001b[0m\u001b[0;34m.\u001b[0m\u001b[0mgrouper\u001b[0m\u001b[0;34m.\u001b[0m\u001b[0mnames\u001b[0m\u001b[0;34m[\u001b[0m\u001b[0;36m0\u001b[0m\u001b[0;34m]\u001b[0m\u001b[0;34m)\u001b[0m\u001b[0;34m\u001b[0m\u001b[0;34m\u001b[0m\u001b[0m\n",
      "\u001b[0;32m/opt/conda/lib/python3.7/site-packages/pandas/core/groupby/generic.py\u001b[0m in \u001b[0;36m_aggregate_named\u001b[0;34m(self, func, *args, **kwargs)\u001b[0m\n\u001b[1;32m    995\u001b[0m         \u001b[0;32mfor\u001b[0m \u001b[0mname\u001b[0m\u001b[0;34m,\u001b[0m \u001b[0mgroup\u001b[0m \u001b[0;32min\u001b[0m \u001b[0mself\u001b[0m\u001b[0;34m:\u001b[0m\u001b[0;34m\u001b[0m\u001b[0;34m\u001b[0m\u001b[0m\n\u001b[1;32m    996\u001b[0m             \u001b[0mgroup\u001b[0m\u001b[0;34m.\u001b[0m\u001b[0mname\u001b[0m \u001b[0;34m=\u001b[0m \u001b[0mname\u001b[0m\u001b[0;34m\u001b[0m\u001b[0;34m\u001b[0m\u001b[0m\n\u001b[0;32m--> 997\u001b[0;31m             \u001b[0moutput\u001b[0m \u001b[0;34m=\u001b[0m \u001b[0mfunc\u001b[0m\u001b[0;34m(\u001b[0m\u001b[0mgroup\u001b[0m\u001b[0;34m,\u001b[0m \u001b[0;34m*\u001b[0m\u001b[0margs\u001b[0m\u001b[0;34m,\u001b[0m \u001b[0;34m**\u001b[0m\u001b[0mkwargs\u001b[0m\u001b[0;34m)\u001b[0m\u001b[0;34m\u001b[0m\u001b[0;34m\u001b[0m\u001b[0m\n\u001b[0m\u001b[1;32m    998\u001b[0m             \u001b[0;32mif\u001b[0m \u001b[0misinstance\u001b[0m\u001b[0;34m(\u001b[0m\u001b[0moutput\u001b[0m\u001b[0;34m,\u001b[0m \u001b[0;34m(\u001b[0m\u001b[0mSeries\u001b[0m\u001b[0;34m,\u001b[0m \u001b[0mIndex\u001b[0m\u001b[0;34m,\u001b[0m \u001b[0mnp\u001b[0m\u001b[0;34m.\u001b[0m\u001b[0mndarray\u001b[0m\u001b[0;34m)\u001b[0m\u001b[0;34m)\u001b[0m\u001b[0;34m:\u001b[0m\u001b[0;34m\u001b[0m\u001b[0;34m\u001b[0m\u001b[0m\n\u001b[1;32m    999\u001b[0m                 \u001b[0;32mraise\u001b[0m \u001b[0mException\u001b[0m\u001b[0;34m(\u001b[0m\u001b[0;34m\"Must produce aggregated value\"\u001b[0m\u001b[0;34m)\u001b[0m\u001b[0;34m\u001b[0m\u001b[0;34m\u001b[0m\u001b[0m\n",
      "\u001b[0;32m/opt/conda/lib/python3.7/site-packages/pandas/core/groupby/groupby.py\u001b[0m in \u001b[0;36m<lambda>\u001b[0;34m(x)\u001b[0m\n\u001b[1;32m   1375\u001b[0m \u001b[0;34m\u001b[0m\u001b[0m\n\u001b[1;32m   1376\u001b[0m                 \u001b[0;31m# apply a non-cython aggregation\u001b[0m\u001b[0;34m\u001b[0m\u001b[0;34m\u001b[0m\u001b[0;34m\u001b[0m\u001b[0m\n\u001b[0;32m-> 1377\u001b[0;31m                 \u001b[0mresult\u001b[0m \u001b[0;34m=\u001b[0m \u001b[0mself\u001b[0m\u001b[0;34m.\u001b[0m\u001b[0maggregate\u001b[0m\u001b[0;34m(\u001b[0m\u001b[0;32mlambda\u001b[0m \u001b[0mx\u001b[0m\u001b[0;34m:\u001b[0m \u001b[0mnpfunc\u001b[0m\u001b[0;34m(\u001b[0m\u001b[0mx\u001b[0m\u001b[0;34m,\u001b[0m \u001b[0maxis\u001b[0m\u001b[0;34m=\u001b[0m\u001b[0mself\u001b[0m\u001b[0;34m.\u001b[0m\u001b[0maxis\u001b[0m\u001b[0;34m)\u001b[0m\u001b[0;34m)\u001b[0m\u001b[0;34m\u001b[0m\u001b[0;34m\u001b[0m\u001b[0m\n\u001b[0m\u001b[1;32m   1378\u001b[0m \u001b[0;34m\u001b[0m\u001b[0m\n\u001b[1;32m   1379\u001b[0m                 \u001b[0;31m# coerce the resulting columns if we can\u001b[0m\u001b[0;34m\u001b[0m\u001b[0;34m\u001b[0m\u001b[0;34m\u001b[0m\u001b[0m\n",
      "\u001b[0;32m<__array_function__ internals>\u001b[0m in \u001b[0;36msum\u001b[0;34m(*args, **kwargs)\u001b[0m\n",
      "\u001b[0;32m/opt/conda/lib/python3.7/site-packages/numpy/core/fromnumeric.py\u001b[0m in \u001b[0;36msum\u001b[0;34m(a, axis, dtype, out, keepdims, initial, where)\u001b[0m\n\u001b[1;32m   2227\u001b[0m \u001b[0;34m\u001b[0m\u001b[0m\n\u001b[1;32m   2228\u001b[0m     return _wrapreduction(a, np.add, 'sum', axis, dtype, out, keepdims=keepdims,\n\u001b[0;32m-> 2229\u001b[0;31m                           initial=initial, where=where)\n\u001b[0m\u001b[1;32m   2230\u001b[0m \u001b[0;34m\u001b[0m\u001b[0m\n\u001b[1;32m   2231\u001b[0m \u001b[0;34m\u001b[0m\u001b[0m\n",
      "\u001b[0;32m/opt/conda/lib/python3.7/site-packages/numpy/core/fromnumeric.py\u001b[0m in \u001b[0;36m_wrapreduction\u001b[0;34m(obj, ufunc, method, axis, dtype, out, **kwargs)\u001b[0m\n\u001b[1;32m     86\u001b[0m                 \u001b[0;32mreturn\u001b[0m \u001b[0mreduction\u001b[0m\u001b[0;34m(\u001b[0m\u001b[0maxis\u001b[0m\u001b[0;34m=\u001b[0m\u001b[0maxis\u001b[0m\u001b[0;34m,\u001b[0m \u001b[0mdtype\u001b[0m\u001b[0;34m=\u001b[0m\u001b[0mdtype\u001b[0m\u001b[0;34m,\u001b[0m \u001b[0mout\u001b[0m\u001b[0;34m=\u001b[0m\u001b[0mout\u001b[0m\u001b[0;34m,\u001b[0m \u001b[0;34m**\u001b[0m\u001b[0mpasskwargs\u001b[0m\u001b[0;34m)\u001b[0m\u001b[0;34m\u001b[0m\u001b[0;34m\u001b[0m\u001b[0m\n\u001b[1;32m     87\u001b[0m             \u001b[0;32melse\u001b[0m\u001b[0;34m:\u001b[0m\u001b[0;34m\u001b[0m\u001b[0;34m\u001b[0m\u001b[0m\n\u001b[0;32m---> 88\u001b[0;31m                 \u001b[0;32mreturn\u001b[0m \u001b[0mreduction\u001b[0m\u001b[0;34m(\u001b[0m\u001b[0maxis\u001b[0m\u001b[0;34m=\u001b[0m\u001b[0maxis\u001b[0m\u001b[0;34m,\u001b[0m \u001b[0mout\u001b[0m\u001b[0;34m=\u001b[0m\u001b[0mout\u001b[0m\u001b[0;34m,\u001b[0m \u001b[0;34m**\u001b[0m\u001b[0mpasskwargs\u001b[0m\u001b[0;34m)\u001b[0m\u001b[0;34m\u001b[0m\u001b[0;34m\u001b[0m\u001b[0m\n\u001b[0m\u001b[1;32m     89\u001b[0m \u001b[0;34m\u001b[0m\u001b[0m\n\u001b[1;32m     90\u001b[0m     \u001b[0;32mreturn\u001b[0m \u001b[0mufunc\u001b[0m\u001b[0;34m.\u001b[0m\u001b[0mreduce\u001b[0m\u001b[0;34m(\u001b[0m\u001b[0mobj\u001b[0m\u001b[0;34m,\u001b[0m \u001b[0maxis\u001b[0m\u001b[0;34m,\u001b[0m \u001b[0mdtype\u001b[0m\u001b[0;34m,\u001b[0m \u001b[0mout\u001b[0m\u001b[0;34m,\u001b[0m \u001b[0;34m**\u001b[0m\u001b[0mpasskwargs\u001b[0m\u001b[0;34m)\u001b[0m\u001b[0;34m\u001b[0m\u001b[0;34m\u001b[0m\u001b[0m\n",
      "\u001b[0;32m/opt/conda/lib/python3.7/site-packages/pandas/core/generic.py\u001b[0m in \u001b[0;36mstat_func\u001b[0;34m(self, axis, skipna, level, numeric_only, min_count, **kwargs)\u001b[0m\n\u001b[1;32m  11583\u001b[0m             \u001b[0mskipna\u001b[0m\u001b[0;34m=\u001b[0m\u001b[0mskipna\u001b[0m\u001b[0;34m,\u001b[0m\u001b[0;34m\u001b[0m\u001b[0;34m\u001b[0m\u001b[0m\n\u001b[1;32m  11584\u001b[0m             \u001b[0mnumeric_only\u001b[0m\u001b[0;34m=\u001b[0m\u001b[0mnumeric_only\u001b[0m\u001b[0;34m,\u001b[0m\u001b[0;34m\u001b[0m\u001b[0;34m\u001b[0m\u001b[0m\n\u001b[0;32m> 11585\u001b[0;31m             \u001b[0mmin_count\u001b[0m\u001b[0;34m=\u001b[0m\u001b[0mmin_count\u001b[0m\u001b[0;34m,\u001b[0m\u001b[0;34m\u001b[0m\u001b[0;34m\u001b[0m\u001b[0m\n\u001b[0m\u001b[1;32m  11586\u001b[0m         )\n\u001b[1;32m  11587\u001b[0m \u001b[0;34m\u001b[0m\u001b[0m\n",
      "\u001b[0;32m/opt/conda/lib/python3.7/site-packages/pandas/core/series.py\u001b[0m in \u001b[0;36m_reduce\u001b[0;34m(self, op, name, axis, skipna, numeric_only, filter_type, **kwds)\u001b[0m\n\u001b[1;32m   4088\u001b[0m                 )\n\u001b[1;32m   4089\u001b[0m             \u001b[0;32mwith\u001b[0m \u001b[0mnp\u001b[0m\u001b[0;34m.\u001b[0m\u001b[0merrstate\u001b[0m\u001b[0;34m(\u001b[0m\u001b[0mall\u001b[0m\u001b[0;34m=\u001b[0m\u001b[0;34m\"ignore\"\u001b[0m\u001b[0;34m)\u001b[0m\u001b[0;34m:\u001b[0m\u001b[0;34m\u001b[0m\u001b[0;34m\u001b[0m\u001b[0m\n\u001b[0;32m-> 4090\u001b[0;31m                 \u001b[0;32mreturn\u001b[0m \u001b[0mop\u001b[0m\u001b[0;34m(\u001b[0m\u001b[0mdelegate\u001b[0m\u001b[0;34m,\u001b[0m \u001b[0mskipna\u001b[0m\u001b[0;34m=\u001b[0m\u001b[0mskipna\u001b[0m\u001b[0;34m,\u001b[0m \u001b[0;34m**\u001b[0m\u001b[0mkwds\u001b[0m\u001b[0;34m)\u001b[0m\u001b[0;34m\u001b[0m\u001b[0;34m\u001b[0m\u001b[0m\n\u001b[0m\u001b[1;32m   4091\u001b[0m \u001b[0;34m\u001b[0m\u001b[0m\n\u001b[1;32m   4092\u001b[0m         \u001b[0;31m# TODO(EA) dispatch to Index\u001b[0m\u001b[0;34m\u001b[0m\u001b[0;34m\u001b[0m\u001b[0;34m\u001b[0m\u001b[0m\n",
      "\u001b[0;32m/opt/conda/lib/python3.7/site-packages/pandas/core/nanops.py\u001b[0m in \u001b[0;36m_f\u001b[0;34m(*args, **kwargs)\u001b[0m\n\u001b[1;32m     68\u001b[0m             \u001b[0;32mtry\u001b[0m\u001b[0;34m:\u001b[0m\u001b[0;34m\u001b[0m\u001b[0;34m\u001b[0m\u001b[0m\n\u001b[1;32m     69\u001b[0m                 \u001b[0;32mwith\u001b[0m \u001b[0mnp\u001b[0m\u001b[0;34m.\u001b[0m\u001b[0merrstate\u001b[0m\u001b[0;34m(\u001b[0m\u001b[0minvalid\u001b[0m\u001b[0;34m=\u001b[0m\u001b[0;34m\"ignore\"\u001b[0m\u001b[0;34m)\u001b[0m\u001b[0;34m:\u001b[0m\u001b[0;34m\u001b[0m\u001b[0;34m\u001b[0m\u001b[0m\n\u001b[0;32m---> 70\u001b[0;31m                     \u001b[0;32mreturn\u001b[0m \u001b[0mf\u001b[0m\u001b[0;34m(\u001b[0m\u001b[0;34m*\u001b[0m\u001b[0margs\u001b[0m\u001b[0;34m,\u001b[0m \u001b[0;34m**\u001b[0m\u001b[0mkwargs\u001b[0m\u001b[0;34m)\u001b[0m\u001b[0;34m\u001b[0m\u001b[0;34m\u001b[0m\u001b[0m\n\u001b[0m\u001b[1;32m     71\u001b[0m             \u001b[0;32mexcept\u001b[0m \u001b[0mValueError\u001b[0m \u001b[0;32mas\u001b[0m \u001b[0me\u001b[0m\u001b[0;34m:\u001b[0m\u001b[0;34m\u001b[0m\u001b[0;34m\u001b[0m\u001b[0m\n\u001b[1;32m     72\u001b[0m                 \u001b[0;31m# we want to transform an object array\u001b[0m\u001b[0;34m\u001b[0m\u001b[0;34m\u001b[0m\u001b[0;34m\u001b[0m\u001b[0m\n",
      "\u001b[0;32m/opt/conda/lib/python3.7/site-packages/pandas/core/nanops.py\u001b[0m in \u001b[0;36mnansum\u001b[0;34m(values, axis, skipna, min_count, mask)\u001b[0m\n\u001b[1;32m    500\u001b[0m     \u001b[0;32melif\u001b[0m \u001b[0mis_timedelta64_dtype\u001b[0m\u001b[0;34m(\u001b[0m\u001b[0mdtype\u001b[0m\u001b[0;34m)\u001b[0m\u001b[0;34m:\u001b[0m\u001b[0;34m\u001b[0m\u001b[0;34m\u001b[0m\u001b[0m\n\u001b[1;32m    501\u001b[0m         \u001b[0mdtype_sum\u001b[0m \u001b[0;34m=\u001b[0m \u001b[0mnp\u001b[0m\u001b[0;34m.\u001b[0m\u001b[0mfloat64\u001b[0m\u001b[0;34m\u001b[0m\u001b[0;34m\u001b[0m\u001b[0m\n\u001b[0;32m--> 502\u001b[0;31m     \u001b[0mthe_sum\u001b[0m \u001b[0;34m=\u001b[0m \u001b[0mvalues\u001b[0m\u001b[0;34m.\u001b[0m\u001b[0msum\u001b[0m\u001b[0;34m(\u001b[0m\u001b[0maxis\u001b[0m\u001b[0;34m,\u001b[0m \u001b[0mdtype\u001b[0m\u001b[0;34m=\u001b[0m\u001b[0mdtype_sum\u001b[0m\u001b[0;34m)\u001b[0m\u001b[0;34m\u001b[0m\u001b[0;34m\u001b[0m\u001b[0m\n\u001b[0m\u001b[1;32m    503\u001b[0m     \u001b[0mthe_sum\u001b[0m \u001b[0;34m=\u001b[0m \u001b[0m_maybe_null_out\u001b[0m\u001b[0;34m(\u001b[0m\u001b[0mthe_sum\u001b[0m\u001b[0;34m,\u001b[0m \u001b[0maxis\u001b[0m\u001b[0;34m,\u001b[0m \u001b[0mmask\u001b[0m\u001b[0;34m,\u001b[0m \u001b[0mvalues\u001b[0m\u001b[0;34m.\u001b[0m\u001b[0mshape\u001b[0m\u001b[0;34m,\u001b[0m \u001b[0mmin_count\u001b[0m\u001b[0;34m=\u001b[0m\u001b[0mmin_count\u001b[0m\u001b[0;34m)\u001b[0m\u001b[0;34m\u001b[0m\u001b[0;34m\u001b[0m\u001b[0m\n\u001b[1;32m    504\u001b[0m \u001b[0;34m\u001b[0m\u001b[0m\n",
      "\u001b[0;32m/opt/conda/lib/python3.7/site-packages/numpy/core/_methods.py\u001b[0m in \u001b[0;36m_sum\u001b[0;34m(a, axis, dtype, out, keepdims, initial, where)\u001b[0m\n\u001b[1;32m     36\u001b[0m def _sum(a, axis=None, dtype=None, out=None, keepdims=False,\n\u001b[1;32m     37\u001b[0m          initial=_NoValue, where=True):\n\u001b[0;32m---> 38\u001b[0;31m     \u001b[0;32mreturn\u001b[0m \u001b[0mumr_sum\u001b[0m\u001b[0;34m(\u001b[0m\u001b[0ma\u001b[0m\u001b[0;34m,\u001b[0m \u001b[0maxis\u001b[0m\u001b[0;34m,\u001b[0m \u001b[0mdtype\u001b[0m\u001b[0;34m,\u001b[0m \u001b[0mout\u001b[0m\u001b[0;34m,\u001b[0m \u001b[0mkeepdims\u001b[0m\u001b[0;34m,\u001b[0m \u001b[0minitial\u001b[0m\u001b[0;34m,\u001b[0m \u001b[0mwhere\u001b[0m\u001b[0;34m)\u001b[0m\u001b[0;34m\u001b[0m\u001b[0;34m\u001b[0m\u001b[0m\n\u001b[0m\u001b[1;32m     39\u001b[0m \u001b[0;34m\u001b[0m\u001b[0m\n\u001b[1;32m     40\u001b[0m def _prod(a, axis=None, dtype=None, out=None, keepdims=False,\n",
      "\u001b[0;31mTypeError\u001b[0m: unsupported operand type(s) for +: 'int' and 'str'"
     ]
    }
   ],
   "source": [
    "ukb_tp0_dvars.groupby(['AD'])['CERVASC'].sum()"
   ]
  },
  {
   "cell_type": "code",
   "execution_count": 31,
   "metadata": {
    "ExecuteTime": {
     "end_time": "2020-11-20T05:43:13.826561Z",
     "start_time": "2020-11-20T05:43:13.707668Z"
    }
   },
   "outputs": [
    {
     "name": "stdout",
     "output_type": "stream",
     "text": [
      "0.009862064369960686\n",
      "0.01331081752259859\n"
     ]
    }
   ],
   "source": [
    "print(ukb_tp0_dvars[rule_diaby&rule_age]['AD'].mean())\n",
    "print(ukb_tp0_dvars[rule_diabn&rule_age]['AD'].mean())"
   ]
  },
  {
   "cell_type": "code",
   "execution_count": 33,
   "metadata": {
    "ExecuteTime": {
     "end_time": "2020-11-20T05:44:07.799748Z",
     "start_time": "2020-11-20T05:44:07.695604Z"
    }
   },
   "outputs": [
    {
     "name": "stdout",
     "output_type": "stream",
     "text": [
      "0.03458957150232318\n",
      "0.012559871412763414\n"
     ]
    }
   ],
   "source": [
    "print(ukb_tp0_dvars[rule_epily&rule_age]['AD'].mean())\n",
    "print(ukb_tp0_dvars[rule_epiln&rule_age]['AD'].mean())"
   ]
  },
  {
   "cell_type": "code",
   "execution_count": 61,
   "metadata": {
    "ExecuteTime": {
     "end_time": "2020-11-19T23:46:01.328340Z",
     "start_time": "2020-11-19T23:46:01.293138Z"
    }
   },
   "outputs": [
    {
     "data": {
      "text/html": [
       "<div>\n",
       "<style scoped>\n",
       "    .dataframe tbody tr th:only-of-type {\n",
       "        vertical-align: middle;\n",
       "    }\n",
       "\n",
       "    .dataframe tbody tr th {\n",
       "        vertical-align: top;\n",
       "    }\n",
       "\n",
       "    .dataframe thead th {\n",
       "        text-align: right;\n",
       "    }\n",
       "</style>\n",
       "<table border=\"1\" class=\"dataframe\">\n",
       "  <thead>\n",
       "    <tr style=\"text-align: right;\">\n",
       "      <th></th>\n",
       "      <th>eid</th>\n",
       "      <th>diagnosed_with_coeliac_disease_or_gluten_sensitivity_f21068</th>\n",
       "      <th>n_eid</th>\n",
       "      <th>Age_Today</th>\n",
       "      <th>AD</th>\n",
       "      <th>Diag_Date_AD</th>\n",
       "      <th>years_bef_diagAD</th>\n",
       "      <th>date_of_attending_assessment_centre_f53</th>\n",
       "      <th>age_when_attended_assessment_centre_f21003</th>\n",
       "      <th>EPIL</th>\n",
       "      <th>DIAB</th>\n",
       "    </tr>\n",
       "  </thead>\n",
       "  <tbody>\n",
       "    <tr>\n",
       "      <th>812</th>\n",
       "      <td>1009346</td>\n",
       "      <td>Yes</td>\n",
       "      <td>1009346.0</td>\n",
       "      <td>81.024658</td>\n",
       "      <td>0.0</td>\n",
       "      <td>None</td>\n",
       "      <td>NaN</td>\n",
       "      <td>2008-09-25</td>\n",
       "      <td>69.0</td>\n",
       "      <td>0.0</td>\n",
       "      <td>0.0</td>\n",
       "    </tr>\n",
       "    <tr>\n",
       "      <th>3088</th>\n",
       "      <td>1035528</td>\n",
       "      <td>Yes</td>\n",
       "      <td>1035528.0</td>\n",
       "      <td>75.167123</td>\n",
       "      <td>0.0</td>\n",
       "      <td>None</td>\n",
       "      <td>NaN</td>\n",
       "      <td>2009-08-04</td>\n",
       "      <td>64.0</td>\n",
       "      <td>0.0</td>\n",
       "      <td>0.0</td>\n",
       "    </tr>\n",
       "    <tr>\n",
       "      <th>4067</th>\n",
       "      <td>1046921</td>\n",
       "      <td>Yes</td>\n",
       "      <td>1046921.0</td>\n",
       "      <td>78.608219</td>\n",
       "      <td>0.0</td>\n",
       "      <td>None</td>\n",
       "      <td>NaN</td>\n",
       "      <td>2010-02-24</td>\n",
       "      <td>68.0</td>\n",
       "      <td>0.0</td>\n",
       "      <td>0.0</td>\n",
       "    </tr>\n",
       "    <tr>\n",
       "      <th>7280</th>\n",
       "      <td>1083940</td>\n",
       "      <td>Yes</td>\n",
       "      <td>1083940.0</td>\n",
       "      <td>78.241096</td>\n",
       "      <td>0.0</td>\n",
       "      <td>None</td>\n",
       "      <td>NaN</td>\n",
       "      <td>2008-07-08</td>\n",
       "      <td>66.0</td>\n",
       "      <td>0.0</td>\n",
       "      <td>0.0</td>\n",
       "    </tr>\n",
       "    <tr>\n",
       "      <th>7553</th>\n",
       "      <td>1087036</td>\n",
       "      <td>Yes</td>\n",
       "      <td>1087036.0</td>\n",
       "      <td>75.717808</td>\n",
       "      <td>0.0</td>\n",
       "      <td>None</td>\n",
       "      <td>NaN</td>\n",
       "      <td>2009-01-15</td>\n",
       "      <td>64.0</td>\n",
       "      <td>0.0</td>\n",
       "      <td>0.0</td>\n",
       "    </tr>\n",
       "    <tr>\n",
       "      <th>...</th>\n",
       "      <td>...</td>\n",
       "      <td>...</td>\n",
       "      <td>...</td>\n",
       "      <td>...</td>\n",
       "      <td>...</td>\n",
       "      <td>...</td>\n",
       "      <td>...</td>\n",
       "      <td>...</td>\n",
       "      <td>...</td>\n",
       "      <td>...</td>\n",
       "      <td>...</td>\n",
       "    </tr>\n",
       "    <tr>\n",
       "      <th>491654</th>\n",
       "      <td>5180927</td>\n",
       "      <td>Yes</td>\n",
       "      <td>5180927.0</td>\n",
       "      <td>75.293151</td>\n",
       "      <td>0.0</td>\n",
       "      <td>None</td>\n",
       "      <td>NaN</td>\n",
       "      <td>2008-06-19</td>\n",
       "      <td>63.0</td>\n",
       "      <td>0.0</td>\n",
       "      <td>0.0</td>\n",
       "    </tr>\n",
       "    <tr>\n",
       "      <th>493032</th>\n",
       "      <td>5288215</td>\n",
       "      <td>Yes</td>\n",
       "      <td>5288215.0</td>\n",
       "      <td>78.353425</td>\n",
       "      <td>0.0</td>\n",
       "      <td>None</td>\n",
       "      <td>NaN</td>\n",
       "      <td>2010-05-28</td>\n",
       "      <td>68.0</td>\n",
       "      <td>0.0</td>\n",
       "      <td>0.0</td>\n",
       "    </tr>\n",
       "    <tr>\n",
       "      <th>494931</th>\n",
       "      <td>5436855</td>\n",
       "      <td>Yes</td>\n",
       "      <td>5436855.0</td>\n",
       "      <td>80.112329</td>\n",
       "      <td>0.0</td>\n",
       "      <td>None</td>\n",
       "      <td>NaN</td>\n",
       "      <td>2009-08-24</td>\n",
       "      <td>69.0</td>\n",
       "      <td>0.0</td>\n",
       "      <td>0.0</td>\n",
       "    </tr>\n",
       "    <tr>\n",
       "      <th>495076</th>\n",
       "      <td>5447330</td>\n",
       "      <td>Yes</td>\n",
       "      <td>5447330.0</td>\n",
       "      <td>80.301370</td>\n",
       "      <td>0.0</td>\n",
       "      <td>None</td>\n",
       "      <td>NaN</td>\n",
       "      <td>2009-06-16</td>\n",
       "      <td>69.0</td>\n",
       "      <td>0.0</td>\n",
       "      <td>0.0</td>\n",
       "    </tr>\n",
       "    <tr>\n",
       "      <th>496915</th>\n",
       "      <td>5593450</td>\n",
       "      <td>Yes</td>\n",
       "      <td>5593450.0</td>\n",
       "      <td>76.465753</td>\n",
       "      <td>0.0</td>\n",
       "      <td>None</td>\n",
       "      <td>NaN</td>\n",
       "      <td>2006-04-18</td>\n",
       "      <td>62.0</td>\n",
       "      <td>0.0</td>\n",
       "      <td>0.0</td>\n",
       "    </tr>\n",
       "  </tbody>\n",
       "</table>\n",
       "<p>531 rows × 11 columns</p>\n",
       "</div>"
      ],
      "text/plain": [
       "            eid diagnosed_with_coeliac_disease_or_gluten_sensitivity_f21068  \\\n",
       "812     1009346                                                Yes            \n",
       "3088    1035528                                                Yes            \n",
       "4067    1046921                                                Yes            \n",
       "7280    1083940                                                Yes            \n",
       "7553    1087036                                                Yes            \n",
       "...         ...                                                ...            \n",
       "491654  5180927                                                Yes            \n",
       "493032  5288215                                                Yes            \n",
       "494931  5436855                                                Yes            \n",
       "495076  5447330                                                Yes            \n",
       "496915  5593450                                                Yes            \n",
       "\n",
       "            n_eid  Age_Today   AD Diag_Date_AD  years_bef_diagAD  \\\n",
       "812     1009346.0  81.024658  0.0         None               NaN   \n",
       "3088    1035528.0  75.167123  0.0         None               NaN   \n",
       "4067    1046921.0  78.608219  0.0         None               NaN   \n",
       "7280    1083940.0  78.241096  0.0         None               NaN   \n",
       "7553    1087036.0  75.717808  0.0         None               NaN   \n",
       "...           ...        ...  ...          ...               ...   \n",
       "491654  5180927.0  75.293151  0.0         None               NaN   \n",
       "493032  5288215.0  78.353425  0.0         None               NaN   \n",
       "494931  5436855.0  80.112329  0.0         None               NaN   \n",
       "495076  5447330.0  80.301370  0.0         None               NaN   \n",
       "496915  5593450.0  76.465753  0.0         None               NaN   \n",
       "\n",
       "       date_of_attending_assessment_centre_f53  \\\n",
       "812                                 2008-09-25   \n",
       "3088                                2009-08-04   \n",
       "4067                                2010-02-24   \n",
       "7280                                2008-07-08   \n",
       "7553                                2009-01-15   \n",
       "...                                        ...   \n",
       "491654                              2008-06-19   \n",
       "493032                              2010-05-28   \n",
       "494931                              2009-08-24   \n",
       "495076                              2009-06-16   \n",
       "496915                              2006-04-18   \n",
       "\n",
       "        age_when_attended_assessment_centre_f21003  EPIL  DIAB  \n",
       "812                                           69.0   0.0   0.0  \n",
       "3088                                          64.0   0.0   0.0  \n",
       "4067                                          68.0   0.0   0.0  \n",
       "7280                                          66.0   0.0   0.0  \n",
       "7553                                          64.0   0.0   0.0  \n",
       "...                                            ...   ...   ...  \n",
       "491654                                        63.0   0.0   0.0  \n",
       "493032                                        68.0   0.0   0.0  \n",
       "494931                                        69.0   0.0   0.0  \n",
       "495076                                        69.0   0.0   0.0  \n",
       "496915                                        62.0   0.0   0.0  \n",
       "\n",
       "[531 rows x 11 columns]"
      ]
     },
     "execution_count": 61,
     "metadata": {},
     "output_type": "execute_result"
    }
   ],
   "source": [
    "ukb_tp0_dvars[rule_coeliac&rule_age]"
   ]
  },
  {
   "cell_type": "code",
   "execution_count": 52,
   "metadata": {
    "ExecuteTime": {
     "end_time": "2020-11-19T23:41:41.674879Z",
     "start_time": "2020-11-19T23:41:41.631995Z"
    }
   },
   "outputs": [
    {
     "data": {
      "text/plain": [
       "(170094, 11)"
      ]
     },
     "execution_count": 52,
     "metadata": {},
     "output_type": "execute_result"
    }
   ],
   "source": [
    "ukb_tp0_dvars[rule_coeliacno].shape\n"
   ]
  },
  {
   "cell_type": "code",
   "execution_count": 58,
   "metadata": {
    "ExecuteTime": {
     "end_time": "2020-11-19T23:44:32.360452Z",
     "start_time": "2020-11-19T23:44:32.335299Z"
    }
   },
   "outputs": [
    {
     "data": {
      "text/plain": [
       "0.002160790231856222"
      ]
     },
     "execution_count": 58,
     "metadata": {},
     "output_type": "execute_result"
    }
   ],
   "source": [
    "ukb_tp0_dvars[rule_coeliacno&rule_age]['AD'].mean()"
   ]
  },
  {
   "cell_type": "code",
   "execution_count": 59,
   "metadata": {
    "ExecuteTime": {
     "end_time": "2020-11-19T23:44:39.356972Z",
     "start_time": "2020-11-19T23:44:39.255019Z"
    }
   },
   "outputs": [
    {
     "data": {
      "text/plain": [
       "0.013747538831765478"
      ]
     },
     "execution_count": 59,
     "metadata": {},
     "output_type": "execute_result"
    }
   ],
   "source": [
    "ukb_tp0_dvars[rule_age]['AD'].mean()"
   ]
  },
  {
   "cell_type": "code",
   "execution_count": 42,
   "metadata": {
    "ExecuteTime": {
     "end_time": "2020-11-24T03:02:57.108757Z",
     "start_time": "2020-11-24T03:02:57.098836Z"
    }
   },
   "outputs": [
    {
     "data": {
      "text/plain": [
       "(4117737, 13)"
      ]
     },
     "execution_count": 42,
     "metadata": {},
     "output_type": "execute_result"
    }
   ],
   "source": [
    "ukb_tp0_dvars.shape"
   ]
  },
  {
   "cell_type": "code",
   "execution_count": 43,
   "metadata": {
    "ExecuteTime": {
     "end_time": "2020-11-24T03:03:08.254420Z",
     "start_time": "2020-11-24T03:03:08.238943Z"
    }
   },
   "outputs": [
    {
     "data": {
      "text/plain": [
       "['APOE4_Carriers']"
      ]
     },
     "execution_count": 43,
     "metadata": {},
     "output_type": "execute_result"
    }
   ],
   "source": [
    "findcols(ukb_tp0,'APOE')"
   ]
  },
  {
   "cell_type": "code",
   "execution_count": 48,
   "metadata": {
    "ExecuteTime": {
     "end_time": "2020-11-24T03:05:56.518009Z",
     "start_time": "2020-11-24T03:05:56.508156Z"
    }
   },
   "outputs": [
    {
     "data": {
      "text/plain": [
       "['chromosome_10_genotype_results_f22110',\n",
       " 'chromosome_11_genotype_results_f22111',\n",
       " 'chromosome_12_genotype_results_f22112',\n",
       " 'chromosome_13_genotype_results_f22113',\n",
       " 'chromosome_14_genotype_results_f22114',\n",
       " 'chromosome_15_genotype_results_f22115',\n",
       " 'chromosome_16_genotype_results_f22116',\n",
       " 'chromosome_17_genotype_results_f22117',\n",
       " 'chromosome_18_genotype_results_f22118',\n",
       " 'chromosome_19_genotype_results_f22119',\n",
       " 'chromosome_1_genotype_results_f22101',\n",
       " 'chromosome_20_genotype_results_f22120',\n",
       " 'chromosome_21_genotype_results_f22121',\n",
       " 'chromosome_22_genotype_results_f22122',\n",
       " 'chromosome_2_genotype_results_f22102',\n",
       " 'chromosome_3_genotype_results_f22103',\n",
       " 'chromosome_4_genotype_results_f22104',\n",
       " 'chromosome_5_genotype_results_f22105',\n",
       " 'chromosome_6_genotype_results_f22106',\n",
       " 'chromosome_7_genotype_results_f22107',\n",
       " 'chromosome_8_genotype_results_f22108',\n",
       " 'chromosome_9_genotype_results_f22109',\n",
       " 'chromosome_x_genotype_results_f22123',\n",
       " 'chromosome_xy_genotype_results_f22100',\n",
       " 'chromosome_y_genotype_results_f22124',\n",
       " 'genotype_measurement_batch_f22000',\n",
       " 'genotype_measurement_plate_f22007',\n",
       " 'genotype_measurement_well_f22008',\n",
       " 'mitochondrial_genotype_results_f22125']"
      ]
     },
     "execution_count": 48,
     "metadata": {},
     "output_type": "execute_result"
    }
   ],
   "source": [
    "[col for col in ukb_tp0.columns if 'genotype' in col]"
   ]
  },
  {
   "cell_type": "code",
   "execution_count": 44,
   "metadata": {
    "ExecuteTime": {
     "end_time": "2020-11-24T03:03:30.977975Z",
     "start_time": "2020-11-24T03:03:30.422252Z"
    }
   },
   "outputs": [
    {
     "data": {
      "text/plain": [
       "0.0    961404\n",
       "1.0    324129\n",
       "2.0     29496\n",
       "Name: APOE4_Carriers, dtype: int64"
      ]
     },
     "execution_count": 44,
     "metadata": {},
     "output_type": "execute_result"
    }
   ],
   "source": [
    "ukb_tp0['APOE4_Carriers'].value_counts()"
   ]
  },
  {
   "cell_type": "code",
   "execution_count": null,
   "metadata": {},
   "outputs": [],
   "source": []
  }
 ],
 "metadata": {
  "kernelspec": {
   "display_name": "Python 3",
   "language": "python",
   "name": "python3"
  },
  "language_info": {
   "codemirror_mode": {
    "name": "ipython",
    "version": 3
   },
   "file_extension": ".py",
   "mimetype": "text/x-python",
   "name": "python",
   "nbconvert_exporter": "python",
   "pygments_lexer": "ipython3",
   "version": "3.7.6"
  },
  "toc": {
   "base_numbering": 1,
   "nav_menu": {},
   "number_sections": false,
   "sideBar": true,
   "skip_h1_title": false,
   "title_cell": "Table of Contents",
   "title_sidebar": "Contents",
   "toc_cell": false,
   "toc_position": {},
   "toc_section_display": true,
   "toc_window_display": false
  }
 },
 "nbformat": 4,
 "nbformat_minor": 2
}
