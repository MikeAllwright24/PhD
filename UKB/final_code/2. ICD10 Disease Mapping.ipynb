{
 "cells": [
  {
   "cell_type": "code",
   "execution_count": 1,
   "metadata": {
    "ExecuteTime": {
     "end_time": "2021-03-11T22:39:11.478319Z",
     "start_time": "2021-03-11T22:39:11.109423Z"
    }
   },
   "outputs": [],
   "source": [
    "import pandas as pd\n",
    "import numpy as np\n",
    "import re\n",
    "import warnings\n",
    "import datetime as dt\n",
    "warnings.filterwarnings('ignore')\n",
    "path=\"../../../ukb/data/\""
   ]
  },
  {
   "cell_type": "code",
   "execution_count": 2,
   "metadata": {
    "ExecuteTime": {
     "end_time": "2021-03-11T22:39:11.485031Z",
     "start_time": "2021-03-11T22:39:11.481710Z"
    }
   },
   "outputs": [],
   "source": [
    "year=2021\n",
    "month=1\n",
    "day=1"
   ]
  },
  {
   "cell_type": "code",
   "execution_count": 3,
   "metadata": {
    "ExecuteTime": {
     "end_time": "2021-03-11T22:39:11.912226Z",
     "start_time": "2021-03-11T22:39:11.898221Z"
    }
   },
   "outputs": [],
   "source": [
    "\n",
    "conditions=['AD','PD','FTD','EPIL','DIAB','COVID','CERVASC','STROKE','CERVASCALL','CELIAC','SLEEP_DIS','AUD']\n",
    "icd10dis={\n",
    "    'AD': \"F00|F000|F001|F002|F009|G30|G300|G301|G308|G309\",\n",
    "    'PD': \"G20\",\n",
    "    'FTD':\"G31\",\n",
    "    'EPIL':\"G40\",\n",
    "    'DIAB':\"E10|E11|E13|E14\",\n",
    "    #'DIAB':\"E08|E09|E10|E11|E13\",\n",
    "    'COVID':\"U07\",\n",
    "    'CERVASC':\"I67\", #show I63-I69\n",
    "    'STROKE':\"I63\", #show I63-I69\n",
    "    'CERVASCALL':\"I60|I61|I62|I63|I64|I65|I66|I67|I68|I69\",\n",
    "    'CELIAC':\"K90\",\n",
    "    'SLEEP_DIS':'G47',\n",
    "    'AUD':'F101|F102'\n",
    "    \n",
    "}\n",
    "\n",
    "icd9dis={\n",
    "    'AD': \"F00|F000|F001|F002|F009|G30|G300|G301|G308|G309\",\n",
    "    'PD': \"G20\",\n",
    "    'FTD':\"G31\",\n",
    "    'EPIL':\"G40\",\n",
    "    'DIAB':\"E11\",\n",
    "    'COVID':\"U07\",\n",
    "    'CERVASC':\"I67\",\n",
    "    'CELIAC':\"579\",\n",
    "    'REM_DIS':'G47.52'\n",
    "}"
   ]
  },
  {
   "cell_type": "code",
   "execution_count": 14,
   "metadata": {
    "ExecuteTime": {
     "end_time": "2021-03-11T23:27:54.770880Z",
     "start_time": "2021-03-11T23:27:54.746099Z"
    }
   },
   "outputs": [],
   "source": [
    "def read_data(file,path=path,chunksize=10000):\n",
    "    df_chunk = pd.read_csv('%s%s' % (path,file), chunksize=chunksize, iterator=True,sep=',')#,nrows=1000)\n",
    "    df = pd.concat(df_chunk, ignore_index=True)\n",
    "    return df\n",
    "\n",
    "def returndata(df,tp,minvals=50000):\n",
    "    df=df[(df['time_point']==tp)]\n",
    "    cols=[col for col in df.columns if df[col].count()>minvals]\n",
    "    df=df[cols]\n",
    "    return df\n",
    "\n",
    "def returndisease(df,conditions=conditions,icd10dis=icd10dis):\n",
    "    \n",
    "    conditions_diag_date=['Diag_Date_'+disease for disease in conditions]\n",
    "    conditions_age_diag=['Age_Diag_'+disease for disease in conditions]\n",
    "    conditions_years_bef=['years_bef_diag'+disease for disease in conditions]\n",
    "    for i,disease in enumerate(conditions):\n",
    "        df[disease]=0\n",
    "    \n",
    "        disease_num=disease+'_num'\n",
    "        disease_diag_date=conditions_diag_date[i]\n",
    "        disease_diag_age=conditions_age_diag[i]\n",
    "        disease_years_bef=conditions_years_bef[i]\n",
    "        df[disease_diag_date]=pd.NaT\n",
    "        df[disease_diag_age]=0\n",
    "        df[disease_years_bef]=0\n",
    "        df[disease_num]='none'\n",
    "        \n",
    "        #print(df.columns)\n",
    "        for s in df.columns:\n",
    "            if s!=\"n_eid\" and '41270' in s:\n",
    "                uscloc=[j for j,s1 in enumerate(s) if s1=='_']\n",
    "                mask=(df[s].str.contains(icd10dis[disease]))&pd.notnull(df[s])\n",
    "\n",
    "                df[disease][mask]=1 \n",
    "                number='num'+str(s[uscloc[len(uscloc)-1]+1:len(s)])\n",
    "                df[disease_num][mask]=number\n",
    "\n",
    "        for i,s in enumerate(df.columns):\n",
    "            if s!=\"n_eid\" and '41280' in s:\n",
    "                uscloc=[j for j,s1 in enumerate(s) if s1=='_']\n",
    "                number2='num'+str(s[uscloc[len(uscloc)-1]+1:len(s)])\n",
    "                mask_num=(df[disease_num]==number2)\n",
    "                df[disease_diag_date][mask_num]=df[s].astype(str).apply(lambda x:x[2:12])\n",
    "                \n",
    "                try:\n",
    "                    df[disease_diag_age][(pd.notnull(df[disease_diag_date]))]=\\\n",
    "                    df['age_when_attended_assessment_centre_f21003']+(pd.to_datetime(df[disease_diag_date])-\\\n",
    "                    pd.to_datetime(df['date_of_attending_assessment_centre_f53'])).dt.days/365\n",
    "                \n",
    "                except:\n",
    "                    pass\n",
    "                             \n",
    "                try:\n",
    "                    df[disease_years_bef]=(pd.to_datetime(df[disease_diag_date])-\\\n",
    "                    pd.to_datetime(df['date_of_attending_assessment_centre_f53'])).dt.days/365\n",
    "                except:\n",
    "                    pass\n",
    "\n",
    "    df_out=df[np.concatenate([['n_eid','date_of_attending_assessment_centre_f53','age_when_attended_assessment_centre_f21003'],\n",
    "                              conditions,conditions_diag_date,conditions_age_diag,conditions_years_bef])]\n",
    "    \n",
    "    return df_out\n",
    "\n",
    "def dis_before(var,df,days=100,depvar='AD'):\n",
    "    df['timebefore'+depvar+var]=0\n",
    "    mask1=(df[depvar]==1)&(df[var]==1)\n",
    "    df['timebefore'+depvar+var][mask1]=\\\n",
    "    (pd.to_datetime(df['Diag_Date_'+depvar][mask1])-\\\n",
    "     pd.to_datetime(df['Diag_Date_'+var][mask1])).dt.days\n",
    "    \n",
    "    df[var+'_bef']=0\n",
    "    df[var+'_bef'][(df['timebefore'+depvar+var]<days)&(df[var]==1)]=1\n",
    "    #print(var+df[var+'_bef'].value_counts())\n",
    "    return df"
   ]
  },
  {
   "cell_type": "code",
   "execution_count": 7,
   "metadata": {
    "ExecuteTime": {
     "end_time": "2021-03-11T22:41:52.994327Z",
     "start_time": "2021-03-11T22:40:11.491246Z"
    }
   },
   "outputs": [],
   "source": [
    "inpatient_update=read_data(\"inpatient_update.csv\")\n",
    "death_codes=read_data(\"hm_cod_update_02sep2020.csv\")"
   ]
  },
  {
   "cell_type": "code",
   "execution_count": 8,
   "metadata": {
    "ExecuteTime": {
     "end_time": "2021-03-11T22:42:27.789434Z",
     "start_time": "2021-03-11T22:41:52.998382Z"
    }
   },
   "outputs": [],
   "source": [
    "ukb_tp0=pd.read_pickle('%s%s' % (path,'ukb_tp0_.p'))"
   ]
  },
  {
   "cell_type": "code",
   "execution_count": 9,
   "metadata": {
    "ExecuteTime": {
     "end_time": "2021-03-11T22:42:27.825321Z",
     "start_time": "2021-03-11T22:42:27.792326Z"
    }
   },
   "outputs": [],
   "source": [
    "death_codes=death_codes[['n_eid','s_40000_0_0']]\n",
    "death_codes['death']=1\n",
    "death_codes.columns=['eid','death_date','death']"
   ]
  },
  {
   "cell_type": "code",
   "execution_count": 10,
   "metadata": {
    "ExecuteTime": {
     "end_time": "2021-03-11T22:43:15.170357Z",
     "start_time": "2021-03-11T22:42:27.828322Z"
    }
   },
   "outputs": [],
   "source": [
    "ukb_tp0_assess=ukb_tp0[['eid','age_when_attended_assessment_centre_f21003','date_of_attending_assessment_centre_f53']]\n",
    "inpatient_update=pd.merge(ukb_tp0_assess,inpatient_update,left_on='eid',right_on='n_eid',how='left')"
   ]
  },
  {
   "cell_type": "code",
   "execution_count": 11,
   "metadata": {
    "ExecuteTime": {
     "end_time": "2021-03-11T22:43:15.290373Z",
     "start_time": "2021-03-11T22:43:15.172287Z"
    }
   },
   "outputs": [],
   "source": [
    "ukb_tp0['Age_Today']=ukb_tp0['age_when_attended_assessment_centre_f21003']+\\\n",
    "(dt.datetime(year, month, day)-pd.to_datetime(ukb_tp0['date_of_attending_assessment_centre_f53'])).dt.days/365"
   ]
  },
  {
   "cell_type": "code",
   "execution_count": 12,
   "metadata": {
    "ExecuteTime": {
     "end_time": "2021-03-11T23:27:52.121222Z",
     "start_time": "2021-03-11T22:43:15.292241Z"
    }
   },
   "outputs": [],
   "source": [
    "diseases_bin=returndisease(inpatient_update)"
   ]
  },
  {
   "cell_type": "code",
   "execution_count": 13,
   "metadata": {
    "ExecuteTime": {
     "end_time": "2021-03-11T23:27:54.743346Z",
     "start_time": "2021-03-11T23:27:52.123366Z"
    }
   },
   "outputs": [],
   "source": [
    "diseases_bin=pd.merge(diseases_bin,death_codes,left_on='n_eid',right_on='eid',how='left')"
   ]
  },
  {
   "cell_type": "code",
   "execution_count": 18,
   "metadata": {
    "ExecuteTime": {
     "end_time": "2021-03-12T03:34:41.141605Z",
     "start_time": "2021-03-12T03:34:35.007139Z"
    }
   },
   "outputs": [],
   "source": [
    "diseases_bin=dis_before('CERVASCALL',diseases_bin,100)\n",
    "diseases_bin=dis_before('STROKE',diseases_bin,100)\n",
    "diseases_bin=dis_before('EPIL',diseases_bin,100)\n",
    "diseases_bin=dis_before('DIAB',diseases_bin,100)\n",
    "diseases_bin=dis_before('CELIAC',diseases_bin,100)\n",
    "diseases_bin=dis_before('CERVASC',diseases_bin,100)\n",
    "diseases_bin=dis_before('AUD',diseases_bin,100)"
   ]
  },
  {
   "cell_type": "code",
   "execution_count": 19,
   "metadata": {
    "ExecuteTime": {
     "end_time": "2021-03-12T03:34:41.242552Z",
     "start_time": "2021-03-12T03:34:41.143488Z"
    }
   },
   "outputs": [],
   "source": [
    "diseases_bin['Age_Today']=diseases_bin['age_when_attended_assessment_centre_f21003']+\\\n",
    "(dt.datetime(year, month, day)-pd.to_datetime(diseases_bin['date_of_attending_assessment_centre_f53'])).dt.days/365"
   ]
  },
  {
   "cell_type": "code",
   "execution_count": 20,
   "metadata": {
    "ExecuteTime": {
     "end_time": "2021-03-12T03:34:41.987414Z",
     "start_time": "2021-03-12T03:34:41.244973Z"
    }
   },
   "outputs": [],
   "source": [
    "diseases_bin.to_pickle('%s%s' % (path,'ukb_disease_labels_.p'))"
   ]
  },
  {
   "cell_type": "code",
   "execution_count": null,
   "metadata": {},
   "outputs": [],
   "source": []
  }
 ],
 "metadata": {
  "kernelspec": {
   "display_name": "Python 3",
   "language": "python",
   "name": "python3"
  },
  "language_info": {
   "codemirror_mode": {
    "name": "ipython",
    "version": 3
   },
   "file_extension": ".py",
   "mimetype": "text/x-python",
   "name": "python",
   "nbconvert_exporter": "python",
   "pygments_lexer": "ipython3",
   "version": "3.7.6"
  },
  "toc": {
   "base_numbering": 1,
   "nav_menu": {},
   "number_sections": false,
   "sideBar": true,
   "skip_h1_title": false,
   "title_cell": "Table of Contents",
   "title_sidebar": "Contents",
   "toc_cell": false,
   "toc_position": {},
   "toc_section_display": true,
   "toc_window_display": false
  }
 },
 "nbformat": 4,
 "nbformat_minor": 2
}
