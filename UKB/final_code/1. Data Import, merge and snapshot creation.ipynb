{
 "cells": [
  {
   "cell_type": "code",
   "execution_count": 1,
   "metadata": {
    "ExecuteTime": {
     "end_time": "2021-03-11T02:16:17.124879Z",
     "start_time": "2021-03-11T02:16:16.884030Z"
    }
   },
   "outputs": [],
   "source": [
    "import pandas as pd\n",
    "import numpy as np\n",
    "import re\n",
    "import warnings\n",
    "import datetime as dt\n",
    "warnings.filterwarnings('ignore')\n",
    "path=\"../../../ukb/data/\""
   ]
  },
  {
   "cell_type": "code",
   "execution_count": 2,
   "metadata": {
    "ExecuteTime": {
     "end_time": "2021-03-11T02:16:17.617470Z",
     "start_time": "2021-03-11T02:16:17.611335Z"
    }
   },
   "outputs": [],
   "source": [
    "year=2021\n",
    "month=1\n",
    "day=1\n",
    "\n",
    "config = dict(time_points = ['0'])"
   ]
  },
  {
   "cell_type": "code",
   "execution_count": 3,
   "metadata": {
    "ExecuteTime": {
     "end_time": "2021-03-11T02:16:18.525677Z",
     "start_time": "2021-03-11T02:16:18.500642Z"
    }
   },
   "outputs": [],
   "source": [
    "def read_data(file,path=path,chunksize=10000):\n",
    "    df_chunk = pd.read_csv('%s%s' % (path,file), chunksize=chunksize, iterator=True,sep=',')#,nrows=1000)\n",
    "    df = pd.concat(df_chunk, ignore_index=True)\n",
    "    return df\n",
    "\n",
    "#create independent variable set\n",
    "def createindepvars(df,tps=config['time_points']):\n",
    "    cols=np.asarray(df.columns)\n",
    "    colselected=np.asarray([])\n",
    "    timeperiod=np.asarray([])\n",
    "    newcolnames=np.asarray([])\n",
    "\n",
    "    for i,s in enumerate(cols):\n",
    "\n",
    "        t=s[len(s)-6:len(s)]\n",
    "        u=s[len(s)-2:len(s)]\n",
    "        if u==\"_0\":\n",
    "            colselected=np.append(colselected,s)\n",
    "            inds = [i for i,c in enumerate(s) if c=='_']\n",
    "            t=s[inds[len(inds)-2]+1:inds[len(inds)-1]]\n",
    "            u=s[0:inds[len(inds)-2]]\n",
    "            timeperiod=np.append(timeperiod,t)\n",
    "            newcolnames=np.append(newcolnames,u)\n",
    "\n",
    "    df_out=pd.DataFrame([])\n",
    "\n",
    "    #for i in range(int(max(timeperiod))):\n",
    "    for i in tps:\n",
    "        indices=[j for j,c in enumerate(timeperiod) if c==str(i)]\n",
    "        dfa=df[colselected[indices]]\n",
    "\n",
    "        #print(colselected[indices])\n",
    "        dfa.columns=newcolnames[indices]\n",
    "        dfa['eid']=df['eid']\n",
    "        dfa['time_point']=str(i)\n",
    "        df_out=pd.concat([df_out,dfa],axis=0)\n",
    "    print(df_out.shape)\n",
    "    return df_out\n",
    "\n",
    "def returndata(df,tp,minvals=50000):\n",
    "    df=df[(df['time_point']==tp)]\n",
    "    cols=[col for col in df.columns if df[col].count()>minvals]\n",
    "    df=df[cols]\n",
    "    return df"
   ]
  },
  {
   "cell_type": "code",
   "execution_count": 4,
   "metadata": {
    "ExecuteTime": {
     "end_time": "2021-03-11T04:35:25.251369Z",
     "start_time": "2021-03-11T02:16:19.976400Z"
    }
   },
   "outputs": [],
   "source": [
    "genotype=read_data(\"ukb_genotype.csv\")\n",
    "ukb=read_data(\"all_fields_251020.csv\")\n",
    "customfields=read_data(\"ukb_customfields.csv\")\n",
    "death_codes=read_data(\"hm_cod_update_02sep2020.csv\")"
   ]
  },
  {
   "cell_type": "code",
   "execution_count": 5,
   "metadata": {
    "ExecuteTime": {
     "end_time": "2021-03-11T04:50:05.159014Z",
     "start_time": "2021-03-11T04:35:25.259157Z"
    }
   },
   "outputs": [
    {
     "name": "stdout",
     "output_type": "stream",
     "text": [
      "(502523, 1516)\n"
     ]
    }
   ],
   "source": [
    "customfields=pd.merge(customfields,genotype,on='eid',how='left')\n",
    "customfields=customfields[['eid','parental_ad_status','APOE4_Carriers','APOE4_assigned','Genotype']]\n",
    "\n",
    "death_codes=death_codes[['n_eid','s_40000_0_0']]\n",
    "death_codes['death']=1\n",
    "death_codes.columns=['eid','death_date','death']\n",
    "\n",
    "ukb_tp0=createindepvars(ukb,tps=config['time_points'])\n",
    "\n",
    "ukb_tp0=pd.merge(ukb_tp0,death_codes,on='eid',how='left')\n",
    "\n",
    "ukb_temp=pd.merge(ukb_tp0[['eid']],customfields,on='eid',how='left')\n",
    "ukb_tp0['parental_ad_status']=ukb_temp['parental_ad_status']\n",
    "ukb_tp0['APOE4_Carriers']=ukb_temp['APOE4_Carriers']\n",
    "ukb_tp0['Genotype']=ukb_temp['Genotype']\n",
    "\n",
    "ukb_tp0['Age_Today']=ukb_tp0['age_when_attended_assessment_centre_f21003']+\\\n",
    "(dt.datetime(year, month, day)-pd.to_datetime(ukb_tp0['date_of_attending_assessment_centre_f53'])).dt.days/365\n"
   ]
  },
  {
   "cell_type": "code",
   "execution_count": 6,
   "metadata": {
    "ExecuteTime": {
     "end_time": "2021-03-11T04:51:03.939431Z",
     "start_time": "2021-03-11T04:50:05.180613Z"
    }
   },
   "outputs": [],
   "source": [
    "ukb_tp0.to_pickle('%s%s' % (path,'ukb_tp0_.p'))"
   ]
  },
  {
   "cell_type": "code",
   "execution_count": null,
   "metadata": {},
   "outputs": [],
   "source": []
  }
 ],
 "metadata": {
  "kernelspec": {
   "display_name": "Python 3",
   "language": "python",
   "name": "python3"
  },
  "language_info": {
   "codemirror_mode": {
    "name": "ipython",
    "version": 3
   },
   "file_extension": ".py",
   "mimetype": "text/x-python",
   "name": "python",
   "nbconvert_exporter": "python",
   "pygments_lexer": "ipython3",
   "version": "3.7.6"
  },
  "toc": {
   "base_numbering": 1,
   "nav_menu": {},
   "number_sections": false,
   "sideBar": true,
   "skip_h1_title": false,
   "title_cell": "Table of Contents",
   "title_sidebar": "Contents",
   "toc_cell": false,
   "toc_position": {},
   "toc_section_display": true,
   "toc_window_display": false
  }
 },
 "nbformat": 4,
 "nbformat_minor": 2
}
