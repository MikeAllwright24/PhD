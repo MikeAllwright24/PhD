{
 "cells": [
  {
   "cell_type": "code",
   "execution_count": 1,
   "metadata": {
    "ExecuteTime": {
     "end_time": "2021-03-12T04:00:28.719025Z",
     "start_time": "2021-03-12T04:00:28.470609Z"
    }
   },
   "outputs": [],
   "source": [
    "import pandas as pd\n",
    "import numpy as np\n",
    "import re\n",
    "import warnings\n",
    "warnings.filterwarnings('ignore')\n",
    "warnings.filterwarnings('ignore')\n",
    "path=\"../../../ukb/data/\"\n",
    "\n",
    "'''\n",
    "Helper function to find out columns containing specific text\n",
    "'''\n",
    "def findcols(df,text):\n",
    "    return [col for col in df.columns if text in col]"
   ]
  },
  {
   "cell_type": "code",
   "execution_count": 2,
   "metadata": {
    "ExecuteTime": {
     "end_time": "2021-03-12T04:00:28.728431Z",
     "start_time": "2021-03-12T04:00:28.722433Z"
    }
   },
   "outputs": [],
   "source": [
    "'''\n",
    "set of variables removed as noise\n",
    "'''\n",
    "\n",
    "drop_ohc_cols=['death_date','age_at_death_f40007', 'date_of_death_f40000', 'death_record_format_f40018',\n",
    " 'death_record_origin_f40020', 'description_of_cause_of_death_f40010',\n",
    "'date_of_alzheimers_disease_report_f42020', 'source_of_alzheimers_disease_report_f42021',\n",
    "'date_of_all_cause_dementia_report_f42018', 'date_of_frontotemporal_dementia_report_f42024', 'date_of_vascular_dementia_report_f42022',\n",
    " 'source_of_all_cause_dementia_report_f42019', 'source_of_frontotemporal_dementia_report_f42025', \n",
    " 'source_of_vascular_dementia_report_f42023','Age_Today']\n",
    "\n",
    "exc_ohc_cols=['eid','death']\n",
    "\n",
    "disease_vars=['EPIL_bef','DIAB_bef','CERVASC_bef','CERVASCALL_bef','STROKE_bef','AD','EPIL','DIAB','CERVASC','CELIAC','PD']"
   ]
  },
  {
   "cell_type": "code",
   "execution_count": 5,
   "metadata": {
    "ExecuteTime": {
     "end_time": "2021-03-12T04:00:37.866725Z",
     "start_time": "2021-03-12T04:00:37.857920Z"
    }
   },
   "outputs": [],
   "source": [
    "qualmap={'None of the above':0,'Prefer not to answer':0,'O levels/GCSEs or equivalent':1,\\\n",
    "'NVQ or HND or HNC or equivalent':2,'NVQ or HND or HNC or equivalent' :3,\\\n",
    "'NVQ or HND or HNC or equivalent':4,'CSEs or equivalent':5,\\\n",
    "'Other professional qualifications eg: nursing, teaching':6,'A levels/AS levels or equivalent':7,\\\n",
    "'College or University degree':8 }   \n"
   ]
  },
  {
   "cell_type": "code",
   "execution_count": 6,
   "metadata": {
    "ExecuteTime": {
     "end_time": "2021-03-12T04:00:39.599284Z",
     "start_time": "2021-03-12T04:00:39.577561Z"
    }
   },
   "outputs": [],
   "source": [
    "def onehotencoder(df,dropcols,exccols,maxrecs=12,mincount=0.8,minctcts=0.8,nodrop=0):\n",
    "    \n",
    "    if nodrop==0:\n",
    "        df1=df.drop(columns=np.append(dropcols,exccols),axis=0)\n",
    "    else:\n",
    "        df1=df.copy()\n",
    "   \n",
    "    \n",
    "    print(r'Total variables = %0.0f ' % (df1.shape[1]-1))\n",
    "    \n",
    "    ohe_cols=\\\n",
    "    [col for col in df1.columns if len(df1[col].value_counts())<maxrecs and df1[col].count()/df1[col].shape[0]>mincount]\n",
    "    \n",
    "    print(r'Total ohe variables = %0.0f ' % (len(ohe_cols)))\n",
    "        \n",
    "    df_ohe_cols=df1[ohe_cols]\n",
    "    \n",
    "    cts_cols=[col for i,col in enumerate(df1.columns) if re.search(str(df1.dtypes[i]),'float64|int')\n",
    "             #and len(df1[col].value_counts())>=maxrecs \n",
    "              and \n",
    "              df1[col].count()/len(df1[col])>minctcts]\n",
    "    \n",
    "    print(r'Total cts variables = %0.0f ' % (len(cts_cols)))\n",
    "    \n",
    "    df_ctsvars=df1[cts_cols]\n",
    "    \n",
    "    df_ctsvars['eid']=df['eid']\n",
    "    \n",
    "    for col in df_ohe_cols.columns:\n",
    "        df_ohe_cols[col][pd.isnull(df_ohe_cols[col])]='Unknown'\n",
    "    df_out=pd.get_dummies(df_ohe_cols, prefix=df_ohe_cols.columns,\n",
    "               columns=df_ohe_cols.columns)\n",
    "    \n",
    "    print(r'Total ohe variables post trans = %0.0f ' % (df_out.shape[1]-1))\n",
    "    \n",
    "    exccols2=[col for col in df.columns if col in exccols]\n",
    "    \n",
    "    df_out[exccols2]=df[exccols2]\n",
    "    \n",
    "    df_full=pd.merge(df_out,df_ctsvars,on='eid',how='left')    \n",
    "    \n",
    "    \n",
    "    print(r'Total variables out = %0.0f ' % (df_full.shape[1]-1))\n",
    "    \n",
    "    return df_full"
   ]
  },
  {
   "cell_type": "code",
   "execution_count": 7,
   "metadata": {
    "ExecuteTime": {
     "end_time": "2021-03-12T04:01:40.382021Z",
     "start_time": "2021-03-12T04:00:47.617460Z"
    }
   },
   "outputs": [],
   "source": [
    "ukb_tp0=pd.read_pickle('%s%s' % (path,'ukb_tp0_.p'))"
   ]
  },
  {
   "cell_type": "code",
   "execution_count": 8,
   "metadata": {
    "ExecuteTime": {
     "end_time": "2021-03-12T04:03:13.661781Z",
     "start_time": "2021-03-12T04:01:40.386107Z"
    }
   },
   "outputs": [],
   "source": [
    "ukb_tp0['qualif_score']=ukb_tp0['qualifications_f6138'].map(qualmap)\n",
    "ukb_tp0['qualif_score'][pd.isnull(ukb_tp0['qualif_score'])]=0\n"
   ]
  },
  {
   "cell_type": "code",
   "execution_count": 9,
   "metadata": {
    "ExecuteTime": {
     "end_time": "2021-03-12T04:10:16.366045Z",
     "start_time": "2021-03-12T04:03:13.664667Z"
    }
   },
   "outputs": [
    {
     "name": "stdout",
     "output_type": "stream",
     "text": [
      "Total variables = 1505 \n",
      "Total ohe variables = 358 \n",
      "Total cts variables = 189 \n",
      "Total ohe variables post trans = 1464 \n",
      "Total variables out = 1655 \n"
     ]
    }
   ],
   "source": [
    "ukb_tp0_ohc=onehotencoder(ukb_tp0,dropcols=drop_ohc_cols,exccols=exc_ohc_cols,maxrecs=9,mincount=0.8)"
   ]
  },
  {
   "cell_type": "code",
   "execution_count": 10,
   "metadata": {
    "ExecuteTime": {
     "end_time": "2021-03-12T04:10:19.431332Z",
     "start_time": "2021-03-12T04:10:16.372119Z"
    }
   },
   "outputs": [],
   "source": [
    "ukb_tp0_ohc.to_pickle('%s%s' % (path,'ukb_tp0_ohc_.p'))"
   ]
  },
  {
   "cell_type": "code",
   "execution_count": null,
   "metadata": {},
   "outputs": [],
   "source": []
  }
 ],
 "metadata": {
  "kernelspec": {
   "display_name": "Python 3",
   "language": "python",
   "name": "python3"
  },
  "language_info": {
   "codemirror_mode": {
    "name": "ipython",
    "version": 3
   },
   "file_extension": ".py",
   "mimetype": "text/x-python",
   "name": "python",
   "nbconvert_exporter": "python",
   "pygments_lexer": "ipython3",
   "version": "3.7.6"
  },
  "toc": {
   "base_numbering": 1,
   "nav_menu": {},
   "number_sections": false,
   "sideBar": true,
   "skip_h1_title": false,
   "title_cell": "Table of Contents",
   "title_sidebar": "Contents",
   "toc_cell": false,
   "toc_position": {},
   "toc_section_display": true,
   "toc_window_display": false
  }
 },
 "nbformat": 4,
 "nbformat_minor": 2
}
