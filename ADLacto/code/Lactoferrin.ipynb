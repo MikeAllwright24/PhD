{
 "cells": [
  {
   "cell_type": "code",
   "execution_count": 1,
   "metadata": {
    "ExecuteTime": {
     "end_time": "2021-03-01T06:32:39.424711Z",
     "start_time": "2021-03-01T06:32:39.033798Z"
    }
   },
   "outputs": [],
   "source": [
    "import pandas as pd\n",
    "import numpy as np\n",
    "from MLModels import *"
   ]
  },
  {
   "cell_type": "code",
   "execution_count": 10,
   "metadata": {
    "ExecuteTime": {
     "end_time": "2021-03-01T06:38:38.583968Z",
     "start_time": "2021-03-01T06:38:38.579670Z"
    }
   },
   "outputs": [],
   "source": [
    "\n",
    "\n",
    "path='../../../'"
   ]
  },
  {
   "cell_type": "code",
   "execution_count": 34,
   "metadata": {
    "ExecuteTime": {
     "end_time": "2021-03-01T06:49:37.378439Z",
     "start_time": "2021-03-01T06:49:17.383758Z"
    }
   },
   "outputs": [],
   "source": [
    "df=pd.read_csv('%s%s' % (path,'cp ad_vs_ctrl_class.csv'))"
   ]
  },
  {
   "cell_type": "code",
   "execution_count": 36,
   "metadata": {
    "ExecuteTime": {
     "end_time": "2021-03-01T06:49:37.411605Z",
     "start_time": "2021-03-01T06:49:37.393829Z"
    }
   },
   "outputs": [
    {
     "name": "stderr",
     "output_type": "stream",
     "text": [
      "\n",
      "A value is trying to be set on a copy of a slice from a DataFrame\n",
      "\n",
      "See the caveats in the documentation: http://pandas.pydata.org/pandas-docs/stable/user_guide/indexing.html#returning-a-view-versus-a-copy\n"
     ]
    }
   ],
   "source": [
    "mask_AD=(df['labels']!=\"CTRL\")\n",
    "df['AD']=0\n",
    "df['AD'][mask_AD]=1\n",
    "df['eid']=df.index"
   ]
  },
  {
   "cell_type": "code",
   "execution_count": 20,
   "metadata": {
    "ExecuteTime": {
     "end_time": "2021-03-01T06:42:42.987193Z",
     "start_time": "2021-03-01T06:42:42.430241Z"
    }
   },
   "outputs": [],
   "source": [
    "!cp '../../../git/UKB/code/MLModels.py' MLModels.py"
   ]
  },
  {
   "cell_type": "code",
   "execution_count": null,
   "metadata": {
    "ExecuteTime": {
     "start_time": "2021-03-01T07:00:42.641Z"
    }
   },
   "outputs": [
    {
     "name": "stdout",
     "output_type": "stream",
     "text": [
      "iteration: 0\n",
      "iteration: 1\n",
      "iteration: 2\n",
      "iteration: 3\n",
      "iteration: 4\n",
      "iteration: 5\n"
     ]
    }
   ],
   "source": [
    "#df.drop(columns='Unnamed: 0',inplace=True)\n",
    "dropvars=['labels','AD','eid']\n",
    "shap=newmodelrun(df,dropvars,model=mod_xgb,depvar='AD',reps=50,splits=5,shap=1,\n",
    "                rebalance=0,max_display=15,plot_type=\"dot\",plots=1,modtype='class')"
   ]
  },
  {
   "cell_type": "code",
   "execution_count": null,
   "metadata": {},
   "outputs": [],
   "source": []
  }
 ],
 "metadata": {
  "kernelspec": {
   "display_name": "Python 3",
   "language": "python",
   "name": "python3"
  },
  "language_info": {
   "codemirror_mode": {
    "name": "ipython",
    "version": 3
   },
   "file_extension": ".py",
   "mimetype": "text/x-python",
   "name": "python",
   "nbconvert_exporter": "python",
   "pygments_lexer": "ipython3",
   "version": "3.7.6"
  },
  "toc": {
   "base_numbering": 1,
   "nav_menu": {},
   "number_sections": false,
   "sideBar": true,
   "skip_h1_title": false,
   "title_cell": "Table of Contents",
   "title_sidebar": "Contents",
   "toc_cell": false,
   "toc_position": {},
   "toc_section_display": true,
   "toc_window_display": false
  }
 },
 "nbformat": 4,
 "nbformat_minor": 2
}
