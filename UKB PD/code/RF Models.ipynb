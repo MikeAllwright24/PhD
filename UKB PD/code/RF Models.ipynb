{
 "cells": [
  {
   "cell_type": "code",
   "execution_count": 27,
   "metadata": {
    "ExecuteTime": {
     "end_time": "2021-01-26T23:48:44.034448Z",
     "start_time": "2021-01-26T23:48:44.025593Z"
    }
   },
   "outputs": [],
   "source": [
    "#!pip install pdpbox\n",
    "from time import time\n",
    "import numpy as np\n",
    "import pandas as pd\n",
    "import matplotlib.pyplot as plt\n",
    "from mpl_toolkits.mplot3d import Axes3D\n",
    "\n",
    "from sklearn.model_selection import train_test_split\n",
    "from sklearn.preprocessing import QuantileTransformer\n",
    "from sklearn.pipeline import make_pipeline\n",
    "from sklearn.ensemble import RandomForestClassifier\n",
    "\n",
    "from sklearn.pipeline import make_pipeline\n",
    "from sklearn.preprocessing import StandardScaler\n",
    "from sklearn.svm import SVC\n",
    "\n",
    "from sklearn.inspection import partial_dependence\n",
    "from sklearn.inspection import plot_partial_dependence\n",
    "path=\"../../data/\""
   ]
  },
  {
   "cell_type": "code",
   "execution_count": 28,
   "metadata": {
    "ExecuteTime": {
     "end_time": "2021-01-26T23:48:45.336552Z",
     "start_time": "2021-01-26T23:48:45.331489Z"
    }
   },
   "outputs": [],
   "source": [
    "from utils import *\n",
    "from MLModels import *\n",
    "from DataProcessing import *"
   ]
  },
  {
   "cell_type": "code",
   "execution_count": 29,
   "metadata": {
    "ExecuteTime": {
     "end_time": "2021-01-26T23:48:46.098851Z",
     "start_time": "2021-01-26T23:48:46.087307Z"
    }
   },
   "outputs": [],
   "source": [
    "\n",
    "config = dict(scale_pos_weight = 6,subsample = 1, min_child_weight = 5, max_depth = 5, gamma= 2, \n",
    "              colsample_bytree= 0.6,smote=1)\n",
    "\n",
    "config_rebal = dict(scale_pos_weight = 1,subsample = 1, min_child_weight = 5, max_depth = 5, gamma= 2, \n",
    "              colsample_bytree= 0.6,smote=1)\n",
    "\n",
    "\n",
    "mod_rf = RandomForestClassifier(max_depth=5, random_state=0)\n",
    "\n",
    "svm_mod = SVC(probability=True)\n",
    "\n",
    "\n"
   ]
  },
  {
   "cell_type": "code",
   "execution_count": 30,
   "metadata": {
    "ExecuteTime": {
     "end_time": "2021-01-26T23:48:47.418525Z",
     "start_time": "2021-01-26T23:48:47.390015Z"
    }
   },
   "outputs": [],
   "source": [
    "\n",
    "drpvars1='AD|hospital_episode_type_f41231_General\\\n",
    "|spells_in_hospital_f41235|sexual_partners|using_computer|interpolated_year|\\\n",
    "genotype_measurement_batch_f2200|\\\n",
    "f21052|f2188|f20463|coeliac|Unknown|death|APOE4|consultant|f20434|year_of_birth|age|set|\\\n",
    "history_of_psychiatric|carer_support|sunlamp|answered_sexual|samesex|death'\n",
    "\n",
    "drpvars1='death|AD|Unknown|answered_sexual_history_questions|speciality_of_consultant|APOE4|\\\n",
    "hospital_episode_type|history_of_psychiatric|samesex|year_of_birth|age|sexual_partners|using_computer|sex_inference'\n",
    "\n",
    "drpvars_mod='AD|eid|CERVASCALL_bef|Unknown|answered_sexual_history_questions|speciality_of_consultant|APOE4|\\\n",
    "hospital_episode_type|history_of_psychiatric|samesex|year_of_birth|age|sexual_partners|using_computer|sex_inference'\n",
    "\n",
    "\n",
    "drpvarsapoe='AD|hospital_episode_type_f41231_General\\\n",
    "|spells_in_hospital_f41235|sexual_partners|using_computer|interpolated_year|\\\n",
    "genotype_measurement_batch_f2200|\\\n",
    "f21052|f2188|f20463|coeliac|Unknown|death|APOE4|consultant|f20434|year_of_birth|age|set|APOE|Genotype'\n",
    "\n",
    "drpvarsapoe='AD|Unknown|answered_sexual_history_questions|speciality_of_consultant|APOE4|\\\n",
    "hospital_episode_type|history_of_psychiatric|samesex|year_of_birth|Genotype|age'\n",
    "\n",
    "\n",
    "drvarsdef=['DIAB','DIAB_bef','CERVASC','CERVASC_bef','PD','CERVASC','EPIL']\n",
    "\n",
    "drpvarssurv='AD|DIAB|EPIL|CERVASC_bef|spells_in_hospital_f41235|\\\n",
    "hospital_episode_type_f41231_General episode|genotype_measurement_batch_f2200|consultant\\\n",
    "|Unknown|Not at all'\n",
    "\n",
    "genos=[\n",
    " 'Genotype_e1/e4',\n",
    " 'Genotype_e2/e2',\n",
    " 'Genotype_e2/e3',\n",
    " 'Genotype_e2/e4',\n",
    " 'Genotype_e3/e3',\n",
    " 'Genotype_e3/e4',\n",
    " 'Genotype_e4/e4']\n",
    "\n",
    "genotypes=['Genotype_e1/e2',\"Genotype_e2/e2\",\"Genotype_e2/e3\",\"Genotype_e3/e3\",\"Genotype_e2/e4\",\"Genotype_e1/e4\",\n",
    "          \"Genotype_e3/e4\",\"Genotype_e4/e4\"]\n",
    "\n",
    "gen_lkup={'Genotype_e2/e2':1,\"Genotype_e1/e2\":2,\"Genotype_e2/e3\":3,\"Genotype_e3/e3\":4,\n",
    "          \"Genotype_e2/e4\":5,\"Genotype_e1/e4\":6,\"Genotype_e3/e4\":7,\"Genotype_e4/e4\":8}\n",
    "\n",
    "gen_lkup_rev={1:'Genotype_e2/e2',2:\"Genotype_e1/e2\",3:\"Genotype_e2/e3\",4:\"Genotype_e3/e3\",\n",
    "          5:\"Genotype_e2/e4\",6:\"Genotype_e1/e4\",7:\"Genotype_e3/e4\",8:\"Genotype_e4/e4\"}\n",
    "\n",
    "def int_vars(df,var1,vars=genos):\n",
    "    for var in vars:\n",
    "        df[str(var1)+\" \"+var]=df[var]*df[var1]\n",
    "    return df\n",
    "\n",
    "def newfeats(df,shapsum,depvar='AD',feats=30):\n",
    "    \n",
    "    if feats==max:\n",
    "        cols=[col for col in df if col in np.asarray(shapsum['column_name'])]\n",
    "    \n",
    "    else:\n",
    "        cols=[col for col in df if col in np.asarray(shapsum.head(feats)['column_name'])]\n",
    "    \n",
    "    if 'eid' in cols:\n",
    "        df_out=df[np.append(['AD'],cols)]   \n",
    "    else:\n",
    "        df_out=df[np.append(['AD','eid'],cols)]\n",
    "    return df_out\n",
    "\n",
    "def cleandf(df,alm=1):\n",
    "    df=replacenullsmean(df)\n",
    "    \n",
    "    if alm==1:\n",
    "        df['alan_aspar_rat']=round((df['aspartate_aminotransferase_f30650']\\\n",
    "                                          /df['alanine_aminotransferase_f30620']),1)\n",
    "\n",
    "    #change to any of the pollution metrics in the top 40%\n",
    "    \n",
    "    \n",
    "        df['polluted']=0\n",
    "        df['polluted'][(df['particulate_matter_air_pollution_pm25_absorbance_2010_f24007']>10)]=1\n",
    "\n",
    "\n",
    "    df=col_spec_chars(df)\n",
    "    #df=replace_genotype(df,gen_lkup,genotypes)\n",
    "    return df\n",
    "\n",
    "def maskapoedf(df,apoe=1):\n",
    "    \n",
    "    if apoe==1:\n",
    "        apoemask=(df['Genotype_e3/e4']==1)|(df['Genotype_e4/e4']==1)|\\\n",
    "        (df['Genotype_e2/e4']==1)|(df['Genotype_e1/e4']==1)\n",
    "        return df[apoemask]\n",
    "    \n",
    "    elif apoe==0:\n",
    "\n",
    "        non_apoemask=(df['Genotype_e2/e3']==1)|(df['Genotype_e3/e3']==1)|\\\n",
    "        (df['Genotype_e1/e2']==1)|(df['Genotype_e2/e2']==1)\n",
    "        return df[non_apoemask]\n",
    "\n"
   ]
  },
  {
   "cell_type": "code",
   "execution_count": null,
   "metadata": {
    "ExecuteTime": {
     "end_time": "2021-01-26T23:24:26.097552Z",
     "start_time": "2021-01-26T22:31:20.236Z"
    }
   },
   "outputs": [],
   "source": [
    "AD_model_full70=pd.read_pickle('%s%s' % (path,'AD_model_full70.p'))\n",
    "AD_model_full=pd.read_pickle('%s%s' % (path,'AD_model_full.p'))\n",
    "AD_model_age=pd.read_pickle('%s%s' % (path,'AD_modelage.p'))"
   ]
  },
  {
   "cell_type": "code",
   "execution_count": 18,
   "metadata": {
    "ExecuteTime": {
     "end_time": "2021-01-26T07:20:22.623985Z",
     "start_time": "2021-01-26T07:20:22.380906Z"
    }
   },
   "outputs": [],
   "source": [
    "AD_model_full_modify=pd.read_pickle('%s%s' % (path,'AD_model_full70_mod.p'))"
   ]
  },
  {
   "cell_type": "code",
   "execution_count": 31,
   "metadata": {
    "ExecuteTime": {
     "end_time": "2021-01-26T23:49:08.792159Z",
     "start_time": "2021-01-26T23:49:03.270743Z"
    }
   },
   "outputs": [
    {
     "name": "stderr",
     "output_type": "stream",
     "text": [
      "\n",
      "A value is trying to be set on a copy of a slice from a DataFrame\n",
      "\n",
      "See the caveats in the documentation: http://pandas.pydata.org/pandas-docs/stable/user_guide/indexing.html#returning-a-view-versus-a-copy\n",
      "\n",
      "A value is trying to be set on a copy of a slice from a DataFrame\n",
      "\n",
      "See the caveats in the documentation: http://pandas.pydata.org/pandas-docs/stable/user_guide/indexing.html#returning-a-view-versus-a-copy\n"
     ]
    }
   ],
   "source": [
    "AD_model_full70=cleandf(AD_model_full70)"
   ]
  },
  {
   "cell_type": "code",
   "execution_count": 32,
   "metadata": {
    "ExecuteTime": {
     "end_time": "2021-01-26T23:49:09.167216Z",
     "start_time": "2021-01-26T23:49:09.157041Z"
    }
   },
   "outputs": [],
   "source": [
    "dropvars_full=varstodrop(AD_model_full70,drpvars_mod,drvarsdef)"
   ]
  },
  {
   "cell_type": "code",
   "execution_count": 22,
   "metadata": {
    "ExecuteTime": {
     "end_time": "2021-01-26T07:58:38.385503Z",
     "start_time": "2021-01-26T07:20:40.980228Z"
    }
   },
   "outputs": [
    {
     "name": "stdout",
     "output_type": "stream",
     "text": [
      "iteration: 0\n"
     ]
    },
    {
     "name": "stderr",
     "output_type": "stream",
     "text": [
      "using a dict on a Series for aggregation\n",
      "is deprecated and will be removed in a future version. Use                 named aggregation instead.\n",
      "\n",
      "    >>> grouper.agg(name_1=func_1, name_2=func_2)\n",
      "\n"
     ]
    },
    {
     "name": "stdout",
     "output_type": "stream",
     "text": [
      "iteration: 1\n"
     ]
    },
    {
     "name": "stderr",
     "output_type": "stream",
     "text": [
      "using a dict on a Series for aggregation\n",
      "is deprecated and will be removed in a future version. Use                 named aggregation instead.\n",
      "\n",
      "    >>> grouper.agg(name_1=func_1, name_2=func_2)\n",
      "\n"
     ]
    },
    {
     "name": "stdout",
     "output_type": "stream",
     "text": [
      "iteration: 2\n"
     ]
    },
    {
     "name": "stderr",
     "output_type": "stream",
     "text": [
      "using a dict on a Series for aggregation\n",
      "is deprecated and will be removed in a future version. Use                 named aggregation instead.\n",
      "\n",
      "    >>> grouper.agg(name_1=func_1, name_2=func_2)\n",
      "\n"
     ]
    },
    {
     "name": "stdout",
     "output_type": "stream",
     "text": [
      "iteration: 3\n"
     ]
    },
    {
     "name": "stderr",
     "output_type": "stream",
     "text": [
      "using a dict on a Series for aggregation\n",
      "is deprecated and will be removed in a future version. Use                 named aggregation instead.\n",
      "\n",
      "    >>> grouper.agg(name_1=func_1, name_2=func_2)\n",
      "\n"
     ]
    },
    {
     "name": "stdout",
     "output_type": "stream",
     "text": [
      "iteration: 4\n"
     ]
    },
    {
     "name": "stderr",
     "output_type": "stream",
     "text": [
      "using a dict on a Series for aggregation\n",
      "is deprecated and will be removed in a future version. Use                 named aggregation instead.\n",
      "\n",
      "    >>> grouper.agg(name_1=func_1, name_2=func_2)\n",
      "\n"
     ]
    },
    {
     "name": "stdout",
     "output_type": "stream",
     "text": [
      "Accuracy : 0.9904\n",
      "0.0\n",
      "AUC Score (Train): 0.780974\n"
     ]
    },
    {
     "data": {
      "image/png": "[encoded data removed]",
      "text/plain": [
       "<Figure size 864x576 with 1 Axes>"
      ]
     },
     "metadata": {
      "needs_background": "light"
     },
     "output_type": "display_data"
    }
   ],
   "source": [
    "score_rf=newmodelrun(AD_model_full70,dropvars=dropvars_full,model=mod_rf,depvar='AD',\n",
    "                    reps=5,splits=5,rebalance=0,max_display=25,plot_type=\"dot\",shap=0)\n"
   ]
  },
  {
   "cell_type": "code",
   "execution_count": null,
   "metadata": {
    "ExecuteTime": {
     "start_time": "2021-01-26T23:49:16.339Z"
    }
   },
   "outputs": [
    {
     "name": "stdout",
     "output_type": "stream",
     "text": [
      "iteration: 0\n"
     ]
    }
   ],
   "source": [
    "score_svc=newmodelrun(AD_model_full70,dropvars=dropvars_full,model=svm_mod,depvar='AD',\n",
    "                    reps=1,splits=5,rebalance=0,max_display=25,plot_type=\"dot\",shap=0)\n",
    "\n",
    "\n"
   ]
  },
  {
   "cell_type": "code",
   "execution_count": null,
   "metadata": {},
   "outputs": [],
   "source": []
  }
 ],
 "metadata": {
  "kernelspec": {
   "display_name": "Python 3",
   "language": "python",
   "name": "python3"
  },
  "toc": {
   "base_numbering": 1,
   "nav_menu": {},
   "number_sections": false,
   "sideBar": true,
   "skip_h1_title": false,
   "title_cell": "Table of Contents",
   "title_sidebar": "Contents",
   "toc_cell": false,
   "toc_position": {},
   "toc_section_display": true,
   "toc_window_display": false
  }
 },
 "nbformat": 4,
 "nbformat_minor": 2
}
