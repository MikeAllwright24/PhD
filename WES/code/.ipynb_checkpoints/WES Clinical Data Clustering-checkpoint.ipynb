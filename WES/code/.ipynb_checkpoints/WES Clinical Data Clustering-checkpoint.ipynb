{
 "cells": [
  {
   "cell_type": "markdown",
   "metadata": {},
   "source": [
    "# WES COHORT CLINICAL DATA CLUSTERING"
   ]
  },
  {
   "cell_type": "markdown",
   "metadata": {},
   "source": [
    "### Constants"
   ]
  },
  {
   "cell_type": "code",
   "execution_count": 263,
   "metadata": {
    "ExecuteTime": {
     "end_time": "2020-12-04T23:03:14.305778Z",
     "start_time": "2020-12-04T23:03:14.295342Z"
    }
   },
   "outputs": [],
   "source": [
    "import pandas as pd\n",
    "import numpy as np\n",
    "import re\n",
    "import seaborn as sns\n",
    "import matplotlib.pyplot as plt\n",
    "import scipy\n",
    "\n",
    "from sklearn.linear_model import LinearRegression\n",
    "\n",
    "# debug mode (spits messages verbosely)\n",
    "DEBUG = 0  # change it to 0 to switch it off\n",
    "\n",
    "loc=\"../Clinical Data/Raw/\"\n",
    "outdata=\"../Clinical Data/Processed/\""
   ]
  },
  {
   "cell_type": "markdown",
   "metadata": {},
   "source": [
    "### Utilities"
   ]
  },
  {
   "cell_type": "code",
   "execution_count": 264,
   "metadata": {
    "ExecuteTime": {
     "end_time": "2020-12-04T23:03:14.705076Z",
     "start_time": "2020-12-04T23:03:14.692585Z"
    }
   },
   "outputs": [],
   "source": [
    "from functools import wraps\n",
    "from time import time\n",
    "\n",
    "def timeit(func):\n",
    "    @wraps(func)\n",
    "    def wrap(*args, **kw):\n",
    "        ts = time()\n",
    "        res = func(*args, **kw)\n",
    "        te = time()\n",
    "        print('func:%r\\nargs:[%r, %r]\\ntook: %2.4f sec' % \\\n",
    "          (func.__name__, args, kw, te - ts))\n",
    "        return res\n",
    "    return wrap\n",
    "\n",
    "def findcols(df,txt):\n",
    "    cols=[col for col in df.columns if txt in col]\n",
    "    return cols\n"
   ]
  },
  {
   "cell_type": "markdown",
   "metadata": {},
   "source": [
    "### Read Data"
   ]
  },
  {
   "cell_type": "code",
   "execution_count": 265,
   "metadata": {
    "ExecuteTime": {
     "end_time": "2020-12-04T23:03:18.539672Z",
     "start_time": "2020-12-04T23:03:15.022313Z"
    }
   },
   "outputs": [],
   "source": [
    "dem = pd.read_excel('%s%s' % (loc,\"1. Completed_WES_Demographics_16082020.xlsx\"))\n",
    "UDPRS = pd.read_excel('%s%s' % (loc,\"2. Completed_Old UPDRS WES COHORT_20082020.xlsx\"))\n",
    "cog1 = pd.read_excel('%s%s' % (loc,\"3. Completed_CogPart 1.xlsx\"))\n",
    "cog2 = pd.read_excel('%s%s' % (loc,\"4. Completed_CogPart 2_RAVLT BNT_WES cohort 16082020.xlsx\"))\n",
    "PSYCHQ = pd.read_excel('%s%s' % (loc,\"5. Completed_PSYCHQ WES Cohort 20082020.xlsx\"))\n",
    "UDPRS2 = pd.read_excel('%s%s' % (loc,\"6. Completed_WES MDSUPDPRS_22082020.xlsx\"))\n",
    "HADS = pd.read_excel('%s%s' % (loc,\"7. Completed_HADS_WES cohort_15082020.xlsx\"))\n",
    "RBDQ = pd.read_excel('%s%s' % (loc,\"8. Completed RBDQ_WES Cohort_11082020.xlsx\"))\n",
    "BDI = pd.read_excel('%s%s' % (loc,\"9. Completed_BDI WES Cohort_14082020.xlsx\"))\n",
    "SCOPAS = pd.read_excel('%s%s' % (loc,\"10. Completed_SCOPAS WES Cohort 13082020.xlsx\"))\n",
    "SCOPAPC = pd.read_excel('%s%s' % (loc,\"11. Completed_SCOPAPC WES Cohort 13082020.xlsx\"))\n",
    "ESS = pd.read_excel('%s%s' % (loc,\"12. Completed_ESS WES cohort_13082020.xlsx\"))\n",
    "MOCA = pd.read_excel('%s%s' % (loc,\"13. Completed_WES MOCA_16072020.xlsx\"))\n",
    "FOGQ = pd.read_excel('%s%s' % (loc,\"14. Completed_FOGQ WES cohort_13082020.xlsx\"))\n",
    "Smell = pd.read_excel('%s%s' % (loc,\"15. Completed_New smell and vision WES cohort_13082020.xlsx\"))"
   ]
  },
  {
   "cell_type": "markdown",
   "metadata": {},
   "source": [
    "### Transform Data"
   ]
  },
  {
   "cell_type": "code",
   "execution_count": 266,
   "metadata": {
    "ExecuteTime": {
     "end_time": "2020-12-04T23:03:20.531107Z",
     "start_time": "2020-12-04T23:03:18.541618Z"
    }
   },
   "outputs": [
    {
     "name": "stderr",
     "output_type": "stream",
     "text": [
      "/opt/conda/lib/python3.7/site-packages/ipykernel_launcher.py:39: FutureWarning: Sorting because non-concatenation axis is not aligned. A future version\n",
      "of pandas will change to not sort by default.\n",
      "\n",
      "To accept the future behavior, pass 'sort=False'.\n",
      "\n",
      "To retain the current behavior and silence the warning, pass 'sort=True'.\n",
      "\n"
     ]
    }
   ],
   "source": [
    "#split the data so each new date is looked after\n",
    "from typing import Optional\n",
    "excdata='No data|Missing'\n",
    "demcols=['SYDID','Gend','Birth_date','Princ_Diag', 'Date Diagnosed']\n",
    "demremcols=['Gend','Birth_date','Princ_Diag', 'Date Diagnosed']\n",
    "\n",
    "def removedotcol(df):\n",
    "    for j,s in enumerate(df.columns):\n",
    "        inds = [i for i,c in enumerate(s) if c=='.']\n",
    "        if inds:\n",
    "            t=s[0:inds[0]]\n",
    "            #t=t.replace(\"'\",\"\")\n",
    "            df.rename(columns={s:t},inplace=True)\n",
    "    return df\n",
    "\n",
    "\n",
    "def reshape_data(df,datefield,demcols=demcols,verbose: Optional[bool]=DEBUG):\n",
    "    cog_arr=[i for i,c in enumerate(df.columns) if re.search(\"Date\",c)]\n",
    "    \n",
    "    if verbose:\n",
    "        print(cog_arr)\n",
    "    dfs=[\"df1_\"+str(i) for i in range(len(cog_arr))]\n",
    "    for i,c in enumerate(cog_arr):\n",
    "        if i==len(cog_arr)-1:\n",
    "            dfs[i]=pd.DataFrame(df.iloc[:,  np.r_[:, c:len(df.columns)-1]]).reset_index()\n",
    "            dfs[i]['SYDID']=df['SYDID']\n",
    "            #print(dfs[i].columns)\n",
    "            dfs[i]=removedotcol(dfs[i])\n",
    "            dfs[i]['time_point']=i\n",
    "        else:\n",
    "            #print(df.iloc[c])\n",
    "            dfs[i]=pd.DataFrame(df.iloc[:,  np.r_[:, c:cog_arr[i+1]]]).reset_index()\n",
    "            dfs[i]['SYDID']=df['SYDID']\n",
    "            #if i!=0:\n",
    "             #   dfs[i]['SYDID']=df['SYDID']\n",
    "            #print(dfs[i].columns)\n",
    "            dfs[i]=removedotcol(dfs[i])\n",
    "            dfs[i]['time_point']=i\n",
    "    df_out=pd.concat(dfs,axis=0)\n",
    "    df_out=pd.merge(df_out,dem[demcols],on='SYDID',how='left')\n",
    "    df_out=df_out[pd.notnull(df_out[datefield])&(~df_out[datefield].astype(str).str.contains(excdata))]\n",
    "    \n",
    "    return df_out\n",
    "\n",
    "dem['Gend']=dem['Gender']\n",
    "dem['Birth_date']=dem['Birthdate']\n",
    "dem['Princ_Diag']=dem['Principal Diagnosis']\n",
    "UDPRS.rename(columns={\"PD Code\":\"SYDID\"},inplace=True)\n",
    "\n",
    "UDPRS_rs=reshape_data(UDPRS,'Date/time')\n",
    "cog1_rs=reshape_data(cog1,'Date/time') #Date/time\n",
    "#cog2_rs=reshape_data(cog2)\n",
    "PSYCHQ_rs=reshape_data(PSYCHQ,'Date of assessment') #'Date of assessment'\n",
    "UDPRS2_rs=reshape_data(UDPRS2,'Date of assessment') #'Date of assessment'\n",
    "#HADS_rs=reshape_data(HADS) #Date/time\n",
    "RBDQ_rs=reshape_data(RBDQ,'Date') #Date\n",
    "BDI_rs=reshape_data(BDI,'Date/time') #Date/time\n",
    "\n",
    "SCOPAS_rs=reshape_data(SCOPAS,'Date/time') #Date/time\n",
    "SCOPAPC_rs=reshape_data(SCOPAPC,'Date/time') #Date/time\n",
    "ESS_rs=reshape_data(ESS,'Date ESS') #'Date ESS'\n",
    "MOCA_rs=reshape_data(MOCA,'Date/time') #Date/time\n",
    "FOGQ_rs=reshape_data(FOGQ,'Date FOGQ') #'Date FOGQ'\n",
    "Smell_rs=reshape_data(Smell,'Date/time') #'Date/time'"
   ]
  },
  {
   "cell_type": "code",
   "execution_count": 267,
   "metadata": {
    "ExecuteTime": {
     "end_time": "2020-12-04T23:03:20.539110Z",
     "start_time": "2020-12-04T23:03:20.533277Z"
    }
   },
   "outputs": [],
   "source": [
    "FOGQ_rs['recs']=(FOGQ_rs.groupby('SYDID')['SYDID'].transform('count'))"
   ]
  },
  {
   "cell_type": "code",
   "execution_count": 268,
   "metadata": {
    "ExecuteTime": {
     "end_time": "2020-12-04T23:03:20.569196Z",
     "start_time": "2020-12-04T23:03:20.541140Z"
    }
   },
   "outputs": [],
   "source": [
    "FOGQ_rs.to_csv('%s%s' % (outdata,'FOGQ_rs.csv'))"
   ]
  },
  {
   "cell_type": "markdown",
   "metadata": {},
   "source": [
    "### Changes to individual datasets"
   ]
  },
  {
   "cell_type": "code",
   "execution_count": 269,
   "metadata": {
    "ExecuteTime": {
     "end_time": "2020-12-04T23:03:20.582334Z",
     "start_time": "2020-12-04T23:03:20.570849Z"
    }
   },
   "outputs": [],
   "source": [
    "UDPRS2_rs['Date']=pd.to_datetime(UDPRS2_rs['Date of assessment']).dt.date.astype(str)\n",
    "cog1_rs['Date']=cog1_rs['Date/time'].dt.date.astype(str)\n",
    "MOCA_rs['Date of assessment']=MOCA_rs['Date/time']"
   ]
  },
  {
   "cell_type": "markdown",
   "metadata": {},
   "source": [
    "### Merging of key datasets"
   ]
  },
  {
   "cell_type": "code",
   "execution_count": 270,
   "metadata": {
    "ExecuteTime": {
     "end_time": "2020-12-04T23:03:20.619142Z",
     "start_time": "2020-12-04T23:03:20.584044Z"
    }
   },
   "outputs": [],
   "source": [
    "udprs_cog=pd.merge(UDPRS2_rs.drop(columns=demremcols),cog1_rs,on=['SYDID','Date'],how='inner')\n",
    "udprs_cog_moc=pd.merge(udprs_cog, MOCA_rs[['SYDID','Date of assessment','MoCA Fluency',\n",
    "       'MoCA Orientation', 'MoCA Recall', 'MoCA Repetition', 'MoCA Serial 7s',\n",
    "       'MoCA Total', 'MoCA digits backwards', 'MoCA digits forwards',\n",
    "       'MoCA trails']],on=['SYDID','Date of assessment'],how='inner')\n"
   ]
  },
  {
   "cell_type": "markdown",
   "metadata": {},
   "source": [
    "### Filtering"
   ]
  },
  {
   "cell_type": "code",
   "execution_count": 271,
   "metadata": {
    "ExecuteTime": {
     "end_time": "2020-12-04T23:03:20.627667Z",
     "start_time": "2020-12-04T23:03:20.620879Z"
    }
   },
   "outputs": [],
   "source": [
    "udprs_cog_moc=udprs_cog_moc[(udprs_cog_moc['Princ_Diag']==\"Idiopathic Parkinsons Disease\")&\n",
    "                                   (udprs_cog_moc['Date Diagnosed']!=\"Missing\")]"
   ]
  },
  {
   "cell_type": "markdown",
   "metadata": {},
   "source": [
    "### Feature Engineering"
   ]
  },
  {
   "cell_type": "code",
   "execution_count": 272,
   "metadata": {
    "ExecuteTime": {
     "end_time": "2020-12-04T23:03:20.685305Z",
     "start_time": "2020-12-04T23:03:20.630001Z"
    }
   },
   "outputs": [],
   "source": [
    "#get the right/left featured data\n",
    "udprs_cog_moc['Rigidity_Arm']=udprs_cog_moc[['30 Rigidity Right Arm', '31 Rigidity Left Arm']].max(axis=1)\n",
    "udprs_cog_moc['Rigidity_Leg']=udprs_cog_moc[['32 Rigidity Right Leg', '33 Rigidity Left Leg']].max(axis=1)\n",
    "udprs_cog_moc['Finger tapping']=udprs_cog_moc[['34 Finger tapping Right', '35 Finger tapping Left']].max(axis=1)\n",
    "udprs_cog_moc['Hand Movements']=udprs_cog_moc[['36 Hand Movements Right', '37 Hand Movements Left']].max(axis=1)\n",
    "udprs_cog_moc['Pronation supination']=udprs_cog_moc[['38 Pronation supination Right', '39 Pronation supination Left']].max(axis=1)\n",
    "udprs_cog_moc['Toe tapping']=udprs_cog_moc[['40 Toe tapping Right', '41 Toe tapping Left']].max(axis=1)\n",
    "udprs_cog_moc['Leg Agility']=udprs_cog_moc[['42 Leg agility Right', '43 Leg agility Left']].max(axis=1)\n",
    "\n",
    "udprs_cog_moc['Rest tremorAmplitude Arm']=udprs_cog_moc[['54 Rest tremorAmplitude Right Arm', '55 Rest tremorAmplitude Left Arm']].max(axis=1)\n",
    "udprs_cog_moc['Rest tremorAmplitude Leg']=udprs_cog_moc[['56 Rest tremorAmplitude Right Leg', '57 Rest tremorAmplitude Left Leg']].max(axis=1)\n",
    "\n",
    "udprs_cog_moc['non_tremor']=udprs_cog_moc[['Rigidity_Arm','Rigidity_Leg','Finger tapping','Hand Movements','Pronation supination','Toe tapping','Leg Agility',\n",
    "                                   '28 Facial expression', '29 Rigidity Neck','44 Arising from chair']].mean(axis=1)\n",
    "\n",
    "udprs_cog_moc['tremor']=udprs_cog_moc[['23 ADL Tremor','Rest tremorAmplitude Arm','Rest tremorAmplitude Leg',\n",
    "       '57a Rest Tremor Amplitude Jaw/Lip', '58 Constancy of Rest Tremor']].mean(axis=1)\n",
    "\n",
    "\n",
    "udprs_cog_moc['tremor_ratio']=udprs_cog_moc['tremor']/udprs_cog_moc['non_tremor']\n",
    "udprs_cog_moc['Date of assessment']=pd.to_datetime(udprs_cog_moc['Date of assessment'])\n",
    "\n",
    "udprs_cog_moc['UDPRS_Tot']=udprs_cog_moc[['Section I Total', 'Section II Total','Section III Total']].sum(axis=1)\n",
    "udprs_cog_moc['Date Diagnosed']=pd.to_datetime(udprs_cog_moc['Date Diagnosed'])\n",
    "#udprs_cog_moc['Disease_Duration']=(pd.to_datetime(udprs_cog_moc['Date of assessment']).dt.date-pd.to_datetime(udprs_cog_moc['Date Diagnosed']).dt.date).dt.days\n",
    "\n",
    "udprs_cog_moc['Disease_Duration']=(udprs_cog_moc['Date of assessment']-udprs_cog_moc['Date Diagnosed']).dt.days\n",
    "\n",
    "udprs_cog_moc['first_date_assessment']=(udprs_cog_moc.groupby('SYDID')['Date of assessment'].transform('min'))\n",
    "udprs_cog_moc['first_date_assessment']=pd.to_datetime(udprs_cog_moc['first_date_assessment'])\n",
    "\n",
    "\n",
    "udprs_cog_moc['time_since_first']=(udprs_cog_moc['Date of assessment']-udprs_cog_moc['first_date_assessment']).dt.days\n",
    "\n",
    "\n",
    "udprs_cog_moc['Age_Diagnosis']=(pd.to_datetime(udprs_cog_moc['Date Diagnosed'])-\n",
    "                                pd.to_datetime(udprs_cog_moc['Birth_date'])).dt.days/365.25\n",
    "\n",
    "udprs_cog_moc['Disease_Progression']=udprs_cog_moc['UDPRS_Tot']/udprs_cog_moc['Disease_Duration']\n"
   ]
  },
  {
   "cell_type": "markdown",
   "metadata": {},
   "source": [
    "### Analysis of trends over time to get coefficients for each patient and intercepts"
   ]
  },
  {
   "cell_type": "code",
   "execution_count": 273,
   "metadata": {
    "ExecuteTime": {
     "end_time": "2020-12-04T23:03:20.713989Z",
     "start_time": "2020-12-04T23:03:20.687075Z"
    }
   },
   "outputs": [],
   "source": [
    "from sklearn import linear_model\n",
    "regr = linear_model.LinearRegression()\n",
    "\n",
    "#udprs_cog_nn=udprs_cog[pd.notnull(udprs_cog['MMSE result'])&pd.notnull(udprs_cog['time_diff'])]\n",
    "def filter_outliers(df,cutvars=vars_grad,cutvals=vars_grad_cutoff):\n",
    "    for i,var in enumerate(cutvars):\n",
    "        df=df[df[var]<cutvals[i]]\n",
    "    return df\n",
    "\n",
    "def pctchange_diff(df,cutvars=vars_grad):\n",
    "    cutvars_names=[var.replace(\" \", \"\") for var in cutvars]\n",
    "    for i,var in enumerate(cutvars):\n",
    "        df['pct_chg'+cutvars_names[i]]=(df.groupby('SYDID')[cutvars[i]]\n",
    "                                      .apply(pd.Series.pct_change))\n",
    "        df['chg_'+cutvars_names[i]]=(df.groupby('SYDID')[cutvars[i]]\n",
    "                                      .diff())\n",
    "    return df  \n",
    "\n",
    "def gradvar(df,var,timevar):\n",
    "    df=df[pd.notnull(df[var])&pd.notnull(df[timevar])]\n",
    "    X = np.asarray(df[timevar]).reshape(-1, 1)\n",
    "    y = np.asarray(df[var]).reshape(-1, 1)\n",
    "    return np.squeeze(regr.fit(X, y).intercept_),np.squeeze(regr.fit(X, y).coef_)\n",
    "\n",
    "def gradvarfull(df,var,varname,timevar,verbose: Optional[bool]=DEBUG):\n",
    "    cts=pd.DataFrame(df.groupby('SYDID')['Date of assessment'].agg({'Date of assessment':[min,max],\n",
    "                                                                   'SYDID':['count']})).reset_index()\n",
    "    cts.columns=['SYDID','min_date','max_date','counts']\n",
    "    \n",
    "    if verbose:\n",
    "        print('num patients '+str(df['SYDID'][(df[var]>0)].nunique()))\n",
    "        \n",
    "    df=pd.DataFrame(df[(df[var]>0)].groupby('SYDID').apply(gradvar,var,timevar)).reset_index()\n",
    "    df.columns=['SYDID','coefs']\n",
    "    \n",
    "    df=pd.merge(df,cts,on='SYDID',how='left')\n",
    "    \n",
    "    \n",
    "    df['var']=var\n",
    "    df['intercept']=[x[0] for x in df['coefs']]\n",
    "    df['coef']=[x[1] for x in df['coefs']]\n",
    "    df['coef']=df['coef']*365\n",
    "    #df= df[(df['coef']<5)&(df['coef']>-10)&(df['coef']!=0)]\n",
    "    \n",
    "    if verbose:\n",
    "        print(df.shape[0])\n",
    "        df['coef'].hist(bins=50)  \n",
    "    df=df[['SYDID','intercept','coef','min_date','max_date','counts']]\n",
    "\n",
    "    df.columns=np.append('SYDID',[varname+\"_\"+col for col in df.columns if 'SYDID' not in col])\n",
    "    if verbose:\n",
    "        print('mean points per year '+\"{:.2f}\".format(df['coef'].mean()))\n",
    "        print('lq points per year '+\"{:.2f}\".format(df['coef'].quantile(0.25)))\n",
    "        print('med points per year '+\"{:.2f}\".format(df['coef'].quantile(0.5)))\n",
    "        print('uq points per year '+\"{:.2f}\".format(df['coef'].quantile(0.75)))         \n",
    "    return df\n",
    "\n",
    "# determine the patient level intercept and slope for key variables\n",
    "\n",
    "'''\n",
    "We would expect MMSE to decrease over time as PD symptoms worsen\n",
    "We would expect UDPRS to increase over time\n",
    "We would expect MoCA to decrease over time\n",
    "'''\n",
    "\n",
    "def determine_susp(df,var,cutoff,dir=1):\n",
    "    if dir==1:\n",
    "        mask_var=(df['chg_MoCATotal']>cutoff)\n",
    "    else:\n",
    "        mask_var=(df['chg_MoCATotal']<cutoff)\n",
    "     \n",
    "    var_suspect=df[mask_var]['SYDID'].unique()\n",
    "    mask_var2=(df['SYDID'].isin(var_suspect))\n",
    "    df[var+'suspect']=0\n",
    "    df[var+'suspect'][mask_var2]=1\n",
    "    return df\n",
    "\n",
    "def minmax_changes(df,cutvars=varnames_grad):\n",
    "    vars1=['chg_'+ var for var in cutvars]\n",
    "    vars2=np.asarray([])\n",
    "    for var in cutvars:  \n",
    "        vars3=['chg_max'+ var,'chg_min'+ var] \n",
    "        vars2=np.append(vars2,vars3)\n",
    "\n",
    "    vars4=np.append('SYDID',vars2)\n",
    "    df1=pd.DataFrame(df.groupby(['SYDID'])[vars1].agg({'min','max'})).reset_index()\n",
    "    df1.columns=vars4\n",
    "    df=pd.merge(df,df1,on='SYDID',how='left')\n",
    "    return df"
   ]
  },
  {
   "cell_type": "code",
   "execution_count": 274,
   "metadata": {
    "ExecuteTime": {
     "end_time": "2020-12-04T23:03:26.506012Z",
     "start_time": "2020-12-04T23:03:20.715679Z"
    }
   },
   "outputs": [
    {
     "name": "stderr",
     "output_type": "stream",
     "text": [
      "/opt/conda/lib/python3.7/site-packages/ipykernel_launcher.py:27: FutureWarning: using a dict on a Series for aggregation\n",
      "is deprecated and will be removed in a future version. Use                 named aggregation instead.\n",
      "\n",
      "    >>> grouper.agg(name_1=func_1, name_2=func_2)\n",
      "\n",
      "/opt/conda/lib/python3.7/site-packages/ipykernel_launcher.py:27: FutureWarning: using a dict on a Series for aggregation\n",
      "is deprecated and will be removed in a future version. Use                 named aggregation instead.\n",
      "\n",
      "    >>> grouper.agg(name_1=func_1, name_2=func_2)\n",
      "\n",
      "/opt/conda/lib/python3.7/site-packages/ipykernel_launcher.py:27: FutureWarning: using a dict on a Series for aggregation\n",
      "is deprecated and will be removed in a future version. Use                 named aggregation instead.\n",
      "\n",
      "    >>> grouper.agg(name_1=func_1, name_2=func_2)\n",
      "\n",
      "/opt/conda/lib/python3.7/site-packages/ipykernel_launcher.py:27: FutureWarning: using a dict on a Series for aggregation\n",
      "is deprecated and will be removed in a future version. Use                 named aggregation instead.\n",
      "\n",
      "    >>> grouper.agg(name_1=func_1, name_2=func_2)\n",
      "\n",
      "/opt/conda/lib/python3.7/site-packages/ipykernel_launcher.py:27: FutureWarning: using a dict on a Series for aggregation\n",
      "is deprecated and will be removed in a future version. Use                 named aggregation instead.\n",
      "\n",
      "    >>> grouper.agg(name_1=func_1, name_2=func_2)\n",
      "\n",
      "/opt/conda/lib/python3.7/site-packages/ipykernel_launcher.py:27: FutureWarning: using a dict on a Series for aggregation\n",
      "is deprecated and will be removed in a future version. Use                 named aggregation instead.\n",
      "\n",
      "    >>> grouper.agg(name_1=func_1, name_2=func_2)\n",
      "\n",
      "/opt/conda/lib/python3.7/site-packages/ipykernel_launcher.py:27: FutureWarning: using a dict on a Series for aggregation\n",
      "is deprecated and will be removed in a future version. Use                 named aggregation instead.\n",
      "\n",
      "    >>> grouper.agg(name_1=func_1, name_2=func_2)\n",
      "\n",
      "/opt/conda/lib/python3.7/site-packages/ipykernel_launcher.py:27: FutureWarning: using a dict on a Series for aggregation\n",
      "is deprecated and will be removed in a future version. Use                 named aggregation instead.\n",
      "\n",
      "    >>> grouper.agg(name_1=func_1, name_2=func_2)\n",
      "\n",
      "/opt/conda/lib/python3.7/site-packages/ipykernel_launcher.py:75: SettingWithCopyWarning: \n",
      "A value is trying to be set on a copy of a slice from a DataFrame\n",
      "\n",
      "See the caveats in the documentation: http://pandas.pydata.org/pandas-docs/stable/user_guide/indexing.html#returning-a-view-versus-a-copy\n"
     ]
    }
   ],
   "source": [
    "vars_grad=['tremor','non_tremor','UDPRS_Tot','Section I Total', 'Section II Total','Section III Total',\n",
    "           'MMSE result', 'MoCA Total']\n",
    "\n",
    "vars_grad_cutoff=[5,5,500,50,50,50,100,100]\n",
    "\n",
    "udprs_cog_moc=filter_outliers(udprs_cog_moc)   \n",
    "udprs_cog_moc=pctchange_diff(udprs_cog_moc)\n",
    "\n",
    "varnames_grad=[var.replace(\" \", \"\") for var in vars_grad]\n",
    "\n",
    "for i,var in enumerate(vars_grad):\n",
    "    df=gradvarfull(udprs_cog_moc,var,varnames_grad[i],'Disease_Duration')\n",
    "    udprs_cog_moc=pd.merge(udprs_cog_moc,df,on='SYDID',how='left')\n",
    "\n",
    "\n",
    "\n",
    "udprs_cog_moc=determine_susp(udprs_cog_moc,'chg_MoCATotal',5)\n",
    "udprs_cog_moc=determine_susp(udprs_cog_moc,'chg_MMSEresult',5)\n",
    "udprs_cog_moc=determine_susp(udprs_cog_moc,'chg_UDPRS_Tot',-5,dir=0)\n",
    "\n",
    "udprs_cog_moc=minmax_changes(udprs_cog_moc)\n",
    "\n",
    "udprs_cog_moc.to_csv('%s%s' % (outdata,'udprs_cog_moc.csv'))"
   ]
  },
  {
   "cell_type": "code",
   "execution_count": 191,
   "metadata": {
    "ExecuteTime": {
     "end_time": "2020-12-04T22:35:32.968143Z",
     "start_time": "2020-12-04T22:35:26.585809Z"
    }
   },
   "outputs": [
    {
     "name": "stderr",
     "output_type": "stream",
     "text": [
      "/opt/conda/lib/python3.7/site-packages/ipykernel_launcher.py:27: FutureWarning: using a dict on a Series for aggregation\n",
      "is deprecated and will be removed in a future version. Use                 named aggregation instead.\n",
      "\n",
      "    >>> grouper.agg(name_1=func_1, name_2=func_2)\n",
      "\n",
      "/opt/conda/lib/python3.7/site-packages/ipykernel_launcher.py:27: FutureWarning: using a dict on a Series for aggregation\n",
      "is deprecated and will be removed in a future version. Use                 named aggregation instead.\n",
      "\n",
      "    >>> grouper.agg(name_1=func_1, name_2=func_2)\n",
      "\n",
      "/opt/conda/lib/python3.7/site-packages/ipykernel_launcher.py:27: FutureWarning: using a dict on a Series for aggregation\n",
      "is deprecated and will be removed in a future version. Use                 named aggregation instead.\n",
      "\n",
      "    >>> grouper.agg(name_1=func_1, name_2=func_2)\n",
      "\n",
      "/opt/conda/lib/python3.7/site-packages/ipykernel_launcher.py:27: FutureWarning: using a dict on a Series for aggregation\n",
      "is deprecated and will be removed in a future version. Use                 named aggregation instead.\n",
      "\n",
      "    >>> grouper.agg(name_1=func_1, name_2=func_2)\n",
      "\n",
      "/opt/conda/lib/python3.7/site-packages/ipykernel_launcher.py:27: FutureWarning: using a dict on a Series for aggregation\n",
      "is deprecated and will be removed in a future version. Use                 named aggregation instead.\n",
      "\n",
      "    >>> grouper.agg(name_1=func_1, name_2=func_2)\n",
      "\n",
      "/opt/conda/lib/python3.7/site-packages/ipykernel_launcher.py:27: FutureWarning: using a dict on a Series for aggregation\n",
      "is deprecated and will be removed in a future version. Use                 named aggregation instead.\n",
      "\n",
      "    >>> grouper.agg(name_1=func_1, name_2=func_2)\n",
      "\n",
      "/opt/conda/lib/python3.7/site-packages/ipykernel_launcher.py:27: FutureWarning: using a dict on a Series for aggregation\n",
      "is deprecated and will be removed in a future version. Use                 named aggregation instead.\n",
      "\n",
      "    >>> grouper.agg(name_1=func_1, name_2=func_2)\n",
      "\n",
      "/opt/conda/lib/python3.7/site-packages/ipykernel_launcher.py:27: FutureWarning: using a dict on a Series for aggregation\n",
      "is deprecated and will be removed in a future version. Use                 named aggregation instead.\n",
      "\n",
      "    >>> grouper.agg(name_1=func_1, name_2=func_2)\n",
      "\n",
      "/opt/conda/lib/python3.7/site-packages/ipykernel_launcher.py:75: SettingWithCopyWarning: \n",
      "A value is trying to be set on a copy of a slice from a DataFrame\n",
      "\n",
      "See the caveats in the documentation: http://pandas.pydata.org/pandas-docs/stable/user_guide/indexing.html#returning-a-view-versus-a-copy\n"
     ]
    }
   ],
   "source": [
    "\n"
   ]
  },
  {
   "cell_type": "code",
   "execution_count": 157,
   "metadata": {
    "ExecuteTime": {
     "end_time": "2020-12-04T22:10:05.724537Z",
     "start_time": "2020-12-04T22:10:05.708200Z"
    }
   },
   "outputs": [
    {
     "data": {
      "text/plain": [
       "array(['PD_00288_SC', 'PD_00518_JB', 'PD_00473_DP', 'PD_00379_BC',\n",
       "       'PD_00193_ CD', 'PD_00001_DA'], dtype=object)"
      ]
     },
     "execution_count": 157,
     "metadata": {},
     "output_type": "execute_result"
    }
   ],
   "source": []
  },
  {
   "cell_type": "code",
   "execution_count": 18,
   "metadata": {
    "ExecuteTime": {
     "end_time": "2020-12-04T07:32:00.282122Z",
     "start_time": "2020-12-04T07:32:00.244460Z"
    }
   },
   "outputs": [],
   "source": [
    "maxdate=pd.DataFrame(udprs_cog_moc.groupby(['SYDID'])['Date'].max()).reset_index()\n",
    "maxdate['latest_rec']=1"
   ]
  },
  {
   "cell_type": "code",
   "execution_count": 19,
   "metadata": {
    "ExecuteTime": {
     "end_time": "2020-12-04T07:32:00.309655Z",
     "start_time": "2020-12-04T07:32:00.284122Z"
    }
   },
   "outputs": [],
   "source": [
    "udprs_cog_moc=pd.merge(udprs_cog_moc,maxdate,on=['SYDID','Date'],how='left')"
   ]
  },
  {
   "cell_type": "code",
   "execution_count": 20,
   "metadata": {
    "ExecuteTime": {
     "end_time": "2020-12-04T07:32:00.318394Z",
     "start_time": "2020-12-04T07:32:00.311323Z"
    }
   },
   "outputs": [],
   "source": [
    "udprs_cog_moc=udprs_cog_moc.sort_values(by=['SYDID','Date'])"
   ]
  },
  {
   "cell_type": "code",
   "execution_count": 90,
   "metadata": {
    "ExecuteTime": {
     "end_time": "2020-12-04T21:05:12.213281Z",
     "start_time": "2020-12-04T21:05:10.706680Z"
    }
   },
   "outputs": [
    {
     "name": "stdout",
     "output_type": "stream",
     "text": [
      "tremor\n",
      "0.8\n"
     ]
    },
    {
     "data": {
      "image/png": "[encoded data removed]",
      "text/plain": [
       "<Figure size 432x288 with 1 Axes>"
      ]
     },
     "metadata": {
      "needs_background": "light"
     },
     "output_type": "display_data"
    },
    {
     "name": "stdout",
     "output_type": "stream",
     "text": [
      "non_tremor\n",
      "1.7\n"
     ]
    },
    {
     "data": {
      "image/png": "[encoded data removed]",
      "text/plain": [
       "<Figure size 432x288 with 1 Axes>"
      ]
     },
     "metadata": {
      "needs_background": "light"
     },
     "output_type": "display_data"
    },
    {
     "name": "stdout",
     "output_type": "stream",
     "text": [
      "UDPRS_Tot\n",
      "65.0\n"
     ]
    },
    {
     "data": {
      "image/png": "[encoded data removed]",
      "text/plain": [
       "<Figure size 432x288 with 1 Axes>"
      ]
     },
     "metadata": {
      "needs_background": "light"
     },
     "output_type": "display_data"
    },
    {
     "name": "stdout",
     "output_type": "stream",
     "text": [
      "Section I Total\n",
      "13.200000000000045\n"
     ]
    },
    {
     "data": {
      "image/png": "[encoded data removed]",
      "text/plain": [
       "<Figure size 432x288 with 1 Axes>"
      ]
     },
     "metadata": {
      "needs_background": "light"
     },
     "output_type": "display_data"
    },
    {
     "name": "stdout",
     "output_type": "stream",
     "text": [
      "Section II Total\n",
      "15.200000000000045\n"
     ]
    },
    {
     "data": {
      "image/png": "[encoded data removed]",
      "text/plain": [
       "<Figure size 432x288 with 1 Axes>"
      ]
     },
     "metadata": {
      "needs_background": "light"
     },
     "output_type": "display_data"
    },
    {
     "name": "stdout",
     "output_type": "stream",
     "text": [
      "Section III Total\n",
      "38.0\n"
     ]
    },
    {
     "data": {
      "image/png": "[encoded data removed]",
      "text/plain": [
       "<Figure size 432x288 with 1 Axes>"
      ]
     },
     "metadata": {
      "needs_background": "light"
     },
     "output_type": "display_data"
    },
    {
     "name": "stdout",
     "output_type": "stream",
     "text": [
      "MMSE result\n",
      "30.0\n"
     ]
    },
    {
     "data": {
      "image/png": "[encoded data removed]",
      "text/plain": [
       "<Figure size 432x288 with 1 Axes>"
      ]
     },
     "metadata": {
      "needs_background": "light"
     },
     "output_type": "display_data"
    },
    {
     "name": "stdout",
     "output_type": "stream",
     "text": [
      "MoCA Total\n",
      "29.0\n"
     ]
    },
    {
     "data": {
      "image/png": "[encoded data removed]",
      "text/plain": [
       "<Figure size 432x288 with 1 Axes>"
      ]
     },
     "metadata": {
      "needs_background": "light"
     },
     "output_type": "display_data"
    }
   ],
   "source": [
    "for var in vars_grad:\n",
    "    print(var)\n",
    "    print(udprs_cut[var].quantile(0.8))\n",
    "    udprs_cut[var].hist()\n",
    "    plt.show()"
   ]
  },
  {
   "cell_type": "code",
   "execution_count": 174,
   "metadata": {
    "ExecuteTime": {
     "end_time": "2020-12-04T22:29:40.214060Z",
     "start_time": "2020-12-04T22:29:40.200200Z"
    }
   },
   "outputs": [],
   "source": []
  },
  {
   "cell_type": "code",
   "execution_count": 175,
   "metadata": {
    "ExecuteTime": {
     "end_time": "2020-12-04T22:29:41.134386Z",
     "start_time": "2020-12-04T22:29:41.069814Z"
    }
   },
   "outputs": [],
   "source": []
  },
  {
   "cell_type": "code",
   "execution_count": 177,
   "metadata": {
    "ExecuteTime": {
     "end_time": "2020-12-04T22:30:02.071056Z",
     "start_time": "2020-12-04T22:30:01.851099Z"
    }
   },
   "outputs": [
    {
     "data": {
      "text/plain": [
       "<matplotlib.axes._subplots.AxesSubplot at 0x7f90529d92d0>"
      ]
     },
     "execution_count": 177,
     "metadata": {},
     "output_type": "execute_result"
    },
    {
     "data": {
      "image/png": "[encoded data removed]",
      "text/plain": [
       "<Figure size 432x288 with 1 Axes>"
      ]
     },
     "metadata": {
      "needs_background": "light"
     },
     "output_type": "display_data"
    }
   ],
   "source": [
    "udprs_cog_moc['chg_minMoCATotal'].hist()"
   ]
  },
  {
   "cell_type": "code",
   "execution_count": 25,
   "metadata": {
    "ExecuteTime": {
     "end_time": "2020-12-04T07:32:28.775254Z",
     "start_time": "2020-12-04T07:32:28.766612Z"
    }
   },
   "outputs": [
    {
     "data": {
      "text/plain": [
       "Index(['1 Cognitive impairment', '10 Urinary problems',\n",
       "       '11 Constipation problems', '12 Light headedness on standing',\n",
       "       '13 Fatigue', '14 ADL Speech', '15 ADL Saliva and drooling',\n",
       "       '16 ADL Chewing and swallowing', '17 ADL Eating tasks',\n",
       "       '18 ADL Dressing',\n",
       "       ...\n",
       "       'latest_rec', 'recs', 'pct_chgtremor', 'pct_chgnon_tremor',\n",
       "       'pct_chgUDPRS_Tot', 'pct_chgSectionITotal', 'pct_chgSectionIITotal',\n",
       "       'pct_chgSectionIIITotal', 'pct_chgMMSEresult', 'pct_chgMoCATotal'],\n",
       "      dtype='object', length=206)"
      ]
     },
     "execution_count": 25,
     "metadata": {},
     "output_type": "execute_result"
    }
   ],
   "source": [
    "udprs_cog_moc.columns"
   ]
  },
  {
   "cell_type": "code",
   "execution_count": 23,
   "metadata": {
    "ExecuteTime": {
     "end_time": "2020-12-04T07:32:02.657135Z",
     "start_time": "2020-12-04T07:32:02.637940Z"
    }
   },
   "outputs": [
    {
     "data": {
      "text/html": [
       "<div>\n",
       "<style scoped>\n",
       "    .dataframe tbody tr th:only-of-type {\n",
       "        vertical-align: middle;\n",
       "    }\n",
       "\n",
       "    .dataframe tbody tr th {\n",
       "        vertical-align: top;\n",
       "    }\n",
       "\n",
       "    .dataframe thead th {\n",
       "        text-align: right;\n",
       "    }\n",
       "</style>\n",
       "<table border=\"1\" class=\"dataframe\">\n",
       "  <thead>\n",
       "    <tr style=\"text-align: right;\">\n",
       "      <th></th>\n",
       "      <th>SYDID</th>\n",
       "      <th>Date</th>\n",
       "      <th>UDPRS_Tot</th>\n",
       "      <th>pct_chgUDPRS_Tot</th>\n",
       "      <th>recs</th>\n",
       "    </tr>\n",
       "  </thead>\n",
       "  <tbody>\n",
       "    <tr>\n",
       "      <th>92</th>\n",
       "      <td>PD_00001_DA</td>\n",
       "      <td>2013-05-28</td>\n",
       "      <td>62.0</td>\n",
       "      <td>NaN</td>\n",
       "      <td>4</td>\n",
       "    </tr>\n",
       "    <tr>\n",
       "      <th>210</th>\n",
       "      <td>PD_00001_DA</td>\n",
       "      <td>2014-06-17</td>\n",
       "      <td>56.0</td>\n",
       "      <td>-0.096774</td>\n",
       "      <td>4</td>\n",
       "    </tr>\n",
       "    <tr>\n",
       "      <th>426</th>\n",
       "      <td>PD_00001_DA</td>\n",
       "      <td>2017-01-16</td>\n",
       "      <td>72.0</td>\n",
       "      <td>0.285714</td>\n",
       "      <td>4</td>\n",
       "    </tr>\n",
       "    <tr>\n",
       "      <th>471</th>\n",
       "      <td>PD_00001_DA</td>\n",
       "      <td>2018-10-17</td>\n",
       "      <td>49.0</td>\n",
       "      <td>-0.319444</td>\n",
       "      <td>4</td>\n",
       "    </tr>\n",
       "    <tr>\n",
       "      <th>93</th>\n",
       "      <td>PD_00002_MW</td>\n",
       "      <td>2011-10-25</td>\n",
       "      <td>76.0</td>\n",
       "      <td>NaN</td>\n",
       "      <td>2</td>\n",
       "    </tr>\n",
       "    <tr>\n",
       "      <th>...</th>\n",
       "      <td>...</td>\n",
       "      <td>...</td>\n",
       "      <td>...</td>\n",
       "      <td>...</td>\n",
       "      <td>...</td>\n",
       "    </tr>\n",
       "    <tr>\n",
       "      <th>89</th>\n",
       "      <td>PD_00557_DC</td>\n",
       "      <td>2012-11-06</td>\n",
       "      <td>45.0</td>\n",
       "      <td>NaN</td>\n",
       "      <td>1</td>\n",
       "    </tr>\n",
       "    <tr>\n",
       "      <th>208</th>\n",
       "      <td>PD_00563_JH</td>\n",
       "      <td>2013-07-16</td>\n",
       "      <td>111.0</td>\n",
       "      <td>NaN</td>\n",
       "      <td>1</td>\n",
       "    </tr>\n",
       "    <tr>\n",
       "      <th>90</th>\n",
       "      <td>PD_00568_MB</td>\n",
       "      <td>2012-11-27</td>\n",
       "      <td>63.0</td>\n",
       "      <td>NaN</td>\n",
       "      <td>1</td>\n",
       "    </tr>\n",
       "    <tr>\n",
       "      <th>91</th>\n",
       "      <td>PD_00583_KC</td>\n",
       "      <td>2013-03-19</td>\n",
       "      <td>45.0</td>\n",
       "      <td>NaN</td>\n",
       "      <td>2</td>\n",
       "    </tr>\n",
       "    <tr>\n",
       "      <th>209</th>\n",
       "      <td>PD_00583_KC</td>\n",
       "      <td>2014-05-13</td>\n",
       "      <td>51.0</td>\n",
       "      <td>0.133333</td>\n",
       "      <td>2</td>\n",
       "    </tr>\n",
       "  </tbody>\n",
       "</table>\n",
       "<p>484 rows × 5 columns</p>\n",
       "</div>"
      ],
      "text/plain": [
       "           SYDID        Date  UDPRS_Tot  pct_chgUDPRS_Tot  recs\n",
       "92   PD_00001_DA  2013-05-28       62.0               NaN     4\n",
       "210  PD_00001_DA  2014-06-17       56.0         -0.096774     4\n",
       "426  PD_00001_DA  2017-01-16       72.0          0.285714     4\n",
       "471  PD_00001_DA  2018-10-17       49.0         -0.319444     4\n",
       "93   PD_00002_MW  2011-10-25       76.0               NaN     2\n",
       "..           ...         ...        ...               ...   ...\n",
       "89   PD_00557_DC  2012-11-06       45.0               NaN     1\n",
       "208  PD_00563_JH  2013-07-16      111.0               NaN     1\n",
       "90   PD_00568_MB  2012-11-27       63.0               NaN     1\n",
       "91   PD_00583_KC  2013-03-19       45.0               NaN     2\n",
       "209  PD_00583_KC  2014-05-13       51.0          0.133333     2\n",
       "\n",
       "[484 rows x 5 columns]"
      ]
     },
     "execution_count": 23,
     "metadata": {},
     "output_type": "execute_result"
    }
   ],
   "source": [
    "udprs_cog_moc[['SYDID','Date','UDPRS_Tot','pct_chgUDPRS_Tot','recs']]"
   ]
  },
  {
   "cell_type": "code",
   "execution_count": 24,
   "metadata": {
    "ExecuteTime": {
     "end_time": "2020-12-04T07:32:03.455266Z",
     "start_time": "2020-12-04T07:32:03.444523Z"
    }
   },
   "outputs": [
    {
     "data": {
      "text/plain": [
       "SYDID\n",
       "PD_00001_DA    0.285714\n",
       "PD_00002_MW   -0.039474\n",
       "PD_00004_AW    1.250000\n",
       "PD_00008_BM    0.250000\n",
       "PD_00013_TO    0.679012\n",
       "                 ...   \n",
       "PD_00555_PH    0.820000\n",
       "PD_00557_DC         NaN\n",
       "PD_00563_JH         NaN\n",
       "PD_00568_MB         NaN\n",
       "PD_00583_KC    0.133333\n",
       "Name: pct_chgUDPRS_Tot, Length: 196, dtype: float64"
      ]
     },
     "execution_count": 24,
     "metadata": {},
     "output_type": "execute_result"
    }
   ],
   "source": [
    "udprs_cog_moc.groupby('SYDID')['pct_chgUDPRS_Tot'].max()"
   ]
  },
  {
   "cell_type": "code",
   "execution_count": null,
   "metadata": {},
   "outputs": [],
   "source": [
    "udprs_cog_moc['diff_MOCA'] = df.groupby(['SYDID', 'Date'])['score'].diff().fillna(0)"
   ]
  },
  {
   "cell_type": "code",
   "execution_count": null,
   "metadata": {},
   "outputs": [],
   "source": [
    "udprs_cog_moc['pct_ch_MOCA'] = (product_df.groupby('prod_desc')['prod_count']\n",
    "                                  .apply(pd.Series.pct_change) + 1)\n"
   ]
  },
  {
   "cell_type": "code",
   "execution_count": null,
   "metadata": {
    "ExecuteTime": {
     "start_time": "2020-11-27T02:34:43.491Z"
    }
   },
   "outputs": [],
   "source": [
    "udprs_cog_moc['pct_ch_MOCA']"
   ]
  },
  {
   "cell_type": "code",
   "execution_count": 19,
   "metadata": {
    "ExecuteTime": {
     "end_time": "2020-11-17T22:20:23.438908Z",
     "start_time": "2020-11-17T22:20:23.261204Z"
    }
   },
   "outputs": [],
   "source": [
    "udprs_cog_moc.to_csv('%s%s' % (loc,'udprs_cog_moc.csv'))"
   ]
  },
  {
   "cell_type": "markdown",
   "metadata": {
    "ExecuteTime": {
     "end_time": "2020-10-31T00:19:48.842749Z",
     "start_time": "2020-10-31T00:19:44.434826Z"
    }
   },
   "source": [
    "### Cluster Analysis"
   ]
  },
  {
   "cell_type": "code",
   "execution_count": 92,
   "metadata": {
    "ExecuteTime": {
     "end_time": "2020-10-31T06:00:18.414415Z",
     "start_time": "2020-10-31T06:00:18.411780Z"
    }
   },
   "outputs": [],
   "source": [
    "#[col for col in udprs_cog_moc.columns if 'coef' in col]"
   ]
  },
  {
   "cell_type": "code",
   "execution_count": 103,
   "metadata": {
    "ExecuteTime": {
     "end_time": "2020-10-31T06:03:52.783929Z",
     "start_time": "2020-10-31T06:03:52.774877Z"
    }
   },
   "outputs": [],
   "source": [
    "# Select Variables for clustering\n",
    "'''\n",
    "Age at diagnosis, various fields such as UDPRS, deltas over time etc.\n",
    "'''\n",
    "\n",
    "\n",
    "clustervars=['tremor_coef','non_tremor_coef','UDPRS_Tot_coef','SectionITotal_coef','SectionIITotal_coef',\n",
    " 'SectionIIITotal_coef','MMSEresult_coef','MoCATotal_coef','Age_Diagnosis','tremor','non_tremor','UDPRS_Tot',\n",
    "             'Section I Total', 'Section II Total','Section III Total','MMSE result','MoCA Total']\n",
    "\n",
    "\n",
    "clustervars=['SectionITotal_coef','SectionIITotal_coef',\n",
    " 'MMSEresult_coef','MoCATotal_coef','Age_Diagnosis','tremor','non_tremor','UDPRS_Tot',\n",
    "             'Section I Total', 'Section II Total','Section III Total','MMSE result','MoCA Total']\n"
   ]
  },
  {
   "cell_type": "code",
   "execution_count": 104,
   "metadata": {
    "ExecuteTime": {
     "end_time": "2020-10-31T06:03:56.684218Z",
     "start_time": "2020-10-31T06:03:56.679539Z"
    }
   },
   "outputs": [],
   "source": [
    "df=udprs_cog_moc[clustervars]"
   ]
  },
  {
   "cell_type": "code",
   "execution_count": 105,
   "metadata": {
    "ExecuteTime": {
     "end_time": "2020-10-31T06:04:03.327288Z",
     "start_time": "2020-10-31T06:04:03.314557Z"
    }
   },
   "outputs": [
    {
     "data": {
      "text/plain": [
       "(302, 13)"
      ]
     },
     "execution_count": 105,
     "metadata": {},
     "output_type": "execute_result"
    }
   ],
   "source": [
    "df.dropna().shape"
   ]
  },
  {
   "cell_type": "code",
   "execution_count": 106,
   "metadata": {
    "ExecuteTime": {
     "end_time": "2020-10-31T06:05:07.065840Z",
     "start_time": "2020-10-31T06:05:07.056322Z"
    }
   },
   "outputs": [],
   "source": [
    "def z_score(df):\n",
    "    for var in df.columns:\n",
    "        df[var]= (df[var] - df[var].mean())/df[var].std(ddof=0)\n",
    "    return  df\n",
    "\n"
   ]
  },
  {
   "cell_type": "code",
   "execution_count": 109,
   "metadata": {
    "ExecuteTime": {
     "end_time": "2020-10-31T06:05:52.635566Z",
     "start_time": "2020-10-31T06:05:52.603268Z"
    }
   },
   "outputs": [
    {
     "name": "stderr",
     "output_type": "stream",
     "text": [
      "/opt/conda/lib/python3.7/site-packages/ipykernel_launcher.py:3: SettingWithCopyWarning: \n",
      "A value is trying to be set on a copy of a slice from a DataFrame.\n",
      "Try using .loc[row_indexer,col_indexer] = value instead\n",
      "\n",
      "See the caveats in the documentation: http://pandas.pydata.org/pandas-docs/stable/user_guide/indexing.html#returning-a-view-versus-a-copy\n",
      "  This is separate from the ipykernel package so we can avoid doing imports until\n"
     ]
    }
   ],
   "source": [
    "df2=df.dropna()\n",
    "df2=z_score(df2)"
   ]
  },
  {
   "cell_type": "code",
   "execution_count": 118,
   "metadata": {
    "ExecuteTime": {
     "end_time": "2020-10-31T06:09:54.916518Z",
     "start_time": "2020-10-31T06:09:53.842067Z"
    }
   },
   "outputs": [
    {
     "data": {
      "image/png": "[encoded data removed]",
      "text/plain": [
       "<Figure size 432x288 with 1 Axes>"
      ]
     },
     "metadata": {
      "needs_background": "light"
     },
     "output_type": "display_data"
    }
   ],
   "source": [
    "from sklearn.cluster import KMeans\n",
    "wcss=[]\n",
    "#this loop will fit the k-means algorithm to our data and \n",
    "#second we will compute the within cluster sum of squares and #appended to our wcss list.\n",
    "for i in range(1,11): \n",
    "     kmeans = KMeans(n_clusters=i, init ='k-means++', max_iter=300,  n_init=10,random_state=0 )\n",
    "#i above is between 1-10 numbers. init parameter is the random #initialization method  \n",
    "#we select kmeans++ method. max_iter parameter the maximum number of iterations there can be to \n",
    "#find the final clusters when the K-meands algorithm is running. we #enter the default value of 300\n",
    "#the next parameter is n_init which is the number of times the #K_means algorithm will be run with\n",
    "#different initial centroid.\n",
    "     kmeans.fit(df2)\n",
    "    #kmeans algorithm fits to the X dataset\n",
    "     wcss.append(kmeans.inertia_)\n",
    "#kmeans inertia_ attribute is:  Sum of squared distances of samples #to their closest cluster center.\n",
    "#4.Plot the elbow graph\n",
    "plt.plot(range(1,11),wcss)\n",
    "plt.title('The Elbow Method Graph')\n",
    "plt.xlabel('Number of clusters')\n",
    "plt.ylabel('WCSS')\n",
    "plt.show()\n",
    "\n",
    "kmeans = KMeans(n_clusters=5, init ='k-means++', max_iter=300, n_init=10,random_state=0 )\n",
    "# We are going to use the fit predict method that returns for each #observation which cluster it belongs to. The cluster to which #client belongs and it will return this cluster numbers into a #single vector that is  called y K-means\n",
    "y_kmeans = kmeans.fit_predict(df2)"
   ]
  },
  {
   "cell_type": "code",
   "execution_count": 114,
   "metadata": {
    "ExecuteTime": {
     "end_time": "2020-10-31T06:08:17.005056Z",
     "start_time": "2020-10-31T06:08:16.277542Z"
    }
   },
   "outputs": [
    {
     "name": "stdout",
     "output_type": "stream",
     "text": [
      "[t-SNE] Computing 121 nearest neighbors...\n",
      "[t-SNE] Indexed 302 samples in 0.001s...\n",
      "[t-SNE] Computed neighbors for 302 samples in 0.009s...\n",
      "[t-SNE] Computed conditional probabilities for sample 302 / 302\n",
      "[t-SNE] Mean sigma: 1.256073\n",
      "[t-SNE] KL divergence after 250 iterations with early exaggeration: 65.082977\n",
      "[t-SNE] KL divergence after 300 iterations: 1.275759\n"
     ]
    },
    {
     "name": "stderr",
     "output_type": "stream",
     "text": [
      "/opt/conda/lib/python3.7/site-packages/ipykernel_launcher.py:15: SettingWithCopyWarning: \n",
      "A value is trying to be set on a copy of a slice from a DataFrame.\n",
      "Try using .loc[row_indexer,col_indexer] = value instead\n",
      "\n",
      "See the caveats in the documentation: http://pandas.pydata.org/pandas-docs/stable/user_guide/indexing.html#returning-a-view-versus-a-copy\n",
      "  from ipykernel import kernelapp as app\n",
      "/opt/conda/lib/python3.7/site-packages/ipykernel_launcher.py:16: SettingWithCopyWarning: \n",
      "A value is trying to be set on a copy of a slice from a DataFrame.\n",
      "Try using .loc[row_indexer,col_indexer] = value instead\n",
      "\n",
      "See the caveats in the documentation: http://pandas.pydata.org/pandas-docs/stable/user_guide/indexing.html#returning-a-view-versus-a-copy\n",
      "  app.launch_new_instance()\n"
     ]
    },
    {
     "data": {
      "text/plain": [
       "<matplotlib.axes._subplots.AxesSubplot at 0x7f3410813050>"
      ]
     },
     "execution_count": 114,
     "metadata": {},
     "output_type": "execute_result"
    },
    {
     "data": {
      "image/png": "[encoded data removed]",
      "text/plain": [
       "<Figure size 1152x720 with 1 Axes>"
      ]
     },
     "metadata": {
      "needs_background": "light"
     },
     "output_type": "display_data"
    }
   ],
   "source": [
    "from __future__ import print_function\n",
    "import time\n",
    "import numpy as np\n",
    "import pandas as pd\n",
    "\n",
    "from sklearn.decomposition import PCA\n",
    "from sklearn.manifold import TSNE\n",
    "%matplotlib inline\n",
    "import matplotlib.pyplot as plt\n",
    "from mpl_toolkits.mplot3d import Axes3D\n",
    "import seaborn as sns\n",
    "time_start = time.time()\n",
    "tsne = TSNE(n_components=2, verbose=1, perplexity=40, n_iter=300)\n",
    "tsne_results = tsne.fit_transform(df2)\n",
    "df2['tsne-2d-one'] = tsne_results[:,0]\n",
    "df2['tsne-2d-two'] = tsne_results[:,1]\n",
    "plt.figure(figsize=(16,10))\n",
    "sns.scatterplot(\n",
    "    x=\"tsne-2d-one\", y=\"tsne-2d-two\",\n",
    "    #hue=\"y\",\n",
    "    palette=sns.color_palette(\"hls\", 10),\n",
    "    data=df2,\n",
    "    legend=\"full\",\n",
    "    alpha=0.3\n",
    ")"
   ]
  },
  {
   "cell_type": "code",
   "execution_count": 121,
   "metadata": {
    "ExecuteTime": {
     "end_time": "2020-10-31T06:11:57.125524Z",
     "start_time": "2020-10-31T06:11:56.883998Z"
    }
   },
   "outputs": [
    {
     "data": {
      "image/png": "[encoded data removed]",
      "text/plain": [
       "<Figure size 432x288 with 1 Axes>"
      ]
     },
     "metadata": {
      "needs_background": "light"
     },
     "output_type": "display_data"
    }
   ],
   "source": [
    "X=np.asarray(df2)\n",
    "\n",
    "plt.scatter(X[y_kmeans==0, 0], X[y_kmeans==0, 1], s=100, c='red', label ='Cluster 1')\n",
    "plt.scatter(X[y_kmeans==1, 0], X[y_kmeans==1, 1], s=100, c='blue', label ='Cluster 2')\n",
    "plt.scatter(X[y_kmeans==2, 0], X[y_kmeans==2, 1], s=100, c='green', label ='Cluster 3')\n",
    "plt.scatter(X[y_kmeans==3, 0], X[y_kmeans==3, 1], s=100, c='cyan', label ='Cluster 4')\n",
    "plt.scatter(X[y_kmeans==4, 0], X[y_kmeans==4, 1], s=100, c='magenta', label ='Cluster 5')\n",
    "#plt.scatter(tsne_results[:,0], tsne_results[:,1], s=300, c='yellow', label = 'Centroids')\n",
    "plt.title('K Means on TSNE')\n",
    "plt.xlabel('TSNE 1')\n",
    "plt.ylabel('TSNE 2')\n",
    "plt.show()"
   ]
  },
  {
   "cell_type": "markdown",
   "metadata": {},
   "source": [
    "# OLD"
   ]
  },
  {
   "cell_type": "markdown",
   "metadata": {},
   "source": [
    "#### Calculate changes over time for each patient"
   ]
  },
  {
   "cell_type": "code",
   "execution_count": 40,
   "metadata": {
    "ExecuteTime": {
     "end_time": "2020-10-30T05:44:52.188361Z",
     "start_time": "2020-10-30T05:44:51.971077Z"
    }
   },
   "outputs": [
    {
     "name": "stderr",
     "output_type": "stream",
     "text": [
      "/opt/conda/lib/python3.7/site-packages/ipykernel_launcher.py:3: SettingWithCopyWarning: \n",
      "A value is trying to be set on a copy of a slice from a DataFrame\n",
      "\n",
      "See the caveats in the documentation: http://pandas.pydata.org/pandas-docs/stable/user_guide/indexing.html#returning-a-view-versus-a-copy\n",
      "  This is separate from the ipykernel package so we can avoid doing imports until\n"
     ]
    }
   ],
   "source": [
    "udprs_cog=udprs_cog.sort_values(by=['SYDID','Date of assessment'])\n",
    "udprs_cog['time_diff']=0\n",
    "udprs_cog['time_diff'][(udprs_cog['SYDID']==udprs_cog['SYDID'].shift(1))]=(udprs_cog['Date of assessment']-udprs_cog['Date of assessment'].shift(1)).dt.days\n",
    "udprs_cog['time_rolling']=udprs_cog.groupby('SYDID')['time_diff'].transform(pd.Series.cumsum)\n",
    "#udprs_cog['MMSE_delt']=0\n",
    "#udprs_cog['MMSE_delt'][(udprs_cog['SYDID']==udprs_cog['SYDID'].shift(1))&(udprs_cog['time_diff']!=0)]=(udprs_cog['MMSE result']-udprs_cog['MMSE result'].shift(1))/udprs_cog['time_diff']\n"
   ]
  },
  {
   "cell_type": "code",
   "execution_count": 41,
   "metadata": {
    "ExecuteTime": {
     "end_time": "2020-10-30T05:44:56.562507Z",
     "start_time": "2020-10-30T05:44:56.542845Z"
    }
   },
   "outputs": [
    {
     "data": {
      "text/html": [
       "<div>\n",
       "<style scoped>\n",
       "    .dataframe tbody tr th:only-of-type {\n",
       "        vertical-align: middle;\n",
       "    }\n",
       "\n",
       "    .dataframe tbody tr th {\n",
       "        vertical-align: top;\n",
       "    }\n",
       "\n",
       "    .dataframe thead th {\n",
       "        text-align: right;\n",
       "    }\n",
       "</style>\n",
       "<table border=\"1\" class=\"dataframe\">\n",
       "  <thead>\n",
       "    <tr style=\"text-align: right;\">\n",
       "      <th></th>\n",
       "      <th>SYDID</th>\n",
       "      <th>time_diff</th>\n",
       "      <th>time_rolling</th>\n",
       "    </tr>\n",
       "  </thead>\n",
       "  <tbody>\n",
       "    <tr>\n",
       "      <th>0</th>\n",
       "      <td>PD_00001_DA</td>\n",
       "      <td>0</td>\n",
       "      <td>0</td>\n",
       "    </tr>\n",
       "    <tr>\n",
       "      <th>217</th>\n",
       "      <td>PD_00001_DA</td>\n",
       "      <td>1197</td>\n",
       "      <td>1197</td>\n",
       "    </tr>\n",
       "    <tr>\n",
       "      <th>382</th>\n",
       "      <td>PD_00001_DA</td>\n",
       "      <td>385</td>\n",
       "      <td>1582</td>\n",
       "    </tr>\n",
       "    <tr>\n",
       "      <th>640</th>\n",
       "      <td>PD_00001_DA</td>\n",
       "      <td>944</td>\n",
       "      <td>2526</td>\n",
       "    </tr>\n",
       "    <tr>\n",
       "      <th>691</th>\n",
       "      <td>PD_00001_DA</td>\n",
       "      <td>639</td>\n",
       "      <td>3165</td>\n",
       "    </tr>\n",
       "    <tr>\n",
       "      <th>...</th>\n",
       "      <td>...</td>\n",
       "      <td>...</td>\n",
       "      <td>...</td>\n",
       "    </tr>\n",
       "    <tr>\n",
       "      <th>214</th>\n",
       "      <td>PD_00557_DC</td>\n",
       "      <td>0</td>\n",
       "      <td>0</td>\n",
       "    </tr>\n",
       "    <tr>\n",
       "      <th>380</th>\n",
       "      <td>PD_00563_JH</td>\n",
       "      <td>0</td>\n",
       "      <td>0</td>\n",
       "    </tr>\n",
       "    <tr>\n",
       "      <th>215</th>\n",
       "      <td>PD_00568_MB</td>\n",
       "      <td>0</td>\n",
       "      <td>0</td>\n",
       "    </tr>\n",
       "    <tr>\n",
       "      <th>216</th>\n",
       "      <td>PD_00583_KC</td>\n",
       "      <td>0</td>\n",
       "      <td>0</td>\n",
       "    </tr>\n",
       "    <tr>\n",
       "      <th>381</th>\n",
       "      <td>PD_00583_KC</td>\n",
       "      <td>420</td>\n",
       "      <td>420</td>\n",
       "    </tr>\n",
       "  </tbody>\n",
       "</table>\n",
       "<p>660 rows × 3 columns</p>\n",
       "</div>"
      ],
      "text/plain": [
       "           SYDID  time_diff  time_rolling\n",
       "0    PD_00001_DA          0             0\n",
       "217  PD_00001_DA       1197          1197\n",
       "382  PD_00001_DA        385          1582\n",
       "640  PD_00001_DA        944          2526\n",
       "691  PD_00001_DA        639          3165\n",
       "..           ...        ...           ...\n",
       "214  PD_00557_DC          0             0\n",
       "380  PD_00563_JH          0             0\n",
       "215  PD_00568_MB          0             0\n",
       "216  PD_00583_KC          0             0\n",
       "381  PD_00583_KC        420           420\n",
       "\n",
       "[660 rows x 3 columns]"
      ]
     },
     "execution_count": 41,
     "metadata": {},
     "output_type": "execute_result"
    }
   ],
   "source": [
    "udprs_cog[['SYDID','time_diff','time_rolling']]"
   ]
  },
  {
   "cell_type": "code",
   "execution_count": 222,
   "metadata": {
    "ExecuteTime": {
     "end_time": "2020-10-15T07:39:20.197901Z",
     "start_time": "2020-10-15T07:39:19.725893Z"
    }
   },
   "outputs": [
    {
     "data": {
      "text/plain": [
       "Text(0, 0.5, 'Non tremor')"
      ]
     },
     "execution_count": 222,
     "metadata": {},
     "output_type": "execute_result"
    },
    {
     "data": {
      "image/png": "[encoded data removed]",
      "text/plain": [
       "<Figure size 432x288 with 2 Axes>"
      ]
     },
     "metadata": {
      "needs_background": "light"
     },
     "output_type": "display_data"
    }
   ],
   "source": [
    "udprs_cog.head()\n",
    "nontremrg=udprs_cog['non_tremor']<5\n",
    "\n",
    "plt.hist2d(udprs_cog['tremor'][nontremrg], udprs_cog['non_tremor'][nontremrg], bins=(50, 50), vmax=20)\n",
    "plt.colorbar()\n",
    "plt.xlabel('Tremor')\n",
    "plt.ylabel('Non tremor')"
   ]
  },
  {
   "cell_type": "code",
   "execution_count": 156,
   "metadata": {
    "ExecuteTime": {
     "end_time": "2020-10-14T05:55:11.367820Z",
     "start_time": "2020-10-14T05:55:09.426470Z"
    }
   },
   "outputs": [
    {
     "name": "stderr",
     "output_type": "stream",
     "text": [
      "/opt/conda/lib/python3.7/site-packages/ipykernel_launcher.py:15: FutureWarning: using a dict on a Series for aggregation\n",
      "is deprecated and will be removed in a future version. Use                 named aggregation instead.\n",
      "\n",
      "    >>> grouper.agg(name_1=func_1, name_2=func_2)\n",
      "\n",
      "  from ipykernel import kernelapp as app\n"
     ]
    },
    {
     "name": "stdout",
     "output_type": "stream",
     "text": [
      "2.2941302256518235\n"
     ]
    },
    {
     "data": {
      "text/plain": [
       "<matplotlib.axes._subplots.AxesSubplot at 0x7f98f9e2dcd0>"
      ]
     },
     "execution_count": 156,
     "metadata": {},
     "output_type": "execute_result"
    },
    {
     "data": {
      "image/png": "[encoded data removed]",
      "text/plain": [
       "<Figure size 432x288 with 1 Axes>"
      ]
     },
     "metadata": {
      "needs_background": "light"
     },
     "output_type": "display_data"
    }
   ],
   "source": [
    "df1=gradvarfull(udprs_cog,'Section III Total')\n",
    "df1[(df1['coef']<5)&(df1['coef']>-10)&(df1['coef']!=0)]['coef'].hist(bins=50)"
   ]
  },
  {
   "cell_type": "code",
   "execution_count": 125,
   "metadata": {
    "ExecuteTime": {
     "end_time": "2020-10-14T05:11:07.903401Z",
     "start_time": "2020-10-14T05:11:07.896001Z"
    }
   },
   "outputs": [
    {
     "data": {
      "text/plain": [
       "(154, 3)"
      ]
     },
     "execution_count": 125,
     "metadata": {},
     "output_type": "execute_result"
    }
   ],
   "source": [
    "df1[(df1['coef']!=0)].shape"
   ]
  },
  {
   "cell_type": "code",
   "execution_count": 88,
   "metadata": {
    "ExecuteTime": {
     "end_time": "2020-10-14T05:01:31.855783Z",
     "start_time": "2020-10-14T05:01:31.831289Z"
    }
   },
   "outputs": [
    {
     "data": {
      "text/html": [
       "<div>\n",
       "<style scoped>\n",
       "    .dataframe tbody tr th:only-of-type {\n",
       "        vertical-align: middle;\n",
       "    }\n",
       "\n",
       "    .dataframe tbody tr th {\n",
       "        vertical-align: top;\n",
       "    }\n",
       "\n",
       "    .dataframe thead th {\n",
       "        text-align: right;\n",
       "    }\n",
       "</style>\n",
       "<table border=\"1\" class=\"dataframe\">\n",
       "  <thead>\n",
       "    <tr style=\"text-align: right;\">\n",
       "      <th></th>\n",
       "      <th>Section I Total</th>\n",
       "      <th>Section II Total</th>\n",
       "      <th>Section III Total</th>\n",
       "      <th>Section IV Total</th>\n",
       "    </tr>\n",
       "  </thead>\n",
       "  <tbody>\n",
       "    <tr>\n",
       "      <th>0</th>\n",
       "      <td>14.0</td>\n",
       "      <td>20.0</td>\n",
       "      <td>18.0</td>\n",
       "      <td>1.0</td>\n",
       "    </tr>\n",
       "    <tr>\n",
       "      <th>217</th>\n",
       "      <td>10.0</td>\n",
       "      <td>14.0</td>\n",
       "      <td>38.0</td>\n",
       "      <td>2.0</td>\n",
       "    </tr>\n",
       "    <tr>\n",
       "      <th>382</th>\n",
       "      <td>14.0</td>\n",
       "      <td>14.0</td>\n",
       "      <td>28.0</td>\n",
       "      <td>1.0</td>\n",
       "    </tr>\n",
       "    <tr>\n",
       "      <th>640</th>\n",
       "      <td>16.0</td>\n",
       "      <td>15.0</td>\n",
       "      <td>41.0</td>\n",
       "      <td>5.0</td>\n",
       "    </tr>\n",
       "    <tr>\n",
       "      <th>691</th>\n",
       "      <td>9.0</td>\n",
       "      <td>15.0</td>\n",
       "      <td>25.0</td>\n",
       "      <td>4.0</td>\n",
       "    </tr>\n",
       "    <tr>\n",
       "      <th>...</th>\n",
       "      <td>...</td>\n",
       "      <td>...</td>\n",
       "      <td>...</td>\n",
       "      <td>...</td>\n",
       "    </tr>\n",
       "    <tr>\n",
       "      <th>214</th>\n",
       "      <td>6.0</td>\n",
       "      <td>13.0</td>\n",
       "      <td>26.0</td>\n",
       "      <td>2.0</td>\n",
       "    </tr>\n",
       "    <tr>\n",
       "      <th>380</th>\n",
       "      <td>28.0</td>\n",
       "      <td>28.0</td>\n",
       "      <td>55.0</td>\n",
       "      <td>0.0</td>\n",
       "    </tr>\n",
       "    <tr>\n",
       "      <th>215</th>\n",
       "      <td>8.0</td>\n",
       "      <td>15.0</td>\n",
       "      <td>40.0</td>\n",
       "      <td>0.0</td>\n",
       "    </tr>\n",
       "    <tr>\n",
       "      <th>216</th>\n",
       "      <td>16.0</td>\n",
       "      <td>5.0</td>\n",
       "      <td>24.0</td>\n",
       "      <td>0.0</td>\n",
       "    </tr>\n",
       "    <tr>\n",
       "      <th>381</th>\n",
       "      <td>19.0</td>\n",
       "      <td>12.0</td>\n",
       "      <td>20.0</td>\n",
       "      <td>0.0</td>\n",
       "    </tr>\n",
       "  </tbody>\n",
       "</table>\n",
       "<p>702 rows × 4 columns</p>\n",
       "</div>"
      ],
      "text/plain": [
       "     Section I Total  Section II Total  Section III Total  Section IV Total\n",
       "0               14.0              20.0               18.0               1.0\n",
       "217             10.0              14.0               38.0               2.0\n",
       "382             14.0              14.0               28.0               1.0\n",
       "640             16.0              15.0               41.0               5.0\n",
       "691              9.0              15.0               25.0               4.0\n",
       "..               ...               ...                ...               ...\n",
       "214              6.0              13.0               26.0               2.0\n",
       "380             28.0              28.0               55.0               0.0\n",
       "215              8.0              15.0               40.0               0.0\n",
       "216             16.0               5.0               24.0               0.0\n",
       "381             19.0              12.0               20.0               0.0\n",
       "\n",
       "[702 rows x 4 columns]"
      ]
     },
     "execution_count": 88,
     "metadata": {},
     "output_type": "execute_result"
    }
   ],
   "source": [
    "udprs_cog_nn[[col for col in udprs_cog_nn if 'Section' in col]]"
   ]
  },
  {
   "cell_type": "markdown",
   "metadata": {},
   "source": [
    "#### Most recent dates for kmeans "
   ]
  },
  {
   "cell_type": "code",
   "execution_count": 27,
   "metadata": {
    "ExecuteTime": {
     "end_time": "2020-10-14T04:17:28.930859Z",
     "start_time": "2020-10-14T04:17:28.916175Z"
    }
   },
   "outputs": [
    {
     "data": {
      "text/plain": [
       "(222,)"
      ]
     },
     "execution_count": 27,
     "metadata": {},
     "output_type": "execute_result"
    }
   ],
   "source": [
    "udprs_cog_maxdate['Trails B Z score'][~(udprs_cog_maxdate['Trails B Z score']==999)&~(udprs_cog_maxdate['Trails B Z score']==888)].shape"
   ]
  },
  {
   "cell_type": "code",
   "execution_count": 28,
   "metadata": {
    "ExecuteTime": {
     "end_time": "2020-10-14T04:17:29.674710Z",
     "start_time": "2020-10-14T04:17:29.654487Z"
    }
   },
   "outputs": [
    {
     "name": "stderr",
     "output_type": "stream",
     "text": [
      "/opt/conda/lib/python3.7/site-packages/ipykernel_launcher.py:1: SettingWithCopyWarning: \n",
      "A value is trying to be set on a copy of a slice from a DataFrame\n",
      "\n",
      "See the caveats in the documentation: http://pandas.pydata.org/pandas-docs/stable/user_guide/indexing.html#returning-a-view-versus-a-copy\n",
      "  \"\"\"Entry point for launching an IPython kernel.\n"
     ]
    }
   ],
   "source": [
    "udprs_cog_maxdate['Princ_Diag'][(udprs_cog_maxdate['Princ_Diag']==\"Idiopathic Parkinson’s disease\")]=\"Idiopathic Parkinsons Disease\"\n",
    "udprs_cog_maxdate=udprs_cog_maxdate[(udprs_cog_maxdate['Princ_Diag']==\"Idiopathic Parkinsons Disease\")&\n",
    "                                   (udprs_cog_maxdate['Date Diagnosed']!=\"Missing\")&~(udprs_cog_maxdate['Trails B Z score']==999)&\n",
    "                                                                                     ~(udprs_cog_maxdate['Trails B Z score']==888)]"
   ]
  },
  {
   "cell_type": "code",
   "execution_count": 29,
   "metadata": {
    "ExecuteTime": {
     "end_time": "2020-10-14T04:17:31.183479Z",
     "start_time": "2020-10-14T04:17:31.156454Z"
    }
   },
   "outputs": [],
   "source": [
    "udprs_cog_maxdate=pd.merge(udprs_cog_maxdate,dem[['SYDID','Gender']])"
   ]
  },
  {
   "cell_type": "code",
   "execution_count": 30,
   "metadata": {
    "ExecuteTime": {
     "end_time": "2020-10-14T04:17:31.806780Z",
     "start_time": "2020-10-14T04:17:31.796867Z"
    }
   },
   "outputs": [],
   "source": [
    "udprs_cog_mod=udprs_cog_maxdate[['SYDID','Gender','MMSE result','Logical Memory II','Date','Date Diagnosed','Birth_date','DDE','Trails B Z score','tremor','non_tremor',\n",
    "                   'tremor_ratio','Section I Total', 'Section II Total',\n",
    "       'Section III Total','Hoehn and Yahr', 'Minutes since last dose']]"
   ]
  },
  {
   "cell_type": "code",
   "execution_count": 31,
   "metadata": {
    "ExecuteTime": {
     "end_time": "2020-10-14T04:17:32.339040Z",
     "start_time": "2020-10-14T04:17:32.318099Z"
    }
   },
   "outputs": [],
   "source": [
    "udprs_cog_mod=udprs_cog_mod.replace([np.inf, -np.inf], np.nan).dropna()"
   ]
  },
  {
   "cell_type": "code",
   "execution_count": 32,
   "metadata": {
    "ExecuteTime": {
     "end_time": "2020-10-14T04:17:32.973436Z",
     "start_time": "2020-10-14T04:17:32.965999Z"
    }
   },
   "outputs": [],
   "source": [
    "udprs_cog_mod['UDPRS_Tot']=udprs_cog_mod[['Section I Total', 'Section II Total','Section III Total']].sum(axis=1)"
   ]
  },
  {
   "cell_type": "code",
   "execution_count": 33,
   "metadata": {
    "ExecuteTime": {
     "end_time": "2020-10-14T04:17:33.489133Z",
     "start_time": "2020-10-14T04:17:33.482934Z"
    }
   },
   "outputs": [],
   "source": [
    "udprs_cog_mod['DDE']=udprs_cog_mod['DDE'].astype(float)\n",
    "udprs_cog_mod['tremor_ratio']=udprs_cog_mod['tremor_ratio'].astype(float)\n",
    "\n"
   ]
  },
  {
   "cell_type": "code",
   "execution_count": 34,
   "metadata": {
    "ExecuteTime": {
     "end_time": "2020-10-14T04:17:34.086937Z",
     "start_time": "2020-10-14T04:17:34.073496Z"
    }
   },
   "outputs": [],
   "source": [
    "udprs_cog_mod['Disease_Duration']=(pd.to_datetime(udprs_cog_mod['Date']).dt.date-pd.to_datetime(udprs_cog_mod['Date Diagnosed']).dt.date).dt.days"
   ]
  },
  {
   "cell_type": "code",
   "execution_count": 35,
   "metadata": {
    "ExecuteTime": {
     "end_time": "2020-10-14T04:17:34.750532Z",
     "start_time": "2020-10-14T04:17:34.745497Z"
    }
   },
   "outputs": [],
   "source": [
    "udprs_cog_mod['Disease_Progression']=udprs_cog_mod['UDPRS_Tot']/udprs_cog_mod['Disease_Duration']\n",
    "#udprs_cog_mod['Disease_Progression']"
   ]
  },
  {
   "cell_type": "code",
   "execution_count": 36,
   "metadata": {
    "ExecuteTime": {
     "end_time": "2020-10-14T04:17:43.446971Z",
     "start_time": "2020-10-14T04:17:43.435630Z"
    }
   },
   "outputs": [],
   "source": [
    "udprs_cog_mod['Age_At_Diagnosis']=(pd.to_datetime(udprs_cog_mod['Date Diagnosed']).dt.date-pd.to_datetime(udprs_cog_mod['Birth_date']).dt.date).dt.days/365.25"
   ]
  },
  {
   "cell_type": "code",
   "execution_count": 37,
   "metadata": {
    "ExecuteTime": {
     "end_time": "2020-10-14T04:17:48.279661Z",
     "start_time": "2020-10-14T04:17:48.263926Z"
    }
   },
   "outputs": [],
   "source": [
    "udprs_cog_mod['Disease_Prog_z']=z_score(udprs_cog_mod,'Disease_Progression')\n",
    "udprs_cog_mod['Age_At_Diagnosis_z']=z_score(udprs_cog_mod,'Age_At_Diagnosis')\n",
    "udprs_cog_mod['tremor_ratio_z']=z_score(udprs_cog_mod,'tremor_ratio')\n",
    "udprs_cog_mod['DDE_z']=z_score(udprs_cog_mod,'DDE')\n",
    "udprs_cog_mod['Logical Memory II_z']=z_score(udprs_cog_mod,'Logical Memory II')"
   ]
  },
  {
   "cell_type": "code",
   "execution_count": 38,
   "metadata": {
    "ExecuteTime": {
     "end_time": "2020-10-14T04:17:49.290977Z",
     "start_time": "2020-10-14T04:17:49.285301Z"
    }
   },
   "outputs": [],
   "source": [
    "X=np.asarray(udprs_cog_mod[['Disease_Prog_z','Age_At_Diagnosis_z','Trails B Z score','tremor_ratio_z','DDE_z','Logical Memory II_z']])"
   ]
  },
  {
   "cell_type": "code",
   "execution_count": 39,
   "metadata": {
    "ExecuteTime": {
     "end_time": "2020-10-14T04:17:50.225676Z",
     "start_time": "2020-10-14T04:17:50.185856Z"
    }
   },
   "outputs": [
    {
     "data": {
      "text/html": [
       "<div>\n",
       "<style scoped>\n",
       "    .dataframe tbody tr th:only-of-type {\n",
       "        vertical-align: middle;\n",
       "    }\n",
       "\n",
       "    .dataframe tbody tr th {\n",
       "        vertical-align: top;\n",
       "    }\n",
       "\n",
       "    .dataframe thead th {\n",
       "        text-align: right;\n",
       "    }\n",
       "</style>\n",
       "<table border=\"1\" class=\"dataframe\">\n",
       "  <thead>\n",
       "    <tr style=\"text-align: right;\">\n",
       "      <th></th>\n",
       "      <th>Disease_Prog_z</th>\n",
       "      <th>Age_At_Diagnosis_z</th>\n",
       "      <th>Trails B Z score</th>\n",
       "      <th>tremor_ratio_z</th>\n",
       "      <th>DDE_z</th>\n",
       "      <th>Logical Memory II_z</th>\n",
       "    </tr>\n",
       "  </thead>\n",
       "  <tbody>\n",
       "    <tr>\n",
       "      <th>0</th>\n",
       "      <td>-0.098911</td>\n",
       "      <td>0.788868</td>\n",
       "      <td>0.500</td>\n",
       "      <td>-0.068523</td>\n",
       "      <td>-0.926177</td>\n",
       "      <td>-0.114994</td>\n",
       "    </tr>\n",
       "    <tr>\n",
       "      <th>1</th>\n",
       "      <td>-0.096199</td>\n",
       "      <td>1.729882</td>\n",
       "      <td>0.000</td>\n",
       "      <td>-0.125722</td>\n",
       "      <td>-0.302609</td>\n",
       "      <td>-0.062280</td>\n",
       "    </tr>\n",
       "    <tr>\n",
       "      <th>2</th>\n",
       "      <td>-0.125707</td>\n",
       "      <td>0.076445</td>\n",
       "      <td>0.300</td>\n",
       "      <td>-0.812118</td>\n",
       "      <td>-1.501778</td>\n",
       "      <td>-0.167708</td>\n",
       "    </tr>\n",
       "    <tr>\n",
       "      <th>3</th>\n",
       "      <td>-0.109621</td>\n",
       "      <td>-0.160245</td>\n",
       "      <td>-1.600</td>\n",
       "      <td>1.590267</td>\n",
       "      <td>-0.926177</td>\n",
       "      <td>-0.343421</td>\n",
       "    </tr>\n",
       "    <tr>\n",
       "      <th>4</th>\n",
       "      <td>-0.125861</td>\n",
       "      <td>-0.082132</td>\n",
       "      <td>0.190</td>\n",
       "      <td>-0.342479</td>\n",
       "      <td>2.963928</td>\n",
       "      <td>-0.325849</td>\n",
       "    </tr>\n",
       "    <tr>\n",
       "      <th>...</th>\n",
       "      <td>...</td>\n",
       "      <td>...</td>\n",
       "      <td>...</td>\n",
       "      <td>...</td>\n",
       "      <td>...</td>\n",
       "      <td>...</td>\n",
       "    </tr>\n",
       "    <tr>\n",
       "      <th>201</th>\n",
       "      <td>-0.117301</td>\n",
       "      <td>-0.323002</td>\n",
       "      <td>-0.632</td>\n",
       "      <td>-0.549673</td>\n",
       "      <td>0.416893</td>\n",
       "      <td>0.095861</td>\n",
       "    </tr>\n",
       "    <tr>\n",
       "      <th>203</th>\n",
       "      <td>-0.119711</td>\n",
       "      <td>-0.590520</td>\n",
       "      <td>-0.741</td>\n",
       "      <td>0.024427</td>\n",
       "      <td>-0.943445</td>\n",
       "      <td>0.095861</td>\n",
       "    </tr>\n",
       "    <tr>\n",
       "      <th>204</th>\n",
       "      <td>-0.115278</td>\n",
       "      <td>0.930464</td>\n",
       "      <td>0.550</td>\n",
       "      <td>-0.812118</td>\n",
       "      <td>-0.033995</td>\n",
       "      <td>0.131004</td>\n",
       "    </tr>\n",
       "    <tr>\n",
       "      <th>205</th>\n",
       "      <td>-0.132380</td>\n",
       "      <td>-1.906947</td>\n",
       "      <td>-0.013</td>\n",
       "      <td>-0.812118</td>\n",
       "      <td>0.225025</td>\n",
       "      <td>0.131004</td>\n",
       "    </tr>\n",
       "    <tr>\n",
       "      <th>206</th>\n",
       "      <td>-0.104666</td>\n",
       "      <td>-2.367788</td>\n",
       "      <td>-0.690</td>\n",
       "      <td>0.500109</td>\n",
       "      <td>4.479678</td>\n",
       "      <td>0.359430</td>\n",
       "    </tr>\n",
       "  </tbody>\n",
       "</table>\n",
       "<p>180 rows × 6 columns</p>\n",
       "</div>"
      ],
      "text/plain": [
       "     Disease_Prog_z  Age_At_Diagnosis_z  Trails B Z score  tremor_ratio_z  \\\n",
       "0         -0.098911            0.788868             0.500       -0.068523   \n",
       "1         -0.096199            1.729882             0.000       -0.125722   \n",
       "2         -0.125707            0.076445             0.300       -0.812118   \n",
       "3         -0.109621           -0.160245            -1.600        1.590267   \n",
       "4         -0.125861           -0.082132             0.190       -0.342479   \n",
       "..              ...                 ...               ...             ...   \n",
       "201       -0.117301           -0.323002            -0.632       -0.549673   \n",
       "203       -0.119711           -0.590520            -0.741        0.024427   \n",
       "204       -0.115278            0.930464             0.550       -0.812118   \n",
       "205       -0.132380           -1.906947            -0.013       -0.812118   \n",
       "206       -0.104666           -2.367788            -0.690        0.500109   \n",
       "\n",
       "        DDE_z  Logical Memory II_z  \n",
       "0   -0.926177            -0.114994  \n",
       "1   -0.302609            -0.062280  \n",
       "2   -1.501778            -0.167708  \n",
       "3   -0.926177            -0.343421  \n",
       "4    2.963928            -0.325849  \n",
       "..        ...                  ...  \n",
       "201  0.416893             0.095861  \n",
       "203 -0.943445             0.095861  \n",
       "204 -0.033995             0.131004  \n",
       "205  0.225025             0.131004  \n",
       "206  4.479678             0.359430  \n",
       "\n",
       "[180 rows x 6 columns]"
      ]
     },
     "execution_count": 39,
     "metadata": {},
     "output_type": "execute_result"
    }
   ],
   "source": [
    "udprs_cog_mod[['Disease_Prog_z','Age_At_Diagnosis_z','Trails B Z score','tremor_ratio_z','DDE_z','Logical Memory II_z']].replace([np.inf, -np.inf], np.nan).dropna()"
   ]
  },
  {
   "cell_type": "code",
   "execution_count": 40,
   "metadata": {
    "ExecuteTime": {
     "end_time": "2020-10-14T04:20:38.125195Z",
     "start_time": "2020-10-14T04:20:38.085365Z"
    }
   },
   "outputs": [],
   "source": [
    "udprs_cog_mod.to_csv('%s%s' % (loc,'udprs_cog_mod.csv'))"
   ]
  },
  {
   "cell_type": "code",
   "execution_count": 41,
   "metadata": {
    "ExecuteTime": {
     "end_time": "2020-10-14T04:20:39.820776Z",
     "start_time": "2020-10-14T04:20:39.786131Z"
    }
   },
   "outputs": [
    {
     "data": {
      "text/html": [
       "<div>\n",
       "<style scoped>\n",
       "    .dataframe tbody tr th:only-of-type {\n",
       "        vertical-align: middle;\n",
       "    }\n",
       "\n",
       "    .dataframe tbody tr th {\n",
       "        vertical-align: top;\n",
       "    }\n",
       "\n",
       "    .dataframe thead th {\n",
       "        text-align: right;\n",
       "    }\n",
       "</style>\n",
       "<table border=\"1\" class=\"dataframe\">\n",
       "  <thead>\n",
       "    <tr style=\"text-align: right;\">\n",
       "      <th></th>\n",
       "      <th>Disease_Progression</th>\n",
       "      <th>Age_At_Diagnosis</th>\n",
       "      <th>Trails B Z score</th>\n",
       "      <th>tremor_ratio</th>\n",
       "      <th>DDE</th>\n",
       "      <th>Logical Memory II</th>\n",
       "    </tr>\n",
       "  </thead>\n",
       "  <tbody>\n",
       "    <tr>\n",
       "      <th>0</th>\n",
       "      <td>0.027135</td>\n",
       "      <td>68.065708</td>\n",
       "      <td>0.500</td>\n",
       "      <td>0.333333</td>\n",
       "      <td>300.0</td>\n",
       "      <td>18.0</td>\n",
       "    </tr>\n",
       "    <tr>\n",
       "      <th>1</th>\n",
       "      <td>0.028956</td>\n",
       "      <td>77.927447</td>\n",
       "      <td>0.000</td>\n",
       "      <td>0.307692</td>\n",
       "      <td>625.0</td>\n",
       "      <td>21.0</td>\n",
       "    </tr>\n",
       "    <tr>\n",
       "      <th>2</th>\n",
       "      <td>0.009141</td>\n",
       "      <td>60.599589</td>\n",
       "      <td>0.300</td>\n",
       "      <td>0.000000</td>\n",
       "      <td>0.0</td>\n",
       "      <td>15.0</td>\n",
       "    </tr>\n",
       "    <tr>\n",
       "      <th>3</th>\n",
       "      <td>0.019943</td>\n",
       "      <td>58.119097</td>\n",
       "      <td>-1.600</td>\n",
       "      <td>1.076923</td>\n",
       "      <td>300.0</td>\n",
       "      <td>5.0</td>\n",
       "    </tr>\n",
       "    <tr>\n",
       "      <th>4</th>\n",
       "      <td>0.009037</td>\n",
       "      <td>58.937714</td>\n",
       "      <td>0.190</td>\n",
       "      <td>0.210526</td>\n",
       "      <td>2327.5</td>\n",
       "      <td>6.0</td>\n",
       "    </tr>\n",
       "    <tr>\n",
       "      <th>...</th>\n",
       "      <td>...</td>\n",
       "      <td>...</td>\n",
       "      <td>...</td>\n",
       "      <td>...</td>\n",
       "      <td>...</td>\n",
       "      <td>...</td>\n",
       "    </tr>\n",
       "    <tr>\n",
       "      <th>201</th>\n",
       "      <td>0.014786</td>\n",
       "      <td>56.413415</td>\n",
       "      <td>-0.632</td>\n",
       "      <td>0.117647</td>\n",
       "      <td>1000.0</td>\n",
       "      <td>30.0</td>\n",
       "    </tr>\n",
       "    <tr>\n",
       "      <th>203</th>\n",
       "      <td>0.013167</td>\n",
       "      <td>53.609856</td>\n",
       "      <td>-0.741</td>\n",
       "      <td>0.375000</td>\n",
       "      <td>291.0</td>\n",
       "      <td>30.0</td>\n",
       "    </tr>\n",
       "    <tr>\n",
       "      <th>204</th>\n",
       "      <td>0.016144</td>\n",
       "      <td>69.549624</td>\n",
       "      <td>0.550</td>\n",
       "      <td>0.000000</td>\n",
       "      <td>765.0</td>\n",
       "      <td>32.0</td>\n",
       "    </tr>\n",
       "    <tr>\n",
       "      <th>205</th>\n",
       "      <td>0.004659</td>\n",
       "      <td>39.813826</td>\n",
       "      <td>-0.013</td>\n",
       "      <td>0.000000</td>\n",
       "      <td>900.0</td>\n",
       "      <td>32.0</td>\n",
       "    </tr>\n",
       "    <tr>\n",
       "      <th>206</th>\n",
       "      <td>0.023270</td>\n",
       "      <td>34.984257</td>\n",
       "      <td>-0.690</td>\n",
       "      <td>0.588235</td>\n",
       "      <td>3117.5</td>\n",
       "      <td>45.0</td>\n",
       "    </tr>\n",
       "  </tbody>\n",
       "</table>\n",
       "<p>180 rows × 6 columns</p>\n",
       "</div>"
      ],
      "text/plain": [
       "     Disease_Progression  Age_At_Diagnosis  Trails B Z score  tremor_ratio  \\\n",
       "0               0.027135         68.065708             0.500      0.333333   \n",
       "1               0.028956         77.927447             0.000      0.307692   \n",
       "2               0.009141         60.599589             0.300      0.000000   \n",
       "3               0.019943         58.119097            -1.600      1.076923   \n",
       "4               0.009037         58.937714             0.190      0.210526   \n",
       "..                   ...               ...               ...           ...   \n",
       "201             0.014786         56.413415            -0.632      0.117647   \n",
       "203             0.013167         53.609856            -0.741      0.375000   \n",
       "204             0.016144         69.549624             0.550      0.000000   \n",
       "205             0.004659         39.813826            -0.013      0.000000   \n",
       "206             0.023270         34.984257            -0.690      0.588235   \n",
       "\n",
       "        DDE  Logical Memory II  \n",
       "0     300.0               18.0  \n",
       "1     625.0               21.0  \n",
       "2       0.0               15.0  \n",
       "3     300.0                5.0  \n",
       "4    2327.5                6.0  \n",
       "..      ...                ...  \n",
       "201  1000.0               30.0  \n",
       "203   291.0               30.0  \n",
       "204   765.0               32.0  \n",
       "205   900.0               32.0  \n",
       "206  3117.5               45.0  \n",
       "\n",
       "[180 rows x 6 columns]"
      ]
     },
     "execution_count": 41,
     "metadata": {},
     "output_type": "execute_result"
    }
   ],
   "source": [
    "udprs_cog_mod[['Disease_Progression','Age_At_Diagnosis','Trails B Z score','tremor_ratio','DDE','Logical Memory II']].dropna()"
   ]
  },
  {
   "cell_type": "code",
   "execution_count": 226,
   "metadata": {},
   "outputs": [
    {
     "data": {
      "text/plain": [
       "Disease_Progression     0.004659\n",
       "Age_At_Diagnosis       12.057495\n",
       "Trails B Z score       -9.580000\n",
       "tremor_ratio            0.000000\n",
       "DDE                     0.000000\n",
       "Logical Memory II       0.000000\n",
       "dtype: float64"
      ]
     },
     "execution_count": 226,
     "metadata": {},
     "output_type": "execute_result"
    }
   ],
   "source": [
    "df_clust.min()"
   ]
  },
  {
   "cell_type": "code",
   "execution_count": 228,
   "metadata": {},
   "outputs": [
    {
     "name": "stderr",
     "output_type": "stream",
     "text": [
      "/opt/anaconda3/lib/python3.8/site-packages/sklearn/cluster/_kmeans.py:93: RuntimeWarning: divide by zero encountered in log\n",
      "  n_local_trials = 2 + int(np.log(n_clusters))\n"
     ]
    },
    {
     "ename": "OverflowError",
     "evalue": "cannot convert float infinity to integer",
     "output_type": "error",
     "traceback": [
      "\u001b[0;31m---------------------------------------------------------------------------\u001b[0m",
      "\u001b[0;31mOverflowError\u001b[0m                             Traceback (most recent call last)",
      "\u001b[0;32m<ipython-input-228-4b632ed7c84c>\u001b[0m in \u001b[0;36m<module>\u001b[0;34m\u001b[0m\n\u001b[1;32m      6\u001b[0m \u001b[0;32mfor\u001b[0m \u001b[0mk\u001b[0m \u001b[0;32min\u001b[0m \u001b[0mrange\u001b[0m\u001b[0;34m(\u001b[0m\u001b[0;36m10\u001b[0m\u001b[0;34m)\u001b[0m\u001b[0;34m:\u001b[0m\u001b[0;34m\u001b[0m\u001b[0;34m\u001b[0m\u001b[0m\n\u001b[1;32m      7\u001b[0m     \u001b[0mkmeanModel\u001b[0m \u001b[0;34m=\u001b[0m \u001b[0mKMeans\u001b[0m\u001b[0;34m(\u001b[0m\u001b[0mn_clusters\u001b[0m\u001b[0;34m=\u001b[0m\u001b[0mk\u001b[0m\u001b[0;34m)\u001b[0m\u001b[0;34m\u001b[0m\u001b[0;34m\u001b[0m\u001b[0m\n\u001b[0;32m----> 8\u001b[0;31m     \u001b[0mkmeanModel\u001b[0m\u001b[0;34m.\u001b[0m\u001b[0mfit\u001b[0m\u001b[0;34m(\u001b[0m\u001b[0mdf_clust\u001b[0m\u001b[0;34m)\u001b[0m\u001b[0;34m\u001b[0m\u001b[0;34m\u001b[0m\u001b[0m\n\u001b[0m\u001b[1;32m      9\u001b[0m     \u001b[0mdistortions\u001b[0m\u001b[0;34m.\u001b[0m\u001b[0mappend\u001b[0m\u001b[0;34m(\u001b[0m\u001b[0mkmeanModel\u001b[0m\u001b[0;34m.\u001b[0m\u001b[0minertia_\u001b[0m\u001b[0;34m)\u001b[0m\u001b[0;34m\u001b[0m\u001b[0;34m\u001b[0m\u001b[0m\n\u001b[1;32m     10\u001b[0m \u001b[0mplt\u001b[0m\u001b[0;34m.\u001b[0m\u001b[0mfigure\u001b[0m\u001b[0;34m(\u001b[0m\u001b[0mfigsize\u001b[0m\u001b[0;34m=\u001b[0m\u001b[0;34m(\u001b[0m\u001b[0;36m16\u001b[0m\u001b[0;34m,\u001b[0m\u001b[0;36m8\u001b[0m\u001b[0;34m)\u001b[0m\u001b[0;34m)\u001b[0m\u001b[0;34m\u001b[0m\u001b[0;34m\u001b[0m\u001b[0m\n",
      "\u001b[0;32m/opt/anaconda3/lib/python3.8/site-packages/sklearn/cluster/_kmeans.py\u001b[0m in \u001b[0;36mfit\u001b[0;34m(self, X, y, sample_weight)\u001b[0m\n\u001b[1;32m   1049\u001b[0m         \u001b[0;32mfor\u001b[0m \u001b[0mseed\u001b[0m \u001b[0;32min\u001b[0m \u001b[0mseeds\u001b[0m\u001b[0;34m:\u001b[0m\u001b[0;34m\u001b[0m\u001b[0;34m\u001b[0m\u001b[0m\n\u001b[1;32m   1050\u001b[0m             \u001b[0;31m# run a k-means once\u001b[0m\u001b[0;34m\u001b[0m\u001b[0;34m\u001b[0m\u001b[0;34m\u001b[0m\u001b[0m\n\u001b[0;32m-> 1051\u001b[0;31m             labels, inertia, centers, n_iter_ = kmeans_single(\n\u001b[0m\u001b[1;32m   1052\u001b[0m                 \u001b[0mX\u001b[0m\u001b[0;34m,\u001b[0m \u001b[0msample_weight\u001b[0m\u001b[0;34m,\u001b[0m \u001b[0mself\u001b[0m\u001b[0;34m.\u001b[0m\u001b[0mn_clusters\u001b[0m\u001b[0;34m,\u001b[0m \u001b[0mmax_iter\u001b[0m\u001b[0;34m=\u001b[0m\u001b[0mself\u001b[0m\u001b[0;34m.\u001b[0m\u001b[0mmax_iter\u001b[0m\u001b[0;34m,\u001b[0m\u001b[0;34m\u001b[0m\u001b[0;34m\u001b[0m\u001b[0m\n\u001b[1;32m   1053\u001b[0m                 \u001b[0minit\u001b[0m\u001b[0;34m=\u001b[0m\u001b[0minit\u001b[0m\u001b[0;34m,\u001b[0m \u001b[0mverbose\u001b[0m\u001b[0;34m=\u001b[0m\u001b[0mself\u001b[0m\u001b[0;34m.\u001b[0m\u001b[0mverbose\u001b[0m\u001b[0;34m,\u001b[0m \u001b[0mtol\u001b[0m\u001b[0;34m=\u001b[0m\u001b[0mtol\u001b[0m\u001b[0;34m,\u001b[0m\u001b[0;34m\u001b[0m\u001b[0;34m\u001b[0m\u001b[0m\n",
      "\u001b[0;32m/opt/anaconda3/lib/python3.8/site-packages/sklearn/cluster/_kmeans.py\u001b[0m in \u001b[0;36m_kmeans_single_elkan\u001b[0;34m(X, sample_weight, n_clusters, max_iter, init, verbose, x_squared_norms, random_state, tol, n_threads)\u001b[0m\n\u001b[1;32m    403\u001b[0m \u001b[0;34m\u001b[0m\u001b[0m\n\u001b[1;32m    404\u001b[0m     \u001b[0;31m# init\u001b[0m\u001b[0;34m\u001b[0m\u001b[0;34m\u001b[0m\u001b[0;34m\u001b[0m\u001b[0m\n\u001b[0;32m--> 405\u001b[0;31m     centers = _init_centroids(X, n_clusters, init, random_state=random_state,\n\u001b[0m\u001b[1;32m    406\u001b[0m                               x_squared_norms=x_squared_norms)\n\u001b[1;32m    407\u001b[0m \u001b[0;34m\u001b[0m\u001b[0m\n",
      "\u001b[0;32m/opt/anaconda3/lib/python3.8/site-packages/sklearn/cluster/_kmeans.py\u001b[0m in \u001b[0;36m_init_centroids\u001b[0;34m(X, n_clusters, init, random_state, x_squared_norms, init_size)\u001b[0m\n\u001b[1;32m    719\u001b[0m \u001b[0;34m\u001b[0m\u001b[0m\n\u001b[1;32m    720\u001b[0m     \u001b[0;32mif\u001b[0m \u001b[0misinstance\u001b[0m\u001b[0;34m(\u001b[0m\u001b[0minit\u001b[0m\u001b[0;34m,\u001b[0m \u001b[0mstr\u001b[0m\u001b[0;34m)\u001b[0m \u001b[0;32mand\u001b[0m \u001b[0minit\u001b[0m \u001b[0;34m==\u001b[0m \u001b[0;34m'k-means++'\u001b[0m\u001b[0;34m:\u001b[0m\u001b[0;34m\u001b[0m\u001b[0;34m\u001b[0m\u001b[0m\n\u001b[0;32m--> 721\u001b[0;31m         centers = _k_init(X, n_clusters, random_state=random_state,\n\u001b[0m\u001b[1;32m    722\u001b[0m                           x_squared_norms=x_squared_norms)\n\u001b[1;32m    723\u001b[0m     \u001b[0;32melif\u001b[0m \u001b[0misinstance\u001b[0m\u001b[0;34m(\u001b[0m\u001b[0minit\u001b[0m\u001b[0;34m,\u001b[0m \u001b[0mstr\u001b[0m\u001b[0;34m)\u001b[0m \u001b[0;32mand\u001b[0m \u001b[0minit\u001b[0m \u001b[0;34m==\u001b[0m \u001b[0;34m'random'\u001b[0m\u001b[0;34m:\u001b[0m\u001b[0;34m\u001b[0m\u001b[0;34m\u001b[0m\u001b[0m\n",
      "\u001b[0;32m/opt/anaconda3/lib/python3.8/site-packages/sklearn/cluster/_kmeans.py\u001b[0m in \u001b[0;36m_k_init\u001b[0;34m(X, n_clusters, x_squared_norms, random_state, n_local_trials)\u001b[0m\n\u001b[1;32m     91\u001b[0m         \u001b[0;31m# specific results for other than mentioning in the conclusion\u001b[0m\u001b[0;34m\u001b[0m\u001b[0;34m\u001b[0m\u001b[0;34m\u001b[0m\u001b[0m\n\u001b[1;32m     92\u001b[0m         \u001b[0;31m# that it helped.\u001b[0m\u001b[0;34m\u001b[0m\u001b[0;34m\u001b[0m\u001b[0;34m\u001b[0m\u001b[0m\n\u001b[0;32m---> 93\u001b[0;31m         \u001b[0mn_local_trials\u001b[0m \u001b[0;34m=\u001b[0m \u001b[0;36m2\u001b[0m \u001b[0;34m+\u001b[0m \u001b[0mint\u001b[0m\u001b[0;34m(\u001b[0m\u001b[0mnp\u001b[0m\u001b[0;34m.\u001b[0m\u001b[0mlog\u001b[0m\u001b[0;34m(\u001b[0m\u001b[0mn_clusters\u001b[0m\u001b[0;34m)\u001b[0m\u001b[0;34m)\u001b[0m\u001b[0;34m\u001b[0m\u001b[0;34m\u001b[0m\u001b[0m\n\u001b[0m\u001b[1;32m     94\u001b[0m \u001b[0;34m\u001b[0m\u001b[0m\n\u001b[1;32m     95\u001b[0m     \u001b[0;31m# Pick first center randomly\u001b[0m\u001b[0;34m\u001b[0m\u001b[0;34m\u001b[0m\u001b[0;34m\u001b[0m\u001b[0m\n",
      "\u001b[0;31mOverflowError\u001b[0m: cannot convert float infinity to integer"
     ]
    }
   ],
   "source": [
    "df_clust=udprs_cog_mod[['Disease_Progression','Age_At_Diagnosis','Trails B Z score','tremor_ratio','DDE','Logical Memory II']].dropna()\n",
    "distortions = []\n",
    "\n",
    "df_clust = df_clust.replace([np.inf, -np.inf, -0], 0)\n",
    "\n",
    "for k in range(10):\n",
    "    kmeanModel = KMeans(n_clusters=k)\n",
    "    kmeanModel.fit(df_clust)\n",
    "    distortions.append(kmeanModel.inertia_)\n",
    "plt.figure(figsize=(16,8))\n",
    "plt.plot(K, distortions, 'bx-')\n",
    "plt.xlabel('k')\n",
    "plt.ylabel('Distortion')\n",
    "plt.title('The Elbow Method showing the optimal k')\n",
    "plt.show()\n"
   ]
  },
  {
   "cell_type": "code",
   "execution_count": 84,
   "metadata": {},
   "outputs": [
    {
     "name": "stderr",
     "output_type": "stream",
     "text": [
      "<ipython-input-84-da9c148b940d>:3: SettingWithCopyWarning: \n",
      "A value is trying to be set on a copy of a slice from a DataFrame\n",
      "\n",
      "See the caveats in the documentation: http://pandas.pydata.org/pandas-docs/stable/indexing.html#indexing-view-versus-copy\n",
      "  cog1_rs['time_diff'][(cog1_rs['SYDID']==cog1_rs['SYDID'].shift(1))]=(cog1_rs['Date/time']-cog1_rs['Date/time'].shift(1)).dt.days\n",
      "<ipython-input-84-da9c148b940d>:6: SettingWithCopyWarning: \n",
      "A value is trying to be set on a copy of a slice from a DataFrame\n",
      "\n",
      "See the caveats in the documentation: http://pandas.pydata.org/pandas-docs/stable/indexing.html#indexing-view-versus-copy\n",
      "  cog1_rs['MMSE_delt'][(cog1_rs['SYDID']==cog1_rs['SYDID'].shift(1))&(cog1_rs['time_diff']!=0)]=(cog1_rs['MMSE result']-cog1_rs['MMSE result'].shift(1))/cog1_rs['time_diff']\n"
     ]
    }
   ],
   "source": [
    "\n",
    "#cog1_rs[['SYDID','Date/time','time_diff']]"
   ]
  },
  {
   "cell_type": "code",
   "execution_count": 100,
   "metadata": {},
   "outputs": [
    {
     "data": {
      "text/plain": [
       "12.364078947368345"
      ]
     },
     "execution_count": 100,
     "metadata": {},
     "output_type": "execute_result"
    }
   ],
   "source": [
    "cog1_rs['MMSE_delt'][pd.notnull(cog1_rs['MMSE_delt'])].quantile(0.99)"
   ]
  },
  {
   "cell_type": "code",
   "execution_count": 95,
   "metadata": {},
   "outputs": [
    {
     "data": {
      "image/png": "[encoded data removed]",
      "text/plain": [
       "<Figure size 432x288 with 1 Axes>"
      ]
     },
     "metadata": {
      "needs_background": "light"
     },
     "output_type": "display_data"
    }
   ],
   "source": [
    "ax=plt.hist(cog1_rs['MMSE_delt'],bins=100)\n",
    "plt.show()"
   ]
  },
  {
   "cell_type": "code",
   "execution_count": 127,
   "metadata": {},
   "outputs": [
    {
     "ename": "ValueError",
     "evalue": "Input contains NaN, infinity or a value too large for dtype('float64').",
     "output_type": "error",
     "traceback": [
      "\u001b[0;31m---------------------------------------------------------------------------\u001b[0m",
      "\u001b[0;31mValueError\u001b[0m                                Traceback (most recent call last)",
      "\u001b[0;32m<ipython-input-127-389dca9fad5f>\u001b[0m in \u001b[0;36m<module>\u001b[0;34m\u001b[0m\n\u001b[1;32m      5\u001b[0m \u001b[0;31m#X=np.array([1,2,3,4])\u001b[0m\u001b[0;34m\u001b[0m\u001b[0;34m\u001b[0m\u001b[0;34m\u001b[0m\u001b[0m\n\u001b[1;32m      6\u001b[0m \u001b[0;31m#y=np.array([1,2,3,4])\u001b[0m\u001b[0;34m\u001b[0m\u001b[0;34m\u001b[0m\u001b[0;34m\u001b[0m\u001b[0m\n\u001b[0;32m----> 7\u001b[0;31m \u001b[0mregr\u001b[0m\u001b[0;34m.\u001b[0m\u001b[0mfit\u001b[0m\u001b[0;34m(\u001b[0m\u001b[0mX\u001b[0m\u001b[0;34m,\u001b[0m \u001b[0my\u001b[0m\u001b[0;34m)\u001b[0m\u001b[0;34m\u001b[0m\u001b[0;34m\u001b[0m\u001b[0m\n\u001b[0m",
      "\u001b[0;32m/opt/anaconda3/lib/python3.8/site-packages/sklearn/linear_model/_base.py\u001b[0m in \u001b[0;36mfit\u001b[0;34m(self, X, y, sample_weight)\u001b[0m\n\u001b[1;32m    503\u001b[0m \u001b[0;34m\u001b[0m\u001b[0m\n\u001b[1;32m    504\u001b[0m         \u001b[0mn_jobs_\u001b[0m \u001b[0;34m=\u001b[0m \u001b[0mself\u001b[0m\u001b[0;34m.\u001b[0m\u001b[0mn_jobs\u001b[0m\u001b[0;34m\u001b[0m\u001b[0;34m\u001b[0m\u001b[0m\n\u001b[0;32m--> 505\u001b[0;31m         X, y = self._validate_data(X, y, accept_sparse=['csr', 'csc', 'coo'],\n\u001b[0m\u001b[1;32m    506\u001b[0m                                    y_numeric=True, multi_output=True)\n\u001b[1;32m    507\u001b[0m \u001b[0;34m\u001b[0m\u001b[0m\n",
      "\u001b[0;32m/opt/anaconda3/lib/python3.8/site-packages/sklearn/base.py\u001b[0m in \u001b[0;36m_validate_data\u001b[0;34m(self, X, y, reset, validate_separately, **check_params)\u001b[0m\n\u001b[1;32m    430\u001b[0m                 \u001b[0my\u001b[0m \u001b[0;34m=\u001b[0m \u001b[0mcheck_array\u001b[0m\u001b[0;34m(\u001b[0m\u001b[0my\u001b[0m\u001b[0;34m,\u001b[0m \u001b[0;34m**\u001b[0m\u001b[0mcheck_y_params\u001b[0m\u001b[0;34m)\u001b[0m\u001b[0;34m\u001b[0m\u001b[0;34m\u001b[0m\u001b[0m\n\u001b[1;32m    431\u001b[0m             \u001b[0;32melse\u001b[0m\u001b[0;34m:\u001b[0m\u001b[0;34m\u001b[0m\u001b[0;34m\u001b[0m\u001b[0m\n\u001b[0;32m--> 432\u001b[0;31m                 \u001b[0mX\u001b[0m\u001b[0;34m,\u001b[0m \u001b[0my\u001b[0m \u001b[0;34m=\u001b[0m \u001b[0mcheck_X_y\u001b[0m\u001b[0;34m(\u001b[0m\u001b[0mX\u001b[0m\u001b[0;34m,\u001b[0m \u001b[0my\u001b[0m\u001b[0;34m,\u001b[0m \u001b[0;34m**\u001b[0m\u001b[0mcheck_params\u001b[0m\u001b[0;34m)\u001b[0m\u001b[0;34m\u001b[0m\u001b[0;34m\u001b[0m\u001b[0m\n\u001b[0m\u001b[1;32m    433\u001b[0m             \u001b[0mout\u001b[0m \u001b[0;34m=\u001b[0m \u001b[0mX\u001b[0m\u001b[0;34m,\u001b[0m \u001b[0my\u001b[0m\u001b[0;34m\u001b[0m\u001b[0;34m\u001b[0m\u001b[0m\n\u001b[1;32m    434\u001b[0m \u001b[0;34m\u001b[0m\u001b[0m\n",
      "\u001b[0;32m/opt/anaconda3/lib/python3.8/site-packages/sklearn/utils/validation.py\u001b[0m in \u001b[0;36minner_f\u001b[0;34m(*args, **kwargs)\u001b[0m\n\u001b[1;32m     71\u001b[0m                           FutureWarning)\n\u001b[1;32m     72\u001b[0m         \u001b[0mkwargs\u001b[0m\u001b[0;34m.\u001b[0m\u001b[0mupdate\u001b[0m\u001b[0;34m(\u001b[0m\u001b[0;34m{\u001b[0m\u001b[0mk\u001b[0m\u001b[0;34m:\u001b[0m \u001b[0marg\u001b[0m \u001b[0;32mfor\u001b[0m \u001b[0mk\u001b[0m\u001b[0;34m,\u001b[0m \u001b[0marg\u001b[0m \u001b[0;32min\u001b[0m \u001b[0mzip\u001b[0m\u001b[0;34m(\u001b[0m\u001b[0msig\u001b[0m\u001b[0;34m.\u001b[0m\u001b[0mparameters\u001b[0m\u001b[0;34m,\u001b[0m \u001b[0margs\u001b[0m\u001b[0;34m)\u001b[0m\u001b[0;34m}\u001b[0m\u001b[0;34m)\u001b[0m\u001b[0;34m\u001b[0m\u001b[0;34m\u001b[0m\u001b[0m\n\u001b[0;32m---> 73\u001b[0;31m         \u001b[0;32mreturn\u001b[0m \u001b[0mf\u001b[0m\u001b[0;34m(\u001b[0m\u001b[0;34m**\u001b[0m\u001b[0mkwargs\u001b[0m\u001b[0;34m)\u001b[0m\u001b[0;34m\u001b[0m\u001b[0;34m\u001b[0m\u001b[0m\n\u001b[0m\u001b[1;32m     74\u001b[0m     \u001b[0;32mreturn\u001b[0m \u001b[0minner_f\u001b[0m\u001b[0;34m\u001b[0m\u001b[0;34m\u001b[0m\u001b[0m\n\u001b[1;32m     75\u001b[0m \u001b[0;34m\u001b[0m\u001b[0m\n",
      "\u001b[0;32m/opt/anaconda3/lib/python3.8/site-packages/sklearn/utils/validation.py\u001b[0m in \u001b[0;36mcheck_X_y\u001b[0;34m(X, y, accept_sparse, accept_large_sparse, dtype, order, copy, force_all_finite, ensure_2d, allow_nd, multi_output, ensure_min_samples, ensure_min_features, y_numeric, estimator)\u001b[0m\n\u001b[1;32m    803\u001b[0m                     estimator=estimator)\n\u001b[1;32m    804\u001b[0m     \u001b[0;32mif\u001b[0m \u001b[0mmulti_output\u001b[0m\u001b[0;34m:\u001b[0m\u001b[0;34m\u001b[0m\u001b[0;34m\u001b[0m\u001b[0m\n\u001b[0;32m--> 805\u001b[0;31m         y = check_array(y, accept_sparse='csr', force_all_finite=True,\n\u001b[0m\u001b[1;32m    806\u001b[0m                         ensure_2d=False, dtype=None)\n\u001b[1;32m    807\u001b[0m     \u001b[0;32melse\u001b[0m\u001b[0;34m:\u001b[0m\u001b[0;34m\u001b[0m\u001b[0;34m\u001b[0m\u001b[0m\n",
      "\u001b[0;32m/opt/anaconda3/lib/python3.8/site-packages/sklearn/utils/validation.py\u001b[0m in \u001b[0;36minner_f\u001b[0;34m(*args, **kwargs)\u001b[0m\n\u001b[1;32m     71\u001b[0m                           FutureWarning)\n\u001b[1;32m     72\u001b[0m         \u001b[0mkwargs\u001b[0m\u001b[0;34m.\u001b[0m\u001b[0mupdate\u001b[0m\u001b[0;34m(\u001b[0m\u001b[0;34m{\u001b[0m\u001b[0mk\u001b[0m\u001b[0;34m:\u001b[0m \u001b[0marg\u001b[0m \u001b[0;32mfor\u001b[0m \u001b[0mk\u001b[0m\u001b[0;34m,\u001b[0m \u001b[0marg\u001b[0m \u001b[0;32min\u001b[0m \u001b[0mzip\u001b[0m\u001b[0;34m(\u001b[0m\u001b[0msig\u001b[0m\u001b[0;34m.\u001b[0m\u001b[0mparameters\u001b[0m\u001b[0;34m,\u001b[0m \u001b[0margs\u001b[0m\u001b[0;34m)\u001b[0m\u001b[0;34m}\u001b[0m\u001b[0;34m)\u001b[0m\u001b[0;34m\u001b[0m\u001b[0;34m\u001b[0m\u001b[0m\n\u001b[0;32m---> 73\u001b[0;31m         \u001b[0;32mreturn\u001b[0m \u001b[0mf\u001b[0m\u001b[0;34m(\u001b[0m\u001b[0;34m**\u001b[0m\u001b[0mkwargs\u001b[0m\u001b[0;34m)\u001b[0m\u001b[0;34m\u001b[0m\u001b[0;34m\u001b[0m\u001b[0m\n\u001b[0m\u001b[1;32m     74\u001b[0m     \u001b[0;32mreturn\u001b[0m \u001b[0minner_f\u001b[0m\u001b[0;34m\u001b[0m\u001b[0;34m\u001b[0m\u001b[0m\n\u001b[1;32m     75\u001b[0m \u001b[0;34m\u001b[0m\u001b[0m\n",
      "\u001b[0;32m/opt/anaconda3/lib/python3.8/site-packages/sklearn/utils/validation.py\u001b[0m in \u001b[0;36mcheck_array\u001b[0;34m(array, accept_sparse, accept_large_sparse, dtype, order, copy, force_all_finite, ensure_2d, allow_nd, ensure_min_samples, ensure_min_features, estimator)\u001b[0m\n\u001b[1;32m    643\u001b[0m \u001b[0;34m\u001b[0m\u001b[0m\n\u001b[1;32m    644\u001b[0m         \u001b[0;32mif\u001b[0m \u001b[0mforce_all_finite\u001b[0m\u001b[0;34m:\u001b[0m\u001b[0;34m\u001b[0m\u001b[0;34m\u001b[0m\u001b[0m\n\u001b[0;32m--> 645\u001b[0;31m             _assert_all_finite(array,\n\u001b[0m\u001b[1;32m    646\u001b[0m                                allow_nan=force_all_finite == 'allow-nan')\n\u001b[1;32m    647\u001b[0m \u001b[0;34m\u001b[0m\u001b[0m\n",
      "\u001b[0;32m/opt/anaconda3/lib/python3.8/site-packages/sklearn/utils/validation.py\u001b[0m in \u001b[0;36m_assert_all_finite\u001b[0;34m(X, allow_nan, msg_dtype)\u001b[0m\n\u001b[1;32m     95\u001b[0m                 not allow_nan and not np.isfinite(X).all()):\n\u001b[1;32m     96\u001b[0m             \u001b[0mtype_err\u001b[0m \u001b[0;34m=\u001b[0m \u001b[0;34m'infinity'\u001b[0m \u001b[0;32mif\u001b[0m \u001b[0mallow_nan\u001b[0m \u001b[0;32melse\u001b[0m \u001b[0;34m'NaN, infinity'\u001b[0m\u001b[0;34m\u001b[0m\u001b[0;34m\u001b[0m\u001b[0m\n\u001b[0;32m---> 97\u001b[0;31m             raise ValueError(\n\u001b[0m\u001b[1;32m     98\u001b[0m                     \u001b[0mmsg_err\u001b[0m\u001b[0;34m.\u001b[0m\u001b[0mformat\u001b[0m\u001b[0;34m\u001b[0m\u001b[0;34m\u001b[0m\u001b[0m\n\u001b[1;32m     99\u001b[0m                     (type_err,\n",
      "\u001b[0;31mValueError\u001b[0m: Input contains NaN, infinity or a value too large for dtype('float64')."
     ]
    }
   ],
   "source": [
    "y = np.asarray(cog1_rs['MMSE result']).reshape(-1, 1)\n",
    "    #df[['date']]=pd.to_datetime(df[['date']])\n",
    "X = np.asarray(cog1_rs['time_diff']).reshape(-1, 1)\n",
    "\n",
    "#X=np.array([1,2,3,4])\n",
    "#y=np.array([1,2,3,4])\n",
    "regr.fit(X, y)"
   ]
  },
  {
   "cell_type": "code",
   "execution_count": 145,
   "metadata": {},
   "outputs": [
    {
     "data": {
      "text/html": [
       "<div>\n",
       "<style scoped>\n",
       "    .dataframe tbody tr th:only-of-type {\n",
       "        vertical-align: middle;\n",
       "    }\n",
       "\n",
       "    .dataframe tbody tr th {\n",
       "        vertical-align: top;\n",
       "    }\n",
       "\n",
       "    .dataframe thead th {\n",
       "        text-align: right;\n",
       "    }\n",
       "</style>\n",
       "<table border=\"1\" class=\"dataframe\">\n",
       "  <thead>\n",
       "    <tr style=\"text-align: right;\">\n",
       "      <th></th>\n",
       "      <th>SYDID</th>\n",
       "      <th>user_interc</th>\n",
       "      <th>user_coef</th>\n",
       "      <th>recs</th>\n",
       "    </tr>\n",
       "  </thead>\n",
       "  <tbody>\n",
       "    <tr>\n",
       "      <th>0</th>\n",
       "      <td>PD_00001_DA</td>\n",
       "      <td>28.672355751706817</td>\n",
       "      <td>-0.0045608764023881325</td>\n",
       "      <td>7</td>\n",
       "    </tr>\n",
       "    <tr>\n",
       "      <th>1</th>\n",
       "      <td>PD_00002_MW</td>\n",
       "      <td>27.568587516352608</td>\n",
       "      <td>-0.0005857801124135145</td>\n",
       "      <td>5</td>\n",
       "    </tr>\n",
       "    <tr>\n",
       "      <th>2</th>\n",
       "      <td>PD_00004_AW</td>\n",
       "      <td>29.654073199527744</td>\n",
       "      <td>-0.00040123229043683583</td>\n",
       "      <td>8</td>\n",
       "    </tr>\n",
       "    <tr>\n",
       "      <th>3</th>\n",
       "      <td>PD_00008_BM</td>\n",
       "      <td>28.159404479240198</td>\n",
       "      <td>0.003553551947635243</td>\n",
       "      <td>9</td>\n",
       "    </tr>\n",
       "    <tr>\n",
       "      <th>4</th>\n",
       "      <td>PD_00009_RP</td>\n",
       "      <td>30.0</td>\n",
       "      <td>-0.001587301587301587</td>\n",
       "      <td>2</td>\n",
       "    </tr>\n",
       "    <tr>\n",
       "      <th>5</th>\n",
       "      <td>PD_00011_BN</td>\n",
       "      <td>29.0</td>\n",
       "      <td>0.0</td>\n",
       "      <td>1</td>\n",
       "    </tr>\n",
       "    <tr>\n",
       "      <th>6</th>\n",
       "      <td>PD_00012_CA</td>\n",
       "      <td>30.0</td>\n",
       "      <td>-0.0008605851979345954</td>\n",
       "      <td>2</td>\n",
       "    </tr>\n",
       "    <tr>\n",
       "      <th>7</th>\n",
       "      <td>PD_00013_TO</td>\n",
       "      <td>29.25815716841018</td>\n",
       "      <td>-0.0018631416814967464</td>\n",
       "      <td>6</td>\n",
       "    </tr>\n",
       "    <tr>\n",
       "      <th>8</th>\n",
       "      <td>PD_00014_CI</td>\n",
       "      <td>26.0</td>\n",
       "      <td>0.0</td>\n",
       "      <td>1</td>\n",
       "    </tr>\n",
       "    <tr>\n",
       "      <th>9</th>\n",
       "      <td>PD_00015_AB</td>\n",
       "      <td>29.405240488155062</td>\n",
       "      <td>-0.0044610809147779705</td>\n",
       "      <td>4</td>\n",
       "    </tr>\n",
       "    <tr>\n",
       "      <th>10</th>\n",
       "      <td>PD_00017_RE</td>\n",
       "      <td>28.471016686086738</td>\n",
       "      <td>-0.0016123966791683363</td>\n",
       "      <td>5</td>\n",
       "    </tr>\n",
       "    <tr>\n",
       "      <th>11</th>\n",
       "      <td>PD_00019_FM</td>\n",
       "      <td>25.195092648214036</td>\n",
       "      <td>-0.005129152996626772</td>\n",
       "      <td>4</td>\n",
       "    </tr>\n",
       "    <tr>\n",
       "      <th>12</th>\n",
       "      <td>PD_00021_GB</td>\n",
       "      <td>27.791467741449146</td>\n",
       "      <td>-0.002467510277104923</td>\n",
       "      <td>3</td>\n",
       "    </tr>\n",
       "    <tr>\n",
       "      <th>13</th>\n",
       "      <td>PD_00022_SB</td>\n",
       "      <td>28.61153304965501</td>\n",
       "      <td>0.0016705375760760846</td>\n",
       "      <td>7</td>\n",
       "    </tr>\n",
       "    <tr>\n",
       "      <th>14</th>\n",
       "      <td>PD_00024_DY</td>\n",
       "      <td>29.0</td>\n",
       "      <td>0.0</td>\n",
       "      <td>1</td>\n",
       "    </tr>\n",
       "    <tr>\n",
       "      <th>15</th>\n",
       "      <td>PD_00025_SM</td>\n",
       "      <td>29.897503929238354</td>\n",
       "      <td>-0.0012052878388064117</td>\n",
       "      <td>10</td>\n",
       "    </tr>\n",
       "    <tr>\n",
       "      <th>16</th>\n",
       "      <td>PD_00026_BH</td>\n",
       "      <td>30.25872464827334</td>\n",
       "      <td>-0.00279293153402417</td>\n",
       "      <td>3</td>\n",
       "    </tr>\n",
       "    <tr>\n",
       "      <th>17</th>\n",
       "      <td>PD_00027_KH</td>\n",
       "      <td>29.072293718075322</td>\n",
       "      <td>-0.0004913915767753986</td>\n",
       "      <td>8</td>\n",
       "    </tr>\n",
       "    <tr>\n",
       "      <th>18</th>\n",
       "      <td>PD_00028_BP</td>\n",
       "      <td>29.892083644510826</td>\n",
       "      <td>-0.002779852294415401</td>\n",
       "      <td>3</td>\n",
       "    </tr>\n",
       "    <tr>\n",
       "      <th>19</th>\n",
       "      <td>PD_00029_JF</td>\n",
       "      <td>30.0</td>\n",
       "      <td>0.0</td>\n",
       "      <td>3</td>\n",
       "    </tr>\n",
       "    <tr>\n",
       "      <th>20</th>\n",
       "      <td>PD_00030_SG</td>\n",
       "      <td>30.0</td>\n",
       "      <td>0.0</td>\n",
       "      <td>2</td>\n",
       "    </tr>\n",
       "    <tr>\n",
       "      <th>21</th>\n",
       "      <td>PD_00031_GR</td>\n",
       "      <td>29.967498776527542</td>\n",
       "      <td>-0.000890898097241623</td>\n",
       "      <td>4</td>\n",
       "    </tr>\n",
       "    <tr>\n",
       "      <th>22</th>\n",
       "      <td>PD_00032_RC</td>\n",
       "      <td>27.675426269362028</td>\n",
       "      <td>-0.0010002610431129612</td>\n",
       "      <td>4</td>\n",
       "    </tr>\n",
       "    <tr>\n",
       "      <th>23</th>\n",
       "      <td>PD_00034_EJ</td>\n",
       "      <td>29.125903120529138</td>\n",
       "      <td>-0.00024380929614472647</td>\n",
       "      <td>5</td>\n",
       "    </tr>\n",
       "    <tr>\n",
       "      <th>24</th>\n",
       "      <td>PD_00035_BP</td>\n",
       "      <td>29.834259260712788</td>\n",
       "      <td>0.00010831702037144887</td>\n",
       "      <td>8</td>\n",
       "    </tr>\n",
       "    <tr>\n",
       "      <th>25</th>\n",
       "      <td>PD_00037_JC</td>\n",
       "      <td>28.510413308401574</td>\n",
       "      <td>0.0009349410019988395</td>\n",
       "      <td>7</td>\n",
       "    </tr>\n",
       "    <tr>\n",
       "      <th>26</th>\n",
       "      <td>PD_00038_YL</td>\n",
       "      <td>28.280440364859125</td>\n",
       "      <td>0.0003871166061843237</td>\n",
       "      <td>6</td>\n",
       "    </tr>\n",
       "    <tr>\n",
       "      <th>27</th>\n",
       "      <td>PD_00040_DK</td>\n",
       "      <td>28.26923361170645</td>\n",
       "      <td>-0.0031145412122427873</td>\n",
       "      <td>4</td>\n",
       "    </tr>\n",
       "    <tr>\n",
       "      <th>28</th>\n",
       "      <td>PD_00042_BD</td>\n",
       "      <td>30.037476261085917</td>\n",
       "      <td>-0.0010126798208991796</td>\n",
       "      <td>6</td>\n",
       "    </tr>\n",
       "    <tr>\n",
       "      <th>29</th>\n",
       "      <td>PD_00043_SG</td>\n",
       "      <td>29.28872594117819</td>\n",
       "      <td>0.00117738543765881</td>\n",
       "      <td>6</td>\n",
       "    </tr>\n",
       "    <tr>\n",
       "      <th>...</th>\n",
       "      <td>...</td>\n",
       "      <td>...</td>\n",
       "      <td>...</td>\n",
       "      <td>...</td>\n",
       "    </tr>\n",
       "    <tr>\n",
       "      <th>221</th>\n",
       "      <td>PD_00471_CS</td>\n",
       "      <td>29.0</td>\n",
       "      <td>0.0</td>\n",
       "      <td>1</td>\n",
       "    </tr>\n",
       "    <tr>\n",
       "      <th>222</th>\n",
       "      <td>PD_00473_DP</td>\n",
       "      <td>27.82422054048729</td>\n",
       "      <td>0.005073482025944811</td>\n",
       "      <td>4</td>\n",
       "    </tr>\n",
       "    <tr>\n",
       "      <th>223</th>\n",
       "      <td>PD_00478_ND</td>\n",
       "      <td>30.0</td>\n",
       "      <td>0.0</td>\n",
       "      <td>1</td>\n",
       "    </tr>\n",
       "    <tr>\n",
       "      <th>224</th>\n",
       "      <td>PD_00481_JC</td>\n",
       "      <td>30.0</td>\n",
       "      <td>0.0</td>\n",
       "      <td>1</td>\n",
       "    </tr>\n",
       "    <tr>\n",
       "      <th>225</th>\n",
       "      <td>PD_00482_OG</td>\n",
       "      <td>28.0</td>\n",
       "      <td>0.0</td>\n",
       "      <td>2</td>\n",
       "    </tr>\n",
       "    <tr>\n",
       "      <th>226</th>\n",
       "      <td>PD_00483_HB</td>\n",
       "      <td>29.0</td>\n",
       "      <td>0.0</td>\n",
       "      <td>1</td>\n",
       "    </tr>\n",
       "    <tr>\n",
       "      <th>227</th>\n",
       "      <td>PD_00486_AH</td>\n",
       "      <td>26.83366582363652</td>\n",
       "      <td>0.0014681709393638018</td>\n",
       "      <td>3</td>\n",
       "    </tr>\n",
       "    <tr>\n",
       "      <th>228</th>\n",
       "      <td>PD_00489_MW</td>\n",
       "      <td>27.0</td>\n",
       "      <td>0.0009596928982725526</td>\n",
       "      <td>2</td>\n",
       "    </tr>\n",
       "    <tr>\n",
       "      <th>229</th>\n",
       "      <td>PD_00491_ES</td>\n",
       "      <td>27.0</td>\n",
       "      <td>0.0</td>\n",
       "      <td>1</td>\n",
       "    </tr>\n",
       "    <tr>\n",
       "      <th>230</th>\n",
       "      <td>PD_00494_RG</td>\n",
       "      <td>26.01044249098922</td>\n",
       "      <td>0.002595560679372539</td>\n",
       "      <td>4</td>\n",
       "    </tr>\n",
       "    <tr>\n",
       "      <th>231</th>\n",
       "      <td>PD_00496_JB</td>\n",
       "      <td>28.88527390718943</td>\n",
       "      <td>-0.0009543641046503133</td>\n",
       "      <td>3</td>\n",
       "    </tr>\n",
       "    <tr>\n",
       "      <th>232</th>\n",
       "      <td>PD_00500_RS</td>\n",
       "      <td>28.0</td>\n",
       "      <td>0.0011299435028248586</td>\n",
       "      <td>2</td>\n",
       "    </tr>\n",
       "    <tr>\n",
       "      <th>233</th>\n",
       "      <td>PD_00502_DN</td>\n",
       "      <td>28.038406827880515</td>\n",
       "      <td>0.002540134119081489</td>\n",
       "      <td>3</td>\n",
       "    </tr>\n",
       "    <tr>\n",
       "      <th>234</th>\n",
       "      <td>PD_00510_RC</td>\n",
       "      <td>29.0</td>\n",
       "      <td>0.0</td>\n",
       "      <td>1</td>\n",
       "    </tr>\n",
       "    <tr>\n",
       "      <th>235</th>\n",
       "      <td>PD_00513_RE</td>\n",
       "      <td>29.54835843191205</td>\n",
       "      <td>0.0004265921926248261</td>\n",
       "      <td>3</td>\n",
       "    </tr>\n",
       "    <tr>\n",
       "      <th>236</th>\n",
       "      <td>PD_00518_JB</td>\n",
       "      <td>30.649518176324506</td>\n",
       "      <td>-0.020506207151077538</td>\n",
       "      <td>5</td>\n",
       "    </tr>\n",
       "    <tr>\n",
       "      <th>237</th>\n",
       "      <td>PD_00519_UV</td>\n",
       "      <td>29.0</td>\n",
       "      <td>0.0</td>\n",
       "      <td>1</td>\n",
       "    </tr>\n",
       "    <tr>\n",
       "      <th>238</th>\n",
       "      <td>PD_00527_MS</td>\n",
       "      <td>30.005963355957558</td>\n",
       "      <td>-0.0010178900678726695</td>\n",
       "      <td>3</td>\n",
       "    </tr>\n",
       "    <tr>\n",
       "      <th>239</th>\n",
       "      <td>PD_00534_SE</td>\n",
       "      <td>26.938055001606283</td>\n",
       "      <td>0.005161325518102523</td>\n",
       "      <td>3</td>\n",
       "    </tr>\n",
       "    <tr>\n",
       "      <th>240</th>\n",
       "      <td>PD_00538_HF</td>\n",
       "      <td>28.040532413621705</td>\n",
       "      <td>-0.0006072535142745606</td>\n",
       "      <td>3</td>\n",
       "    </tr>\n",
       "    <tr>\n",
       "      <th>241</th>\n",
       "      <td>PD_00539_MR</td>\n",
       "      <td>29.0</td>\n",
       "      <td>0.0011627906976744184</td>\n",
       "      <td>2</td>\n",
       "    </tr>\n",
       "    <tr>\n",
       "      <th>242</th>\n",
       "      <td>PD_00541_PB</td>\n",
       "      <td>27.0</td>\n",
       "      <td>0.0</td>\n",
       "      <td>2</td>\n",
       "    </tr>\n",
       "    <tr>\n",
       "      <th>243</th>\n",
       "      <td>PD_00544_JC</td>\n",
       "      <td>30.0</td>\n",
       "      <td>-0.0014903129657228016</td>\n",
       "      <td>2</td>\n",
       "    </tr>\n",
       "    <tr>\n",
       "      <th>244</th>\n",
       "      <td>PD_00547_CM</td>\n",
       "      <td>28.0</td>\n",
       "      <td>0.0</td>\n",
       "      <td>1</td>\n",
       "    </tr>\n",
       "    <tr>\n",
       "      <th>245</th>\n",
       "      <td>PD_00553_KM</td>\n",
       "      <td>29.0</td>\n",
       "      <td>0.0</td>\n",
       "      <td>2</td>\n",
       "    </tr>\n",
       "    <tr>\n",
       "      <th>246</th>\n",
       "      <td>PD_00555_PH</td>\n",
       "      <td>25.0</td>\n",
       "      <td>-0.0023310023310023306</td>\n",
       "      <td>2</td>\n",
       "    </tr>\n",
       "    <tr>\n",
       "      <th>247</th>\n",
       "      <td>PD_00557_DC</td>\n",
       "      <td>26.0</td>\n",
       "      <td>0.0</td>\n",
       "      <td>1</td>\n",
       "    </tr>\n",
       "    <tr>\n",
       "      <th>248</th>\n",
       "      <td>PD_00563_JH</td>\n",
       "      <td>26.0</td>\n",
       "      <td>0.010869565217391302</td>\n",
       "      <td>2</td>\n",
       "    </tr>\n",
       "    <tr>\n",
       "      <th>249</th>\n",
       "      <td>PD_00568_MB</td>\n",
       "      <td>30.0</td>\n",
       "      <td>0.0</td>\n",
       "      <td>2</td>\n",
       "    </tr>\n",
       "    <tr>\n",
       "      <th>250</th>\n",
       "      <td>PD_00583_KC</td>\n",
       "      <td>30.0</td>\n",
       "      <td>0.0</td>\n",
       "      <td>2</td>\n",
       "    </tr>\n",
       "  </tbody>\n",
       "</table>\n",
       "<p>251 rows × 4 columns</p>\n",
       "</div>"
      ],
      "text/plain": [
       "           SYDID         user_interc                user_coef  recs\n",
       "0    PD_00001_DA  28.672355751706817   -0.0045608764023881325     7\n",
       "1    PD_00002_MW  27.568587516352608   -0.0005857801124135145     5\n",
       "2    PD_00004_AW  29.654073199527744  -0.00040123229043683583     8\n",
       "3    PD_00008_BM  28.159404479240198     0.003553551947635243     9\n",
       "4    PD_00009_RP                30.0    -0.001587301587301587     2\n",
       "5    PD_00011_BN                29.0                      0.0     1\n",
       "6    PD_00012_CA                30.0   -0.0008605851979345954     2\n",
       "7    PD_00013_TO   29.25815716841018   -0.0018631416814967464     6\n",
       "8    PD_00014_CI                26.0                      0.0     1\n",
       "9    PD_00015_AB  29.405240488155062   -0.0044610809147779705     4\n",
       "10   PD_00017_RE  28.471016686086738   -0.0016123966791683363     5\n",
       "11   PD_00019_FM  25.195092648214036    -0.005129152996626772     4\n",
       "12   PD_00021_GB  27.791467741449146    -0.002467510277104923     3\n",
       "13   PD_00022_SB   28.61153304965501    0.0016705375760760846     7\n",
       "14   PD_00024_DY                29.0                      0.0     1\n",
       "15   PD_00025_SM  29.897503929238354   -0.0012052878388064117    10\n",
       "16   PD_00026_BH   30.25872464827334     -0.00279293153402417     3\n",
       "17   PD_00027_KH  29.072293718075322   -0.0004913915767753986     8\n",
       "18   PD_00028_BP  29.892083644510826    -0.002779852294415401     3\n",
       "19   PD_00029_JF                30.0                      0.0     3\n",
       "20   PD_00030_SG                30.0                      0.0     2\n",
       "21   PD_00031_GR  29.967498776527542    -0.000890898097241623     4\n",
       "22   PD_00032_RC  27.675426269362028   -0.0010002610431129612     4\n",
       "23   PD_00034_EJ  29.125903120529138  -0.00024380929614472647     5\n",
       "24   PD_00035_BP  29.834259260712788   0.00010831702037144887     8\n",
       "25   PD_00037_JC  28.510413308401574    0.0009349410019988395     7\n",
       "26   PD_00038_YL  28.280440364859125    0.0003871166061843237     6\n",
       "27   PD_00040_DK   28.26923361170645   -0.0031145412122427873     4\n",
       "28   PD_00042_BD  30.037476261085917   -0.0010126798208991796     6\n",
       "29   PD_00043_SG   29.28872594117819      0.00117738543765881     6\n",
       "..           ...                 ...                      ...   ...\n",
       "221  PD_00471_CS                29.0                      0.0     1\n",
       "222  PD_00473_DP   27.82422054048729     0.005073482025944811     4\n",
       "223  PD_00478_ND                30.0                      0.0     1\n",
       "224  PD_00481_JC                30.0                      0.0     1\n",
       "225  PD_00482_OG                28.0                      0.0     2\n",
       "226  PD_00483_HB                29.0                      0.0     1\n",
       "227  PD_00486_AH   26.83366582363652    0.0014681709393638018     3\n",
       "228  PD_00489_MW                27.0    0.0009596928982725526     2\n",
       "229  PD_00491_ES                27.0                      0.0     1\n",
       "230  PD_00494_RG   26.01044249098922     0.002595560679372539     4\n",
       "231  PD_00496_JB   28.88527390718943   -0.0009543641046503133     3\n",
       "232  PD_00500_RS                28.0    0.0011299435028248586     2\n",
       "233  PD_00502_DN  28.038406827880515     0.002540134119081489     3\n",
       "234  PD_00510_RC                29.0                      0.0     1\n",
       "235  PD_00513_RE   29.54835843191205    0.0004265921926248261     3\n",
       "236  PD_00518_JB  30.649518176324506    -0.020506207151077538     5\n",
       "237  PD_00519_UV                29.0                      0.0     1\n",
       "238  PD_00527_MS  30.005963355957558   -0.0010178900678726695     3\n",
       "239  PD_00534_SE  26.938055001606283     0.005161325518102523     3\n",
       "240  PD_00538_HF  28.040532413621705   -0.0006072535142745606     3\n",
       "241  PD_00539_MR                29.0    0.0011627906976744184     2\n",
       "242  PD_00541_PB                27.0                      0.0     2\n",
       "243  PD_00544_JC                30.0   -0.0014903129657228016     2\n",
       "244  PD_00547_CM                28.0                      0.0     1\n",
       "245  PD_00553_KM                29.0                      0.0     2\n",
       "246  PD_00555_PH                25.0   -0.0023310023310023306     2\n",
       "247  PD_00557_DC                26.0                      0.0     1\n",
       "248  PD_00563_JH                26.0     0.010869565217391302     2\n",
       "249  PD_00568_MB                30.0                      0.0     2\n",
       "250  PD_00583_KC                30.0                      0.0     2\n",
       "\n",
       "[251 rows x 4 columns]"
      ]
     },
     "execution_count": 145,
     "metadata": {},
     "output_type": "execute_result"
    }
   ],
   "source": [
    "#X=np.array(cog1_rs['time_diff'])\n",
    "#y=np.array(cog1_rs['MMSE result'])\n",
    "from sklearn import linear_model\n",
    "regr = linear_model.LinearRegression()\n",
    "\n",
    "cog1_rschk=cog1_rs[pd.notnull(cog1_rs['MMSE result'])&pd.notnull(cog1_rs['time_diff'])]\n",
    "def interc(df):\n",
    "    y = np.asarray(df['MMSE result']).reshape(-1, 1)\n",
    "    #df[['date']]=pd.to_datetime(df[['date']])\n",
    "    X = np.asarray(df['time_diff']).reshape(-1, 1)\n",
    "    return np.squeeze(regr.fit(X, y).intercept_)\n",
    "\n",
    "def coef(df):\n",
    "    y = np.asarray(df['MMSE result']).reshape(-1, 1)\n",
    "    #df[['date']]=pd.to_datetime(df[['date']])\n",
    "    X = np.asarray(df['time_diff']).reshape(-1, 1)\n",
    "    return np.squeeze(regr.fit(X, y).coef_)\n",
    "\n",
    "\n",
    "df_user_recs=pd.DataFrame(cog1_rschk.groupby('SYDID').size()).reset_index()\n",
    "df_user_recs.columns=['SYDID','recs']\n",
    "df_user=pd.DataFrame(cog1_rschk.groupby('SYDID').apply(interc)).reset_index()\n",
    "df_user.columns=['SYDID','user_interc']\n",
    "df_user_coef=pd.DataFrame(cog1_rschk.groupby('SYDID').apply(coef)).reset_index()\n",
    "df_user_coef.columns=['SYDID','user_coef']\n",
    "df_user=pd.merge(df_user,df_user_coef,how='left',on='SYDID')\n",
    "df_user=pd.merge(df_user,df_user_recs,how='left',on='SYDID')\n",
    "df_user"
   ]
  },
  {
   "cell_type": "code",
   "execution_count": 141,
   "metadata": {},
   "outputs": [
    {
     "data": {
      "text/plain": [
       "SYDID\n",
       "PD_00001_DA     [28.672355751706817, -0.0045608764023881325]\n",
       "PD_00002_MW     [27.568587516352608, -0.0005857801124135145]\n",
       "PD_00004_AW    [29.654073199527744, -0.00040123229043683583]\n",
       "PD_00008_BM       [28.159404479240198, 0.003553551947635243]\n",
       "PD_00009_RP                    [30.0, -0.001587301587301587]\n",
       "PD_00011_BN                                      [29.0, 0.0]\n",
       "PD_00012_CA                   [30.0, -0.0008605851979345954]\n",
       "PD_00013_TO      [29.25815716841018, -0.0018631416814967464]\n",
       "PD_00014_CI                                      [26.0, 0.0]\n",
       "PD_00015_AB     [29.405240488155062, -0.0044610809147779705]\n",
       "PD_00017_RE     [28.471016686086738, -0.0016123966791683363]\n",
       "PD_00019_FM      [25.195092648214036, -0.005129152996626772]\n",
       "PD_00021_GB      [27.791467741449146, -0.002467510277104923]\n",
       "PD_00022_SB       [28.61153304965501, 0.0016705375760760846]\n",
       "PD_00024_DY                                      [29.0, 0.0]\n",
       "PD_00025_SM     [29.897503929238354, -0.0012052878388064117]\n",
       "PD_00026_BH        [30.25872464827334, -0.00279293153402417]\n",
       "PD_00027_KH     [29.072293718075322, -0.0004913915767753986]\n",
       "PD_00028_BP      [29.892083644510826, -0.002779852294415401]\n",
       "PD_00029_JF                                      [30.0, 0.0]\n",
       "PD_00030_SG                                      [30.0, 0.0]\n",
       "PD_00031_GR      [29.967498776527542, -0.000890898097241623]\n",
       "PD_00032_RC     [27.675426269362028, -0.0010002610431129612]\n",
       "PD_00034_EJ    [29.125903120529138, -0.00024380929614472647]\n",
       "PD_00035_BP     [29.834259260712788, 0.00010831702037144887]\n",
       "PD_00037_JC      [28.510413308401574, 0.0009349410019988395]\n",
       "PD_00038_YL      [28.280440364859125, 0.0003871166061843237]\n",
       "PD_00040_DK      [28.26923361170645, -0.0031145412122427873]\n",
       "PD_00042_BD     [30.037476261085917, -0.0010126798208991796]\n",
       "PD_00043_SG         [29.28872594117819, 0.00117738543765881]\n",
       "                                   ...                      \n",
       "PD_00471_CS                                      [29.0, 0.0]\n",
       "PD_00473_DP        [27.82422054048729, 0.005073482025944811]\n",
       "PD_00478_ND                                      [30.0, 0.0]\n",
       "PD_00481_JC                                      [30.0, 0.0]\n",
       "PD_00482_OG                                      [28.0, 0.0]\n",
       "PD_00483_HB                                      [29.0, 0.0]\n",
       "PD_00486_AH       [26.83366582363652, 0.0014681709393638018]\n",
       "PD_00489_MW                    [27.0, 0.0009596928982725526]\n",
       "PD_00491_ES                                      [27.0, 0.0]\n",
       "PD_00494_RG        [26.01044249098922, 0.002595560679372539]\n",
       "PD_00496_JB      [28.88527390718943, -0.0009543641046503133]\n",
       "PD_00500_RS                    [28.0, 0.0011299435028248586]\n",
       "PD_00502_DN       [28.038406827880515, 0.002540134119081489]\n",
       "PD_00510_RC                                      [29.0, 0.0]\n",
       "PD_00513_RE       [29.54835843191205, 0.0004265921926248261]\n",
       "PD_00518_JB      [30.649518176324506, -0.020506207151077538]\n",
       "PD_00519_UV                                      [29.0, 0.0]\n",
       "PD_00527_MS     [30.005963355957558, -0.0010178900678726695]\n",
       "PD_00534_SE       [26.938055001606283, 0.005161325518102523]\n",
       "PD_00538_HF     [28.040532413621705, -0.0006072535142745606]\n",
       "PD_00539_MR                    [29.0, 0.0011627906976744184]\n",
       "PD_00541_PB                                      [27.0, 0.0]\n",
       "PD_00544_JC                   [30.0, -0.0014903129657228016]\n",
       "PD_00547_CM                                      [28.0, 0.0]\n",
       "PD_00553_KM                                      [29.0, 0.0]\n",
       "PD_00555_PH                   [25.0, -0.0023310023310023306]\n",
       "PD_00557_DC                                      [26.0, 0.0]\n",
       "PD_00563_JH                     [26.0, 0.010869565217391302]\n",
       "PD_00568_MB                                      [30.0, 0.0]\n",
       "PD_00583_KC                                      [30.0, 0.0]\n",
       "Length: 251, dtype: object"
      ]
     },
     "execution_count": 141,
     "metadata": {},
     "output_type": "execute_result"
    }
   ],
   "source": [
    "cog1_rschk.groupby('SYDID').apply(interc)"
   ]
  },
  {
   "cell_type": "code",
   "execution_count": null,
   "metadata": {},
   "outputs": [],
   "source": [
    "#for i,m in enumerate(cog1_rs['SYDID']):\n",
    " #   X=np.array(cog1_rs['time_diff'][(cog1_rs['SYDID']==m)])\n",
    " #   y=np.array(cog1_rs['MMSE result'][(cog1_rs['SYDID']==m)])\n",
    "    "
   ]
  },
  {
   "cell_type": "code",
   "execution_count": null,
   "metadata": {},
   "outputs": [],
   "source": [
    "def model(df, delta,val):\n",
    "    y = df[[val]].values\n",
    "    X = df[['date_diff']].values\n",
    "    return np.squeeze(LinearRegression().fit(X, y).predict(delta))\n",
    "\n",
    "def group_predictions(df, date):\n",
    "    date = pd.to_datetime(date)\n",
    "    df.date = pd.to_datetime(df.date)\n",
    "\n",
    "    day = np.timedelta64(1, 'D')\n",
    "    mn = df.date.min()\n",
    "    df['date_delta'] = df.date.sub(mn).div(day)\n",
    "\n",
    "    dd = (date - mn) / day\n",
    "\n",
    "    return df.groupby('group').apply(model, delta=dd)"
   ]
  },
  {
   "cell_type": "code",
   "execution_count": null,
   "metadata": {},
   "outputs": [],
   "source": [
    "'MMSE result'"
   ]
  },
  {
   "cell_type": "markdown",
   "metadata": {},
   "source": [
    "#### Derivation of key UDPRS variables"
   ]
  },
  {
   "cell_type": "code",
   "execution_count": 64,
   "metadata": {},
   "outputs": [
    {
     "name": "stderr",
     "output_type": "stream",
     "text": [
      "<ipython-input-64-ec9af83dddf1>:16: SettingWithCopyWarning: \n",
      "A value is trying to be set on a copy of a slice from a DataFrame.\n",
      "Try using .loc[row_indexer,col_indexer] = value instead\n",
      "\n",
      "See the caveats in the documentation: http://pandas.pydata.org/pandas-docs/stable/indexing.html#indexing-view-versus-copy\n",
      "  UDPRS2_rs2['Date of assessment']=pd.to_datetime(UDPRS2_rs2['Date of assessment'])\n",
      "<ipython-input-64-ec9af83dddf1>:21: SettingWithCopyWarning: \n",
      "A value is trying to be set on a copy of a slice from a DataFrame.\n",
      "Try using .loc[row_indexer,col_indexer] = value instead\n",
      "\n",
      "See the caveats in the documentation: http://pandas.pydata.org/pandas-docs/stable/indexing.html#indexing-view-versus-copy\n",
      "  UDPRS2_rs2['non_tremor']=UDPRS2_rs2[['28 Facial expression', '29 Rigidity Neck',\n",
      "<ipython-input-64-ec9af83dddf1>:30: SettingWithCopyWarning: \n",
      "A value is trying to be set on a copy of a slice from a DataFrame.\n",
      "Try using .loc[row_indexer,col_indexer] = value instead\n",
      "\n",
      "See the caveats in the documentation: http://pandas.pydata.org/pandas-docs/stable/indexing.html#indexing-view-versus-copy\n",
      "  UDPRS2_rs2['Tremor']=UDPRS2_rs2[['23 ADL Tremor','54 Rest tremorAmplitude Right Arm', '55 Rest tremorAmplitude Left Arm',\n",
      "<ipython-input-64-ec9af83dddf1>:35: SettingWithCopyWarning: \n",
      "A value is trying to be set on a copy of a slice from a DataFrame.\n",
      "Try using .loc[row_indexer,col_indexer] = value instead\n",
      "\n",
      "See the caveats in the documentation: http://pandas.pydata.org/pandas-docs/stable/indexing.html#indexing-view-versus-copy\n",
      "  UDPRS2_rs2['UDPRS_Tot']=UDPRS2_rs2[['Section I Total', 'Section II Total','Section III Total', 'Section IV Total']].sum(axis=1)\n"
     ]
    }
   ],
   "source": [
    "UDPRS2_rs2=UDPRS2_rs[['SYDID','Date of assessment','23 ADL Tremor',\n",
    "                                '28 Facial expression', '29 Rigidity Neck',\n",
    "       '30 Rigidity Right Arm', '31 Rigidity Left Arm',\n",
    "       '32 Rigidity Right Leg', '33 Rigidity Left Leg',\n",
    "       '34 Finger tapping Right', '35 Finger tapping Left',\n",
    "       '36 Hand Movements Right', '37 Hand Movements Left',\n",
    "       '38 Pronation supination Right', '39 Pronation supination Left',\n",
    "        '40 Toe tapping Right', '41 Toe tapping Left',\n",
    "       '42 Leg agility Right', '43 Leg agility Left', '44 Arising from chair','54 Rest tremorAmplitude Right Arm', '55 Rest tremorAmplitude Left Arm',\n",
    "       '56 Rest tremorAmplitude Right Leg', '57 Rest tremorAmplitude Left Leg',\n",
    "       '57a Rest Tremor Amplitude Jaw/Lip', '58 Constancy of Rest Tremor','Section I Total', 'Section II Total',\n",
    "       'Section III Total', 'Section IV Total']].dropna()\n",
    "\n",
    "\n",
    "UDPRS2_rs2=UDPRS2_rs[(UDPRS2_rs['Date of assessment']!=\"No data\")&pd.notnull(UDPRS2_rs['Date of assessment'])]\n",
    "UDPRS2_rs2['Date of assessment']=pd.to_datetime(UDPRS2_rs2['Date of assessment'])\n",
    "maxudprs=pd.DataFrame(UDPRS2_rs2.groupby('SYDID')['Date of assessment'].max()).reset_index()\n",
    "maxudprs.columns=['SYDID','Date of assessment']\n",
    "\n",
    "\n",
    "\n",
    "\n",
    "UDPRS2_rs2['UDPRS_Tot']=UDPRS2_rs2[['Section I Total', 'Section II Total','Section III Total', 'Section IV Total']].sum(axis=1)\n",
    "\n",
    "UDPRS2_rs2=UDPRS2_rs2[(UDPRS2_rs2['Date Diagnosed']!=\"Missing\")]\n",
    "UDPRS2_rs2['Date Diagnosed']=pd.to_datetime(UDPRS2_rs2['Date Diagnosed'])\n",
    "\n",
    "UDPRS2_rs2['Time Since Diagnosis']=(UDPRS2_rs2['Date of assessment']-UDPRS2_rs2['Date Diagnosed']).dt.days\n",
    "UDPRS2_rs2['Age_days']=(UDPRS2_rs2['Date of assessment']-UDPRS2_rs2['Birth_date']).dt.days\n",
    "UDPRS2_rs2['Age_diag_days']=(UDPRS2_rs2['Date Diagnosed']-UDPRS2_rs2['Birth_date']).dt.days\n",
    "UDPRS2_rs2['Age']=UDPRS2_rs2['Age_days']/365.25\n",
    "UDPRS2_rs2['Age_diag']=UDPRS2_rs2['Age_diag_days']/365.25\n",
    "\n",
    "UDPRS2_rs2['Progression_Score']=UDPRS2_rs2['UDPRS_Tot']/UDPRS2_rs2['Time Since Diagnosis']\n",
    "UDPRS2_rs2['Tremor_Score']=UDPRS2_rs2['Tremor']/UDPRS2_rs2['UDPRS_Tot']\n",
    "\n",
    "\n",
    "UDPRS2_rs3=pd.merge(UDPRS2_rs2,maxudprs,on=['SYDID','Date of assessment'],how='inner')\n"
   ]
  },
  {
   "cell_type": "code",
   "execution_count": 61,
   "metadata": {},
   "outputs": [],
   "source": [
    "#ax = sns.boxplot(x=\"Princ_Diag\", y=\"Age_diag\", data=UDPRS2_rs2, whis=np.inf)\n",
    "#ax = sns.swarmplot(x=\"Princ_Diag\", y=\"Age_diag\", data=UDPRS2_rs2, color=\".2\")\n",
    "#plt.show()"
   ]
  },
  {
   "cell_type": "markdown",
   "metadata": {},
   "source": [
    "#### Export datasets for Tableau Analysis"
   ]
  },
  {
   "cell_type": "code",
   "execution_count": 79,
   "metadata": {},
   "outputs": [],
   "source": [
    "exp_dfs=[UDPRS2_rs2,UDPRS2_rs3,UDPRS_rs,cog1_rs,PSYCHQ_rs,RBDQ_rs,BDI_rs,SCOPAS_rs,SCOPAPC_rs,ESS_rs,MOCA_rs,FOGQ_rs,Smell_rs]\n",
    "exp_dfs_name=[\"UDPRS2_rs2.csv\",\"UDPRS2_rs3.csv\",\"UDPRS_rs.csv\",\"cog1_rs.csv\",\"PSYCHQ_rs.csv\",\"RBDQ_rs.csv\",\"BDI_rs.csv\",\"SCOPAS_rs.csv\",\n",
    "             \"SCOPAPC_rs.csv\",\"ESS_rs.csv\",\"MOCA_rs.csv\",\"FOGQ_rs.csv\",\"Smell_rs.csv\"]\n",
    "for i,d in enumerate(exp_dfs):\n",
    "    d.to_csv('%s%s' % (loc,exp_dfs_name[i]))"
   ]
  },
  {
   "cell_type": "markdown",
   "metadata": {},
   "source": [
    "#### Clustering"
   ]
  },
  {
   "cell_type": "code",
   "execution_count": 38,
   "metadata": {},
   "outputs": [
    {
     "data": {
      "text/plain": [
       "array([[2.22192392e-02, 3.67968765e-02, 5.13975324e+01],\n",
       "       [5.65605519e-02, 5.59961871e-02, 6.81938144e+01]])"
      ]
     },
     "execution_count": 38,
     "metadata": {},
     "output_type": "execute_result"
    }
   ],
   "source": [
    "from sklearn.cluster import KMeans\n",
    "kmeans = KMeans(n_clusters=2, random_state=0).fit(UDPRS2_rs2[['Progression_Score','Tremor_Score','Age_diag']].dropna())\n",
    "kmeans.labels_\n",
    "\n",
    "#kmeans.predict([[0, 0], [12, 3]])\n",
    "\n",
    "kmeans.cluster_centers_\n"
   ]
  },
  {
   "cell_type": "code",
   "execution_count": 44,
   "metadata": {},
   "outputs": [
    {
     "data": {
      "text/plain": [
       "Index(['1 Cognitive impairment', '10 Urinary problems',\n",
       "       '11 Constipation problems', '12 Light headedness on standing',\n",
       "       '13 Fatigue', '14 ADL Speech', '15 ADL Saliva and drooling',\n",
       "       '16 ADL Chewing and swallowing', '17 ADL Eating tasks',\n",
       "       '18 ADL Dressing', '19 ADL Hygiene', '2 Hallucinations and Psychosis',\n",
       "       '20 ADL Handwriting', '21 ADL Hobbies', '22 ADL Turning in bed',\n",
       "       '23 ADL Tremor', '24 ADL Getting out of bed',\n",
       "       '25 ADL Walking and balance', '26 ADL Freezing', '27 Motor speech',\n",
       "       '28 Facial expression', '29 Rigidity Neck', '3 Depressed mood',\n",
       "       '30 Rigidity Right Arm', '31 Rigidity Left Arm',\n",
       "       '32 Rigidity Right Leg', '33 Rigidity Left Leg',\n",
       "       '34 Finger tapping Right', '35 Finger tapping Left',\n",
       "       '36 Hand Movements Right', '37 Hand Movements Left',\n",
       "       '38 Pronation supination Right', '39 Pronation supination Left',\n",
       "       '4 Anxious mood', '40 Toe tapping Right', '41 Toe tapping Left',\n",
       "       '42 Leg agility Right', '43 Leg agility Left', '44 Arising from chair',\n",
       "       '45 Gait', '46 Freezing of gait', '47 Postural stability', '48 Posture',\n",
       "       '49 Global spontaneity of movement', '5 Apathy',\n",
       "       '50 Postural tremor Right Arm', '51 Postural tremor Left Arm',\n",
       "       '52 Kinetic tremor Right Hand', '53 Kinetic tremor Left Hand',\n",
       "       '54 Rest tremorAmplitude Right Arm', '55 Rest tremorAmplitude Left Arm',\n",
       "       '56 Rest tremorAmplitude Right Leg', '57 Rest tremorAmplitude Left Leg',\n",
       "       '57a Rest Tremor Amplitude Jaw/Lip', '58 Constancy of Rest Tremor',\n",
       "       '6 Features of DDS', '7 Sleep problems', '8 Daytime sleepiness',\n",
       "       '9 Pain and other sensations', 'Clinical state', 'DDE',\n",
       "       'Date of assessment', 'Dyskinesias interfered with rating',\n",
       "       'Dyskinesias present', 'Filling in questionnaire',\n",
       "       'Functional impact of Dyskinesia', 'Functional impact of Fluctuations',\n",
       "       'Hoehn and Yahr', 'Minutes since last dose', 'On L-dopa',\n",
       "       'On medication', 'Painful Off Dystonias',\n",
       "       'Predictability of fluctuations', 'SYDID', 'Scwab and Eng (rater)',\n",
       "       'Scwab and Eng (subject)', 'Section I Total', 'Section II Total',\n",
       "       'Section III Total', 'Section IV Total', 'Source', 'Time spent in Off',\n",
       "       'Time spent with Dyskinesia', 'Timed hand tapping test-right', 'index',\n",
       "       'time_point', 'Gend', 'Birth_date', 'Princ_Diag', 'Date Diagnosed',\n",
       "       'non_tremor', 'Tremor', 'UDPRS_Tot', 'Time Since Diagnosis', 'Age_days',\n",
       "       'Age_diag_days', 'Age', 'Age_diag', 'Progression_Score',\n",
       "       'Tremor_Score'],\n",
       "      dtype='object')"
      ]
     },
     "execution_count": 44,
     "metadata": {},
     "output_type": "execute_result"
    }
   ],
   "source": [
    "UDPRS2_rs2.columns"
   ]
  },
  {
   "cell_type": "code",
   "execution_count": 45,
   "metadata": {},
   "outputs": [
    {
     "data": {
      "image/png": "[encoded data removed]",
      "text/plain": [
       "<Figure size 432x288 with 1 Axes>"
      ]
     },
     "metadata": {
      "needs_background": "light"
     },
     "output_type": "display_data"
    }
   ],
   "source": [
    "#3 Using the elbow method to find out the optimal number of #clusters. \n",
    "#KMeans class from the sklearn library.\n"
   ]
  },
  {
   "cell_type": "code",
   "execution_count": 46,
   "metadata": {},
   "outputs": [],
   "source": []
  },
  {
   "cell_type": "code",
   "execution_count": 47,
   "metadata": {},
   "outputs": [
    {
     "data": {
      "text/plain": [
       "0.5620166251901644"
      ]
     },
     "execution_count": 47,
     "metadata": {},
     "output_type": "execute_result"
    }
   ],
   "source": []
  },
  {
   "cell_type": "code",
   "execution_count": 90,
   "metadata": {},
   "outputs": [
    {
     "data": {
      "text/plain": [
       "<matplotlib.collections.PathCollection at 0x132d99f40>"
      ]
     },
     "execution_count": 90,
     "metadata": {},
     "output_type": "execute_result"
    },
    {
     "data": {
      "image/png": "[encoded data removed]",
      "text/plain": [
       "<Figure size 432x288 with 1 Axes>"
      ]
     },
     "metadata": {
      "needs_background": "light"
     },
     "output_type": "display_data"
    }
   ],
   "source": []
  },
  {
   "cell_type": "code",
   "execution_count": null,
   "metadata": {},
   "outputs": [],
   "source": [
    "#rate of disease progression\n",
    "['Section I Total', 'Section II Total',\n",
    "       'Section III Total', 'Section IV Total']"
   ]
  },
  {
   "cell_type": "code",
   "execution_count": 45,
   "metadata": {},
   "outputs": [
    {
     "data": {
      "text/html": [
       "<div>\n",
       "<style scoped>\n",
       "    .dataframe tbody tr th:only-of-type {\n",
       "        vertical-align: middle;\n",
       "    }\n",
       "\n",
       "    .dataframe tbody tr th {\n",
       "        vertical-align: top;\n",
       "    }\n",
       "\n",
       "    .dataframe thead th {\n",
       "        text-align: right;\n",
       "    }\n",
       "</style>\n",
       "<table border=\"1\" class=\"dataframe\">\n",
       "  <thead>\n",
       "    <tr style=\"text-align: right;\">\n",
       "      <th></th>\n",
       "      <th>SYDID</th>\n",
       "      <th>Date/time</th>\n",
       "      <th>MoCA Total</th>\n",
       "    </tr>\n",
       "  </thead>\n",
       "  <tbody>\n",
       "    <tr>\n",
       "      <th>251</th>\n",
       "      <td>PD_00001_DA</td>\n",
       "      <td>2014-06-17 00:00:00</td>\n",
       "      <td>24.0</td>\n",
       "    </tr>\n",
       "    <tr>\n",
       "      <th>502</th>\n",
       "      <td>PD_00001_DA</td>\n",
       "      <td>2015-08-26 00:00:00</td>\n",
       "      <td>20.0</td>\n",
       "    </tr>\n",
       "    <tr>\n",
       "      <th>753</th>\n",
       "      <td>PD_00001_DA</td>\n",
       "      <td>2017-01-16 00:00:00</td>\n",
       "      <td>27.0</td>\n",
       "    </tr>\n",
       "    <tr>\n",
       "      <th>1004</th>\n",
       "      <td>PD_00001_DA</td>\n",
       "      <td>2018-10-17 00:00:00</td>\n",
       "      <td>18.0</td>\n",
       "    </tr>\n",
       "    <tr>\n",
       "      <th>1255</th>\n",
       "      <td>PD_00001_DA</td>\n",
       "      <td>2019-07-10 00:00:00</td>\n",
       "      <td>26.0</td>\n",
       "    </tr>\n",
       "  </tbody>\n",
       "</table>\n",
       "</div>"
      ],
      "text/plain": [
       "            SYDID            Date/time  MoCA Total\n",
       "251   PD_00001_DA  2014-06-17 00:00:00        24.0\n",
       "502   PD_00001_DA  2015-08-26 00:00:00        20.0\n",
       "753   PD_00001_DA  2017-01-16 00:00:00        27.0\n",
       "1004  PD_00001_DA  2018-10-17 00:00:00        18.0\n",
       "1255  PD_00001_DA  2019-07-10 00:00:00        26.0"
      ]
     },
     "execution_count": 45,
     "metadata": {},
     "output_type": "execute_result"
    }
   ],
   "source": [
    "MOCA_rs[['SYDID','Date/time','MoCA Total']][pd.notnull(MOCA_rs['SYDID'])&pd.notnull(MOCA_rs['Date/time'])].sort_values(by=['SYDID','Date/time']).head(5)"
   ]
  },
  {
   "cell_type": "code",
   "execution_count": 47,
   "metadata": {},
   "outputs": [
    {
     "data": {
      "text/html": [
       "<div>\n",
       "<style scoped>\n",
       "    .dataframe tbody tr th:only-of-type {\n",
       "        vertical-align: middle;\n",
       "    }\n",
       "\n",
       "    .dataframe tbody tr th {\n",
       "        vertical-align: top;\n",
       "    }\n",
       "\n",
       "    .dataframe thead th {\n",
       "        text-align: right;\n",
       "    }\n",
       "</style>\n",
       "<table border=\"1\" class=\"dataframe\">\n",
       "  <thead>\n",
       "    <tr style=\"text-align: right;\">\n",
       "      <th></th>\n",
       "      <th>SYDID</th>\n",
       "      <th>Date FOGQ</th>\n",
       "      <th>FOGQ Total</th>\n",
       "    </tr>\n",
       "  </thead>\n",
       "  <tbody>\n",
       "    <tr>\n",
       "      <th>251</th>\n",
       "      <td>PD_00001_DA</td>\n",
       "      <td>2010-02-16 00:00:00</td>\n",
       "      <td>3.0</td>\n",
       "    </tr>\n",
       "    <tr>\n",
       "      <th>502</th>\n",
       "      <td>PD_00001_DA</td>\n",
       "      <td>2015-08-26 00:00:00</td>\n",
       "      <td>2.0</td>\n",
       "    </tr>\n",
       "    <tr>\n",
       "      <th>753</th>\n",
       "      <td>PD_00001_DA</td>\n",
       "      <td>2017-05-01 00:00:00</td>\n",
       "      <td>2.0</td>\n",
       "    </tr>\n",
       "    <tr>\n",
       "      <th>252</th>\n",
       "      <td>PD_00002_MW</td>\n",
       "      <td>2010-03-23 00:00:00</td>\n",
       "      <td>0.0</td>\n",
       "    </tr>\n",
       "    <tr>\n",
       "      <th>1005</th>\n",
       "      <td>PD_00002_MW</td>\n",
       "      <td>2011-10-25 00:00:00</td>\n",
       "      <td>12.0</td>\n",
       "    </tr>\n",
       "  </tbody>\n",
       "</table>\n",
       "</div>"
      ],
      "text/plain": [
       "            SYDID            Date FOGQ  FOGQ Total\n",
       "251   PD_00001_DA  2010-02-16 00:00:00         3.0\n",
       "502   PD_00001_DA  2015-08-26 00:00:00         2.0\n",
       "753   PD_00001_DA  2017-05-01 00:00:00         2.0\n",
       "252   PD_00002_MW  2010-03-23 00:00:00         0.0\n",
       "1005  PD_00002_MW  2011-10-25 00:00:00        12.0"
      ]
     },
     "execution_count": 47,
     "metadata": {},
     "output_type": "execute_result"
    }
   ],
   "source": [
    "FOGQ_rs[['SYDID','Date FOGQ','FOGQ Total']][pd.notnull(FOGQ_rs['SYDID'])&pd.notnull(FOGQ_rs['Date FOGQ'])].sort_values(by=['SYDID','Date FOGQ']).head(5)"
   ]
  },
  {
   "cell_type": "code",
   "execution_count": 41,
   "metadata": {},
   "outputs": [
    {
     "data": {
      "text/html": [
       "<div>\n",
       "<style scoped>\n",
       "    .dataframe tbody tr th:only-of-type {\n",
       "        vertical-align: middle;\n",
       "    }\n",
       "\n",
       "    .dataframe tbody tr th {\n",
       "        vertical-align: top;\n",
       "    }\n",
       "\n",
       "    .dataframe thead th {\n",
       "        text-align: right;\n",
       "    }\n",
       "</style>\n",
       "<table border=\"1\" class=\"dataframe\">\n",
       "  <thead>\n",
       "    <tr style=\"text-align: right;\">\n",
       "      <th></th>\n",
       "      <th>SYDID</th>\n",
       "      <th>Date/time</th>\n",
       "    </tr>\n",
       "  </thead>\n",
       "  <tbody>\n",
       "    <tr>\n",
       "      <th>753</th>\n",
       "      <td>PD_00001_DA</td>\n",
       "      <td>2013-05-28</td>\n",
       "    </tr>\n",
       "    <tr>\n",
       "      <th>251</th>\n",
       "      <td>PD_00001_DA</td>\n",
       "      <td>2014-06-17</td>\n",
       "    </tr>\n",
       "    <tr>\n",
       "      <th>1004</th>\n",
       "      <td>PD_00001_DA</td>\n",
       "      <td>2015-08-26</td>\n",
       "    </tr>\n",
       "    <tr>\n",
       "      <th>502</th>\n",
       "      <td>PD_00001_DA</td>\n",
       "      <td>2017-01-16</td>\n",
       "    </tr>\n",
       "    <tr>\n",
       "      <th>1255</th>\n",
       "      <td>PD_00001_DA</td>\n",
       "      <td>2018-10-17</td>\n",
       "    </tr>\n",
       "    <tr>\n",
       "      <th>252</th>\n",
       "      <td>PD_00002_MW</td>\n",
       "      <td>2012-10-16</td>\n",
       "    </tr>\n",
       "    <tr>\n",
       "      <th>253</th>\n",
       "      <td>PD_00004_AW</td>\n",
       "      <td>2012-02-21</td>\n",
       "    </tr>\n",
       "    <tr>\n",
       "      <th>1006</th>\n",
       "      <td>PD_00004_AW</td>\n",
       "      <td>2013-02-12</td>\n",
       "    </tr>\n",
       "    <tr>\n",
       "      <th>755</th>\n",
       "      <td>PD_00004_AW</td>\n",
       "      <td>2015-09-14</td>\n",
       "    </tr>\n",
       "    <tr>\n",
       "      <th>504</th>\n",
       "      <td>PD_00004_AW</td>\n",
       "      <td>2017-04-03</td>\n",
       "    </tr>\n",
       "    <tr>\n",
       "      <th>505</th>\n",
       "      <td>PD_00008_BM</td>\n",
       "      <td>2012-05-29</td>\n",
       "    </tr>\n",
       "    <tr>\n",
       "      <th>1007</th>\n",
       "      <td>PD_00008_BM</td>\n",
       "      <td>2014-11-03</td>\n",
       "    </tr>\n",
       "    <tr>\n",
       "      <th>756</th>\n",
       "      <td>PD_00008_BM</td>\n",
       "      <td>2016-02-08</td>\n",
       "    </tr>\n",
       "    <tr>\n",
       "      <th>254</th>\n",
       "      <td>PD_00008_BM</td>\n",
       "      <td>2017-07-10</td>\n",
       "    </tr>\n",
       "    <tr>\n",
       "      <th>1258</th>\n",
       "      <td>PD_00008_BM</td>\n",
       "      <td>2018-07-18</td>\n",
       "    </tr>\n",
       "    <tr>\n",
       "      <th>258</th>\n",
       "      <td>PD_00013_TO</td>\n",
       "      <td>2013-05-14</td>\n",
       "    </tr>\n",
       "    <tr>\n",
       "      <th>509</th>\n",
       "      <td>PD_00013_TO</td>\n",
       "      <td>2018-07-04</td>\n",
       "    </tr>\n",
       "    <tr>\n",
       "      <th>261</th>\n",
       "      <td>PD_00017_RE</td>\n",
       "      <td>2012-08-21</td>\n",
       "    </tr>\n",
       "    <tr>\n",
       "      <th>512</th>\n",
       "      <td>PD_00017_RE</td>\n",
       "      <td>2016-05-09</td>\n",
       "    </tr>\n",
       "    <tr>\n",
       "      <th>763</th>\n",
       "      <td>PD_00017_RE</td>\n",
       "      <td>2017-03-13</td>\n",
       "    </tr>\n",
       "    <tr>\n",
       "      <th>1017</th>\n",
       "      <td>PD_00022_SB</td>\n",
       "      <td>2011-07-19</td>\n",
       "    </tr>\n",
       "    <tr>\n",
       "      <th>515</th>\n",
       "      <td>PD_00022_SB</td>\n",
       "      <td>2012-08-07</td>\n",
       "    </tr>\n",
       "    <tr>\n",
       "      <th>264</th>\n",
       "      <td>PD_00022_SB</td>\n",
       "      <td>2016-07-18</td>\n",
       "    </tr>\n",
       "    <tr>\n",
       "      <th>766</th>\n",
       "      <td>PD_00022_SB</td>\n",
       "      <td>2017-07-24</td>\n",
       "    </tr>\n",
       "    <tr>\n",
       "      <th>1270</th>\n",
       "      <td>PD_00025_SM</td>\n",
       "      <td>2012-02-07</td>\n",
       "    </tr>\n",
       "    <tr>\n",
       "      <th>768</th>\n",
       "      <td>PD_00025_SM</td>\n",
       "      <td>2013-02-05</td>\n",
       "    </tr>\n",
       "    <tr>\n",
       "      <th>1019</th>\n",
       "      <td>PD_00025_SM</td>\n",
       "      <td>2014-02-11</td>\n",
       "    </tr>\n",
       "    <tr>\n",
       "      <th>517</th>\n",
       "      <td>PD_00025_SM</td>\n",
       "      <td>2015-01-19</td>\n",
       "    </tr>\n",
       "    <tr>\n",
       "      <th>266</th>\n",
       "      <td>PD_00025_SM</td>\n",
       "      <td>2016-01-11</td>\n",
       "    </tr>\n",
       "    <tr>\n",
       "      <th>1521</th>\n",
       "      <td>PD_00025_SM</td>\n",
       "      <td>2016-01-11</td>\n",
       "    </tr>\n",
       "    <tr>\n",
       "      <th>...</th>\n",
       "      <td>...</td>\n",
       "      <td>...</td>\n",
       "    </tr>\n",
       "    <tr>\n",
       "      <th>1224</th>\n",
       "      <td>PD_00469_LB</td>\n",
       "      <td>2017-01-23</td>\n",
       "    </tr>\n",
       "    <tr>\n",
       "      <th>1475</th>\n",
       "      <td>PD_00469_LB</td>\n",
       "      <td>2018-02-28</td>\n",
       "    </tr>\n",
       "    <tr>\n",
       "      <th>473</th>\n",
       "      <td>PD_00473_DP</td>\n",
       "      <td>2012-03-06</td>\n",
       "    </tr>\n",
       "    <tr>\n",
       "      <th>724</th>\n",
       "      <td>PD_00473_DP</td>\n",
       "      <td>2014-07-28</td>\n",
       "    </tr>\n",
       "    <tr>\n",
       "      <th>476</th>\n",
       "      <td>PD_00482_OG</td>\n",
       "      <td>2013-04-23</td>\n",
       "    </tr>\n",
       "    <tr>\n",
       "      <th>729</th>\n",
       "      <td>PD_00486_AH</td>\n",
       "      <td>2014-03-11</td>\n",
       "    </tr>\n",
       "    <tr>\n",
       "      <th>478</th>\n",
       "      <td>PD_00486_AH</td>\n",
       "      <td>2015-02-23</td>\n",
       "    </tr>\n",
       "    <tr>\n",
       "      <th>983</th>\n",
       "      <td>PD_00494_RG</td>\n",
       "      <td>2012-03-06</td>\n",
       "    </tr>\n",
       "    <tr>\n",
       "      <th>732</th>\n",
       "      <td>PD_00494_RG</td>\n",
       "      <td>2013-03-05</td>\n",
       "    </tr>\n",
       "    <tr>\n",
       "      <th>481</th>\n",
       "      <td>PD_00494_RG</td>\n",
       "      <td>2016-05-09</td>\n",
       "    </tr>\n",
       "    <tr>\n",
       "      <th>733</th>\n",
       "      <td>PD_00496_JB</td>\n",
       "      <td>2016-02-22</td>\n",
       "    </tr>\n",
       "    <tr>\n",
       "      <th>482</th>\n",
       "      <td>PD_00496_JB</td>\n",
       "      <td>2017-02-27</td>\n",
       "    </tr>\n",
       "    <tr>\n",
       "      <th>483</th>\n",
       "      <td>PD_00500_RS</td>\n",
       "      <td>2012-04-24</td>\n",
       "    </tr>\n",
       "    <tr>\n",
       "      <th>484</th>\n",
       "      <td>PD_00502_DN</td>\n",
       "      <td>2013-06-04</td>\n",
       "    </tr>\n",
       "    <tr>\n",
       "      <th>735</th>\n",
       "      <td>PD_00502_DN</td>\n",
       "      <td>2014-06-17</td>\n",
       "    </tr>\n",
       "    <tr>\n",
       "      <th>486</th>\n",
       "      <td>PD_00513_RE</td>\n",
       "      <td>2014-04-15</td>\n",
       "    </tr>\n",
       "    <tr>\n",
       "      <th>738</th>\n",
       "      <td>PD_00518_JB</td>\n",
       "      <td>2012-07-10</td>\n",
       "    </tr>\n",
       "    <tr>\n",
       "      <th>989</th>\n",
       "      <td>PD_00518_JB</td>\n",
       "      <td>2013-07-02</td>\n",
       "    </tr>\n",
       "    <tr>\n",
       "      <th>487</th>\n",
       "      <td>PD_00518_JB</td>\n",
       "      <td>2014-10-13</td>\n",
       "    </tr>\n",
       "    <tr>\n",
       "      <th>740</th>\n",
       "      <td>PD_00527_MS</td>\n",
       "      <td>2012-11-13</td>\n",
       "    </tr>\n",
       "    <tr>\n",
       "      <th>489</th>\n",
       "      <td>PD_00527_MS</td>\n",
       "      <td>2015-08-10</td>\n",
       "    </tr>\n",
       "    <tr>\n",
       "      <th>490</th>\n",
       "      <td>PD_00534_SE</td>\n",
       "      <td>2013-10-01</td>\n",
       "    </tr>\n",
       "    <tr>\n",
       "      <th>491</th>\n",
       "      <td>PD_00538_HF</td>\n",
       "      <td>2012-09-25</td>\n",
       "    </tr>\n",
       "    <tr>\n",
       "      <th>742</th>\n",
       "      <td>PD_00538_HF</td>\n",
       "      <td>2017-10-16</td>\n",
       "    </tr>\n",
       "    <tr>\n",
       "      <th>492</th>\n",
       "      <td>PD_00539_MR</td>\n",
       "      <td>2015-02-02</td>\n",
       "    </tr>\n",
       "    <tr>\n",
       "      <th>493</th>\n",
       "      <td>PD_00541_PB</td>\n",
       "      <td>2017-04-24</td>\n",
       "    </tr>\n",
       "    <tr>\n",
       "      <th>494</th>\n",
       "      <td>PD_00544_JC</td>\n",
       "      <td>2014-07-14</td>\n",
       "    </tr>\n",
       "    <tr>\n",
       "      <th>496</th>\n",
       "      <td>PD_00553_KM</td>\n",
       "      <td>2012-10-16</td>\n",
       "    </tr>\n",
       "    <tr>\n",
       "      <th>497</th>\n",
       "      <td>PD_00555_PH</td>\n",
       "      <td>2016-05-30</td>\n",
       "    </tr>\n",
       "    <tr>\n",
       "      <th>500</th>\n",
       "      <td>PD_00568_MB</td>\n",
       "      <td>2017-09-27</td>\n",
       "    </tr>\n",
       "  </tbody>\n",
       "</table>\n",
       "<p>263 rows × 2 columns</p>\n",
       "</div>"
      ],
      "text/plain": [
       "            SYDID  Date/time\n",
       "753   PD_00001_DA 2013-05-28\n",
       "251   PD_00001_DA 2014-06-17\n",
       "1004  PD_00001_DA 2015-08-26\n",
       "502   PD_00001_DA 2017-01-16\n",
       "1255  PD_00001_DA 2018-10-17\n",
       "252   PD_00002_MW 2012-10-16\n",
       "253   PD_00004_AW 2012-02-21\n",
       "1006  PD_00004_AW 2013-02-12\n",
       "755   PD_00004_AW 2015-09-14\n",
       "504   PD_00004_AW 2017-04-03\n",
       "505   PD_00008_BM 2012-05-29\n",
       "1007  PD_00008_BM 2014-11-03\n",
       "756   PD_00008_BM 2016-02-08\n",
       "254   PD_00008_BM 2017-07-10\n",
       "1258  PD_00008_BM 2018-07-18\n",
       "258   PD_00013_TO 2013-05-14\n",
       "509   PD_00013_TO 2018-07-04\n",
       "261   PD_00017_RE 2012-08-21\n",
       "512   PD_00017_RE 2016-05-09\n",
       "763   PD_00017_RE 2017-03-13\n",
       "1017  PD_00022_SB 2011-07-19\n",
       "515   PD_00022_SB 2012-08-07\n",
       "264   PD_00022_SB 2016-07-18\n",
       "766   PD_00022_SB 2017-07-24\n",
       "1270  PD_00025_SM 2012-02-07\n",
       "768   PD_00025_SM 2013-02-05\n",
       "1019  PD_00025_SM 2014-02-11\n",
       "517   PD_00025_SM 2015-01-19\n",
       "266   PD_00025_SM 2016-01-11\n",
       "1521  PD_00025_SM 2016-01-11\n",
       "...           ...        ...\n",
       "1224  PD_00469_LB 2017-01-23\n",
       "1475  PD_00469_LB 2018-02-28\n",
       "473   PD_00473_DP 2012-03-06\n",
       "724   PD_00473_DP 2014-07-28\n",
       "476   PD_00482_OG 2013-04-23\n",
       "729   PD_00486_AH 2014-03-11\n",
       "478   PD_00486_AH 2015-02-23\n",
       "983   PD_00494_RG 2012-03-06\n",
       "732   PD_00494_RG 2013-03-05\n",
       "481   PD_00494_RG 2016-05-09\n",
       "733   PD_00496_JB 2016-02-22\n",
       "482   PD_00496_JB 2017-02-27\n",
       "483   PD_00500_RS 2012-04-24\n",
       "484   PD_00502_DN 2013-06-04\n",
       "735   PD_00502_DN 2014-06-17\n",
       "486   PD_00513_RE 2014-04-15\n",
       "738   PD_00518_JB 2012-07-10\n",
       "989   PD_00518_JB 2013-07-02\n",
       "487   PD_00518_JB 2014-10-13\n",
       "740   PD_00527_MS 2012-11-13\n",
       "489   PD_00527_MS 2015-08-10\n",
       "490   PD_00534_SE 2013-10-01\n",
       "491   PD_00538_HF 2012-09-25\n",
       "742   PD_00538_HF 2017-10-16\n",
       "492   PD_00539_MR 2015-02-02\n",
       "493   PD_00541_PB 2017-04-24\n",
       "494   PD_00544_JC 2014-07-14\n",
       "496   PD_00553_KM 2012-10-16\n",
       "497   PD_00555_PH 2016-05-30\n",
       "500   PD_00568_MB 2017-09-27\n",
       "\n",
       "[263 rows x 2 columns]"
      ]
     },
     "execution_count": 41,
     "metadata": {},
     "output_type": "execute_result"
    }
   ],
   "source": [
    "Smell_rs[['SYDID','Date/time']][pd.notnull(Smell_rs['SYDID'])&pd.notnull(Smell_rs['Date/time'])].sort_values(by=['SYDID','Date/time'])"
   ]
  },
  {
   "cell_type": "code",
   "execution_count": 13,
   "metadata": {},
   "outputs": [
    {
     "name": "stderr",
     "output_type": "stream",
     "text": [
      "<ipython-input-4-758f679da655>:7: SettingWithCopyWarning: \n",
      "A value is trying to be set on a copy of a slice from a DataFrame\n",
      "\n",
      "See the caveats in the documentation: http://pandas.pydata.org/pandas-docs/stable/indexing.html#indexing-view-versus-copy\n",
      "  df['Time_since_Diag'][cond]=\\\n"
     ]
    }
   ],
   "source": [
    "UDPRS_rs2=dt_check(UDPRS_rs,'Date/time',['index', 'Date/time', 'DDE', 'On/Off', '1', '2', '3', '4', '5', '6',\n",
    "       '7', '8', '9', '10', '11', '12', '13', '14', '15', '16', '17', '18',\n",
    "       '19', '20', '21', '22', '23', '24', '25', '26', '27', '28', '29', '30',\n",
    "       '31', '32', '33', '34', '35', '36', '37', '38', '39', '40', '41', '42',\n",
    "       '43', '44', 'Scwab and Eng (subject)', 'Scwab and Eng (rater)',\n",
    "       'Hoehn and Yahr', 'UPDRS-III total', 'SYDID', 'time_point', 'Gend',\n",
    "       'Birth_date', 'Princ_Diag', 'Date Diagnosed'])"
   ]
  },
  {
   "cell_type": "code",
   "execution_count": 19,
   "metadata": {},
   "outputs": [
    {
     "ename": "KeyError",
     "evalue": "\"['Time_since_Diag', 'UPDRS-III total'] not in index\"",
     "output_type": "error",
     "traceback": [
      "\u001b[0;31m---------------------------------------------------------------------------\u001b[0m",
      "\u001b[0;31mKeyError\u001b[0m                                  Traceback (most recent call last)",
      "\u001b[0;32m<ipython-input-19-3262642ec872>\u001b[0m in \u001b[0;36m<module>\u001b[0;34m\u001b[0m\n\u001b[0;32m----> 1\u001b[0;31m \u001b[0mUDPRS2_rs\u001b[0m\u001b[0;34m[\u001b[0m\u001b[0;34m[\u001b[0m\u001b[0;34m\"SYDID\"\u001b[0m\u001b[0;34m,\u001b[0m\u001b[0;34m'Time_since_Diag'\u001b[0m\u001b[0;34m,\u001b[0m\u001b[0;34m\"UPDRS-III total\"\u001b[0m\u001b[0;34m]\u001b[0m\u001b[0;34m]\u001b[0m\u001b[0;34m\u001b[0m\u001b[0;34m\u001b[0m\u001b[0m\n\u001b[0m",
      "\u001b[0;32m/opt/anaconda3/lib/python3.8/site-packages/pandas/core/frame.py\u001b[0m in \u001b[0;36m__getitem__\u001b[0;34m(self, key)\u001b[0m\n\u001b[1;32m   2931\u001b[0m             \u001b[0;32mif\u001b[0m \u001b[0mis_iterator\u001b[0m\u001b[0;34m(\u001b[0m\u001b[0mkey\u001b[0m\u001b[0;34m)\u001b[0m\u001b[0;34m:\u001b[0m\u001b[0;34m\u001b[0m\u001b[0;34m\u001b[0m\u001b[0m\n\u001b[1;32m   2932\u001b[0m                 \u001b[0mkey\u001b[0m \u001b[0;34m=\u001b[0m \u001b[0mlist\u001b[0m\u001b[0;34m(\u001b[0m\u001b[0mkey\u001b[0m\u001b[0;34m)\u001b[0m\u001b[0;34m\u001b[0m\u001b[0;34m\u001b[0m\u001b[0m\n\u001b[0;32m-> 2933\u001b[0;31m             indexer = self.loc._convert_to_indexer(key, axis=1,\n\u001b[0m\u001b[1;32m   2934\u001b[0m                                                    raise_missing=True)\n\u001b[1;32m   2935\u001b[0m \u001b[0;34m\u001b[0m\u001b[0m\n",
      "\u001b[0;32m/opt/anaconda3/lib/python3.8/site-packages/pandas/core/indexing.py\u001b[0m in \u001b[0;36m_convert_to_indexer\u001b[0;34m(self, obj, axis, is_setter, raise_missing)\u001b[0m\n\u001b[1;32m   1352\u001b[0m                 kwargs = {'raise_missing': True if is_setter else\n\u001b[1;32m   1353\u001b[0m                           raise_missing}\n\u001b[0;32m-> 1354\u001b[0;31m                 \u001b[0;32mreturn\u001b[0m \u001b[0mself\u001b[0m\u001b[0;34m.\u001b[0m\u001b[0m_get_listlike_indexer\u001b[0m\u001b[0;34m(\u001b[0m\u001b[0mobj\u001b[0m\u001b[0;34m,\u001b[0m \u001b[0maxis\u001b[0m\u001b[0;34m,\u001b[0m \u001b[0;34m**\u001b[0m\u001b[0mkwargs\u001b[0m\u001b[0;34m)\u001b[0m\u001b[0;34m[\u001b[0m\u001b[0;36m1\u001b[0m\u001b[0;34m]\u001b[0m\u001b[0;34m\u001b[0m\u001b[0;34m\u001b[0m\u001b[0m\n\u001b[0m\u001b[1;32m   1355\u001b[0m         \u001b[0;32melse\u001b[0m\u001b[0;34m:\u001b[0m\u001b[0;34m\u001b[0m\u001b[0;34m\u001b[0m\u001b[0m\n\u001b[1;32m   1356\u001b[0m             \u001b[0;32mtry\u001b[0m\u001b[0;34m:\u001b[0m\u001b[0;34m\u001b[0m\u001b[0;34m\u001b[0m\u001b[0m\n",
      "\u001b[0;32m/opt/anaconda3/lib/python3.8/site-packages/pandas/core/indexing.py\u001b[0m in \u001b[0;36m_get_listlike_indexer\u001b[0;34m(self, key, axis, raise_missing)\u001b[0m\n\u001b[1;32m   1157\u001b[0m             \u001b[0mkeyarr\u001b[0m\u001b[0;34m,\u001b[0m \u001b[0mindexer\u001b[0m\u001b[0;34m,\u001b[0m \u001b[0mnew_indexer\u001b[0m \u001b[0;34m=\u001b[0m \u001b[0max\u001b[0m\u001b[0;34m.\u001b[0m\u001b[0m_reindex_non_unique\u001b[0m\u001b[0;34m(\u001b[0m\u001b[0mkeyarr\u001b[0m\u001b[0;34m)\u001b[0m\u001b[0;34m\u001b[0m\u001b[0;34m\u001b[0m\u001b[0m\n\u001b[1;32m   1158\u001b[0m \u001b[0;34m\u001b[0m\u001b[0m\n\u001b[0;32m-> 1159\u001b[0;31m         self._validate_read_indexer(keyarr, indexer,\n\u001b[0m\u001b[1;32m   1160\u001b[0m                                     \u001b[0mo\u001b[0m\u001b[0;34m.\u001b[0m\u001b[0m_get_axis_number\u001b[0m\u001b[0;34m(\u001b[0m\u001b[0maxis\u001b[0m\u001b[0;34m)\u001b[0m\u001b[0;34m,\u001b[0m\u001b[0;34m\u001b[0m\u001b[0;34m\u001b[0m\u001b[0m\n\u001b[1;32m   1161\u001b[0m                                     raise_missing=raise_missing)\n",
      "\u001b[0;32m/opt/anaconda3/lib/python3.8/site-packages/pandas/core/indexing.py\u001b[0m in \u001b[0;36m_validate_read_indexer\u001b[0;34m(self, key, indexer, axis, raise_missing)\u001b[0m\n\u001b[1;32m   1250\u001b[0m             \u001b[0;32mif\u001b[0m \u001b[0;32mnot\u001b[0m\u001b[0;34m(\u001b[0m\u001b[0mself\u001b[0m\u001b[0;34m.\u001b[0m\u001b[0mname\u001b[0m \u001b[0;34m==\u001b[0m \u001b[0;34m'loc'\u001b[0m \u001b[0;32mand\u001b[0m \u001b[0;32mnot\u001b[0m \u001b[0mraise_missing\u001b[0m\u001b[0;34m)\u001b[0m\u001b[0;34m:\u001b[0m\u001b[0;34m\u001b[0m\u001b[0;34m\u001b[0m\u001b[0m\n\u001b[1;32m   1251\u001b[0m                 \u001b[0mnot_found\u001b[0m \u001b[0;34m=\u001b[0m \u001b[0mlist\u001b[0m\u001b[0;34m(\u001b[0m\u001b[0mset\u001b[0m\u001b[0;34m(\u001b[0m\u001b[0mkey\u001b[0m\u001b[0;34m)\u001b[0m \u001b[0;34m-\u001b[0m \u001b[0mset\u001b[0m\u001b[0;34m(\u001b[0m\u001b[0max\u001b[0m\u001b[0;34m)\u001b[0m\u001b[0;34m)\u001b[0m\u001b[0;34m\u001b[0m\u001b[0;34m\u001b[0m\u001b[0m\n\u001b[0;32m-> 1252\u001b[0;31m                 \u001b[0;32mraise\u001b[0m \u001b[0mKeyError\u001b[0m\u001b[0;34m(\u001b[0m\u001b[0;34m\"{} not in index\"\u001b[0m\u001b[0;34m.\u001b[0m\u001b[0mformat\u001b[0m\u001b[0;34m(\u001b[0m\u001b[0mnot_found\u001b[0m\u001b[0;34m)\u001b[0m\u001b[0;34m)\u001b[0m\u001b[0;34m\u001b[0m\u001b[0;34m\u001b[0m\u001b[0m\n\u001b[0m\u001b[1;32m   1253\u001b[0m \u001b[0;34m\u001b[0m\u001b[0m\n\u001b[1;32m   1254\u001b[0m             \u001b[0;31m# we skip the warning on Categorical/Interval\u001b[0m\u001b[0;34m\u001b[0m\u001b[0;34m\u001b[0m\u001b[0;34m\u001b[0m\u001b[0m\n",
      "\u001b[0;31mKeyError\u001b[0m: \"['Time_since_Diag', 'UPDRS-III total'] not in index\""
     ]
    }
   ],
   "source": [
    "UDPRS2_rs[[\"SYDID\",'Time_since_Diag',\"UPDRS-III total\"]]"
   ]
  },
  {
   "cell_type": "code",
   "execution_count": 18,
   "metadata": {},
   "outputs": [
    {
     "ename": "ValueError",
     "evalue": "Could not interpret input 'Time_since_Diag'",
     "output_type": "error",
     "traceback": [
      "\u001b[0;31m---------------------------------------------------------------------------\u001b[0m",
      "\u001b[0;31mValueError\u001b[0m                                Traceback (most recent call last)",
      "\u001b[0;32m<ipython-input-18-26cd3acbd231>\u001b[0m in \u001b[0;36m<module>\u001b[0;34m\u001b[0m\n\u001b[1;32m      1\u001b[0m \u001b[0;31m#sns.lineplot(data=UDPRS2_rs2[(UDPRS2_rs2['Time_since_Diag']<1000)], x=\"Time_since_Diag\", y='Section III Total', hue=\"SYDID\")\u001b[0m\u001b[0;34m\u001b[0m\u001b[0;34m\u001b[0m\u001b[0;34m\u001b[0m\u001b[0m\n\u001b[0;32m----> 2\u001b[0;31m \u001b[0msns\u001b[0m\u001b[0;34m.\u001b[0m\u001b[0mscatterplot\u001b[0m\u001b[0;34m(\u001b[0m\u001b[0mdata\u001b[0m\u001b[0;34m=\u001b[0m\u001b[0mUDPRS2_rs\u001b[0m\u001b[0;34m[\u001b[0m\u001b[0;34m(\u001b[0m\u001b[0mUDPRS2_rs\u001b[0m\u001b[0;34m[\u001b[0m\u001b[0;34m\"Section III Total\"\u001b[0m\u001b[0;34m]\u001b[0m\u001b[0;34m<\u001b[0m\u001b[0;36m50\u001b[0m\u001b[0;34m)\u001b[0m\u001b[0;34m]\u001b[0m\u001b[0;34m,\u001b[0m \u001b[0mx\u001b[0m\u001b[0;34m=\u001b[0m\u001b[0;34m\"Time_since_Diag\"\u001b[0m\u001b[0;34m,\u001b[0m \u001b[0my\u001b[0m\u001b[0;34m=\u001b[0m\u001b[0;34m\"Section III Total\"\u001b[0m\u001b[0;34m)\u001b[0m\u001b[0;34m\u001b[0m\u001b[0;34m\u001b[0m\u001b[0m\n\u001b[0m",
      "\u001b[0;32m/opt/anaconda3/lib/python3.8/site-packages/seaborn/relational.py\u001b[0m in \u001b[0;36mscatterplot\u001b[0;34m(x, y, hue, style, size, data, palette, hue_order, hue_norm, sizes, size_order, size_norm, markers, style_order, x_bins, y_bins, units, estimator, ci, n_boot, alpha, x_jitter, y_jitter, legend, ax, **kwargs)\u001b[0m\n\u001b[1;32m   1388\u001b[0m                 legend=\"brief\", ax=None, **kwargs):\n\u001b[1;32m   1389\u001b[0m \u001b[0;34m\u001b[0m\u001b[0m\n\u001b[0;32m-> 1390\u001b[0;31m     p = _ScatterPlotter(\n\u001b[0m\u001b[1;32m   1391\u001b[0m         \u001b[0mx\u001b[0m\u001b[0;34m=\u001b[0m\u001b[0mx\u001b[0m\u001b[0;34m,\u001b[0m \u001b[0my\u001b[0m\u001b[0;34m=\u001b[0m\u001b[0my\u001b[0m\u001b[0;34m,\u001b[0m \u001b[0mhue\u001b[0m\u001b[0;34m=\u001b[0m\u001b[0mhue\u001b[0m\u001b[0;34m,\u001b[0m \u001b[0mstyle\u001b[0m\u001b[0;34m=\u001b[0m\u001b[0mstyle\u001b[0m\u001b[0;34m,\u001b[0m \u001b[0msize\u001b[0m\u001b[0;34m=\u001b[0m\u001b[0msize\u001b[0m\u001b[0;34m,\u001b[0m \u001b[0mdata\u001b[0m\u001b[0;34m=\u001b[0m\u001b[0mdata\u001b[0m\u001b[0;34m,\u001b[0m\u001b[0;34m\u001b[0m\u001b[0;34m\u001b[0m\u001b[0m\n\u001b[1;32m   1392\u001b[0m         \u001b[0mpalette\u001b[0m\u001b[0;34m=\u001b[0m\u001b[0mpalette\u001b[0m\u001b[0;34m,\u001b[0m \u001b[0mhue_order\u001b[0m\u001b[0;34m=\u001b[0m\u001b[0mhue_order\u001b[0m\u001b[0;34m,\u001b[0m \u001b[0mhue_norm\u001b[0m\u001b[0;34m=\u001b[0m\u001b[0mhue_norm\u001b[0m\u001b[0;34m,\u001b[0m\u001b[0;34m\u001b[0m\u001b[0;34m\u001b[0m\u001b[0m\n",
      "\u001b[0;32m/opt/anaconda3/lib/python3.8/site-packages/seaborn/relational.py\u001b[0m in \u001b[0;36m__init__\u001b[0;34m(self, x, y, hue, size, style, data, palette, hue_order, hue_norm, sizes, size_order, size_norm, dashes, markers, style_order, x_bins, y_bins, units, estimator, ci, n_boot, alpha, x_jitter, y_jitter, legend)\u001b[0m\n\u001b[1;32m    883\u001b[0m                  legend=None):\n\u001b[1;32m    884\u001b[0m \u001b[0;34m\u001b[0m\u001b[0m\n\u001b[0;32m--> 885\u001b[0;31m         plot_data = self.establish_variables(\n\u001b[0m\u001b[1;32m    886\u001b[0m             \u001b[0mx\u001b[0m\u001b[0;34m,\u001b[0m \u001b[0my\u001b[0m\u001b[0;34m,\u001b[0m \u001b[0mhue\u001b[0m\u001b[0;34m,\u001b[0m \u001b[0msize\u001b[0m\u001b[0;34m,\u001b[0m \u001b[0mstyle\u001b[0m\u001b[0;34m,\u001b[0m \u001b[0munits\u001b[0m\u001b[0;34m,\u001b[0m \u001b[0mdata\u001b[0m\u001b[0;34m\u001b[0m\u001b[0;34m\u001b[0m\u001b[0m\n\u001b[1;32m    887\u001b[0m         )\n",
      "\u001b[0;32m/opt/anaconda3/lib/python3.8/site-packages/seaborn/relational.py\u001b[0m in \u001b[0;36mestablish_variables\u001b[0;34m(self, x, y, hue, size, style, units, data)\u001b[0m\n\u001b[1;32m    135\u001b[0m                 \u001b[0;32mif\u001b[0m \u001b[0misinstance\u001b[0m\u001b[0;34m(\u001b[0m\u001b[0mvar\u001b[0m\u001b[0;34m,\u001b[0m \u001b[0mstr\u001b[0m\u001b[0;34m)\u001b[0m\u001b[0;34m:\u001b[0m\u001b[0;34m\u001b[0m\u001b[0;34m\u001b[0m\u001b[0m\n\u001b[1;32m    136\u001b[0m                     \u001b[0merr\u001b[0m \u001b[0;34m=\u001b[0m \u001b[0;34m\"Could not interpret input '{}'\"\u001b[0m\u001b[0;34m.\u001b[0m\u001b[0mformat\u001b[0m\u001b[0;34m(\u001b[0m\u001b[0mvar\u001b[0m\u001b[0;34m)\u001b[0m\u001b[0;34m\u001b[0m\u001b[0;34m\u001b[0m\u001b[0m\n\u001b[0;32m--> 137\u001b[0;31m                     \u001b[0;32mraise\u001b[0m \u001b[0mValueError\u001b[0m\u001b[0;34m(\u001b[0m\u001b[0merr\u001b[0m\u001b[0;34m)\u001b[0m\u001b[0;34m\u001b[0m\u001b[0;34m\u001b[0m\u001b[0m\n\u001b[0m\u001b[1;32m    138\u001b[0m \u001b[0;34m\u001b[0m\u001b[0m\n\u001b[1;32m    139\u001b[0m             \u001b[0;31m# Extract variable names\u001b[0m\u001b[0;34m\u001b[0m\u001b[0;34m\u001b[0m\u001b[0;34m\u001b[0m\u001b[0m\n",
      "\u001b[0;31mValueError\u001b[0m: Could not interpret input 'Time_since_Diag'"
     ]
    }
   ],
   "source": [
    "#sns.lineplot(data=UDPRS2_rs2[(UDPRS2_rs2['Time_since_Diag']<1000)], x=\"Time_since_Diag\", y='Section III Total', hue=\"SYDID\")\n",
    "sns.scatterplot(data=UDPRS2_rs[(UDPRS2_rs[\"Section III Total\"]<50)], x=\"Time_since_Diag\", y=\"Section III Total\")"
   ]
  },
  {
   "cell_type": "code",
   "execution_count": 20,
   "metadata": {},
   "outputs": [
    {
     "ename": "NameError",
     "evalue": "name 'UDPRS2_rs2' is not defined",
     "output_type": "error",
     "traceback": [
      "\u001b[0;31m---------------------------------------------------------------------------\u001b[0m",
      "\u001b[0;31mNameError\u001b[0m                                 Traceback (most recent call last)",
      "\u001b[0;32m<ipython-input-20-2cebd49ca2bf>\u001b[0m in \u001b[0;36m<module>\u001b[0;34m\u001b[0m\n\u001b[0;32m----> 1\u001b[0;31m \u001b[0max\u001b[0m \u001b[0;34m=\u001b[0m \u001b[0msns\u001b[0m\u001b[0;34m.\u001b[0m\u001b[0mboxplot\u001b[0m\u001b[0;34m(\u001b[0m \u001b[0my\u001b[0m\u001b[0;34m=\u001b[0m\u001b[0;34m\"Section III Total\"\u001b[0m\u001b[0;34m,\u001b[0m \u001b[0mdata\u001b[0m\u001b[0;34m=\u001b[0m\u001b[0mUDPRS2_rs2\u001b[0m\u001b[0;34m,\u001b[0m \u001b[0mwhis\u001b[0m\u001b[0;34m=\u001b[0m\u001b[0mnp\u001b[0m\u001b[0;34m.\u001b[0m\u001b[0minf\u001b[0m\u001b[0;34m)\u001b[0m\u001b[0;34m\u001b[0m\u001b[0;34m\u001b[0m\u001b[0m\n\u001b[0m\u001b[1;32m      2\u001b[0m \u001b[0max\u001b[0m \u001b[0;34m=\u001b[0m \u001b[0msns\u001b[0m\u001b[0;34m.\u001b[0m\u001b[0mswarmplot\u001b[0m\u001b[0;34m(\u001b[0m\u001b[0my\u001b[0m\u001b[0;34m=\u001b[0m\u001b[0;34m\"Section III Total\"\u001b[0m\u001b[0;34m,\u001b[0m \u001b[0mdata\u001b[0m\u001b[0;34m=\u001b[0m\u001b[0mUDPRS2_rs2\u001b[0m\u001b[0;34m,\u001b[0m \u001b[0mcolor\u001b[0m\u001b[0;34m=\u001b[0m\u001b[0;34m\".2\"\u001b[0m\u001b[0;34m)\u001b[0m\u001b[0;34m\u001b[0m\u001b[0;34m\u001b[0m\u001b[0m\n",
      "\u001b[0;31mNameError\u001b[0m: name 'UDPRS2_rs2' is not defined"
     ]
    }
   ],
   "source": [
    "ax = sns.boxplot( y=\"Section III Total\", data=UDPRS2_rs2, whis=np.inf)\n",
    "ax = sns.swarmplot(y=\"Section III Total\", data=UDPRS2_rs2, color=\".2\")"
   ]
  },
  {
   "cell_type": "code",
   "execution_count": 28,
   "metadata": {},
   "outputs": [
    {
     "name": "stderr",
     "output_type": "stream",
     "text": [
      "<ipython-input-4-758f679da655>:7: SettingWithCopyWarning: \n",
      "A value is trying to be set on a copy of a slice from a DataFrame\n",
      "\n",
      "See the caveats in the documentation: http://pandas.pydata.org/pandas-docs/stable/indexing.html#indexing-view-versus-copy\n",
      "  df['Time_since_Diag'][cond]=\\\n"
     ]
    }
   ],
   "source": [
    "UDPRS2_rs2=dt_check(UDPRS2_rs,'Date of assessment',['SYDID','Birth_date','Gend','Princ_Diag','Date Diagnosed','Date of assessment',\n",
    "                                                    'Section I Total', 'Section II Total','Section III Total', 'Section IV Total'])"
   ]
  },
  {
   "cell_type": "code",
   "execution_count": 29,
   "metadata": {},
   "outputs": [
    {
     "name": "stderr",
     "output_type": "stream",
     "text": [
      "<ipython-input-4-758f679da655>:7: SettingWithCopyWarning: \n",
      "A value is trying to be set on a copy of a slice from a DataFrame\n",
      "\n",
      "See the caveats in the documentation: http://pandas.pydata.org/pandas-docs/stable/indexing.html#indexing-view-versus-copy\n",
      "  df['Time_since_Diag'][cond]=\\\n"
     ]
    }
   ],
   "source": [
    "cog1_rs2=dt_check(cog1_rs,'Date/time',['SYDID','Date/time','MMSE result','Princ_Diag','Birth_date','Gend','Date Diagnosed'])"
   ]
  },
  {
   "cell_type": "code",
   "execution_count": 30,
   "metadata": {},
   "outputs": [
    {
     "name": "stderr",
     "output_type": "stream",
     "text": [
      "<ipython-input-4-758f679da655>:7: SettingWithCopyWarning: \n",
      "A value is trying to be set on a copy of a slice from a DataFrame\n",
      "\n",
      "See the caveats in the documentation: http://pandas.pydata.org/pandas-docs/stable/indexing.html#indexing-view-versus-copy\n",
      "  df['Time_since_Diag'][cond]=\\\n"
     ]
    }
   ],
   "source": [
    "PSYCHQ_rs2=dt_check(PSYCHQ_rs,'Date of assessment',['SYDID','Princ_Diag','Birth_date','Gend','Date Diagnosed','Date of assessment',\n",
    "                                                    'AttentionalDysfunction', 'DisorderedThought',\n",
    "       'Distress_Q1', 'Distress_Q10', 'Distress_Q11', 'Distress_Q12',\n",
    "       'Distress_Q13', 'Distress_Q14', 'Distress_Q15', 'Distress_Q16',\n",
    "       'Distress_Q17', 'Distress_Q18', 'Distress_Q19', 'Distress_Q2',\n",
    "       'Distress_Q20', 'Distress_Q3', 'Distress_Q4', 'Distress_Q5',\n",
    "       'Distress_Q6', 'Distress_Q7', 'Distress_Q8', 'Distress_Q9',\n",
    "       'PsycHQTotal', 'Q10_taste', 'Q11_acting_against', 'Q12_threatened',\n",
    "       'Q13_trick', 'Q14_concentrating', 'Q15_multitasking',\n",
    "       'Q16_conversation', 'Q17_day_dream', 'Q18_vivid_dreams',\n",
    "       'Q19_act_out_dream', 'Q1_someone_in_room', 'Q20_afraid_confused',\n",
    "       'Q2_corner_vision', 'Q3_passing_by', 'Q4_shadowy_forms',\n",
    "       'Q5_mistake_things', 'Q6_see_people_things', 'Q7_hear_voices',\n",
    "       'Q8_touch_feel', 'Q9_smell', 'S1_Hallucinations_and_Psychosis',\n",
    "       'S2_Hallucinations_Phenotype',  'SensoryMisperceptions',\n",
    "       'SleepImpairment', 'VisualMisperceptions', 'YN2_could_be_real',\n",
    "       'YN3_convinced_otherwise', 'YN4_frighten', 'YN5_outside_past_month',\n",
    "       'YN_fall_asleep'])\n"
   ]
  },
  {
   "cell_type": "code",
   "execution_count": 31,
   "metadata": {},
   "outputs": [
    {
     "ename": "NameError",
     "evalue": "name 'HADS_rs' is not defined",
     "output_type": "error",
     "traceback": [
      "\u001b[0;31m---------------------------------------------------------------------------\u001b[0m",
      "\u001b[0;31mNameError\u001b[0m                                 Traceback (most recent call last)",
      "\u001b[0;32m<ipython-input-31-e45d4a485d36>\u001b[0m in \u001b[0;36m<module>\u001b[0;34m\u001b[0m\n\u001b[0;32m----> 1\u001b[0;31m HADS_rs2=dt_check(HADS_rs,'Date/Time',['SYDID','Princ_Diag','Birth_date','Gend','Date Diagnosed','Date/Time', 'HADS 1', 'HADS 10', 'HADS 11', 'HADS 12', 'HADS 13',\n\u001b[0m\u001b[1;32m      2\u001b[0m        \u001b[0;34m'HADS 14'\u001b[0m\u001b[0;34m,\u001b[0m \u001b[0;34m'HADS 2'\u001b[0m\u001b[0;34m,\u001b[0m \u001b[0;34m'HADS 3'\u001b[0m\u001b[0;34m,\u001b[0m \u001b[0;34m'HADS 4'\u001b[0m\u001b[0;34m,\u001b[0m \u001b[0;34m'HADS 5'\u001b[0m\u001b[0;34m,\u001b[0m \u001b[0;34m'HADS 6'\u001b[0m\u001b[0;34m,\u001b[0m \u001b[0;34m'HADS 7'\u001b[0m\u001b[0;34m,\u001b[0m\u001b[0;34m\u001b[0m\u001b[0;34m\u001b[0m\u001b[0m\n\u001b[1;32m      3\u001b[0m        \u001b[0;34m'HADS 8'\u001b[0m\u001b[0;34m,\u001b[0m \u001b[0;34m'HADS 9'\u001b[0m\u001b[0;34m,\u001b[0m \u001b[0;34m'HADS Total'\u001b[0m\u001b[0;34m,\u001b[0m \u001b[0;34m'HADS-A'\u001b[0m\u001b[0;34m,\u001b[0m \u001b[0;34m'HADS-D'\u001b[0m\u001b[0;34m,\u001b[0m  \u001b[0;34m'index'\u001b[0m\u001b[0;34m,\u001b[0m\u001b[0;34m\u001b[0m\u001b[0;34m\u001b[0m\u001b[0m\n\u001b[1;32m      4\u001b[0m        'time_point'])\n",
      "\u001b[0;31mNameError\u001b[0m: name 'HADS_rs' is not defined"
     ]
    }
   ],
   "source": [
    "HADS_rs2=dt_check(HADS_rs,'Date/Time',['SYDID','Princ_Diag','Birth_date','Gend','Date Diagnosed','Date/Time', 'HADS 1', 'HADS 10', 'HADS 11', 'HADS 12', 'HADS 13',\n",
    "       'HADS 14', 'HADS 2', 'HADS 3', 'HADS 4', 'HADS 5', 'HADS 6', 'HADS 7',\n",
    "       'HADS 8', 'HADS 9', 'HADS Total', 'HADS-A', 'HADS-D',  'index',\n",
    "       'time_point'])"
   ]
  },
  {
   "cell_type": "code",
   "execution_count": 413,
   "metadata": {},
   "outputs": [
    {
     "name": "stderr",
     "output_type": "stream",
     "text": [
      "<ipython-input-391-758f679da655>:7: SettingWithCopyWarning: \n",
      "A value is trying to be set on a copy of a slice from a DataFrame\n",
      "\n",
      "See the caveats in the documentation: http://pandas.pydata.org/pandas-docs/stable/indexing.html#indexing-view-versus-copy\n",
      "  df['Time_since_Diag'][cond]=\\\n"
     ]
    }
   ],
   "source": [
    "\n",
    "RBDQ_rs2=dt_check(RBDQ_rs,'Date',['SYDID','Princ_Diag','Birth_date','Gend','Date Diagnosed','Date','REMSBD 1', 'REMSBD 10', 'REMSBD 2', 'REMSBD 3', 'REMSBD 4',\n",
    "       'REMSBD 5', 'REMSBD 6_1', 'REMSBD 6_2', 'REMSBD 6_3', 'REMSBD 6_4',\n",
    "       'REMSBD 7', 'REMSBD 8', 'REMSBD 9',  'Total REMSBD', 'index',\n",
    "       'time_point'])"
   ]
  },
  {
   "cell_type": "code",
   "execution_count": 414,
   "metadata": {},
   "outputs": [
    {
     "name": "stderr",
     "output_type": "stream",
     "text": [
      "<ipython-input-391-758f679da655>:7: SettingWithCopyWarning: \n",
      "A value is trying to be set on a copy of a slice from a DataFrame\n",
      "\n",
      "See the caveats in the documentation: http://pandas.pydata.org/pandas-docs/stable/indexing.html#indexing-view-versus-copy\n",
      "  df['Time_since_Diag'][cond]=\\\n"
     ]
    }
   ],
   "source": [
    "BDI_rs2=dt_check(BDI_rs,'Date/time',['SYDID','Princ_Diag','Birth_date','Gend','Date Diagnosed','Date/time','BDI 1', 'BDI 10', 'BDI 11', 'BDI 12', 'BDI 13', 'BDI 14', 'BDI 15',\n",
    "       'BDI 16', 'BDI 17', 'BDI 18', 'BDI 19', 'BDI 2', 'BDI 20', 'BDI 21',\n",
    "       'BDI 3', 'BDI 4', 'BDI 5', 'BDI 6', 'BDI 7', 'BDI 8', 'BDI 9',\n",
    "       'BDI Total',   'index', 'time_point'])"
   ]
  },
  {
   "cell_type": "code",
   "execution_count": 170,
   "metadata": {},
   "outputs": [
    {
     "data": {
      "text/plain": [
       "Index(['AGE', 'AGE GROUP', 'ASS %', 'ASS 1', 'ASS 2', 'Age', 'Age ',\n",
       "       'Age group', 'Age grpup', 'Birthdate', 'Date/time', 'Digit Span',\n",
       "       'Digit Span - Backward', 'Digit Span - Forward', 'Digit Span ASS',\n",
       "       'Digit Span Total', 'LM % Retention', 'LM Recognition',\n",
       "       'Logical Memory I', 'Logical Memory II', 'MMSE result', 'NART',\n",
       "       'Principal Diagnosis', 'SYDID', 'Stroop  1 raw', 'Stroop 1 ASS',\n",
       "       'Stroop 2 ASS', 'Stroop 2 raw', 'Stroop 3 ASS', 'Stroop 3 raw',\n",
       "       'Stroop 4 ASS', 'Stroop 4 raw', 'Trails A Errors', 'Trails A Time',\n",
       "       'Trails A Z score', 'Trails B Errors', 'Trails B Time',\n",
       "       'Trails B Z score', 'Verbal fluency-animals', 'Verbal fluency-letters',\n",
       "       'Years of education', 'index', 'time_point'],\n",
       "      dtype='object')"
      ]
     },
     "execution_count": 170,
     "metadata": {},
     "output_type": "execute_result"
    }
   ],
   "source": [
    "cog1_rs.sort_values(by=['SYDID','Date_time'])"
   ]
  },
  {
   "cell_type": "code",
   "execution_count": 467,
   "metadata": {},
   "outputs": [
    {
     "name": "stdout",
     "output_type": "stream",
     "text": [
      "0\n",
      "1\n",
      "2\n",
      "3\n",
      "4\n"
     ]
    },
    {
     "ename": "IndexError",
     "evalue": "list index out of range",
     "output_type": "error",
     "traceback": [
      "\u001b[0;31m---------------------------------------------------------------------------\u001b[0m",
      "\u001b[0;31mIndexError\u001b[0m                                Traceback (most recent call last)",
      "\u001b[0;32m<ipython-input-467-39ae495bc31a>\u001b[0m in \u001b[0;36m<module>\u001b[0;34m\u001b[0m\n\u001b[1;32m      1\u001b[0m \u001b[0;32mfor\u001b[0m \u001b[0mi\u001b[0m \u001b[0;32min\u001b[0m \u001b[0mrange\u001b[0m\u001b[0;34m(\u001b[0m\u001b[0mlen\u001b[0m\u001b[0;34m(\u001b[0m\u001b[0mimpdfs\u001b[0m\u001b[0;34m)\u001b[0m\u001b[0;34m)\u001b[0m\u001b[0;34m:\u001b[0m\u001b[0;34m\u001b[0m\u001b[0;34m\u001b[0m\u001b[0m\n\u001b[1;32m      2\u001b[0m     \u001b[0mprint\u001b[0m\u001b[0;34m(\u001b[0m\u001b[0mi\u001b[0m\u001b[0;34m)\u001b[0m\u001b[0;34m\u001b[0m\u001b[0;34m\u001b[0m\u001b[0m\n\u001b[0;32m----> 3\u001b[0;31m     \u001b[0mimpdfs\u001b[0m\u001b[0;34m[\u001b[0m\u001b[0mi\u001b[0m\u001b[0;34m]\u001b[0m\u001b[0;34m=\u001b[0m\u001b[0mreshape_data\u001b[0m\u001b[0;34m(\u001b[0m\u001b[0mimpdfs\u001b[0m\u001b[0;34m[\u001b[0m\u001b[0mi\u001b[0m\u001b[0;34m]\u001b[0m\u001b[0;34m)\u001b[0m\u001b[0;34m\u001b[0m\u001b[0;34m\u001b[0m\u001b[0m\n\u001b[0m",
      "\u001b[0;32m<ipython-input-451-cccd9e9adedc>\u001b[0m in \u001b[0;36mreshape_data\u001b[0;34m(df)\u001b[0m\n\u001b[1;32m      9\u001b[0m             \u001b[0mdfs\u001b[0m\u001b[0;34m[\u001b[0m\u001b[0mi\u001b[0m\u001b[0;34m]\u001b[0m\u001b[0;34m=\u001b[0m\u001b[0mpd\u001b[0m\u001b[0;34m.\u001b[0m\u001b[0mDataFrame\u001b[0m\u001b[0;34m(\u001b[0m\u001b[0mdf\u001b[0m\u001b[0;34m.\u001b[0m\u001b[0miloc\u001b[0m\u001b[0;34m[\u001b[0m\u001b[0;34m:\u001b[0m\u001b[0;34m,\u001b[0m  \u001b[0mnp\u001b[0m\u001b[0;34m.\u001b[0m\u001b[0mr_\u001b[0m\u001b[0;34m[\u001b[0m\u001b[0;36m0\u001b[0m\u001b[0;34m:\u001b[0m\u001b[0;36m3\u001b[0m\u001b[0;34m,\u001b[0m \u001b[0mcog_arr\u001b[0m\u001b[0;34m[\u001b[0m\u001b[0mi\u001b[0m\u001b[0;34m-\u001b[0m\u001b[0;36m1\u001b[0m\u001b[0;34m]\u001b[0m\u001b[0;34m:\u001b[0m\u001b[0mc\u001b[0m\u001b[0;34m]\u001b[0m\u001b[0;34m]\u001b[0m\u001b[0;34m)\u001b[0m\u001b[0;34m.\u001b[0m\u001b[0mreset_index\u001b[0m\u001b[0;34m(\u001b[0m\u001b[0;34m)\u001b[0m\u001b[0;34m\u001b[0m\u001b[0;34m\u001b[0m\u001b[0m\n\u001b[1;32m     10\u001b[0m             \u001b[0;31m#print(dfs1[i].columns)\u001b[0m\u001b[0;34m\u001b[0m\u001b[0;34m\u001b[0m\u001b[0;34m\u001b[0m\u001b[0m\n\u001b[0;32m---> 11\u001b[0;31m             \u001b[0mdfs\u001b[0m\u001b[0;34m[\u001b[0m\u001b[0mi\u001b[0m\u001b[0;34m]\u001b[0m\u001b[0;34m=\u001b[0m\u001b[0mremovedotcol\u001b[0m\u001b[0;34m(\u001b[0m\u001b[0mdfs1\u001b[0m\u001b[0;34m[\u001b[0m\u001b[0mi\u001b[0m\u001b[0;34m]\u001b[0m\u001b[0;34m)\u001b[0m\u001b[0;34m\u001b[0m\u001b[0;34m\u001b[0m\u001b[0m\n\u001b[0m\u001b[1;32m     12\u001b[0m             \u001b[0mdfs\u001b[0m\u001b[0;34m[\u001b[0m\u001b[0mi\u001b[0m\u001b[0;34m]\u001b[0m\u001b[0;34m[\u001b[0m\u001b[0;34m'time_point'\u001b[0m\u001b[0;34m]\u001b[0m\u001b[0;34m=\u001b[0m\u001b[0mi\u001b[0m\u001b[0;34m\u001b[0m\u001b[0;34m\u001b[0m\u001b[0m\n\u001b[1;32m     13\u001b[0m     \u001b[0mdf_fin\u001b[0m\u001b[0;34m=\u001b[0m\u001b[0mpd\u001b[0m\u001b[0;34m.\u001b[0m\u001b[0mconcat\u001b[0m\u001b[0;34m(\u001b[0m\u001b[0mdfs\u001b[0m\u001b[0;34m,\u001b[0m\u001b[0maxis\u001b[0m\u001b[0;34m=\u001b[0m\u001b[0;36m0\u001b[0m\u001b[0;34m)\u001b[0m\u001b[0;34m\u001b[0m\u001b[0;34m\u001b[0m\u001b[0m\n",
      "\u001b[0;31mIndexError\u001b[0m: list index out of range"
     ]
    }
   ],
   "source": [
    "for i in range(len(impdfs)):\n",
    "    print(i)\n",
    "    impdfs[i]=reshape_data(impdfs[i])"
   ]
  },
  {
   "cell_type": "code",
   "execution_count": 130,
   "metadata": {},
   "outputs": [
    {
     "data": {
      "text/plain": [
       "time_point\n",
       "0      0\n",
       "1    251\n",
       "2    193\n",
       "3    133\n",
       "4    100\n",
       "5     62\n",
       "6     37\n",
       "7     24\n",
       "8     13\n",
       "9      6\n",
       "Name: MMSE result, dtype: int64"
      ]
     },
     "execution_count": 130,
     "metadata": {},
     "output_type": "execute_result"
    }
   ],
   "source": [
    "cog1_rs.groupby('time_point')['MMSE result'].count()"
   ]
  },
  {
   "cell_type": "code",
   "execution_count": 143,
   "metadata": {},
   "outputs": [
    {
     "name": "stdout",
     "output_type": "stream",
     "text": [
      "0     23.325581\n",
      "1    174.674419\n",
      "2    142.395349\n",
      "3    104.465116\n",
      "4     81.348837\n",
      "5     55.930233\n",
      "6     38.534884\n",
      "7     29.325581\n",
      "8     21.651163\n",
      "9     16.488372\n",
      "dtype: float64\n",
      "0      8.807018\n",
      "1    104.228070\n",
      "2     44.403509\n",
      "3     20.157895\n",
      "dtype: float64\n",
      "0      11.397727\n",
      "1     234.636364\n",
      "2     189.397727\n",
      "3     131.170455\n",
      "4      97.988636\n",
      "5      67.875000\n",
      "6      41.215909\n",
      "7      26.647727\n",
      "8      15.943182\n",
      "9       9.090909\n",
      "10      7.568182\n",
      "dtype: float64\n",
      "0     23.904762\n",
      "1    232.619048\n",
      "2    185.095238\n",
      "3    130.333333\n",
      "4    100.380952\n",
      "5     72.142857\n",
      "6     49.047619\n",
      "7     40.523810\n",
      "8     34.571429\n",
      "9     26.047619\n",
      "dtype: float64\n",
      "0      27.888889\n",
      "1     234.611111\n",
      "2     186.277778\n",
      "3     138.888889\n",
      "4     108.111111\n",
      "5      74.000000\n",
      "6      54.000000\n",
      "7      44.888889\n",
      "8      38.333333\n",
      "9      31.722222\n",
      "10     29.277778\n",
      "11     29.333333\n",
      "dtype: float64\n",
      "0     19.307692\n",
      "1    240.500000\n",
      "2    184.730769\n",
      "3    126.461538\n",
      "4     86.692308\n",
      "5     56.653846\n",
      "6     31.923077\n",
      "7     23.115385\n",
      "dtype: float64\n",
      "0     17.310345\n",
      "1    175.724138\n",
      "2    139.344828\n",
      "3    100.000000\n",
      "4     77.206897\n",
      "5     52.068966\n",
      "6     35.689655\n",
      "7     28.965517\n",
      "8     24.517241\n",
      "9     19.620690\n",
      "dtype: float64\n",
      "0     41.833333\n",
      "1    227.166667\n",
      "2    183.666667\n",
      "3    141.083333\n",
      "4    112.666667\n",
      "5     84.916667\n",
      "6     66.333333\n",
      "7     55.916667\n",
      "8     51.500000\n",
      "dtype: float64\n",
      "0      38.615385\n",
      "1     229.461538\n",
      "2     184.923077\n",
      "3     139.615385\n",
      "4     112.769231\n",
      "5      82.076923\n",
      "6      62.153846\n",
      "7      54.538462\n",
      "8      48.461538\n",
      "9      42.384615\n",
      "10     40.153846\n",
      "dtype: float64\n",
      "0     20.916667\n",
      "1    207.625000\n",
      "2    151.250000\n",
      "3     97.000000\n",
      "4     70.125000\n",
      "5     51.458333\n",
      "6     38.875000\n",
      "7     27.041667\n",
      "dtype: float64\n",
      "0      45.636364\n",
      "1     225.454545\n",
      "2     194.181818\n",
      "3     144.000000\n",
      "4     104.181818\n",
      "5      81.000000\n",
      "6      62.909091\n",
      "7      57.909091\n",
      "8      54.363636\n",
      "9      49.363636\n",
      "10     47.272727\n",
      "dtype: float64\n",
      "0    22.818182\n",
      "1    94.090909\n",
      "2    75.272727\n",
      "3    63.090909\n",
      "4    40.772727\n",
      "5    36.409091\n",
      "6    33.272727\n",
      "7    25.500000\n",
      "8    24.045455\n",
      "dtype: float64\n"
     ]
    }
   ],
   "source": [
    "outdfs=[cog1_rs,PSYCHQ_rs,UDPRS2_rs,HADS_rs,RBDQ_rs,BDI_rs,SCOPAS_rs,SCOPAPC_rs,ESS_rs,MOCA_rs,FOGQ_rs,Smell_rs]\n",
    "\n",
    "for i,df in enumerate(outdfs):\n",
    "    print(pd.DataFrame(df.groupby('time_point').count()).reset_index().mean(axis=1))"
   ]
  },
  {
   "cell_type": "markdown",
   "metadata": {},
   "source": [
    "#### For each df select the important variables based on paper"
   ]
  },
  {
   "cell_type": "markdown",
   "metadata": {},
   "source": [
    "UDPRS change in score with time\n",
    "MOCA change in score with time\n",
    "cog change in score with time\n",
    "\n",
    "Age, years 60 (8) 66 (7) 66 (10) 69 (9)\n",
    "\n",
    "Onset, years 50 (10) 59 (7) 62 (10) 62 (10)\n",
    "\n",
    "Hoehn and Yahr 2 (1) 2 (1) 2 (1) 2 (1)\n",
    "\n",
    "Unified Parkinson’s Disease Rating Scale III 21 (10) 25 (12) 30 (11) 28 (13)\n",
    "\n",
    "Duration, years 10 (6) 8 (4) 3 (1) 7 (5)\n",
    "\n",
    "Disease progression score 4 (2) 5 (2) 13 (5) 8 (4)\n",
    "\n",
    "L-dopa dose, mg 560 (468) 290 (264) 245 (229) 456 (580)\n",
    "\n",
    "Motor phenotype score 1 (0.5) 2 (1) 1 (0.4) 0.6 (0.5)\n",
    "\n",
    "Mini Mental State Examination 30 (1) 29 (1) 30 (1) 28 (1)\n",
    "\n",
    "National Adult Reading Test 117 (6) 115 (8) 117 (6) 108 (10)\n",
    "\n",
    "Verbal fluency (FAS) 46 (13) 40 (12) 44 (9) 33 (12)\n",
    "\n",
    "Categorical fluency 24 (6) 21 (7) 22 (5) 17 (6)\n",
    "\n",
    "Pattern recognition memory (max = 24) 21 (2) 18 (4) 21 (2) 17 (2)\n",
    "\n",
    "Spatial recognition memory (max = 20) 16 (2) 14 (2) 15 (2) 14 (2)\n",
    "\n",
    "Tower of London (max = 14) 10 (2) 10 (3) 11 (2) 5 (4)\n",
    "\n",
    "Beck depression inventory 8 (6) 9 (5) 9 (5) 11 (6)"
   ]
  },
  {
   "cell_type": "code",
   "execution_count": 346,
   "metadata": {},
   "outputs": [],
   "source": [
    "\n",
    "            #print(dfs1[i].columns)"
   ]
  },
  {
   "cell_type": "code",
   "execution_count": 352,
   "metadata": {},
   "outputs": [],
   "source": [
    "cog1_fin=reshape_data(cog1)\n",
    "cog2_fin=reshape_data(cog2)\n",
    "cog_fin=pd.concat([cog1_fin,cog2_fin],axis=0)"
   ]
  },
  {
   "cell_type": "code",
   "execution_count": 392,
   "metadata": {},
   "outputs": [
    {
     "data": {
      "text/html": [
       "<div>\n",
       "<style scoped>\n",
       "    .dataframe tbody tr th:only-of-type {\n",
       "        vertical-align: middle;\n",
       "    }\n",
       "\n",
       "    .dataframe tbody tr th {\n",
       "        vertical-align: top;\n",
       "    }\n",
       "\n",
       "    .dataframe thead th {\n",
       "        text-align: right;\n",
       "    }\n",
       "</style>\n",
       "<table border=\"1\" class=\"dataframe\">\n",
       "  <thead>\n",
       "    <tr style=\"text-align: right;\">\n",
       "      <th></th>\n",
       "      <th>index</th>\n",
       "      <th>SYDID</th>\n",
       "      <th>Birthdate</th>\n",
       "      <th>Principal Diagnosis</th>\n",
       "      <th>time_point</th>\n",
       "      <th>Date/time</th>\n",
       "      <th>Years of education</th>\n",
       "      <th>NART</th>\n",
       "      <th>MMSE result</th>\n",
       "      <th>Age</th>\n",
       "      <th>...</th>\n",
       "      <th>Stroop 2 ASS</th>\n",
       "      <th>Stroop 3 raw</th>\n",
       "      <th>Stroop 3 ASS</th>\n",
       "      <th>Stroop 4 raw</th>\n",
       "      <th>Stroop 4 ASS</th>\n",
       "      <th>Age</th>\n",
       "      <th>Age grpup</th>\n",
       "      <th>AGE</th>\n",
       "      <th>AGE GROUP</th>\n",
       "      <th>Digit Span</th>\n",
       "    </tr>\n",
       "  </thead>\n",
       "  <tbody>\n",
       "    <tr>\n",
       "      <th>0</th>\n",
       "      <td>0</td>\n",
       "      <td>PD_00001_DA</td>\n",
       "      <td>1947-11-26</td>\n",
       "      <td>Idiopathic Parkinsons Disease</td>\n",
       "      <td>0</td>\n",
       "      <td>NaT</td>\n",
       "      <td>NaN</td>\n",
       "      <td>NaN</td>\n",
       "      <td>NaN</td>\n",
       "      <td>NaN</td>\n",
       "      <td>...</td>\n",
       "      <td>NaN</td>\n",
       "      <td>NaN</td>\n",
       "      <td>NaN</td>\n",
       "      <td>NaN</td>\n",
       "      <td>NaN</td>\n",
       "      <td>NaN</td>\n",
       "      <td>NaN</td>\n",
       "      <td>NaN</td>\n",
       "      <td>NaN</td>\n",
       "      <td>NaN</td>\n",
       "    </tr>\n",
       "    <tr>\n",
       "      <th>1</th>\n",
       "      <td>1</td>\n",
       "      <td>PD_00002_MW</td>\n",
       "      <td>1943-05-30</td>\n",
       "      <td>Idiopathic Parkinsons Disease</td>\n",
       "      <td>0</td>\n",
       "      <td>NaT</td>\n",
       "      <td>NaN</td>\n",
       "      <td>NaN</td>\n",
       "      <td>NaN</td>\n",
       "      <td>NaN</td>\n",
       "      <td>...</td>\n",
       "      <td>NaN</td>\n",
       "      <td>NaN</td>\n",
       "      <td>NaN</td>\n",
       "      <td>NaN</td>\n",
       "      <td>NaN</td>\n",
       "      <td>NaN</td>\n",
       "      <td>NaN</td>\n",
       "      <td>NaN</td>\n",
       "      <td>NaN</td>\n",
       "      <td>NaN</td>\n",
       "    </tr>\n",
       "    <tr>\n",
       "      <th>2</th>\n",
       "      <td>2</td>\n",
       "      <td>PD_00004_AW</td>\n",
       "      <td>1952-08-24</td>\n",
       "      <td>Idiopathic Parkinsons Disease</td>\n",
       "      <td>0</td>\n",
       "      <td>NaT</td>\n",
       "      <td>NaN</td>\n",
       "      <td>NaN</td>\n",
       "      <td>NaN</td>\n",
       "      <td>NaN</td>\n",
       "      <td>...</td>\n",
       "      <td>NaN</td>\n",
       "      <td>NaN</td>\n",
       "      <td>NaN</td>\n",
       "      <td>NaN</td>\n",
       "      <td>NaN</td>\n",
       "      <td>NaN</td>\n",
       "      <td>NaN</td>\n",
       "      <td>NaN</td>\n",
       "      <td>NaN</td>\n",
       "      <td>NaN</td>\n",
       "    </tr>\n",
       "    <tr>\n",
       "      <th>3</th>\n",
       "      <td>3</td>\n",
       "      <td>PD_00008_BM</td>\n",
       "      <td>1944-01-02</td>\n",
       "      <td>Idiopathic Parkinsons Disease</td>\n",
       "      <td>0</td>\n",
       "      <td>NaT</td>\n",
       "      <td>NaN</td>\n",
       "      <td>NaN</td>\n",
       "      <td>NaN</td>\n",
       "      <td>NaN</td>\n",
       "      <td>...</td>\n",
       "      <td>NaN</td>\n",
       "      <td>NaN</td>\n",
       "      <td>NaN</td>\n",
       "      <td>NaN</td>\n",
       "      <td>NaN</td>\n",
       "      <td>NaN</td>\n",
       "      <td>NaN</td>\n",
       "      <td>NaN</td>\n",
       "      <td>NaN</td>\n",
       "      <td>NaN</td>\n",
       "    </tr>\n",
       "    <tr>\n",
       "      <th>4</th>\n",
       "      <td>4</td>\n",
       "      <td>PD_00009_RP</td>\n",
       "      <td>1939-02-24</td>\n",
       "      <td>Idiopathic Parkinsons Disease</td>\n",
       "      <td>0</td>\n",
       "      <td>NaT</td>\n",
       "      <td>NaN</td>\n",
       "      <td>NaN</td>\n",
       "      <td>NaN</td>\n",
       "      <td>NaN</td>\n",
       "      <td>...</td>\n",
       "      <td>NaN</td>\n",
       "      <td>NaN</td>\n",
       "      <td>NaN</td>\n",
       "      <td>NaN</td>\n",
       "      <td>NaN</td>\n",
       "      <td>NaN</td>\n",
       "      <td>NaN</td>\n",
       "      <td>NaN</td>\n",
       "      <td>NaN</td>\n",
       "      <td>NaN</td>\n",
       "    </tr>\n",
       "    <tr>\n",
       "      <th>...</th>\n",
       "      <td>...</td>\n",
       "      <td>...</td>\n",
       "      <td>...</td>\n",
       "      <td>...</td>\n",
       "      <td>...</td>\n",
       "      <td>...</td>\n",
       "      <td>...</td>\n",
       "      <td>...</td>\n",
       "      <td>...</td>\n",
       "      <td>...</td>\n",
       "      <td>...</td>\n",
       "      <td>...</td>\n",
       "      <td>...</td>\n",
       "      <td>...</td>\n",
       "      <td>...</td>\n",
       "      <td>...</td>\n",
       "      <td>...</td>\n",
       "      <td>...</td>\n",
       "      <td>...</td>\n",
       "      <td>...</td>\n",
       "      <td>...</td>\n",
       "    </tr>\n",
       "    <tr>\n",
       "      <th>246</th>\n",
       "      <td>246</td>\n",
       "      <td>PD_00555_PH</td>\n",
       "      <td>1940-05-10</td>\n",
       "      <td>Idiopathic Parkinsons Disease</td>\n",
       "      <td>4</td>\n",
       "      <td>NaT</td>\n",
       "      <td>NaN</td>\n",
       "      <td>NaN</td>\n",
       "      <td>NaN</td>\n",
       "      <td>NaN</td>\n",
       "      <td>...</td>\n",
       "      <td>NaN</td>\n",
       "      <td>NaN</td>\n",
       "      <td>NaN</td>\n",
       "      <td>NaN</td>\n",
       "      <td>NaN</td>\n",
       "      <td>NaN</td>\n",
       "      <td>NaN</td>\n",
       "      <td>NaN</td>\n",
       "      <td>NaN</td>\n",
       "      <td>NaN</td>\n",
       "    </tr>\n",
       "    <tr>\n",
       "      <th>247</th>\n",
       "      <td>247</td>\n",
       "      <td>PD_00557_DC</td>\n",
       "      <td>1936-02-15</td>\n",
       "      <td>Idiopathic Parkinsons Disease</td>\n",
       "      <td>4</td>\n",
       "      <td>NaT</td>\n",
       "      <td>NaN</td>\n",
       "      <td>NaN</td>\n",
       "      <td>NaN</td>\n",
       "      <td>NaN</td>\n",
       "      <td>...</td>\n",
       "      <td>NaN</td>\n",
       "      <td>NaN</td>\n",
       "      <td>NaN</td>\n",
       "      <td>NaN</td>\n",
       "      <td>NaN</td>\n",
       "      <td>NaN</td>\n",
       "      <td>NaN</td>\n",
       "      <td>NaN</td>\n",
       "      <td>NaN</td>\n",
       "      <td>NaN</td>\n",
       "    </tr>\n",
       "    <tr>\n",
       "      <th>248</th>\n",
       "      <td>248</td>\n",
       "      <td>PD_00563_JH</td>\n",
       "      <td>1950-08-22</td>\n",
       "      <td>Idiopathic Parkinsons Disease</td>\n",
       "      <td>4</td>\n",
       "      <td>NaT</td>\n",
       "      <td>NaN</td>\n",
       "      <td>NaN</td>\n",
       "      <td>NaN</td>\n",
       "      <td>NaN</td>\n",
       "      <td>...</td>\n",
       "      <td>NaN</td>\n",
       "      <td>NaN</td>\n",
       "      <td>NaN</td>\n",
       "      <td>NaN</td>\n",
       "      <td>NaN</td>\n",
       "      <td>NaN</td>\n",
       "      <td>NaN</td>\n",
       "      <td>NaN</td>\n",
       "      <td>NaN</td>\n",
       "      <td>NaN</td>\n",
       "    </tr>\n",
       "    <tr>\n",
       "      <th>249</th>\n",
       "      <td>249</td>\n",
       "      <td>PD_00568_MB</td>\n",
       "      <td>1936-03-19</td>\n",
       "      <td>Idiopathic Parkinsons Disease</td>\n",
       "      <td>4</td>\n",
       "      <td>NaT</td>\n",
       "      <td>NaN</td>\n",
       "      <td>NaN</td>\n",
       "      <td>NaN</td>\n",
       "      <td>NaN</td>\n",
       "      <td>...</td>\n",
       "      <td>NaN</td>\n",
       "      <td>NaN</td>\n",
       "      <td>NaN</td>\n",
       "      <td>NaN</td>\n",
       "      <td>NaN</td>\n",
       "      <td>NaN</td>\n",
       "      <td>NaN</td>\n",
       "      <td>NaN</td>\n",
       "      <td>NaN</td>\n",
       "      <td>NaN</td>\n",
       "    </tr>\n",
       "    <tr>\n",
       "      <th>250</th>\n",
       "      <td>250</td>\n",
       "      <td>PD_00583_KC</td>\n",
       "      <td>1947-08-09</td>\n",
       "      <td>Idiopathic Parkinsons Disease</td>\n",
       "      <td>4</td>\n",
       "      <td>NaT</td>\n",
       "      <td>NaN</td>\n",
       "      <td>NaN</td>\n",
       "      <td>NaN</td>\n",
       "      <td>NaN</td>\n",
       "      <td>...</td>\n",
       "      <td>NaN</td>\n",
       "      <td>NaN</td>\n",
       "      <td>NaN</td>\n",
       "      <td>NaN</td>\n",
       "      <td>NaN</td>\n",
       "      <td>NaN</td>\n",
       "      <td>NaN</td>\n",
       "      <td>NaN</td>\n",
       "      <td>NaN</td>\n",
       "      <td>NaN</td>\n",
       "    </tr>\n",
       "  </tbody>\n",
       "</table>\n",
       "<p>3765 rows × 43 columns</p>\n",
       "</div>"
      ],
      "text/plain": [
       "     index        SYDID  Birthdate            Principal Diagnosis  time_point  \\\n",
       "0        0  PD_00001_DA 1947-11-26  Idiopathic Parkinsons Disease           0   \n",
       "1        1  PD_00002_MW 1943-05-30  Idiopathic Parkinsons Disease           0   \n",
       "2        2  PD_00004_AW 1952-08-24  Idiopathic Parkinsons Disease           0   \n",
       "3        3  PD_00008_BM 1944-01-02  Idiopathic Parkinsons Disease           0   \n",
       "4        4  PD_00009_RP 1939-02-24  Idiopathic Parkinsons Disease           0   \n",
       "..     ...          ...        ...                            ...         ...   \n",
       "246    246  PD_00555_PH 1940-05-10  Idiopathic Parkinsons Disease           4   \n",
       "247    247  PD_00557_DC 1936-02-15  Idiopathic Parkinsons Disease           4   \n",
       "248    248  PD_00563_JH 1950-08-22  Idiopathic Parkinsons Disease           4   \n",
       "249    249  PD_00568_MB 1936-03-19  Idiopathic Parkinsons Disease           4   \n",
       "250    250  PD_00583_KC 1947-08-09  Idiopathic Parkinsons Disease           4   \n",
       "\n",
       "    Date/time  Years of education  NART  MMSE result  Age   ... Stroop 2 ASS  \\\n",
       "0         NaT                 NaN   NaN          NaN   NaN  ...          NaN   \n",
       "1         NaT                 NaN   NaN          NaN   NaN  ...          NaN   \n",
       "2         NaT                 NaN   NaN          NaN   NaN  ...          NaN   \n",
       "3         NaT                 NaN   NaN          NaN   NaN  ...          NaN   \n",
       "4         NaT                 NaN   NaN          NaN   NaN  ...          NaN   \n",
       "..        ...                 ...   ...          ...   ...  ...          ...   \n",
       "246       NaT                 NaN   NaN          NaN   NaN  ...          NaN   \n",
       "247       NaT                 NaN   NaN          NaN   NaN  ...          NaN   \n",
       "248       NaT                 NaN   NaN          NaN   NaN  ...          NaN   \n",
       "249       NaT                 NaN   NaN          NaN   NaN  ...          NaN   \n",
       "250       NaT                 NaN   NaN          NaN   NaN  ...          NaN   \n",
       "\n",
       "     Stroop 3 raw  Stroop 3 ASS  Stroop 4 raw  Stroop 4 ASS  Age  Age grpup  \\\n",
       "0             NaN           NaN           NaN           NaN  NaN        NaN   \n",
       "1             NaN           NaN           NaN           NaN  NaN        NaN   \n",
       "2             NaN           NaN           NaN           NaN  NaN        NaN   \n",
       "3             NaN           NaN           NaN           NaN  NaN        NaN   \n",
       "4             NaN           NaN           NaN           NaN  NaN        NaN   \n",
       "..            ...           ...           ...           ...  ...        ...   \n",
       "246           NaN           NaN           NaN           NaN  NaN        NaN   \n",
       "247           NaN           NaN           NaN           NaN  NaN        NaN   \n",
       "248           NaN           NaN           NaN           NaN  NaN        NaN   \n",
       "249           NaN           NaN           NaN           NaN  NaN        NaN   \n",
       "250           NaN           NaN           NaN           NaN  NaN        NaN   \n",
       "\n",
       "     AGE  AGE GROUP  Digit Span  \n",
       "0    NaN        NaN         NaN  \n",
       "1    NaN        NaN         NaN  \n",
       "2    NaN        NaN         NaN  \n",
       "3    NaN        NaN         NaN  \n",
       "4    NaN        NaN         NaN  \n",
       "..   ...        ...         ...  \n",
       "246  NaN        NaN         NaN  \n",
       "247  NaN        NaN         NaN  \n",
       "248  NaN        NaN         NaN  \n",
       "249  NaN        NaN         NaN  \n",
       "250  NaN        NaN         NaN  \n",
       "\n",
       "[3765 rows x 43 columns]"
      ]
     },
     "execution_count": 392,
     "metadata": {},
     "output_type": "execute_result"
    }
   ],
   "source": [
    "cog_fin"
   ]
  },
  {
   "cell_type": "code",
   "execution_count": 399,
   "metadata": {},
   "outputs": [],
   "source": [
    "setA=[\"PD_00014_CI\",\"B\"]"
   ]
  },
  {
   "cell_type": "code",
   "execution_count": 400,
   "metadata": {},
   "outputs": [
    {
     "name": "stdout",
     "output_type": "stream",
     "text": [
      "Empty DataFrame\n",
      "Columns: [Principal Diagnosis, SYDID]\n",
      "Index: []\n",
      "             Principal Diagnosis        SYDID\n",
      "8  Idiopathic Parkinsons Disease  PD_00014_CI\n",
      "8  Idiopathic Parkinsons Disease  PD_00014_CI\n",
      "8  Idiopathic Parkinsons Disease  PD_00014_CI\n",
      "8  Idiopathic Parkinsons Disease  PD_00014_CI\n",
      "8  Idiopathic Parkinsons Disease  PD_00014_CI\n",
      "8  Idiopathic Parkinsons Disease  PD_00014_CI\n",
      "8  Idiopathic Parkinsons Disease  PD_00014_CI\n",
      "8  Idiopathic Parkinsons Disease  PD_00014_CI\n",
      "8  Idiopathic Parkinsons Disease  PD_00014_CI\n",
      "8  Idiopathic Parkinsons Disease  PD_00014_CI\n"
     ]
    }
   ],
   "source": [
    "for (columnName, columnData) in cog_fin[[\"Principal Diagnosis\",\"SYDID\"]].iteritems():\n",
    "    print(cog_fin[[\"Principal Diagnosis\",\"SYDID\"]][(cog_fin[columnName].isin(setA))].head(10))"
   ]
  },
  {
   "cell_type": "code",
   "execution_count": 377,
   "metadata": {},
   "outputs": [],
   "source": [
    "HADS_fin=reshape_data(HADS)"
   ]
  },
  {
   "cell_type": "code",
   "execution_count": 381,
   "metadata": {},
   "outputs": [],
   "source": [
    "BDI_fin=reshape_data(BDI)"
   ]
  },
  {
   "cell_type": "code",
   "execution_count": 384,
   "metadata": {},
   "outputs": [
    {
     "data": {
      "text/plain": [
       "index                     2008\n",
       "SYDID                     2008\n",
       "time_point                2008\n",
       "Birthdate                 1757\n",
       "Principal Diagnosis       1750\n",
       "Date/time                  802\n",
       "Years of education         802\n",
       "NART                       798\n",
       "MMSE result                800\n",
       "Age                        251\n",
       "Age group                  444\n",
       "Verbal fluency-letters     795\n",
       "Verbal fluency-animals     795\n",
       "Digit Span - Forward       794\n",
       "Digit Span - Backward      794\n",
       "Digit Span Total           797\n",
       "Digit Span ASS             796\n",
       "Logical Memory I           794\n",
       "ASS 1                      793\n",
       "Logical Memory II          794\n",
       "ASS 2                      794\n",
       "LM % Retention             794\n",
       "ASS %                      794\n",
       "LM Recognition             792\n",
       "Trails A Time              794\n",
       "Trails A Errors            794\n",
       "Trails A Z score           793\n",
       "Trails B Time              794\n",
       "Trails B Errors            794\n",
       "Trails B Z score           793\n",
       "Stroop  1 raw              439\n",
       "Stroop 1 ASS               439\n",
       "Stroop 2 raw               438\n",
       "Stroop 2 ASS               439\n",
       "Stroop 3 raw               439\n",
       "Stroop 3 ASS               439\n",
       "Stroop 4 raw               439\n",
       "Stroop 4 ASS               439\n",
       "Age                        326\n",
       "Age grpup                  133\n",
       "AGE                        225\n",
       "AGE GROUP                  225\n",
       "dtype: int64"
      ]
     },
     "execution_count": 384,
     "metadata": {},
     "output_type": "execute_result"
    }
   ],
   "source": [
    "BDI_fin.count()"
   ]
  },
  {
   "cell_type": "code",
   "execution_count": 344,
   "metadata": {},
   "outputs": [
    {
     "data": {
      "text/html": [
       "<div>\n",
       "<style scoped>\n",
       "    .dataframe tbody tr th:only-of-type {\n",
       "        vertical-align: middle;\n",
       "    }\n",
       "\n",
       "    .dataframe tbody tr th {\n",
       "        vertical-align: top;\n",
       "    }\n",
       "\n",
       "    .dataframe thead th {\n",
       "        text-align: right;\n",
       "    }\n",
       "</style>\n",
       "<table border=\"1\" class=\"dataframe\">\n",
       "  <thead>\n",
       "    <tr style=\"text-align: right;\">\n",
       "      <th></th>\n",
       "      <th>index</th>\n",
       "      <th>SYDID</th>\n",
       "      <th>Birthdate</th>\n",
       "      <th>Principal Diagnosis</th>\n",
       "      <th>time_point</th>\n",
       "      <th>Date/time</th>\n",
       "      <th>Years of education</th>\n",
       "      <th>NART</th>\n",
       "      <th>MMSE result</th>\n",
       "      <th>Age</th>\n",
       "      <th>...</th>\n",
       "      <th>Stroop 2 ASS</th>\n",
       "      <th>Stroop 3 raw</th>\n",
       "      <th>Stroop 3 ASS</th>\n",
       "      <th>Stroop 4 raw</th>\n",
       "      <th>Stroop 4 ASS</th>\n",
       "      <th>Age</th>\n",
       "      <th>Age grpup</th>\n",
       "      <th>AGE</th>\n",
       "      <th>AGE GROUP</th>\n",
       "      <th>Digit Span</th>\n",
       "    </tr>\n",
       "  </thead>\n",
       "  <tbody>\n",
       "    <tr>\n",
       "      <th>0</th>\n",
       "      <td>0</td>\n",
       "      <td>PD_00001_DA</td>\n",
       "      <td>1947-11-26</td>\n",
       "      <td>Idiopathic Parkinsons Disease</td>\n",
       "      <td>1</td>\n",
       "      <td>2008-10-06</td>\n",
       "      <td>10.0</td>\n",
       "      <td>89.0</td>\n",
       "      <td>29.0</td>\n",
       "      <td>60.0</td>\n",
       "      <td>...</td>\n",
       "      <td>NaN</td>\n",
       "      <td>NaN</td>\n",
       "      <td>NaN</td>\n",
       "      <td>NaN</td>\n",
       "      <td>NaN</td>\n",
       "      <td>NaN</td>\n",
       "      <td>NaN</td>\n",
       "      <td>NaN</td>\n",
       "      <td>NaN</td>\n",
       "      <td>NaN</td>\n",
       "    </tr>\n",
       "    <tr>\n",
       "      <th>1</th>\n",
       "      <td>1</td>\n",
       "      <td>PD_00002_MW</td>\n",
       "      <td>1943-05-30</td>\n",
       "      <td>Idiopathic Parkinsons Disease</td>\n",
       "      <td>1</td>\n",
       "      <td>2009-10-30</td>\n",
       "      <td>12.0</td>\n",
       "      <td>102.0</td>\n",
       "      <td>29.0</td>\n",
       "      <td>66.0</td>\n",
       "      <td>...</td>\n",
       "      <td>NaN</td>\n",
       "      <td>NaN</td>\n",
       "      <td>NaN</td>\n",
       "      <td>NaN</td>\n",
       "      <td>NaN</td>\n",
       "      <td>NaN</td>\n",
       "      <td>NaN</td>\n",
       "      <td>NaN</td>\n",
       "      <td>NaN</td>\n",
       "      <td>NaN</td>\n",
       "    </tr>\n",
       "    <tr>\n",
       "      <th>2</th>\n",
       "      <td>2</td>\n",
       "      <td>PD_00004_AW</td>\n",
       "      <td>1952-08-24</td>\n",
       "      <td>Idiopathic Parkinsons Disease</td>\n",
       "      <td>1</td>\n",
       "      <td>2008-11-04</td>\n",
       "      <td>17.0</td>\n",
       "      <td>112.0</td>\n",
       "      <td>30.0</td>\n",
       "      <td>56.0</td>\n",
       "      <td>...</td>\n",
       "      <td>NaN</td>\n",
       "      <td>NaN</td>\n",
       "      <td>NaN</td>\n",
       "      <td>NaN</td>\n",
       "      <td>NaN</td>\n",
       "      <td>NaN</td>\n",
       "      <td>NaN</td>\n",
       "      <td>NaN</td>\n",
       "      <td>NaN</td>\n",
       "      <td>NaN</td>\n",
       "    </tr>\n",
       "    <tr>\n",
       "      <th>3</th>\n",
       "      <td>3</td>\n",
       "      <td>PD_00008_BM</td>\n",
       "      <td>1944-01-02</td>\n",
       "      <td>Idiopathic Parkinsons Disease</td>\n",
       "      <td>1</td>\n",
       "      <td>2008-11-11</td>\n",
       "      <td>12.0</td>\n",
       "      <td>118.0</td>\n",
       "      <td>28.0</td>\n",
       "      <td>64.0</td>\n",
       "      <td>...</td>\n",
       "      <td>NaN</td>\n",
       "      <td>NaN</td>\n",
       "      <td>NaN</td>\n",
       "      <td>NaN</td>\n",
       "      <td>NaN</td>\n",
       "      <td>NaN</td>\n",
       "      <td>NaN</td>\n",
       "      <td>NaN</td>\n",
       "      <td>NaN</td>\n",
       "      <td>NaN</td>\n",
       "    </tr>\n",
       "    <tr>\n",
       "      <th>4</th>\n",
       "      <td>4</td>\n",
       "      <td>PD_00009_RP</td>\n",
       "      <td>1939-02-24</td>\n",
       "      <td>Idiopathic Parkinsons Disease</td>\n",
       "      <td>1</td>\n",
       "      <td>2008-12-02</td>\n",
       "      <td>13.0</td>\n",
       "      <td>105.0</td>\n",
       "      <td>30.0</td>\n",
       "      <td>69.0</td>\n",
       "      <td>...</td>\n",
       "      <td>NaN</td>\n",
       "      <td>NaN</td>\n",
       "      <td>NaN</td>\n",
       "      <td>NaN</td>\n",
       "      <td>NaN</td>\n",
       "      <td>NaN</td>\n",
       "      <td>NaN</td>\n",
       "      <td>NaN</td>\n",
       "      <td>NaN</td>\n",
       "      <td>NaN</td>\n",
       "    </tr>\n",
       "    <tr>\n",
       "      <th>...</th>\n",
       "      <td>...</td>\n",
       "      <td>...</td>\n",
       "      <td>...</td>\n",
       "      <td>...</td>\n",
       "      <td>...</td>\n",
       "      <td>...</td>\n",
       "      <td>...</td>\n",
       "      <td>...</td>\n",
       "      <td>...</td>\n",
       "      <td>...</td>\n",
       "      <td>...</td>\n",
       "      <td>...</td>\n",
       "      <td>...</td>\n",
       "      <td>...</td>\n",
       "      <td>...</td>\n",
       "      <td>...</td>\n",
       "      <td>...</td>\n",
       "      <td>...</td>\n",
       "      <td>...</td>\n",
       "      <td>...</td>\n",
       "      <td>...</td>\n",
       "    </tr>\n",
       "    <tr>\n",
       "      <th>15</th>\n",
       "      <td>15</td>\n",
       "      <td>PD_00025_SM</td>\n",
       "      <td>1965-12-20</td>\n",
       "      <td>Parkinson's Disease</td>\n",
       "      <td>9</td>\n",
       "      <td>2018-02-14</td>\n",
       "      <td>17.0</td>\n",
       "      <td>112.0</td>\n",
       "      <td>30.0</td>\n",
       "      <td>NaN</td>\n",
       "      <td>...</td>\n",
       "      <td>8.0</td>\n",
       "      <td>66.00</td>\n",
       "      <td>9.0</td>\n",
       "      <td>59.0</td>\n",
       "      <td>12.0</td>\n",
       "      <td>NaN</td>\n",
       "      <td>NaN</td>\n",
       "      <td>52.0</td>\n",
       "      <td>45-54</td>\n",
       "      <td>16.0</td>\n",
       "    </tr>\n",
       "    <tr>\n",
       "      <th>31</th>\n",
       "      <td>31</td>\n",
       "      <td>PD_00046_SW</td>\n",
       "      <td>1967-01-07</td>\n",
       "      <td>Idiopathic Parkinsons Disease</td>\n",
       "      <td>9</td>\n",
       "      <td>2019-11-20</td>\n",
       "      <td>15.0</td>\n",
       "      <td>116.0</td>\n",
       "      <td>30.0</td>\n",
       "      <td>NaN</td>\n",
       "      <td>...</td>\n",
       "      <td>13.0</td>\n",
       "      <td>54.69</td>\n",
       "      <td>11.0</td>\n",
       "      <td>82.0</td>\n",
       "      <td>8.0</td>\n",
       "      <td>NaN</td>\n",
       "      <td>NaN</td>\n",
       "      <td>52.0</td>\n",
       "      <td>45-54</td>\n",
       "      <td>11.0</td>\n",
       "    </tr>\n",
       "    <tr>\n",
       "      <th>37</th>\n",
       "      <td>37</td>\n",
       "      <td>PD_00054_BA</td>\n",
       "      <td>1956-06-18</td>\n",
       "      <td>Idiopathic Parkinsons Disease</td>\n",
       "      <td>9</td>\n",
       "      <td>2019-05-29</td>\n",
       "      <td>15.0</td>\n",
       "      <td>118.0</td>\n",
       "      <td>28.0</td>\n",
       "      <td>NaN</td>\n",
       "      <td>...</td>\n",
       "      <td>15.0</td>\n",
       "      <td>37.00</td>\n",
       "      <td>16.0</td>\n",
       "      <td>45.0</td>\n",
       "      <td>15.0</td>\n",
       "      <td>NaN</td>\n",
       "      <td>NaN</td>\n",
       "      <td>62.0</td>\n",
       "      <td>55-64</td>\n",
       "      <td>12.0</td>\n",
       "    </tr>\n",
       "    <tr>\n",
       "      <th>52</th>\n",
       "      <td>52</td>\n",
       "      <td>PD_00072_JB</td>\n",
       "      <td>1940-10-14</td>\n",
       "      <td>Idiopathic Parkinsons Disease</td>\n",
       "      <td>9</td>\n",
       "      <td>2018-07-18</td>\n",
       "      <td>15.0</td>\n",
       "      <td>103.0</td>\n",
       "      <td>30.0</td>\n",
       "      <td>NaN</td>\n",
       "      <td>...</td>\n",
       "      <td>8.0</td>\n",
       "      <td>69.00</td>\n",
       "      <td>11.0</td>\n",
       "      <td>70.0</td>\n",
       "      <td>11.0</td>\n",
       "      <td>NaN</td>\n",
       "      <td>NaN</td>\n",
       "      <td>77.0</td>\n",
       "      <td>75-79</td>\n",
       "      <td>9.0</td>\n",
       "    </tr>\n",
       "    <tr>\n",
       "      <th>103</th>\n",
       "      <td>103</td>\n",
       "      <td>PD_00193_ CD</td>\n",
       "      <td>1943-01-08</td>\n",
       "      <td>Idiopathic Parkinsons Disease</td>\n",
       "      <td>9</td>\n",
       "      <td>2019-04-03</td>\n",
       "      <td>17.0</td>\n",
       "      <td>126.0</td>\n",
       "      <td>28.0</td>\n",
       "      <td>NaN</td>\n",
       "      <td>...</td>\n",
       "      <td>8.0</td>\n",
       "      <td>73.00</td>\n",
       "      <td>10.0</td>\n",
       "      <td>84.0</td>\n",
       "      <td>9.0</td>\n",
       "      <td>NaN</td>\n",
       "      <td>NaN</td>\n",
       "      <td>76.0</td>\n",
       "      <td>75-79</td>\n",
       "      <td>14.0</td>\n",
       "    </tr>\n",
       "  </tbody>\n",
       "</table>\n",
       "<p>821 rows × 43 columns</p>\n",
       "</div>"
      ],
      "text/plain": [
       "     index         SYDID  Birthdate            Principal Diagnosis  \\\n",
       "0        0   PD_00001_DA 1947-11-26  Idiopathic Parkinsons Disease   \n",
       "1        1   PD_00002_MW 1943-05-30  Idiopathic Parkinsons Disease   \n",
       "2        2   PD_00004_AW 1952-08-24  Idiopathic Parkinsons Disease   \n",
       "3        3   PD_00008_BM 1944-01-02  Idiopathic Parkinsons Disease   \n",
       "4        4   PD_00009_RP 1939-02-24  Idiopathic Parkinsons Disease   \n",
       "..     ...           ...        ...                            ...   \n",
       "15      15   PD_00025_SM 1965-12-20            Parkinson's Disease   \n",
       "31      31   PD_00046_SW 1967-01-07  Idiopathic Parkinsons Disease   \n",
       "37      37   PD_00054_BA 1956-06-18  Idiopathic Parkinsons Disease   \n",
       "52      52   PD_00072_JB 1940-10-14  Idiopathic Parkinsons Disease   \n",
       "103    103  PD_00193_ CD 1943-01-08  Idiopathic Parkinsons Disease   \n",
       "\n",
       "     time_point  Date/time  Years of education   NART  MMSE result  Age   ...  \\\n",
       "0             1 2008-10-06                10.0   89.0         29.0  60.0  ...   \n",
       "1             1 2009-10-30                12.0  102.0         29.0  66.0  ...   \n",
       "2             1 2008-11-04                17.0  112.0         30.0  56.0  ...   \n",
       "3             1 2008-11-11                12.0  118.0         28.0  64.0  ...   \n",
       "4             1 2008-12-02                13.0  105.0         30.0  69.0  ...   \n",
       "..          ...        ...                 ...    ...          ...   ...  ...   \n",
       "15            9 2018-02-14                17.0  112.0         30.0   NaN  ...   \n",
       "31            9 2019-11-20                15.0  116.0         30.0   NaN  ...   \n",
       "37            9 2019-05-29                15.0  118.0         28.0   NaN  ...   \n",
       "52            9 2018-07-18                15.0  103.0         30.0   NaN  ...   \n",
       "103           9 2019-04-03                17.0  126.0         28.0   NaN  ...   \n",
       "\n",
       "    Stroop 2 ASS  Stroop 3 raw  Stroop 3 ASS  Stroop 4 raw  Stroop 4 ASS  Age  \\\n",
       "0            NaN           NaN           NaN           NaN           NaN  NaN   \n",
       "1            NaN           NaN           NaN           NaN           NaN  NaN   \n",
       "2            NaN           NaN           NaN           NaN           NaN  NaN   \n",
       "3            NaN           NaN           NaN           NaN           NaN  NaN   \n",
       "4            NaN           NaN           NaN           NaN           NaN  NaN   \n",
       "..           ...           ...           ...           ...           ...  ...   \n",
       "15           8.0         66.00           9.0          59.0          12.0  NaN   \n",
       "31          13.0         54.69          11.0          82.0           8.0  NaN   \n",
       "37          15.0         37.00          16.0          45.0          15.0  NaN   \n",
       "52           8.0         69.00          11.0          70.0          11.0  NaN   \n",
       "103          8.0         73.00          10.0          84.0           9.0  NaN   \n",
       "\n",
       "     Age grpup   AGE  AGE GROUP  Digit Span  \n",
       "0          NaN   NaN        NaN         NaN  \n",
       "1          NaN   NaN        NaN         NaN  \n",
       "2          NaN   NaN        NaN         NaN  \n",
       "3          NaN   NaN        NaN         NaN  \n",
       "4          NaN   NaN        NaN         NaN  \n",
       "..         ...   ...        ...         ...  \n",
       "15         NaN  52.0      45-54        16.0  \n",
       "31         NaN  52.0      45-54        11.0  \n",
       "37         NaN  62.0      55-64        12.0  \n",
       "52         NaN  77.0      75-79         9.0  \n",
       "103        NaN  76.0      75-79        14.0  \n",
       "\n",
       "[821 rows x 43 columns]"
      ]
     },
     "execution_count": 344,
     "metadata": {},
     "output_type": "execute_result"
    }
   ],
   "source": [
    "df_fin[pd.notnull(df_fin['Date/time'])]"
   ]
  },
  {
   "cell_type": "code",
   "execution_count": 39,
   "metadata": {},
   "outputs": [
    {
     "data": {
      "text/plain": [
       "SYDID\n",
       "PD_00001_DA    10\n",
       "PD_00002_MW    10\n",
       "PD_00004_AW    10\n",
       "PD_00008_BM    10\n",
       "PD_00009_RP    10\n",
       "               ..\n",
       "PD_00555_PH    10\n",
       "PD_00557_DC    10\n",
       "PD_00563_JH    10\n",
       "PD_00568_MB    10\n",
       "PD_00583_KC    10\n",
       "Length: 251, dtype: int64"
      ]
     },
     "execution_count": 39,
     "metadata": {},
     "output_type": "execute_result"
    }
   ],
   "source": [
    "df_fin.groupby('SYDID').size()"
   ]
  },
  {
   "cell_type": "code",
   "execution_count": null,
   "metadata": {},
   "outputs": [],
   "source": []
  }
 ],
 "metadata": {
  "kernelspec": {
   "display_name": "Python 3",
   "language": "python",
   "name": "python3"
  },
  "language_info": {
   "codemirror_mode": {
    "name": "ipython",
    "version": 3
   },
   "file_extension": ".py",
   "mimetype": "text/x-python",
   "name": "python",
   "nbconvert_exporter": "python",
   "pygments_lexer": "ipython3",
   "version": "3.7.6"
  },
  "toc": {
   "base_numbering": 1,
   "nav_menu": {},
   "number_sections": false,
   "sideBar": true,
   "skip_h1_title": false,
   "title_cell": "Table of Contents",
   "title_sidebar": "Contents",
   "toc_cell": false,
   "toc_position": {},
   "toc_section_display": true,
   "toc_window_display": false
  }
 },
 "nbformat": 4,
 "nbformat_minor": 4
}
