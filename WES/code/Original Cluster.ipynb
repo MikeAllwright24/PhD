{
 "cells": [
  {
   "cell_type": "markdown",
   "metadata": {
    "ExecuteTime": {
     "end_time": "2021-01-22T06:30:14.011003Z",
     "start_time": "2021-01-22T06:30:14.005540Z"
    }
   },
   "source": [
    "# Cluster Analysis Based on MCI Original"
   ]
  },
  {
   "cell_type": "code",
   "execution_count": 200,
   "metadata": {
    "ExecuteTime": {
     "end_time": "2021-02-17T23:14:26.280394Z",
     "start_time": "2021-02-17T23:14:26.264689Z"
    }
   },
   "outputs": [],
   "source": [
    "'''\n",
    "Import key packages\n",
    "'''\n",
    "import umap\n",
    "import pandas as pd\n",
    "import numpy as np\n",
    "import re\n",
    "import seaborn as sns\n",
    "import matplotlib.pyplot as plt\n",
    "import scipy\n",
    "from functools import reduce\n",
    "from sklearn.linear_model import LinearRegression\n",
    "from sklearn.cluster import KMeans\n",
    "\n",
    "# debug mode (spits messages verbosely)\n",
    "DEBUG = 0  # change it to 0 to switch it off\n",
    "\n",
    "loc=\"../../../WES/Clinical Data/Raw/\"\n",
    "outdata=\"../../../WES/Clinical Data/Processed/\"\n",
    "\n",
    "config =dict(\\\n",
    "varsnormalise=['udprs_Disease_Progression','udprs_Age_Diagnosis','cog1_MMSE result',\\\n",
    "'udprs_non_tremor','udprs_tremor','udprs_tremor_ratio','cog1_NART','BDI_BDI Total'],\\\n",
    "nonnormvars=['cog1_Trails A Z score','Lm2_cut','ESS_norm','FOGQ_FOGQ 3','DDE_norm'],\\\n",
    "umap_neigbours=10,umap_comps=2,kmeans_try=10)\n",
    "\n",
    "varsnormalise=config['varsnormalise']\n",
    "nonnormvars=config['nonnormvars']\n",
    "\n",
    "\n",
    "varsnormalise=['udprs_Disease_Progression','udprs_Age_Diagnosis','cog1_MMSE result',\\\n",
    "'udprs_tremor_ratio','cog1_NART','BDI_BDI Total']\n",
    "nonnormvars=['cog1_Trails A Z score','Lm2_cut','ESS_norm','FOGQ_FOGQ 3','DDE_norm']"
   ]
  },
  {
   "cell_type": "code",
   "execution_count": 201,
   "metadata": {
    "ExecuteTime": {
     "end_time": "2021-02-17T23:14:26.490573Z",
     "start_time": "2021-02-17T23:14:26.457883Z"
    }
   },
   "outputs": [],
   "source": [
    "def z_score(col):\n",
    "    x = (col - col.mean())/col.std(ddof=0)\n",
    "    return  x\n",
    "\n",
    "def takeonlyx_sd(df,x=5):\n",
    "\n",
    "    for var in df.columns:\n",
    "        if re.search('float|int',str(df[var].dtype)):\n",
    "            maxvar=df[var].mean()+df[var].std()*5\n",
    "            minvar=df[var].mean()-df[var].std()*5\n",
    "            mask_rng=(df[var].between(minvar,maxvar))\n",
    "            df[var][~mask_rng]=df[var][mask_rng].mean()\n",
    "           # print(df[var].max())\n",
    "           # print(df.shape)\n",
    "    return df\n",
    "\n",
    "def replacenullsmean(df,dropcols=['SYDID','Date of assessment','max_date']):\n",
    "    usecols=[col for col in df.columns if col not in dropcols]\n",
    "    df[usecols]=df[usecols].replace([np.inf, -np.inf], np.nan)\n",
    "    for col in df[usecols].columns:\n",
    "        nullmask=(df[col].isna())\n",
    "        df[col][nullmask]=df[col][~nullmask].mean()\n",
    "    return df\n",
    "\n",
    "def umap_reducer(df,vars,neighb=10,comp=5):\n",
    "    df_out=df.copy()\n",
    "    \n",
    "    for col in df_out.columns:\n",
    "        if df_out[col].dtype!='object':\n",
    "            df_out[col]=df_out[col].fillna(df_out[col][pd.notnull(df_out[col])].mean())\n",
    "              \n",
    "    dmod=df_out[[col for col in vars if col!='SYDID' and re.search('float',str(df_out[col].dtype))\n",
    "                and df_out[col].count()>=df_out.shape[0]]]\n",
    "    print(dmod.shape)\n",
    "    \n",
    "    reducer= umap.UMAP(n_neighbors=neighb,n_components=comp)\n",
    "    reddata = pd.DataFrame(reducer.fit_transform(dmod)).reset_index()\n",
    "    reddata.shape\n",
    "    \n",
    "    reddata.columns=['index','umap_var1','umap_var2']\n",
    "    df_out[['index','umap_var1','umap_var2']]=reddata[['index','umap_var1','umap_var2']]\n",
    "    return df_out\n",
    "\n",
    "def elbow_clust(df,clustrange=10,clustfit=4,dropvars=['SYDID','Date of assessment','max_date']):\n",
    "    df_vars=df.drop(columns=dropvars)\n",
    "    dv2=[col for col in df_vars if df_vars[col].dtype=='float32']\n",
    "    print(dv2)\n",
    "    df_vars=df_vars[dv2]\n",
    "    print(df_vars.columns)\n",
    "    df_vars=replacenullsmean(df_vars)\n",
    "    \n",
    "    wcss=[]\n",
    "    #print(df_vars.head())\n",
    "    for i in range(1,clustrange): \n",
    "         kmeans = KMeans(n_clusters=i, init ='k-means++', max_iter=300,  n_init=clustrange-1,random_state=0)\n",
    "         kmeans.fit(df_vars)\n",
    "         wcss.append(kmeans.inertia_)\n",
    "    plt.plot(range(1,clustrange),wcss)\n",
    "    plt.title('The Elbow Method Graph')\n",
    "    plt.xlabel('Number of clusters')\n",
    "    plt.ylabel('WCSS')\n",
    "    plt.show()\n",
    "    kmeans = KMeans(n_clusters=clustfit, random_state=0).fit(df_vars)\n",
    "    df['cluster_label']=kmeans.labels_.tolist()\n",
    "    return df\n",
    "\n",
    "def findcols(df,string):\n",
    "    return [col for col in df.columns if re.search(string,col)]"
   ]
  },
  {
   "cell_type": "code",
   "execution_count": 202,
   "metadata": {
    "ExecuteTime": {
     "end_time": "2021-02-17T23:14:27.436769Z",
     "start_time": "2021-02-17T23:14:27.344369Z"
    }
   },
   "outputs": [],
   "source": [
    "PDcombined=pd.read_csv('%s%s' % (outdata,'PDcombined.csv'))"
   ]
  },
  {
   "cell_type": "code",
   "execution_count": 203,
   "metadata": {
    "ExecuteTime": {
     "end_time": "2021-02-17T23:14:28.208329Z",
     "start_time": "2021-02-17T23:14:28.202591Z"
    }
   },
   "outputs": [],
   "source": [
    "longvars=['udprs_SectionIIITotal_coef','cog1_MMSEresult_coef','udprs_UDPRS_Tot_coef']"
   ]
  },
  {
   "cell_type": "markdown",
   "metadata": {},
   "source": [
    "#### Data Processing"
   ]
  },
  {
   "cell_type": "code",
   "execution_count": 206,
   "metadata": {
    "ExecuteTime": {
     "end_time": "2021-02-17T23:14:57.893807Z",
     "start_time": "2021-02-17T23:14:57.886191Z"
    }
   },
   "outputs": [],
   "source": [
    "mask_BDI_miss=(PDcombined['BDI_BDI Total']>200)"
   ]
  },
  {
   "cell_type": "code",
   "execution_count": 207,
   "metadata": {
    "ExecuteTime": {
     "end_time": "2021-02-17T23:14:58.224056Z",
     "start_time": "2021-02-17T23:14:58.215072Z"
    }
   },
   "outputs": [],
   "source": [
    "PDcombined=PDcombined[~(mask_BDI_miss)]"
   ]
  },
  {
   "cell_type": "code",
   "execution_count": 208,
   "metadata": {
    "ExecuteTime": {
     "end_time": "2021-02-17T23:14:58.522477Z",
     "start_time": "2021-02-17T23:14:58.369856Z"
    }
   },
   "outputs": [
    {
     "name": "stderr",
     "output_type": "stream",
     "text": [
      "/opt/conda/lib/python3.7/site-packages/ipykernel_launcher.py:5: SettingWithCopyWarning: \n",
      "A value is trying to be set on a copy of a slice from a DataFrame\n",
      "\n",
      "See the caveats in the documentation: http://pandas.pydata.org/pandas-docs/stable/user_guide/indexing.html#returning-a-view-versus-a-copy\n",
      "  \"\"\"\n",
      "/opt/conda/lib/python3.7/site-packages/ipykernel_launcher.py:10: SettingWithCopyWarning: \n",
      "A value is trying to be set on a copy of a slice from a DataFrame\n",
      "\n",
      "See the caveats in the documentation: http://pandas.pydata.org/pandas-docs/stable/user_guide/indexing.html#returning-a-view-versus-a-copy\n",
      "  # Remove the CWD from sys.path while we load stuff.\n",
      "/opt/conda/lib/python3.7/site-packages/ipykernel_launcher.py:11: SettingWithCopyWarning: \n",
      "A value is trying to be set on a copy of a slice from a DataFrame\n",
      "\n",
      "See the caveats in the documentation: http://pandas.pydata.org/pandas-docs/stable/user_guide/indexing.html#returning-a-view-versus-a-copy\n",
      "  # This is added back by InteractiveShellApp.init_path()\n",
      "/opt/conda/lib/python3.7/site-packages/ipykernel_launcher.py:15: SettingWithCopyWarning: \n",
      "A value is trying to be set on a copy of a slice from a DataFrame\n",
      "\n",
      "See the caveats in the documentation: http://pandas.pydata.org/pandas-docs/stable/user_guide/indexing.html#returning-a-view-versus-a-copy\n",
      "  from ipykernel import kernelapp as app\n",
      "/opt/conda/lib/python3.7/site-packages/ipykernel_launcher.py:19: SettingWithCopyWarning: \n",
      "A value is trying to be set on a copy of a slice from a DataFrame\n",
      "\n",
      "See the caveats in the documentation: http://pandas.pydata.org/pandas-docs/stable/user_guide/indexing.html#returning-a-view-versus-a-copy\n",
      "/opt/conda/lib/python3.7/site-packages/ipykernel_launcher.py:22: SettingWithCopyWarning: \n",
      "A value is trying to be set on a copy of a slice from a DataFrame\n",
      "\n",
      "See the caveats in the documentation: http://pandas.pydata.org/pandas-docs/stable/user_guide/indexing.html#returning-a-view-versus-a-copy\n",
      "/opt/conda/lib/python3.7/site-packages/ipykernel_launcher.py:26: SettingWithCopyWarning: \n",
      "A value is trying to be set on a copy of a slice from a DataFrame\n",
      "\n",
      "See the caveats in the documentation: http://pandas.pydata.org/pandas-docs/stable/user_guide/indexing.html#returning-a-view-versus-a-copy\n"
     ]
    }
   ],
   "source": [
    "\n",
    "logmem2cutoff=PDcombined['cog1_Logical Memory II'].mean()+PDcombined['cog1_Logical Memory II'].std()*1.5\n",
    "masklm2=(PDcombined['cog1_Logical Memory II']<logmem2cutoff)\n",
    "\n",
    "PDcombined['Lm2_cut']=0\n",
    "PDcombined['Lm2_cut'][(masklm2)]=1\n",
    "\n",
    "mask0=(PDcombined['udprs_DDE']>0)\n",
    "masklt1000=(PDcombined['udprs_DDE']<1000)\n",
    "PDcombined['DDE_norm']=0\n",
    "PDcombined['DDE_norm'][mask0&masklt1000]=1\n",
    "PDcombined['DDE_norm'][mask0&~masklt1000]=2\n",
    "\n",
    "maskbdi=(PDcombined['BDI_BDI Total']>13)\n",
    "PDcombined['BDI_norm']=0\n",
    "PDcombined['BDI_norm'][maskbdi]=1\n",
    "\n",
    "maskess=(PDcombined['ESS_ESS Total']>10)\n",
    "PDcombined['ESS_norm']=0\n",
    "PDcombined['ESS_norm'][maskess]=1\n",
    "\n",
    "mask_ratio=((PDcombined['udprs_tremor_ratio']==np.inf))\n",
    "PDcombined['udprs_tremor_ratio'][mask_ratio]=PDcombined['udprs_tremor_ratio'][~mask_ratio].mean()\n",
    "\n",
    "for col in varsnormalise:\n",
    "    nullmask=(PDcombined[col].isna())\n",
    "    PDcombined[col][nullmask]=PDcombined[col][~nullmask].mean()\n",
    "    PDcombined[col+'_z_score']=z_score(PDcombined[col])\n",
    "vars_z=[var +'_z_score' for var in varsnormalise ]\n",
    "varscluster=np.append(['SYDID','Date of assessment'],nonnormvars)\n",
    "varscluster=np.append(varscluster,vars_z)\n",
    "\n",
    "'''\n",
    "Substitute to only have max date\n",
    "'''\n",
    "PDcombined['max_date']=PDcombined.groupby('SYDID')['Date of assessment'].transform(max)\n",
    "\n",
    "mask_date_max=(PDcombined['max_date']==PDcombined['Date of assessment'])\n",
    "PDcombined_sub=PDcombined[mask_date_max]\n",
    "\n",
    "'''\n",
    "Removal of columns that don't work\n",
    "'''\n",
    "\n",
    "othcols=[col for col in PDcombined.columns if (PDcombined[col].dtype!='object'\\\n",
    "and col not in varscluster) or col in ['SYDID','Date of assessment','udprs_Disease_Progression',\\\n",
    "'udprs_Age_Diagnosis']]"
   ]
  },
  {
   "cell_type": "code",
   "execution_count": 209,
   "metadata": {
    "ExecuteTime": {
     "end_time": "2021-02-17T23:15:03.297565Z",
     "start_time": "2021-02-17T23:14:58.955573Z"
    }
   },
   "outputs": [
    {
     "name": "stderr",
     "output_type": "stream",
     "text": [
      "/opt/conda/lib/python3.7/site-packages/ipykernel_launcher.py:12: SettingWithCopyWarning: \n",
      "A value is trying to be set on a copy of a slice from a DataFrame\n",
      "\n",
      "See the caveats in the documentation: http://pandas.pydata.org/pandas-docs/stable/user_guide/indexing.html#returning-a-view-versus-a-copy\n",
      "  if sys.path[0] == '':\n",
      "/opt/conda/lib/python3.7/site-packages/pandas/core/generic.py:9114: SettingWithCopyWarning: \n",
      "A value is trying to be set on a copy of a slice from a DataFrame\n",
      "\n",
      "See the caveats in the documentation: http://pandas.pydata.org/pandas-docs/stable/user_guide/indexing.html#returning-a-view-versus-a-copy\n",
      "  self._update_inplace(new_data)\n",
      "/opt/conda/lib/python3.7/site-packages/ipykernel_launcher.py:7: SettingWithCopyWarning: \n",
      "A value is trying to be set on a copy of a slice from a DataFrame\n",
      "\n",
      "See the caveats in the documentation: http://pandas.pydata.org/pandas-docs/stable/user_guide/indexing.html#returning-a-view-versus-a-copy\n",
      "  import sys\n",
      "/opt/conda/lib/python3.7/site-packages/pandas/core/generic.py:9114: SettingWithCopyWarning: \n",
      "A value is trying to be set on a copy of a slice from a DataFrame\n",
      "\n",
      "See the caveats in the documentation: http://pandas.pydata.org/pandas-docs/stable/user_guide/indexing.html#returning-a-view-versus-a-copy\n",
      "  self._update_inplace(new_data)\n",
      "/opt/conda/lib/python3.7/site-packages/ipykernel_launcher.py:7: SettingWithCopyWarning: \n",
      "A value is trying to be set on a copy of a slice from a DataFrame\n",
      "\n",
      "See the caveats in the documentation: http://pandas.pydata.org/pandas-docs/stable/user_guide/indexing.html#returning-a-view-versus-a-copy\n",
      "  import sys\n",
      "/opt/conda/lib/python3.7/site-packages/ipykernel_launcher.py:12: SettingWithCopyWarning: \n",
      "A value is trying to be set on a copy of a slice from a DataFrame\n",
      "\n",
      "See the caveats in the documentation: http://pandas.pydata.org/pandas-docs/stable/user_guide/indexing.html#returning-a-view-versus-a-copy\n",
      "  if sys.path[0] == '':\n",
      "/opt/conda/lib/python3.7/site-packages/pandas/core/generic.py:9114: SettingWithCopyWarning: \n",
      "A value is trying to be set on a copy of a slice from a DataFrame\n",
      "\n",
      "See the caveats in the documentation: http://pandas.pydata.org/pandas-docs/stable/user_guide/indexing.html#returning-a-view-versus-a-copy\n",
      "  self._update_inplace(new_data)\n",
      "/opt/conda/lib/python3.7/site-packages/ipykernel_launcher.py:7: SettingWithCopyWarning: \n",
      "A value is trying to be set on a copy of a slice from a DataFrame\n",
      "\n",
      "See the caveats in the documentation: http://pandas.pydata.org/pandas-docs/stable/user_guide/indexing.html#returning-a-view-versus-a-copy\n",
      "  import sys\n",
      "/opt/conda/lib/python3.7/site-packages/ipykernel_launcher.py:12: SettingWithCopyWarning: \n",
      "A value is trying to be set on a copy of a slice from a DataFrame\n",
      "\n",
      "See the caveats in the documentation: http://pandas.pydata.org/pandas-docs/stable/user_guide/indexing.html#returning-a-view-versus-a-copy\n",
      "  if sys.path[0] == '':\n",
      "/opt/conda/lib/python3.7/site-packages/pandas/core/frame.py:3509: SettingWithCopyWarning: \n",
      "A value is trying to be set on a copy of a slice from a DataFrame.\n",
      "Try using .loc[row_indexer,col_indexer] = value instead\n",
      "\n",
      "See the caveats in the documentation: http://pandas.pydata.org/pandas-docs/stable/user_guide/indexing.html#returning-a-view-versus-a-copy\n",
      "  self[k1] = value[k2]\n",
      "/opt/conda/lib/python3.7/site-packages/ipykernel_launcher.py:22: SettingWithCopyWarning: \n",
      "A value is trying to be set on a copy of a slice from a DataFrame\n",
      "\n",
      "See the caveats in the documentation: http://pandas.pydata.org/pandas-docs/stable/user_guide/indexing.html#returning-a-view-versus-a-copy\n",
      "/opt/conda/lib/python3.7/site-packages/ipykernel_launcher.py:8: SettingWithCopyWarning: \n",
      "A value is trying to be set on a copy of a slice from a DataFrame\n",
      "\n",
      "See the caveats in the documentation: http://pandas.pydata.org/pandas-docs/stable/user_guide/indexing.html#returning-a-view-versus-a-copy\n",
      "  \n"
     ]
    },
    {
     "name": "stdout",
     "output_type": "stream",
     "text": [
      "(151, 342)\n"
     ]
    }
   ],
   "source": [
    "PDcluster_alt=PDcombined_sub[othcols]\n",
    "PDcluster=PDcombined_sub[varscluster]\n",
    "\n",
    "for var in PDcluster.columns:\n",
    "    PDcluster=PDcluster[(PDcluster[var]!=999)]\n",
    "    \n",
    "PDcluster_alt=takeonlyx_sd(df=PDcluster_alt,x=3)\n",
    "PDcluster_alt=replacenullsmean(PDcluster_alt)\n",
    "\n",
    "'''\n",
    "Reduce using umap\n",
    "'''\n",
    "\n",
    "pdclust_umap=umap_reducer(PDcluster_alt,PDcluster_alt.columns,\\\n",
    "neighb=config['umap_neigbours'],comp=config['umap_comps'])"
   ]
  },
  {
   "cell_type": "code",
   "execution_count": 210,
   "metadata": {
    "ExecuteTime": {
     "end_time": "2021-02-17T23:15:03.685656Z",
     "start_time": "2021-02-17T23:15:03.300025Z"
    }
   },
   "outputs": [
    {
     "name": "stdout",
     "output_type": "stream",
     "text": [
      "(150, 8)\n"
     ]
    }
   ],
   "source": [
    "pdclust_umap=umap_reducer(PDcluster,PDcluster.columns,neighb=10,comp=2)"
   ]
  },
  {
   "cell_type": "code",
   "execution_count": 211,
   "metadata": {
    "ExecuteTime": {
     "end_time": "2021-02-17T23:15:03.721988Z",
     "start_time": "2021-02-17T23:15:03.688240Z"
    }
   },
   "outputs": [
    {
     "data": {
      "text/html": [
       "<div>\n",
       "<style scoped>\n",
       "    .dataframe tbody tr th:only-of-type {\n",
       "        vertical-align: middle;\n",
       "    }\n",
       "\n",
       "    .dataframe tbody tr th {\n",
       "        vertical-align: top;\n",
       "    }\n",
       "\n",
       "    .dataframe thead th {\n",
       "        text-align: right;\n",
       "    }\n",
       "</style>\n",
       "<table border=\"1\" class=\"dataframe\">\n",
       "  <thead>\n",
       "    <tr style=\"text-align: right;\">\n",
       "      <th></th>\n",
       "      <th>SYDID</th>\n",
       "      <th>Date of assessment</th>\n",
       "      <th>cog1_Trails A Z score</th>\n",
       "      <th>Lm2_cut</th>\n",
       "      <th>ESS_norm</th>\n",
       "      <th>FOGQ_FOGQ 3</th>\n",
       "      <th>DDE_norm</th>\n",
       "      <th>udprs_Disease_Progression_z_score</th>\n",
       "      <th>udprs_Age_Diagnosis_z_score</th>\n",
       "      <th>cog1_MMSE result_z_score</th>\n",
       "      <th>udprs_tremor_ratio_z_score</th>\n",
       "      <th>cog1_NART_z_score</th>\n",
       "      <th>BDI_BDI Total_z_score</th>\n",
       "      <th>index</th>\n",
       "      <th>umap_var1</th>\n",
       "      <th>umap_var2</th>\n",
       "    </tr>\n",
       "  </thead>\n",
       "  <tbody>\n",
       "    <tr>\n",
       "      <th>0</th>\n",
       "      <td>PD_00001_DA</td>\n",
       "      <td>2013-05-28</td>\n",
       "      <td>-0.520</td>\n",
       "      <td>1</td>\n",
       "      <td>0</td>\n",
       "      <td>1.047619</td>\n",
       "      <td>2</td>\n",
       "      <td>-0.077734</td>\n",
       "      <td>0.033663</td>\n",
       "      <td>-2.383226</td>\n",
       "      <td>-0.070668</td>\n",
       "      <td>-1.836709</td>\n",
       "      <td>0.253801</td>\n",
       "      <td>0.0</td>\n",
       "      <td>0.305020</td>\n",
       "      <td>-0.504193</td>\n",
       "    </tr>\n",
       "    <tr>\n",
       "      <th>1</th>\n",
       "      <td>PD_00002_MW</td>\n",
       "      <td>2011-10-25</td>\n",
       "      <td>-3.290</td>\n",
       "      <td>1</td>\n",
       "      <td>1</td>\n",
       "      <td>3.000000</td>\n",
       "      <td>1</td>\n",
       "      <td>-0.043221</td>\n",
       "      <td>0.502714</td>\n",
       "      <td>0.750198</td>\n",
       "      <td>-0.818351</td>\n",
       "      <td>-0.742829</td>\n",
       "      <td>0.422319</td>\n",
       "      <td>1.0</td>\n",
       "      <td>-1.459161</td>\n",
       "      <td>-0.939984</td>\n",
       "    </tr>\n",
       "    <tr>\n",
       "      <th>5</th>\n",
       "      <td>PD_00004_AW</td>\n",
       "      <td>2014-07-21</td>\n",
       "      <td>1.160</td>\n",
       "      <td>1</td>\n",
       "      <td>0</td>\n",
       "      <td>0.000000</td>\n",
       "      <td>2</td>\n",
       "      <td>-0.110481</td>\n",
       "      <td>-0.453450</td>\n",
       "      <td>0.227961</td>\n",
       "      <td>-1.030531</td>\n",
       "      <td>0.098618</td>\n",
       "      <td>-0.925827</td>\n",
       "      <td>5.0</td>\n",
       "      <td>-3.055317</td>\n",
       "      <td>0.269864</td>\n",
       "    </tr>\n",
       "    <tr>\n",
       "      <th>7</th>\n",
       "      <td>PD_00008_BM</td>\n",
       "      <td>2014-11-03</td>\n",
       "      <td>0.940</td>\n",
       "      <td>1</td>\n",
       "      <td>0</td>\n",
       "      <td>0.000000</td>\n",
       "      <td>1</td>\n",
       "      <td>-0.091540</td>\n",
       "      <td>0.501840</td>\n",
       "      <td>0.750198</td>\n",
       "      <td>1.741075</td>\n",
       "      <td>0.603485</td>\n",
       "      <td>0.085283</td>\n",
       "      <td>7.0</td>\n",
       "      <td>-3.137267</td>\n",
       "      <td>-0.620191</td>\n",
       "    </tr>\n",
       "    <tr>\n",
       "      <th>8</th>\n",
       "      <td>PD_00017_RE</td>\n",
       "      <td>2011-08-23</td>\n",
       "      <td>0.150</td>\n",
       "      <td>1</td>\n",
       "      <td>0</td>\n",
       "      <td>1.047619</td>\n",
       "      <td>1</td>\n",
       "      <td>-0.061349</td>\n",
       "      <td>0.569138</td>\n",
       "      <td>-1.860989</td>\n",
       "      <td>-0.022674</td>\n",
       "      <td>0.855919</td>\n",
       "      <td>0.253801</td>\n",
       "      <td>8.0</td>\n",
       "      <td>2.418003</td>\n",
       "      <td>1.677956</td>\n",
       "    </tr>\n",
       "    <tr>\n",
       "      <th>...</th>\n",
       "      <td>...</td>\n",
       "      <td>...</td>\n",
       "      <td>...</td>\n",
       "      <td>...</td>\n",
       "      <td>...</td>\n",
       "      <td>...</td>\n",
       "      <td>...</td>\n",
       "      <td>...</td>\n",
       "      <td>...</td>\n",
       "      <td>...</td>\n",
       "      <td>...</td>\n",
       "      <td>...</td>\n",
       "      <td>...</td>\n",
       "      <td>...</td>\n",
       "      <td>...</td>\n",
       "      <td>...</td>\n",
       "    </tr>\n",
       "    <tr>\n",
       "      <th>250</th>\n",
       "      <td>PD_00553_KM</td>\n",
       "      <td>2012-10-16</td>\n",
       "      <td>-0.450</td>\n",
       "      <td>1</td>\n",
       "      <td>1</td>\n",
       "      <td>0.000000</td>\n",
       "      <td>2</td>\n",
       "      <td>-0.078202</td>\n",
       "      <td>0.985749</td>\n",
       "      <td>0.227961</td>\n",
       "      <td>-0.855252</td>\n",
       "      <td>-0.322106</td>\n",
       "      <td>-0.757309</td>\n",
       "      <td>NaN</td>\n",
       "      <td>NaN</td>\n",
       "      <td>NaN</td>\n",
       "    </tr>\n",
       "    <tr>\n",
       "      <th>251</th>\n",
       "      <td>PD_00555_PH</td>\n",
       "      <td>2012-11-20</td>\n",
       "      <td>-1.847</td>\n",
       "      <td>1</td>\n",
       "      <td>1</td>\n",
       "      <td>0.000000</td>\n",
       "      <td>1</td>\n",
       "      <td>-0.001956</td>\n",
       "      <td>1.191432</td>\n",
       "      <td>-1.860989</td>\n",
       "      <td>0.761214</td>\n",
       "      <td>0.182762</td>\n",
       "      <td>0.759355</td>\n",
       "      <td>NaN</td>\n",
       "      <td>NaN</td>\n",
       "      <td>NaN</td>\n",
       "    </tr>\n",
       "    <tr>\n",
       "      <th>252</th>\n",
       "      <td>PD_00557_DC</td>\n",
       "      <td>2012-11-06</td>\n",
       "      <td>-0.770</td>\n",
       "      <td>1</td>\n",
       "      <td>0</td>\n",
       "      <td>1.047619</td>\n",
       "      <td>1</td>\n",
       "      <td>-0.098159</td>\n",
       "      <td>1.109858</td>\n",
       "      <td>-1.338752</td>\n",
       "      <td>-0.100202</td>\n",
       "      <td>-0.658684</td>\n",
       "      <td>-0.757309</td>\n",
       "      <td>NaN</td>\n",
       "      <td>NaN</td>\n",
       "      <td>NaN</td>\n",
       "    </tr>\n",
       "    <tr>\n",
       "      <th>253</th>\n",
       "      <td>PD_00568_MB</td>\n",
       "      <td>2012-11-27</td>\n",
       "      <td>-0.320</td>\n",
       "      <td>1</td>\n",
       "      <td>0</td>\n",
       "      <td>0.000000</td>\n",
       "      <td>0</td>\n",
       "      <td>15.734719</td>\n",
       "      <td>1.832953</td>\n",
       "      <td>0.750198</td>\n",
       "      <td>-0.262640</td>\n",
       "      <td>0.351051</td>\n",
       "      <td>0.422319</td>\n",
       "      <td>NaN</td>\n",
       "      <td>NaN</td>\n",
       "      <td>NaN</td>\n",
       "    </tr>\n",
       "    <tr>\n",
       "      <th>254</th>\n",
       "      <td>PD_00583_KC</td>\n",
       "      <td>2013-03-19</td>\n",
       "      <td>0.320</td>\n",
       "      <td>1</td>\n",
       "      <td>1</td>\n",
       "      <td>1.047619</td>\n",
       "      <td>1</td>\n",
       "      <td>-0.088214</td>\n",
       "      <td>0.100962</td>\n",
       "      <td>0.750198</td>\n",
       "      <td>-0.134658</td>\n",
       "      <td>0.603485</td>\n",
       "      <td>3.624165</td>\n",
       "      <td>NaN</td>\n",
       "      <td>NaN</td>\n",
       "      <td>NaN</td>\n",
       "    </tr>\n",
       "  </tbody>\n",
       "</table>\n",
       "<p>150 rows × 16 columns</p>\n",
       "</div>"
      ],
      "text/plain": [
       "           SYDID Date of assessment  cog1_Trails A Z score  Lm2_cut  ESS_norm  \\\n",
       "0    PD_00001_DA         2013-05-28                 -0.520        1         0   \n",
       "1    PD_00002_MW         2011-10-25                 -3.290        1         1   \n",
       "5    PD_00004_AW         2014-07-21                  1.160        1         0   \n",
       "7    PD_00008_BM         2014-11-03                  0.940        1         0   \n",
       "8    PD_00017_RE         2011-08-23                  0.150        1         0   \n",
       "..           ...                ...                    ...      ...       ...   \n",
       "250  PD_00553_KM         2012-10-16                 -0.450        1         1   \n",
       "251  PD_00555_PH         2012-11-20                 -1.847        1         1   \n",
       "252  PD_00557_DC         2012-11-06                 -0.770        1         0   \n",
       "253  PD_00568_MB         2012-11-27                 -0.320        1         0   \n",
       "254  PD_00583_KC         2013-03-19                  0.320        1         1   \n",
       "\n",
       "     FOGQ_FOGQ 3  DDE_norm  udprs_Disease_Progression_z_score  \\\n",
       "0       1.047619         2                          -0.077734   \n",
       "1       3.000000         1                          -0.043221   \n",
       "5       0.000000         2                          -0.110481   \n",
       "7       0.000000         1                          -0.091540   \n",
       "8       1.047619         1                          -0.061349   \n",
       "..           ...       ...                                ...   \n",
       "250     0.000000         2                          -0.078202   \n",
       "251     0.000000         1                          -0.001956   \n",
       "252     1.047619         1                          -0.098159   \n",
       "253     0.000000         0                          15.734719   \n",
       "254     1.047619         1                          -0.088214   \n",
       "\n",
       "     udprs_Age_Diagnosis_z_score  cog1_MMSE result_z_score  \\\n",
       "0                       0.033663                 -2.383226   \n",
       "1                       0.502714                  0.750198   \n",
       "5                      -0.453450                  0.227961   \n",
       "7                       0.501840                  0.750198   \n",
       "8                       0.569138                 -1.860989   \n",
       "..                           ...                       ...   \n",
       "250                     0.985749                  0.227961   \n",
       "251                     1.191432                 -1.860989   \n",
       "252                     1.109858                 -1.338752   \n",
       "253                     1.832953                  0.750198   \n",
       "254                     0.100962                  0.750198   \n",
       "\n",
       "     udprs_tremor_ratio_z_score  cog1_NART_z_score  BDI_BDI Total_z_score  \\\n",
       "0                     -0.070668          -1.836709               0.253801   \n",
       "1                     -0.818351          -0.742829               0.422319   \n",
       "5                     -1.030531           0.098618              -0.925827   \n",
       "7                      1.741075           0.603485               0.085283   \n",
       "8                     -0.022674           0.855919               0.253801   \n",
       "..                          ...                ...                    ...   \n",
       "250                   -0.855252          -0.322106              -0.757309   \n",
       "251                    0.761214           0.182762               0.759355   \n",
       "252                   -0.100202          -0.658684              -0.757309   \n",
       "253                   -0.262640           0.351051               0.422319   \n",
       "254                   -0.134658           0.603485               3.624165   \n",
       "\n",
       "     index  umap_var1  umap_var2  \n",
       "0      0.0   0.305020  -0.504193  \n",
       "1      1.0  -1.459161  -0.939984  \n",
       "5      5.0  -3.055317   0.269864  \n",
       "7      7.0  -3.137267  -0.620191  \n",
       "8      8.0   2.418003   1.677956  \n",
       "..     ...        ...        ...  \n",
       "250    NaN        NaN        NaN  \n",
       "251    NaN        NaN        NaN  \n",
       "252    NaN        NaN        NaN  \n",
       "253    NaN        NaN        NaN  \n",
       "254    NaN        NaN        NaN  \n",
       "\n",
       "[150 rows x 16 columns]"
      ]
     },
     "execution_count": 211,
     "metadata": {},
     "output_type": "execute_result"
    }
   ],
   "source": [
    "pdclust_umap"
   ]
  },
  {
   "cell_type": "code",
   "execution_count": 212,
   "metadata": {
    "ExecuteTime": {
     "end_time": "2021-02-17T23:15:04.634906Z",
     "start_time": "2021-02-17T23:15:03.723860Z"
    }
   },
   "outputs": [
    {
     "name": "stdout",
     "output_type": "stream",
     "text": [
      "['umap_var1', 'umap_var2']\n",
      "Index(['umap_var1', 'umap_var2'], dtype='object')\n"
     ]
    },
    {
     "data": {
      "image/png": "[encoded data removed]",
      "text/plain": [
       "<Figure size 432x288 with 1 Axes>"
      ]
     },
     "metadata": {
      "needs_background": "light"
     },
     "output_type": "display_data"
    },
    {
     "name": "stderr",
     "output_type": "stream",
     "text": [
      "/opt/conda/lib/python3.7/site-packages/ipykernel_launcher.py:64: SettingWithCopyWarning: \n",
      "A value is trying to be set on a copy of a slice from a DataFrame.\n",
      "Try using .loc[row_indexer,col_indexer] = value instead\n",
      "\n",
      "See the caveats in the documentation: http://pandas.pydata.org/pandas-docs/stable/user_guide/indexing.html#returning-a-view-versus-a-copy\n"
     ]
    },
    {
     "data": {
      "text/plain": [
       "<matplotlib.axes._subplots.AxesSubplot at 0x7fe9711008d0>"
      ]
     },
     "execution_count": 212,
     "metadata": {},
     "output_type": "execute_result"
    },
    {
     "data": {
      "image/png": "[encoded data removed]",
      "text/plain": [
       "<Figure size 432x288 with 1 Axes>"
      ]
     },
     "metadata": {
      "needs_background": "light"
     },
     "output_type": "display_data"
    }
   ],
   "source": [
    "PDcluster_clust=elbow_clust(pdclust_umap[['SYDID','Date of assessment','umap_var1','umap_var2']],\\\n",
    "clustfit=4,dropvars=['SYDID','Date of assessment'])\n",
    "\n",
    "sns.scatterplot(data=PDcluster_clust, x=\"umap_var1\", y=\"umap_var2\",hue='cluster_label')\n"
   ]
  },
  {
   "cell_type": "code",
   "execution_count": 213,
   "metadata": {
    "ExecuteTime": {
     "end_time": "2021-02-17T23:15:10.024959Z",
     "start_time": "2021-02-17T23:15:10.008178Z"
    }
   },
   "outputs": [
    {
     "name": "stdout",
     "output_type": "stream",
     "text": [
      "(252, 552)\n",
      "(150, 5)\n"
     ]
    }
   ],
   "source": [
    "mask1=(PDcombined['Date of assessment']==PDcombined['max_date'])\n",
    "\n",
    "print(PDcombined.shape)\n",
    "print(PDcluster_clust.shape)\n",
    "\n",
    "varsused=['SYDID','Date of assessment','udprs_Disease_Progression','udprs_Age_Diagnosis','BDI_BDI Total','cog1_MMSE result',\\\n",
    "'udprs_non_tremor','udprs_tremor','udprs_tremor_ratio','cog1_NART','DDE_norm']\n",
    "\n",
    "mask=(pd.notnull(PDcluster_clust['SYDID'])&pd.notnull(PDcluster_clust['Date of assessment']))\n",
    "mask2=(pd.notnull(PDcombined['SYDID'])&pd.notnull(PDcombined['Date of assessment']))\n"
   ]
  },
  {
   "cell_type": "code",
   "execution_count": 214,
   "metadata": {
    "ExecuteTime": {
     "end_time": "2021-02-17T23:15:12.312022Z",
     "start_time": "2021-02-17T23:15:12.297061Z"
    }
   },
   "outputs": [],
   "source": [
    "PDcluster_clust_new=PDcluster_clust[['SYDID','Date of assessment','cluster_label']][mask]\n",
    "PDcombined_new=PDcombined[varsused][mask2&mask1]"
   ]
  },
  {
   "cell_type": "code",
   "execution_count": 215,
   "metadata": {
    "ExecuteTime": {
     "end_time": "2021-02-17T23:15:13.029924Z",
     "start_time": "2021-02-17T23:15:13.007477Z"
    }
   },
   "outputs": [
    {
     "name": "stdout",
     "output_type": "stream",
     "text": [
      "(150, 3)\n",
      "(151, 11)\n",
      "(150, 12)\n"
     ]
    }
   ],
   "source": [
    "\n",
    "\n",
    "PDcluster_clust_new['Date of assessment']=pd.to_datetime(PDcluster_clust_new['Date of assessment'])\n",
    "PDcombined_new['Date of assessment']=pd.to_datetime(PDcombined_new['Date of assessment'])\n",
    "\n",
    "print(PDcluster_clust_new.shape)\n",
    "print(PDcombined_new.shape)\n",
    "\n",
    "clust=pd.merge(PDcombined_new,PDcluster_clust_new,on=['SYDID','Date of assessment'],how='inner')\n",
    "print(clust.shape)"
   ]
  },
  {
   "cell_type": "code",
   "execution_count": 216,
   "metadata": {
    "ExecuteTime": {
     "end_time": "2021-02-17T23:15:14.280364Z",
     "start_time": "2021-02-17T23:15:14.244973Z"
    }
   },
   "outputs": [
    {
     "name": "stdout",
     "output_type": "stream",
     "text": [
      "(150, 12)\n"
     ]
    },
    {
     "data": {
      "text/html": [
       "<div>\n",
       "<style scoped>\n",
       "    .dataframe tbody tr th:only-of-type {\n",
       "        vertical-align: middle;\n",
       "    }\n",
       "\n",
       "    .dataframe tbody tr th {\n",
       "        vertical-align: top;\n",
       "    }\n",
       "\n",
       "    .dataframe thead th {\n",
       "        text-align: right;\n",
       "    }\n",
       "</style>\n",
       "<table border=\"1\" class=\"dataframe\">\n",
       "  <thead>\n",
       "    <tr style=\"text-align: right;\">\n",
       "      <th></th>\n",
       "      <th>cluster_label</th>\n",
       "      <th>udprs_Disease_Progression</th>\n",
       "      <th>udprs_Age_Diagnosis</th>\n",
       "      <th>cog1_MMSE result</th>\n",
       "      <th>udprs_non_tremor</th>\n",
       "      <th>udprs_tremor</th>\n",
       "      <th>udprs_tremor_ratio</th>\n",
       "      <th>cog1_NART</th>\n",
       "      <th>BDI_BDI Total</th>\n",
       "      <th>num_patients</th>\n",
       "    </tr>\n",
       "  </thead>\n",
       "  <tbody>\n",
       "    <tr>\n",
       "      <th>0</th>\n",
       "      <td>0</td>\n",
       "      <td>0.145678</td>\n",
       "      <td>61.608886</td>\n",
       "      <td>28.569620</td>\n",
       "      <td>1.255696</td>\n",
       "      <td>0.521519</td>\n",
       "      <td>0.473668</td>\n",
       "      <td>110.187696</td>\n",
       "      <td>9.303797</td>\n",
       "      <td>79</td>\n",
       "    </tr>\n",
       "    <tr>\n",
       "      <th>1</th>\n",
       "      <td>1</td>\n",
       "      <td>0.023512</td>\n",
       "      <td>56.749213</td>\n",
       "      <td>28.800000</td>\n",
       "      <td>1.490000</td>\n",
       "      <td>0.480000</td>\n",
       "      <td>0.353672</td>\n",
       "      <td>105.391400</td>\n",
       "      <td>8.650000</td>\n",
       "      <td>20</td>\n",
       "    </tr>\n",
       "    <tr>\n",
       "      <th>2</th>\n",
       "      <td>2</td>\n",
       "      <td>0.023272</td>\n",
       "      <td>57.640295</td>\n",
       "      <td>28.529412</td>\n",
       "      <td>1.241176</td>\n",
       "      <td>0.547059</td>\n",
       "      <td>0.546882</td>\n",
       "      <td>110.529412</td>\n",
       "      <td>7.382353</td>\n",
       "      <td>34</td>\n",
       "    </tr>\n",
       "    <tr>\n",
       "      <th>3</th>\n",
       "      <td>3</td>\n",
       "      <td>0.031002</td>\n",
       "      <td>58.940774</td>\n",
       "      <td>28.470588</td>\n",
       "      <td>1.347059</td>\n",
       "      <td>0.600000</td>\n",
       "      <td>0.479288</td>\n",
       "      <td>113.352941</td>\n",
       "      <td>10.235294</td>\n",
       "      <td>17</td>\n",
       "    </tr>\n",
       "  </tbody>\n",
       "</table>\n",
       "</div>"
      ],
      "text/plain": [
       "   cluster_label  udprs_Disease_Progression  udprs_Age_Diagnosis  \\\n",
       "0              0                   0.145678            61.608886   \n",
       "1              1                   0.023512            56.749213   \n",
       "2              2                   0.023272            57.640295   \n",
       "3              3                   0.031002            58.940774   \n",
       "\n",
       "   cog1_MMSE result  udprs_non_tremor  udprs_tremor  udprs_tremor_ratio  \\\n",
       "0         28.569620          1.255696      0.521519            0.473668   \n",
       "1         28.800000          1.490000      0.480000            0.353672   \n",
       "2         28.529412          1.241176      0.547059            0.546882   \n",
       "3         28.470588          1.347059      0.600000            0.479288   \n",
       "\n",
       "    cog1_NART  BDI_BDI Total  num_patients  \n",
       "0  110.187696       9.303797            79  \n",
       "1  105.391400       8.650000            20  \n",
       "2  110.529412       7.382353            34  \n",
       "3  113.352941      10.235294            17  "
      ]
     },
     "execution_count": 216,
     "metadata": {},
     "output_type": "execute_result"
    }
   ],
   "source": [
    "\n",
    "\n",
    "print(clust.shape)\n",
    "\n",
    "clust_gp_mean=pd.DataFrame(clust.groupby(['cluster_label'])['udprs_Disease_Progression','udprs_Age_Diagnosis','cog1_MMSE result',\\\n",
    " 'udprs_non_tremor','udprs_tremor','udprs_tremor_ratio','cog1_NART','BDI_BDI Total'].mean()).reset_index()\n",
    "\n",
    "clust_gp_size=pd.DataFrame(clust.groupby(['cluster_label']).size()).reset_index()\n",
    "clust_gp_size.columns=['cluster_label','num_patients']\n",
    "\n",
    "clust_gp_mean=pd.merge(clust_gp_mean,clust_gp_size,on='cluster_label',how='inner')\n",
    "clust_gp_mean"
   ]
  },
  {
   "cell_type": "code",
   "execution_count": 191,
   "metadata": {
    "ExecuteTime": {
     "end_time": "2021-02-17T20:51:36.177580Z",
     "start_time": "2021-02-17T20:51:36.110147Z"
    }
   },
   "outputs": [],
   "source": [
    "PDcombined['Date of assessment']=pd.to_datetime(PDcombined['Date of assessment'])\n",
    "\n",
    "PDCombined_clust=pd.merge(PDcombined,PDcluster_clust_new,on=['SYDID','Date of assessment'],how='inner')\n"
   ]
  },
  {
   "cell_type": "code",
   "execution_count": 194,
   "metadata": {
    "ExecuteTime": {
     "end_time": "2021-02-17T20:52:38.913946Z",
     "start_time": "2021-02-17T20:52:38.826620Z"
    }
   },
   "outputs": [],
   "source": [
    "PDCombined_clust.to_csv('%s%s' % (outdata,'PDCombined_clust.csv'))"
   ]
  },
  {
   "cell_type": "code",
   "execution_count": null,
   "metadata": {},
   "outputs": [],
   "source": []
  }
 ],
 "metadata": {
  "kernelspec": {
   "display_name": "Python 3",
   "language": "python",
   "name": "python3"
  },
  "language_info": {
   "codemirror_mode": {
    "name": "ipython",
    "version": 3
   },
   "file_extension": ".py",
   "mimetype": "text/x-python",
   "name": "python",
   "nbconvert_exporter": "python",
   "pygments_lexer": "ipython3",
   "version": "3.7.6"
  },
  "toc": {
   "base_numbering": 1,
   "nav_menu": {},
   "number_sections": false,
   "sideBar": true,
   "skip_h1_title": false,
   "title_cell": "Table of Contents",
   "title_sidebar": "Contents",
   "toc_cell": false,
   "toc_position": {},
   "toc_section_display": true,
   "toc_window_display": false
  }
 },
 "nbformat": 4,
 "nbformat_minor": 2
}
