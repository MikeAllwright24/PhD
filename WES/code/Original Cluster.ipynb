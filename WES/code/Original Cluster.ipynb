{
 "cells": [
  {
   "cell_type": "markdown",
   "metadata": {
    "ExecuteTime": {
     "end_time": "2021-01-22T06:30:14.011003Z",
     "start_time": "2021-01-22T06:30:14.005540Z"
    }
   },
   "source": [
    "# Cluster Analysis Based on MCI Original"
   ]
  },
  {
   "cell_type": "code",
   "execution_count": 1,
   "metadata": {
    "ExecuteTime": {
     "end_time": "2021-02-04T03:43:41.371627Z",
     "start_time": "2021-02-04T03:43:38.915778Z"
    }
   },
   "outputs": [],
   "source": [
    "'''\n",
    "Import key packages\n",
    "'''\n",
    "import umap\n",
    "import pandas as pd\n",
    "import numpy as np\n",
    "import re\n",
    "import seaborn as sns\n",
    "import matplotlib.pyplot as plt\n",
    "import scipy\n",
    "from functools import reduce\n",
    "from sklearn.linear_model import LinearRegression\n",
    "from sklearn.cluster import KMeans\n",
    "\n",
    "# debug mode (spits messages verbosely)\n",
    "DEBUG = 0  # change it to 0 to switch it off\n",
    "\n",
    "loc=\"../../../WES/Clinical Data/Raw/\"\n",
    "outdata=\"../../../WES/Clinical Data/Processed/\"\n",
    "\n",
    "config =dict(\\\n",
    "varsnormalise=['udprs_Disease_Progression','udprs_Age_Diagnosis','cog1_MMSE result',\\\n",
    "'udprs_non_tremor','udprs_tremor','udprs_tremor_ratio','cog1_NART','BDI_BDI Total'],\\\n",
    "nonnormvars=['cog1_Trails A Z score','Lm2_cut','ESS_norm','FOGQ_FOGQ 3','DDE_norm'],\\\n",
    "umap_neigbours=10,umap_comps=2,kmeans_try=10)\n",
    "\n",
    "varsnormalise=config['varsnormalise']\n",
    "nonnormvars=config['nonnormvars']"
   ]
  },
  {
   "cell_type": "code",
   "execution_count": 2,
   "metadata": {
    "ExecuteTime": {
     "end_time": "2021-02-04T03:43:42.186727Z",
     "start_time": "2021-02-04T03:43:42.158495Z"
    }
   },
   "outputs": [],
   "source": [
    "def z_score(col):\n",
    "    x = (col - col.mean())/col.std(ddof=0)\n",
    "    return  x\n",
    "\n",
    "def takeonlyx_sd(df,x=5):\n",
    "\n",
    "    for var in df.columns:\n",
    "        if re.search('float|int',str(df[var].dtype)):\n",
    "            maxvar=df[var].mean()+df[var].std()*5\n",
    "            minvar=df[var].mean()-df[var].std()*5\n",
    "            mask_rng=(df[var].between(minvar,maxvar))\n",
    "            df[var][~mask_rng]=df[var][mask_rng].mean()\n",
    "           # print(df[var].max())\n",
    "           # print(df.shape)\n",
    "    return df\n",
    "\n",
    "def replacenullsmean(df,dropcols=['SYDID','Date of assessment','max_date']):\n",
    "    usecols=[col for col in df.columns if col not in dropcols]\n",
    "    df[usecols]=df[usecols].replace([np.inf, -np.inf], np.nan)\n",
    "    for col in df[usecols].columns:\n",
    "        nullmask=(df[col].isna())\n",
    "        df[col][nullmask]=df[col][~nullmask].mean()\n",
    "    return df\n",
    "\n",
    "def umap_reducer(df,vars,neighb=10,comp=5):\n",
    "    df_out=df.copy()\n",
    "    \n",
    "    for col in df_out.columns:\n",
    "        if df_out[col].dtype!='object':\n",
    "            df_out[col]=df_out[col].fillna(df_out[col][pd.notnull(df_out[col])].mean())\n",
    "              \n",
    "    dmod=df_out[[col for col in vars if col!='SYDID' and re.search('float',str(df_out[col].dtype))\n",
    "                and df_out[col].count()>=df_out.shape[0]]]\n",
    "    print(dmod.shape)\n",
    "    \n",
    "    reducer= umap.UMAP(n_neighbors=neighb,n_components=comp)\n",
    "    reddata = pd.DataFrame(reducer.fit_transform(dmod)).reset_index()\n",
    "    reddata.shape\n",
    "    \n",
    "    reddata.columns=['index','umap_var1','umap_var2']\n",
    "    df_out[['index','umap_var1','umap_var2']]=reddata[['index','umap_var1','umap_var2']]\n",
    "    return df_out\n",
    "\n",
    "def elbow_clust(df,clustrange=10,clustfit=4,dropvars=['SYDID','Date of assessment','max_date']):\n",
    "    df_vars=df.drop(columns=dropvars)\n",
    "    dv2=[col for col in df_vars if df_vars[col].dtype=='float32']\n",
    "    print(dv2)\n",
    "    df_vars=df_vars[dv2]\n",
    "    print(df_vars.columns)\n",
    "    df_vars=replacenullsmean(df_vars)\n",
    "    \n",
    "    wcss=[]\n",
    "    #print(df_vars.head())\n",
    "    for i in range(1,clustrange): \n",
    "         kmeans = KMeans(n_clusters=i, init ='k-means++', max_iter=300,  n_init=clustrange-1,random_state=0)\n",
    "         kmeans.fit(df_vars)\n",
    "         wcss.append(kmeans.inertia_)\n",
    "    plt.plot(range(1,clustrange),wcss)\n",
    "    plt.title('The Elbow Method Graph')\n",
    "    plt.xlabel('Number of clusters')\n",
    "    plt.ylabel('WCSS')\n",
    "    plt.show()\n",
    "    kmeans = KMeans(n_clusters=clustfit, random_state=0).fit(df_vars)\n",
    "    df['cluster_label']=kmeans.labels_.tolist()\n",
    "    return df"
   ]
  },
  {
   "cell_type": "code",
   "execution_count": 3,
   "metadata": {
    "ExecuteTime": {
     "end_time": "2021-02-04T03:43:43.953236Z",
     "start_time": "2021-02-04T03:43:43.843322Z"
    }
   },
   "outputs": [],
   "source": [
    "PDcombined=pd.read_csv('%s%s' % (outdata,'PDcombined.csv'))"
   ]
  },
  {
   "cell_type": "markdown",
   "metadata": {},
   "source": [
    "#### Data Processing"
   ]
  },
  {
   "cell_type": "code",
   "execution_count": 4,
   "metadata": {
    "ExecuteTime": {
     "end_time": "2021-02-04T03:44:03.112876Z",
     "start_time": "2021-02-04T03:44:02.944661Z"
    }
   },
   "outputs": [
    {
     "name": "stderr",
     "output_type": "stream",
     "text": [
      "/opt/conda/lib/python3.7/site-packages/ipykernel_launcher.py:5: SettingWithCopyWarning: \n",
      "A value is trying to be set on a copy of a slice from a DataFrame\n",
      "\n",
      "See the caveats in the documentation: http://pandas.pydata.org/pandas-docs/stable/user_guide/indexing.html#returning-a-view-versus-a-copy\n",
      "  \"\"\"\n",
      "/opt/conda/lib/python3.7/site-packages/ipykernel_launcher.py:10: SettingWithCopyWarning: \n",
      "A value is trying to be set on a copy of a slice from a DataFrame\n",
      "\n",
      "See the caveats in the documentation: http://pandas.pydata.org/pandas-docs/stable/user_guide/indexing.html#returning-a-view-versus-a-copy\n",
      "  # Remove the CWD from sys.path while we load stuff.\n",
      "/opt/conda/lib/python3.7/site-packages/ipykernel_launcher.py:11: SettingWithCopyWarning: \n",
      "A value is trying to be set on a copy of a slice from a DataFrame\n",
      "\n",
      "See the caveats in the documentation: http://pandas.pydata.org/pandas-docs/stable/user_guide/indexing.html#returning-a-view-versus-a-copy\n",
      "  # This is added back by InteractiveShellApp.init_path()\n",
      "/opt/conda/lib/python3.7/site-packages/ipykernel_launcher.py:15: SettingWithCopyWarning: \n",
      "A value is trying to be set on a copy of a slice from a DataFrame\n",
      "\n",
      "See the caveats in the documentation: http://pandas.pydata.org/pandas-docs/stable/user_guide/indexing.html#returning-a-view-versus-a-copy\n",
      "  from ipykernel import kernelapp as app\n",
      "/opt/conda/lib/python3.7/site-packages/ipykernel_launcher.py:19: SettingWithCopyWarning: \n",
      "A value is trying to be set on a copy of a slice from a DataFrame\n",
      "\n",
      "See the caveats in the documentation: http://pandas.pydata.org/pandas-docs/stable/user_guide/indexing.html#returning-a-view-versus-a-copy\n",
      "/opt/conda/lib/python3.7/site-packages/ipykernel_launcher.py:22: SettingWithCopyWarning: \n",
      "A value is trying to be set on a copy of a slice from a DataFrame\n",
      "\n",
      "See the caveats in the documentation: http://pandas.pydata.org/pandas-docs/stable/user_guide/indexing.html#returning-a-view-versus-a-copy\n",
      "/opt/conda/lib/python3.7/site-packages/ipykernel_launcher.py:26: SettingWithCopyWarning: \n",
      "A value is trying to be set on a copy of a slice from a DataFrame\n",
      "\n",
      "See the caveats in the documentation: http://pandas.pydata.org/pandas-docs/stable/user_guide/indexing.html#returning-a-view-versus-a-copy\n"
     ]
    }
   ],
   "source": [
    "\n",
    "logmem2cutoff=PDcombined['cog1_Logical Memory II'].mean()+PDcombined['cog1_Logical Memory II'].std()*1.5\n",
    "masklm2=(PDcombined['cog1_Logical Memory II']<logmem2cutoff)\n",
    "\n",
    "PDcombined['Lm2_cut']=0\n",
    "PDcombined['Lm2_cut'][(masklm2)]=1\n",
    "\n",
    "mask0=(PDcombined['udprs_DDE']>0)\n",
    "masklt1000=(PDcombined['udprs_DDE']<1000)\n",
    "PDcombined['DDE_norm']=0\n",
    "PDcombined['DDE_norm'][mask0&masklt1000]=1\n",
    "PDcombined['DDE_norm'][mask0&~masklt1000]=2\n",
    "\n",
    "maskbdi=(PDcombined['BDI_BDI Total']>13)\n",
    "PDcombined['BDI_norm']=0\n",
    "PDcombined['BDI_norm'][maskbdi]=1\n",
    "\n",
    "maskess=(PDcombined['ESS_ESS Total']>10)\n",
    "PDcombined['ESS_norm']=0\n",
    "PDcombined['ESS_norm'][maskess]=1\n",
    "\n",
    "mask_ratio=((PDcombined['udprs_tremor_ratio']==np.inf))\n",
    "PDcombined['udprs_tremor_ratio'][mask_ratio]=PDcombined['udprs_tremor_ratio'][~mask_ratio].mean()\n",
    "\n",
    "for col in varsnormalise:\n",
    "    nullmask=(PDcombined[col].isna())\n",
    "    PDcombined[col][nullmask]=PDcombined[col][~nullmask].mean()\n",
    "    PDcombined[col+'_z_score']=z_score(PDcombined[col])\n",
    "vars_z=[var +'_z_score' for var in varsnormalise ]\n",
    "varscluster=np.append(['SYDID','Date of assessment'],nonnormvars)\n",
    "varscluster=np.append(varscluster,vars_z)\n",
    "\n",
    "'''\n",
    "Substitute to only have max date\n",
    "'''\n",
    "PDcombined['max_date']=PDcombined.groupby('SYDID')['Date of assessment'].transform(max)\n",
    "\n",
    "mask_date_max=(PDcombined['max_date']==PDcombined['Date of assessment'])\n",
    "PDcombined_sub=PDcombined[mask_date_max]\n",
    "\n",
    "'''\n",
    "Removal of columns that don't work\n",
    "'''\n",
    "\n",
    "othcols=[col for col in PDcombined.columns if (PDcombined[col].dtype!='object'\\\n",
    "and col not in varscluster) or col in ['SYDID','Date of assessment','udprs_Disease_Progression',\\\n",
    "'udprs_Age_Diagnosis']]"
   ]
  },
  {
   "cell_type": "code",
   "execution_count": 5,
   "metadata": {
    "ExecuteTime": {
     "end_time": "2021-02-04T03:44:10.946702Z",
     "start_time": "2021-02-04T03:44:03.459996Z"
    }
   },
   "outputs": [
    {
     "name": "stderr",
     "output_type": "stream",
     "text": [
      "/opt/conda/lib/python3.7/site-packages/ipykernel_launcher.py:12: SettingWithCopyWarning: \n",
      "A value is trying to be set on a copy of a slice from a DataFrame\n",
      "\n",
      "See the caveats in the documentation: http://pandas.pydata.org/pandas-docs/stable/user_guide/indexing.html#returning-a-view-versus-a-copy\n",
      "  if sys.path[0] == '':\n",
      "/opt/conda/lib/python3.7/site-packages/pandas/core/generic.py:9114: SettingWithCopyWarning: \n",
      "A value is trying to be set on a copy of a slice from a DataFrame\n",
      "\n",
      "See the caveats in the documentation: http://pandas.pydata.org/pandas-docs/stable/user_guide/indexing.html#returning-a-view-versus-a-copy\n",
      "  self._update_inplace(new_data)\n",
      "/opt/conda/lib/python3.7/site-packages/ipykernel_launcher.py:6: SettingWithCopyWarning: \n",
      "A value is trying to be set on a copy of a slice from a DataFrame\n",
      "\n",
      "See the caveats in the documentation: http://pandas.pydata.org/pandas-docs/stable/user_guide/indexing.html#returning-a-view-versus-a-copy\n",
      "  \n",
      "/opt/conda/lib/python3.7/site-packages/pandas/core/generic.py:9114: SettingWithCopyWarning: \n",
      "A value is trying to be set on a copy of a slice from a DataFrame\n",
      "\n",
      "See the caveats in the documentation: http://pandas.pydata.org/pandas-docs/stable/user_guide/indexing.html#returning-a-view-versus-a-copy\n",
      "  self._update_inplace(new_data)\n",
      "/opt/conda/lib/python3.7/site-packages/ipykernel_launcher.py:6: SettingWithCopyWarning: \n",
      "A value is trying to be set on a copy of a slice from a DataFrame\n",
      "\n",
      "See the caveats in the documentation: http://pandas.pydata.org/pandas-docs/stable/user_guide/indexing.html#returning-a-view-versus-a-copy\n",
      "  \n",
      "/opt/conda/lib/python3.7/site-packages/ipykernel_launcher.py:12: SettingWithCopyWarning: \n",
      "A value is trying to be set on a copy of a slice from a DataFrame\n",
      "\n",
      "See the caveats in the documentation: http://pandas.pydata.org/pandas-docs/stable/user_guide/indexing.html#returning-a-view-versus-a-copy\n",
      "  if sys.path[0] == '':\n",
      "/opt/conda/lib/python3.7/site-packages/pandas/core/generic.py:9114: SettingWithCopyWarning: \n",
      "A value is trying to be set on a copy of a slice from a DataFrame\n",
      "\n",
      "See the caveats in the documentation: http://pandas.pydata.org/pandas-docs/stable/user_guide/indexing.html#returning-a-view-versus-a-copy\n",
      "  self._update_inplace(new_data)\n",
      "/opt/conda/lib/python3.7/site-packages/ipykernel_launcher.py:6: SettingWithCopyWarning: \n",
      "A value is trying to be set on a copy of a slice from a DataFrame\n",
      "\n",
      "See the caveats in the documentation: http://pandas.pydata.org/pandas-docs/stable/user_guide/indexing.html#returning-a-view-versus-a-copy\n",
      "  \n",
      "/opt/conda/lib/python3.7/site-packages/ipykernel_launcher.py:12: SettingWithCopyWarning: \n",
      "A value is trying to be set on a copy of a slice from a DataFrame\n",
      "\n",
      "See the caveats in the documentation: http://pandas.pydata.org/pandas-docs/stable/user_guide/indexing.html#returning-a-view-versus-a-copy\n",
      "  if sys.path[0] == '':\n",
      "/opt/conda/lib/python3.7/site-packages/pandas/core/frame.py:3509: SettingWithCopyWarning: \n",
      "A value is trying to be set on a copy of a slice from a DataFrame.\n",
      "Try using .loc[row_indexer,col_indexer] = value instead\n",
      "\n",
      "See the caveats in the documentation: http://pandas.pydata.org/pandas-docs/stable/user_guide/indexing.html#returning-a-view-versus-a-copy\n",
      "  self[k1] = value[k2]\n",
      "/opt/conda/lib/python3.7/site-packages/ipykernel_launcher.py:22: SettingWithCopyWarning: \n",
      "A value is trying to be set on a copy of a slice from a DataFrame\n",
      "\n",
      "See the caveats in the documentation: http://pandas.pydata.org/pandas-docs/stable/user_guide/indexing.html#returning-a-view-versus-a-copy\n",
      "/opt/conda/lib/python3.7/site-packages/ipykernel_launcher.py:7: SettingWithCopyWarning: \n",
      "A value is trying to be set on a copy of a slice from a DataFrame\n",
      "\n",
      "See the caveats in the documentation: http://pandas.pydata.org/pandas-docs/stable/user_guide/indexing.html#returning-a-view-versus-a-copy\n",
      "  import sys\n"
     ]
    },
    {
     "name": "stdout",
     "output_type": "stream",
     "text": [
      "(175, 334)\n"
     ]
    }
   ],
   "source": [
    "PDcluster_alt=PDcombined_sub[othcols]\n",
    "PDcluster=PDcombined_sub[varscluster]\n",
    "for var in PDcluster.columns:\n",
    "    PDcluster=PDcluster[(PDcluster[var]!=999)]\n",
    "    \n",
    "PDcluster_alt=takeonlyx_sd(df=PDcluster_alt,x=3)\n",
    "PDcluster_alt=replacenullsmean(PDcluster_alt)\n",
    "\n",
    "'''\n",
    "Reduce using umap\n",
    "'''\n",
    "\n",
    "pdclust_umap=umap_reducer(PDcluster_alt,PDcluster_alt.columns,\\\n",
    "neighb=config['umap_neigbours'],comp=config['umap_comps'])"
   ]
  },
  {
   "cell_type": "code",
   "execution_count": null,
   "metadata": {
    "ExecuteTime": {
     "start_time": "2021-02-04T03:54:22.768Z"
    }
   },
   "outputs": [],
   "source": [
    "dmod=df_out[[col for col in vars if col!='SYDID' and re.search('float',str(df_out[col].dtype))\n",
    "                and df_out[col].count()>=df_out.shape[0]]]\n",
    "print(dmod.shape)\n",
    "\n",
    "reducer= umap.UMAP(n_neighbors=neighb,n_components=comp)\n",
    "reddata = pd.DataFrame(reducer.fit_transform(dmod)).reset_index()\n",
    "reddata.shape\n",
    "\n",
    "reddata.columns=['index','umap_var1','umap_var2']\n",
    "df_out[['index','umap_var1','umap_var2']]=reddata[['index','umap_var1','umap_var2']]"
   ]
  },
  {
   "cell_type": "code",
   "execution_count": null,
   "metadata": {
    "ExecuteTime": {
     "end_time": "2021-02-04T03:44:10.959333Z",
     "start_time": "2021-02-04T03:44:04.567Z"
    }
   },
   "outputs": [],
   "source": [
    "pdclust_umap=umap_reducer(PDcluster,PDcluster.columns,neighb=10,comp=2)"
   ]
  },
  {
   "cell_type": "code",
   "execution_count": null,
   "metadata": {
    "ExecuteTime": {
     "end_time": "2021-02-04T03:44:10.960468Z",
     "start_time": "2021-02-04T03:44:05.127Z"
    }
   },
   "outputs": [],
   "source": [
    "PDcluster_clust=elbow_clust(pdclust_umap[['SYDID','Date of assessment','umap_var1','umap_var2']],\\\n",
    "clustfit=2,dropvars=['SYDID','Date of assessment'])\n",
    "\n",
    "sns.scatterplot(data=PDcluster_clust, x=\"umap_var1\", y=\"umap_var2\",hue='cluster_label')\n"
   ]
  },
  {
   "cell_type": "code",
   "execution_count": null,
   "metadata": {},
   "outputs": [],
   "source": []
  }
 ],
 "metadata": {
  "kernelspec": {
   "display_name": "Python 3",
   "language": "python",
   "name": "python3"
  },
  "language_info": {
   "codemirror_mode": {
    "name": "ipython",
    "version": 3
   },
   "file_extension": ".py",
   "mimetype": "text/x-python",
   "name": "python",
   "nbconvert_exporter": "python",
   "pygments_lexer": "ipython3",
   "version": "3.7.6"
  },
  "toc": {
   "base_numbering": 1,
   "nav_menu": {},
   "number_sections": false,
   "sideBar": true,
   "skip_h1_title": false,
   "title_cell": "Table of Contents",
   "title_sidebar": "Contents",
   "toc_cell": false,
   "toc_position": {},
   "toc_section_display": true,
   "toc_window_display": false
  }
 },
 "nbformat": 4,
 "nbformat_minor": 2
}
