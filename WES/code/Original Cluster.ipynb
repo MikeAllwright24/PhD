{
 "cells": [
  {
   "cell_type": "markdown",
   "metadata": {
    "ExecuteTime": {
     "end_time": "2021-01-22T06:30:14.011003Z",
     "start_time": "2021-01-22T06:30:14.005540Z"
    }
   },
   "source": [
    "# Cluster Analysis Based on MCI Original"
   ]
  },
  {
   "cell_type": "code",
   "execution_count": null,
   "metadata": {},
   "outputs": [],
   "source": [
    "'''\n",
    "Try to replicate what we had before\n",
    "'''"
   ]
  },
  {
   "cell_type": "code",
   "execution_count": 11,
   "metadata": {
    "ExecuteTime": {
     "end_time": "2021-02-01T20:49:34.977411Z",
     "start_time": "2021-02-01T20:49:34.963106Z"
    }
   },
   "outputs": [],
   "source": [
    "'''\n",
    "Import key packages\n",
    "'''\n",
    "import umap\n",
    "import pandas as pd\n",
    "import numpy as np\n",
    "import re\n",
    "import seaborn as sns\n",
    "import matplotlib.pyplot as plt\n",
    "import scipy\n",
    "from functools import reduce\n",
    "from sklearn.linear_model import LinearRegression\n",
    "from sklearn.cluster import KMeans\n",
    "\n",
    "# debug mode (spits messages verbosely)\n",
    "DEBUG = 0  # change it to 0 to switch it off\n",
    "\n",
    "loc=\"../Clinical Data/Raw/\"\n",
    "outdata=\"../Clinical Data/Processed/\"\n",
    "\n",
    "config =dict(\\\n",
    "varsnormalise=['udprs_Disease_Progression','udprs_Age_Diagnosis','cog1_MMSE result',\\\n",
    "'udprs_non_tremor','udprs_tremor','udprs_tremor_ratio','cog1_NART','BDI_BDI Total'],\\\n",
    "nonnormvars=['cog1_Trails A Z score','Lm2_cut','ESS_norm','FOGQ_FOGQ 3','DDE_norm'],\\\n",
    "umap_neigbours=10,umap_comps=2,kmeans_try=10)\n",
    "\n",
    "varsnormalise=config['varsnormalise']\n",
    "nonnormvars=config['nonnormvars']"
   ]
  },
  {
   "cell_type": "code",
   "execution_count": 3,
   "metadata": {
    "ExecuteTime": {
     "end_time": "2021-02-01T20:07:26.165039Z",
     "start_time": "2021-02-01T20:07:26.140942Z"
    }
   },
   "outputs": [],
   "source": [
    "def z_score(col):\n",
    "    x = (col - col.mean())/col.std(ddof=0)\n",
    "    return  x\n",
    "\n",
    "def takeonlyx_sd(df,x=5):\n",
    "\n",
    "    for var in df.columns:\n",
    "        if re.search('float|int',str(df[var].dtype)):\n",
    "            maxvar=df[var].mean()+df[var].std()*5\n",
    "            minvar=df[var].mean()-df[var].std()*5\n",
    "            mask_rng=(df[var].between(minvar,maxvar))\n",
    "            df[var][~mask_rng]=df[var][mask_rng].mean()\n",
    "           # print(df[var].max())\n",
    "           # print(df.shape)\n",
    "    return df\n",
    "\n",
    "def replacenullsmean(df,dropcols=['SYDID','Date of assessment','max_date']):\n",
    "    usecols=[col for col in df.columns if col not in dropcols]\n",
    "    df[usecols]=df[usecols].replace([np.inf, -np.inf], np.nan)\n",
    "    for col in df[usecols].columns:\n",
    "        nullmask=(df[col].isna())\n",
    "        df[col][nullmask]=df[col][~nullmask].mean()\n",
    "    return df\n",
    "\n",
    "def umap_reducer(df,vars,neighb=10,comp=5):\n",
    "    df_out=df.copy()\n",
    "    \n",
    "    for col in df_out.columns:\n",
    "        if df_out[col].dtype!='object':\n",
    "            df_out[col]=df_out[col].fillna(df_out[col][pd.notnull(df_out[col])].mean())\n",
    "              \n",
    "    dmod=df_out[[col for col in vars if col!='SYDID' and re.search('float',str(df_out[col].dtype))\n",
    "                and df_out[col].count()>=df_out.shape[0]]]\n",
    "    print(dmod.shape)\n",
    "    \n",
    "    reducer= umap.UMAP(n_neighbors=neighb,n_components=comp)\n",
    "    reddata = pd.DataFrame(reducer.fit_transform(dmod)).reset_index()\n",
    "    reddata.shape\n",
    "    \n",
    "    reddata.columns=['index','umap_var1','umap_var2']\n",
    "    df_out[['index','umap_var1','umap_var2']]=reddata[['index','umap_var1','umap_var2']]\n",
    "    return df_out\n",
    "\n",
    "def elbow_clust(df,clustrange=10,clustfit=4,dropvars=['SYDID','Date of assessment','max_date']):\n",
    "    df_vars=df.drop(columns=dropvars)\n",
    "    dv2=[col for col in df_vars if df_vars[col].dtype=='float32']\n",
    "    print(dv2)\n",
    "    df_vars=df_vars[dv2]\n",
    "    print(df_vars.columns)\n",
    "    df_vars=replacenullsmean(df_vars)\n",
    "    \n",
    "    wcss=[]\n",
    "    #print(df_vars.head())\n",
    "    for i in range(1,clustrange): \n",
    "         kmeans = KMeans(n_clusters=i, init ='k-means++', max_iter=300,  n_init=clustrange-1,random_state=0)\n",
    "         kmeans.fit(df_vars)\n",
    "         wcss.append(kmeans.inertia_)\n",
    "    plt.plot(range(1,clustrange),wcss)\n",
    "    plt.title('The Elbow Method Graph')\n",
    "    plt.xlabel('Number of clusters')\n",
    "    plt.ylabel('WCSS')\n",
    "    plt.show()\n",
    "    kmeans = KMeans(n_clusters=clustfit, random_state=0).fit(df_vars)\n",
    "    df['cluster_label']=kmeans.labels_.tolist()\n",
    "    return df"
   ]
  },
  {
   "cell_type": "code",
   "execution_count": 4,
   "metadata": {
    "ExecuteTime": {
     "end_time": "2021-02-01T20:07:26.245749Z",
     "start_time": "2021-02-01T20:07:26.167742Z"
    }
   },
   "outputs": [],
   "source": [
    "PDcombined=pd.read_csv('%s%s' % (outdata,'PDcombined.csv'))"
   ]
  },
  {
   "cell_type": "markdown",
   "metadata": {},
   "source": [
    "#### Data Processing"
   ]
  },
  {
   "cell_type": "code",
   "execution_count": 12,
   "metadata": {
    "ExecuteTime": {
     "end_time": "2021-02-01T20:49:38.243630Z",
     "start_time": "2021-02-01T20:49:38.095144Z"
    }
   },
   "outputs": [
    {
     "name": "stderr",
     "output_type": "stream",
     "text": [
      "/opt/conda/lib/python3.7/site-packages/ipykernel_launcher.py:5: SettingWithCopyWarning: \n",
      "A value is trying to be set on a copy of a slice from a DataFrame\n",
      "\n",
      "See the caveats in the documentation: http://pandas.pydata.org/pandas-docs/stable/user_guide/indexing.html#returning-a-view-versus-a-copy\n",
      "  \"\"\"\n",
      "/opt/conda/lib/python3.7/site-packages/ipykernel_launcher.py:10: SettingWithCopyWarning: \n",
      "A value is trying to be set on a copy of a slice from a DataFrame\n",
      "\n",
      "See the caveats in the documentation: http://pandas.pydata.org/pandas-docs/stable/user_guide/indexing.html#returning-a-view-versus-a-copy\n",
      "  # Remove the CWD from sys.path while we load stuff.\n",
      "/opt/conda/lib/python3.7/site-packages/ipykernel_launcher.py:11: SettingWithCopyWarning: \n",
      "A value is trying to be set on a copy of a slice from a DataFrame\n",
      "\n",
      "See the caveats in the documentation: http://pandas.pydata.org/pandas-docs/stable/user_guide/indexing.html#returning-a-view-versus-a-copy\n",
      "  # This is added back by InteractiveShellApp.init_path()\n",
      "/opt/conda/lib/python3.7/site-packages/ipykernel_launcher.py:15: SettingWithCopyWarning: \n",
      "A value is trying to be set on a copy of a slice from a DataFrame\n",
      "\n",
      "See the caveats in the documentation: http://pandas.pydata.org/pandas-docs/stable/user_guide/indexing.html#returning-a-view-versus-a-copy\n",
      "  from ipykernel import kernelapp as app\n",
      "/opt/conda/lib/python3.7/site-packages/ipykernel_launcher.py:19: SettingWithCopyWarning: \n",
      "A value is trying to be set on a copy of a slice from a DataFrame\n",
      "\n",
      "See the caveats in the documentation: http://pandas.pydata.org/pandas-docs/stable/user_guide/indexing.html#returning-a-view-versus-a-copy\n",
      "/opt/conda/lib/python3.7/site-packages/ipykernel_launcher.py:22: SettingWithCopyWarning: \n",
      "A value is trying to be set on a copy of a slice from a DataFrame\n",
      "\n",
      "See the caveats in the documentation: http://pandas.pydata.org/pandas-docs/stable/user_guide/indexing.html#returning-a-view-versus-a-copy\n",
      "/opt/conda/lib/python3.7/site-packages/ipykernel_launcher.py:26: SettingWithCopyWarning: \n",
      "A value is trying to be set on a copy of a slice from a DataFrame\n",
      "\n",
      "See the caveats in the documentation: http://pandas.pydata.org/pandas-docs/stable/user_guide/indexing.html#returning-a-view-versus-a-copy\n"
     ]
    }
   ],
   "source": [
    "\n",
    "logmem2cutoff=PDcombined['cog1_Logical Memory II'].mean()+PDcombined['cog1_Logical Memory II'].std()*1.5\n",
    "masklm2=(PDcombined['cog1_Logical Memory II']<logmem2cutoff)\n",
    "\n",
    "PDcombined['Lm2_cut']=0\n",
    "PDcombined['Lm2_cut'][(masklm2)]=1\n",
    "\n",
    "mask0=(PDcombined['udprs_DDE']>0)\n",
    "masklt1000=(PDcombined['udprs_DDE']<1000)\n",
    "PDcombined['DDE_norm']=0\n",
    "PDcombined['DDE_norm'][mask0&masklt1000]=1\n",
    "PDcombined['DDE_norm'][mask0&~masklt1000]=2\n",
    "\n",
    "maskbdi=(PDcombined['BDI_BDI Total']>13)\n",
    "PDcombined['BDI_norm']=0\n",
    "PDcombined['BDI_norm'][maskbdi]=1\n",
    "\n",
    "maskess=(PDcombined['ESS_ESS Total']>10)\n",
    "PDcombined['ESS_norm']=0\n",
    "PDcombined['ESS_norm'][maskess]=1\n",
    "\n",
    "mask_ratio=((PDcombined['udprs_tremor_ratio']==np.inf))\n",
    "PDcombined['udprs_tremor_ratio'][mask_ratio]=PDcombined['udprs_tremor_ratio'][~mask_ratio].mean()\n",
    "\n",
    "for col in varsnormalise:\n",
    "    nullmask=(PDcombined[col].isna())\n",
    "    PDcombined[col][nullmask]=PDcombined[col][~nullmask].mean()\n",
    "    PDcombined[col+'_z_score']=z_score(PDcombined[col])\n",
    "vars_z=[var +'_z_score' for var in varsnormalise ]\n",
    "varscluster=np.append(['SYDID','Date of assessment'],nonnormvars)\n",
    "varscluster=np.append(varscluster,vars_z)\n",
    "\n",
    "'''\n",
    "Substitute to only have max date\n",
    "'''\n",
    "PDcombined['max_date']=PDcombined.groupby('SYDID')['Date of assessment'].transform(max)\n",
    "\n",
    "mask_date_max=(PDcombined['max_date']==PDcombined['Date of assessment'])\n",
    "PDcombined_sub=PDcombined[mask_date_max]\n",
    "\n",
    "'''\n",
    "Removal of columns that don't work\n",
    "'''\n",
    "\n",
    "othcols=[col for col in PDcombined.columns if (PDcombined[col].dtype!='object'\\\n",
    "and col not in varscluster) or col in ['SYDID','Date of assessment','udprs_Disease_Progression',\\\n",
    "'udprs_Age_Diagnosis']]"
   ]
  },
  {
   "cell_type": "code",
   "execution_count": 10,
   "metadata": {
    "ExecuteTime": {
     "end_time": "2021-02-01T20:48:44.022348Z",
     "start_time": "2021-02-01T20:48:40.223441Z"
    }
   },
   "outputs": [
    {
     "name": "stderr",
     "output_type": "stream",
     "text": [
      "/opt/conda/lib/python3.7/site-packages/ipykernel_launcher.py:12: SettingWithCopyWarning: \n",
      "A value is trying to be set on a copy of a slice from a DataFrame\n",
      "\n",
      "See the caveats in the documentation: http://pandas.pydata.org/pandas-docs/stable/user_guide/indexing.html#returning-a-view-versus-a-copy\n",
      "  if sys.path[0] == '':\n",
      "/opt/conda/lib/python3.7/site-packages/pandas/core/generic.py:9114: SettingWithCopyWarning: \n",
      "A value is trying to be set on a copy of a slice from a DataFrame\n",
      "\n",
      "See the caveats in the documentation: http://pandas.pydata.org/pandas-docs/stable/user_guide/indexing.html#returning-a-view-versus-a-copy\n",
      "  self._update_inplace(new_data)\n",
      "/opt/conda/lib/python3.7/site-packages/ipykernel_launcher.py:6: SettingWithCopyWarning: \n",
      "A value is trying to be set on a copy of a slice from a DataFrame\n",
      "\n",
      "See the caveats in the documentation: http://pandas.pydata.org/pandas-docs/stable/user_guide/indexing.html#returning-a-view-versus-a-copy\n",
      "  \n",
      "/opt/conda/lib/python3.7/site-packages/pandas/core/generic.py:9114: SettingWithCopyWarning: \n",
      "A value is trying to be set on a copy of a slice from a DataFrame\n",
      "\n",
      "See the caveats in the documentation: http://pandas.pydata.org/pandas-docs/stable/user_guide/indexing.html#returning-a-view-versus-a-copy\n",
      "  self._update_inplace(new_data)\n",
      "/opt/conda/lib/python3.7/site-packages/ipykernel_launcher.py:6: SettingWithCopyWarning: \n",
      "A value is trying to be set on a copy of a slice from a DataFrame\n",
      "\n",
      "See the caveats in the documentation: http://pandas.pydata.org/pandas-docs/stable/user_guide/indexing.html#returning-a-view-versus-a-copy\n",
      "  \n",
      "/opt/conda/lib/python3.7/site-packages/ipykernel_launcher.py:12: SettingWithCopyWarning: \n",
      "A value is trying to be set on a copy of a slice from a DataFrame\n",
      "\n",
      "See the caveats in the documentation: http://pandas.pydata.org/pandas-docs/stable/user_guide/indexing.html#returning-a-view-versus-a-copy\n",
      "  if sys.path[0] == '':\n",
      "/opt/conda/lib/python3.7/site-packages/pandas/core/generic.py:9114: SettingWithCopyWarning: \n",
      "A value is trying to be set on a copy of a slice from a DataFrame\n",
      "\n",
      "See the caveats in the documentation: http://pandas.pydata.org/pandas-docs/stable/user_guide/indexing.html#returning-a-view-versus-a-copy\n",
      "  self._update_inplace(new_data)\n",
      "/opt/conda/lib/python3.7/site-packages/ipykernel_launcher.py:6: SettingWithCopyWarning: \n",
      "A value is trying to be set on a copy of a slice from a DataFrame\n",
      "\n",
      "See the caveats in the documentation: http://pandas.pydata.org/pandas-docs/stable/user_guide/indexing.html#returning-a-view-versus-a-copy\n",
      "  \n",
      "/opt/conda/lib/python3.7/site-packages/ipykernel_launcher.py:12: SettingWithCopyWarning: \n",
      "A value is trying to be set on a copy of a slice from a DataFrame\n",
      "\n",
      "See the caveats in the documentation: http://pandas.pydata.org/pandas-docs/stable/user_guide/indexing.html#returning-a-view-versus-a-copy\n",
      "  if sys.path[0] == '':\n",
      "/opt/conda/lib/python3.7/site-packages/pandas/core/frame.py:3509: SettingWithCopyWarning: \n",
      "A value is trying to be set on a copy of a slice from a DataFrame.\n",
      "Try using .loc[row_indexer,col_indexer] = value instead\n",
      "\n",
      "See the caveats in the documentation: http://pandas.pydata.org/pandas-docs/stable/user_guide/indexing.html#returning-a-view-versus-a-copy\n",
      "  self[k1] = value[k2]\n",
      "/opt/conda/lib/python3.7/site-packages/ipykernel_launcher.py:22: SettingWithCopyWarning: \n",
      "A value is trying to be set on a copy of a slice from a DataFrame\n",
      "\n",
      "See the caveats in the documentation: http://pandas.pydata.org/pandas-docs/stable/user_guide/indexing.html#returning-a-view-versus-a-copy\n",
      "/opt/conda/lib/python3.7/site-packages/ipykernel_launcher.py:7: SettingWithCopyWarning: \n",
      "A value is trying to be set on a copy of a slice from a DataFrame\n",
      "\n",
      "See the caveats in the documentation: http://pandas.pydata.org/pandas-docs/stable/user_guide/indexing.html#returning-a-view-versus-a-copy\n",
      "  import sys\n"
     ]
    },
    {
     "name": "stdout",
     "output_type": "stream",
     "text": [
      "(175, 334)\n"
     ]
    },
    {
     "ename": "ValueError",
     "evalue": "Length mismatch: Expected axis has 6 elements, new values have 3 elements",
     "output_type": "error",
     "traceback": [
      "\u001b[0;31m---------------------------------------------------------------------------\u001b[0m",
      "\u001b[0;31mValueError\u001b[0m                                Traceback (most recent call last)",
      "\u001b[0;32m<ipython-input-10-70e49bf986b7>\u001b[0m in \u001b[0;36m<module>\u001b[0;34m\u001b[0m\n\u001b[1;32m     12\u001b[0m \u001b[0;34m\u001b[0m\u001b[0m\n\u001b[1;32m     13\u001b[0m pdclust_umap=umap_reducer(PDcluster_alt,PDcluster_alt.columns,\\\n\u001b[0;32m---> 14\u001b[0;31m neighb=config['umap_neigbours'],comp=config['umap_comps'])\n\u001b[0m",
      "\u001b[0;32m<ipython-input-3-869db319454f>\u001b[0m in \u001b[0;36mumap_reducer\u001b[0;34m(df, vars, neighb, comp)\u001b[0m\n\u001b[1;32m     38\u001b[0m     \u001b[0mreddata\u001b[0m\u001b[0;34m.\u001b[0m\u001b[0mshape\u001b[0m\u001b[0;34m\u001b[0m\u001b[0;34m\u001b[0m\u001b[0m\n\u001b[1;32m     39\u001b[0m \u001b[0;34m\u001b[0m\u001b[0m\n\u001b[0;32m---> 40\u001b[0;31m     \u001b[0mreddata\u001b[0m\u001b[0;34m.\u001b[0m\u001b[0mcolumns\u001b[0m\u001b[0;34m=\u001b[0m\u001b[0;34m[\u001b[0m\u001b[0;34m'index'\u001b[0m\u001b[0;34m,\u001b[0m\u001b[0;34m'umap_var1'\u001b[0m\u001b[0;34m,\u001b[0m\u001b[0;34m'umap_var2'\u001b[0m\u001b[0;34m]\u001b[0m\u001b[0;34m\u001b[0m\u001b[0;34m\u001b[0m\u001b[0m\n\u001b[0m\u001b[1;32m     41\u001b[0m     \u001b[0mdf_out\u001b[0m\u001b[0;34m[\u001b[0m\u001b[0;34m[\u001b[0m\u001b[0;34m'index'\u001b[0m\u001b[0;34m,\u001b[0m\u001b[0;34m'umap_var1'\u001b[0m\u001b[0;34m,\u001b[0m\u001b[0;34m'umap_var2'\u001b[0m\u001b[0;34m]\u001b[0m\u001b[0;34m]\u001b[0m\u001b[0;34m=\u001b[0m\u001b[0mreddata\u001b[0m\u001b[0;34m[\u001b[0m\u001b[0;34m[\u001b[0m\u001b[0;34m'index'\u001b[0m\u001b[0;34m,\u001b[0m\u001b[0;34m'umap_var1'\u001b[0m\u001b[0;34m,\u001b[0m\u001b[0;34m'umap_var2'\u001b[0m\u001b[0;34m]\u001b[0m\u001b[0;34m]\u001b[0m\u001b[0;34m\u001b[0m\u001b[0;34m\u001b[0m\u001b[0m\n\u001b[1;32m     42\u001b[0m     \u001b[0;32mreturn\u001b[0m \u001b[0mdf_out\u001b[0m\u001b[0;34m\u001b[0m\u001b[0;34m\u001b[0m\u001b[0m\n",
      "\u001b[0;32m/opt/conda/lib/python3.7/site-packages/pandas/core/generic.py\u001b[0m in \u001b[0;36m__setattr__\u001b[0;34m(self, name, value)\u001b[0m\n\u001b[1;32m   5190\u001b[0m         \u001b[0;32mtry\u001b[0m\u001b[0;34m:\u001b[0m\u001b[0;34m\u001b[0m\u001b[0;34m\u001b[0m\u001b[0m\n\u001b[1;32m   5191\u001b[0m             \u001b[0mobject\u001b[0m\u001b[0;34m.\u001b[0m\u001b[0m__getattribute__\u001b[0m\u001b[0;34m(\u001b[0m\u001b[0mself\u001b[0m\u001b[0;34m,\u001b[0m \u001b[0mname\u001b[0m\u001b[0;34m)\u001b[0m\u001b[0;34m\u001b[0m\u001b[0;34m\u001b[0m\u001b[0m\n\u001b[0;32m-> 5192\u001b[0;31m             \u001b[0;32mreturn\u001b[0m \u001b[0mobject\u001b[0m\u001b[0;34m.\u001b[0m\u001b[0m__setattr__\u001b[0m\u001b[0;34m(\u001b[0m\u001b[0mself\u001b[0m\u001b[0;34m,\u001b[0m \u001b[0mname\u001b[0m\u001b[0;34m,\u001b[0m \u001b[0mvalue\u001b[0m\u001b[0;34m)\u001b[0m\u001b[0;34m\u001b[0m\u001b[0;34m\u001b[0m\u001b[0m\n\u001b[0m\u001b[1;32m   5193\u001b[0m         \u001b[0;32mexcept\u001b[0m \u001b[0mAttributeError\u001b[0m\u001b[0;34m:\u001b[0m\u001b[0;34m\u001b[0m\u001b[0;34m\u001b[0m\u001b[0m\n\u001b[1;32m   5194\u001b[0m             \u001b[0;32mpass\u001b[0m\u001b[0;34m\u001b[0m\u001b[0;34m\u001b[0m\u001b[0m\n",
      "\u001b[0;32mpandas/_libs/properties.pyx\u001b[0m in \u001b[0;36mpandas._libs.properties.AxisProperty.__set__\u001b[0;34m()\u001b[0m\n",
      "\u001b[0;32m/opt/conda/lib/python3.7/site-packages/pandas/core/generic.py\u001b[0m in \u001b[0;36m_set_axis\u001b[0;34m(self, axis, labels)\u001b[0m\n\u001b[1;32m    688\u001b[0m \u001b[0;34m\u001b[0m\u001b[0m\n\u001b[1;32m    689\u001b[0m     \u001b[0;32mdef\u001b[0m \u001b[0m_set_axis\u001b[0m\u001b[0;34m(\u001b[0m\u001b[0mself\u001b[0m\u001b[0;34m,\u001b[0m \u001b[0maxis\u001b[0m\u001b[0;34m,\u001b[0m \u001b[0mlabels\u001b[0m\u001b[0;34m)\u001b[0m\u001b[0;34m:\u001b[0m\u001b[0;34m\u001b[0m\u001b[0;34m\u001b[0m\u001b[0m\n\u001b[0;32m--> 690\u001b[0;31m         \u001b[0mself\u001b[0m\u001b[0;34m.\u001b[0m\u001b[0m_data\u001b[0m\u001b[0;34m.\u001b[0m\u001b[0mset_axis\u001b[0m\u001b[0;34m(\u001b[0m\u001b[0maxis\u001b[0m\u001b[0;34m,\u001b[0m \u001b[0mlabels\u001b[0m\u001b[0;34m)\u001b[0m\u001b[0;34m\u001b[0m\u001b[0;34m\u001b[0m\u001b[0m\n\u001b[0m\u001b[1;32m    691\u001b[0m         \u001b[0mself\u001b[0m\u001b[0;34m.\u001b[0m\u001b[0m_clear_item_cache\u001b[0m\u001b[0;34m(\u001b[0m\u001b[0;34m)\u001b[0m\u001b[0;34m\u001b[0m\u001b[0;34m\u001b[0m\u001b[0m\n\u001b[1;32m    692\u001b[0m \u001b[0;34m\u001b[0m\u001b[0m\n",
      "\u001b[0;32m/opt/conda/lib/python3.7/site-packages/pandas/core/internals/managers.py\u001b[0m in \u001b[0;36mset_axis\u001b[0;34m(self, axis, new_labels)\u001b[0m\n\u001b[1;32m    181\u001b[0m             raise ValueError(\n\u001b[1;32m    182\u001b[0m                 \u001b[0;34m\"Length mismatch: Expected axis has {old} elements, new \"\u001b[0m\u001b[0;34m\u001b[0m\u001b[0;34m\u001b[0m\u001b[0m\n\u001b[0;32m--> 183\u001b[0;31m                 \u001b[0;34m\"values have {new} elements\"\u001b[0m\u001b[0;34m.\u001b[0m\u001b[0mformat\u001b[0m\u001b[0;34m(\u001b[0m\u001b[0mold\u001b[0m\u001b[0;34m=\u001b[0m\u001b[0mold_len\u001b[0m\u001b[0;34m,\u001b[0m \u001b[0mnew\u001b[0m\u001b[0;34m=\u001b[0m\u001b[0mnew_len\u001b[0m\u001b[0;34m)\u001b[0m\u001b[0;34m\u001b[0m\u001b[0;34m\u001b[0m\u001b[0m\n\u001b[0m\u001b[1;32m    184\u001b[0m             )\n\u001b[1;32m    185\u001b[0m \u001b[0;34m\u001b[0m\u001b[0m\n",
      "\u001b[0;31mValueError\u001b[0m: Length mismatch: Expected axis has 6 elements, new values have 3 elements"
     ]
    }
   ],
   "source": [
    "PDcluster_alt=PDcombined_sub[othcols]\n",
    "PDcluster=PDcombined_sub[varscluster]\n",
    "for var in PDcluster.columns:\n",
    "    PDcluster=PDcluster[(PDcluster[var]!=999)]\n",
    "    \n",
    "PDcluster_alt=takeonlyx_sd(df=PDcluster_alt,x=3)\n",
    "PDcluster_alt=replacenullsmean(PDcluster_alt)\n",
    "\n",
    "'''\n",
    "Reduce using umap\n",
    "'''\n",
    "\n",
    "pdclust_umap=umap_reducer(PDcluster_alt,PDcluster_alt.columns,\\\n",
    "neighb=config['umap_neigbours'],comp=config['umap_comps'])"
   ]
  },
  {
   "cell_type": "code",
   "execution_count": null,
   "metadata": {
    "ExecuteTime": {
     "end_time": "2021-02-01T20:07:42.215397Z",
     "start_time": "2021-02-01T20:07:40.706Z"
    }
   },
   "outputs": [],
   "source": [
    "dmod=df_out[[col for col in vars if col!='SYDID' and re.search('float',str(df_out[col].dtype))\n",
    "                and df_out[col].count()>=df_out.shape[0]]]\n",
    "    print(dmod.shape)\n",
    "    \n",
    "    reducer= umap.UMAP(n_neighbors=neighb,n_components=comp)\n",
    "    reddata = pd.DataFrame(reducer.fit_transform(dmod)).reset_index()\n",
    "    reddata.shape\n",
    "    \n",
    "    reddata.columns=['index','umap_var1','umap_var2']\n",
    "    df_out[['index','umap_var1','umap_var2']]=reddata[['index','umap_var1','umap_var2']]"
   ]
  },
  {
   "cell_type": "code",
   "execution_count": 8,
   "metadata": {
    "ExecuteTime": {
     "end_time": "2021-02-01T20:07:44.427959Z",
     "start_time": "2021-02-01T20:07:43.975109Z"
    }
   },
   "outputs": [
    {
     "name": "stdout",
     "output_type": "stream",
     "text": [
      "(173, 10)\n"
     ]
    }
   ],
   "source": [
    "pdclust_umap=umap_reducer(PDcluster,PDcluster.columns,neighb=10,comp=2)"
   ]
  },
  {
   "cell_type": "code",
   "execution_count": 9,
   "metadata": {
    "ExecuteTime": {
     "end_time": "2021-02-01T20:07:47.515480Z",
     "start_time": "2021-02-01T20:07:46.656486Z"
    }
   },
   "outputs": [
    {
     "name": "stdout",
     "output_type": "stream",
     "text": [
      "['umap_var1', 'umap_var2']\n",
      "Index(['umap_var1', 'umap_var2'], dtype='object')\n"
     ]
    },
    {
     "data": {
      "image/png": "[encoded data removed]",
      "text/plain": [
       "<Figure size 432x288 with 1 Axes>"
      ]
     },
     "metadata": {
      "needs_background": "light"
     },
     "output_type": "display_data"
    },
    {
     "name": "stderr",
     "output_type": "stream",
     "text": [
      "/opt/conda/lib/python3.7/site-packages/ipykernel_launcher.py:64: SettingWithCopyWarning: \n",
      "A value is trying to be set on a copy of a slice from a DataFrame.\n",
      "Try using .loc[row_indexer,col_indexer] = value instead\n",
      "\n",
      "See the caveats in the documentation: http://pandas.pydata.org/pandas-docs/stable/user_guide/indexing.html#returning-a-view-versus-a-copy\n"
     ]
    },
    {
     "data": {
      "text/plain": [
       "<matplotlib.axes._subplots.AxesSubplot at 0x7f3b52c3c090>"
      ]
     },
     "execution_count": 9,
     "metadata": {},
     "output_type": "execute_result"
    },
    {
     "data": {
      "image/png": "[encoded data removed]",
      "text/plain": [
       "<Figure size 432x288 with 1 Axes>"
      ]
     },
     "metadata": {
      "needs_background": "light"
     },
     "output_type": "display_data"
    }
   ],
   "source": [
    "PDcluster_clust=elbow_clust(pdclust_umap[['SYDID','Date of assessment','umap_var1','umap_var2']],\\\n",
    "clustfit=2,dropvars=['SYDID','Date of assessment'])\n",
    "\n",
    "sns.scatterplot(data=PDcluster_clust, x=\"umap_var1\", y=\"umap_var2\",hue='cluster_label')\n"
   ]
  },
  {
   "cell_type": "code",
   "execution_count": null,
   "metadata": {},
   "outputs": [],
   "source": []
  }
 ],
 "metadata": {
  "kernelspec": {
   "display_name": "Python 3",
   "language": "python",
   "name": "python3"
  },
  "language_info": {
   "codemirror_mode": {
    "name": "ipython",
    "version": 3
   },
   "file_extension": ".py",
   "mimetype": "text/x-python",
   "name": "python",
   "nbconvert_exporter": "python",
   "pygments_lexer": "ipython3",
   "version": "3.7.6"
  },
  "toc": {
   "base_numbering": 1,
   "nav_menu": {},
   "number_sections": false,
   "sideBar": true,
   "skip_h1_title": false,
   "title_cell": "Table of Contents",
   "title_sidebar": "Contents",
   "toc_cell": false,
   "toc_position": {},
   "toc_section_display": true,
   "toc_window_display": false
  }
 },
 "nbformat": 4,
 "nbformat_minor": 2
}
