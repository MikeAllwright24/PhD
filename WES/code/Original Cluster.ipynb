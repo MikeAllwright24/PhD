{
 "cells": [
  {
   "cell_type": "markdown",
   "metadata": {
    "ExecuteTime": {
     "end_time": "2021-01-22T06:30:14.011003Z",
     "start_time": "2021-01-22T06:30:14.005540Z"
    }
   },
   "source": [
    "# Cluster Analysis Based on MCI Original"
   ]
  },
  {
   "cell_type": "code",
   "execution_count": 120,
   "metadata": {
    "ExecuteTime": {
     "end_time": "2021-02-08T04:21:06.814819Z",
     "start_time": "2021-02-08T04:21:06.795180Z"
    }
   },
   "outputs": [],
   "source": [
    "'''\n",
    "Import key packages\n",
    "'''\n",
    "import umap\n",
    "import pandas as pd\n",
    "import numpy as np\n",
    "import re\n",
    "import seaborn as sns\n",
    "import matplotlib.pyplot as plt\n",
    "import scipy\n",
    "from functools import reduce\n",
    "from sklearn.linear_model import LinearRegression\n",
    "from sklearn.cluster import KMeans\n",
    "\n",
    "# debug mode (spits messages verbosely)\n",
    "DEBUG = 0  # change it to 0 to switch it off\n",
    "\n",
    "loc=\"../../../WES/Clinical Data/Raw/\"\n",
    "outdata=\"../../../WES/Clinical Data/Processed/\"\n",
    "\n",
    "config =dict(\\\n",
    "varsnormalise=['udprs_Disease_Progression','udprs_Age_Diagnosis','cog1_MMSE result',\\\n",
    "'udprs_non_tremor','udprs_tremor','udprs_tremor_ratio','cog1_NART','BDI_BDI Total'],\\\n",
    "nonnormvars=['cog1_Trails A Z score','Lm2_cut','ESS_norm','FOGQ_FOGQ 3','DDE_norm'],\\\n",
    "umap_neigbours=10,umap_comps=2,kmeans_try=10)\n",
    "\n",
    "varsnormalise=config['varsnormalise']\n",
    "nonnormvars=config['nonnormvars']\n",
    "\n",
    "\n",
    "varsnormalise=['udprs_Disease_Progression','udprs_Age_Diagnosis','cog1_MMSE result',\\\n",
    "'udprs_tremor_ratio','cog1_NART','BDI_BDI Total']\n",
    "nonnormvars=['cog1_Trails A Z score','Lm2_cut','ESS_norm','FOGQ_FOGQ 3','DDE_norm']"
   ]
  },
  {
   "cell_type": "code",
   "execution_count": 121,
   "metadata": {
    "ExecuteTime": {
     "end_time": "2021-02-08T04:21:07.018516Z",
     "start_time": "2021-02-08T04:21:06.967286Z"
    }
   },
   "outputs": [],
   "source": [
    "def z_score(col):\n",
    "    x = (col - col.mean())/col.std(ddof=0)\n",
    "    return  x\n",
    "\n",
    "def takeonlyx_sd(df,x=5):\n",
    "\n",
    "    for var in df.columns:\n",
    "        if re.search('float|int',str(df[var].dtype)):\n",
    "            maxvar=df[var].mean()+df[var].std()*5\n",
    "            minvar=df[var].mean()-df[var].std()*5\n",
    "            mask_rng=(df[var].between(minvar,maxvar))\n",
    "            df[var][~mask_rng]=df[var][mask_rng].mean()\n",
    "           # print(df[var].max())\n",
    "           # print(df.shape)\n",
    "    return df\n",
    "\n",
    "def replacenullsmean(df,dropcols=['SYDID','Date of assessment','max_date']):\n",
    "    usecols=[col for col in df.columns if col not in dropcols]\n",
    "    df[usecols]=df[usecols].replace([np.inf, -np.inf], np.nan)\n",
    "    for col in df[usecols].columns:\n",
    "        nullmask=(df[col].isna())\n",
    "        df[col][nullmask]=df[col][~nullmask].mean()\n",
    "    return df\n",
    "\n",
    "def umap_reducer(df,vars,neighb=10,comp=5):\n",
    "    df_out=df.copy()\n",
    "    \n",
    "    for col in df_out.columns:\n",
    "        if df_out[col].dtype!='object':\n",
    "            df_out[col]=df_out[col].fillna(df_out[col][pd.notnull(df_out[col])].mean())\n",
    "              \n",
    "    dmod=df_out[[col for col in vars if col!='SYDID' and re.search('float',str(df_out[col].dtype))\n",
    "                and df_out[col].count()>=df_out.shape[0]]]\n",
    "    print(dmod.shape)\n",
    "    \n",
    "    reducer= umap.UMAP(n_neighbors=neighb,n_components=comp)\n",
    "    reddata = pd.DataFrame(reducer.fit_transform(dmod)).reset_index()\n",
    "    reddata.shape\n",
    "    \n",
    "    reddata.columns=['index','umap_var1','umap_var2']\n",
    "    df_out[['index','umap_var1','umap_var2']]=reddata[['index','umap_var1','umap_var2']]\n",
    "    return df_out\n",
    "\n",
    "def elbow_clust(df,clustrange=10,clustfit=4,dropvars=['SYDID','Date of assessment','max_date']):\n",
    "    df_vars=df.drop(columns=dropvars)\n",
    "    dv2=[col for col in df_vars if df_vars[col].dtype=='float32']\n",
    "    print(dv2)\n",
    "    df_vars=df_vars[dv2]\n",
    "    print(df_vars.columns)\n",
    "    df_vars=replacenullsmean(df_vars)\n",
    "    \n",
    "    wcss=[]\n",
    "    #print(df_vars.head())\n",
    "    for i in range(1,clustrange): \n",
    "         kmeans = KMeans(n_clusters=i, init ='k-means++', max_iter=300,  n_init=clustrange-1,random_state=0)\n",
    "         kmeans.fit(df_vars)\n",
    "         wcss.append(kmeans.inertia_)\n",
    "    plt.plot(range(1,clustrange),wcss)\n",
    "    plt.title('The Elbow Method Graph')\n",
    "    plt.xlabel('Number of clusters')\n",
    "    plt.ylabel('WCSS')\n",
    "    plt.show()\n",
    "    kmeans = KMeans(n_clusters=clustfit, random_state=0).fit(df_vars)\n",
    "    df['cluster_label']=kmeans.labels_.tolist()\n",
    "    return df"
   ]
  },
  {
   "cell_type": "code",
   "execution_count": 122,
   "metadata": {
    "ExecuteTime": {
     "end_time": "2021-02-08T04:21:07.311329Z",
     "start_time": "2021-02-08T04:21:07.093798Z"
    }
   },
   "outputs": [],
   "source": [
    "PDcombined=pd.read_csv('%s%s' % (outdata,'PDcombined.csv'))"
   ]
  },
  {
   "cell_type": "markdown",
   "metadata": {},
   "source": [
    "#### Data Processing"
   ]
  },
  {
   "cell_type": "code",
   "execution_count": 123,
   "metadata": {
    "ExecuteTime": {
     "end_time": "2021-02-08T04:21:08.239308Z",
     "start_time": "2021-02-08T04:21:08.233640Z"
    }
   },
   "outputs": [],
   "source": [
    "mask_BDI_miss=(PDcombined['BDI_BDI Total']>200)"
   ]
  },
  {
   "cell_type": "code",
   "execution_count": 124,
   "metadata": {
    "ExecuteTime": {
     "end_time": "2021-02-08T04:21:08.870587Z",
     "start_time": "2021-02-08T04:21:08.849365Z"
    }
   },
   "outputs": [],
   "source": [
    "PDcombined=PDcombined[~(mask_BDI_miss)]"
   ]
  },
  {
   "cell_type": "code",
   "execution_count": 125,
   "metadata": {
    "ExecuteTime": {
     "end_time": "2021-02-08T04:21:11.411887Z",
     "start_time": "2021-02-08T04:21:11.137544Z"
    }
   },
   "outputs": [
    {
     "name": "stderr",
     "output_type": "stream",
     "text": [
      "/opt/conda/lib/python3.7/site-packages/ipykernel_launcher.py:5: SettingWithCopyWarning: \n",
      "A value is trying to be set on a copy of a slice from a DataFrame\n",
      "\n",
      "See the caveats in the documentation: http://pandas.pydata.org/pandas-docs/stable/user_guide/indexing.html#returning-a-view-versus-a-copy\n",
      "  \"\"\"\n",
      "/opt/conda/lib/python3.7/site-packages/ipykernel_launcher.py:10: SettingWithCopyWarning: \n",
      "A value is trying to be set on a copy of a slice from a DataFrame\n",
      "\n",
      "See the caveats in the documentation: http://pandas.pydata.org/pandas-docs/stable/user_guide/indexing.html#returning-a-view-versus-a-copy\n",
      "  # Remove the CWD from sys.path while we load stuff.\n",
      "/opt/conda/lib/python3.7/site-packages/ipykernel_launcher.py:11: SettingWithCopyWarning: \n",
      "A value is trying to be set on a copy of a slice from a DataFrame\n",
      "\n",
      "See the caveats in the documentation: http://pandas.pydata.org/pandas-docs/stable/user_guide/indexing.html#returning-a-view-versus-a-copy\n",
      "  # This is added back by InteractiveShellApp.init_path()\n",
      "/opt/conda/lib/python3.7/site-packages/ipykernel_launcher.py:15: SettingWithCopyWarning: \n",
      "A value is trying to be set on a copy of a slice from a DataFrame\n",
      "\n",
      "See the caveats in the documentation: http://pandas.pydata.org/pandas-docs/stable/user_guide/indexing.html#returning-a-view-versus-a-copy\n",
      "  from ipykernel import kernelapp as app\n",
      "/opt/conda/lib/python3.7/site-packages/ipykernel_launcher.py:19: SettingWithCopyWarning: \n",
      "A value is trying to be set on a copy of a slice from a DataFrame\n",
      "\n",
      "See the caveats in the documentation: http://pandas.pydata.org/pandas-docs/stable/user_guide/indexing.html#returning-a-view-versus-a-copy\n",
      "/opt/conda/lib/python3.7/site-packages/ipykernel_launcher.py:22: SettingWithCopyWarning: \n",
      "A value is trying to be set on a copy of a slice from a DataFrame\n",
      "\n",
      "See the caveats in the documentation: http://pandas.pydata.org/pandas-docs/stable/user_guide/indexing.html#returning-a-view-versus-a-copy\n",
      "/opt/conda/lib/python3.7/site-packages/ipykernel_launcher.py:26: SettingWithCopyWarning: \n",
      "A value is trying to be set on a copy of a slice from a DataFrame\n",
      "\n",
      "See the caveats in the documentation: http://pandas.pydata.org/pandas-docs/stable/user_guide/indexing.html#returning-a-view-versus-a-copy\n"
     ]
    }
   ],
   "source": [
    "\n",
    "logmem2cutoff=PDcombined['cog1_Logical Memory II'].mean()+PDcombined['cog1_Logical Memory II'].std()*1.5\n",
    "masklm2=(PDcombined['cog1_Logical Memory II']<logmem2cutoff)\n",
    "\n",
    "PDcombined['Lm2_cut']=0\n",
    "PDcombined['Lm2_cut'][(masklm2)]=1\n",
    "\n",
    "mask0=(PDcombined['udprs_DDE']>0)\n",
    "masklt1000=(PDcombined['udprs_DDE']<1000)\n",
    "PDcombined['DDE_norm']=0\n",
    "PDcombined['DDE_norm'][mask0&masklt1000]=1\n",
    "PDcombined['DDE_norm'][mask0&~masklt1000]=2\n",
    "\n",
    "maskbdi=(PDcombined['BDI_BDI Total']>13)\n",
    "PDcombined['BDI_norm']=0\n",
    "PDcombined['BDI_norm'][maskbdi]=1\n",
    "\n",
    "maskess=(PDcombined['ESS_ESS Total']>10)\n",
    "PDcombined['ESS_norm']=0\n",
    "PDcombined['ESS_norm'][maskess]=1\n",
    "\n",
    "mask_ratio=((PDcombined['udprs_tremor_ratio']==np.inf))\n",
    "PDcombined['udprs_tremor_ratio'][mask_ratio]=PDcombined['udprs_tremor_ratio'][~mask_ratio].mean()\n",
    "\n",
    "for col in varsnormalise:\n",
    "    nullmask=(PDcombined[col].isna())\n",
    "    PDcombined[col][nullmask]=PDcombined[col][~nullmask].mean()\n",
    "    PDcombined[col+'_z_score']=z_score(PDcombined[col])\n",
    "vars_z=[var +'_z_score' for var in varsnormalise ]\n",
    "varscluster=np.append(['SYDID','Date of assessment'],nonnormvars)\n",
    "varscluster=np.append(varscluster,vars_z)\n",
    "\n",
    "'''\n",
    "Substitute to only have max date\n",
    "'''\n",
    "PDcombined['max_date']=PDcombined.groupby('SYDID')['Date of assessment'].transform(max)\n",
    "\n",
    "mask_date_max=(PDcombined['max_date']==PDcombined['Date of assessment'])\n",
    "PDcombined_sub=PDcombined[mask_date_max]\n",
    "\n",
    "'''\n",
    "Removal of columns that don't work\n",
    "'''\n",
    "\n",
    "othcols=[col for col in PDcombined.columns if (PDcombined[col].dtype!='object'\\\n",
    "and col not in varscluster) or col in ['SYDID','Date of assessment','udprs_Disease_Progression',\\\n",
    "'udprs_Age_Diagnosis']]"
   ]
  },
  {
   "cell_type": "code",
   "execution_count": 126,
   "metadata": {
    "ExecuteTime": {
     "end_time": "2021-02-08T04:21:18.523090Z",
     "start_time": "2021-02-08T04:21:11.843984Z"
    }
   },
   "outputs": [
    {
     "name": "stderr",
     "output_type": "stream",
     "text": [
      "/opt/conda/lib/python3.7/site-packages/ipykernel_launcher.py:12: SettingWithCopyWarning: \n",
      "A value is trying to be set on a copy of a slice from a DataFrame\n",
      "\n",
      "See the caveats in the documentation: http://pandas.pydata.org/pandas-docs/stable/user_guide/indexing.html#returning-a-view-versus-a-copy\n",
      "  if sys.path[0] == '':\n",
      "/opt/conda/lib/python3.7/site-packages/pandas/core/generic.py:9114: SettingWithCopyWarning: \n",
      "A value is trying to be set on a copy of a slice from a DataFrame\n",
      "\n",
      "See the caveats in the documentation: http://pandas.pydata.org/pandas-docs/stable/user_guide/indexing.html#returning-a-view-versus-a-copy\n",
      "  self._update_inplace(new_data)\n",
      "/opt/conda/lib/python3.7/site-packages/ipykernel_launcher.py:7: SettingWithCopyWarning: \n",
      "A value is trying to be set on a copy of a slice from a DataFrame\n",
      "\n",
      "See the caveats in the documentation: http://pandas.pydata.org/pandas-docs/stable/user_guide/indexing.html#returning-a-view-versus-a-copy\n",
      "  import sys\n",
      "/opt/conda/lib/python3.7/site-packages/pandas/core/generic.py:9114: SettingWithCopyWarning: \n",
      "A value is trying to be set on a copy of a slice from a DataFrame\n",
      "\n",
      "See the caveats in the documentation: http://pandas.pydata.org/pandas-docs/stable/user_guide/indexing.html#returning-a-view-versus-a-copy\n",
      "  self._update_inplace(new_data)\n",
      "/opt/conda/lib/python3.7/site-packages/ipykernel_launcher.py:7: SettingWithCopyWarning: \n",
      "A value is trying to be set on a copy of a slice from a DataFrame\n",
      "\n",
      "See the caveats in the documentation: http://pandas.pydata.org/pandas-docs/stable/user_guide/indexing.html#returning-a-view-versus-a-copy\n",
      "  import sys\n",
      "/opt/conda/lib/python3.7/site-packages/ipykernel_launcher.py:12: SettingWithCopyWarning: \n",
      "A value is trying to be set on a copy of a slice from a DataFrame\n",
      "\n",
      "See the caveats in the documentation: http://pandas.pydata.org/pandas-docs/stable/user_guide/indexing.html#returning-a-view-versus-a-copy\n",
      "  if sys.path[0] == '':\n",
      "/opt/conda/lib/python3.7/site-packages/pandas/core/generic.py:9114: SettingWithCopyWarning: \n",
      "A value is trying to be set on a copy of a slice from a DataFrame\n",
      "\n",
      "See the caveats in the documentation: http://pandas.pydata.org/pandas-docs/stable/user_guide/indexing.html#returning-a-view-versus-a-copy\n",
      "  self._update_inplace(new_data)\n",
      "/opt/conda/lib/python3.7/site-packages/ipykernel_launcher.py:7: SettingWithCopyWarning: \n",
      "A value is trying to be set on a copy of a slice from a DataFrame\n",
      "\n",
      "See the caveats in the documentation: http://pandas.pydata.org/pandas-docs/stable/user_guide/indexing.html#returning-a-view-versus-a-copy\n",
      "  import sys\n",
      "/opt/conda/lib/python3.7/site-packages/ipykernel_launcher.py:12: SettingWithCopyWarning: \n",
      "A value is trying to be set on a copy of a slice from a DataFrame\n",
      "\n",
      "See the caveats in the documentation: http://pandas.pydata.org/pandas-docs/stable/user_guide/indexing.html#returning-a-view-versus-a-copy\n",
      "  if sys.path[0] == '':\n",
      "/opt/conda/lib/python3.7/site-packages/pandas/core/frame.py:3509: SettingWithCopyWarning: \n",
      "A value is trying to be set on a copy of a slice from a DataFrame.\n",
      "Try using .loc[row_indexer,col_indexer] = value instead\n",
      "\n",
      "See the caveats in the documentation: http://pandas.pydata.org/pandas-docs/stable/user_guide/indexing.html#returning-a-view-versus-a-copy\n",
      "  self[k1] = value[k2]\n",
      "/opt/conda/lib/python3.7/site-packages/ipykernel_launcher.py:22: SettingWithCopyWarning: \n",
      "A value is trying to be set on a copy of a slice from a DataFrame\n",
      "\n",
      "See the caveats in the documentation: http://pandas.pydata.org/pandas-docs/stable/user_guide/indexing.html#returning-a-view-versus-a-copy\n",
      "/opt/conda/lib/python3.7/site-packages/ipykernel_launcher.py:8: SettingWithCopyWarning: \n",
      "A value is trying to be set on a copy of a slice from a DataFrame\n",
      "\n",
      "See the caveats in the documentation: http://pandas.pydata.org/pandas-docs/stable/user_guide/indexing.html#returning-a-view-versus-a-copy\n",
      "  \n"
     ]
    },
    {
     "name": "stdout",
     "output_type": "stream",
     "text": [
      "(154, 334)\n"
     ]
    }
   ],
   "source": [
    "PDcluster_alt=PDcombined_sub[othcols]\n",
    "PDcluster=PDcombined_sub[varscluster]\n",
    "\n",
    "for var in PDcluster.columns:\n",
    "    PDcluster=PDcluster[(PDcluster[var]!=999)]\n",
    "    \n",
    "PDcluster_alt=takeonlyx_sd(df=PDcluster_alt,x=3)\n",
    "PDcluster_alt=replacenullsmean(PDcluster_alt)\n",
    "\n",
    "'''\n",
    "Reduce using umap\n",
    "'''\n",
    "\n",
    "pdclust_umap=umap_reducer(PDcluster_alt,PDcluster_alt.columns,\\\n",
    "neighb=config['umap_neigbours'],comp=config['umap_comps'])"
   ]
  },
  {
   "cell_type": "code",
   "execution_count": 127,
   "metadata": {
    "ExecuteTime": {
     "end_time": "2021-02-08T04:21:19.050942Z",
     "start_time": "2021-02-08T04:21:18.526936Z"
    }
   },
   "outputs": [
    {
     "name": "stdout",
     "output_type": "stream",
     "text": [
      "(153, 8)\n"
     ]
    }
   ],
   "source": [
    "pdclust_umap=umap_reducer(PDcluster,PDcluster.columns,neighb=10,comp=2)"
   ]
  },
  {
   "cell_type": "code",
   "execution_count": 128,
   "metadata": {
    "ExecuteTime": {
     "end_time": "2021-02-08T04:21:21.147694Z",
     "start_time": "2021-02-08T04:21:21.097037Z"
    }
   },
   "outputs": [
    {
     "data": {
      "text/html": [
       "<div>\n",
       "<style scoped>\n",
       "    .dataframe tbody tr th:only-of-type {\n",
       "        vertical-align: middle;\n",
       "    }\n",
       "\n",
       "    .dataframe tbody tr th {\n",
       "        vertical-align: top;\n",
       "    }\n",
       "\n",
       "    .dataframe thead th {\n",
       "        text-align: right;\n",
       "    }\n",
       "</style>\n",
       "<table border=\"1\" class=\"dataframe\">\n",
       "  <thead>\n",
       "    <tr style=\"text-align: right;\">\n",
       "      <th></th>\n",
       "      <th>SYDID</th>\n",
       "      <th>Date of assessment</th>\n",
       "      <th>cog1_Trails A Z score</th>\n",
       "      <th>Lm2_cut</th>\n",
       "      <th>ESS_norm</th>\n",
       "      <th>FOGQ_FOGQ 3</th>\n",
       "      <th>DDE_norm</th>\n",
       "      <th>udprs_Disease_Progression_z_score</th>\n",
       "      <th>udprs_Age_Diagnosis_z_score</th>\n",
       "      <th>cog1_MMSE result_z_score</th>\n",
       "      <th>udprs_tremor_ratio_z_score</th>\n",
       "      <th>cog1_NART_z_score</th>\n",
       "      <th>BDI_BDI Total_z_score</th>\n",
       "      <th>index</th>\n",
       "      <th>umap_var1</th>\n",
       "      <th>umap_var2</th>\n",
       "    </tr>\n",
       "  </thead>\n",
       "  <tbody>\n",
       "    <tr>\n",
       "      <th>0</th>\n",
       "      <td>PD_00001_DA</td>\n",
       "      <td>2013-05-28</td>\n",
       "      <td>-0.520</td>\n",
       "      <td>1</td>\n",
       "      <td>0</td>\n",
       "      <td>1.055556</td>\n",
       "      <td>2</td>\n",
       "      <td>-0.076902</td>\n",
       "      <td>0.054451</td>\n",
       "      <td>-2.274102</td>\n",
       "      <td>-0.057045</td>\n",
       "      <td>-0.318463</td>\n",
       "      <td>0.226894</td>\n",
       "      <td>0.0</td>\n",
       "      <td>5.372696</td>\n",
       "      <td>0.145147</td>\n",
       "    </tr>\n",
       "    <tr>\n",
       "      <th>1</th>\n",
       "      <td>PD_00002_MW</td>\n",
       "      <td>2011-10-25</td>\n",
       "      <td>-3.290</td>\n",
       "      <td>1</td>\n",
       "      <td>1</td>\n",
       "      <td>3.000000</td>\n",
       "      <td>1</td>\n",
       "      <td>-0.042052</td>\n",
       "      <td>0.505864</td>\n",
       "      <td>0.746282</td>\n",
       "      <td>-0.807309</td>\n",
       "      <td>-0.212966</td>\n",
       "      <td>0.389329</td>\n",
       "      <td>1.0</td>\n",
       "      <td>3.364421</td>\n",
       "      <td>1.597404</td>\n",
       "    </tr>\n",
       "    <tr>\n",
       "      <th>5</th>\n",
       "      <td>PD_00004_AW</td>\n",
       "      <td>2014-07-21</td>\n",
       "      <td>1.160</td>\n",
       "      <td>1</td>\n",
       "      <td>0</td>\n",
       "      <td>0.000000</td>\n",
       "      <td>2</td>\n",
       "      <td>-0.109971</td>\n",
       "      <td>-0.414347</td>\n",
       "      <td>0.242884</td>\n",
       "      <td>-1.020222</td>\n",
       "      <td>-0.131815</td>\n",
       "      <td>-0.910152</td>\n",
       "      <td>5.0</td>\n",
       "      <td>4.783630</td>\n",
       "      <td>2.698223</td>\n",
       "    </tr>\n",
       "    <tr>\n",
       "      <th>7</th>\n",
       "      <td>PD_00008_BM</td>\n",
       "      <td>2014-11-03</td>\n",
       "      <td>0.940</td>\n",
       "      <td>1</td>\n",
       "      <td>0</td>\n",
       "      <td>0.000000</td>\n",
       "      <td>1</td>\n",
       "      <td>-0.090844</td>\n",
       "      <td>0.505023</td>\n",
       "      <td>0.746282</td>\n",
       "      <td>1.760952</td>\n",
       "      <td>-0.083124</td>\n",
       "      <td>0.064458</td>\n",
       "      <td>7.0</td>\n",
       "      <td>4.196854</td>\n",
       "      <td>3.500030</td>\n",
       "    </tr>\n",
       "    <tr>\n",
       "      <th>8</th>\n",
       "      <td>PD_00017_RE</td>\n",
       "      <td>2011-08-23</td>\n",
       "      <td>0.150</td>\n",
       "      <td>1</td>\n",
       "      <td>0</td>\n",
       "      <td>1.055556</td>\n",
       "      <td>1</td>\n",
       "      <td>-0.060357</td>\n",
       "      <td>0.569791</td>\n",
       "      <td>-1.770705</td>\n",
       "      <td>-0.008886</td>\n",
       "      <td>-0.058779</td>\n",
       "      <td>0.226894</td>\n",
       "      <td>8.0</td>\n",
       "      <td>8.434993</td>\n",
       "      <td>3.486417</td>\n",
       "    </tr>\n",
       "    <tr>\n",
       "      <th>...</th>\n",
       "      <td>...</td>\n",
       "      <td>...</td>\n",
       "      <td>...</td>\n",
       "      <td>...</td>\n",
       "      <td>...</td>\n",
       "      <td>...</td>\n",
       "      <td>...</td>\n",
       "      <td>...</td>\n",
       "      <td>...</td>\n",
       "      <td>...</td>\n",
       "      <td>...</td>\n",
       "      <td>...</td>\n",
       "      <td>...</td>\n",
       "      <td>...</td>\n",
       "      <td>...</td>\n",
       "      <td>...</td>\n",
       "    </tr>\n",
       "    <tr>\n",
       "      <th>255</th>\n",
       "      <td>PD_00553_KM</td>\n",
       "      <td>2012-10-16</td>\n",
       "      <td>-0.450</td>\n",
       "      <td>1</td>\n",
       "      <td>1</td>\n",
       "      <td>0.000000</td>\n",
       "      <td>2</td>\n",
       "      <td>-0.077375</td>\n",
       "      <td>0.970736</td>\n",
       "      <td>0.242884</td>\n",
       "      <td>-0.844337</td>\n",
       "      <td>-0.172391</td>\n",
       "      <td>-0.747717</td>\n",
       "      <td>NaN</td>\n",
       "      <td>NaN</td>\n",
       "      <td>NaN</td>\n",
       "    </tr>\n",
       "    <tr>\n",
       "      <th>256</th>\n",
       "      <td>PD_00555_PH</td>\n",
       "      <td>2012-11-20</td>\n",
       "      <td>-1.847</td>\n",
       "      <td>1</td>\n",
       "      <td>1</td>\n",
       "      <td>0.000000</td>\n",
       "      <td>1</td>\n",
       "      <td>-0.000382</td>\n",
       "      <td>1.168685</td>\n",
       "      <td>-1.770705</td>\n",
       "      <td>0.777709</td>\n",
       "      <td>-0.123700</td>\n",
       "      <td>0.714199</td>\n",
       "      <td>NaN</td>\n",
       "      <td>NaN</td>\n",
       "      <td>NaN</td>\n",
       "    </tr>\n",
       "    <tr>\n",
       "      <th>257</th>\n",
       "      <td>PD_00557_DC</td>\n",
       "      <td>2012-11-06</td>\n",
       "      <td>-0.770</td>\n",
       "      <td>1</td>\n",
       "      <td>0</td>\n",
       "      <td>1.055556</td>\n",
       "      <td>1</td>\n",
       "      <td>-0.097528</td>\n",
       "      <td>1.090179</td>\n",
       "      <td>-1.267308</td>\n",
       "      <td>-0.086681</td>\n",
       "      <td>-0.204851</td>\n",
       "      <td>-0.747717</td>\n",
       "      <td>NaN</td>\n",
       "      <td>NaN</td>\n",
       "      <td>NaN</td>\n",
       "    </tr>\n",
       "    <tr>\n",
       "      <th>258</th>\n",
       "      <td>PD_00568_MB</td>\n",
       "      <td>2012-11-27</td>\n",
       "      <td>-0.320</td>\n",
       "      <td>1</td>\n",
       "      <td>0</td>\n",
       "      <td>0.000000</td>\n",
       "      <td>0</td>\n",
       "      <td>15.890539</td>\n",
       "      <td>1.786084</td>\n",
       "      <td>0.746282</td>\n",
       "      <td>-0.249680</td>\n",
       "      <td>-0.107470</td>\n",
       "      <td>0.389329</td>\n",
       "      <td>NaN</td>\n",
       "      <td>NaN</td>\n",
       "      <td>NaN</td>\n",
       "    </tr>\n",
       "    <tr>\n",
       "      <th>259</th>\n",
       "      <td>PD_00583_KC</td>\n",
       "      <td>2013-03-19</td>\n",
       "      <td>0.320</td>\n",
       "      <td>1</td>\n",
       "      <td>1</td>\n",
       "      <td>1.055556</td>\n",
       "      <td>1</td>\n",
       "      <td>-0.087486</td>\n",
       "      <td>0.119219</td>\n",
       "      <td>0.746282</td>\n",
       "      <td>-0.121257</td>\n",
       "      <td>-0.083124</td>\n",
       "      <td>3.475596</td>\n",
       "      <td>NaN</td>\n",
       "      <td>NaN</td>\n",
       "      <td>NaN</td>\n",
       "    </tr>\n",
       "  </tbody>\n",
       "</table>\n",
       "<p>153 rows × 16 columns</p>\n",
       "</div>"
      ],
      "text/plain": [
       "           SYDID Date of assessment  cog1_Trails A Z score  Lm2_cut  ESS_norm  \\\n",
       "0    PD_00001_DA         2013-05-28                 -0.520        1         0   \n",
       "1    PD_00002_MW         2011-10-25                 -3.290        1         1   \n",
       "5    PD_00004_AW         2014-07-21                  1.160        1         0   \n",
       "7    PD_00008_BM         2014-11-03                  0.940        1         0   \n",
       "8    PD_00017_RE         2011-08-23                  0.150        1         0   \n",
       "..           ...                ...                    ...      ...       ...   \n",
       "255  PD_00553_KM         2012-10-16                 -0.450        1         1   \n",
       "256  PD_00555_PH         2012-11-20                 -1.847        1         1   \n",
       "257  PD_00557_DC         2012-11-06                 -0.770        1         0   \n",
       "258  PD_00568_MB         2012-11-27                 -0.320        1         0   \n",
       "259  PD_00583_KC         2013-03-19                  0.320        1         1   \n",
       "\n",
       "     FOGQ_FOGQ 3  DDE_norm  udprs_Disease_Progression_z_score  \\\n",
       "0       1.055556         2                          -0.076902   \n",
       "1       3.000000         1                          -0.042052   \n",
       "5       0.000000         2                          -0.109971   \n",
       "7       0.000000         1                          -0.090844   \n",
       "8       1.055556         1                          -0.060357   \n",
       "..           ...       ...                                ...   \n",
       "255     0.000000         2                          -0.077375   \n",
       "256     0.000000         1                          -0.000382   \n",
       "257     1.055556         1                          -0.097528   \n",
       "258     0.000000         0                          15.890539   \n",
       "259     1.055556         1                          -0.087486   \n",
       "\n",
       "     udprs_Age_Diagnosis_z_score  cog1_MMSE result_z_score  \\\n",
       "0                       0.054451                 -2.274102   \n",
       "1                       0.505864                  0.746282   \n",
       "5                      -0.414347                  0.242884   \n",
       "7                       0.505023                  0.746282   \n",
       "8                       0.569791                 -1.770705   \n",
       "..                           ...                       ...   \n",
       "255                     0.970736                  0.242884   \n",
       "256                     1.168685                 -1.770705   \n",
       "257                     1.090179                 -1.267308   \n",
       "258                     1.786084                  0.746282   \n",
       "259                     0.119219                  0.746282   \n",
       "\n",
       "     udprs_tremor_ratio_z_score  cog1_NART_z_score  BDI_BDI Total_z_score  \\\n",
       "0                     -0.057045          -0.318463               0.226894   \n",
       "1                     -0.807309          -0.212966               0.389329   \n",
       "5                     -1.020222          -0.131815              -0.910152   \n",
       "7                      1.760952          -0.083124               0.064458   \n",
       "8                     -0.008886          -0.058779               0.226894   \n",
       "..                          ...                ...                    ...   \n",
       "255                   -0.844337          -0.172391              -0.747717   \n",
       "256                    0.777709          -0.123700               0.714199   \n",
       "257                   -0.086681          -0.204851              -0.747717   \n",
       "258                   -0.249680          -0.107470               0.389329   \n",
       "259                   -0.121257          -0.083124               3.475596   \n",
       "\n",
       "     index  umap_var1  umap_var2  \n",
       "0      0.0   5.372696   0.145147  \n",
       "1      1.0   3.364421   1.597404  \n",
       "5      5.0   4.783630   2.698223  \n",
       "7      7.0   4.196854   3.500030  \n",
       "8      8.0   8.434993   3.486417  \n",
       "..     ...        ...        ...  \n",
       "255    NaN        NaN        NaN  \n",
       "256    NaN        NaN        NaN  \n",
       "257    NaN        NaN        NaN  \n",
       "258    NaN        NaN        NaN  \n",
       "259    NaN        NaN        NaN  \n",
       "\n",
       "[153 rows x 16 columns]"
      ]
     },
     "execution_count": 128,
     "metadata": {},
     "output_type": "execute_result"
    }
   ],
   "source": [
    "pdclust_umap"
   ]
  },
  {
   "cell_type": "code",
   "execution_count": 129,
   "metadata": {
    "ExecuteTime": {
     "end_time": "2021-02-08T04:21:27.081725Z",
     "start_time": "2021-02-08T04:21:25.197015Z"
    }
   },
   "outputs": [
    {
     "name": "stdout",
     "output_type": "stream",
     "text": [
      "['umap_var1', 'umap_var2']\n",
      "Index(['umap_var1', 'umap_var2'], dtype='object')\n"
     ]
    },
    {
     "data": {
      "image/png": "[encoded data removed]",
      "text/plain": [
       "<Figure size 432x288 with 1 Axes>"
      ]
     },
     "metadata": {
      "needs_background": "light"
     },
     "output_type": "display_data"
    },
    {
     "name": "stderr",
     "output_type": "stream",
     "text": [
      "/opt/conda/lib/python3.7/site-packages/ipykernel_launcher.py:64: SettingWithCopyWarning: \n",
      "A value is trying to be set on a copy of a slice from a DataFrame.\n",
      "Try using .loc[row_indexer,col_indexer] = value instead\n",
      "\n",
      "See the caveats in the documentation: http://pandas.pydata.org/pandas-docs/stable/user_guide/indexing.html#returning-a-view-versus-a-copy\n"
     ]
    },
    {
     "data": {
      "text/plain": [
       "<matplotlib.axes._subplots.AxesSubplot at 0x7fe970fd8810>"
      ]
     },
     "execution_count": 129,
     "metadata": {},
     "output_type": "execute_result"
    },
    {
     "data": {
      "image/png": "[encoded data removed]",
      "text/plain": [
       "<Figure size 432x288 with 1 Axes>"
      ]
     },
     "metadata": {
      "needs_background": "light"
     },
     "output_type": "display_data"
    }
   ],
   "source": [
    "PDcluster_clust=elbow_clust(pdclust_umap[['SYDID','Date of assessment','umap_var1','umap_var2']],\\\n",
    "clustfit=4,dropvars=['SYDID','Date of assessment'])\n",
    "\n",
    "sns.scatterplot(data=PDcluster_clust, x=\"umap_var1\", y=\"umap_var2\",hue='cluster_label')\n"
   ]
  },
  {
   "cell_type": "code",
   "execution_count": 130,
   "metadata": {
    "ExecuteTime": {
     "end_time": "2021-02-08T04:21:31.319383Z",
     "start_time": "2021-02-08T04:21:31.303819Z"
    }
   },
   "outputs": [
    {
     "name": "stdout",
     "output_type": "stream",
     "text": [
      "(257, 542)\n",
      "(153, 5)\n"
     ]
    }
   ],
   "source": [
    "mask1=(PDcombined['Date of assessment']==PDcombined['max_date'])\n",
    "\n",
    "print(PDcombined.shape)\n",
    "print(PDcluster_clust.shape)\n",
    "\n",
    "varsused=['SYDID','Date of assessment','udprs_Disease_Progression','udprs_Age_Diagnosis','BDI_BDI Total','cog1_MMSE result',\\\n",
    "'udprs_non_tremor','udprs_tremor','udprs_tremor_ratio','cog1_NART','DDE_norm']\n",
    "\n",
    "mask=(pd.notnull(PDcluster_clust['SYDID'])&pd.notnull(PDcluster_clust['Date of assessment']))\n",
    "mask2=(pd.notnull(PDcombined['SYDID'])&pd.notnull(PDcombined['Date of assessment']))\n"
   ]
  },
  {
   "cell_type": "code",
   "execution_count": 131,
   "metadata": {
    "ExecuteTime": {
     "end_time": "2021-02-08T04:21:33.648637Z",
     "start_time": "2021-02-08T04:21:33.635701Z"
    }
   },
   "outputs": [],
   "source": [
    "PDcluster_clust_new=PDcluster_clust[['SYDID','Date of assessment','cluster_label']][mask]\n",
    "PDcombined_new=PDcombined[varsused][mask2&mask1]"
   ]
  },
  {
   "cell_type": "code",
   "execution_count": 132,
   "metadata": {
    "ExecuteTime": {
     "end_time": "2021-02-08T04:21:34.339166Z",
     "start_time": "2021-02-08T04:21:34.316708Z"
    }
   },
   "outputs": [
    {
     "name": "stdout",
     "output_type": "stream",
     "text": [
      "(153, 3)\n",
      "(154, 11)\n",
      "(153, 12)\n"
     ]
    }
   ],
   "source": [
    "\n",
    "\n",
    "PDcluster_clust_new['Date of assessment']=pd.to_datetime(PDcluster_clust_new['Date of assessment'])\n",
    "PDcombined_new['Date of assessment']=pd.to_datetime(PDcombined_new['Date of assessment'])\n",
    "\n",
    "print(PDcluster_clust_new.shape)\n",
    "print(PDcombined_new.shape)\n",
    "\n",
    "clust=pd.merge(PDcombined_new,PDcluster_clust_new,on=['SYDID','Date of assessment'],how='inner')\n",
    "print(clust.shape)"
   ]
  },
  {
   "cell_type": "code",
   "execution_count": 133,
   "metadata": {
    "ExecuteTime": {
     "end_time": "2021-02-08T04:21:35.800111Z",
     "start_time": "2021-02-08T04:21:35.756345Z"
    }
   },
   "outputs": [
    {
     "name": "stdout",
     "output_type": "stream",
     "text": [
      "(153, 12)\n"
     ]
    },
    {
     "data": {
      "text/html": [
       "<div>\n",
       "<style scoped>\n",
       "    .dataframe tbody tr th:only-of-type {\n",
       "        vertical-align: middle;\n",
       "    }\n",
       "\n",
       "    .dataframe tbody tr th {\n",
       "        vertical-align: top;\n",
       "    }\n",
       "\n",
       "    .dataframe thead th {\n",
       "        text-align: right;\n",
       "    }\n",
       "</style>\n",
       "<table border=\"1\" class=\"dataframe\">\n",
       "  <thead>\n",
       "    <tr style=\"text-align: right;\">\n",
       "      <th></th>\n",
       "      <th>cluster_label</th>\n",
       "      <th>udprs_Disease_Progression</th>\n",
       "      <th>udprs_Age_Diagnosis</th>\n",
       "      <th>cog1_MMSE result</th>\n",
       "      <th>udprs_non_tremor</th>\n",
       "      <th>udprs_tremor</th>\n",
       "      <th>udprs_tremor_ratio</th>\n",
       "      <th>cog1_NART</th>\n",
       "      <th>BDI_BDI Total</th>\n",
       "      <th>num_patients</th>\n",
       "    </tr>\n",
       "  </thead>\n",
       "  <tbody>\n",
       "    <tr>\n",
       "      <th>0</th>\n",
       "      <td>0</td>\n",
       "      <td>0.136957</td>\n",
       "      <td>61.072314</td>\n",
       "      <td>28.534884</td>\n",
       "      <td>1.244186</td>\n",
       "      <td>0.579070</td>\n",
       "      <td>0.515137</td>\n",
       "      <td>121.075422</td>\n",
       "      <td>8.546512</td>\n",
       "      <td>86</td>\n",
       "    </tr>\n",
       "    <tr>\n",
       "      <th>1</th>\n",
       "      <td>1</td>\n",
       "      <td>0.022728</td>\n",
       "      <td>57.871321</td>\n",
       "      <td>28.392857</td>\n",
       "      <td>1.400000</td>\n",
       "      <td>0.400000</td>\n",
       "      <td>0.338091</td>\n",
       "      <td>176.750000</td>\n",
       "      <td>10.071429</td>\n",
       "      <td>28</td>\n",
       "    </tr>\n",
       "    <tr>\n",
       "      <th>2</th>\n",
       "      <td>2</td>\n",
       "      <td>0.025566</td>\n",
       "      <td>58.490140</td>\n",
       "      <td>28.857143</td>\n",
       "      <td>1.180952</td>\n",
       "      <td>0.523810</td>\n",
       "      <td>0.468063</td>\n",
       "      <td>106.190476</td>\n",
       "      <td>6.047619</td>\n",
       "      <td>21</td>\n",
       "    </tr>\n",
       "    <tr>\n",
       "      <th>3</th>\n",
       "      <td>3</td>\n",
       "      <td>0.022643</td>\n",
       "      <td>54.991862</td>\n",
       "      <td>28.555556</td>\n",
       "      <td>1.516667</td>\n",
       "      <td>0.477778</td>\n",
       "      <td>0.461484</td>\n",
       "      <td>107.666667</td>\n",
       "      <td>14.055556</td>\n",
       "      <td>18</td>\n",
       "    </tr>\n",
       "  </tbody>\n",
       "</table>\n",
       "</div>"
      ],
      "text/plain": [
       "   cluster_label  udprs_Disease_Progression  udprs_Age_Diagnosis  \\\n",
       "0              0                   0.136957            61.072314   \n",
       "1              1                   0.022728            57.871321   \n",
       "2              2                   0.025566            58.490140   \n",
       "3              3                   0.022643            54.991862   \n",
       "\n",
       "   cog1_MMSE result  udprs_non_tremor  udprs_tremor  udprs_tremor_ratio  \\\n",
       "0         28.534884          1.244186      0.579070            0.515137   \n",
       "1         28.392857          1.400000      0.400000            0.338091   \n",
       "2         28.857143          1.180952      0.523810            0.468063   \n",
       "3         28.555556          1.516667      0.477778            0.461484   \n",
       "\n",
       "    cog1_NART  BDI_BDI Total  num_patients  \n",
       "0  121.075422       8.546512            86  \n",
       "1  176.750000      10.071429            28  \n",
       "2  106.190476       6.047619            21  \n",
       "3  107.666667      14.055556            18  "
      ]
     },
     "execution_count": 133,
     "metadata": {},
     "output_type": "execute_result"
    }
   ],
   "source": [
    "\n",
    "\n",
    "print(clust.shape)\n",
    "\n",
    "clust_gp_mean=pd.DataFrame(clust.groupby(['cluster_label'])['udprs_Disease_Progression','udprs_Age_Diagnosis','cog1_MMSE result',\\\n",
    " 'udprs_non_tremor','udprs_tremor','udprs_tremor_ratio','cog1_NART','BDI_BDI Total'].mean()).reset_index()\n",
    "\n",
    "clust_gp_size=pd.DataFrame(clust.groupby(['cluster_label']).size()).reset_index()\n",
    "clust_gp_size.columns=['cluster_label','num_patients']\n",
    "\n",
    "clust_gp_mean=pd.merge(clust_gp_mean,clust_gp_size,on='cluster_label',how='inner')\n",
    "clust_gp_mean"
   ]
  },
  {
   "cell_type": "code",
   "execution_count": null,
   "metadata": {},
   "outputs": [],
   "source": []
  }
 ],
 "metadata": {
  "kernelspec": {
   "display_name": "Python 3",
   "language": "python",
   "name": "python3"
  },
  "language_info": {
   "codemirror_mode": {
    "name": "ipython",
    "version": 3
   },
   "file_extension": ".py",
   "mimetype": "text/x-python",
   "name": "python",
   "nbconvert_exporter": "python",
   "pygments_lexer": "ipython3",
   "version": "3.7.6"
  },
  "toc": {
   "base_numbering": 1,
   "nav_menu": {},
   "number_sections": false,
   "sideBar": true,
   "skip_h1_title": false,
   "title_cell": "Table of Contents",
   "title_sidebar": "Contents",
   "toc_cell": false,
   "toc_position": {},
   "toc_section_display": true,
   "toc_window_display": false
  }
 },
 "nbformat": 4,
 "nbformat_minor": 2
}
