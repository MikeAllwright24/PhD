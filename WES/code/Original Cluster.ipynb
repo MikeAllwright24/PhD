{
 "cells": [
  {
   "cell_type": "markdown",
   "metadata": {
    "ExecuteTime": {
     "end_time": "2021-01-22T06:30:14.011003Z",
     "start_time": "2021-01-22T06:30:14.005540Z"
    }
   },
   "source": [
    "# Cluster Analysis Based on MCI Original"
   ]
  },
  {
   "cell_type": "code",
   "execution_count": 231,
   "metadata": {
    "ExecuteTime": {
     "end_time": "2021-03-11T22:41:07.475666Z",
     "start_time": "2021-03-11T22:41:07.464831Z"
    }
   },
   "outputs": [],
   "source": [
    "'''\n",
    "Import key packages\n",
    "'''\n",
    "import umap\n",
    "from sklearn.manifold import TSNE\n",
    "import pandas as pd\n",
    "import numpy as np\n",
    "import re\n",
    "import seaborn as sns\n",
    "import matplotlib.pyplot as plt\n",
    "import scipy\n",
    "from functools import reduce\n",
    "from sklearn.linear_model import LinearRegression\n",
    "from sklearn.cluster import KMeans\n",
    "\n",
    "\n",
    "# debug mode (spits messages verbosely)\n",
    "DEBUG = 0  # change it to 0 to switch it off\n",
    "\n",
    "loc=\"../../../WES/Clinical Data/Raw/\"\n",
    "outdata=\"../../../WES/Clinical Data/Processed/\"\n",
    "\n",
    "config =dict(\\\n",
    "varsnormalise=['udprs_Disease_Progression','udprs_Age_Diagnosis','cog1_MMSE result',\\\n",
    "'udprs_non_tremor','udprs_tremor','udprs_tremor_ratio','cog1_NART','BDI_BDI Total'],\\\n",
    "nonnormvars=['cog1_Trails A Z score','Lm2_cut','ESS_norm','FOGQ_FOGQ 3','DDE_norm'],\\\n",
    "umap_neigbours=10,umap_comps=2,kmeans_try=10)\n",
    "\n",
    "varsnormalise=config['varsnormalise']\n",
    "nonnormvars=config['nonnormvars']\n",
    "\n",
    "\n",
    "varsnormalise=['udprs_Disease_Progression','udprs_Age_Diagnosis','cog1_MMSE result',\\\n",
    "'udprs_tremor_ratio','cog1_NART','BDI_BDI Total']\n",
    "nonnormvars=['cog1_Trails A Z score','Lm2_cut','ESS_norm','FOGQ_FOGQ 3','DDE_norm']"
   ]
  },
  {
   "cell_type": "code",
   "execution_count": 232,
   "metadata": {
    "ExecuteTime": {
     "end_time": "2021-03-11T22:41:08.151464Z",
     "start_time": "2021-03-11T22:41:08.114494Z"
    }
   },
   "outputs": [],
   "source": [
    "def z_score(col):\n",
    "    x = (col - col.mean())/col.std(ddof=0)\n",
    "    return  x\n",
    "\n",
    "def takeonlyx_sd(df,x=5):\n",
    "\n",
    "    for var in df.columns:\n",
    "        if re.search('float|int',str(df[var].dtype)):\n",
    "            maxvar=df[var].mean()+df[var].std()*5\n",
    "            minvar=df[var].mean()-df[var].std()*5\n",
    "            mask_rng=(df[var].between(minvar,maxvar))\n",
    "            df[var][~mask_rng]=df[var][mask_rng].mean()\n",
    "           # print(df[var].max())\n",
    "           # print(df.shape)\n",
    "    return df\n",
    "\n",
    "def replacenullsmean(df,dropcols=['SYDID','Date of assessment','max_date']):\n",
    "    usecols=[col for col in df.columns if col not in dropcols]\n",
    "    df[usecols]=df[usecols].replace([np.inf, -np.inf], np.nan)\n",
    "    for col in df[usecols].columns:\n",
    "        nullmask=(df[col].isna())\n",
    "        df[col][nullmask]=df[col][~nullmask].mean()\n",
    "    return df\n",
    "\n",
    "def umap_reducer(df,vars,neighb=10,comp=5):\n",
    "    df_out=df.copy()\n",
    "    \n",
    "    for col in df_out.columns:\n",
    "        if df_out[col].dtype!='object':\n",
    "            df_out[col]=df_out[col].fillna(df_out[col][pd.notnull(df_out[col])].mean())\n",
    "              \n",
    "    dmod=df_out[[col for col in vars if col!='SYDID' and re.search('float',str(df_out[col].dtype))\n",
    "                and df_out[col].count()>=df_out.shape[0]]]\n",
    "    print(dmod.shape)\n",
    "    \n",
    "    reducer= umap.UMAP(n_neighbors=neighb,n_components=comp)\n",
    "    reddata = pd.DataFrame(reducer.fit_transform(dmod)).reset_index()\n",
    "    df_out=df_out.reset_index()\n",
    "    print(reddata.shape)\n",
    "    \n",
    "    reddata.columns=['index','umap_var1','umap_var2']\n",
    "    print(reddata)\n",
    "    df_out[['umap_var1','umap_var2']]=reddata[['umap_var1','umap_var2']]\n",
    "    return df_out\n",
    "\n",
    "def tsne_reducer(df,vars,comp=5):\n",
    "    df_out=df.copy()\n",
    "    \n",
    "    for col in df_out.columns:\n",
    "        if df_out[col].dtype!='object':\n",
    "            df_out[col]=df_out[col].fillna(df_out[col][pd.notnull(df_out[col])].mean())\n",
    "              \n",
    "    dmod=df_out[[col for col in vars if col!='SYDID' and re.search('float',str(df_out[col].dtype))\n",
    "                and df_out[col].count()>=df_out.shape[0]]]\n",
    "    print(dmod.shape)\n",
    "    \n",
    "    dod_embedded = pd.DataFrame(TSNE(n_components=2).fit_transform(dmod)).reset_index()\n",
    "\n",
    "    print(dod_embedded.shape)\n",
    "    df_out=df_out.reset_index()\n",
    "    \n",
    "    dod_embedded.columns=['index','tsne_var1','tsne_var2']\n",
    "    df_out[['index','tsne_var1','tsne_var2']]=dod_embedded[['index','tsne_var1','tsne_var2']]\n",
    "    return df_out\n",
    "\n",
    "\n",
    "\n",
    "def elbow_clust(df,clustrange=10,clustfit=4,dropvars=['SYDID','Date of assessment','max_date']):\n",
    "    df_vars=df.drop(columns=dropvars)\n",
    "    dv2=[col for col in df_vars if df_vars[col].dtype=='float32']\n",
    "    print(dv2)\n",
    "    df_vars=df_vars[dv2]\n",
    "    print(df_vars.columns)\n",
    "    df_vars=replacenullsmean(df_vars)\n",
    "    \n",
    "    wcss=[]\n",
    "    #print(df_vars.head())\n",
    "    for i in range(1,clustrange): \n",
    "         kmeans = KMeans(n_clusters=i, init ='k-means++', max_iter=300,  n_init=clustrange-1,random_state=0)\n",
    "         kmeans.fit(df_vars)\n",
    "         wcss.append(kmeans.inertia_)\n",
    "    plt.plot(range(1,clustrange),wcss)\n",
    "    plt.title('The Elbow Method Graph')\n",
    "    plt.xlabel('Number of clusters')\n",
    "    plt.ylabel('WCSS')\n",
    "    plt.show()\n",
    "    kmeans = KMeans(n_clusters=clustfit, random_state=0).fit(df_vars)\n",
    "    df['cluster_label']=kmeans.labels_.tolist()\n",
    "    return df\n",
    "\n",
    "def findcols(df,string):\n",
    "    return [col for col in df.columns if re.search(string,col)]"
   ]
  },
  {
   "cell_type": "code",
   "execution_count": 233,
   "metadata": {
    "ExecuteTime": {
     "end_time": "2021-03-11T22:41:09.688630Z",
     "start_time": "2021-03-11T22:41:09.585245Z"
    }
   },
   "outputs": [],
   "source": [
    "PDcombined=pd.read_csv('%s%s' % (outdata,'PDcombined.csv'))"
   ]
  },
  {
   "cell_type": "code",
   "execution_count": 235,
   "metadata": {
    "ExecuteTime": {
     "end_time": "2021-03-11T22:41:31.515574Z",
     "start_time": "2021-03-11T22:41:31.505677Z"
    }
   },
   "outputs": [
    {
     "data": {
      "text/plain": [
       "[]"
      ]
     },
     "execution_count": 235,
     "metadata": {},
     "output_type": "execute_result"
    }
   ],
   "source": [
    "findcols(PDcombined,'DBS')"
   ]
  },
  {
   "cell_type": "code",
   "execution_count": 210,
   "metadata": {
    "ExecuteTime": {
     "end_time": "2021-03-11T03:03:54.456011Z",
     "start_time": "2021-03-11T03:03:54.447999Z"
    }
   },
   "outputs": [],
   "source": [
    "longvars=['udprs_SectionIIITotal_coef','cog1_MMSEresult_coef','udprs_UDPRS_Tot_coef']"
   ]
  },
  {
   "cell_type": "markdown",
   "metadata": {},
   "source": [
    "#### Data Processing"
   ]
  },
  {
   "cell_type": "code",
   "execution_count": 211,
   "metadata": {
    "ExecuteTime": {
     "end_time": "2021-03-11T03:04:01.085433Z",
     "start_time": "2021-03-11T03:04:01.075566Z"
    }
   },
   "outputs": [],
   "source": [
    "mask_BDI_miss=(PDcombined['BDI_BDI Total']>200)"
   ]
  },
  {
   "cell_type": "code",
   "execution_count": 212,
   "metadata": {
    "ExecuteTime": {
     "end_time": "2021-03-11T03:04:01.668937Z",
     "start_time": "2021-03-11T03:04:01.601096Z"
    }
   },
   "outputs": [],
   "source": [
    "PDcombined=PDcombined[~(mask_BDI_miss)]"
   ]
  },
  {
   "cell_type": "code",
   "execution_count": 213,
   "metadata": {
    "ExecuteTime": {
     "end_time": "2021-03-11T03:04:02.870736Z",
     "start_time": "2021-03-11T03:04:02.519787Z"
    }
   },
   "outputs": [
    {
     "name": "stderr",
     "output_type": "stream",
     "text": [
      "/opt/conda/lib/python3.7/site-packages/ipykernel_launcher.py:5: SettingWithCopyWarning: \n",
      "A value is trying to be set on a copy of a slice from a DataFrame\n",
      "\n",
      "See the caveats in the documentation: http://pandas.pydata.org/pandas-docs/stable/user_guide/indexing.html#returning-a-view-versus-a-copy\n",
      "  \"\"\"\n",
      "/opt/conda/lib/python3.7/site-packages/ipykernel_launcher.py:10: SettingWithCopyWarning: \n",
      "A value is trying to be set on a copy of a slice from a DataFrame\n",
      "\n",
      "See the caveats in the documentation: http://pandas.pydata.org/pandas-docs/stable/user_guide/indexing.html#returning-a-view-versus-a-copy\n",
      "  # Remove the CWD from sys.path while we load stuff.\n",
      "/opt/conda/lib/python3.7/site-packages/ipykernel_launcher.py:11: SettingWithCopyWarning: \n",
      "A value is trying to be set on a copy of a slice from a DataFrame\n",
      "\n",
      "See the caveats in the documentation: http://pandas.pydata.org/pandas-docs/stable/user_guide/indexing.html#returning-a-view-versus-a-copy\n",
      "  # This is added back by InteractiveShellApp.init_path()\n",
      "/opt/conda/lib/python3.7/site-packages/ipykernel_launcher.py:15: SettingWithCopyWarning: \n",
      "A value is trying to be set on a copy of a slice from a DataFrame\n",
      "\n",
      "See the caveats in the documentation: http://pandas.pydata.org/pandas-docs/stable/user_guide/indexing.html#returning-a-view-versus-a-copy\n",
      "  from ipykernel import kernelapp as app\n",
      "/opt/conda/lib/python3.7/site-packages/ipykernel_launcher.py:19: SettingWithCopyWarning: \n",
      "A value is trying to be set on a copy of a slice from a DataFrame\n",
      "\n",
      "See the caveats in the documentation: http://pandas.pydata.org/pandas-docs/stable/user_guide/indexing.html#returning-a-view-versus-a-copy\n",
      "/opt/conda/lib/python3.7/site-packages/ipykernel_launcher.py:22: SettingWithCopyWarning: \n",
      "A value is trying to be set on a copy of a slice from a DataFrame\n",
      "\n",
      "See the caveats in the documentation: http://pandas.pydata.org/pandas-docs/stable/user_guide/indexing.html#returning-a-view-versus-a-copy\n",
      "/opt/conda/lib/python3.7/site-packages/ipykernel_launcher.py:26: SettingWithCopyWarning: \n",
      "A value is trying to be set on a copy of a slice from a DataFrame\n",
      "\n",
      "See the caveats in the documentation: http://pandas.pydata.org/pandas-docs/stable/user_guide/indexing.html#returning-a-view-versus-a-copy\n"
     ]
    }
   ],
   "source": [
    "\n",
    "logmem2cutoff=PDcombined['cog1_Logical Memory II'].mean()+PDcombined['cog1_Logical Memory II'].std()*1.5\n",
    "masklm2=(PDcombined['cog1_Logical Memory II']<logmem2cutoff)\n",
    "\n",
    "PDcombined['Lm2_cut']=0\n",
    "PDcombined['Lm2_cut'][(masklm2)]=1\n",
    "\n",
    "mask0=(PDcombined['udprs_DDE']>0)\n",
    "masklt1000=(PDcombined['udprs_DDE']<1000)\n",
    "PDcombined['DDE_norm']=0\n",
    "PDcombined['DDE_norm'][mask0&masklt1000]=1\n",
    "PDcombined['DDE_norm'][mask0&~masklt1000]=2\n",
    "\n",
    "maskbdi=(PDcombined['BDI_BDI Total']>13)\n",
    "PDcombined['BDI_norm']=0\n",
    "PDcombined['BDI_norm'][maskbdi]=1\n",
    "\n",
    "maskess=(PDcombined['ESS_ESS Total']>10)\n",
    "PDcombined['ESS_norm']=0\n",
    "PDcombined['ESS_norm'][maskess]=1\n",
    "\n",
    "mask_ratio=((PDcombined['udprs_tremor_ratio']==np.inf))\n",
    "PDcombined['udprs_tremor_ratio'][mask_ratio]=PDcombined['udprs_tremor_ratio'][~mask_ratio].mean()\n",
    "\n",
    "for col in varsnormalise:\n",
    "    nullmask=(PDcombined[col].isna())\n",
    "    PDcombined[col][nullmask]=PDcombined[col][~nullmask].mean()\n",
    "    PDcombined[col+'_z_score']=z_score(PDcombined[col])\n",
    "vars_z=[var +'_z_score' for var in varsnormalise ]\n",
    "varscluster=np.append(['SYDID','Date of assessment'],nonnormvars)\n",
    "varscluster=np.append(varscluster,vars_z)\n",
    "\n",
    "'''\n",
    "Substitute to only have max date\n",
    "'''\n",
    "PDcombined['max_date']=PDcombined.groupby('SYDID')['Date of assessment'].transform(max)\n",
    "\n",
    "mask_date_max=(PDcombined['max_date']==PDcombined['Date of assessment'])\n",
    "PDcombined_sub=PDcombined[mask_date_max]\n",
    "\n",
    "'''\n",
    "Removal of columns that don't work\n",
    "'''\n",
    "\n",
    "othcols=[col for col in PDcombined.columns if (PDcombined[col].dtype!='object'\\\n",
    "and col not in varscluster) or col in ['SYDID','Date of assessment','udprs_Disease_Progression',\\\n",
    "'udprs_Age_Diagnosis']]"
   ]
  },
  {
   "cell_type": "code",
   "execution_count": 214,
   "metadata": {
    "ExecuteTime": {
     "end_time": "2021-03-11T03:04:10.303002Z",
     "start_time": "2021-03-11T03:04:05.731594Z"
    }
   },
   "outputs": [
    {
     "name": "stderr",
     "output_type": "stream",
     "text": [
      "/opt/conda/lib/python3.7/site-packages/ipykernel_launcher.py:12: SettingWithCopyWarning: \n",
      "A value is trying to be set on a copy of a slice from a DataFrame\n",
      "\n",
      "See the caveats in the documentation: http://pandas.pydata.org/pandas-docs/stable/user_guide/indexing.html#returning-a-view-versus-a-copy\n",
      "  if sys.path[0] == '':\n",
      "/opt/conda/lib/python3.7/site-packages/pandas/core/generic.py:9114: SettingWithCopyWarning: \n",
      "A value is trying to be set on a copy of a slice from a DataFrame\n",
      "\n",
      "See the caveats in the documentation: http://pandas.pydata.org/pandas-docs/stable/user_guide/indexing.html#returning-a-view-versus-a-copy\n",
      "  self._update_inplace(new_data)\n",
      "/opt/conda/lib/python3.7/site-packages/ipykernel_launcher.py:7: SettingWithCopyWarning: \n",
      "A value is trying to be set on a copy of a slice from a DataFrame\n",
      "\n",
      "See the caveats in the documentation: http://pandas.pydata.org/pandas-docs/stable/user_guide/indexing.html#returning-a-view-versus-a-copy\n",
      "  import sys\n",
      "/opt/conda/lib/python3.7/site-packages/pandas/core/generic.py:9114: SettingWithCopyWarning: \n",
      "A value is trying to be set on a copy of a slice from a DataFrame\n",
      "\n",
      "See the caveats in the documentation: http://pandas.pydata.org/pandas-docs/stable/user_guide/indexing.html#returning-a-view-versus-a-copy\n",
      "  self._update_inplace(new_data)\n",
      "/opt/conda/lib/python3.7/site-packages/ipykernel_launcher.py:7: SettingWithCopyWarning: \n",
      "A value is trying to be set on a copy of a slice from a DataFrame\n",
      "\n",
      "See the caveats in the documentation: http://pandas.pydata.org/pandas-docs/stable/user_guide/indexing.html#returning-a-view-versus-a-copy\n",
      "  import sys\n",
      "/opt/conda/lib/python3.7/site-packages/ipykernel_launcher.py:12: SettingWithCopyWarning: \n",
      "A value is trying to be set on a copy of a slice from a DataFrame\n",
      "\n",
      "See the caveats in the documentation: http://pandas.pydata.org/pandas-docs/stable/user_guide/indexing.html#returning-a-view-versus-a-copy\n",
      "  if sys.path[0] == '':\n",
      "/opt/conda/lib/python3.7/site-packages/pandas/core/generic.py:9114: SettingWithCopyWarning: \n",
      "A value is trying to be set on a copy of a slice from a DataFrame\n",
      "\n",
      "See the caveats in the documentation: http://pandas.pydata.org/pandas-docs/stable/user_guide/indexing.html#returning-a-view-versus-a-copy\n",
      "  self._update_inplace(new_data)\n",
      "/opt/conda/lib/python3.7/site-packages/ipykernel_launcher.py:7: SettingWithCopyWarning: \n",
      "A value is trying to be set on a copy of a slice from a DataFrame\n",
      "\n",
      "See the caveats in the documentation: http://pandas.pydata.org/pandas-docs/stable/user_guide/indexing.html#returning-a-view-versus-a-copy\n",
      "  import sys\n",
      "/opt/conda/lib/python3.7/site-packages/ipykernel_launcher.py:12: SettingWithCopyWarning: \n",
      "A value is trying to be set on a copy of a slice from a DataFrame\n",
      "\n",
      "See the caveats in the documentation: http://pandas.pydata.org/pandas-docs/stable/user_guide/indexing.html#returning-a-view-versus-a-copy\n",
      "  if sys.path[0] == '':\n",
      "/opt/conda/lib/python3.7/site-packages/pandas/core/frame.py:3509: SettingWithCopyWarning: \n",
      "A value is trying to be set on a copy of a slice from a DataFrame.\n",
      "Try using .loc[row_indexer,col_indexer] = value instead\n",
      "\n",
      "See the caveats in the documentation: http://pandas.pydata.org/pandas-docs/stable/user_guide/indexing.html#returning-a-view-versus-a-copy\n",
      "  self[k1] = value[k2]\n",
      "/opt/conda/lib/python3.7/site-packages/ipykernel_launcher.py:22: SettingWithCopyWarning: \n",
      "A value is trying to be set on a copy of a slice from a DataFrame\n",
      "\n",
      "See the caveats in the documentation: http://pandas.pydata.org/pandas-docs/stable/user_guide/indexing.html#returning-a-view-versus-a-copy\n",
      "/opt/conda/lib/python3.7/site-packages/ipykernel_launcher.py:8: SettingWithCopyWarning: \n",
      "A value is trying to be set on a copy of a slice from a DataFrame\n",
      "\n",
      "See the caveats in the documentation: http://pandas.pydata.org/pandas-docs/stable/user_guide/indexing.html#returning-a-view-versus-a-copy\n",
      "  \n"
     ]
    },
    {
     "name": "stdout",
     "output_type": "stream",
     "text": [
      "(151, 344)\n",
      "(151, 3)\n",
      "     index  umap_var1  umap_var2\n",
      "0        0  -0.795945   4.036835\n",
      "1        1   1.189013   5.380008\n",
      "2        2  -2.308353   4.507133\n",
      "3        3  -2.211964   4.489297\n",
      "4        4   5.421565 -17.245352\n",
      "..     ...        ...        ...\n",
      "146    146  -0.431330  -2.825418\n",
      "147    147   1.009566  -4.816080\n",
      "148    148   0.072164   4.405061\n",
      "149    149   1.080852  -4.831202\n",
      "150    150  -0.292878  -3.073512\n",
      "\n",
      "[151 rows x 3 columns]\n"
     ]
    }
   ],
   "source": [
    "PDcluster_alt=PDcombined_sub[othcols]\n",
    "PDcluster=PDcombined_sub[varscluster]\n",
    "\n",
    "for var in PDcluster.columns:\n",
    "    PDcluster=PDcluster[(PDcluster[var]!=999)]\n",
    "    \n",
    "PDcluster_alt=takeonlyx_sd(df=PDcluster_alt,x=3)\n",
    "PDcluster_alt=replacenullsmean(PDcluster_alt)\n",
    "\n",
    "'''\n",
    "Reduce using umap\n",
    "'''\n",
    "\n",
    "pdclust_umap=umap_reducer(PDcluster_alt,PDcluster_alt.columns,\\\n",
    "neighb=config['umap_neigbours'],comp=config['umap_comps'])"
   ]
  },
  {
   "cell_type": "code",
   "execution_count": 224,
   "metadata": {
    "ExecuteTime": {
     "end_time": "2021-03-11T04:45:18.978410Z",
     "start_time": "2021-03-11T04:45:18.965012Z"
    }
   },
   "outputs": [],
   "source": [
    "\n",
    "mask=(pd.notnull(PDcluster_clust['SYDID'])&pd.notnull(PDcluster_clust['Date of assessment']))\n",
    "mask2=(pd.notnull(PDcombined['SYDID'])&pd.notnull(PDcombined['Date of assessment']))\n",
    "\n",
    "PDcombined_new=PDcombined[varsused][mask2&mask1]"
   ]
  },
  {
   "cell_type": "code",
   "execution_count": 225,
   "metadata": {
    "ExecuteTime": {
     "end_time": "2021-03-11T04:45:26.753463Z",
     "start_time": "2021-03-11T04:45:26.749206Z"
    }
   },
   "outputs": [
    {
     "data": {
      "text/plain": [
       "(151, 11)"
      ]
     },
     "execution_count": 225,
     "metadata": {},
     "output_type": "execute_result"
    }
   ],
   "source": [
    "PDcombined_new.shape"
   ]
  },
  {
   "cell_type": "code",
   "execution_count": 229,
   "metadata": {
    "ExecuteTime": {
     "end_time": "2021-03-11T04:46:36.799059Z",
     "start_time": "2021-03-11T04:46:36.776426Z"
    }
   },
   "outputs": [],
   "source": [
    "def cluster_output(df=PDcluster,reps=10):\n",
    "    \n",
    "    df_new=pd.DataFrame([]) \n",
    "    df_out=takeonlyx_sd(df,x=3)\n",
    "    df_out=replacenullsmean(df_out)\n",
    "    \n",
    "    for i in range(reps):\n",
    "    \n",
    "        pdclust_umap=umap_reducer(df_out,varscluster,\\\n",
    "        neighb=2,comp=config['umap_comps'])\n",
    "\n",
    "        PDcluster_clust=elbow_clust(pdclust_umap[['SYDID','Date of assessment','umap_var1','umap_var2']],\\\n",
    "        clustfit=3,dropvars=['SYDID','Date of assessment'])\n",
    "        \n",
    "        df1=PDcluster_clust[['SYDID','cluster_label']]\n",
    "        df1['rep']=i\n",
    "        \n",
    "        clust=pd.merge(df1,PDcombined_new,on=['SYDID'],how='inner')\n",
    "        print(clust.shape)\n",
    "\n",
    "        \n",
    "        df_new=pd.concat([df_new,df1],axis=0)\n",
    "        \n",
    "    return df_new\n",
    "        \n",
    "        \n",
    "        \n",
    "\n"
   ]
  },
  {
   "cell_type": "code",
   "execution_count": 230,
   "metadata": {
    "ExecuteTime": {
     "end_time": "2021-03-11T04:46:47.876230Z",
     "start_time": "2021-03-11T04:46:38.281357Z"
    }
   },
   "outputs": [
    {
     "name": "stderr",
     "output_type": "stream",
     "text": [
      "/opt/conda/lib/python3.7/site-packages/ipykernel_launcher.py:12: SettingWithCopyWarning: \n",
      "A value is trying to be set on a copy of a slice from a DataFrame\n",
      "\n",
      "See the caveats in the documentation: http://pandas.pydata.org/pandas-docs/stable/user_guide/indexing.html#returning-a-view-versus-a-copy\n",
      "  if sys.path[0] == '':\n",
      "/opt/conda/lib/python3.7/site-packages/ipykernel_launcher.py:22: SettingWithCopyWarning: \n",
      "A value is trying to be set on a copy of a slice from a DataFrame\n",
      "\n",
      "See the caveats in the documentation: http://pandas.pydata.org/pandas-docs/stable/user_guide/indexing.html#returning-a-view-versus-a-copy\n",
      "/opt/conda/lib/python3.7/site-packages/umap/spectral.py:229: UserWarning: Embedding a total of 34 separate connected components using meta-embedding (experimental)\n",
      "  n_components\n"
     ]
    },
    {
     "name": "stdout",
     "output_type": "stream",
     "text": [
      "(150, 8)\n",
      "(150, 3)\n",
      "     index  umap_var1  umap_var2\n",
      "0        0  -1.194963  13.725238\n",
      "1        1   5.417904  13.514036\n",
      "2        2  -5.933767 -12.687480\n",
      "3        3 -17.714569   6.278927\n",
      "4        4   3.531425   7.488156\n",
      "..     ...        ...        ...\n",
      "145    145  -8.733317   1.403721\n",
      "146    146  -0.765288  13.997039\n",
      "147    147  -1.173580  13.774188\n",
      "148    148  -7.626539   9.237736\n",
      "149    149  10.459366  16.530764\n",
      "\n",
      "[150 rows x 3 columns]\n",
      "['umap_var1', 'umap_var2']\n",
      "Index(['umap_var1', 'umap_var2'], dtype='object')\n"
     ]
    },
    {
     "data": {
      "image/png": "[encoded data removed]",
      "text/plain": [
       "<Figure size 432x288 with 1 Axes>"
      ]
     },
     "metadata": {
      "needs_background": "light"
     },
     "output_type": "display_data"
    },
    {
     "name": "stderr",
     "output_type": "stream",
     "text": [
      "/opt/conda/lib/python3.7/site-packages/ipykernel_launcher.py:88: SettingWithCopyWarning: \n",
      "A value is trying to be set on a copy of a slice from a DataFrame.\n",
      "Try using .loc[row_indexer,col_indexer] = value instead\n",
      "\n",
      "See the caveats in the documentation: http://pandas.pydata.org/pandas-docs/stable/user_guide/indexing.html#returning-a-view-versus-a-copy\n",
      "/opt/conda/lib/python3.7/site-packages/ipykernel_launcher.py:16: SettingWithCopyWarning: \n",
      "A value is trying to be set on a copy of a slice from a DataFrame.\n",
      "Try using .loc[row_indexer,col_indexer] = value instead\n",
      "\n",
      "See the caveats in the documentation: http://pandas.pydata.org/pandas-docs/stable/user_guide/indexing.html#returning-a-view-versus-a-copy\n",
      "  app.launch_new_instance()\n",
      "/opt/conda/lib/python3.7/site-packages/umap/spectral.py:229: UserWarning: Embedding a total of 34 separate connected components using meta-embedding (experimental)\n",
      "  n_components\n"
     ]
    },
    {
     "name": "stdout",
     "output_type": "stream",
     "text": [
      "(150, 13)\n",
      "(150, 8)\n",
      "(150, 3)\n",
      "     index  umap_var1  umap_var2\n",
      "0        0  -2.969751  11.443625\n",
      "1        1  12.203068   6.933165\n",
      "2        2   6.472773   0.679295\n",
      "3        3  -7.998545  -6.227688\n",
      "4        4  -3.399644   4.984309\n",
      "..     ...        ...        ...\n",
      "145    145  -0.808024  -8.466299\n",
      "146    146  -3.743254  11.818148\n",
      "147    147  -3.080467  11.528769\n",
      "148    148 -13.447178  10.925482\n",
      "149    149  -2.713913   7.137551\n",
      "\n",
      "[150 rows x 3 columns]\n",
      "['umap_var1', 'umap_var2']\n",
      "Index(['umap_var1', 'umap_var2'], dtype='object')\n"
     ]
    },
    {
     "data": {
      "image/png": "[encoded data removed]",
      "text/plain": [
       "<Figure size 432x288 with 1 Axes>"
      ]
     },
     "metadata": {
      "needs_background": "light"
     },
     "output_type": "display_data"
    },
    {
     "name": "stderr",
     "output_type": "stream",
     "text": [
      "/opt/conda/lib/python3.7/site-packages/ipykernel_launcher.py:88: SettingWithCopyWarning: \n",
      "A value is trying to be set on a copy of a slice from a DataFrame.\n",
      "Try using .loc[row_indexer,col_indexer] = value instead\n",
      "\n",
      "See the caveats in the documentation: http://pandas.pydata.org/pandas-docs/stable/user_guide/indexing.html#returning-a-view-versus-a-copy\n",
      "/opt/conda/lib/python3.7/site-packages/ipykernel_launcher.py:16: SettingWithCopyWarning: \n",
      "A value is trying to be set on a copy of a slice from a DataFrame.\n",
      "Try using .loc[row_indexer,col_indexer] = value instead\n",
      "\n",
      "See the caveats in the documentation: http://pandas.pydata.org/pandas-docs/stable/user_guide/indexing.html#returning-a-view-versus-a-copy\n",
      "  app.launch_new_instance()\n",
      "/opt/conda/lib/python3.7/site-packages/umap/spectral.py:229: UserWarning: Embedding a total of 34 separate connected components using meta-embedding (experimental)\n",
      "  n_components\n"
     ]
    },
    {
     "name": "stdout",
     "output_type": "stream",
     "text": [
      "(150, 13)\n",
      "(150, 8)\n",
      "(150, 3)\n",
      "     index  umap_var1  umap_var2\n",
      "0        0  -6.793925   6.087516\n",
      "1        1   3.718125   9.129786\n",
      "2        2   3.788895 -11.307458\n",
      "3        3 -11.579409 -14.129869\n",
      "4        4   9.229444   5.953177\n",
      "..     ...        ...        ...\n",
      "145    145  -7.302522  -5.448761\n",
      "146    146  -7.130891   5.696496\n",
      "147    147  -6.902075   6.132998\n",
      "148    148   1.794894  -3.181888\n",
      "149    149   4.969357  13.298967\n",
      "\n",
      "[150 rows x 3 columns]\n",
      "['umap_var1', 'umap_var2']\n",
      "Index(['umap_var1', 'umap_var2'], dtype='object')\n"
     ]
    },
    {
     "data": {
      "image/png": "[encoded data removed]",
      "text/plain": [
       "<Figure size 432x288 with 1 Axes>"
      ]
     },
     "metadata": {
      "needs_background": "light"
     },
     "output_type": "display_data"
    },
    {
     "name": "stderr",
     "output_type": "stream",
     "text": [
      "/opt/conda/lib/python3.7/site-packages/ipykernel_launcher.py:88: SettingWithCopyWarning: \n",
      "A value is trying to be set on a copy of a slice from a DataFrame.\n",
      "Try using .loc[row_indexer,col_indexer] = value instead\n",
      "\n",
      "See the caveats in the documentation: http://pandas.pydata.org/pandas-docs/stable/user_guide/indexing.html#returning-a-view-versus-a-copy\n",
      "/opt/conda/lib/python3.7/site-packages/ipykernel_launcher.py:16: SettingWithCopyWarning: \n",
      "A value is trying to be set on a copy of a slice from a DataFrame.\n",
      "Try using .loc[row_indexer,col_indexer] = value instead\n",
      "\n",
      "See the caveats in the documentation: http://pandas.pydata.org/pandas-docs/stable/user_guide/indexing.html#returning-a-view-versus-a-copy\n",
      "  app.launch_new_instance()\n",
      "/opt/conda/lib/python3.7/site-packages/umap/spectral.py:229: UserWarning: Embedding a total of 34 separate connected components using meta-embedding (experimental)\n",
      "  n_components\n"
     ]
    },
    {
     "name": "stdout",
     "output_type": "stream",
     "text": [
      "(150, 13)\n",
      "(150, 8)\n",
      "(150, 3)\n",
      "     index  umap_var1  umap_var2\n",
      "0        0   5.015749   6.516695\n",
      "1        1   2.134093   3.258002\n",
      "2        2  -0.273063  -9.712245\n",
      "3        3 -15.951084   7.983637\n",
      "4        4  11.237322  -0.632647\n",
      "..     ...        ...        ...\n",
      "145    145  -5.108874 -11.734145\n",
      "146    146   5.677897   6.338300\n",
      "147    147   5.124955   6.489564\n",
      "148    148   4.517876  -9.706638\n",
      "149    149 -10.496844   1.279151\n",
      "\n",
      "[150 rows x 3 columns]\n",
      "['umap_var1', 'umap_var2']\n",
      "Index(['umap_var1', 'umap_var2'], dtype='object')\n"
     ]
    },
    {
     "data": {
      "image/png": "[encoded data removed]",
      "text/plain": [
       "<Figure size 432x288 with 1 Axes>"
      ]
     },
     "metadata": {
      "needs_background": "light"
     },
     "output_type": "display_data"
    },
    {
     "name": "stderr",
     "output_type": "stream",
     "text": [
      "/opt/conda/lib/python3.7/site-packages/ipykernel_launcher.py:88: SettingWithCopyWarning: \n",
      "A value is trying to be set on a copy of a slice from a DataFrame.\n",
      "Try using .loc[row_indexer,col_indexer] = value instead\n",
      "\n",
      "See the caveats in the documentation: http://pandas.pydata.org/pandas-docs/stable/user_guide/indexing.html#returning-a-view-versus-a-copy\n",
      "/opt/conda/lib/python3.7/site-packages/ipykernel_launcher.py:16: SettingWithCopyWarning: \n",
      "A value is trying to be set on a copy of a slice from a DataFrame.\n",
      "Try using .loc[row_indexer,col_indexer] = value instead\n",
      "\n",
      "See the caveats in the documentation: http://pandas.pydata.org/pandas-docs/stable/user_guide/indexing.html#returning-a-view-versus-a-copy\n",
      "  app.launch_new_instance()\n",
      "/opt/conda/lib/python3.7/site-packages/umap/spectral.py:229: UserWarning: Embedding a total of 34 separate connected components using meta-embedding (experimental)\n",
      "  n_components\n"
     ]
    },
    {
     "name": "stdout",
     "output_type": "stream",
     "text": [
      "(150, 13)\n",
      "(150, 8)\n",
      "(150, 3)\n",
      "     index  umap_var1  umap_var2\n",
      "0        0  -5.884735  14.413833\n",
      "1        1   6.236416   2.074288\n",
      "2        2   2.070129  -6.554227\n",
      "3        3  -5.036587  -2.920681\n",
      "4        4  -2.587730  -2.704590\n",
      "..     ...        ...        ...\n",
      "145    145   1.971511 -16.229549\n",
      "146    146  -6.172524  14.845578\n",
      "147    147  -5.932024  14.359722\n",
      "148    148  -8.546223  11.896676\n",
      "149    149   8.297733  13.038577\n",
      "\n",
      "[150 rows x 3 columns]\n",
      "['umap_var1', 'umap_var2']\n",
      "Index(['umap_var1', 'umap_var2'], dtype='object')\n"
     ]
    },
    {
     "data": {
      "image/png": "[encoded data removed]",
      "text/plain": [
       "<Figure size 432x288 with 1 Axes>"
      ]
     },
     "metadata": {
      "needs_background": "light"
     },
     "output_type": "display_data"
    },
    {
     "name": "stderr",
     "output_type": "stream",
     "text": [
      "/opt/conda/lib/python3.7/site-packages/ipykernel_launcher.py:88: SettingWithCopyWarning: \n",
      "A value is trying to be set on a copy of a slice from a DataFrame.\n",
      "Try using .loc[row_indexer,col_indexer] = value instead\n",
      "\n",
      "See the caveats in the documentation: http://pandas.pydata.org/pandas-docs/stable/user_guide/indexing.html#returning-a-view-versus-a-copy\n",
      "/opt/conda/lib/python3.7/site-packages/ipykernel_launcher.py:16: SettingWithCopyWarning: \n",
      "A value is trying to be set on a copy of a slice from a DataFrame.\n",
      "Try using .loc[row_indexer,col_indexer] = value instead\n",
      "\n",
      "See the caveats in the documentation: http://pandas.pydata.org/pandas-docs/stable/user_guide/indexing.html#returning-a-view-versus-a-copy\n",
      "  app.launch_new_instance()\n",
      "/opt/conda/lib/python3.7/site-packages/umap/spectral.py:229: UserWarning: Embedding a total of 34 separate connected components using meta-embedding (experimental)\n",
      "  n_components\n"
     ]
    },
    {
     "name": "stdout",
     "output_type": "stream",
     "text": [
      "(150, 13)\n",
      "(150, 8)\n",
      "(150, 3)\n",
      "     index  umap_var1  umap_var2\n",
      "0        0   2.799311  13.631018\n",
      "1        1   3.029180  17.840080\n",
      "2        2  -3.845919   1.824756\n",
      "3        3  -4.452206   5.492384\n",
      "4        4   7.185684   3.011843\n",
      "..     ...        ...        ...\n",
      "145    145   0.343928 -10.704992\n",
      "146    146   2.514337  12.836186\n",
      "147    147   2.815521  13.540563\n",
      "148    148 -10.264430  -2.093285\n",
      "149    149   3.693081   4.227244\n",
      "\n",
      "[150 rows x 3 columns]\n",
      "['umap_var1', 'umap_var2']\n",
      "Index(['umap_var1', 'umap_var2'], dtype='object')\n"
     ]
    },
    {
     "data": {
      "image/png": "[encoded data removed]",
      "text/plain": [
       "<Figure size 432x288 with 1 Axes>"
      ]
     },
     "metadata": {
      "needs_background": "light"
     },
     "output_type": "display_data"
    },
    {
     "name": "stderr",
     "output_type": "stream",
     "text": [
      "/opt/conda/lib/python3.7/site-packages/ipykernel_launcher.py:88: SettingWithCopyWarning: \n",
      "A value is trying to be set on a copy of a slice from a DataFrame.\n",
      "Try using .loc[row_indexer,col_indexer] = value instead\n",
      "\n",
      "See the caveats in the documentation: http://pandas.pydata.org/pandas-docs/stable/user_guide/indexing.html#returning-a-view-versus-a-copy\n",
      "/opt/conda/lib/python3.7/site-packages/ipykernel_launcher.py:16: SettingWithCopyWarning: \n",
      "A value is trying to be set on a copy of a slice from a DataFrame.\n",
      "Try using .loc[row_indexer,col_indexer] = value instead\n",
      "\n",
      "See the caveats in the documentation: http://pandas.pydata.org/pandas-docs/stable/user_guide/indexing.html#returning-a-view-versus-a-copy\n",
      "  app.launch_new_instance()\n",
      "/opt/conda/lib/python3.7/site-packages/umap/spectral.py:229: UserWarning: Embedding a total of 34 separate connected components using meta-embedding (experimental)\n",
      "  n_components\n"
     ]
    },
    {
     "name": "stdout",
     "output_type": "stream",
     "text": [
      "(150, 13)\n",
      "(150, 8)\n",
      "(150, 3)\n",
      "     index  umap_var1  umap_var2\n",
      "0        0  -2.016051  16.211256\n",
      "1        1   4.361472   4.052159\n",
      "2        2  -0.950218 -11.924273\n",
      "3        3 -14.370608   2.394262\n",
      "4        4   2.323900   8.923383\n",
      "..     ...        ...        ...\n",
      "145    145 -12.901086  -2.856596\n",
      "146    146  -2.366457  16.584497\n",
      "147    147  -2.034984  16.248634\n",
      "148    148   0.544860  -3.201017\n",
      "149    149  -1.347338  12.943872\n",
      "\n",
      "[150 rows x 3 columns]\n",
      "['umap_var1', 'umap_var2']\n",
      "Index(['umap_var1', 'umap_var2'], dtype='object')\n"
     ]
    },
    {
     "data": {
      "image/png": "[encoded data removed]",
      "text/plain": [
       "<Figure size 432x288 with 1 Axes>"
      ]
     },
     "metadata": {
      "needs_background": "light"
     },
     "output_type": "display_data"
    },
    {
     "name": "stderr",
     "output_type": "stream",
     "text": [
      "/opt/conda/lib/python3.7/site-packages/ipykernel_launcher.py:88: SettingWithCopyWarning: \n",
      "A value is trying to be set on a copy of a slice from a DataFrame.\n",
      "Try using .loc[row_indexer,col_indexer] = value instead\n",
      "\n",
      "See the caveats in the documentation: http://pandas.pydata.org/pandas-docs/stable/user_guide/indexing.html#returning-a-view-versus-a-copy\n",
      "/opt/conda/lib/python3.7/site-packages/ipykernel_launcher.py:16: SettingWithCopyWarning: \n",
      "A value is trying to be set on a copy of a slice from a DataFrame.\n",
      "Try using .loc[row_indexer,col_indexer] = value instead\n",
      "\n",
      "See the caveats in the documentation: http://pandas.pydata.org/pandas-docs/stable/user_guide/indexing.html#returning-a-view-versus-a-copy\n",
      "  app.launch_new_instance()\n",
      "/opt/conda/lib/python3.7/site-packages/umap/spectral.py:229: UserWarning: Embedding a total of 34 separate connected components using meta-embedding (experimental)\n",
      "  n_components\n"
     ]
    },
    {
     "name": "stdout",
     "output_type": "stream",
     "text": [
      "(150, 13)\n",
      "(150, 8)\n",
      "(150, 3)\n",
      "     index  umap_var1  umap_var2\n",
      "0        0  -9.083644   7.519300\n",
      "1        1  17.262764  -0.382732\n",
      "2        2  -7.047533  -9.737647\n",
      "3        3  -9.724417   2.891275\n",
      "4        4  -0.579307  12.409409\n",
      "..     ...        ...        ...\n",
      "145    145   0.766137   0.720680\n",
      "146    146  -8.308291   7.801814\n",
      "147    147  -8.972729   7.489272\n",
      "148    148 -10.276405   0.895915\n",
      "149    149  13.501225  12.580672\n",
      "\n",
      "[150 rows x 3 columns]\n",
      "['umap_var1', 'umap_var2']\n",
      "Index(['umap_var1', 'umap_var2'], dtype='object')\n"
     ]
    },
    {
     "data": {
      "image/png": "[encoded data removed]",
      "text/plain": [
       "<Figure size 432x288 with 1 Axes>"
      ]
     },
     "metadata": {
      "needs_background": "light"
     },
     "output_type": "display_data"
    },
    {
     "name": "stderr",
     "output_type": "stream",
     "text": [
      "/opt/conda/lib/python3.7/site-packages/ipykernel_launcher.py:88: SettingWithCopyWarning: \n",
      "A value is trying to be set on a copy of a slice from a DataFrame.\n",
      "Try using .loc[row_indexer,col_indexer] = value instead\n",
      "\n",
      "See the caveats in the documentation: http://pandas.pydata.org/pandas-docs/stable/user_guide/indexing.html#returning-a-view-versus-a-copy\n",
      "/opt/conda/lib/python3.7/site-packages/ipykernel_launcher.py:16: SettingWithCopyWarning: \n",
      "A value is trying to be set on a copy of a slice from a DataFrame.\n",
      "Try using .loc[row_indexer,col_indexer] = value instead\n",
      "\n",
      "See the caveats in the documentation: http://pandas.pydata.org/pandas-docs/stable/user_guide/indexing.html#returning-a-view-versus-a-copy\n",
      "  app.launch_new_instance()\n",
      "/opt/conda/lib/python3.7/site-packages/umap/spectral.py:229: UserWarning: Embedding a total of 34 separate connected components using meta-embedding (experimental)\n",
      "  n_components\n"
     ]
    },
    {
     "name": "stdout",
     "output_type": "stream",
     "text": [
      "(150, 13)\n",
      "(150, 8)\n",
      "(150, 3)\n",
      "     index  umap_var1  umap_var2\n",
      "0        0   1.186760  -0.482670\n",
      "1        1   6.015699   9.206833\n",
      "2        2   6.341625  -8.686722\n",
      "3        3  -7.238320  -3.326977\n",
      "4        4   5.300811  -0.131504\n",
      "..     ...        ...        ...\n",
      "145    145   0.197246 -10.983126\n",
      "146    146   0.365392  -0.105792\n",
      "147    147   1.159681  -0.478253\n",
      "148    148 -15.342777   2.207847\n",
      "149    149   0.469768  18.014765\n",
      "\n",
      "[150 rows x 3 columns]\n",
      "['umap_var1', 'umap_var2']\n",
      "Index(['umap_var1', 'umap_var2'], dtype='object')\n"
     ]
    },
    {
     "data": {
      "image/png": "[encoded data removed]",
      "text/plain": [
       "<Figure size 432x288 with 1 Axes>"
      ]
     },
     "metadata": {
      "needs_background": "light"
     },
     "output_type": "display_data"
    },
    {
     "name": "stderr",
     "output_type": "stream",
     "text": [
      "/opt/conda/lib/python3.7/site-packages/ipykernel_launcher.py:88: SettingWithCopyWarning: \n",
      "A value is trying to be set on a copy of a slice from a DataFrame.\n",
      "Try using .loc[row_indexer,col_indexer] = value instead\n",
      "\n",
      "See the caveats in the documentation: http://pandas.pydata.org/pandas-docs/stable/user_guide/indexing.html#returning-a-view-versus-a-copy\n",
      "/opt/conda/lib/python3.7/site-packages/ipykernel_launcher.py:16: SettingWithCopyWarning: \n",
      "A value is trying to be set on a copy of a slice from a DataFrame.\n",
      "Try using .loc[row_indexer,col_indexer] = value instead\n",
      "\n",
      "See the caveats in the documentation: http://pandas.pydata.org/pandas-docs/stable/user_guide/indexing.html#returning-a-view-versus-a-copy\n",
      "  app.launch_new_instance()\n",
      "/opt/conda/lib/python3.7/site-packages/umap/spectral.py:229: UserWarning: Embedding a total of 34 separate connected components using meta-embedding (experimental)\n",
      "  n_components\n"
     ]
    },
    {
     "name": "stdout",
     "output_type": "stream",
     "text": [
      "(150, 13)\n",
      "(150, 8)\n",
      "(150, 3)\n",
      "     index  umap_var1  umap_var2\n",
      "0        0  -5.105640  14.067780\n",
      "1        1  12.198353  10.878497\n",
      "2        2  -3.223700 -13.944235\n",
      "3        3  -2.160891  -0.458298\n",
      "4        4  12.124585   0.397780\n",
      "..     ...        ...        ...\n",
      "145    145  -5.422166 -13.149732\n",
      "146    146  -4.608286  14.676888\n",
      "147    147  -5.060050  14.109423\n",
      "148    148  -4.425866   7.139349\n",
      "149    149   4.175494   4.971677\n",
      "\n",
      "[150 rows x 3 columns]\n",
      "['umap_var1', 'umap_var2']\n",
      "Index(['umap_var1', 'umap_var2'], dtype='object')\n"
     ]
    },
    {
     "data": {
      "image/png": "[encoded data removed]",
      "text/plain": [
       "<Figure size 432x288 with 1 Axes>"
      ]
     },
     "metadata": {
      "needs_background": "light"
     },
     "output_type": "display_data"
    },
    {
     "name": "stdout",
     "output_type": "stream",
     "text": [
      "(150, 13)\n"
     ]
    },
    {
     "name": "stderr",
     "output_type": "stream",
     "text": [
      "/opt/conda/lib/python3.7/site-packages/ipykernel_launcher.py:88: SettingWithCopyWarning: \n",
      "A value is trying to be set on a copy of a slice from a DataFrame.\n",
      "Try using .loc[row_indexer,col_indexer] = value instead\n",
      "\n",
      "See the caveats in the documentation: http://pandas.pydata.org/pandas-docs/stable/user_guide/indexing.html#returning-a-view-versus-a-copy\n",
      "/opt/conda/lib/python3.7/site-packages/ipykernel_launcher.py:16: SettingWithCopyWarning: \n",
      "A value is trying to be set on a copy of a slice from a DataFrame.\n",
      "Try using .loc[row_indexer,col_indexer] = value instead\n",
      "\n",
      "See the caveats in the documentation: http://pandas.pydata.org/pandas-docs/stable/user_guide/indexing.html#returning-a-view-versus-a-copy\n",
      "  app.launch_new_instance()\n"
     ]
    }
   ],
   "source": [
    "all_clust=cluster_output()"
   ]
  },
  {
   "cell_type": "code",
   "execution_count": 228,
   "metadata": {
    "ExecuteTime": {
     "end_time": "2021-03-11T04:46:10.586904Z",
     "start_time": "2021-03-11T04:46:10.574724Z"
    }
   },
   "outputs": [
    {
     "data": {
      "text/html": [
       "<div>\n",
       "<style scoped>\n",
       "    .dataframe tbody tr th:only-of-type {\n",
       "        vertical-align: middle;\n",
       "    }\n",
       "\n",
       "    .dataframe tbody tr th {\n",
       "        vertical-align: top;\n",
       "    }\n",
       "\n",
       "    .dataframe thead th {\n",
       "        text-align: right;\n",
       "    }\n",
       "</style>\n",
       "<table border=\"1\" class=\"dataframe\">\n",
       "  <thead>\n",
       "    <tr style=\"text-align: right;\">\n",
       "      <th></th>\n",
       "      <th>SYDID</th>\n",
       "      <th>cluster_label</th>\n",
       "      <th>rep</th>\n",
       "    </tr>\n",
       "  </thead>\n",
       "  <tbody>\n",
       "    <tr>\n",
       "      <th>0</th>\n",
       "      <td>PD_00001_DA</td>\n",
       "      <td>2</td>\n",
       "      <td>0</td>\n",
       "    </tr>\n",
       "    <tr>\n",
       "      <th>1</th>\n",
       "      <td>PD_00002_MW</td>\n",
       "      <td>2</td>\n",
       "      <td>0</td>\n",
       "    </tr>\n",
       "    <tr>\n",
       "      <th>2</th>\n",
       "      <td>PD_00004_AW</td>\n",
       "      <td>1</td>\n",
       "      <td>0</td>\n",
       "    </tr>\n",
       "    <tr>\n",
       "      <th>3</th>\n",
       "      <td>PD_00008_BM</td>\n",
       "      <td>1</td>\n",
       "      <td>0</td>\n",
       "    </tr>\n",
       "    <tr>\n",
       "      <th>4</th>\n",
       "      <td>PD_00017_RE</td>\n",
       "      <td>0</td>\n",
       "      <td>0</td>\n",
       "    </tr>\n",
       "    <tr>\n",
       "      <th>...</th>\n",
       "      <td>...</td>\n",
       "      <td>...</td>\n",
       "      <td>...</td>\n",
       "    </tr>\n",
       "    <tr>\n",
       "      <th>145</th>\n",
       "      <td>PD_00553_KM</td>\n",
       "      <td>1</td>\n",
       "      <td>9</td>\n",
       "    </tr>\n",
       "    <tr>\n",
       "      <th>146</th>\n",
       "      <td>PD_00555_PH</td>\n",
       "      <td>0</td>\n",
       "      <td>9</td>\n",
       "    </tr>\n",
       "    <tr>\n",
       "      <th>147</th>\n",
       "      <td>PD_00557_DC</td>\n",
       "      <td>0</td>\n",
       "      <td>9</td>\n",
       "    </tr>\n",
       "    <tr>\n",
       "      <th>148</th>\n",
       "      <td>PD_00568_MB</td>\n",
       "      <td>0</td>\n",
       "      <td>9</td>\n",
       "    </tr>\n",
       "    <tr>\n",
       "      <th>149</th>\n",
       "      <td>PD_00583_KC</td>\n",
       "      <td>0</td>\n",
       "      <td>9</td>\n",
       "    </tr>\n",
       "  </tbody>\n",
       "</table>\n",
       "<p>1500 rows × 3 columns</p>\n",
       "</div>"
      ],
      "text/plain": [
       "           SYDID  cluster_label  rep\n",
       "0    PD_00001_DA              2    0\n",
       "1    PD_00002_MW              2    0\n",
       "2    PD_00004_AW              1    0\n",
       "3    PD_00008_BM              1    0\n",
       "4    PD_00017_RE              0    0\n",
       "..           ...            ...  ...\n",
       "145  PD_00553_KM              1    9\n",
       "146  PD_00555_PH              0    9\n",
       "147  PD_00557_DC              0    9\n",
       "148  PD_00568_MB              0    9\n",
       "149  PD_00583_KC              0    9\n",
       "\n",
       "[1500 rows x 3 columns]"
      ]
     },
     "execution_count": 228,
     "metadata": {},
     "output_type": "execute_result"
    }
   ],
   "source": [
    "all_clust"
   ]
  },
  {
   "cell_type": "code",
   "execution_count": 220,
   "metadata": {
    "ExecuteTime": {
     "end_time": "2021-03-11T03:07:15.539109Z",
     "start_time": "2021-03-11T03:07:15.516351Z"
    }
   },
   "outputs": [
    {
     "data": {
      "text/plain": [
       "SYDID        cluster_label\n",
       "PD_00001_DA  0                2\n",
       "             1                5\n",
       "             2                3\n",
       "PD_00002_MW  0                4\n",
       "             1                3\n",
       "                             ..\n",
       "PD_00568_MB  1                1\n",
       "             2                3\n",
       "PD_00583_KC  0                3\n",
       "             1                3\n",
       "             2                4\n",
       "Length: 433, dtype: int64"
      ]
     },
     "execution_count": 220,
     "metadata": {},
     "output_type": "execute_result"
    }
   ],
   "source": [
    "all_clust.groupby(['SYDID','cluster_label']).size()"
   ]
  },
  {
   "cell_type": "code",
   "execution_count": 222,
   "metadata": {
    "ExecuteTime": {
     "end_time": "2021-03-11T04:42:38.331249Z",
     "start_time": "2021-03-11T04:42:38.320990Z"
    }
   },
   "outputs": [],
   "source": []
  },
  {
   "cell_type": "code",
   "execution_count": 223,
   "metadata": {
    "ExecuteTime": {
     "end_time": "2021-03-11T04:42:43.312273Z",
     "start_time": "2021-03-11T04:42:43.287015Z"
    }
   },
   "outputs": [
    {
     "data": {
      "text/html": [
       "<div>\n",
       "<style scoped>\n",
       "    .dataframe tbody tr th:only-of-type {\n",
       "        vertical-align: middle;\n",
       "    }\n",
       "\n",
       "    .dataframe tbody tr th {\n",
       "        vertical-align: top;\n",
       "    }\n",
       "\n",
       "    .dataframe thead th {\n",
       "        text-align: right;\n",
       "    }\n",
       "</style>\n",
       "<table border=\"1\" class=\"dataframe\">\n",
       "  <thead>\n",
       "    <tr style=\"text-align: right;\">\n",
       "      <th></th>\n",
       "      <th>SYDID</th>\n",
       "      <th>Date of assessment</th>\n",
       "      <th>udprs_Disease_Progression</th>\n",
       "      <th>udprs_Age_Diagnosis</th>\n",
       "      <th>BDI_BDI Total</th>\n",
       "      <th>cog1_MMSE result</th>\n",
       "      <th>udprs_non_tremor</th>\n",
       "      <th>udprs_tremor</th>\n",
       "      <th>udprs_tremor_ratio</th>\n",
       "      <th>cog1_NART</th>\n",
       "      <th>DDE_norm</th>\n",
       "    </tr>\n",
       "  </thead>\n",
       "  <tbody>\n",
       "    <tr>\n",
       "      <th>0</th>\n",
       "      <td>PD_00001_DA</td>\n",
       "      <td>2013-05-28</td>\n",
       "      <td>0.029580</td>\n",
       "      <td>59.764545</td>\n",
       "      <td>10.0</td>\n",
       "      <td>24.0</td>\n",
       "      <td>2.1</td>\n",
       "      <td>1.0</td>\n",
       "      <td>0.476190</td>\n",
       "      <td>89.0</td>\n",
       "      <td>2</td>\n",
       "    </tr>\n",
       "    <tr>\n",
       "      <th>1</th>\n",
       "      <td>PD_00002_MW</td>\n",
       "      <td>2011-10-25</td>\n",
       "      <td>0.049159</td>\n",
       "      <td>64.172485</td>\n",
       "      <td>11.0</td>\n",
       "      <td>30.0</td>\n",
       "      <td>1.9</td>\n",
       "      <td>0.2</td>\n",
       "      <td>0.105263</td>\n",
       "      <td>102.0</td>\n",
       "      <td>1</td>\n",
       "    </tr>\n",
       "    <tr>\n",
       "      <th>5</th>\n",
       "      <td>PD_00004_AW</td>\n",
       "      <td>2014-07-21</td>\n",
       "      <td>0.011002</td>\n",
       "      <td>55.186858</td>\n",
       "      <td>3.0</td>\n",
       "      <td>29.0</td>\n",
       "      <td>1.1</td>\n",
       "      <td>0.0</td>\n",
       "      <td>0.000000</td>\n",
       "      <td>112.0</td>\n",
       "      <td>2</td>\n",
       "    </tr>\n",
       "    <tr>\n",
       "      <th>7</th>\n",
       "      <td>PD_00008_BM</td>\n",
       "      <td>2014-11-03</td>\n",
       "      <td>0.021748</td>\n",
       "      <td>64.164271</td>\n",
       "      <td>9.0</td>\n",
       "      <td>30.0</td>\n",
       "      <td>1.6</td>\n",
       "      <td>2.2</td>\n",
       "      <td>1.375000</td>\n",
       "      <td>118.0</td>\n",
       "      <td>1</td>\n",
       "    </tr>\n",
       "    <tr>\n",
       "      <th>8</th>\n",
       "      <td>PD_00017_RE</td>\n",
       "      <td>2011-08-23</td>\n",
       "      <td>0.038875</td>\n",
       "      <td>64.796715</td>\n",
       "      <td>10.0</td>\n",
       "      <td>25.0</td>\n",
       "      <td>0.8</td>\n",
       "      <td>0.4</td>\n",
       "      <td>0.500000</td>\n",
       "      <td>121.0</td>\n",
       "      <td>1</td>\n",
       "    </tr>\n",
       "    <tr>\n",
       "      <th>...</th>\n",
       "      <td>...</td>\n",
       "      <td>...</td>\n",
       "      <td>...</td>\n",
       "      <td>...</td>\n",
       "      <td>...</td>\n",
       "      <td>...</td>\n",
       "      <td>...</td>\n",
       "      <td>...</td>\n",
       "      <td>...</td>\n",
       "      <td>...</td>\n",
       "      <td>...</td>\n",
       "    </tr>\n",
       "    <tr>\n",
       "      <th>250</th>\n",
       "      <td>PD_00553_KM</td>\n",
       "      <td>2012-10-16</td>\n",
       "      <td>0.029314</td>\n",
       "      <td>68.711841</td>\n",
       "      <td>4.0</td>\n",
       "      <td>29.0</td>\n",
       "      <td>2.3</td>\n",
       "      <td>0.2</td>\n",
       "      <td>0.086957</td>\n",
       "      <td>107.0</td>\n",
       "      <td>2</td>\n",
       "    </tr>\n",
       "    <tr>\n",
       "      <th>251</th>\n",
       "      <td>PD_00555_PH</td>\n",
       "      <td>2012-11-20</td>\n",
       "      <td>0.072569</td>\n",
       "      <td>70.644764</td>\n",
       "      <td>13.0</td>\n",
       "      <td>25.0</td>\n",
       "      <td>0.9</td>\n",
       "      <td>0.8</td>\n",
       "      <td>0.888889</td>\n",
       "      <td>113.0</td>\n",
       "      <td>1</td>\n",
       "    </tr>\n",
       "    <tr>\n",
       "      <th>252</th>\n",
       "      <td>PD_00557_DC</td>\n",
       "      <td>2012-11-06</td>\n",
       "      <td>0.017993</td>\n",
       "      <td>69.878166</td>\n",
       "      <td>4.0</td>\n",
       "      <td>26.0</td>\n",
       "      <td>1.3</td>\n",
       "      <td>0.6</td>\n",
       "      <td>0.461538</td>\n",
       "      <td>103.0</td>\n",
       "      <td>1</td>\n",
       "    </tr>\n",
       "    <tr>\n",
       "      <th>253</th>\n",
       "      <td>PD_00568_MB</td>\n",
       "      <td>2012-11-27</td>\n",
       "      <td>9.000000</td>\n",
       "      <td>76.673511</td>\n",
       "      <td>11.0</td>\n",
       "      <td>30.0</td>\n",
       "      <td>2.1</td>\n",
       "      <td>0.8</td>\n",
       "      <td>0.380952</td>\n",
       "      <td>115.0</td>\n",
       "      <td>0</td>\n",
       "    </tr>\n",
       "    <tr>\n",
       "      <th>254</th>\n",
       "      <td>PD_00583_KC</td>\n",
       "      <td>2013-03-19</td>\n",
       "      <td>0.023634</td>\n",
       "      <td>60.396988</td>\n",
       "      <td>30.0</td>\n",
       "      <td>30.0</td>\n",
       "      <td>0.9</td>\n",
       "      <td>0.4</td>\n",
       "      <td>0.444444</td>\n",
       "      <td>118.0</td>\n",
       "      <td>1</td>\n",
       "    </tr>\n",
       "  </tbody>\n",
       "</table>\n",
       "<p>151 rows × 11 columns</p>\n",
       "</div>"
      ],
      "text/plain": [
       "           SYDID Date of assessment  udprs_Disease_Progression  \\\n",
       "0    PD_00001_DA         2013-05-28                   0.029580   \n",
       "1    PD_00002_MW         2011-10-25                   0.049159   \n",
       "5    PD_00004_AW         2014-07-21                   0.011002   \n",
       "7    PD_00008_BM         2014-11-03                   0.021748   \n",
       "8    PD_00017_RE         2011-08-23                   0.038875   \n",
       "..           ...                ...                        ...   \n",
       "250  PD_00553_KM         2012-10-16                   0.029314   \n",
       "251  PD_00555_PH         2012-11-20                   0.072569   \n",
       "252  PD_00557_DC         2012-11-06                   0.017993   \n",
       "253  PD_00568_MB         2012-11-27                   9.000000   \n",
       "254  PD_00583_KC         2013-03-19                   0.023634   \n",
       "\n",
       "     udprs_Age_Diagnosis  BDI_BDI Total  cog1_MMSE result  udprs_non_tremor  \\\n",
       "0              59.764545           10.0              24.0               2.1   \n",
       "1              64.172485           11.0              30.0               1.9   \n",
       "5              55.186858            3.0              29.0               1.1   \n",
       "7              64.164271            9.0              30.0               1.6   \n",
       "8              64.796715           10.0              25.0               0.8   \n",
       "..                   ...            ...               ...               ...   \n",
       "250            68.711841            4.0              29.0               2.3   \n",
       "251            70.644764           13.0              25.0               0.9   \n",
       "252            69.878166            4.0              26.0               1.3   \n",
       "253            76.673511           11.0              30.0               2.1   \n",
       "254            60.396988           30.0              30.0               0.9   \n",
       "\n",
       "     udprs_tremor  udprs_tremor_ratio  cog1_NART  DDE_norm  \n",
       "0             1.0            0.476190       89.0         2  \n",
       "1             0.2            0.105263      102.0         1  \n",
       "5             0.0            0.000000      112.0         2  \n",
       "7             2.2            1.375000      118.0         1  \n",
       "8             0.4            0.500000      121.0         1  \n",
       "..            ...                 ...        ...       ...  \n",
       "250           0.2            0.086957      107.0         2  \n",
       "251           0.8            0.888889      113.0         1  \n",
       "252           0.6            0.461538      103.0         1  \n",
       "253           0.8            0.380952      115.0         0  \n",
       "254           0.4            0.444444      118.0         1  \n",
       "\n",
       "[151 rows x 11 columns]"
      ]
     },
     "execution_count": 223,
     "metadata": {},
     "output_type": "execute_result"
    }
   ],
   "source": []
  },
  {
   "cell_type": "code",
   "execution_count": 193,
   "metadata": {
    "ExecuteTime": {
     "end_time": "2021-02-27T02:59:58.631578Z",
     "start_time": "2021-02-27T02:59:58.627998Z"
    }
   },
   "outputs": [],
   "source": [
    "#pdclust_tsne=tsne_reducer(PDcluster,varscluster,2)"
   ]
  },
  {
   "cell_type": "code",
   "execution_count": 194,
   "metadata": {
    "ExecuteTime": {
     "end_time": "2021-02-27T02:59:59.046031Z",
     "start_time": "2021-02-27T02:59:58.635640Z"
    }
   },
   "outputs": [
    {
     "name": "stdout",
     "output_type": "stream",
     "text": [
      "(150, 8)\n"
     ]
    },
    {
     "name": "stderr",
     "output_type": "stream",
     "text": [
      "/opt/conda/lib/python3.7/site-packages/ipykernel_launcher.py:12: SettingWithCopyWarning: \n",
      "A value is trying to be set on a copy of a slice from a DataFrame\n",
      "\n",
      "See the caveats in the documentation: http://pandas.pydata.org/pandas-docs/stable/user_guide/indexing.html#returning-a-view-versus-a-copy\n",
      "  if sys.path[0] == '':\n",
      "/opt/conda/lib/python3.7/site-packages/ipykernel_launcher.py:12: SettingWithCopyWarning: \n",
      "A value is trying to be set on a copy of a slice from a DataFrame\n",
      "\n",
      "See the caveats in the documentation: http://pandas.pydata.org/pandas-docs/stable/user_guide/indexing.html#returning-a-view-versus-a-copy\n",
      "  if sys.path[0] == '':\n",
      "/opt/conda/lib/python3.7/site-packages/ipykernel_launcher.py:22: SettingWithCopyWarning: \n",
      "A value is trying to be set on a copy of a slice from a DataFrame\n",
      "\n",
      "See the caveats in the documentation: http://pandas.pydata.org/pandas-docs/stable/user_guide/indexing.html#returning-a-view-versus-a-copy\n",
      "/opt/conda/lib/python3.7/site-packages/umap/spectral.py:229: UserWarning: Embedding a total of 34 separate connected components using meta-embedding (experimental)\n",
      "  n_components\n"
     ]
    },
    {
     "name": "stdout",
     "output_type": "stream",
     "text": [
      "(150, 3)\n",
      "     index  umap_var1  umap_var2\n",
      "0        0  -0.411061   2.071773\n",
      "1        1   8.349899   7.603102\n",
      "2        2  -8.136537 -11.370152\n",
      "3        3  -3.107959  -9.946385\n",
      "4        4   6.757675   8.638041\n",
      "..     ...        ...        ...\n",
      "145    145   0.871761  -3.673747\n",
      "146    146  -0.466330   2.603683\n",
      "147    147  -0.388951   2.044470\n",
      "148    148  -6.782938   8.854002\n",
      "149    149   4.664352  13.575341\n",
      "\n",
      "[150 rows x 3 columns]\n"
     ]
    }
   ],
   "source": [
    "PDcluster=takeonlyx_sd(df=PDcluster,x=3)\n",
    "PDcluster=replacenullsmean(PDcluster)\n",
    "\n",
    "pdclust_umap=umap_reducer(PDcluster,varscluster,\\\n",
    "neighb=2,comp=config['umap_comps'])"
   ]
  },
  {
   "cell_type": "code",
   "execution_count": null,
   "metadata": {},
   "outputs": [],
   "source": []
  },
  {
   "cell_type": "code",
   "execution_count": 195,
   "metadata": {
    "ExecuteTime": {
     "end_time": "2021-02-27T02:59:59.523397Z",
     "start_time": "2021-02-27T02:59:59.048318Z"
    }
   },
   "outputs": [
    {
     "name": "stdout",
     "output_type": "stream",
     "text": [
      "(150, 8)\n",
      "(150, 3)\n",
      "     index  umap_var1  umap_var2\n",
      "0        0   2.800707   0.949076\n",
      "1        1   1.131264  -0.898016\n",
      "2        2   0.061022   3.124319\n",
      "3        3   2.206969   4.282503\n",
      "4        4   1.986599   0.699516\n",
      "..     ...        ...        ...\n",
      "145    145   1.885683   1.478881\n",
      "146    146   2.850404   0.159183\n",
      "147    147   2.590519   0.918364\n",
      "148    148   1.639149   2.886956\n",
      "149    149   0.272416   1.319296\n",
      "\n",
      "[150 rows x 3 columns]\n"
     ]
    }
   ],
   "source": [
    "pdclust_umap=umap_reducer(PDcluster,PDcluster.columns,neighb=10,comp=2)"
   ]
  },
  {
   "cell_type": "code",
   "execution_count": 196,
   "metadata": {
    "ExecuteTime": {
     "end_time": "2021-02-27T03:00:00.821817Z",
     "start_time": "2021-02-27T02:59:59.525688Z"
    }
   },
   "outputs": [
    {
     "name": "stdout",
     "output_type": "stream",
     "text": [
      "['umap_var1', 'umap_var2']\n",
      "Index(['umap_var1', 'umap_var2'], dtype='object')\n"
     ]
    },
    {
     "data": {
      "image/png": "[encoded data removed]",
      "text/plain": [
       "<Figure size 432x288 with 1 Axes>"
      ]
     },
     "metadata": {
      "needs_background": "light"
     },
     "output_type": "display_data"
    },
    {
     "name": "stderr",
     "output_type": "stream",
     "text": [
      "/opt/conda/lib/python3.7/site-packages/ipykernel_launcher.py:88: SettingWithCopyWarning: \n",
      "A value is trying to be set on a copy of a slice from a DataFrame.\n",
      "Try using .loc[row_indexer,col_indexer] = value instead\n",
      "\n",
      "See the caveats in the documentation: http://pandas.pydata.org/pandas-docs/stable/user_guide/indexing.html#returning-a-view-versus-a-copy\n"
     ]
    },
    {
     "data": {
      "text/plain": [
       "<matplotlib.axes._subplots.AxesSubplot at 0x7f462ddde7d0>"
      ]
     },
     "execution_count": 196,
     "metadata": {},
     "output_type": "execute_result"
    },
    {
     "data": {
      "image/png": "[encoded data removed]",
      "text/plain": [
       "<Figure size 432x288 with 1 Axes>"
      ]
     },
     "metadata": {
      "needs_background": "light"
     },
     "output_type": "display_data"
    }
   ],
   "source": [
    "PDcluster_clust=elbow_clust(pdclust_umap[['SYDID','Date of assessment','umap_var1','umap_var2']],\\\n",
    "clustfit=3,dropvars=['SYDID','Date of assessment'])\n",
    "\n",
    "sns.scatterplot(data=PDcluster_clust, x=\"umap_var1\", y=\"umap_var2\",hue='cluster_label')\n"
   ]
  },
  {
   "cell_type": "code",
   "execution_count": 197,
   "metadata": {
    "ExecuteTime": {
     "end_time": "2021-02-27T03:00:04.842711Z",
     "start_time": "2021-02-27T03:00:04.799243Z"
    }
   },
   "outputs": [
    {
     "name": "stdout",
     "output_type": "stream",
     "text": [
      "(252, 555)\n",
      "(150, 5)\n"
     ]
    }
   ],
   "source": [
    "mask1=(PDcombined['Date of assessment']==PDcombined['max_date'])\n",
    "\n",
    "print(PDcombined.shape)\n",
    "print(PDcluster_clust.shape)\n",
    "\n",
    "varsused=['SYDID','Date of assessment','udprs_Disease_Progression','udprs_Age_Diagnosis','BDI_BDI Total','cog1_MMSE result',\\\n",
    "'udprs_non_tremor','udprs_tremor','udprs_tremor_ratio','cog1_NART','DDE_norm']\n",
    "\n",
    "mask=(pd.notnull(PDcluster_clust['SYDID'])&pd.notnull(PDcluster_clust['Date of assessment']))\n",
    "mask2=(pd.notnull(PDcombined['SYDID'])&pd.notnull(PDcombined['Date of assessment']))\n"
   ]
  },
  {
   "cell_type": "code",
   "execution_count": 198,
   "metadata": {
    "ExecuteTime": {
     "end_time": "2021-02-27T03:00:05.763363Z",
     "start_time": "2021-02-27T03:00:05.751543Z"
    }
   },
   "outputs": [],
   "source": [
    "PDcluster_clust_new=PDcluster_clust[['SYDID','Date of assessment','cluster_label']][mask]\n",
    "PDcombined_new=PDcombined[varsused][mask2&mask1]"
   ]
  },
  {
   "cell_type": "code",
   "execution_count": 199,
   "metadata": {
    "ExecuteTime": {
     "end_time": "2021-02-27T03:00:06.436234Z",
     "start_time": "2021-02-27T03:00:06.418740Z"
    }
   },
   "outputs": [
    {
     "data": {
      "text/plain": [
       "(151, 11)"
      ]
     },
     "execution_count": 199,
     "metadata": {},
     "output_type": "execute_result"
    }
   ],
   "source": [
    "PDcombined_new.shape"
   ]
  },
  {
   "cell_type": "code",
   "execution_count": 200,
   "metadata": {
    "ExecuteTime": {
     "end_time": "2021-02-27T03:00:07.301762Z",
     "start_time": "2021-02-27T03:00:07.273612Z"
    }
   },
   "outputs": [
    {
     "name": "stdout",
     "output_type": "stream",
     "text": [
      "(150, 3)\n",
      "(151, 11)\n",
      "(150, 12)\n"
     ]
    }
   ],
   "source": [
    "\n",
    "\n",
    "PDcluster_clust_new['Date of assessment']=pd.to_datetime(PDcluster_clust_new['Date of assessment'])\n",
    "PDcombined_new['Date of assessment']=pd.to_datetime(PDcombined_new['Date of assessment'])\n",
    "\n",
    "print(PDcluster_clust_new.shape)\n",
    "print(PDcombined_new.shape)\n",
    "\n",
    "clust=pd.merge(PDcombined_new,PDcluster_clust_new,on=['SYDID','Date of assessment'],how='inner')\n",
    "print(clust.shape)"
   ]
  },
  {
   "cell_type": "code",
   "execution_count": 201,
   "metadata": {
    "ExecuteTime": {
     "end_time": "2021-02-27T03:00:08.760888Z",
     "start_time": "2021-02-27T03:00:08.729225Z"
    }
   },
   "outputs": [
    {
     "name": "stdout",
     "output_type": "stream",
     "text": [
      "(150, 12)\n"
     ]
    },
    {
     "data": {
      "text/html": [
       "<div>\n",
       "<style scoped>\n",
       "    .dataframe tbody tr th:only-of-type {\n",
       "        vertical-align: middle;\n",
       "    }\n",
       "\n",
       "    .dataframe tbody tr th {\n",
       "        vertical-align: top;\n",
       "    }\n",
       "\n",
       "    .dataframe thead th {\n",
       "        text-align: right;\n",
       "    }\n",
       "</style>\n",
       "<table border=\"1\" class=\"dataframe\">\n",
       "  <thead>\n",
       "    <tr style=\"text-align: right;\">\n",
       "      <th></th>\n",
       "      <th>cluster_label</th>\n",
       "      <th>udprs_Disease_Progression</th>\n",
       "      <th>udprs_Age_Diagnosis</th>\n",
       "      <th>cog1_MMSE result</th>\n",
       "      <th>udprs_non_tremor</th>\n",
       "      <th>udprs_tremor</th>\n",
       "      <th>udprs_tremor_ratio</th>\n",
       "      <th>cog1_NART</th>\n",
       "      <th>BDI_BDI Total</th>\n",
       "      <th>num_patients</th>\n",
       "    </tr>\n",
       "  </thead>\n",
       "  <tbody>\n",
       "    <tr>\n",
       "      <th>0</th>\n",
       "      <td>0</td>\n",
       "      <td>0.020592</td>\n",
       "      <td>53.678750</td>\n",
       "      <td>29.000000</td>\n",
       "      <td>1.473469</td>\n",
       "      <td>0.265306</td>\n",
       "      <td>0.199586</td>\n",
       "      <td>110.567918</td>\n",
       "      <td>9.918367</td>\n",
       "      <td>49</td>\n",
       "    </tr>\n",
       "    <tr>\n",
       "      <th>1</th>\n",
       "      <td>1</td>\n",
       "      <td>0.198995</td>\n",
       "      <td>62.524402</td>\n",
       "      <td>29.490566</td>\n",
       "      <td>1.122642</td>\n",
       "      <td>0.743396</td>\n",
       "      <td>0.721468</td>\n",
       "      <td>113.921283</td>\n",
       "      <td>6.754717</td>\n",
       "      <td>53</td>\n",
       "    </tr>\n",
       "    <tr>\n",
       "      <th>2</th>\n",
       "      <td>2</td>\n",
       "      <td>0.036279</td>\n",
       "      <td>62.912446</td>\n",
       "      <td>27.145833</td>\n",
       "      <td>1.300000</td>\n",
       "      <td>0.566667</td>\n",
       "      <td>0.483700</td>\n",
       "      <td>105.041667</td>\n",
       "      <td>10.187500</td>\n",
       "      <td>48</td>\n",
       "    </tr>\n",
       "  </tbody>\n",
       "</table>\n",
       "</div>"
      ],
      "text/plain": [
       "   cluster_label  udprs_Disease_Progression  udprs_Age_Diagnosis  \\\n",
       "0              0                   0.020592            53.678750   \n",
       "1              1                   0.198995            62.524402   \n",
       "2              2                   0.036279            62.912446   \n",
       "\n",
       "   cog1_MMSE result  udprs_non_tremor  udprs_tremor  udprs_tremor_ratio  \\\n",
       "0         29.000000          1.473469      0.265306            0.199586   \n",
       "1         29.490566          1.122642      0.743396            0.721468   \n",
       "2         27.145833          1.300000      0.566667            0.483700   \n",
       "\n",
       "    cog1_NART  BDI_BDI Total  num_patients  \n",
       "0  110.567918       9.918367            49  \n",
       "1  113.921283       6.754717            53  \n",
       "2  105.041667      10.187500            48  "
      ]
     },
     "execution_count": 201,
     "metadata": {},
     "output_type": "execute_result"
    }
   ],
   "source": [
    "\n",
    "\n",
    "print(clust.shape)\n",
    "\n",
    "clust_gp_mean=pd.DataFrame(clust.groupby(['cluster_label'])['udprs_Disease_Progression','udprs_Age_Diagnosis','cog1_MMSE result',\\\n",
    " 'udprs_non_tremor','udprs_tremor','udprs_tremor_ratio','cog1_NART','BDI_BDI Total'].mean()).reset_index()\n",
    "\n",
    "clust_gp_size=pd.DataFrame(clust.groupby(['cluster_label']).size()).reset_index()\n",
    "clust_gp_size.columns=['cluster_label','num_patients']\n",
    "\n",
    "clust_gp_mean=pd.merge(clust_gp_mean,clust_gp_size,on='cluster_label',how='inner')\n",
    "clust_gp_mean"
   ]
  },
  {
   "cell_type": "code",
   "execution_count": 168,
   "metadata": {
    "ExecuteTime": {
     "end_time": "2021-02-27T02:52:19.069967Z",
     "start_time": "2021-02-27T02:52:18.923062Z"
    }
   },
   "outputs": [],
   "source": [
    "PDcombined['Date of assessment']=pd.to_datetime(PDcombined['Date of assessment'])\n",
    "\n",
    "PDCombined_clust=pd.merge(PDcombined,PDcluster_clust_new,on=['SYDID','Date of assessment'],how='inner')\n"
   ]
  },
  {
   "cell_type": "code",
   "execution_count": 169,
   "metadata": {
    "ExecuteTime": {
     "end_time": "2021-02-27T02:52:19.194135Z",
     "start_time": "2021-02-27T02:52:19.079959Z"
    }
   },
   "outputs": [],
   "source": [
    "PDCombined_clust_long=pd.merge(PDcombined,PDCombined_clust[['SYDID','cluster_label','Group']],on='SYDID',how='left')"
   ]
  },
  {
   "cell_type": "code",
   "execution_count": 170,
   "metadata": {
    "ExecuteTime": {
     "end_time": "2021-02-27T02:52:23.542342Z",
     "start_time": "2021-02-27T02:52:23.318909Z"
    }
   },
   "outputs": [],
   "source": [
    "PDCombined_clust_long.to_csv('%s%s' % (outdata,'PDCombined_clust_long.csv'))"
   ]
  },
  {
   "cell_type": "code",
   "execution_count": 171,
   "metadata": {
    "ExecuteTime": {
     "end_time": "2021-02-27T02:52:25.179009Z",
     "start_time": "2021-02-27T02:52:25.020720Z"
    }
   },
   "outputs": [],
   "source": [
    "PDCombined_clust.to_csv('%s%s' % (outdata,'PDCombined_clust.csv'))"
   ]
  },
  {
   "cell_type": "code",
   "execution_count": 109,
   "metadata": {
    "ExecuteTime": {
     "end_time": "2021-02-25T22:41:05.281541Z",
     "start_time": "2021-02-25T22:41:05.256683Z"
    }
   },
   "outputs": [
    {
     "data": {
      "text/plain": [
       "cluster_label  Group\n",
       "0              1.0      16\n",
       "               2.0       5\n",
       "               3.0       6\n",
       "1              1.0       8\n",
       "               2.0       1\n",
       "               3.0       4\n",
       "               4.0       2\n",
       "2              1.0      10\n",
       "               2.0       2\n",
       "               3.0       8\n",
       "               4.0       2\n",
       "3              1.0      20\n",
       "               2.0       7\n",
       "               3.0       1\n",
       "               4.0      14\n",
       "dtype: int64"
      ]
     },
     "execution_count": 109,
     "metadata": {},
     "output_type": "execute_result"
    }
   ],
   "source": [
    "PDCombined_clust.groupby(['cluster_label','Group']).size()"
   ]
  },
  {
   "cell_type": "code",
   "execution_count": 23,
   "metadata": {
    "ExecuteTime": {
     "end_time": "2021-02-24T02:34:00.338459Z",
     "start_time": "2021-02-24T02:34:00.328591Z"
    }
   },
   "outputs": [
    {
     "data": {
      "text/plain": [
       "(106, 556)"
      ]
     },
     "execution_count": 23,
     "metadata": {},
     "output_type": "execute_result"
    }
   ],
   "source": [
    "mask_gp=pd.notnull(PDCombined_clust['Group'])\n",
    "PDCombined_clust[mask_gp].shape"
   ]
  },
  {
   "cell_type": "code",
   "execution_count": null,
   "metadata": {},
   "outputs": [],
   "source": []
  }
 ],
 "metadata": {
  "kernelspec": {
   "display_name": "Python 3",
   "language": "python",
   "name": "python3"
  },
  "language_info": {
   "codemirror_mode": {
    "name": "ipython",
    "version": 3
   },
   "file_extension": ".py",
   "mimetype": "text/x-python",
   "name": "python",
   "nbconvert_exporter": "python",
   "pygments_lexer": "ipython3",
   "version": "3.7.6"
  },
  "toc": {
   "base_numbering": 1,
   "nav_menu": {},
   "number_sections": false,
   "sideBar": true,
   "skip_h1_title": false,
   "title_cell": "Table of Contents",
   "title_sidebar": "Contents",
   "toc_cell": false,
   "toc_position": {},
   "toc_section_display": true,
   "toc_window_display": false
  }
 },
 "nbformat": 4,
 "nbformat_minor": 2
}
