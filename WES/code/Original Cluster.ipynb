{
 "cells": [
  {
   "cell_type": "markdown",
   "metadata": {
    "ExecuteTime": {
     "end_time": "2021-01-22T06:30:14.011003Z",
     "start_time": "2021-01-22T06:30:14.005540Z"
    }
   },
   "source": [
    "# Cluster Analysis Based on MCI Original"
   ]
  },
  {
   "cell_type": "code",
   "execution_count": 184,
   "metadata": {
    "ExecuteTime": {
     "end_time": "2021-02-27T02:59:51.422366Z",
     "start_time": "2021-02-27T02:59:51.412786Z"
    }
   },
   "outputs": [],
   "source": [
    "'''\n",
    "Import key packages\n",
    "'''\n",
    "import umap\n",
    "from sklearn.manifold import TSNE\n",
    "import pandas as pd\n",
    "import numpy as np\n",
    "import re\n",
    "import seaborn as sns\n",
    "import matplotlib.pyplot as plt\n",
    "import scipy\n",
    "from functools import reduce\n",
    "from sklearn.linear_model import LinearRegression\n",
    "from sklearn.cluster import KMeans\n",
    "\n",
    "\n",
    "# debug mode (spits messages verbosely)\n",
    "DEBUG = 0  # change it to 0 to switch it off\n",
    "\n",
    "loc=\"../../../WES/Clinical Data/Raw/\"\n",
    "outdata=\"../../../WES/Clinical Data/Processed/\"\n",
    "\n",
    "config =dict(\\\n",
    "varsnormalise=['udprs_Disease_Progression','udprs_Age_Diagnosis','cog1_MMSE result',\\\n",
    "'udprs_non_tremor','udprs_tremor','udprs_tremor_ratio','cog1_NART','BDI_BDI Total'],\\\n",
    "nonnormvars=['cog1_Trails A Z score','Lm2_cut','ESS_norm','FOGQ_FOGQ 3','DDE_norm'],\\\n",
    "umap_neigbours=10,umap_comps=2,kmeans_try=10)\n",
    "\n",
    "varsnormalise=config['varsnormalise']\n",
    "nonnormvars=config['nonnormvars']\n",
    "\n",
    "\n",
    "varsnormalise=['udprs_Disease_Progression','udprs_Age_Diagnosis','cog1_MMSE result',\\\n",
    "'udprs_tremor_ratio','cog1_NART','BDI_BDI Total']\n",
    "nonnormvars=['cog1_Trails A Z score','Lm2_cut','ESS_norm','FOGQ_FOGQ 3','DDE_norm']"
   ]
  },
  {
   "cell_type": "code",
   "execution_count": 185,
   "metadata": {
    "ExecuteTime": {
     "end_time": "2021-02-27T02:59:51.623462Z",
     "start_time": "2021-02-27T02:59:51.575411Z"
    }
   },
   "outputs": [],
   "source": [
    "def z_score(col):\n",
    "    x = (col - col.mean())/col.std(ddof=0)\n",
    "    return  x\n",
    "\n",
    "def takeonlyx_sd(df,x=5):\n",
    "\n",
    "    for var in df.columns:\n",
    "        if re.search('float|int',str(df[var].dtype)):\n",
    "            maxvar=df[var].mean()+df[var].std()*5\n",
    "            minvar=df[var].mean()-df[var].std()*5\n",
    "            mask_rng=(df[var].between(minvar,maxvar))\n",
    "            df[var][~mask_rng]=df[var][mask_rng].mean()\n",
    "           # print(df[var].max())\n",
    "           # print(df.shape)\n",
    "    return df\n",
    "\n",
    "def replacenullsmean(df,dropcols=['SYDID','Date of assessment','max_date']):\n",
    "    usecols=[col for col in df.columns if col not in dropcols]\n",
    "    df[usecols]=df[usecols].replace([np.inf, -np.inf], np.nan)\n",
    "    for col in df[usecols].columns:\n",
    "        nullmask=(df[col].isna())\n",
    "        df[col][nullmask]=df[col][~nullmask].mean()\n",
    "    return df\n",
    "\n",
    "def umap_reducer(df,vars,neighb=10,comp=5):\n",
    "    df_out=df.copy()\n",
    "    \n",
    "    for col in df_out.columns:\n",
    "        if df_out[col].dtype!='object':\n",
    "            df_out[col]=df_out[col].fillna(df_out[col][pd.notnull(df_out[col])].mean())\n",
    "              \n",
    "    dmod=df_out[[col for col in vars if col!='SYDID' and re.search('float',str(df_out[col].dtype))\n",
    "                and df_out[col].count()>=df_out.shape[0]]]\n",
    "    print(dmod.shape)\n",
    "    \n",
    "    reducer= umap.UMAP(n_neighbors=neighb,n_components=comp)\n",
    "    reddata = pd.DataFrame(reducer.fit_transform(dmod)).reset_index()\n",
    "    df_out=df_out.reset_index()\n",
    "    print(reddata.shape)\n",
    "    \n",
    "    reddata.columns=['index','umap_var1','umap_var2']\n",
    "    print(reddata)\n",
    "    df_out[['umap_var1','umap_var2']]=reddata[['umap_var1','umap_var2']]\n",
    "    return df_out\n",
    "\n",
    "def tsne_reducer(df,vars,comp=5):\n",
    "    df_out=df.copy()\n",
    "    \n",
    "    for col in df_out.columns:\n",
    "        if df_out[col].dtype!='object':\n",
    "            df_out[col]=df_out[col].fillna(df_out[col][pd.notnull(df_out[col])].mean())\n",
    "              \n",
    "    dmod=df_out[[col for col in vars if col!='SYDID' and re.search('float',str(df_out[col].dtype))\n",
    "                and df_out[col].count()>=df_out.shape[0]]]\n",
    "    print(dmod.shape)\n",
    "    \n",
    "    dod_embedded = pd.DataFrame(TSNE(n_components=2).fit_transform(dmod)).reset_index()\n",
    "\n",
    "    print(dod_embedded.shape)\n",
    "    df_out=df_out.reset_index()\n",
    "    \n",
    "    dod_embedded.columns=['index','tsne_var1','tsne_var2']\n",
    "    df_out[['index','tsne_var1','tsne_var2']]=dod_embedded[['index','tsne_var1','tsne_var2']]\n",
    "    return df_out\n",
    "\n",
    "\n",
    "\n",
    "def elbow_clust(df,clustrange=10,clustfit=4,dropvars=['SYDID','Date of assessment','max_date']):\n",
    "    df_vars=df.drop(columns=dropvars)\n",
    "    dv2=[col for col in df_vars if df_vars[col].dtype=='float32']\n",
    "    print(dv2)\n",
    "    df_vars=df_vars[dv2]\n",
    "    print(df_vars.columns)\n",
    "    df_vars=replacenullsmean(df_vars)\n",
    "    \n",
    "    wcss=[]\n",
    "    #print(df_vars.head())\n",
    "    for i in range(1,clustrange): \n",
    "         kmeans = KMeans(n_clusters=i, init ='k-means++', max_iter=300,  n_init=clustrange-1,random_state=0)\n",
    "         kmeans.fit(df_vars)\n",
    "         wcss.append(kmeans.inertia_)\n",
    "    plt.plot(range(1,clustrange),wcss)\n",
    "    plt.title('The Elbow Method Graph')\n",
    "    plt.xlabel('Number of clusters')\n",
    "    plt.ylabel('WCSS')\n",
    "    plt.show()\n",
    "    kmeans = KMeans(n_clusters=clustfit, random_state=0).fit(df_vars)\n",
    "    df['cluster_label']=kmeans.labels_.tolist()\n",
    "    return df\n",
    "\n",
    "def findcols(df,string):\n",
    "    return [col for col in df.columns if re.search(string,col)]"
   ]
  },
  {
   "cell_type": "code",
   "execution_count": 186,
   "metadata": {
    "ExecuteTime": {
     "end_time": "2021-02-27T02:59:51.787167Z",
     "start_time": "2021-02-27T02:59:51.679822Z"
    }
   },
   "outputs": [],
   "source": [
    "PDcombined=pd.read_csv('%s%s' % (outdata,'PDcombined.csv'))"
   ]
  },
  {
   "cell_type": "code",
   "execution_count": 187,
   "metadata": {
    "ExecuteTime": {
     "end_time": "2021-02-27T02:59:51.839509Z",
     "start_time": "2021-02-27T02:59:51.827836Z"
    }
   },
   "outputs": [
    {
     "data": {
      "text/plain": [
       "PD_00414_JM    5\n",
       "PD_00025_SM    4\n",
       "PD_00004_AW    4\n",
       "PD_00133_CT    4\n",
       "PD_00196_JD    3\n",
       "              ..\n",
       "PD_00583_KC    1\n",
       "PD_00001_DA    1\n",
       "PD_00048_PH    1\n",
       "PD_00494_RG    1\n",
       "PD_00496_JB    1\n",
       "Name: SYDID, Length: 152, dtype: int64"
      ]
     },
     "execution_count": 187,
     "metadata": {},
     "output_type": "execute_result"
    }
   ],
   "source": [
    "PDcombined['SYDID'].value_counts()"
   ]
  },
  {
   "cell_type": "code",
   "execution_count": 188,
   "metadata": {
    "ExecuteTime": {
     "end_time": "2021-02-27T02:59:51.957645Z",
     "start_time": "2021-02-27T02:59:51.954257Z"
    }
   },
   "outputs": [],
   "source": [
    "longvars=['udprs_SectionIIITotal_coef','cog1_MMSEresult_coef','udprs_UDPRS_Tot_coef']"
   ]
  },
  {
   "cell_type": "markdown",
   "metadata": {},
   "source": [
    "#### Data Processing"
   ]
  },
  {
   "cell_type": "code",
   "execution_count": 189,
   "metadata": {
    "ExecuteTime": {
     "end_time": "2021-02-27T02:59:52.425168Z",
     "start_time": "2021-02-27T02:59:52.421171Z"
    }
   },
   "outputs": [],
   "source": [
    "mask_BDI_miss=(PDcombined['BDI_BDI Total']>200)"
   ]
  },
  {
   "cell_type": "code",
   "execution_count": 190,
   "metadata": {
    "ExecuteTime": {
     "end_time": "2021-02-27T02:59:52.589048Z",
     "start_time": "2021-02-27T02:59:52.581313Z"
    }
   },
   "outputs": [],
   "source": [
    "PDcombined=PDcombined[~(mask_BDI_miss)]"
   ]
  },
  {
   "cell_type": "code",
   "execution_count": 191,
   "metadata": {
    "ExecuteTime": {
     "end_time": "2021-02-27T02:59:52.955904Z",
     "start_time": "2021-02-27T02:59:52.765278Z"
    }
   },
   "outputs": [
    {
     "name": "stderr",
     "output_type": "stream",
     "text": [
      "/opt/conda/lib/python3.7/site-packages/ipykernel_launcher.py:5: SettingWithCopyWarning: \n",
      "A value is trying to be set on a copy of a slice from a DataFrame\n",
      "\n",
      "See the caveats in the documentation: http://pandas.pydata.org/pandas-docs/stable/user_guide/indexing.html#returning-a-view-versus-a-copy\n",
      "  \"\"\"\n",
      "/opt/conda/lib/python3.7/site-packages/ipykernel_launcher.py:10: SettingWithCopyWarning: \n",
      "A value is trying to be set on a copy of a slice from a DataFrame\n",
      "\n",
      "See the caveats in the documentation: http://pandas.pydata.org/pandas-docs/stable/user_guide/indexing.html#returning-a-view-versus-a-copy\n",
      "  # Remove the CWD from sys.path while we load stuff.\n",
      "/opt/conda/lib/python3.7/site-packages/ipykernel_launcher.py:11: SettingWithCopyWarning: \n",
      "A value is trying to be set on a copy of a slice from a DataFrame\n",
      "\n",
      "See the caveats in the documentation: http://pandas.pydata.org/pandas-docs/stable/user_guide/indexing.html#returning-a-view-versus-a-copy\n",
      "  # This is added back by InteractiveShellApp.init_path()\n",
      "/opt/conda/lib/python3.7/site-packages/ipykernel_launcher.py:15: SettingWithCopyWarning: \n",
      "A value is trying to be set on a copy of a slice from a DataFrame\n",
      "\n",
      "See the caveats in the documentation: http://pandas.pydata.org/pandas-docs/stable/user_guide/indexing.html#returning-a-view-versus-a-copy\n",
      "  from ipykernel import kernelapp as app\n",
      "/opt/conda/lib/python3.7/site-packages/ipykernel_launcher.py:19: SettingWithCopyWarning: \n",
      "A value is trying to be set on a copy of a slice from a DataFrame\n",
      "\n",
      "See the caveats in the documentation: http://pandas.pydata.org/pandas-docs/stable/user_guide/indexing.html#returning-a-view-versus-a-copy\n",
      "/opt/conda/lib/python3.7/site-packages/ipykernel_launcher.py:22: SettingWithCopyWarning: \n",
      "A value is trying to be set on a copy of a slice from a DataFrame\n",
      "\n",
      "See the caveats in the documentation: http://pandas.pydata.org/pandas-docs/stable/user_guide/indexing.html#returning-a-view-versus-a-copy\n",
      "/opt/conda/lib/python3.7/site-packages/ipykernel_launcher.py:26: SettingWithCopyWarning: \n",
      "A value is trying to be set on a copy of a slice from a DataFrame\n",
      "\n",
      "See the caveats in the documentation: http://pandas.pydata.org/pandas-docs/stable/user_guide/indexing.html#returning-a-view-versus-a-copy\n"
     ]
    }
   ],
   "source": [
    "\n",
    "logmem2cutoff=PDcombined['cog1_Logical Memory II'].mean()+PDcombined['cog1_Logical Memory II'].std()*1.5\n",
    "masklm2=(PDcombined['cog1_Logical Memory II']<logmem2cutoff)\n",
    "\n",
    "PDcombined['Lm2_cut']=0\n",
    "PDcombined['Lm2_cut'][(masklm2)]=1\n",
    "\n",
    "mask0=(PDcombined['udprs_DDE']>0)\n",
    "masklt1000=(PDcombined['udprs_DDE']<1000)\n",
    "PDcombined['DDE_norm']=0\n",
    "PDcombined['DDE_norm'][mask0&masklt1000]=1\n",
    "PDcombined['DDE_norm'][mask0&~masklt1000]=2\n",
    "\n",
    "maskbdi=(PDcombined['BDI_BDI Total']>13)\n",
    "PDcombined['BDI_norm']=0\n",
    "PDcombined['BDI_norm'][maskbdi]=1\n",
    "\n",
    "maskess=(PDcombined['ESS_ESS Total']>10)\n",
    "PDcombined['ESS_norm']=0\n",
    "PDcombined['ESS_norm'][maskess]=1\n",
    "\n",
    "mask_ratio=((PDcombined['udprs_tremor_ratio']==np.inf))\n",
    "PDcombined['udprs_tremor_ratio'][mask_ratio]=PDcombined['udprs_tremor_ratio'][~mask_ratio].mean()\n",
    "\n",
    "for col in varsnormalise:\n",
    "    nullmask=(PDcombined[col].isna())\n",
    "    PDcombined[col][nullmask]=PDcombined[col][~nullmask].mean()\n",
    "    PDcombined[col+'_z_score']=z_score(PDcombined[col])\n",
    "vars_z=[var +'_z_score' for var in varsnormalise ]\n",
    "varscluster=np.append(['SYDID','Date of assessment'],nonnormvars)\n",
    "varscluster=np.append(varscluster,vars_z)\n",
    "\n",
    "'''\n",
    "Substitute to only have max date\n",
    "'''\n",
    "PDcombined['max_date']=PDcombined.groupby('SYDID')['Date of assessment'].transform(max)\n",
    "\n",
    "mask_date_max=(PDcombined['max_date']==PDcombined['Date of assessment'])\n",
    "PDcombined_sub=PDcombined[mask_date_max]\n",
    "\n",
    "'''\n",
    "Removal of columns that don't work\n",
    "'''\n",
    "\n",
    "othcols=[col for col in PDcombined.columns if (PDcombined[col].dtype!='object'\\\n",
    "and col not in varscluster) or col in ['SYDID','Date of assessment','udprs_Disease_Progression',\\\n",
    "'udprs_Age_Diagnosis']]"
   ]
  },
  {
   "cell_type": "code",
   "execution_count": 192,
   "metadata": {
    "ExecuteTime": {
     "end_time": "2021-02-27T02:59:58.625180Z",
     "start_time": "2021-02-27T02:59:53.126581Z"
    }
   },
   "outputs": [
    {
     "name": "stderr",
     "output_type": "stream",
     "text": [
      "/opt/conda/lib/python3.7/site-packages/ipykernel_launcher.py:12: SettingWithCopyWarning: \n",
      "A value is trying to be set on a copy of a slice from a DataFrame\n",
      "\n",
      "See the caveats in the documentation: http://pandas.pydata.org/pandas-docs/stable/user_guide/indexing.html#returning-a-view-versus-a-copy\n",
      "  if sys.path[0] == '':\n",
      "/opt/conda/lib/python3.7/site-packages/pandas/core/generic.py:9114: SettingWithCopyWarning: \n",
      "A value is trying to be set on a copy of a slice from a DataFrame\n",
      "\n",
      "See the caveats in the documentation: http://pandas.pydata.org/pandas-docs/stable/user_guide/indexing.html#returning-a-view-versus-a-copy\n",
      "  self._update_inplace(new_data)\n",
      "/opt/conda/lib/python3.7/site-packages/ipykernel_launcher.py:7: SettingWithCopyWarning: \n",
      "A value is trying to be set on a copy of a slice from a DataFrame\n",
      "\n",
      "See the caveats in the documentation: http://pandas.pydata.org/pandas-docs/stable/user_guide/indexing.html#returning-a-view-versus-a-copy\n",
      "  import sys\n",
      "/opt/conda/lib/python3.7/site-packages/pandas/core/generic.py:9114: SettingWithCopyWarning: \n",
      "A value is trying to be set on a copy of a slice from a DataFrame\n",
      "\n",
      "See the caveats in the documentation: http://pandas.pydata.org/pandas-docs/stable/user_guide/indexing.html#returning-a-view-versus-a-copy\n",
      "  self._update_inplace(new_data)\n",
      "/opt/conda/lib/python3.7/site-packages/ipykernel_launcher.py:7: SettingWithCopyWarning: \n",
      "A value is trying to be set on a copy of a slice from a DataFrame\n",
      "\n",
      "See the caveats in the documentation: http://pandas.pydata.org/pandas-docs/stable/user_guide/indexing.html#returning-a-view-versus-a-copy\n",
      "  import sys\n",
      "/opt/conda/lib/python3.7/site-packages/ipykernel_launcher.py:12: SettingWithCopyWarning: \n",
      "A value is trying to be set on a copy of a slice from a DataFrame\n",
      "\n",
      "See the caveats in the documentation: http://pandas.pydata.org/pandas-docs/stable/user_guide/indexing.html#returning-a-view-versus-a-copy\n",
      "  if sys.path[0] == '':\n",
      "/opt/conda/lib/python3.7/site-packages/pandas/core/generic.py:9114: SettingWithCopyWarning: \n",
      "A value is trying to be set on a copy of a slice from a DataFrame\n",
      "\n",
      "See the caveats in the documentation: http://pandas.pydata.org/pandas-docs/stable/user_guide/indexing.html#returning-a-view-versus-a-copy\n",
      "  self._update_inplace(new_data)\n",
      "/opt/conda/lib/python3.7/site-packages/ipykernel_launcher.py:7: SettingWithCopyWarning: \n",
      "A value is trying to be set on a copy of a slice from a DataFrame\n",
      "\n",
      "See the caveats in the documentation: http://pandas.pydata.org/pandas-docs/stable/user_guide/indexing.html#returning-a-view-versus-a-copy\n",
      "  import sys\n",
      "/opt/conda/lib/python3.7/site-packages/ipykernel_launcher.py:12: SettingWithCopyWarning: \n",
      "A value is trying to be set on a copy of a slice from a DataFrame\n",
      "\n",
      "See the caveats in the documentation: http://pandas.pydata.org/pandas-docs/stable/user_guide/indexing.html#returning-a-view-versus-a-copy\n",
      "  if sys.path[0] == '':\n",
      "/opt/conda/lib/python3.7/site-packages/pandas/core/frame.py:3509: SettingWithCopyWarning: \n",
      "A value is trying to be set on a copy of a slice from a DataFrame.\n",
      "Try using .loc[row_indexer,col_indexer] = value instead\n",
      "\n",
      "See the caveats in the documentation: http://pandas.pydata.org/pandas-docs/stable/user_guide/indexing.html#returning-a-view-versus-a-copy\n",
      "  self[k1] = value[k2]\n",
      "/opt/conda/lib/python3.7/site-packages/ipykernel_launcher.py:22: SettingWithCopyWarning: \n",
      "A value is trying to be set on a copy of a slice from a DataFrame\n",
      "\n",
      "See the caveats in the documentation: http://pandas.pydata.org/pandas-docs/stable/user_guide/indexing.html#returning-a-view-versus-a-copy\n",
      "/opt/conda/lib/python3.7/site-packages/ipykernel_launcher.py:8: SettingWithCopyWarning: \n",
      "A value is trying to be set on a copy of a slice from a DataFrame\n",
      "\n",
      "See the caveats in the documentation: http://pandas.pydata.org/pandas-docs/stable/user_guide/indexing.html#returning-a-view-versus-a-copy\n",
      "  \n"
     ]
    },
    {
     "name": "stdout",
     "output_type": "stream",
     "text": [
      "(151, 344)\n",
      "(151, 3)\n",
      "     index  umap_var1  umap_var2\n",
      "0        0   3.295529   1.674838\n",
      "1        1   4.470050   4.261140\n",
      "2        2   1.692238   1.345176\n",
      "3        3   1.881924   1.435059\n",
      "4        4  -9.096156 -11.762888\n",
      "..     ...        ...        ...\n",
      "146    146   4.330895  -6.738398\n",
      "147    147   3.809952  -8.940137\n",
      "148    148   3.689993   2.663993\n",
      "149    149   3.730044  -9.005669\n",
      "150    150   4.462279  -6.998035\n",
      "\n",
      "[151 rows x 3 columns]\n"
     ]
    }
   ],
   "source": [
    "PDcluster_alt=PDcombined_sub[othcols]\n",
    "PDcluster=PDcombined_sub[varscluster]\n",
    "\n",
    "for var in PDcluster.columns:\n",
    "    PDcluster=PDcluster[(PDcluster[var]!=999)]\n",
    "    \n",
    "PDcluster_alt=takeonlyx_sd(df=PDcluster_alt,x=3)\n",
    "PDcluster_alt=replacenullsmean(PDcluster_alt)\n",
    "\n",
    "'''\n",
    "Reduce using umap\n",
    "'''\n",
    "\n",
    "pdclust_umap=umap_reducer(PDcluster_alt,PDcluster_alt.columns,\\\n",
    "neighb=config['umap_neigbours'],comp=config['umap_comps'])"
   ]
  },
  {
   "cell_type": "code",
   "execution_count": 204,
   "metadata": {
    "ExecuteTime": {
     "end_time": "2021-02-28T04:55:52.680285Z",
     "start_time": "2021-02-28T04:55:52.669159Z"
    }
   },
   "outputs": [],
   "source": [
    "def cluster_output(df=PDcluster,reps=10):\n",
    "    \n",
    "    df_new=pd.DataFrame([]) \n",
    "    df_out=takeonlyx_sd(df,x=3)\n",
    "    df_out=replacenullsmean(df_out)\n",
    "    \n",
    "    for i in range(reps):\n",
    "    \n",
    "        pdclust_umap=umap_reducer(df_out,varscluster,\\\n",
    "        neighb=2,comp=config['umap_comps'])\n",
    "\n",
    "        PDcluster_clust=elbow_clust(pdclust_umap[['SYDID','Date of assessment','umap_var1','umap_var2']],\\\n",
    "        clustfit=3,dropvars=['SYDID','Date of assessment'])\n",
    "        \n",
    "        df1=PDcluster_clust[['SYDID','cluster_label']]\n",
    "        df1['rep']=i\n",
    "        \n",
    "        df_new=\n",
    "        \n",
    "    return df_new\n",
    "        \n",
    "        \n",
    "        \n",
    "\n"
   ]
  },
  {
   "cell_type": "code",
   "execution_count": 205,
   "metadata": {
    "ExecuteTime": {
     "end_time": "2021-02-28T04:56:05.407048Z",
     "start_time": "2021-02-28T04:55:53.455188Z"
    }
   },
   "outputs": [
    {
     "name": "stderr",
     "output_type": "stream",
     "text": [
      "/opt/conda/lib/python3.7/site-packages/ipykernel_launcher.py:12: SettingWithCopyWarning: \n",
      "A value is trying to be set on a copy of a slice from a DataFrame\n",
      "\n",
      "See the caveats in the documentation: http://pandas.pydata.org/pandas-docs/stable/user_guide/indexing.html#returning-a-view-versus-a-copy\n",
      "  if sys.path[0] == '':\n",
      "/opt/conda/lib/python3.7/site-packages/ipykernel_launcher.py:22: SettingWithCopyWarning: \n",
      "A value is trying to be set on a copy of a slice from a DataFrame\n",
      "\n",
      "See the caveats in the documentation: http://pandas.pydata.org/pandas-docs/stable/user_guide/indexing.html#returning-a-view-versus-a-copy\n",
      "/opt/conda/lib/python3.7/site-packages/umap/spectral.py:229: UserWarning: Embedding a total of 34 separate connected components using meta-embedding (experimental)\n",
      "  n_components\n"
     ]
    },
    {
     "name": "stdout",
     "output_type": "stream",
     "text": [
      "(150, 8)\n",
      "(150, 3)\n",
      "     index  umap_var1  umap_var2\n",
      "0        0   1.283975   2.637699\n",
      "1        1   8.449777   1.080295\n",
      "2        2  -5.547128 -10.697483\n",
      "3        3   2.431186  10.619600\n",
      "4        4  -4.278057  -0.484225\n",
      "..     ...        ...        ...\n",
      "145    145  -8.192678  -3.815367\n",
      "146    146   0.464466   2.703924\n",
      "147    147   1.236070   2.661740\n",
      "148    148   0.017049  16.084457\n",
      "149    149   6.654678   9.930830\n",
      "\n",
      "[150 rows x 3 columns]\n",
      "['umap_var1', 'umap_var2']\n",
      "Index(['umap_var1', 'umap_var2'], dtype='object')\n"
     ]
    },
    {
     "data": {
      "image/png": "[encoded data removed]",
      "text/plain": [
       "<Figure size 432x288 with 1 Axes>"
      ]
     },
     "metadata": {
      "needs_background": "light"
     },
     "output_type": "display_data"
    },
    {
     "name": "stderr",
     "output_type": "stream",
     "text": [
      "/opt/conda/lib/python3.7/site-packages/ipykernel_launcher.py:88: SettingWithCopyWarning: \n",
      "A value is trying to be set on a copy of a slice from a DataFrame.\n",
      "Try using .loc[row_indexer,col_indexer] = value instead\n",
      "\n",
      "See the caveats in the documentation: http://pandas.pydata.org/pandas-docs/stable/user_guide/indexing.html#returning-a-view-versus-a-copy\n",
      "/opt/conda/lib/python3.7/site-packages/umap/spectral.py:229: UserWarning: Embedding a total of 34 separate connected components using meta-embedding (experimental)\n",
      "  n_components\n"
     ]
    },
    {
     "name": "stdout",
     "output_type": "stream",
     "text": [
      "           SYDID Date of assessment  umap_var1  umap_var2  cluster_label\n",
      "0    PD_00001_DA         2013-05-28   1.283975   2.637699              0\n",
      "1    PD_00002_MW         2011-10-25   8.449777   1.080295              2\n",
      "2    PD_00004_AW         2014-07-21  -5.547128 -10.697483              0\n",
      "3    PD_00008_BM         2014-11-03   2.431186  10.619600              1\n",
      "4    PD_00017_RE         2011-08-23  -4.278057  -0.484225              0\n",
      "..           ...                ...        ...        ...            ...\n",
      "145  PD_00553_KM         2012-10-16  -8.192678  -3.815367              0\n",
      "146  PD_00555_PH         2012-11-20   0.464466   2.703924              0\n",
      "147  PD_00557_DC         2012-11-06   1.236070   2.661740              0\n",
      "148  PD_00568_MB         2012-11-27   0.017049  16.084457              1\n",
      "149  PD_00583_KC         2013-03-19   6.654678   9.930830              2\n",
      "\n",
      "[150 rows x 5 columns]\n",
      "(150, 8)\n",
      "(150, 3)\n",
      "     index  umap_var1  umap_var2\n",
      "0        0 -14.582335   3.677864\n",
      "1        1   6.642049   3.505375\n",
      "2        2   1.290823  -4.604040\n",
      "3        3 -16.973322  -2.065593\n",
      "4        4   2.252930   7.574164\n",
      "..     ...        ...        ...\n",
      "145    145   4.695230  -0.259703\n",
      "146    146 -14.405867   4.091614\n",
      "147    147 -14.620639   3.732882\n",
      "148    148  -4.195709  -0.301222\n",
      "149    149  -5.563758   2.909901\n",
      "\n",
      "[150 rows x 3 columns]\n",
      "['umap_var1', 'umap_var2']\n",
      "Index(['umap_var1', 'umap_var2'], dtype='object')\n"
     ]
    },
    {
     "data": {
      "image/png": "[encoded data removed]",
      "text/plain": [
       "<Figure size 432x288 with 1 Axes>"
      ]
     },
     "metadata": {
      "needs_background": "light"
     },
     "output_type": "display_data"
    },
    {
     "name": "stderr",
     "output_type": "stream",
     "text": [
      "/opt/conda/lib/python3.7/site-packages/ipykernel_launcher.py:88: SettingWithCopyWarning: \n",
      "A value is trying to be set on a copy of a slice from a DataFrame.\n",
      "Try using .loc[row_indexer,col_indexer] = value instead\n",
      "\n",
      "See the caveats in the documentation: http://pandas.pydata.org/pandas-docs/stable/user_guide/indexing.html#returning-a-view-versus-a-copy\n",
      "/opt/conda/lib/python3.7/site-packages/umap/spectral.py:229: UserWarning: Embedding a total of 34 separate connected components using meta-embedding (experimental)\n",
      "  n_components\n"
     ]
    },
    {
     "name": "stdout",
     "output_type": "stream",
     "text": [
      "           SYDID Date of assessment  umap_var1  umap_var2  cluster_label\n",
      "0    PD_00001_DA         2013-05-28 -14.582335   3.677864              1\n",
      "1    PD_00002_MW         2011-10-25   6.642049   3.505375              0\n",
      "2    PD_00004_AW         2014-07-21   1.290823  -4.604040              2\n",
      "3    PD_00008_BM         2014-11-03 -16.973322  -2.065593              1\n",
      "4    PD_00017_RE         2011-08-23   2.252930   7.574164              0\n",
      "..           ...                ...        ...        ...            ...\n",
      "145  PD_00553_KM         2012-10-16   4.695230  -0.259703              0\n",
      "146  PD_00555_PH         2012-11-20 -14.405867   4.091614              1\n",
      "147  PD_00557_DC         2012-11-06 -14.620639   3.732882              1\n",
      "148  PD_00568_MB         2012-11-27  -4.195709  -0.301222              2\n",
      "149  PD_00583_KC         2013-03-19  -5.563758   2.909901              1\n",
      "\n",
      "[150 rows x 5 columns]\n",
      "(150, 8)\n",
      "(150, 3)\n",
      "     index  umap_var1  umap_var2\n",
      "0        0  -7.986809  17.855829\n",
      "1        1  12.774016   7.829551\n",
      "2        2   1.871368  -9.122353\n",
      "3        3  -7.508816  -3.291780\n",
      "4        4   5.597550  -1.693084\n",
      "..     ...        ...        ...\n",
      "145    145  -5.186437 -12.021468\n",
      "146    146  -8.525873  17.806534\n",
      "147    147  -7.958020  17.907820\n",
      "148    148   0.233553   5.132957\n",
      "149    149  -8.193950   6.148604\n",
      "\n",
      "[150 rows x 3 columns]\n",
      "['umap_var1', 'umap_var2']\n",
      "Index(['umap_var1', 'umap_var2'], dtype='object')\n"
     ]
    },
    {
     "data": {
      "image/png": "[encoded data removed]",
      "text/plain": [
       "<Figure size 432x288 with 1 Axes>"
      ]
     },
     "metadata": {
      "needs_background": "light"
     },
     "output_type": "display_data"
    },
    {
     "name": "stderr",
     "output_type": "stream",
     "text": [
      "/opt/conda/lib/python3.7/site-packages/ipykernel_launcher.py:88: SettingWithCopyWarning: \n",
      "A value is trying to be set on a copy of a slice from a DataFrame.\n",
      "Try using .loc[row_indexer,col_indexer] = value instead\n",
      "\n",
      "See the caveats in the documentation: http://pandas.pydata.org/pandas-docs/stable/user_guide/indexing.html#returning-a-view-versus-a-copy\n",
      "/opt/conda/lib/python3.7/site-packages/umap/spectral.py:229: UserWarning: Embedding a total of 34 separate connected components using meta-embedding (experimental)\n",
      "  n_components\n"
     ]
    },
    {
     "name": "stdout",
     "output_type": "stream",
     "text": [
      "           SYDID Date of assessment  umap_var1  umap_var2  cluster_label\n",
      "0    PD_00001_DA         2013-05-28  -7.986809  17.855829              2\n",
      "1    PD_00002_MW         2011-10-25  12.774016   7.829551              1\n",
      "2    PD_00004_AW         2014-07-21   1.871368  -9.122353              0\n",
      "3    PD_00008_BM         2014-11-03  -7.508816  -3.291780              0\n",
      "4    PD_00017_RE         2011-08-23   5.597550  -1.693084              1\n",
      "..           ...                ...        ...        ...            ...\n",
      "145  PD_00553_KM         2012-10-16  -5.186437 -12.021468              0\n",
      "146  PD_00555_PH         2012-11-20  -8.525873  17.806534              2\n",
      "147  PD_00557_DC         2012-11-06  -7.958020  17.907820              2\n",
      "148  PD_00568_MB         2012-11-27   0.233553   5.132957              1\n",
      "149  PD_00583_KC         2013-03-19  -8.193950   6.148604              2\n",
      "\n",
      "[150 rows x 5 columns]\n",
      "(150, 8)\n",
      "(150, 3)\n",
      "     index  umap_var1  umap_var2\n",
      "0        0 -13.822474   4.818149\n",
      "1        1   2.408672   2.166487\n",
      "2        2  -3.569541 -14.041936\n",
      "3        3  -4.427933 -16.831661\n",
      "4        4  -1.379314   1.730816\n",
      "..     ...        ...        ...\n",
      "145    145 -10.103013  -1.605339\n",
      "146    146 -13.337544   5.493124\n",
      "147    147 -13.719687   4.922126\n",
      "148    148  -7.325602   2.142550\n",
      "149    149  12.096390  11.745039\n",
      "\n",
      "[150 rows x 3 columns]\n",
      "['umap_var1', 'umap_var2']\n",
      "Index(['umap_var1', 'umap_var2'], dtype='object')\n"
     ]
    },
    {
     "data": {
      "image/png": "[encoded data removed]",
      "text/plain": [
       "<Figure size 432x288 with 1 Axes>"
      ]
     },
     "metadata": {
      "needs_background": "light"
     },
     "output_type": "display_data"
    },
    {
     "name": "stderr",
     "output_type": "stream",
     "text": [
      "/opt/conda/lib/python3.7/site-packages/ipykernel_launcher.py:88: SettingWithCopyWarning: \n",
      "A value is trying to be set on a copy of a slice from a DataFrame.\n",
      "Try using .loc[row_indexer,col_indexer] = value instead\n",
      "\n",
      "See the caveats in the documentation: http://pandas.pydata.org/pandas-docs/stable/user_guide/indexing.html#returning-a-view-versus-a-copy\n",
      "/opt/conda/lib/python3.7/site-packages/umap/spectral.py:229: UserWarning: Embedding a total of 34 separate connected components using meta-embedding (experimental)\n",
      "  n_components\n"
     ]
    },
    {
     "name": "stdout",
     "output_type": "stream",
     "text": [
      "           SYDID Date of assessment  umap_var1  umap_var2  cluster_label\n",
      "0    PD_00001_DA         2013-05-28 -13.822474   4.818149              0\n",
      "1    PD_00002_MW         2011-10-25   2.408672   2.166487              1\n",
      "2    PD_00004_AW         2014-07-21  -3.569541 -14.041936              0\n",
      "3    PD_00008_BM         2014-11-03  -4.427933 -16.831661              0\n",
      "4    PD_00017_RE         2011-08-23  -1.379314   1.730816              0\n",
      "..           ...                ...        ...        ...            ...\n",
      "145  PD_00553_KM         2012-10-16 -10.103013  -1.605339              0\n",
      "146  PD_00555_PH         2012-11-20 -13.337544   5.493124              0\n",
      "147  PD_00557_DC         2012-11-06 -13.719687   4.922126              0\n",
      "148  PD_00568_MB         2012-11-27  -7.325602   2.142550              0\n",
      "149  PD_00583_KC         2013-03-19  12.096390  11.745039              1\n",
      "\n",
      "[150 rows x 5 columns]\n",
      "(150, 8)\n",
      "(150, 3)\n",
      "     index  umap_var1  umap_var2\n",
      "0        0  -4.412511   7.801097\n",
      "1        1   8.683707  12.156887\n",
      "2        2  -4.986621 -12.464462\n",
      "3        3 -10.973873   3.136297\n",
      "4        4   8.667702   6.150021\n",
      "..     ...        ...        ...\n",
      "145    145  -5.929264  -7.335020\n",
      "146    146  -4.462156   8.352159\n",
      "147    147  -4.505142   7.890235\n",
      "148    148 -12.951875   0.902035\n",
      "149    149  -5.515443   2.403278\n",
      "\n",
      "[150 rows x 3 columns]\n",
      "['umap_var1', 'umap_var2']\n",
      "Index(['umap_var1', 'umap_var2'], dtype='object')\n"
     ]
    },
    {
     "data": {
      "image/png": "[encoded data removed]",
      "text/plain": [
       "<Figure size 432x288 with 1 Axes>"
      ]
     },
     "metadata": {
      "needs_background": "light"
     },
     "output_type": "display_data"
    },
    {
     "name": "stderr",
     "output_type": "stream",
     "text": [
      "/opt/conda/lib/python3.7/site-packages/ipykernel_launcher.py:88: SettingWithCopyWarning: \n",
      "A value is trying to be set on a copy of a slice from a DataFrame.\n",
      "Try using .loc[row_indexer,col_indexer] = value instead\n",
      "\n",
      "See the caveats in the documentation: http://pandas.pydata.org/pandas-docs/stable/user_guide/indexing.html#returning-a-view-versus-a-copy\n",
      "/opt/conda/lib/python3.7/site-packages/umap/spectral.py:229: UserWarning: Embedding a total of 34 separate connected components using meta-embedding (experimental)\n",
      "  n_components\n"
     ]
    },
    {
     "name": "stdout",
     "output_type": "stream",
     "text": [
      "           SYDID Date of assessment  umap_var1  umap_var2  cluster_label\n",
      "0    PD_00001_DA         2013-05-28  -4.412511   7.801097              2\n",
      "1    PD_00002_MW         2011-10-25   8.683707  12.156887              1\n",
      "2    PD_00004_AW         2014-07-21  -4.986621 -12.464462              0\n",
      "3    PD_00008_BM         2014-11-03 -10.973873   3.136297              2\n",
      "4    PD_00017_RE         2011-08-23   8.667702   6.150021              1\n",
      "..           ...                ...        ...        ...            ...\n",
      "145  PD_00553_KM         2012-10-16  -5.929264  -7.335020              0\n",
      "146  PD_00555_PH         2012-11-20  -4.462156   8.352159              2\n",
      "147  PD_00557_DC         2012-11-06  -4.505142   7.890235              2\n",
      "148  PD_00568_MB         2012-11-27 -12.951875   0.902035              2\n",
      "149  PD_00583_KC         2013-03-19  -5.515443   2.403278              2\n",
      "\n",
      "[150 rows x 5 columns]\n",
      "(150, 8)\n",
      "(150, 3)\n",
      "     index  umap_var1  umap_var2\n",
      "0        0   4.039943  11.547999\n",
      "1        1   9.291625   9.316917\n",
      "2        2  -2.846049  -4.774906\n",
      "3        3 -16.706190   1.128096\n",
      "4        4   3.360425  -3.269425\n",
      "..     ...        ...        ...\n",
      "145    145  -0.398917   0.967958\n",
      "146    146   4.573127  11.187982\n",
      "147    147   4.023367  11.535436\n",
      "148    148  -1.995775  10.434828\n",
      "149    149   1.389478   8.421453\n",
      "\n",
      "[150 rows x 3 columns]\n",
      "['umap_var1', 'umap_var2']\n",
      "Index(['umap_var1', 'umap_var2'], dtype='object')\n"
     ]
    },
    {
     "data": {
      "image/png": "[encoded data removed]",
      "text/plain": [
       "<Figure size 432x288 with 1 Axes>"
      ]
     },
     "metadata": {
      "needs_background": "light"
     },
     "output_type": "display_data"
    },
    {
     "name": "stderr",
     "output_type": "stream",
     "text": [
      "/opt/conda/lib/python3.7/site-packages/ipykernel_launcher.py:88: SettingWithCopyWarning: \n",
      "A value is trying to be set on a copy of a slice from a DataFrame.\n",
      "Try using .loc[row_indexer,col_indexer] = value instead\n",
      "\n",
      "See the caveats in the documentation: http://pandas.pydata.org/pandas-docs/stable/user_guide/indexing.html#returning-a-view-versus-a-copy\n",
      "/opt/conda/lib/python3.7/site-packages/umap/spectral.py:229: UserWarning: Embedding a total of 34 separate connected components using meta-embedding (experimental)\n",
      "  n_components\n"
     ]
    },
    {
     "name": "stdout",
     "output_type": "stream",
     "text": [
      "           SYDID Date of assessment  umap_var1  umap_var2  cluster_label\n",
      "0    PD_00001_DA         2013-05-28   4.039943  11.547999              2\n",
      "1    PD_00002_MW         2011-10-25   9.291625   9.316917              2\n",
      "2    PD_00004_AW         2014-07-21  -2.846049  -4.774906              0\n",
      "3    PD_00008_BM         2014-11-03 -16.706190   1.128096              1\n",
      "4    PD_00017_RE         2011-08-23   3.360425  -3.269425              0\n",
      "..           ...                ...        ...        ...            ...\n",
      "145  PD_00553_KM         2012-10-16  -0.398917   0.967958              0\n",
      "146  PD_00555_PH         2012-11-20   4.573127  11.187982              2\n",
      "147  PD_00557_DC         2012-11-06   4.023367  11.535436              2\n",
      "148  PD_00568_MB         2012-11-27  -1.995775  10.434828              1\n",
      "149  PD_00583_KC         2013-03-19   1.389478   8.421453              2\n",
      "\n",
      "[150 rows x 5 columns]\n",
      "(150, 8)\n",
      "(150, 3)\n",
      "     index  umap_var1  umap_var2\n",
      "0        0  -4.733392   7.342729\n",
      "1        1   6.188507   8.288023\n",
      "2        2  -4.779830  -4.187297\n",
      "3        3 -14.577182  -0.694883\n",
      "4        4   0.346652  12.109157\n",
      "..     ...        ...        ...\n",
      "145    145 -11.274733   6.981408\n",
      "146    146  -3.928364   7.414135\n",
      "147    147  -4.701437   7.387313\n",
      "148    148  -7.435274 -10.601989\n",
      "149    149   9.584459   3.607764\n",
      "\n",
      "[150 rows x 3 columns]\n",
      "['umap_var1', 'umap_var2']\n",
      "Index(['umap_var1', 'umap_var2'], dtype='object')\n"
     ]
    },
    {
     "data": {
      "image/png": "[encoded data removed]",
      "text/plain": [
       "<Figure size 432x288 with 1 Axes>"
      ]
     },
     "metadata": {
      "needs_background": "light"
     },
     "output_type": "display_data"
    },
    {
     "name": "stderr",
     "output_type": "stream",
     "text": [
      "/opt/conda/lib/python3.7/site-packages/ipykernel_launcher.py:88: SettingWithCopyWarning: \n",
      "A value is trying to be set on a copy of a slice from a DataFrame.\n",
      "Try using .loc[row_indexer,col_indexer] = value instead\n",
      "\n",
      "See the caveats in the documentation: http://pandas.pydata.org/pandas-docs/stable/user_guide/indexing.html#returning-a-view-versus-a-copy\n",
      "/opt/conda/lib/python3.7/site-packages/umap/spectral.py:229: UserWarning: Embedding a total of 34 separate connected components using meta-embedding (experimental)\n",
      "  n_components\n"
     ]
    },
    {
     "name": "stdout",
     "output_type": "stream",
     "text": [
      "           SYDID Date of assessment  umap_var1  umap_var2  cluster_label\n",
      "0    PD_00001_DA         2013-05-28  -4.733392   7.342729              1\n",
      "1    PD_00002_MW         2011-10-25   6.188507   8.288023              0\n",
      "2    PD_00004_AW         2014-07-21  -4.779830  -4.187297              2\n",
      "3    PD_00008_BM         2014-11-03 -14.577182  -0.694883              2\n",
      "4    PD_00017_RE         2011-08-23   0.346652  12.109157              1\n",
      "..           ...                ...        ...        ...            ...\n",
      "145  PD_00553_KM         2012-10-16 -11.274733   6.981408              1\n",
      "146  PD_00555_PH         2012-11-20  -3.928364   7.414135              1\n",
      "147  PD_00557_DC         2012-11-06  -4.701437   7.387313              1\n",
      "148  PD_00568_MB         2012-11-27  -7.435274 -10.601989              2\n",
      "149  PD_00583_KC         2013-03-19   9.584459   3.607764              0\n",
      "\n",
      "[150 rows x 5 columns]\n",
      "(150, 8)\n",
      "(150, 3)\n",
      "     index  umap_var1  umap_var2\n",
      "0        0   8.407514   8.927063\n",
      "1        1  12.103194   9.250566\n",
      "2        2  -1.223731 -11.356659\n",
      "3        3  -8.239883  -3.020365\n",
      "4        4   5.410343   0.849021\n",
      "..     ...        ...        ...\n",
      "145    145 -10.003391  -7.483078\n",
      "146    146   8.756505   9.403149\n",
      "147    147   8.434215   8.913634\n",
      "148    148 -12.691311   5.468179\n",
      "149    149  -5.254969   3.432001\n",
      "\n",
      "[150 rows x 3 columns]\n",
      "['umap_var1', 'umap_var2']\n",
      "Index(['umap_var1', 'umap_var2'], dtype='object')\n"
     ]
    },
    {
     "data": {
      "image/png": "[encoded data removed]",
      "text/plain": [
       "<Figure size 432x288 with 1 Axes>"
      ]
     },
     "metadata": {
      "needs_background": "light"
     },
     "output_type": "display_data"
    },
    {
     "name": "stderr",
     "output_type": "stream",
     "text": [
      "/opt/conda/lib/python3.7/site-packages/ipykernel_launcher.py:88: SettingWithCopyWarning: \n",
      "A value is trying to be set on a copy of a slice from a DataFrame.\n",
      "Try using .loc[row_indexer,col_indexer] = value instead\n",
      "\n",
      "See the caveats in the documentation: http://pandas.pydata.org/pandas-docs/stable/user_guide/indexing.html#returning-a-view-versus-a-copy\n",
      "/opt/conda/lib/python3.7/site-packages/umap/spectral.py:229: UserWarning: Embedding a total of 34 separate connected components using meta-embedding (experimental)\n",
      "  n_components\n"
     ]
    },
    {
     "name": "stdout",
     "output_type": "stream",
     "text": [
      "           SYDID Date of assessment  umap_var1  umap_var2  cluster_label\n",
      "0    PD_00001_DA         2013-05-28   8.407514   8.927063              2\n",
      "1    PD_00002_MW         2011-10-25  12.103194   9.250566              2\n",
      "2    PD_00004_AW         2014-07-21  -1.223731 -11.356659              0\n",
      "3    PD_00008_BM         2014-11-03  -8.239883  -3.020365              1\n",
      "4    PD_00017_RE         2011-08-23   5.410343   0.849021              2\n",
      "..           ...                ...        ...        ...            ...\n",
      "145  PD_00553_KM         2012-10-16 -10.003391  -7.483078              1\n",
      "146  PD_00555_PH         2012-11-20   8.756505   9.403149              2\n",
      "147  PD_00557_DC         2012-11-06   8.434215   8.913634              2\n",
      "148  PD_00568_MB         2012-11-27 -12.691311   5.468179              1\n",
      "149  PD_00583_KC         2013-03-19  -5.254969   3.432001              1\n",
      "\n",
      "[150 rows x 5 columns]\n",
      "(150, 8)\n",
      "(150, 3)\n",
      "     index  umap_var1  umap_var2\n",
      "0        0  -4.068532   4.047334\n",
      "1        1  14.049716   0.250024\n",
      "2        2   2.266686 -12.202632\n",
      "3        3   3.421606   6.562604\n",
      "4        4   8.902031  -4.988071\n",
      "..     ...        ...        ...\n",
      "145    145  -1.268665  -0.786910\n",
      "146    146  -3.404041   4.240371\n",
      "147    147  -3.959254   4.005673\n",
      "148    148  -8.316870  10.404629\n",
      "149    149   1.752287  12.735206\n",
      "\n",
      "[150 rows x 3 columns]\n",
      "['umap_var1', 'umap_var2']\n",
      "Index(['umap_var1', 'umap_var2'], dtype='object')\n"
     ]
    },
    {
     "data": {
      "image/png": "[encoded data removed]",
      "text/plain": [
       "<Figure size 432x288 with 1 Axes>"
      ]
     },
     "metadata": {
      "needs_background": "light"
     },
     "output_type": "display_data"
    },
    {
     "name": "stderr",
     "output_type": "stream",
     "text": [
      "/opt/conda/lib/python3.7/site-packages/ipykernel_launcher.py:88: SettingWithCopyWarning: \n",
      "A value is trying to be set on a copy of a slice from a DataFrame.\n",
      "Try using .loc[row_indexer,col_indexer] = value instead\n",
      "\n",
      "See the caveats in the documentation: http://pandas.pydata.org/pandas-docs/stable/user_guide/indexing.html#returning-a-view-versus-a-copy\n",
      "/opt/conda/lib/python3.7/site-packages/umap/spectral.py:229: UserWarning: Embedding a total of 34 separate connected components using meta-embedding (experimental)\n",
      "  n_components\n"
     ]
    },
    {
     "name": "stdout",
     "output_type": "stream",
     "text": [
      "           SYDID Date of assessment  umap_var1  umap_var2  cluster_label\n",
      "0    PD_00001_DA         2013-05-28  -4.068532   4.047334              1\n",
      "1    PD_00002_MW         2011-10-25  14.049716   0.250024              2\n",
      "2    PD_00004_AW         2014-07-21   2.266686 -12.202632              0\n",
      "3    PD_00008_BM         2014-11-03   3.421606   6.562604              2\n",
      "4    PD_00017_RE         2011-08-23   8.902031  -4.988071              0\n",
      "..           ...                ...        ...        ...            ...\n",
      "145  PD_00553_KM         2012-10-16  -1.268665  -0.786910              0\n",
      "146  PD_00555_PH         2012-11-20  -3.404041   4.240371              1\n",
      "147  PD_00557_DC         2012-11-06  -3.959254   4.005673              1\n",
      "148  PD_00568_MB         2012-11-27  -8.316870  10.404629              1\n",
      "149  PD_00583_KC         2013-03-19   1.752287  12.735206              2\n",
      "\n",
      "[150 rows x 5 columns]\n",
      "(150, 8)\n",
      "(150, 3)\n",
      "     index  umap_var1  umap_var2\n",
      "0        0  -9.231977   5.171607\n",
      "1        1   8.020840  13.638159\n",
      "2        2  -3.294166 -10.090461\n",
      "3        3  -2.878000  -6.604627\n",
      "4        4   9.588014   0.268448\n",
      "..     ...        ...        ...\n",
      "145    145   0.115979 -14.360480\n",
      "146    146  -9.758817   5.155267\n",
      "147    147  -9.284993   5.142805\n",
      "148    148   2.059097  -3.958671\n",
      "149    149   5.290011  10.222938\n",
      "\n",
      "[150 rows x 3 columns]\n",
      "['umap_var1', 'umap_var2']\n",
      "Index(['umap_var1', 'umap_var2'], dtype='object')\n"
     ]
    },
    {
     "data": {
      "image/png": "[encoded data removed]",
      "text/plain": [
       "<Figure size 432x288 with 1 Axes>"
      ]
     },
     "metadata": {
      "needs_background": "light"
     },
     "output_type": "display_data"
    },
    {
     "name": "stdout",
     "output_type": "stream",
     "text": [
      "           SYDID Date of assessment  umap_var1  umap_var2  cluster_label\n",
      "0    PD_00001_DA         2013-05-28  -9.231977   5.171607              0\n",
      "1    PD_00002_MW         2011-10-25   8.020840  13.638159              2\n",
      "2    PD_00004_AW         2014-07-21  -3.294166 -10.090461              1\n",
      "3    PD_00008_BM         2014-11-03  -2.878000  -6.604627              1\n",
      "4    PD_00017_RE         2011-08-23   9.588014   0.268448              2\n",
      "..           ...                ...        ...        ...            ...\n",
      "145  PD_00553_KM         2012-10-16   0.115979 -14.360480              1\n",
      "146  PD_00555_PH         2012-11-20  -9.758817   5.155267              0\n",
      "147  PD_00557_DC         2012-11-06  -9.284993   5.142805              0\n",
      "148  PD_00568_MB         2012-11-27   2.059097  -3.958671              1\n",
      "149  PD_00583_KC         2013-03-19   5.290011  10.222938              2\n",
      "\n",
      "[150 rows x 5 columns]\n"
     ]
    },
    {
     "name": "stderr",
     "output_type": "stream",
     "text": [
      "/opt/conda/lib/python3.7/site-packages/ipykernel_launcher.py:88: SettingWithCopyWarning: \n",
      "A value is trying to be set on a copy of a slice from a DataFrame.\n",
      "Try using .loc[row_indexer,col_indexer] = value instead\n",
      "\n",
      "See the caveats in the documentation: http://pandas.pydata.org/pandas-docs/stable/user_guide/indexing.html#returning-a-view-versus-a-copy\n"
     ]
    }
   ],
   "source": [
    "cluster_output()"
   ]
  },
  {
   "cell_type": "code",
   "execution_count": 193,
   "metadata": {
    "ExecuteTime": {
     "end_time": "2021-02-27T02:59:58.631578Z",
     "start_time": "2021-02-27T02:59:58.627998Z"
    }
   },
   "outputs": [],
   "source": [
    "#pdclust_tsne=tsne_reducer(PDcluster,varscluster,2)"
   ]
  },
  {
   "cell_type": "code",
   "execution_count": 194,
   "metadata": {
    "ExecuteTime": {
     "end_time": "2021-02-27T02:59:59.046031Z",
     "start_time": "2021-02-27T02:59:58.635640Z"
    }
   },
   "outputs": [
    {
     "name": "stdout",
     "output_type": "stream",
     "text": [
      "(150, 8)\n"
     ]
    },
    {
     "name": "stderr",
     "output_type": "stream",
     "text": [
      "/opt/conda/lib/python3.7/site-packages/ipykernel_launcher.py:12: SettingWithCopyWarning: \n",
      "A value is trying to be set on a copy of a slice from a DataFrame\n",
      "\n",
      "See the caveats in the documentation: http://pandas.pydata.org/pandas-docs/stable/user_guide/indexing.html#returning-a-view-versus-a-copy\n",
      "  if sys.path[0] == '':\n",
      "/opt/conda/lib/python3.7/site-packages/ipykernel_launcher.py:12: SettingWithCopyWarning: \n",
      "A value is trying to be set on a copy of a slice from a DataFrame\n",
      "\n",
      "See the caveats in the documentation: http://pandas.pydata.org/pandas-docs/stable/user_guide/indexing.html#returning-a-view-versus-a-copy\n",
      "  if sys.path[0] == '':\n",
      "/opt/conda/lib/python3.7/site-packages/ipykernel_launcher.py:22: SettingWithCopyWarning: \n",
      "A value is trying to be set on a copy of a slice from a DataFrame\n",
      "\n",
      "See the caveats in the documentation: http://pandas.pydata.org/pandas-docs/stable/user_guide/indexing.html#returning-a-view-versus-a-copy\n",
      "/opt/conda/lib/python3.7/site-packages/umap/spectral.py:229: UserWarning: Embedding a total of 34 separate connected components using meta-embedding (experimental)\n",
      "  n_components\n"
     ]
    },
    {
     "name": "stdout",
     "output_type": "stream",
     "text": [
      "(150, 3)\n",
      "     index  umap_var1  umap_var2\n",
      "0        0  -0.411061   2.071773\n",
      "1        1   8.349899   7.603102\n",
      "2        2  -8.136537 -11.370152\n",
      "3        3  -3.107959  -9.946385\n",
      "4        4   6.757675   8.638041\n",
      "..     ...        ...        ...\n",
      "145    145   0.871761  -3.673747\n",
      "146    146  -0.466330   2.603683\n",
      "147    147  -0.388951   2.044470\n",
      "148    148  -6.782938   8.854002\n",
      "149    149   4.664352  13.575341\n",
      "\n",
      "[150 rows x 3 columns]\n"
     ]
    }
   ],
   "source": [
    "PDcluster=takeonlyx_sd(df=PDcluster,x=3)\n",
    "PDcluster=replacenullsmean(PDcluster)\n",
    "\n",
    "pdclust_umap=umap_reducer(PDcluster,varscluster,\\\n",
    "neighb=2,comp=config['umap_comps'])"
   ]
  },
  {
   "cell_type": "code",
   "execution_count": 195,
   "metadata": {
    "ExecuteTime": {
     "end_time": "2021-02-27T02:59:59.523397Z",
     "start_time": "2021-02-27T02:59:59.048318Z"
    }
   },
   "outputs": [
    {
     "name": "stdout",
     "output_type": "stream",
     "text": [
      "(150, 8)\n",
      "(150, 3)\n",
      "     index  umap_var1  umap_var2\n",
      "0        0   2.800707   0.949076\n",
      "1        1   1.131264  -0.898016\n",
      "2        2   0.061022   3.124319\n",
      "3        3   2.206969   4.282503\n",
      "4        4   1.986599   0.699516\n",
      "..     ...        ...        ...\n",
      "145    145   1.885683   1.478881\n",
      "146    146   2.850404   0.159183\n",
      "147    147   2.590519   0.918364\n",
      "148    148   1.639149   2.886956\n",
      "149    149   0.272416   1.319296\n",
      "\n",
      "[150 rows x 3 columns]\n"
     ]
    }
   ],
   "source": [
    "pdclust_umap=umap_reducer(PDcluster,PDcluster.columns,neighb=10,comp=2)"
   ]
  },
  {
   "cell_type": "code",
   "execution_count": 196,
   "metadata": {
    "ExecuteTime": {
     "end_time": "2021-02-27T03:00:00.821817Z",
     "start_time": "2021-02-27T02:59:59.525688Z"
    }
   },
   "outputs": [
    {
     "name": "stdout",
     "output_type": "stream",
     "text": [
      "['umap_var1', 'umap_var2']\n",
      "Index(['umap_var1', 'umap_var2'], dtype='object')\n"
     ]
    },
    {
     "data": {
      "image/png": "[encoded data removed]",
      "text/plain": [
       "<Figure size 432x288 with 1 Axes>"
      ]
     },
     "metadata": {
      "needs_background": "light"
     },
     "output_type": "display_data"
    },
    {
     "name": "stderr",
     "output_type": "stream",
     "text": [
      "/opt/conda/lib/python3.7/site-packages/ipykernel_launcher.py:88: SettingWithCopyWarning: \n",
      "A value is trying to be set on a copy of a slice from a DataFrame.\n",
      "Try using .loc[row_indexer,col_indexer] = value instead\n",
      "\n",
      "See the caveats in the documentation: http://pandas.pydata.org/pandas-docs/stable/user_guide/indexing.html#returning-a-view-versus-a-copy\n"
     ]
    },
    {
     "data": {
      "text/plain": [
       "<matplotlib.axes._subplots.AxesSubplot at 0x7f462ddde7d0>"
      ]
     },
     "execution_count": 196,
     "metadata": {},
     "output_type": "execute_result"
    },
    {
     "data": {
      "image/png": "[encoded data removed]",
      "text/plain": [
       "<Figure size 432x288 with 1 Axes>"
      ]
     },
     "metadata": {
      "needs_background": "light"
     },
     "output_type": "display_data"
    }
   ],
   "source": [
    "PDcluster_clust=elbow_clust(pdclust_umap[['SYDID','Date of assessment','umap_var1','umap_var2']],\\\n",
    "clustfit=3,dropvars=['SYDID','Date of assessment'])\n",
    "\n",
    "sns.scatterplot(data=PDcluster_clust, x=\"umap_var1\", y=\"umap_var2\",hue='cluster_label')\n"
   ]
  },
  {
   "cell_type": "code",
   "execution_count": 197,
   "metadata": {
    "ExecuteTime": {
     "end_time": "2021-02-27T03:00:04.842711Z",
     "start_time": "2021-02-27T03:00:04.799243Z"
    }
   },
   "outputs": [
    {
     "name": "stdout",
     "output_type": "stream",
     "text": [
      "(252, 555)\n",
      "(150, 5)\n"
     ]
    }
   ],
   "source": [
    "mask1=(PDcombined['Date of assessment']==PDcombined['max_date'])\n",
    "\n",
    "print(PDcombined.shape)\n",
    "print(PDcluster_clust.shape)\n",
    "\n",
    "varsused=['SYDID','Date of assessment','udprs_Disease_Progression','udprs_Age_Diagnosis','BDI_BDI Total','cog1_MMSE result',\\\n",
    "'udprs_non_tremor','udprs_tremor','udprs_tremor_ratio','cog1_NART','DDE_norm']\n",
    "\n",
    "mask=(pd.notnull(PDcluster_clust['SYDID'])&pd.notnull(PDcluster_clust['Date of assessment']))\n",
    "mask2=(pd.notnull(PDcombined['SYDID'])&pd.notnull(PDcombined['Date of assessment']))\n"
   ]
  },
  {
   "cell_type": "code",
   "execution_count": 198,
   "metadata": {
    "ExecuteTime": {
     "end_time": "2021-02-27T03:00:05.763363Z",
     "start_time": "2021-02-27T03:00:05.751543Z"
    }
   },
   "outputs": [],
   "source": [
    "PDcluster_clust_new=PDcluster_clust[['SYDID','Date of assessment','cluster_label']][mask]\n",
    "PDcombined_new=PDcombined[varsused][mask2&mask1]"
   ]
  },
  {
   "cell_type": "code",
   "execution_count": 199,
   "metadata": {
    "ExecuteTime": {
     "end_time": "2021-02-27T03:00:06.436234Z",
     "start_time": "2021-02-27T03:00:06.418740Z"
    }
   },
   "outputs": [
    {
     "data": {
      "text/plain": [
       "(151, 11)"
      ]
     },
     "execution_count": 199,
     "metadata": {},
     "output_type": "execute_result"
    }
   ],
   "source": [
    "PDcombined_new.shape"
   ]
  },
  {
   "cell_type": "code",
   "execution_count": 200,
   "metadata": {
    "ExecuteTime": {
     "end_time": "2021-02-27T03:00:07.301762Z",
     "start_time": "2021-02-27T03:00:07.273612Z"
    }
   },
   "outputs": [
    {
     "name": "stdout",
     "output_type": "stream",
     "text": [
      "(150, 3)\n",
      "(151, 11)\n",
      "(150, 12)\n"
     ]
    }
   ],
   "source": [
    "\n",
    "\n",
    "PDcluster_clust_new['Date of assessment']=pd.to_datetime(PDcluster_clust_new['Date of assessment'])\n",
    "PDcombined_new['Date of assessment']=pd.to_datetime(PDcombined_new['Date of assessment'])\n",
    "\n",
    "print(PDcluster_clust_new.shape)\n",
    "print(PDcombined_new.shape)\n",
    "\n",
    "clust=pd.merge(PDcombined_new,PDcluster_clust_new,on=['SYDID','Date of assessment'],how='inner')\n",
    "print(clust.shape)"
   ]
  },
  {
   "cell_type": "code",
   "execution_count": 201,
   "metadata": {
    "ExecuteTime": {
     "end_time": "2021-02-27T03:00:08.760888Z",
     "start_time": "2021-02-27T03:00:08.729225Z"
    }
   },
   "outputs": [
    {
     "name": "stdout",
     "output_type": "stream",
     "text": [
      "(150, 12)\n"
     ]
    },
    {
     "data": {
      "text/html": [
       "<div>\n",
       "<style scoped>\n",
       "    .dataframe tbody tr th:only-of-type {\n",
       "        vertical-align: middle;\n",
       "    }\n",
       "\n",
       "    .dataframe tbody tr th {\n",
       "        vertical-align: top;\n",
       "    }\n",
       "\n",
       "    .dataframe thead th {\n",
       "        text-align: right;\n",
       "    }\n",
       "</style>\n",
       "<table border=\"1\" class=\"dataframe\">\n",
       "  <thead>\n",
       "    <tr style=\"text-align: right;\">\n",
       "      <th></th>\n",
       "      <th>cluster_label</th>\n",
       "      <th>udprs_Disease_Progression</th>\n",
       "      <th>udprs_Age_Diagnosis</th>\n",
       "      <th>cog1_MMSE result</th>\n",
       "      <th>udprs_non_tremor</th>\n",
       "      <th>udprs_tremor</th>\n",
       "      <th>udprs_tremor_ratio</th>\n",
       "      <th>cog1_NART</th>\n",
       "      <th>BDI_BDI Total</th>\n",
       "      <th>num_patients</th>\n",
       "    </tr>\n",
       "  </thead>\n",
       "  <tbody>\n",
       "    <tr>\n",
       "      <th>0</th>\n",
       "      <td>0</td>\n",
       "      <td>0.020592</td>\n",
       "      <td>53.678750</td>\n",
       "      <td>29.000000</td>\n",
       "      <td>1.473469</td>\n",
       "      <td>0.265306</td>\n",
       "      <td>0.199586</td>\n",
       "      <td>110.567918</td>\n",
       "      <td>9.918367</td>\n",
       "      <td>49</td>\n",
       "    </tr>\n",
       "    <tr>\n",
       "      <th>1</th>\n",
       "      <td>1</td>\n",
       "      <td>0.198995</td>\n",
       "      <td>62.524402</td>\n",
       "      <td>29.490566</td>\n",
       "      <td>1.122642</td>\n",
       "      <td>0.743396</td>\n",
       "      <td>0.721468</td>\n",
       "      <td>113.921283</td>\n",
       "      <td>6.754717</td>\n",
       "      <td>53</td>\n",
       "    </tr>\n",
       "    <tr>\n",
       "      <th>2</th>\n",
       "      <td>2</td>\n",
       "      <td>0.036279</td>\n",
       "      <td>62.912446</td>\n",
       "      <td>27.145833</td>\n",
       "      <td>1.300000</td>\n",
       "      <td>0.566667</td>\n",
       "      <td>0.483700</td>\n",
       "      <td>105.041667</td>\n",
       "      <td>10.187500</td>\n",
       "      <td>48</td>\n",
       "    </tr>\n",
       "  </tbody>\n",
       "</table>\n",
       "</div>"
      ],
      "text/plain": [
       "   cluster_label  udprs_Disease_Progression  udprs_Age_Diagnosis  \\\n",
       "0              0                   0.020592            53.678750   \n",
       "1              1                   0.198995            62.524402   \n",
       "2              2                   0.036279            62.912446   \n",
       "\n",
       "   cog1_MMSE result  udprs_non_tremor  udprs_tremor  udprs_tremor_ratio  \\\n",
       "0         29.000000          1.473469      0.265306            0.199586   \n",
       "1         29.490566          1.122642      0.743396            0.721468   \n",
       "2         27.145833          1.300000      0.566667            0.483700   \n",
       "\n",
       "    cog1_NART  BDI_BDI Total  num_patients  \n",
       "0  110.567918       9.918367            49  \n",
       "1  113.921283       6.754717            53  \n",
       "2  105.041667      10.187500            48  "
      ]
     },
     "execution_count": 201,
     "metadata": {},
     "output_type": "execute_result"
    }
   ],
   "source": [
    "\n",
    "\n",
    "print(clust.shape)\n",
    "\n",
    "clust_gp_mean=pd.DataFrame(clust.groupby(['cluster_label'])['udprs_Disease_Progression','udprs_Age_Diagnosis','cog1_MMSE result',\\\n",
    " 'udprs_non_tremor','udprs_tremor','udprs_tremor_ratio','cog1_NART','BDI_BDI Total'].mean()).reset_index()\n",
    "\n",
    "clust_gp_size=pd.DataFrame(clust.groupby(['cluster_label']).size()).reset_index()\n",
    "clust_gp_size.columns=['cluster_label','num_patients']\n",
    "\n",
    "clust_gp_mean=pd.merge(clust_gp_mean,clust_gp_size,on='cluster_label',how='inner')\n",
    "clust_gp_mean"
   ]
  },
  {
   "cell_type": "code",
   "execution_count": 168,
   "metadata": {
    "ExecuteTime": {
     "end_time": "2021-02-27T02:52:19.069967Z",
     "start_time": "2021-02-27T02:52:18.923062Z"
    }
   },
   "outputs": [],
   "source": [
    "PDcombined['Date of assessment']=pd.to_datetime(PDcombined['Date of assessment'])\n",
    "\n",
    "PDCombined_clust=pd.merge(PDcombined,PDcluster_clust_new,on=['SYDID','Date of assessment'],how='inner')\n"
   ]
  },
  {
   "cell_type": "code",
   "execution_count": 169,
   "metadata": {
    "ExecuteTime": {
     "end_time": "2021-02-27T02:52:19.194135Z",
     "start_time": "2021-02-27T02:52:19.079959Z"
    }
   },
   "outputs": [],
   "source": [
    "PDCombined_clust_long=pd.merge(PDcombined,PDCombined_clust[['SYDID','cluster_label','Group']],on='SYDID',how='left')"
   ]
  },
  {
   "cell_type": "code",
   "execution_count": 170,
   "metadata": {
    "ExecuteTime": {
     "end_time": "2021-02-27T02:52:23.542342Z",
     "start_time": "2021-02-27T02:52:23.318909Z"
    }
   },
   "outputs": [],
   "source": [
    "PDCombined_clust_long.to_csv('%s%s' % (outdata,'PDCombined_clust_long.csv'))"
   ]
  },
  {
   "cell_type": "code",
   "execution_count": 171,
   "metadata": {
    "ExecuteTime": {
     "end_time": "2021-02-27T02:52:25.179009Z",
     "start_time": "2021-02-27T02:52:25.020720Z"
    }
   },
   "outputs": [],
   "source": [
    "PDCombined_clust.to_csv('%s%s' % (outdata,'PDCombined_clust.csv'))"
   ]
  },
  {
   "cell_type": "code",
   "execution_count": 109,
   "metadata": {
    "ExecuteTime": {
     "end_time": "2021-02-25T22:41:05.281541Z",
     "start_time": "2021-02-25T22:41:05.256683Z"
    }
   },
   "outputs": [
    {
     "data": {
      "text/plain": [
       "cluster_label  Group\n",
       "0              1.0      16\n",
       "               2.0       5\n",
       "               3.0       6\n",
       "1              1.0       8\n",
       "               2.0       1\n",
       "               3.0       4\n",
       "               4.0       2\n",
       "2              1.0      10\n",
       "               2.0       2\n",
       "               3.0       8\n",
       "               4.0       2\n",
       "3              1.0      20\n",
       "               2.0       7\n",
       "               3.0       1\n",
       "               4.0      14\n",
       "dtype: int64"
      ]
     },
     "execution_count": 109,
     "metadata": {},
     "output_type": "execute_result"
    }
   ],
   "source": [
    "PDCombined_clust.groupby(['cluster_label','Group']).size()"
   ]
  },
  {
   "cell_type": "code",
   "execution_count": 23,
   "metadata": {
    "ExecuteTime": {
     "end_time": "2021-02-24T02:34:00.338459Z",
     "start_time": "2021-02-24T02:34:00.328591Z"
    }
   },
   "outputs": [
    {
     "data": {
      "text/plain": [
       "(106, 556)"
      ]
     },
     "execution_count": 23,
     "metadata": {},
     "output_type": "execute_result"
    }
   ],
   "source": [
    "mask_gp=pd.notnull(PDCombined_clust['Group'])\n",
    "PDCombined_clust[mask_gp].shape"
   ]
  },
  {
   "cell_type": "code",
   "execution_count": null,
   "metadata": {},
   "outputs": [],
   "source": []
  }
 ],
 "metadata": {
  "kernelspec": {
   "display_name": "Python 3",
   "language": "python",
   "name": "python3"
  },
  "language_info": {
   "codemirror_mode": {
    "name": "ipython",
    "version": 3
   },
   "file_extension": ".py",
   "mimetype": "text/x-python",
   "name": "python",
   "nbconvert_exporter": "python",
   "pygments_lexer": "ipython3",
   "version": "3.7.6"
  },
  "toc": {
   "base_numbering": 1,
   "nav_menu": {},
   "number_sections": false,
   "sideBar": true,
   "skip_h1_title": false,
   "title_cell": "Table of Contents",
   "title_sidebar": "Contents",
   "toc_cell": false,
   "toc_position": {},
   "toc_section_display": true,
   "toc_window_display": false
  }
 },
 "nbformat": 4,
 "nbformat_minor": 2
}
