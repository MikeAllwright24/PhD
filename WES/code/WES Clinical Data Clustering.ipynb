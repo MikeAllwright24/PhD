{
 "cells": [
  {
   "cell_type": "markdown",
   "metadata": {},
   "source": [
    "# WES COHORT CLINICAL DATA CLUSTERING"
   ]
  },
  {
   "cell_type": "markdown",
   "metadata": {},
   "source": [
    "3) Do you feel that your feet get glued to the floor while walking, making a turn or\n",
    "when trying to initiate walking (freezing)?\n",
    "0 Never\n",
    "1 Very rarely—about once a month\n",
    "2 Rarely—about once a week\n",
    "3 Often—about once a day\n",
    "4 Always—whenever walking"
   ]
  },
  {
   "cell_type": "markdown",
   "metadata": {},
   "source": [
    "### Constants"
   ]
  },
  {
   "cell_type": "code",
   "execution_count": 4,
   "metadata": {
    "ExecuteTime": {
     "end_time": "2021-02-04T03:56:00.882163Z",
     "start_time": "2021-02-04T03:56:00.871018Z"
    }
   },
   "outputs": [],
   "source": [
    "'''\n",
    "Import key packages\n",
    "'''\n",
    "import pandas as pd\n",
    "import numpy as np\n",
    "import re\n",
    "import seaborn as sns\n",
    "import matplotlib.pyplot as plt\n",
    "import scipy\n",
    "from functools import reduce\n",
    "from sklearn.linear_model import LinearRegression\n",
    "\n",
    "# debug mode (spits messages verbosely)\n",
    "DEBUG = 0  # change it to 0 to switch it off\n",
    "\n",
    "loc=\"../../../WES/Clinical Data/Raw/\"\n",
    "outdata=\"../../../WES/Clinical Data/Processed/\""
   ]
  },
  {
   "cell_type": "markdown",
   "metadata": {},
   "source": [
    "### Utilities"
   ]
  },
  {
   "cell_type": "code",
   "execution_count": 5,
   "metadata": {
    "ExecuteTime": {
     "end_time": "2021-02-04T03:56:01.586858Z",
     "start_time": "2021-02-04T03:56:01.572862Z"
    }
   },
   "outputs": [],
   "source": [
    "from functools import wraps\n",
    "from time import time\n",
    "\n",
    "def timeit(func):\n",
    "    @wraps(func)\n",
    "    def wrap(*args, **kw):\n",
    "        ts = time()\n",
    "        res = func(*args, **kw)\n",
    "        te = time()\n",
    "        print('func:%r\\nargs:[%r, %r]\\ntook: %2.4f sec' % \\\n",
    "          (func.__name__, args, kw, te - ts))\n",
    "        return res\n",
    "    return wrap\n",
    "\n",
    "def findcols(df,txt):\n",
    "    cols=[col for col in df.columns if txt in col]\n",
    "    return cols\n",
    "\n",
    "\n",
    "# Define Function\n",
    "def test(data):\n",
    "    num_pats=data['SYDID'].nunique()\n",
    "    name =[x for x in globals() if globals()[x] is data][0]\n",
    "    #print(name)\n",
    "    return str(name),num_pats\n",
    "  \n"
   ]
  },
  {
   "cell_type": "markdown",
   "metadata": {},
   "source": [
    "### Read Data"
   ]
  },
  {
   "cell_type": "code",
   "execution_count": 6,
   "metadata": {
    "ExecuteTime": {
     "end_time": "2021-02-04T03:56:06.587543Z",
     "start_time": "2021-02-04T03:56:02.446763Z"
    }
   },
   "outputs": [],
   "source": [
    "dem = pd.read_excel('%s%s' % (loc,\"1. Completed_WES_Demographics_16082020.xlsx\"))\n",
    "UDPRS = pd.read_excel('%s%s' % (loc,\"2. Completed_Old UPDRS WES COHORT_20082020.xlsx\"))\n",
    "cog1 = pd.read_excel('%s%s' % (loc,\"3. Completed_CogPart 1.xlsx\"))\n",
    "cog2 = pd.read_excel('%s%s' % (loc,\"4. Completed_CogPart 2_RAVLT BNT_WES cohort 16082020.xlsx\"))\n",
    "PSYCHQ = pd.read_excel('%s%s' % (loc,\"5. Completed_PSYCHQ WES Cohort 20082020.xlsx\"))\n",
    "UDPRS2 = pd.read_excel('%s%s' % (loc,\"6. Completed_WES MDSUPDPRS_22082020.xlsx\"))\n",
    "HADS = pd.read_excel('%s%s' % (loc,\"7. Completed_HADS_WES cohort_15082020.xlsx\"))\n",
    "RBDQ = pd.read_excel('%s%s' % (loc,\"8. Completed RBDQ_WES Cohort_11082020.xlsx\"))\n",
    "BDI = pd.read_excel('%s%s' % (loc,\"9. Completed_BDI WES Cohort_14082020.xlsx\"))\n",
    "SCOPAS = pd.read_excel('%s%s' % (loc,\"10. Completed_SCOPAS WES Cohort 13082020.xlsx\"))\n",
    "SCOPAPC = pd.read_excel('%s%s' % (loc,\"11. Completed_SCOPAPC WES Cohort 13082020.xlsx\"))\n",
    "ESS = pd.read_excel('%s%s' % (loc,\"12. Completed_ESS WES cohort_13082020.xlsx\"))\n",
    "MOCA = pd.read_excel('%s%s' % (loc,\"13. Completed_WES MOCA_16072020.xlsx\"))\n",
    "FOGQ = pd.read_excel('%s%s' % (loc,\"14. Completed_FOGQ WES cohort_13082020.xlsx\"))\n",
    "Smell = pd.read_excel('%s%s' % (loc,\"15. Completed_New smell and vision WES cohort_13082020.xlsx\"))\n",
    "PDQ39=pd.read_excel('%s%s' % (loc,\"PDQ39 WES cohort.xlsx\"))"
   ]
  },
  {
   "cell_type": "code",
   "execution_count": 7,
   "metadata": {
    "ExecuteTime": {
     "end_time": "2021-02-04T03:56:06.593190Z",
     "start_time": "2021-02-04T03:56:06.589500Z"
    }
   },
   "outputs": [],
   "source": [
    "dsets=[dem,cog1,cog2,PSYCHQ,UDPRS2,HADS,RBDQ,BDI,SCOPAS,SCOPAPC,ESS,MOCA,FOGQ,Smell,PDQ39]"
   ]
  },
  {
   "cell_type": "code",
   "execution_count": 8,
   "metadata": {
    "ExecuteTime": {
     "end_time": "2021-02-04T03:56:06.645494Z",
     "start_time": "2021-02-04T03:56:06.595427Z"
    }
   },
   "outputs": [],
   "source": [
    "df_full=pd.DataFrame()\n",
    "\n",
    "for df in dsets:\n",
    "    df1=pd.DataFrame({'dataset':test(df)[0],'num_patients':test(df)[1]}, index=[0])\n",
    "    df_full=pd.concat([df_full,df1],axis=0)\n",
    "#df_full"
   ]
  },
  {
   "cell_type": "markdown",
   "metadata": {},
   "source": [
    "### Transform Data"
   ]
  },
  {
   "cell_type": "code",
   "execution_count": 9,
   "metadata": {
    "ExecuteTime": {
     "end_time": "2021-02-04T03:56:08.730072Z",
     "start_time": "2021-02-04T03:56:06.647381Z"
    }
   },
   "outputs": [
    {
     "name": "stderr",
     "output_type": "stream",
     "text": [
      "/opt/conda/lib/python3.7/site-packages/ipykernel_launcher.py:39: FutureWarning: Sorting because non-concatenation axis is not aligned. A future version\n",
      "of pandas will change to not sort by default.\n",
      "\n",
      "To accept the future behavior, pass 'sort=False'.\n",
      "\n",
      "To retain the current behavior and silence the warning, pass 'sort=True'.\n",
      "\n"
     ]
    }
   ],
   "source": [
    "#split the data so each new date is looked after\n",
    "from typing import Optional\n",
    "excdata='No data|Missing'\n",
    "demcols=['SYDID','Gend','Birth_date','Princ_Diag', 'Date Diagnosed']\n",
    "demremcols=['Gend','Birth_date','Princ_Diag', 'Date Diagnosed','index','time_point']\n",
    "\n",
    "def removedotcol(df):\n",
    "    for j,s in enumerate(df.columns):\n",
    "        inds = [i for i,c in enumerate(s) if c=='.']\n",
    "        if inds:\n",
    "            t=s[0:inds[0]]\n",
    "            #t=t.replace(\"'\",\"\")\n",
    "            df.rename(columns={s:t},inplace=True)\n",
    "    return df\n",
    "\n",
    "\n",
    "def reshape_data(df,datefield,demcols=demcols,verbose: Optional[bool]=DEBUG):\n",
    "    cog_arr=[i for i,c in enumerate(df.columns) if re.search(\"Date\",c)]\n",
    "    \n",
    "    if verbose:\n",
    "        print(cog_arr)\n",
    "    dfs=[\"df1_\"+str(i) for i in range(len(cog_arr))]\n",
    "    for i,c in enumerate(cog_arr):\n",
    "        if i==len(cog_arr)-1:\n",
    "            dfs[i]=pd.DataFrame(df.iloc[:,  np.r_[:, c:len(df.columns)-1]]).reset_index()\n",
    "            dfs[i]['SYDID']=df['SYDID']\n",
    "            #print(dfs[i].columns)\n",
    "            dfs[i]=removedotcol(dfs[i])\n",
    "            dfs[i]['time_point']=i\n",
    "        else:\n",
    "            #print(df.iloc[c])\n",
    "            dfs[i]=pd.DataFrame(df.iloc[:,  np.r_[:, c:cog_arr[i+1]]]).reset_index()\n",
    "            dfs[i]['SYDID']=df['SYDID']\n",
    "            #if i!=0:\n",
    "             #   dfs[i]['SYDID']=df['SYDID']\n",
    "            #print(dfs[i].columns)\n",
    "            dfs[i]=removedotcol(dfs[i])\n",
    "            dfs[i]['time_point']=i\n",
    "    df_out=pd.concat(dfs,axis=0)\n",
    "    df_out=pd.merge(df_out,dem[demcols],on='SYDID',how='left')\n",
    "    df_out=df_out[pd.notnull(df_out[datefield])&(~df_out[datefield].astype(str).str.contains(excdata))]\n",
    "    \n",
    "    return df_out\n",
    "\n",
    "dem['Gend']=dem['Gender']\n",
    "dem['Birth_date']=dem['Birthdate']\n",
    "dem['Princ_Diag']=dem['Principal Diagnosis']\n",
    "UDPRS.rename(columns={\"PD Code\":\"SYDID\"},inplace=True)\n",
    "\n",
    "UDPRS_rs=reshape_data(UDPRS,'Date/time')\n",
    "cog1_rs=reshape_data(cog1,'Date/time') #Date/time\n",
    "#cog2_rs=reshape_data(cog2)\n",
    "PSYCHQ_rs=reshape_data(PSYCHQ,'Date of assessment') #'Date of assessment'\n",
    "UDPRS2_rs=reshape_data(UDPRS2,'Date of assessment') #'Date of assessment'\n",
    "#HADS_rs=reshape_data(HADS) #Date/time\n",
    "RBDQ_rs=reshape_data(RBDQ,'Date') #Date\n",
    "BDI_rs=reshape_data(BDI,'Date/time') #Date/time\n",
    "\n",
    "SCOPAS_rs=reshape_data(SCOPAS,'Date/time') #Date/time\n",
    "SCOPAPC_rs=reshape_data(SCOPAPC,'Date/time') #Date/time\n",
    "ESS_rs=reshape_data(ESS,'Date ESS') #'Date ESS'\n",
    "MOCA_rs=reshape_data(MOCA,'Date/time') #Date/time\n",
    "FOGQ_rs=reshape_data(FOGQ,'Date FOGQ') #'Date FOGQ'\n",
    "Smell_rs=reshape_data(Smell,'Date/time') #'Date/time'\n",
    "\n",
    "\n",
    "PDQ39_rs=reshape_data(PDQ39,'Date/time') #'Date/time'\n",
    "newds_rs=[UDPRS_rs,cog1_rs,PSYCHQ_rs,UDPRS2_rs,RBDQ_rs,BDI_rs,SCOPAS_rs,SCOPAPC_rs,ESS_rs,MOCA_rs,FOGQ_rs,Smell_rs,PDQ39_rs]"
   ]
  },
  {
   "cell_type": "code",
   "execution_count": 10,
   "metadata": {
    "ExecuteTime": {
     "end_time": "2021-02-04T03:56:08.737471Z",
     "start_time": "2021-02-04T03:56:08.731906Z"
    }
   },
   "outputs": [],
   "source": [
    "def counts_df(df):\n",
    "    df['recs']=(df.groupby('SYDID')['SYDID'].transform('count'))\n",
    "    df['num_timepoints']='4 or more'\n",
    "    df['num_timepoints'][(df['recs']<4)]=df['recs'].astype(str)\n",
    "    df2=pd.DataFrame(df.groupby(df['num_timepoints'])['SYDID'].nunique()).reset_index()\n",
    "    df2.columns=['num_timepoints','num_patients']\n",
    "    df2['dset']=str(test(df)[0])\n",
    "    return df2"
   ]
  },
  {
   "cell_type": "code",
   "execution_count": 11,
   "metadata": {
    "ExecuteTime": {
     "end_time": "2021-02-04T03:56:08.892700Z",
     "start_time": "2021-02-04T03:56:08.739199Z"
    }
   },
   "outputs": [
    {
     "name": "stderr",
     "output_type": "stream",
     "text": [
      "/opt/conda/lib/python3.7/site-packages/ipykernel_launcher.py:4: SettingWithCopyWarning: \n",
      "A value is trying to be set on a copy of a slice from a DataFrame\n",
      "\n",
      "See the caveats in the documentation: http://pandas.pydata.org/pandas-docs/stable/user_guide/indexing.html#returning-a-view-versus-a-copy\n",
      "  after removing the cwd from sys.path.\n"
     ]
    }
   ],
   "source": [
    "df_counts=pd.DataFrame([])\n",
    "for df in newds_rs:\n",
    "    df2=counts_df(df)\n",
    "    df_counts=pd.concat([df_counts,df2],axis=0)\n",
    "#df_counts=df_counts.pivot(index='dset', columns='num_timepoints', values='num_patients') \n",
    "#df_counts"
   ]
  },
  {
   "cell_type": "code",
   "execution_count": 12,
   "metadata": {
    "ExecuteTime": {
     "end_time": "2021-02-04T03:56:08.900035Z",
     "start_time": "2021-02-04T03:56:08.894787Z"
    }
   },
   "outputs": [],
   "source": [
    "FOGQ_rs['recs']=(FOGQ_rs.groupby('SYDID')['SYDID'].transform('count'))"
   ]
  },
  {
   "cell_type": "code",
   "execution_count": 13,
   "metadata": {
    "ExecuteTime": {
     "end_time": "2021-02-04T03:56:08.933888Z",
     "start_time": "2021-02-04T03:56:08.901798Z"
    }
   },
   "outputs": [],
   "source": [
    "FOGQ_rs.to_csv('%s%s' % (outdata,'FOGQ_rs.csv'))"
   ]
  },
  {
   "cell_type": "markdown",
   "metadata": {},
   "source": [
    "### Changes to individual datasets"
   ]
  },
  {
   "cell_type": "markdown",
   "metadata": {
    "ExecuteTime": {
     "end_time": "2021-01-11T23:30:25.897830Z",
     "start_time": "2021-01-11T23:30:25.889779Z"
    }
   },
   "source": [
    "UDPRS"
   ]
  },
  {
   "cell_type": "code",
   "execution_count": 14,
   "metadata": {
    "ExecuteTime": {
     "end_time": "2021-02-04T03:56:10.368850Z",
     "start_time": "2021-02-04T03:56:10.281779Z"
    }
   },
   "outputs": [
    {
     "name": "stderr",
     "output_type": "stream",
     "text": [
      "/opt/conda/lib/python3.7/site-packages/ipykernel_launcher.py:37: SettingWithCopyWarning: \n",
      "A value is trying to be set on a copy of a slice from a DataFrame\n",
      "\n",
      "See the caveats in the documentation: http://pandas.pydata.org/pandas-docs/stable/user_guide/indexing.html#returning-a-view-versus-a-copy\n"
     ]
    }
   ],
   "source": [
    "def returnonoff(x):\n",
    "    if 'ON' in str(x).upper():\n",
    "        cat='ON'\n",
    "    elif 'OFF' in str(x).upper():\n",
    "        cat='OFF'\n",
    "    else:\n",
    "        cat='unknown'\n",
    "    return cat\n",
    "\n",
    "UDPRS2_rs['ONOFF']=UDPRS2_rs['Clinical state'].apply(lambda x:returnonoff(x))\n",
    "\n",
    "UDPRS2_rs['Rigidity_Arm']=UDPRS2_rs[['30 Rigidity Right Arm', '31 Rigidity Left Arm']].max(axis=1)\n",
    "UDPRS2_rs['Rigidity_Leg']=UDPRS2_rs[['32 Rigidity Right Leg', '33 Rigidity Left Leg']].max(axis=1)\n",
    "UDPRS2_rs['Finger tapping']=UDPRS2_rs[['34 Finger tapping Right', '35 Finger tapping Left']].max(axis=1)\n",
    "UDPRS2_rs['Hand Movements']=UDPRS2_rs[['36 Hand Movements Right', '37 Hand Movements Left']].max(axis=1)\n",
    "UDPRS2_rs['Pronation supination']=UDPRS2_rs[['38 Pronation supination Right', '39 Pronation supination Left']].max(axis=1)\n",
    "UDPRS2_rs['Toe tapping']=UDPRS2_rs[['40 Toe tapping Right', '41 Toe tapping Left']].max(axis=1)\n",
    "UDPRS2_rs['Leg Agility']=UDPRS2_rs[['42 Leg agility Right', '43 Leg agility Left']].max(axis=1)\n",
    "\n",
    "UDPRS2_rs['Rest tremorAmplitude Arm']=UDPRS2_rs[['54 Rest tremorAmplitude Right Arm', '55 Rest tremorAmplitude Left Arm']].max(axis=1)\n",
    "UDPRS2_rs['Rest tremorAmplitude Leg']=UDPRS2_rs[['56 Rest tremorAmplitude Right Leg', '57 Rest tremorAmplitude Left Leg']].max(axis=1)\n",
    "\n",
    "UDPRS2_rs['non_tremor']=UDPRS2_rs[['Rigidity_Arm','Rigidity_Leg','Finger tapping','Hand Movements','Pronation supination','Toe tapping','Leg Agility',\n",
    "                                   '28 Facial expression', '29 Rigidity Neck','44 Arising from chair']].mean(axis=1)\n",
    "\n",
    "UDPRS2_rs['tremor']=UDPRS2_rs[['23 ADL Tremor','Rest tremorAmplitude Arm','Rest tremorAmplitude Leg',\n",
    "       '57a Rest Tremor Amplitude Jaw/Lip', '58 Constancy of Rest Tremor']].mean(axis=1)\n",
    "\n",
    "\n",
    "UDPRS2_rs['tremor_ratio']=UDPRS2_rs['tremor']/UDPRS2_rs['non_tremor']\n",
    "UDPRS2_rs['Date of assessment']=pd.to_datetime(UDPRS2_rs['Date of assessment'])\n",
    "\n",
    "UDPRS2_rs['UDPRS_Tot']=UDPRS2_rs[['Section I Total', 'Section II Total','Section III Total']].sum(axis=1)\n",
    "\n",
    "mask_missing=(UDPRS2_rs['Date Diagnosed']==\"Missing\")\n",
    "\n",
    "UDPRS2_rs['Date Diagnosed'][mask_missing]=\"\"\n",
    "UDPRS2_rs['Date Diagnosed']=pd.to_datetime(UDPRS2_rs['Date Diagnosed'])\n",
    "#UDPRS2_rs['Disease_Duration']=(pd.to_datetime(UDPRS2_rs['Date of assessment']).dt.date-pd.to_datetime(UDPRS2_rs['Date Diagnosed']).dt.date).dt.days\n",
    "\n",
    "UDPRS2_rs['Disease_Duration']=(UDPRS2_rs['Date of assessment']-UDPRS2_rs['Date Diagnosed']).dt.days\n",
    "\n",
    "UDPRS2_rs['first_date_assessment']=(UDPRS2_rs.groupby('SYDID')['Date of assessment'].transform('min'))\n",
    "UDPRS2_rs['first_date_assessment']=pd.to_datetime(UDPRS2_rs['first_date_assessment'])\n",
    "\n",
    "\n",
    "UDPRS2_rs['time_since_first']=(UDPRS2_rs['Date of assessment']-UDPRS2_rs['first_date_assessment']).dt.days\n",
    "\n",
    "UDPRS2_rs['Age_Diagnosis']=(pd.to_datetime(UDPRS2_rs['Date Diagnosed'])-\n",
    "                                pd.to_datetime(UDPRS2_rs['Birth_date'])).dt.days/365.25\n",
    "\n",
    "UDPRS2_rs['Disease_Progression']=UDPRS2_rs['UDPRS_Tot']/UDPRS2_rs['Disease_Duration']\n",
    "\n"
   ]
  },
  {
   "cell_type": "code",
   "execution_count": 15,
   "metadata": {
    "ExecuteTime": {
     "end_time": "2021-02-04T03:56:11.515336Z",
     "start_time": "2021-02-04T03:56:11.452742Z"
    }
   },
   "outputs": [
    {
     "name": "stderr",
     "output_type": "stream",
     "text": [
      "/opt/conda/lib/python3.7/site-packages/ipykernel_launcher.py:13: SettingWithCopyWarning: \n",
      "A value is trying to be set on a copy of a slice from a DataFrame\n",
      "\n",
      "See the caveats in the documentation: http://pandas.pydata.org/pandas-docs/stable/user_guide/indexing.html#returning-a-view-versus-a-copy\n",
      "  del sys.path[0]\n"
     ]
    }
   ],
   "source": [
    "UDPRS2_rs['Date of assessment']=pd.to_datetime(UDPRS2_rs['Date of assessment']).dt.date.astype(str)\n",
    "cog1_rs['Date of assessment']=pd.to_datetime(cog1_rs['Date/time']).dt.date.astype(str)\n",
    "MOCA_rs['Date of assessment']=pd.to_datetime(MOCA_rs['Date/time']).dt.date.astype(str)\n",
    "PDQ39_rs['Date of assessment']=pd.to_datetime(PDQ39_rs['Date/time']).dt.date.astype(str)\n",
    "RBDQ_rs['Date of assessment']=pd.to_datetime(RBDQ_rs['Date']).dt.date.astype(str)\n",
    "ESS_rs['Date of assessment']=pd.to_datetime(ESS_rs['Date ESS']).dt.date.astype(str)\n",
    "\n",
    "PSYCHQ_rs['Date of assessment']=pd.to_datetime(PSYCHQ_rs['Date of assessment']).dt.date.astype(str)\n",
    "BDI_rs['Date of assessment']=pd.to_datetime(BDI_rs['Date/time']).dt.date.astype(str)\n",
    "\n",
    "mask_nodata=(FOGQ_rs['Date FOGQ']==\"No Data\")\n",
    "FOGQ_rs['Date of assessment']=''\n",
    "FOGQ_rs['Date of assessment'][~mask_nodata]=pd.to_datetime(FOGQ_rs['Date FOGQ'][~mask_nodata]).dt.date.astype(str)\n",
    "\n",
    "SCOPAS_rs['Date of assessment']=pd.to_datetime(SCOPAS_rs['Date/time']).dt.date.astype(str)"
   ]
  },
  {
   "cell_type": "code",
   "execution_count": 16,
   "metadata": {
    "ExecuteTime": {
     "end_time": "2021-02-04T03:56:12.381701Z",
     "start_time": "2021-02-04T03:56:12.374071Z"
    }
   },
   "outputs": [],
   "source": [
    "#rename columns\n",
    "\n",
    "def renamecols(df,prefix):\n",
    "    for col in df.columns:\n",
    "        if col not in ('SYDID','Date of assessment'):\n",
    "            df.rename(columns={col:prefix+col},inplace=True)\n",
    "    return df"
   ]
  },
  {
   "cell_type": "code",
   "execution_count": 17,
   "metadata": {
    "ExecuteTime": {
     "end_time": "2021-02-04T03:56:13.439934Z",
     "start_time": "2021-02-04T03:56:13.097608Z"
    }
   },
   "outputs": [],
   "source": [
    "UDPRS_rename=renamecols(UDPRS2_rs,'udprs_')\n",
    "cog1_rename=renamecols(cog1_rs,'cog1_')\n",
    "MOCA_rename=renamecols(MOCA_rs,'moca_')\n",
    "PDQ39_rename=renamecols(PDQ39_rs,'PDQ_')\n",
    "RBDQ_rename=renamecols(RBDQ_rs,'RBDQ_')\n",
    "ESS_rename=renamecols(ESS_rs,'ESS_')\n",
    "FOGQ_rename=renamecols(FOGQ_rs,'FOGQ_')\n",
    "\n",
    "PSYCHQ_rs_rename=renamecols(PSYCHQ_rs,'PSY_')\n",
    "BDI_rs_rename=renamecols(BDI_rs,'BDI_')\n",
    "\n",
    "SCOPAS_rs_rename=renamecols(SCOPAS_rs,'SCOPA_')\n"
   ]
  },
  {
   "cell_type": "markdown",
   "metadata": {},
   "source": [
    "### Merging of key datasets"
   ]
  },
  {
   "cell_type": "code",
   "execution_count": 18,
   "metadata": {
    "ExecuteTime": {
     "end_time": "2021-02-04T03:56:14.720989Z",
     "start_time": "2021-02-04T03:56:14.454627Z"
    }
   },
   "outputs": [],
   "source": [
    "dfs_list = [UDPRS_rename, cog1_rename, MOCA_rename,PDQ39_rename,RBDQ_rename,ESS_rename,FOGQ_rename,PSYCHQ_rs_rename,\n",
    "           BDI_rs_rename,SCOPAS_rs_rename]\n",
    "PDcombined = reduce(lambda  left,right: pd.merge(left,right,on=['SYDID','Date of assessment'],\n",
    "                                            how='outer'), dfs_list)\n"
   ]
  },
  {
   "cell_type": "markdown",
   "metadata": {},
   "source": [
    "### Filtering"
   ]
  },
  {
   "cell_type": "code",
   "execution_count": 19,
   "metadata": {
    "ExecuteTime": {
     "end_time": "2021-02-04T03:56:15.908791Z",
     "start_time": "2021-02-04T03:56:15.877181Z"
    }
   },
   "outputs": [
    {
     "data": {
      "text/plain": [
       "234"
      ]
     },
     "execution_count": 19,
     "metadata": {},
     "output_type": "execute_result"
    }
   ],
   "source": [
    "RULE_IPD=(PDcombined['udprs_Princ_Diag']==\"Idiopathic Parkinsons Disease\")\n",
    "RULE_PDQ39=pd.notnull(PDcombined[\"PDQ_total PDQ-39\"])&(PDcombined['PDQ_total PDQ-39']!=999)\n",
    "RULE_DDIAG=(PDcombined['udprs_Date Diagnosed']!=\"Missing\")\n",
    "\n",
    "mask=RULE_IPD&RULE_DDIAG\n",
    "\n",
    "\n",
    "PDcombined=PDcombined[mask]\n",
    "\n",
    "PDcombined['SYDID'].nunique()"
   ]
  },
  {
   "cell_type": "markdown",
   "metadata": {},
   "source": [
    "### Analysis of trends over time to get coefficients for each patient and intercepts"
   ]
  },
  {
   "cell_type": "code",
   "execution_count": 20,
   "metadata": {
    "ExecuteTime": {
     "end_time": "2021-02-04T03:56:17.489765Z",
     "start_time": "2021-02-04T03:56:17.446496Z"
    }
   },
   "outputs": [],
   "source": [
    "from sklearn import linear_model\n",
    "regr = linear_model.LinearRegression()\n",
    "\n",
    "vars_grad=['udprs_tremor','udprs_non_tremor','udprs_UDPRS_Tot','udprs_Section I Total', 'udprs_Section II Total',\n",
    "           'udprs_Section III Total','cog1_MMSE result', 'moca_MoCA Total','PDQ_total PDQ-39',\n",
    "           'udprs_DDE', 'RBDQ_Total REMSBD']\n",
    "\n",
    "vars_grad_cutoff=[5,5,500,50,50,50,100,100,100,2000,20]\n",
    "\n",
    "varnames_grad=[var.replace(\" \", \"\") for var in vars_grad]\n",
    "\n",
    "#udprs_cog_nn=udprs_cog[pd.notnull(udprs_cog['MMSE result'])&pd.notnull(udprs_cog['time_diff'])]\n",
    "def filter_outliers(df,cutvars=vars_grad,cutvals=vars_grad_cutoff):\n",
    "    for i,var in enumerate(cutvars):\n",
    "        df=df[df[var]<cutvals[i]]\n",
    "    return df\n",
    "\n",
    "def pctchange_diff(df,cutvars=vars_grad):\n",
    "    cutvars_names=[var.replace(\" \", \"\") for var in cutvars]\n",
    "    for i,var in enumerate(cutvars):\n",
    "        df['pct_chg'+cutvars_names[i]]=(df.groupby('SYDID')[cutvars[i]]\n",
    "                                      .apply(pd.Series.pct_change))\n",
    "        df['chg_'+cutvars_names[i]]=(df.groupby('SYDID')[cutvars[i]]\n",
    "                                      .diff())\n",
    "    return df  \n",
    "\n",
    "def gradvar(df,var,timevar):\n",
    "    mask=pd.notnull(df[var])&(df[var]!=999)&pd.notnull(df[timevar])\n",
    "    df=df[mask]\n",
    "    X = np.asarray(df[timevar]).reshape(-1, 1)\n",
    "    y = np.asarray(df[var]).reshape(-1, 1)\n",
    "    return np.squeeze(regr.fit(X, y).intercept_),np.squeeze(regr.fit(X, y).coef_)\n",
    "\n",
    "def gradvarfull(df,var,varname,timevar,verbose: Optional[bool]=DEBUG):\n",
    "    cts=pd.DataFrame(df.groupby('SYDID')['Date of assessment'].agg({'Date of assessment':[min,max],\n",
    "                                                                   'SYDID':['count']})).reset_index()\n",
    "    cts.columns=['SYDID','min_date','max_date','counts']\n",
    "    \n",
    "    if verbose:\n",
    "        print('num patients '+str(df['SYDID'][(df[var]>0)].nunique()))\n",
    "    \n",
    "    df=df.sort_values(by=['SYDID','Date of assessment'],ascending=True)\n",
    "    df=pd.DataFrame(df[(df[var]>0)].groupby('SYDID').apply(gradvar,var,timevar)).reset_index()\n",
    "    df.columns=['SYDID','coefs']\n",
    "    \n",
    "    df=pd.merge(df,cts,on='SYDID',how='left')\n",
    "    \n",
    "    \n",
    "    df['var']=var\n",
    "    df['intercept']=[x[0] for x in df['coefs']]\n",
    "    df['coef']=[x[1] for x in df['coefs']]\n",
    "    df['coef']=df['coef']*365\n",
    "    #df= df[(df['coef']<5)&(df['coef']>-10)&(df['coef']!=0)]\n",
    "    \n",
    "    if verbose:\n",
    "        print(df.shape[0])\n",
    "        df['coef'].hist(bins=50)  \n",
    "    df=df[['SYDID','intercept','coef','min_date','max_date','counts']]\n",
    "\n",
    "    df.columns=np.append('SYDID',[varname+\"_\"+col for col in df.columns if 'SYDID' not in col])\n",
    "    if verbose:\n",
    "        print('mean points per year '+\"{:.2f}\".format(df['coef'].mean()))\n",
    "        print('lq points per year '+\"{:.2f}\".format(df['coef'].quantile(0.25)))\n",
    "        print('med points per year '+\"{:.2f}\".format(df['coef'].quantile(0.5)))\n",
    "        print('uq points per year '+\"{:.2f}\".format(df['coef'].quantile(0.75)))         \n",
    "    return df\n",
    "\n",
    "# determine the patient level intercept and slope for key variables\n",
    "\n",
    "'''\n",
    "We would expect MMSE to decrease over time as PD symptoms worsen\n",
    "We would expect UDPRS to increase over time\n",
    "We would expect MoCA to decrease over time\n",
    "'''\n",
    "\n",
    "def determine_susp(df,var,cutoff,dir=1):\n",
    "    if dir==1:\n",
    "        mask_var=(df[var]>cutoff)\n",
    "    else:\n",
    "        mask_var=(df[var]<cutoff)\n",
    "     \n",
    "    var_suspect=df[mask_var]['SYDID'].unique()\n",
    "    mask_var2=(df['SYDID'].isin(var_suspect))\n",
    "    df[var+'suspect']=0\n",
    "    df[var+'suspect'][mask_var2]=1\n",
    "    return df\n",
    "\n",
    "def minmax_changes(df,cutvars=varnames_grad):\n",
    "    vars1=['chg_'+ var for var in cutvars]\n",
    "    vars2=np.asarray([])\n",
    "    for var in cutvars:  \n",
    "        vars3=['chg_max'+ var,'chg_min'+ var] \n",
    "        vars2=np.append(vars2,vars3)\n",
    "\n",
    "    vars4=np.append('SYDID',vars2)\n",
    "    df1=pd.DataFrame(df.groupby(['SYDID'])[vars1].agg({'min','max'})).reset_index()\n",
    "    df1.columns=vars4\n",
    "    df=pd.merge(df,df1,on='SYDID',how='left')\n",
    "    return df"
   ]
  },
  {
   "cell_type": "code",
   "execution_count": 21,
   "metadata": {
    "ExecuteTime": {
     "end_time": "2021-02-04T03:56:18.223350Z",
     "start_time": "2021-02-04T03:56:18.189894Z"
    }
   },
   "outputs": [],
   "source": [
    "PDcombined=filter_outliers(PDcombined) "
   ]
  },
  {
   "cell_type": "code",
   "execution_count": 22,
   "metadata": {
    "ExecuteTime": {
     "end_time": "2021-02-04T03:56:27.731547Z",
     "start_time": "2021-02-04T03:56:18.921838Z"
    }
   },
   "outputs": [
    {
     "name": "stderr",
     "output_type": "stream",
     "text": [
      "/opt/conda/lib/python3.7/site-packages/ipykernel_launcher.py:36: FutureWarning: using a dict on a Series for aggregation\n",
      "is deprecated and will be removed in a future version. Use                 named aggregation instead.\n",
      "\n",
      "    >>> grouper.agg(name_1=func_1, name_2=func_2)\n",
      "\n",
      "/opt/conda/lib/python3.7/site-packages/ipykernel_launcher.py:36: FutureWarning: using a dict on a Series for aggregation\n",
      "is deprecated and will be removed in a future version. Use                 named aggregation instead.\n",
      "\n",
      "    >>> grouper.agg(name_1=func_1, name_2=func_2)\n",
      "\n",
      "/opt/conda/lib/python3.7/site-packages/ipykernel_launcher.py:36: FutureWarning: using a dict on a Series for aggregation\n",
      "is deprecated and will be removed in a future version. Use                 named aggregation instead.\n",
      "\n",
      "    >>> grouper.agg(name_1=func_1, name_2=func_2)\n",
      "\n",
      "/opt/conda/lib/python3.7/site-packages/ipykernel_launcher.py:36: FutureWarning: using a dict on a Series for aggregation\n",
      "is deprecated and will be removed in a future version. Use                 named aggregation instead.\n",
      "\n",
      "    >>> grouper.agg(name_1=func_1, name_2=func_2)\n",
      "\n",
      "/opt/conda/lib/python3.7/site-packages/ipykernel_launcher.py:36: FutureWarning: using a dict on a Series for aggregation\n",
      "is deprecated and will be removed in a future version. Use                 named aggregation instead.\n",
      "\n",
      "    >>> grouper.agg(name_1=func_1, name_2=func_2)\n",
      "\n",
      "/opt/conda/lib/python3.7/site-packages/ipykernel_launcher.py:36: FutureWarning: using a dict on a Series for aggregation\n",
      "is deprecated and will be removed in a future version. Use                 named aggregation instead.\n",
      "\n",
      "    >>> grouper.agg(name_1=func_1, name_2=func_2)\n",
      "\n",
      "/opt/conda/lib/python3.7/site-packages/ipykernel_launcher.py:36: FutureWarning: using a dict on a Series for aggregation\n",
      "is deprecated and will be removed in a future version. Use                 named aggregation instead.\n",
      "\n",
      "    >>> grouper.agg(name_1=func_1, name_2=func_2)\n",
      "\n",
      "/opt/conda/lib/python3.7/site-packages/ipykernel_launcher.py:36: FutureWarning: using a dict on a Series for aggregation\n",
      "is deprecated and will be removed in a future version. Use                 named aggregation instead.\n",
      "\n",
      "    >>> grouper.agg(name_1=func_1, name_2=func_2)\n",
      "\n",
      "/opt/conda/lib/python3.7/site-packages/ipykernel_launcher.py:36: FutureWarning: using a dict on a Series for aggregation\n",
      "is deprecated and will be removed in a future version. Use                 named aggregation instead.\n",
      "\n",
      "    >>> grouper.agg(name_1=func_1, name_2=func_2)\n",
      "\n",
      "/opt/conda/lib/python3.7/site-packages/ipykernel_launcher.py:36: FutureWarning: using a dict on a Series for aggregation\n",
      "is deprecated and will be removed in a future version. Use                 named aggregation instead.\n",
      "\n",
      "    >>> grouper.agg(name_1=func_1, name_2=func_2)\n",
      "\n",
      "/opt/conda/lib/python3.7/site-packages/ipykernel_launcher.py:36: FutureWarning: using a dict on a Series for aggregation\n",
      "is deprecated and will be removed in a future version. Use                 named aggregation instead.\n",
      "\n",
      "    >>> grouper.agg(name_1=func_1, name_2=func_2)\n",
      "\n",
      "/opt/conda/lib/python3.7/site-packages/ipykernel_launcher.py:85: SettingWithCopyWarning: \n",
      "A value is trying to be set on a copy of a slice from a DataFrame\n",
      "\n",
      "See the caveats in the documentation: http://pandas.pydata.org/pandas-docs/stable/user_guide/indexing.html#returning-a-view-versus-a-copy\n"
     ]
    }
   ],
   "source": [
    "PDcombined=pctchange_diff(PDcombined)\n",
    "\n",
    "\n",
    "for i,var in enumerate(vars_grad):\n",
    "    df=gradvarfull(PDcombined,var,varnames_grad[i],'udprs_Disease_Duration')\n",
    "    PDcombined=pd.merge(PDcombined,df,on='SYDID',how='left')\n",
    "\n",
    "    \n",
    "PDcombined=determine_susp(PDcombined,'chg_moca_MoCATotal',5)\n",
    "PDcombined=determine_susp(PDcombined,'chg_cog1_MMSEresult',5)\n",
    "PDcombined=determine_susp(PDcombined,'chg_udprs_UDPRS_Tot',-5,dir=0)\n",
    "\n",
    "PDcombined=minmax_changes(PDcombined)\n",
    "\n",
    "PDcombined=PDcombined.sort_values(by=['SYDID','Date of assessment'],ascending=True)\n",
    "PDcombined['time_point']=PDcombined.groupby('SYDID').cumcount()\n",
    "\n",
    "PDcombined.to_csv('%s%s' % (outdata,'PDcombined.csv'))\n"
   ]
  },
  {
   "cell_type": "markdown",
   "metadata": {},
   "source": [
    "#### Variables from MCI Paper"
   ]
  },
  {
   "cell_type": "code",
   "execution_count": 23,
   "metadata": {
    "ExecuteTime": {
     "end_time": "2021-02-04T03:56:27.737225Z",
     "start_time": "2021-02-04T03:56:27.733689Z"
    }
   },
   "outputs": [],
   "source": [
    "def z_score(col):\n",
    "    x = (col - col.mean())/col.std(ddof=0)\n",
    "    return  x"
   ]
  },
  {
   "cell_type": "markdown",
   "metadata": {},
   "source": [
    "Variables included in the cluster analysis comprised standardized values for\n",
    "motor phenotype score, age of disease onset, rate of disease progression,\n",
    "revised National Adult Reading Test, Mini-Mental State Examination,\n",
    "Logical Memory II, Trail Making Test B, Beck Depression Inventory-II and\n",
    "dopaminergic therapy. These variables were selected from a broad range\n",
    "of phenotypic features that have been highlighted in previous studies as\n",
    "being significant in disease heterogeneity.6,7\n",
    "\n",
    "Rate of disease progression was derived from dividing the total MDS-\n",
    "UPDRS score for sections I–III by the disease duration (years), in order to\n",
    "\n",
    "allow comparison between patients with differing disease durations\n",
    "assessed at only a single time point.6 We also compared tremor and\n",
    "non-tremor symptoms with the motor phenotype score.6 The score was\n",
    "obtained by dividing a patients’ tremor score by their non-tremor score.\n",
    "Aligning with the approach used in previous research, only items with the\n",
    "higher lateralized score (left or right) were selected. The tremor score\n",
    "represents the severity of subjective tremor and objective tremor at rest\n",
    "and during movements. This score consisted of the mean of items 23, 54 or\n",
    "55 (depending on the highest lateralized score), and 59. The non-tremor\n",
    "score assesses speech, facial expression, swallowing, ability to turn in bed,\n",
    "postural stability, walking and posture, rigidity, and global spontaneity of\n",
    "movement. This score was derived from the mean of items 28–44 (only\n",
    "items with the highest lateralized score) of the MDS-UPDRS. Impairment on\n",
    "the Trail Making Test B and Logical Memory II was defined as 1.5 s.d. below\n",
    "normative data. In keeping with previous work, dopaminergic therapy was\n",
    "calculated as an ordinal variable"
   ]
  },
  {
   "cell_type": "code",
   "execution_count": 1382,
   "metadata": {
    "ExecuteTime": {
     "end_time": "2021-01-22T05:35:52.149720Z",
     "start_time": "2021-01-22T05:35:52.111827Z"
    }
   },
   "outputs": [
    {
     "name": "stderr",
     "output_type": "stream",
     "text": [
      "/opt/conda/lib/python3.7/site-packages/ipykernel_launcher.py:5: SettingWithCopyWarning: \n",
      "A value is trying to be set on a copy of a slice from a DataFrame\n",
      "\n",
      "See the caveats in the documentation: http://pandas.pydata.org/pandas-docs/stable/user_guide/indexing.html#returning-a-view-versus-a-copy\n",
      "  \"\"\"\n",
      "/opt/conda/lib/python3.7/site-packages/ipykernel_launcher.py:10: SettingWithCopyWarning: \n",
      "A value is trying to be set on a copy of a slice from a DataFrame\n",
      "\n",
      "See the caveats in the documentation: http://pandas.pydata.org/pandas-docs/stable/user_guide/indexing.html#returning-a-view-versus-a-copy\n",
      "  # Remove the CWD from sys.path while we load stuff.\n",
      "/opt/conda/lib/python3.7/site-packages/ipykernel_launcher.py:11: SettingWithCopyWarning: \n",
      "A value is trying to be set on a copy of a slice from a DataFrame\n",
      "\n",
      "See the caveats in the documentation: http://pandas.pydata.org/pandas-docs/stable/user_guide/indexing.html#returning-a-view-versus-a-copy\n",
      "  # This is added back by InteractiveShellApp.init_path()\n",
      "/opt/conda/lib/python3.7/site-packages/ipykernel_launcher.py:16: SettingWithCopyWarning: \n",
      "A value is trying to be set on a copy of a slice from a DataFrame\n",
      "\n",
      "See the caveats in the documentation: http://pandas.pydata.org/pandas-docs/stable/user_guide/indexing.html#returning-a-view-versus-a-copy\n",
      "  app.launch_new_instance()\n",
      "/opt/conda/lib/python3.7/site-packages/ipykernel_launcher.py:20: SettingWithCopyWarning: \n",
      "A value is trying to be set on a copy of a slice from a DataFrame\n",
      "\n",
      "See the caveats in the documentation: http://pandas.pydata.org/pandas-docs/stable/user_guide/indexing.html#returning-a-view-versus-a-copy\n"
     ]
    }
   ],
   "source": [
    "logmem2cutoff=PDcombined['cog1_Logical Memory II'].mean()+PDcombined['cog1_Logical Memory II'].std()*1.5\n",
    "masklm2=(PDcombined['cog1_Logical Memory II']<logmem2cutoff)\n",
    "\n",
    "PDcombined['Lm2_cut']=0\n",
    "PDcombined['Lm2_cut'][(masklm2)]=1\n",
    "\n",
    "mask0=(PDcombined['udprs_DDE']>0)\n",
    "masklt1000=(PDcombined['udprs_DDE']<1000)\n",
    "PDcombined['DDE_norm']=0\n",
    "PDcombined['DDE_norm'][mask0&masklt1000]=1\n",
    "PDcombined['DDE_norm'][mask0&~masklt1000]=2\n",
    "\n",
    "\n",
    "maskbdi=(PDcombined['BDI_BDI Total']>13)\n",
    "PDcombined['BDI_norm']=0\n",
    "PDcombined['BDI_norm'][maskbdi]=1\n",
    "\n",
    "maskess=(PDcombined['ESS_ESS Total']>10)\n",
    "PDcombined['ESS_norm']=0\n",
    "PDcombined['ESS_norm'][maskess]=1\n"
   ]
  },
  {
   "cell_type": "code",
   "execution_count": 1383,
   "metadata": {
    "ExecuteTime": {
     "end_time": "2021-01-22T05:35:56.670487Z",
     "start_time": "2021-01-22T05:35:56.664550Z"
    }
   },
   "outputs": [],
   "source": [
    "varsnormalise=['udprs_Disease_Progression','udprs_Age_Diagnosis','cog1_MMSE result',\\\n",
    "'udprs_non_tremor','udprs_tremor','udprs_tremor_ratio','cog1_NART','BDI_BDI Total']\n",
    "\n",
    "nonnormvars=['cog1_Trails A Z score','Lm2_cut','ESS_norm','FOGQ_FOGQ 3','DDE_norm']"
   ]
  },
  {
   "cell_type": "code",
   "execution_count": 1384,
   "metadata": {
    "ExecuteTime": {
     "end_time": "2021-01-22T05:35:57.317386Z",
     "start_time": "2021-01-22T05:35:57.304220Z"
    }
   },
   "outputs": [
    {
     "name": "stderr",
     "output_type": "stream",
     "text": [
      "/opt/conda/lib/python3.7/site-packages/ipykernel_launcher.py:3: SettingWithCopyWarning: \n",
      "A value is trying to be set on a copy of a slice from a DataFrame\n",
      "\n",
      "See the caveats in the documentation: http://pandas.pydata.org/pandas-docs/stable/user_guide/indexing.html#returning-a-view-versus-a-copy\n",
      "  This is separate from the ipykernel package so we can avoid doing imports until\n"
     ]
    }
   ],
   "source": [
    "mask_ratio=((PDcombined['udprs_tremor_ratio']==np.inf))\n",
    "\n",
    "PDcombined['udprs_tremor_ratio'][mask_ratio]=PDcombined['udprs_tremor_ratio'][~mask_ratio].mean()"
   ]
  },
  {
   "cell_type": "code",
   "execution_count": 1385,
   "metadata": {
    "ExecuteTime": {
     "end_time": "2021-01-22T05:35:58.925718Z",
     "start_time": "2021-01-22T05:35:58.879005Z"
    }
   },
   "outputs": [
    {
     "name": "stderr",
     "output_type": "stream",
     "text": [
      "/opt/conda/lib/python3.7/site-packages/ipykernel_launcher.py:3: SettingWithCopyWarning: \n",
      "A value is trying to be set on a copy of a slice from a DataFrame\n",
      "\n",
      "See the caveats in the documentation: http://pandas.pydata.org/pandas-docs/stable/user_guide/indexing.html#returning-a-view-versus-a-copy\n",
      "  This is separate from the ipykernel package so we can avoid doing imports until\n"
     ]
    }
   ],
   "source": [
    "for col in varsnormalise:\n",
    "    nullmask=(PDcombined[col].isna())\n",
    "    PDcombined[col][nullmask]=PDcombined[col][~nullmask].mean()\n",
    "    PDcombined[col+'_z_score']=z_score(PDcombined[col])\n",
    "vars_z=[var +'_z_score' for var in varsnormalise ]\n",
    "varscluster=np.append(['SYDID','Date of assessment'],nonnormvars)\n",
    "varscluster=np.append(varscluster,vars_z)"
   ]
  },
  {
   "cell_type": "code",
   "execution_count": 1386,
   "metadata": {
    "ExecuteTime": {
     "end_time": "2021-01-22T05:35:59.810648Z",
     "start_time": "2021-01-22T05:35:59.801024Z"
    }
   },
   "outputs": [],
   "source": []
  },
  {
   "cell_type": "code",
   "execution_count": 1387,
   "metadata": {
    "ExecuteTime": {
     "end_time": "2021-01-22T05:36:01.179695Z",
     "start_time": "2021-01-22T05:36:01.136040Z"
    }
   },
   "outputs": [],
   "source": [
    "PDcombined['max_date']=PDcombined.groupby('SYDID')['Date of assessment'].transform(max)\n"
   ]
  },
  {
   "cell_type": "code",
   "execution_count": 1403,
   "metadata": {
    "ExecuteTime": {
     "end_time": "2021-01-22T06:11:02.305395Z",
     "start_time": "2021-01-22T06:11:02.091433Z"
    }
   },
   "outputs": [],
   "source": []
  },
  {
   "cell_type": "code",
   "execution_count": null,
   "metadata": {},
   "outputs": [],
   "source": [
    "mask_date_max=(PDcombined['max_date']==PDcombined['Date of assessment'])\n",
    "PDcombined_sub=PDcombined[mask_date_max]"
   ]
  },
  {
   "cell_type": "code",
   "execution_count": 1388,
   "metadata": {
    "ExecuteTime": {
     "end_time": "2021-01-22T05:36:02.877335Z",
     "start_time": "2021-01-22T05:36:02.825651Z"
    }
   },
   "outputs": [],
   "source": [
    "othcols=[col for col in PDcombined.columns if (PDcombined[col].dtype!='object'\\\n",
    "and col not in varscluster) or col in ['SYDID','Date of assessment','udprs_Disease_Progression',\\\n",
    "'udprs_Age_Diagnosis']]"
   ]
  },
  {
   "cell_type": "code",
   "execution_count": 1389,
   "metadata": {
    "ExecuteTime": {
     "end_time": "2021-01-22T05:36:03.442394Z",
     "start_time": "2021-01-22T05:36:03.431992Z"
    }
   },
   "outputs": [],
   "source": [
    "PDcluster_alt=PDcombined_sub[othcols]\n",
    "PDcluster=PDcombined_sub[varscluster]"
   ]
  },
  {
   "cell_type": "code",
   "execution_count": 1390,
   "metadata": {
    "ExecuteTime": {
     "end_time": "2021-01-22T05:36:04.512754Z",
     "start_time": "2021-01-22T05:36:04.504259Z"
    }
   },
   "outputs": [],
   "source": []
  },
  {
   "cell_type": "code",
   "execution_count": 1392,
   "metadata": {
    "ExecuteTime": {
     "end_time": "2021-01-22T05:36:10.334808Z",
     "start_time": "2021-01-22T05:36:10.308970Z"
    }
   },
   "outputs": [],
   "source": [
    "for var in PDcluster.columns:\n",
    "    PDcluster=PDcluster[(PDcluster[var]!=999)]"
   ]
  },
  {
   "cell_type": "code",
   "execution_count": 1393,
   "metadata": {
    "ExecuteTime": {
     "end_time": "2021-01-22T05:36:11.226120Z",
     "start_time": "2021-01-22T05:36:11.213166Z"
    }
   },
   "outputs": [],
   "source": [
    "def takeonlyx_sd(df=PDcluster,x=5):\n",
    "\n",
    "    for var in df.columns:\n",
    "        if re.search('float|int',str(df[var].dtype)):\n",
    "            maxvar=df[var].mean()+df[var].std()*5\n",
    "            minvar=df[var].mean()-df[var].std()*5\n",
    "            mask_rng=(df[var].between(minvar,maxvar))\n",
    "            df[var][~mask_rng]=df[var][mask_rng].mean()\n",
    "           # print(df[var].max())\n",
    "           # print(df.shape)\n",
    "    return df\n",
    "    #PDcluster=PDcluster[(PDcluster[var]!=999)]"
   ]
  },
  {
   "cell_type": "code",
   "execution_count": 1394,
   "metadata": {
    "ExecuteTime": {
     "end_time": "2021-01-22T05:36:13.999950Z",
     "start_time": "2021-01-22T05:36:12.262690Z"
    }
   },
   "outputs": [
    {
     "name": "stderr",
     "output_type": "stream",
     "text": [
      "/opt/conda/lib/python3.7/site-packages/ipykernel_launcher.py:8: SettingWithCopyWarning: \n",
      "A value is trying to be set on a copy of a slice from a DataFrame\n",
      "\n",
      "See the caveats in the documentation: http://pandas.pydata.org/pandas-docs/stable/user_guide/indexing.html#returning-a-view-versus-a-copy\n",
      "  \n",
      "/opt/conda/lib/python3.7/site-packages/pandas/core/generic.py:9114: SettingWithCopyWarning: \n",
      "A value is trying to be set on a copy of a slice from a DataFrame\n",
      "\n",
      "See the caveats in the documentation: http://pandas.pydata.org/pandas-docs/stable/user_guide/indexing.html#returning-a-view-versus-a-copy\n",
      "  self._update_inplace(new_data)\n",
      "/opt/conda/lib/python3.7/site-packages/ipykernel_launcher.py:1: SettingWithCopyWarning: \n",
      "A value is trying to be set on a copy of a slice from a DataFrame\n",
      "\n",
      "See the caveats in the documentation: http://pandas.pydata.org/pandas-docs/stable/user_guide/indexing.html#returning-a-view-versus-a-copy\n",
      "  \"\"\"Entry point for launching an IPython kernel.\n",
      "/opt/conda/lib/python3.7/site-packages/pandas/core/generic.py:9114: SettingWithCopyWarning: \n",
      "A value is trying to be set on a copy of a slice from a DataFrame\n",
      "\n",
      "See the caveats in the documentation: http://pandas.pydata.org/pandas-docs/stable/user_guide/indexing.html#returning-a-view-versus-a-copy\n",
      "  self._update_inplace(new_data)\n",
      "/opt/conda/lib/python3.7/site-packages/ipykernel_launcher.py:1: SettingWithCopyWarning: \n",
      "A value is trying to be set on a copy of a slice from a DataFrame\n",
      "\n",
      "See the caveats in the documentation: http://pandas.pydata.org/pandas-docs/stable/user_guide/indexing.html#returning-a-view-versus-a-copy\n",
      "  \"\"\"Entry point for launching an IPython kernel.\n",
      "/opt/conda/lib/python3.7/site-packages/ipykernel_launcher.py:8: SettingWithCopyWarning: \n",
      "A value is trying to be set on a copy of a slice from a DataFrame\n",
      "\n",
      "See the caveats in the documentation: http://pandas.pydata.org/pandas-docs/stable/user_guide/indexing.html#returning-a-view-versus-a-copy\n",
      "  \n",
      "/opt/conda/lib/python3.7/site-packages/pandas/core/generic.py:9114: SettingWithCopyWarning: \n",
      "A value is trying to be set on a copy of a slice from a DataFrame\n",
      "\n",
      "See the caveats in the documentation: http://pandas.pydata.org/pandas-docs/stable/user_guide/indexing.html#returning-a-view-versus-a-copy\n",
      "  self._update_inplace(new_data)\n",
      "/opt/conda/lib/python3.7/site-packages/ipykernel_launcher.py:1: SettingWithCopyWarning: \n",
      "A value is trying to be set on a copy of a slice from a DataFrame\n",
      "\n",
      "See the caveats in the documentation: http://pandas.pydata.org/pandas-docs/stable/user_guide/indexing.html#returning-a-view-versus-a-copy\n",
      "  \"\"\"Entry point for launching an IPython kernel.\n",
      "/opt/conda/lib/python3.7/site-packages/ipykernel_launcher.py:8: SettingWithCopyWarning: \n",
      "A value is trying to be set on a copy of a slice from a DataFrame\n",
      "\n",
      "See the caveats in the documentation: http://pandas.pydata.org/pandas-docs/stable/user_guide/indexing.html#returning-a-view-versus-a-copy\n",
      "  \n"
     ]
    },
    {
     "data": {
      "text/html": [
       "<div>\n",
       "<style scoped>\n",
       "    .dataframe tbody tr th:only-of-type {\n",
       "        vertical-align: middle;\n",
       "    }\n",
       "\n",
       "    .dataframe tbody tr th {\n",
       "        vertical-align: top;\n",
       "    }\n",
       "\n",
       "    .dataframe thead th {\n",
       "        text-align: right;\n",
       "    }\n",
       "</style>\n",
       "<table border=\"1\" class=\"dataframe\">\n",
       "  <thead>\n",
       "    <tr style=\"text-align: right;\">\n",
       "      <th></th>\n",
       "      <th>udprs_1 Cognitive impairment</th>\n",
       "      <th>udprs_10 Urinary problems</th>\n",
       "      <th>udprs_11 Constipation problems</th>\n",
       "      <th>udprs_12 Light headedness on standing</th>\n",
       "      <th>udprs_13 Fatigue</th>\n",
       "      <th>udprs_14 ADL Speech</th>\n",
       "      <th>udprs_15 ADL Saliva and drooling</th>\n",
       "      <th>udprs_16 ADL Chewing and swallowing</th>\n",
       "      <th>udprs_17 ADL Eating tasks</th>\n",
       "      <th>udprs_18 ADL Dressing</th>\n",
       "      <th>...</th>\n",
       "      <th>chg_maxmoca_MoCATotal</th>\n",
       "      <th>chg_minmoca_MoCATotal</th>\n",
       "      <th>chg_maxPDQ_totalPDQ-39</th>\n",
       "      <th>chg_minPDQ_totalPDQ-39</th>\n",
       "      <th>chg_maxudprs_DDE</th>\n",
       "      <th>chg_minudprs_DDE</th>\n",
       "      <th>chg_maxRBDQ_TotalREMSBD</th>\n",
       "      <th>chg_minRBDQ_TotalREMSBD</th>\n",
       "      <th>time_point</th>\n",
       "      <th>BDI_norm</th>\n",
       "    </tr>\n",
       "  </thead>\n",
       "  <tbody>\n",
       "    <tr>\n",
       "      <th>73</th>\n",
       "      <td>2.0</td>\n",
       "      <td>1.0</td>\n",
       "      <td>1.0</td>\n",
       "      <td>1.0</td>\n",
       "      <td>2.0</td>\n",
       "      <td>1.0</td>\n",
       "      <td>0.0</td>\n",
       "      <td>1.0</td>\n",
       "      <td>1.0</td>\n",
       "      <td>1.0</td>\n",
       "      <td>...</td>\n",
       "      <td>1.55102</td>\n",
       "      <td>-0.877551</td>\n",
       "      <td>7.336735</td>\n",
       "      <td>-2.193878</td>\n",
       "      <td>113.632653</td>\n",
       "      <td>48.103093</td>\n",
       "      <td>0.5</td>\n",
       "      <td>-0.867347</td>\n",
       "      <td>0.0</td>\n",
       "      <td>0</td>\n",
       "    </tr>\n",
       "    <tr>\n",
       "      <th>74</th>\n",
       "      <td>2.0</td>\n",
       "      <td>2.0</td>\n",
       "      <td>2.0</td>\n",
       "      <td>2.0</td>\n",
       "      <td>1.0</td>\n",
       "      <td>2.0</td>\n",
       "      <td>3.0</td>\n",
       "      <td>1.0</td>\n",
       "      <td>3.0</td>\n",
       "      <td>1.0</td>\n",
       "      <td>...</td>\n",
       "      <td>1.55102</td>\n",
       "      <td>-0.877551</td>\n",
       "      <td>7.336735</td>\n",
       "      <td>-2.193878</td>\n",
       "      <td>113.632653</td>\n",
       "      <td>48.103093</td>\n",
       "      <td>0.5</td>\n",
       "      <td>-0.867347</td>\n",
       "      <td>0.0</td>\n",
       "      <td>0</td>\n",
       "    </tr>\n",
       "    <tr>\n",
       "      <th>258</th>\n",
       "      <td>0.0</td>\n",
       "      <td>0.0</td>\n",
       "      <td>0.0</td>\n",
       "      <td>0.0</td>\n",
       "      <td>1.0</td>\n",
       "      <td>0.0</td>\n",
       "      <td>2.0</td>\n",
       "      <td>0.0</td>\n",
       "      <td>0.0</td>\n",
       "      <td>0.0</td>\n",
       "      <td>...</td>\n",
       "      <td>1.00000</td>\n",
       "      <td>0.000000</td>\n",
       "      <td>-1.000000</td>\n",
       "      <td>-2.000000</td>\n",
       "      <td>600.000000</td>\n",
       "      <td>125.000000</td>\n",
       "      <td>6.0</td>\n",
       "      <td>1.000000</td>\n",
       "      <td>3.0</td>\n",
       "      <td>0</td>\n",
       "    </tr>\n",
       "    <tr>\n",
       "      <th>259</th>\n",
       "      <td>1.0</td>\n",
       "      <td>0.0</td>\n",
       "      <td>0.0</td>\n",
       "      <td>0.0</td>\n",
       "      <td>1.0</td>\n",
       "      <td>1.0</td>\n",
       "      <td>0.0</td>\n",
       "      <td>0.0</td>\n",
       "      <td>1.0</td>\n",
       "      <td>0.0</td>\n",
       "      <td>...</td>\n",
       "      <td>1.00000</td>\n",
       "      <td>1.000000</td>\n",
       "      <td>-9.000000</td>\n",
       "      <td>-9.000000</td>\n",
       "      <td>598.000000</td>\n",
       "      <td>598.000000</td>\n",
       "      <td>-1.0</td>\n",
       "      <td>-1.000000</td>\n",
       "      <td>1.0</td>\n",
       "      <td>0</td>\n",
       "    </tr>\n",
       "    <tr>\n",
       "      <th>0</th>\n",
       "      <td>1.0</td>\n",
       "      <td>2.0</td>\n",
       "      <td>0.0</td>\n",
       "      <td>1.0</td>\n",
       "      <td>1.0</td>\n",
       "      <td>1.0</td>\n",
       "      <td>1.0</td>\n",
       "      <td>3.0</td>\n",
       "      <td>0.0</td>\n",
       "      <td>1.0</td>\n",
       "      <td>...</td>\n",
       "      <td>1.55102</td>\n",
       "      <td>-0.877551</td>\n",
       "      <td>7.336735</td>\n",
       "      <td>-2.193878</td>\n",
       "      <td>113.632653</td>\n",
       "      <td>48.103093</td>\n",
       "      <td>0.5</td>\n",
       "      <td>-0.867347</td>\n",
       "      <td>0.0</td>\n",
       "      <td>0</td>\n",
       "    </tr>\n",
       "    <tr>\n",
       "      <th>...</th>\n",
       "      <td>...</td>\n",
       "      <td>...</td>\n",
       "      <td>...</td>\n",
       "      <td>...</td>\n",
       "      <td>...</td>\n",
       "      <td>...</td>\n",
       "      <td>...</td>\n",
       "      <td>...</td>\n",
       "      <td>...</td>\n",
       "      <td>...</td>\n",
       "      <td>...</td>\n",
       "      <td>...</td>\n",
       "      <td>...</td>\n",
       "      <td>...</td>\n",
       "      <td>...</td>\n",
       "      <td>...</td>\n",
       "      <td>...</td>\n",
       "      <td>...</td>\n",
       "      <td>...</td>\n",
       "      <td>...</td>\n",
       "      <td>...</td>\n",
       "    </tr>\n",
       "    <tr>\n",
       "      <th>68</th>\n",
       "      <td>0.0</td>\n",
       "      <td>1.0</td>\n",
       "      <td>2.0</td>\n",
       "      <td>0.0</td>\n",
       "      <td>0.0</td>\n",
       "      <td>1.0</td>\n",
       "      <td>1.0</td>\n",
       "      <td>0.0</td>\n",
       "      <td>1.0</td>\n",
       "      <td>2.0</td>\n",
       "      <td>...</td>\n",
       "      <td>1.55102</td>\n",
       "      <td>-0.877551</td>\n",
       "      <td>7.336735</td>\n",
       "      <td>-2.193878</td>\n",
       "      <td>113.632653</td>\n",
       "      <td>48.103093</td>\n",
       "      <td>0.5</td>\n",
       "      <td>-0.867347</td>\n",
       "      <td>0.0</td>\n",
       "      <td>0</td>\n",
       "    </tr>\n",
       "    <tr>\n",
       "      <th>69</th>\n",
       "      <td>1.0</td>\n",
       "      <td>0.0</td>\n",
       "      <td>1.0</td>\n",
       "      <td>1.0</td>\n",
       "      <td>2.0</td>\n",
       "      <td>2.0</td>\n",
       "      <td>3.0</td>\n",
       "      <td>0.0</td>\n",
       "      <td>1.0</td>\n",
       "      <td>1.0</td>\n",
       "      <td>...</td>\n",
       "      <td>1.55102</td>\n",
       "      <td>-0.877551</td>\n",
       "      <td>7.336735</td>\n",
       "      <td>-2.193878</td>\n",
       "      <td>113.632653</td>\n",
       "      <td>48.103093</td>\n",
       "      <td>0.5</td>\n",
       "      <td>-0.867347</td>\n",
       "      <td>0.0</td>\n",
       "      <td>0</td>\n",
       "    </tr>\n",
       "    <tr>\n",
       "      <th>70</th>\n",
       "      <td>1.0</td>\n",
       "      <td>1.0</td>\n",
       "      <td>1.0</td>\n",
       "      <td>0.0</td>\n",
       "      <td>0.0</td>\n",
       "      <td>2.0</td>\n",
       "      <td>1.0</td>\n",
       "      <td>0.0</td>\n",
       "      <td>0.0</td>\n",
       "      <td>1.0</td>\n",
       "      <td>...</td>\n",
       "      <td>1.55102</td>\n",
       "      <td>-0.877551</td>\n",
       "      <td>7.336735</td>\n",
       "      <td>-2.193878</td>\n",
       "      <td>113.632653</td>\n",
       "      <td>48.103093</td>\n",
       "      <td>0.5</td>\n",
       "      <td>-0.867347</td>\n",
       "      <td>0.0</td>\n",
       "      <td>0</td>\n",
       "    </tr>\n",
       "    <tr>\n",
       "      <th>71</th>\n",
       "      <td>1.0</td>\n",
       "      <td>1.0</td>\n",
       "      <td>0.0</td>\n",
       "      <td>0.0</td>\n",
       "      <td>0.0</td>\n",
       "      <td>2.0</td>\n",
       "      <td>1.0</td>\n",
       "      <td>1.0</td>\n",
       "      <td>0.0</td>\n",
       "      <td>1.0</td>\n",
       "      <td>...</td>\n",
       "      <td>1.55102</td>\n",
       "      <td>-0.877551</td>\n",
       "      <td>7.336735</td>\n",
       "      <td>-2.193878</td>\n",
       "      <td>113.632653</td>\n",
       "      <td>48.103093</td>\n",
       "      <td>0.5</td>\n",
       "      <td>-0.867347</td>\n",
       "      <td>0.0</td>\n",
       "      <td>0</td>\n",
       "    </tr>\n",
       "    <tr>\n",
       "      <th>72</th>\n",
       "      <td>2.0</td>\n",
       "      <td>2.0</td>\n",
       "      <td>0.0</td>\n",
       "      <td>0.0</td>\n",
       "      <td>2.0</td>\n",
       "      <td>1.0</td>\n",
       "      <td>0.0</td>\n",
       "      <td>0.0</td>\n",
       "      <td>0.0</td>\n",
       "      <td>0.0</td>\n",
       "      <td>...</td>\n",
       "      <td>1.55102</td>\n",
       "      <td>-0.877551</td>\n",
       "      <td>7.336735</td>\n",
       "      <td>-2.193878</td>\n",
       "      <td>113.632653</td>\n",
       "      <td>48.103093</td>\n",
       "      <td>0.5</td>\n",
       "      <td>-0.867347</td>\n",
       "      <td>0.0</td>\n",
       "      <td>1</td>\n",
       "    </tr>\n",
       "  </tbody>\n",
       "</table>\n",
       "<p>175 rows × 406 columns</p>\n",
       "</div>"
      ],
      "text/plain": [
       "     udprs_1 Cognitive impairment  udprs_10 Urinary problems  \\\n",
       "73                            2.0                        1.0   \n",
       "74                            2.0                        2.0   \n",
       "258                           0.0                        0.0   \n",
       "259                           1.0                        0.0   \n",
       "0                             1.0                        2.0   \n",
       "..                            ...                        ...   \n",
       "68                            0.0                        1.0   \n",
       "69                            1.0                        0.0   \n",
       "70                            1.0                        1.0   \n",
       "71                            1.0                        1.0   \n",
       "72                            2.0                        2.0   \n",
       "\n",
       "     udprs_11 Constipation problems  udprs_12 Light headedness on standing  \\\n",
       "73                              1.0                                    1.0   \n",
       "74                              2.0                                    2.0   \n",
       "258                             0.0                                    0.0   \n",
       "259                             0.0                                    0.0   \n",
       "0                               0.0                                    1.0   \n",
       "..                              ...                                    ...   \n",
       "68                              2.0                                    0.0   \n",
       "69                              1.0                                    1.0   \n",
       "70                              1.0                                    0.0   \n",
       "71                              0.0                                    0.0   \n",
       "72                              0.0                                    0.0   \n",
       "\n",
       "     udprs_13 Fatigue  udprs_14 ADL Speech  udprs_15 ADL Saliva and drooling  \\\n",
       "73                2.0                  1.0                               0.0   \n",
       "74                1.0                  2.0                               3.0   \n",
       "258               1.0                  0.0                               2.0   \n",
       "259               1.0                  1.0                               0.0   \n",
       "0                 1.0                  1.0                               1.0   \n",
       "..                ...                  ...                               ...   \n",
       "68                0.0                  1.0                               1.0   \n",
       "69                2.0                  2.0                               3.0   \n",
       "70                0.0                  2.0                               1.0   \n",
       "71                0.0                  2.0                               1.0   \n",
       "72                2.0                  1.0                               0.0   \n",
       "\n",
       "     udprs_16 ADL Chewing and swallowing  udprs_17 ADL Eating tasks  \\\n",
       "73                                   1.0                        1.0   \n",
       "74                                   1.0                        3.0   \n",
       "258                                  0.0                        0.0   \n",
       "259                                  0.0                        1.0   \n",
       "0                                    3.0                        0.0   \n",
       "..                                   ...                        ...   \n",
       "68                                   0.0                        1.0   \n",
       "69                                   0.0                        1.0   \n",
       "70                                   0.0                        0.0   \n",
       "71                                   1.0                        0.0   \n",
       "72                                   0.0                        0.0   \n",
       "\n",
       "     udprs_18 ADL Dressing  ...  chg_maxmoca_MoCATotal  chg_minmoca_MoCATotal  \\\n",
       "73                     1.0  ...                1.55102              -0.877551   \n",
       "74                     1.0  ...                1.55102              -0.877551   \n",
       "258                    0.0  ...                1.00000               0.000000   \n",
       "259                    0.0  ...                1.00000               1.000000   \n",
       "0                      1.0  ...                1.55102              -0.877551   \n",
       "..                     ...  ...                    ...                    ...   \n",
       "68                     2.0  ...                1.55102              -0.877551   \n",
       "69                     1.0  ...                1.55102              -0.877551   \n",
       "70                     1.0  ...                1.55102              -0.877551   \n",
       "71                     1.0  ...                1.55102              -0.877551   \n",
       "72                     0.0  ...                1.55102              -0.877551   \n",
       "\n",
       "     chg_maxPDQ_totalPDQ-39  chg_minPDQ_totalPDQ-39  chg_maxudprs_DDE  \\\n",
       "73                 7.336735               -2.193878        113.632653   \n",
       "74                 7.336735               -2.193878        113.632653   \n",
       "258               -1.000000               -2.000000        600.000000   \n",
       "259               -9.000000               -9.000000        598.000000   \n",
       "0                  7.336735               -2.193878        113.632653   \n",
       "..                      ...                     ...               ...   \n",
       "68                 7.336735               -2.193878        113.632653   \n",
       "69                 7.336735               -2.193878        113.632653   \n",
       "70                 7.336735               -2.193878        113.632653   \n",
       "71                 7.336735               -2.193878        113.632653   \n",
       "72                 7.336735               -2.193878        113.632653   \n",
       "\n",
       "     chg_minudprs_DDE  chg_maxRBDQ_TotalREMSBD  chg_minRBDQ_TotalREMSBD  \\\n",
       "73          48.103093                      0.5                -0.867347   \n",
       "74          48.103093                      0.5                -0.867347   \n",
       "258        125.000000                      6.0                 1.000000   \n",
       "259        598.000000                     -1.0                -1.000000   \n",
       "0           48.103093                      0.5                -0.867347   \n",
       "..                ...                      ...                      ...   \n",
       "68          48.103093                      0.5                -0.867347   \n",
       "69          48.103093                      0.5                -0.867347   \n",
       "70          48.103093                      0.5                -0.867347   \n",
       "71          48.103093                      0.5                -0.867347   \n",
       "72          48.103093                      0.5                -0.867347   \n",
       "\n",
       "     time_point  BDI_norm  \n",
       "73          0.0         0  \n",
       "74          0.0         0  \n",
       "258         3.0         0  \n",
       "259         1.0         0  \n",
       "0           0.0         0  \n",
       "..          ...       ...  \n",
       "68          0.0         0  \n",
       "69          0.0         0  \n",
       "70          0.0         0  \n",
       "71          0.0         0  \n",
       "72          0.0         1  \n",
       "\n",
       "[175 rows x 406 columns]"
      ]
     },
     "execution_count": 1394,
     "metadata": {},
     "output_type": "execute_result"
    }
   ],
   "source": [
    "PDcluster_alt=takeonlyx_sd(df=PDcluster_alt,x=3)\n",
    "PDcluster_alt"
   ]
  },
  {
   "cell_type": "code",
   "execution_count": 1395,
   "metadata": {
    "ExecuteTime": {
     "end_time": "2021-01-22T05:36:27.271431Z",
     "start_time": "2021-01-22T05:36:27.241204Z"
    }
   },
   "outputs": [],
   "source": [
    "from sklearn.cluster import KMeans\n",
    "def replacenullsmean(df,dropcols=['SYDID','Date of assessment','max_date']):\n",
    "    usecols=[col for col in df.columns if col not in dropcols]\n",
    "    df[usecols]=df[usecols].replace([np.inf, -np.inf], np.nan)\n",
    "    for col in df[usecols].columns:\n",
    "        nullmask=(df[col].isna())\n",
    "        df[col][nullmask]=df[col][~nullmask].mean()\n",
    "    return df\n",
    "\n",
    "   \n",
    "def umap_reducer(df,vars,neighb=10,comp=5):\n",
    "    df_out=df.copy()\n",
    "    \n",
    "    for col in df_out.columns:\n",
    "        if df_out[col].dtype!='object':\n",
    "            df_out[col]=df_out[col].fillna(df_out[col][pd.notnull(df_out[col])].mean())\n",
    "            \n",
    "   \n",
    "            \n",
    "    dmod=df_out[[col for col in vars if col!='SYDID' and re.search('float',str(df_out[col].dtype))\n",
    "                and df_out[col].count()>=df_out.shape[0]]]\n",
    "    print(dmod.shape)\n",
    "    \n",
    "    reducer= umap.UMAP(n_neighbors=neighb,n_components=comp)\n",
    "    reddata = pd.DataFrame(reducer.fit_transform(dmod)).reset_index()\n",
    "    reddata.shape\n",
    "    \n",
    "    reddata.columns=['index','umap_var1','umap_var2']\n",
    "    df_out[['index','umap_var1','umap_var2']]=reddata[['index','umap_var1','umap_var2']]\n",
    "    return df_out\n",
    "\n",
    "def elbow_clust(df=PDcluster,clustrange=10,clustfit=4,dropvars=['SYDID','Date of assessment','max_date']):\n",
    "    df_vars=df.drop(columns=dropvars)\n",
    "    dv2=[col for col in df_vars if df_vars[col].dtype=='float32']\n",
    "    print(dv2)\n",
    "    df_vars=df_vars[dv2]\n",
    "    print(df_vars.columns)\n",
    "    df_vars=replacenullsmean(df_vars)\n",
    "    \n",
    "    wcss=[]\n",
    "    #print(df_vars.head())\n",
    "    for i in range(1,clustrange): \n",
    "         kmeans = KMeans(n_clusters=i, init ='k-means++', max_iter=300,  n_init=clustrange-1,random_state=0)\n",
    "         kmeans.fit(df_vars)\n",
    "         wcss.append(kmeans.inertia_)\n",
    "    plt.plot(range(1,clustrange),wcss)\n",
    "    plt.title('The Elbow Method Graph')\n",
    "    plt.xlabel('Number of clusters')\n",
    "    plt.ylabel('WCSS')\n",
    "    plt.show()\n",
    "    kmeans = KMeans(n_clusters=clustfit, random_state=0).fit(df_vars)\n",
    "    df['cluster_label']=kmeans.labels_.tolist()\n",
    "    return df"
   ]
  },
  {
   "cell_type": "code",
   "execution_count": 1396,
   "metadata": {
    "ExecuteTime": {
     "end_time": "2021-01-22T05:36:29.513853Z",
     "start_time": "2021-01-22T05:36:28.131803Z"
    }
   },
   "outputs": [
    {
     "name": "stderr",
     "output_type": "stream",
     "text": [
      "/opt/conda/lib/python3.7/site-packages/pandas/core/frame.py:3509: SettingWithCopyWarning: \n",
      "A value is trying to be set on a copy of a slice from a DataFrame.\n",
      "Try using .loc[row_indexer,col_indexer] = value instead\n",
      "\n",
      "See the caveats in the documentation: http://pandas.pydata.org/pandas-docs/stable/user_guide/indexing.html#returning-a-view-versus-a-copy\n",
      "  self[k1] = value[k2]\n",
      "/opt/conda/lib/python3.7/site-packages/ipykernel_launcher.py:7: SettingWithCopyWarning: \n",
      "A value is trying to be set on a copy of a slice from a DataFrame\n",
      "\n",
      "See the caveats in the documentation: http://pandas.pydata.org/pandas-docs/stable/user_guide/indexing.html#returning-a-view-versus-a-copy\n",
      "  import sys\n",
      "/opt/conda/lib/python3.7/site-packages/ipykernel_launcher.py:1: SettingWithCopyWarning: \n",
      "A value is trying to be set on a copy of a slice from a DataFrame\n",
      "\n",
      "See the caveats in the documentation: http://pandas.pydata.org/pandas-docs/stable/user_guide/indexing.html#returning-a-view-versus-a-copy\n",
      "  \"\"\"Entry point for launching an IPython kernel.\n"
     ]
    },
    {
     "name": "stdout",
     "output_type": "stream",
     "text": [
      "(175, 406)\n"
     ]
    }
   ],
   "source": [
    "PDcluster_alt=replacenullsmean(PDcluster_alt)\n",
    "print(PDcluster_alt.shape)"
   ]
  },
  {
   "cell_type": "code",
   "execution_count": 1397,
   "metadata": {
    "ExecuteTime": {
     "end_time": "2021-01-22T05:36:32.802764Z",
     "start_time": "2021-01-22T05:36:31.214104Z"
    }
   },
   "outputs": [
    {
     "name": "stdout",
     "output_type": "stream",
     "text": [
      "(175, 308)\n",
      "(173, 10)\n"
     ]
    }
   ],
   "source": [
    "pdclust_umap=umap_reducer(PDcluster_alt,PDcluster_alt.columns,neighb=10,comp=2)\n",
    "pdclust_umap=umap_reducer(PDcluster,PDcluster.columns,neighb=10,comp=2)\n"
   ]
  },
  {
   "cell_type": "code",
   "execution_count": 1398,
   "metadata": {
    "ExecuteTime": {
     "end_time": "2021-01-22T05:36:33.732958Z",
     "start_time": "2021-01-22T05:36:33.692276Z"
    }
   },
   "outputs": [
    {
     "data": {
      "text/html": [
       "<div>\n",
       "<style scoped>\n",
       "    .dataframe tbody tr th:only-of-type {\n",
       "        vertical-align: middle;\n",
       "    }\n",
       "\n",
       "    .dataframe tbody tr th {\n",
       "        vertical-align: top;\n",
       "    }\n",
       "\n",
       "    .dataframe thead th {\n",
       "        text-align: right;\n",
       "    }\n",
       "</style>\n",
       "<table border=\"1\" class=\"dataframe\">\n",
       "  <thead>\n",
       "    <tr style=\"text-align: right;\">\n",
       "      <th></th>\n",
       "      <th>SYDID</th>\n",
       "      <th>Date of assessment</th>\n",
       "      <th>cog1_Trails A Z score</th>\n",
       "      <th>Lm2_cut</th>\n",
       "      <th>ESS_norm</th>\n",
       "      <th>FOGQ_FOGQ 3</th>\n",
       "      <th>DDE_norm</th>\n",
       "      <th>udprs_Disease_Progression_z_score</th>\n",
       "      <th>udprs_Age_Diagnosis_z_score</th>\n",
       "      <th>cog1_MMSE result_z_score</th>\n",
       "      <th>udprs_non_tremor_z_score</th>\n",
       "      <th>udprs_tremor_z_score</th>\n",
       "      <th>udprs_tremor_ratio_z_score</th>\n",
       "      <th>cog1_NART_z_score</th>\n",
       "      <th>BDI_BDI Total_z_score</th>\n",
       "      <th>index</th>\n",
       "      <th>umap_var1</th>\n",
       "      <th>umap_var2</th>\n",
       "    </tr>\n",
       "  </thead>\n",
       "  <tbody>\n",
       "    <tr>\n",
       "      <th>73</th>\n",
       "      <td>PD_00001_DA</td>\n",
       "      <td>2013-05-28</td>\n",
       "      <td>-0.520</td>\n",
       "      <td>1</td>\n",
       "      <td>0</td>\n",
       "      <td>1.084746</td>\n",
       "      <td>2</td>\n",
       "      <td>-0.074081</td>\n",
       "      <td>0.049037</td>\n",
       "      <td>-2.312752</td>\n",
       "      <td>1.693361</td>\n",
       "      <td>0.967798</td>\n",
       "      <td>-0.067837</td>\n",
       "      <td>-0.323314</td>\n",
       "      <td>-0.090286</td>\n",
       "      <td>73.0</td>\n",
       "      <td>-0.396073</td>\n",
       "      <td>-3.292818</td>\n",
       "    </tr>\n",
       "    <tr>\n",
       "      <th>74</th>\n",
       "      <td>PD_00002_MW</td>\n",
       "      <td>2011-10-25</td>\n",
       "      <td>-3.290</td>\n",
       "      <td>1</td>\n",
       "      <td>1</td>\n",
       "      <td>3.000000</td>\n",
       "      <td>1</td>\n",
       "      <td>-0.037649</td>\n",
       "      <td>0.485998</td>\n",
       "      <td>0.724086</td>\n",
       "      <td>1.302532</td>\n",
       "      <td>-0.700615</td>\n",
       "      <td>-0.822007</td>\n",
       "      <td>-0.213071</td>\n",
       "      <td>-0.080479</td>\n",
       "      <td>74.0</td>\n",
       "      <td>-0.238421</td>\n",
       "      <td>-0.955211</td>\n",
       "    </tr>\n",
       "    <tr>\n",
       "      <th>258</th>\n",
       "      <td>PD_00004_AW</td>\n",
       "      <td>2014-07-21</td>\n",
       "      <td>1.160</td>\n",
       "      <td>1</td>\n",
       "      <td>0</td>\n",
       "      <td>0.000000</td>\n",
       "      <td>2</td>\n",
       "      <td>-0.108651</td>\n",
       "      <td>-0.404750</td>\n",
       "      <td>0.217946</td>\n",
       "      <td>-0.260785</td>\n",
       "      <td>-1.117718</td>\n",
       "      <td>-1.036028</td>\n",
       "      <td>-0.128268</td>\n",
       "      <td>-0.158932</td>\n",
       "      <td>NaN</td>\n",
       "      <td>NaN</td>\n",
       "      <td>NaN</td>\n",
       "    </tr>\n",
       "    <tr>\n",
       "      <th>259</th>\n",
       "      <td>PD_00008_BM</td>\n",
       "      <td>2014-11-03</td>\n",
       "      <td>0.940</td>\n",
       "      <td>1</td>\n",
       "      <td>0</td>\n",
       "      <td>0.000000</td>\n",
       "      <td>1</td>\n",
       "      <td>-0.088656</td>\n",
       "      <td>0.485184</td>\n",
       "      <td>0.724086</td>\n",
       "      <td>0.716288</td>\n",
       "      <td>3.470417</td>\n",
       "      <td>1.759624</td>\n",
       "      <td>-0.077386</td>\n",
       "      <td>-0.100092</td>\n",
       "      <td>NaN</td>\n",
       "      <td>NaN</td>\n",
       "      <td>NaN</td>\n",
       "    </tr>\n",
       "    <tr>\n",
       "      <th>0</th>\n",
       "      <td>PD_00017_RE</td>\n",
       "      <td>2011-08-23</td>\n",
       "      <td>0.150</td>\n",
       "      <td>1</td>\n",
       "      <td>0</td>\n",
       "      <td>1.084746</td>\n",
       "      <td>1</td>\n",
       "      <td>-0.056785</td>\n",
       "      <td>0.547878</td>\n",
       "      <td>-1.806612</td>\n",
       "      <td>-0.847028</td>\n",
       "      <td>-0.283511</td>\n",
       "      <td>-0.019427</td>\n",
       "      <td>-0.051945</td>\n",
       "      <td>-0.090286</td>\n",
       "      <td>0.0</td>\n",
       "      <td>0.841798</td>\n",
       "      <td>-1.896258</td>\n",
       "    </tr>\n",
       "    <tr>\n",
       "      <th>...</th>\n",
       "      <td>...</td>\n",
       "      <td>...</td>\n",
       "      <td>...</td>\n",
       "      <td>...</td>\n",
       "      <td>...</td>\n",
       "      <td>...</td>\n",
       "      <td>...</td>\n",
       "      <td>...</td>\n",
       "      <td>...</td>\n",
       "      <td>...</td>\n",
       "      <td>...</td>\n",
       "      <td>...</td>\n",
       "      <td>...</td>\n",
       "      <td>...</td>\n",
       "      <td>...</td>\n",
       "      <td>...</td>\n",
       "      <td>...</td>\n",
       "      <td>...</td>\n",
       "    </tr>\n",
       "    <tr>\n",
       "      <th>68</th>\n",
       "      <td>PD_00553_KM</td>\n",
       "      <td>2012-10-16</td>\n",
       "      <td>-0.450</td>\n",
       "      <td>1</td>\n",
       "      <td>1</td>\n",
       "      <td>0.000000</td>\n",
       "      <td>2</td>\n",
       "      <td>-0.074576</td>\n",
       "      <td>0.935986</td>\n",
       "      <td>0.217946</td>\n",
       "      <td>2.084190</td>\n",
       "      <td>-0.700615</td>\n",
       "      <td>-0.859228</td>\n",
       "      <td>-0.170669</td>\n",
       "      <td>-0.149126</td>\n",
       "      <td>68.0</td>\n",
       "      <td>2.312689</td>\n",
       "      <td>-2.252635</td>\n",
       "    </tr>\n",
       "    <tr>\n",
       "      <th>69</th>\n",
       "      <td>PD_00555_PH</td>\n",
       "      <td>2012-11-20</td>\n",
       "      <td>-1.847</td>\n",
       "      <td>1</td>\n",
       "      <td>1</td>\n",
       "      <td>0.000000</td>\n",
       "      <td>1</td>\n",
       "      <td>0.005913</td>\n",
       "      <td>1.127597</td>\n",
       "      <td>-1.806612</td>\n",
       "      <td>-0.651614</td>\n",
       "      <td>0.550695</td>\n",
       "      <td>0.771262</td>\n",
       "      <td>-0.119788</td>\n",
       "      <td>-0.060865</td>\n",
       "      <td>69.0</td>\n",
       "      <td>-0.933915</td>\n",
       "      <td>-0.124789</td>\n",
       "    </tr>\n",
       "    <tr>\n",
       "      <th>70</th>\n",
       "      <td>PD_00557_DC</td>\n",
       "      <td>2012-11-06</td>\n",
       "      <td>-0.770</td>\n",
       "      <td>1</td>\n",
       "      <td>0</td>\n",
       "      <td>1.084746</td>\n",
       "      <td>1</td>\n",
       "      <td>-0.095643</td>\n",
       "      <td>1.051604</td>\n",
       "      <td>-1.300472</td>\n",
       "      <td>0.130045</td>\n",
       "      <td>0.133592</td>\n",
       "      <td>-0.097627</td>\n",
       "      <td>-0.204590</td>\n",
       "      <td>-0.149126</td>\n",
       "      <td>70.0</td>\n",
       "      <td>-0.531350</td>\n",
       "      <td>-3.783944</td>\n",
       "    </tr>\n",
       "    <tr>\n",
       "      <th>71</th>\n",
       "      <td>PD_00568_MB</td>\n",
       "      <td>2012-11-27</td>\n",
       "      <td>-0.320</td>\n",
       "      <td>1</td>\n",
       "      <td>0</td>\n",
       "      <td>0.000000</td>\n",
       "      <td>0</td>\n",
       "      <td>16.618177</td>\n",
       "      <td>1.725229</td>\n",
       "      <td>0.724086</td>\n",
       "      <td>1.693361</td>\n",
       "      <td>0.550695</td>\n",
       "      <td>-0.261475</td>\n",
       "      <td>-0.102827</td>\n",
       "      <td>-0.080479</td>\n",
       "      <td>71.0</td>\n",
       "      <td>0.499228</td>\n",
       "      <td>-3.641108</td>\n",
       "    </tr>\n",
       "    <tr>\n",
       "      <th>72</th>\n",
       "      <td>PD_00583_KC</td>\n",
       "      <td>2013-03-19</td>\n",
       "      <td>0.320</td>\n",
       "      <td>1</td>\n",
       "      <td>1</td>\n",
       "      <td>1.084746</td>\n",
       "      <td>1</td>\n",
       "      <td>-0.085145</td>\n",
       "      <td>0.111732</td>\n",
       "      <td>0.724086</td>\n",
       "      <td>-0.651614</td>\n",
       "      <td>-0.283511</td>\n",
       "      <td>-0.132383</td>\n",
       "      <td>-0.077386</td>\n",
       "      <td>0.105848</td>\n",
       "      <td>72.0</td>\n",
       "      <td>4.100472</td>\n",
       "      <td>-1.187786</td>\n",
       "    </tr>\n",
       "  </tbody>\n",
       "</table>\n",
       "<p>173 rows × 18 columns</p>\n",
       "</div>"
      ],
      "text/plain": [
       "           SYDID Date of assessment  cog1_Trails A Z score  Lm2_cut  ESS_norm  \\\n",
       "73   PD_00001_DA         2013-05-28                 -0.520        1         0   \n",
       "74   PD_00002_MW         2011-10-25                 -3.290        1         1   \n",
       "258  PD_00004_AW         2014-07-21                  1.160        1         0   \n",
       "259  PD_00008_BM         2014-11-03                  0.940        1         0   \n",
       "0    PD_00017_RE         2011-08-23                  0.150        1         0   \n",
       "..           ...                ...                    ...      ...       ...   \n",
       "68   PD_00553_KM         2012-10-16                 -0.450        1         1   \n",
       "69   PD_00555_PH         2012-11-20                 -1.847        1         1   \n",
       "70   PD_00557_DC         2012-11-06                 -0.770        1         0   \n",
       "71   PD_00568_MB         2012-11-27                 -0.320        1         0   \n",
       "72   PD_00583_KC         2013-03-19                  0.320        1         1   \n",
       "\n",
       "     FOGQ_FOGQ 3  DDE_norm  udprs_Disease_Progression_z_score  \\\n",
       "73      1.084746         2                          -0.074081   \n",
       "74      3.000000         1                          -0.037649   \n",
       "258     0.000000         2                          -0.108651   \n",
       "259     0.000000         1                          -0.088656   \n",
       "0       1.084746         1                          -0.056785   \n",
       "..           ...       ...                                ...   \n",
       "68      0.000000         2                          -0.074576   \n",
       "69      0.000000         1                           0.005913   \n",
       "70      1.084746         1                          -0.095643   \n",
       "71      0.000000         0                          16.618177   \n",
       "72      1.084746         1                          -0.085145   \n",
       "\n",
       "     udprs_Age_Diagnosis_z_score  cog1_MMSE result_z_score  \\\n",
       "73                      0.049037                 -2.312752   \n",
       "74                      0.485998                  0.724086   \n",
       "258                    -0.404750                  0.217946   \n",
       "259                     0.485184                  0.724086   \n",
       "0                       0.547878                 -1.806612   \n",
       "..                           ...                       ...   \n",
       "68                      0.935986                  0.217946   \n",
       "69                      1.127597                 -1.806612   \n",
       "70                      1.051604                 -1.300472   \n",
       "71                      1.725229                  0.724086   \n",
       "72                      0.111732                  0.724086   \n",
       "\n",
       "     udprs_non_tremor_z_score  udprs_tremor_z_score  \\\n",
       "73                   1.693361              0.967798   \n",
       "74                   1.302532             -0.700615   \n",
       "258                 -0.260785             -1.117718   \n",
       "259                  0.716288              3.470417   \n",
       "0                   -0.847028             -0.283511   \n",
       "..                        ...                   ...   \n",
       "68                   2.084190             -0.700615   \n",
       "69                  -0.651614              0.550695   \n",
       "70                   0.130045              0.133592   \n",
       "71                   1.693361              0.550695   \n",
       "72                  -0.651614             -0.283511   \n",
       "\n",
       "     udprs_tremor_ratio_z_score  cog1_NART_z_score  BDI_BDI Total_z_score  \\\n",
       "73                    -0.067837          -0.323314              -0.090286   \n",
       "74                    -0.822007          -0.213071              -0.080479   \n",
       "258                   -1.036028          -0.128268              -0.158932   \n",
       "259                    1.759624          -0.077386              -0.100092   \n",
       "0                     -0.019427          -0.051945              -0.090286   \n",
       "..                          ...                ...                    ...   \n",
       "68                    -0.859228          -0.170669              -0.149126   \n",
       "69                     0.771262          -0.119788              -0.060865   \n",
       "70                    -0.097627          -0.204590              -0.149126   \n",
       "71                    -0.261475          -0.102827              -0.080479   \n",
       "72                    -0.132383          -0.077386               0.105848   \n",
       "\n",
       "     index  umap_var1  umap_var2  \n",
       "73    73.0  -0.396073  -3.292818  \n",
       "74    74.0  -0.238421  -0.955211  \n",
       "258    NaN        NaN        NaN  \n",
       "259    NaN        NaN        NaN  \n",
       "0      0.0   0.841798  -1.896258  \n",
       "..     ...        ...        ...  \n",
       "68    68.0   2.312689  -2.252635  \n",
       "69    69.0  -0.933915  -0.124789  \n",
       "70    70.0  -0.531350  -3.783944  \n",
       "71    71.0   0.499228  -3.641108  \n",
       "72    72.0   4.100472  -1.187786  \n",
       "\n",
       "[173 rows x 18 columns]"
      ]
     },
     "execution_count": 1398,
     "metadata": {},
     "output_type": "execute_result"
    }
   ],
   "source": [
    "pdclust_umap"
   ]
  },
  {
   "cell_type": "code",
   "execution_count": 1399,
   "metadata": {
    "ExecuteTime": {
     "end_time": "2021-01-22T05:36:43.136221Z",
     "start_time": "2021-01-22T05:36:42.147932Z"
    }
   },
   "outputs": [
    {
     "name": "stdout",
     "output_type": "stream",
     "text": [
      "['umap_var1', 'umap_var2']\n",
      "Index(['umap_var1', 'umap_var2'], dtype='object')\n"
     ]
    },
    {
     "data": {
      "image/png": "[encoded data removed]",
      "text/plain": [
       "<Figure size 432x288 with 1 Axes>"
      ]
     },
     "metadata": {
      "needs_background": "light"
     },
     "output_type": "display_data"
    },
    {
     "name": "stderr",
     "output_type": "stream",
     "text": [
      "/opt/conda/lib/python3.7/site-packages/ipykernel_launcher.py:52: SettingWithCopyWarning: \n",
      "A value is trying to be set on a copy of a slice from a DataFrame.\n",
      "Try using .loc[row_indexer,col_indexer] = value instead\n",
      "\n",
      "See the caveats in the documentation: http://pandas.pydata.org/pandas-docs/stable/user_guide/indexing.html#returning-a-view-versus-a-copy\n"
     ]
    },
    {
     "data": {
      "text/plain": [
       "<matplotlib.axes._subplots.AxesSubplot at 0x7f6c1f456fd0>"
      ]
     },
     "execution_count": 1399,
     "metadata": {},
     "output_type": "execute_result"
    },
    {
     "data": {
      "image/png": "[encoded data removed]",
      "text/plain": [
       "<Figure size 432x288 with 1 Axes>"
      ]
     },
     "metadata": {
      "needs_background": "light"
     },
     "output_type": "display_data"
    }
   ],
   "source": [
    "PDcluster_clust=elbow_clust(pdclust_umap[['SYDID','Date of assessment','umap_var1','umap_var2']],clustfit=4,dropvars=['SYDID','Date of assessment'])\n",
    "sns.scatterplot(data=PDcluster_clust, x=\"umap_var1\", y=\"umap_var2\",hue='cluster_label')\n"
   ]
  },
  {
   "cell_type": "code",
   "execution_count": 1401,
   "metadata": {
    "ExecuteTime": {
     "end_time": "2021-01-22T05:39:22.869057Z",
     "start_time": "2021-01-22T05:39:22.814994Z"
    },
    "code_folding": [
     6
    ]
   },
   "outputs": [
    {
     "name": "stdout",
     "output_type": "stream",
     "text": [
      "(175, 544)\n",
      "(173, 5)\n",
      "(267, 12)\n"
     ]
    },
    {
     "data": {
      "text/html": [
       "<div>\n",
       "<style scoped>\n",
       "    .dataframe tbody tr th:only-of-type {\n",
       "        vertical-align: middle;\n",
       "    }\n",
       "\n",
       "    .dataframe tbody tr th {\n",
       "        vertical-align: top;\n",
       "    }\n",
       "\n",
       "    .dataframe thead th {\n",
       "        text-align: right;\n",
       "    }\n",
       "</style>\n",
       "<table border=\"1\" class=\"dataframe\">\n",
       "  <thead>\n",
       "    <tr style=\"text-align: right;\">\n",
       "      <th></th>\n",
       "      <th>cluster_label</th>\n",
       "      <th>udprs_Disease_Progression</th>\n",
       "      <th>udprs_Age_Diagnosis</th>\n",
       "      <th>cog1_MMSE result</th>\n",
       "      <th>udprs_non_tremor</th>\n",
       "      <th>udprs_tremor</th>\n",
       "      <th>udprs_tremor_ratio</th>\n",
       "      <th>cog1_NART</th>\n",
       "      <th>BDI_BDI Total</th>\n",
       "      <th>num_patients</th>\n",
       "    </tr>\n",
       "  </thead>\n",
       "  <tbody>\n",
       "    <tr>\n",
       "      <th>0</th>\n",
       "      <td>0</td>\n",
       "      <td>0.317768</td>\n",
       "      <td>60.533263</td>\n",
       "      <td>28.806452</td>\n",
       "      <td>1.322581</td>\n",
       "      <td>0.561290</td>\n",
       "      <td>0.454173</td>\n",
       "      <td>139.032258</td>\n",
       "      <td>10.741935</td>\n",
       "      <td>31</td>\n",
       "    </tr>\n",
       "    <tr>\n",
       "      <th>1</th>\n",
       "      <td>1</td>\n",
       "      <td>0.027580</td>\n",
       "      <td>55.418504</td>\n",
       "      <td>29.222826</td>\n",
       "      <td>1.149457</td>\n",
       "      <td>0.584783</td>\n",
       "      <td>0.653422</td>\n",
       "      <td>122.788725</td>\n",
       "      <td>18.141304</td>\n",
       "      <td>184</td>\n",
       "    </tr>\n",
       "    <tr>\n",
       "      <th>2</th>\n",
       "      <td>2</td>\n",
       "      <td>0.063338</td>\n",
       "      <td>64.983984</td>\n",
       "      <td>28.400000</td>\n",
       "      <td>1.700000</td>\n",
       "      <td>0.800000</td>\n",
       "      <td>0.527933</td>\n",
       "      <td>99.800000</td>\n",
       "      <td>9.200000</td>\n",
       "      <td>5</td>\n",
       "    </tr>\n",
       "    <tr>\n",
       "      <th>3</th>\n",
       "      <td>3</td>\n",
       "      <td>0.036897</td>\n",
       "      <td>64.272504</td>\n",
       "      <td>28.276596</td>\n",
       "      <td>1.155319</td>\n",
       "      <td>0.391489</td>\n",
       "      <td>0.403474</td>\n",
       "      <td>113.109052</td>\n",
       "      <td>6.914894</td>\n",
       "      <td>47</td>\n",
       "    </tr>\n",
       "  </tbody>\n",
       "</table>\n",
       "</div>"
      ],
      "text/plain": [
       "   cluster_label  udprs_Disease_Progression  udprs_Age_Diagnosis  \\\n",
       "0              0                   0.317768            60.533263   \n",
       "1              1                   0.027580            55.418504   \n",
       "2              2                   0.063338            64.983984   \n",
       "3              3                   0.036897            64.272504   \n",
       "\n",
       "   cog1_MMSE result  udprs_non_tremor  udprs_tremor  udprs_tremor_ratio  \\\n",
       "0         28.806452          1.322581      0.561290            0.454173   \n",
       "1         29.222826          1.149457      0.584783            0.653422   \n",
       "2         28.400000          1.700000      0.800000            0.527933   \n",
       "3         28.276596          1.155319      0.391489            0.403474   \n",
       "\n",
       "    cog1_NART  BDI_BDI Total  num_patients  \n",
       "0  139.032258      10.741935            31  \n",
       "1  122.788725      18.141304           184  \n",
       "2   99.800000       9.200000             5  \n",
       "3  113.109052       6.914894            47  "
      ]
     },
     "execution_count": 1401,
     "metadata": {},
     "output_type": "execute_result"
    }
   ],
   "source": [
    "mask1=(PDcombined['Date of assessment']==PDcombined['max_date'])\n",
    "\n",
    "print(PDcombined2.shape)\n",
    "print(PDcluster_clust.shape)\n",
    "\n",
    "varsused=['SYDID','Date of assessment','udprs_Disease_Progression','udprs_Age_Diagnosis','BDI_BDI Total','cog1_MMSE result',\\\n",
    "'udprs_non_tremor','udprs_tremor','udprs_tremor_ratio','cog1_NART','DDE_norm']\n",
    "\n",
    "mask=(pd.notnull(PDcluster_clust['SYDID'])&pd.notnull(PDcluster_clust['Date of assessment']))\n",
    "mask2=(pd.notnull(PDcombined2['SYDID'])&pd.notnull(PDcombined2['Date of assessment']))\n",
    "\n",
    "\n",
    "clust=pd.merge(PDcluster_clust[['SYDID','Date of assessment','cluster_label']][mask],PDcombined2[varsused][mask2],on=['SYDID','Date of assessment'],how='inner')\n",
    "print(clust.shape)\n",
    "\n",
    "clust_gp_mean=pd.DataFrame(clust.groupby(['cluster_label'])['udprs_Disease_Progression','udprs_Age_Diagnosis','cog1_MMSE result',\\\n",
    " 'udprs_non_tremor','udprs_tremor','udprs_tremor_ratio','cog1_NART','BDI_BDI Total'].mean()).reset_index()\n",
    "\n",
    "clust_gp_size=pd.DataFrame(clust.groupby(['cluster_label']).size()).reset_index()\n",
    "clust_gp_size.columns=['cluster_label','num_patients']\n",
    "\n",
    "clust_gp_mean=pd.merge(clust_gp_mean,clust_gp_size,on='cluster_label',how='inner')\n",
    "clust_gp_mean"
   ]
  },
  {
   "cell_type": "code",
   "execution_count": 1343,
   "metadata": {
    "ExecuteTime": {
     "end_time": "2021-01-13T03:41:58.813422Z",
     "start_time": "2021-01-13T03:41:58.790202Z"
    }
   },
   "outputs": [
    {
     "data": {
      "text/html": [
       "<div>\n",
       "<style scoped>\n",
       "    .dataframe tbody tr th:only-of-type {\n",
       "        vertical-align: middle;\n",
       "    }\n",
       "\n",
       "    .dataframe tbody tr th {\n",
       "        vertical-align: top;\n",
       "    }\n",
       "\n",
       "    .dataframe thead th {\n",
       "        text-align: right;\n",
       "    }\n",
       "</style>\n",
       "<table border=\"1\" class=\"dataframe\">\n",
       "  <thead>\n",
       "    <tr style=\"text-align: right;\">\n",
       "      <th></th>\n",
       "      <th>SYDID</th>\n",
       "      <th>Date of assessment</th>\n",
       "      <th>umap_var1</th>\n",
       "      <th>umap_var2</th>\n",
       "      <th>cluster_label</th>\n",
       "    </tr>\n",
       "  </thead>\n",
       "  <tbody>\n",
       "    <tr>\n",
       "      <th>73</th>\n",
       "      <td>PD_00001_DA</td>\n",
       "      <td>2013-05-28</td>\n",
       "      <td>1.069398</td>\n",
       "      <td>-0.947720</td>\n",
       "      <td>0</td>\n",
       "    </tr>\n",
       "    <tr>\n",
       "      <th>74</th>\n",
       "      <td>PD_00002_MW</td>\n",
       "      <td>2011-10-25</td>\n",
       "      <td>-0.166088</td>\n",
       "      <td>-2.566304</td>\n",
       "      <td>0</td>\n",
       "    </tr>\n",
       "    <tr>\n",
       "      <th>258</th>\n",
       "      <td>PD_00004_AW</td>\n",
       "      <td>2014-07-21</td>\n",
       "      <td>NaN</td>\n",
       "      <td>NaN</td>\n",
       "      <td>2</td>\n",
       "    </tr>\n",
       "    <tr>\n",
       "      <th>259</th>\n",
       "      <td>PD_00008_BM</td>\n",
       "      <td>2014-11-03</td>\n",
       "      <td>NaN</td>\n",
       "      <td>NaN</td>\n",
       "      <td>2</td>\n",
       "    </tr>\n",
       "    <tr>\n",
       "      <th>0</th>\n",
       "      <td>PD_00017_RE</td>\n",
       "      <td>2011-08-23</td>\n",
       "      <td>0.998878</td>\n",
       "      <td>-2.942094</td>\n",
       "      <td>2</td>\n",
       "    </tr>\n",
       "    <tr>\n",
       "      <th>...</th>\n",
       "      <td>...</td>\n",
       "      <td>...</td>\n",
       "      <td>...</td>\n",
       "      <td>...</td>\n",
       "      <td>...</td>\n",
       "    </tr>\n",
       "    <tr>\n",
       "      <th>68</th>\n",
       "      <td>PD_00553_KM</td>\n",
       "      <td>2012-10-16</td>\n",
       "      <td>1.565512</td>\n",
       "      <td>-4.276650</td>\n",
       "      <td>2</td>\n",
       "    </tr>\n",
       "    <tr>\n",
       "      <th>69</th>\n",
       "      <td>PD_00555_PH</td>\n",
       "      <td>2012-11-20</td>\n",
       "      <td>-1.558372</td>\n",
       "      <td>-2.404135</td>\n",
       "      <td>0</td>\n",
       "    </tr>\n",
       "    <tr>\n",
       "      <th>70</th>\n",
       "      <td>PD_00557_DC</td>\n",
       "      <td>2012-11-06</td>\n",
       "      <td>1.415702</td>\n",
       "      <td>-1.215833</td>\n",
       "      <td>0</td>\n",
       "    </tr>\n",
       "    <tr>\n",
       "      <th>71</th>\n",
       "      <td>PD_00568_MB</td>\n",
       "      <td>2012-11-27</td>\n",
       "      <td>2.315778</td>\n",
       "      <td>-1.336783</td>\n",
       "      <td>0</td>\n",
       "    </tr>\n",
       "    <tr>\n",
       "      <th>72</th>\n",
       "      <td>PD_00583_KC</td>\n",
       "      <td>2013-03-19</td>\n",
       "      <td>0.916977</td>\n",
       "      <td>-6.195504</td>\n",
       "      <td>2</td>\n",
       "    </tr>\n",
       "  </tbody>\n",
       "</table>\n",
       "<p>173 rows × 5 columns</p>\n",
       "</div>"
      ],
      "text/plain": [
       "           SYDID Date of assessment  umap_var1  umap_var2  cluster_label\n",
       "73   PD_00001_DA         2013-05-28   1.069398  -0.947720              0\n",
       "74   PD_00002_MW         2011-10-25  -0.166088  -2.566304              0\n",
       "258  PD_00004_AW         2014-07-21        NaN        NaN              2\n",
       "259  PD_00008_BM         2014-11-03        NaN        NaN              2\n",
       "0    PD_00017_RE         2011-08-23   0.998878  -2.942094              2\n",
       "..           ...                ...        ...        ...            ...\n",
       "68   PD_00553_KM         2012-10-16   1.565512  -4.276650              2\n",
       "69   PD_00555_PH         2012-11-20  -1.558372  -2.404135              0\n",
       "70   PD_00557_DC         2012-11-06   1.415702  -1.215833              0\n",
       "71   PD_00568_MB         2012-11-27   2.315778  -1.336783              0\n",
       "72   PD_00583_KC         2013-03-19   0.916977  -6.195504              2\n",
       "\n",
       "[173 rows x 5 columns]"
      ]
     },
     "execution_count": 1343,
     "metadata": {},
     "output_type": "execute_result"
    }
   ],
   "source": [
    "PDcluster_clust"
   ]
  },
  {
   "cell_type": "code",
   "execution_count": 1313,
   "metadata": {
    "ExecuteTime": {
     "end_time": "2021-01-13T03:00:30.693185Z",
     "start_time": "2021-01-13T03:00:30.670510Z"
    }
   },
   "outputs": [
    {
     "ename": "KeyError",
     "evalue": "\"Columns not found: 'udprs_Age_Diagnosis', 'udprs_Disease_Progression'\"",
     "output_type": "error",
     "traceback": [
      "\u001b[0;31m---------------------------------------------------------------------------\u001b[0m",
      "\u001b[0;31mKeyError\u001b[0m                                  Traceback (most recent call last)",
      "\u001b[0;32m<ipython-input-1313-e9629e911fd3>\u001b[0m in \u001b[0;36m<module>\u001b[0;34m\u001b[0m\n\u001b[0;32m----> 1\u001b[0;31m \u001b[0mPDcluster_clust\u001b[0m\u001b[0;34m.\u001b[0m\u001b[0mgroupby\u001b[0m\u001b[0;34m(\u001b[0m\u001b[0;34m[\u001b[0m\u001b[0;34m'cluster_label'\u001b[0m\u001b[0;34m]\u001b[0m\u001b[0;34m)\u001b[0m\u001b[0;34m[\u001b[0m\u001b[0;34m'udprs_Disease_Progression'\u001b[0m\u001b[0;34m,\u001b[0m\u001b[0;34m'udprs_Age_Diagnosis'\u001b[0m\u001b[0;34m]\u001b[0m\u001b[0;34m.\u001b[0m\u001b[0mmean\u001b[0m\u001b[0;34m(\u001b[0m\u001b[0;34m)\u001b[0m\u001b[0;34m\u001b[0m\u001b[0;34m\u001b[0m\u001b[0m\n\u001b[0m",
      "\u001b[0;32m/opt/conda/lib/python3.7/site-packages/pandas/core/base.py\u001b[0m in \u001b[0;36m__getitem__\u001b[0;34m(self, key)\u001b[0m\n\u001b[1;32m    255\u001b[0m                 \u001b[0mbad_keys\u001b[0m \u001b[0;34m=\u001b[0m \u001b[0mlist\u001b[0m\u001b[0;34m(\u001b[0m\u001b[0mset\u001b[0m\u001b[0;34m(\u001b[0m\u001b[0mkey\u001b[0m\u001b[0;34m)\u001b[0m\u001b[0;34m.\u001b[0m\u001b[0mdifference\u001b[0m\u001b[0;34m(\u001b[0m\u001b[0mself\u001b[0m\u001b[0;34m.\u001b[0m\u001b[0mobj\u001b[0m\u001b[0;34m.\u001b[0m\u001b[0mcolumns\u001b[0m\u001b[0;34m)\u001b[0m\u001b[0;34m)\u001b[0m\u001b[0;34m\u001b[0m\u001b[0;34m\u001b[0m\u001b[0m\n\u001b[1;32m    256\u001b[0m                 raise KeyError(\n\u001b[0;32m--> 257\u001b[0;31m                     \u001b[0;34m\"Columns not found: {missing}\"\u001b[0m\u001b[0;34m.\u001b[0m\u001b[0mformat\u001b[0m\u001b[0;34m(\u001b[0m\u001b[0mmissing\u001b[0m\u001b[0;34m=\u001b[0m\u001b[0mstr\u001b[0m\u001b[0;34m(\u001b[0m\u001b[0mbad_keys\u001b[0m\u001b[0;34m)\u001b[0m\u001b[0;34m[\u001b[0m\u001b[0;36m1\u001b[0m\u001b[0;34m:\u001b[0m\u001b[0;34m-\u001b[0m\u001b[0;36m1\u001b[0m\u001b[0;34m]\u001b[0m\u001b[0;34m)\u001b[0m\u001b[0;34m\u001b[0m\u001b[0;34m\u001b[0m\u001b[0m\n\u001b[0m\u001b[1;32m    258\u001b[0m                 )\n\u001b[1;32m    259\u001b[0m             \u001b[0;32mreturn\u001b[0m \u001b[0mself\u001b[0m\u001b[0;34m.\u001b[0m\u001b[0m_gotitem\u001b[0m\u001b[0;34m(\u001b[0m\u001b[0mlist\u001b[0m\u001b[0;34m(\u001b[0m\u001b[0mkey\u001b[0m\u001b[0;34m)\u001b[0m\u001b[0;34m,\u001b[0m \u001b[0mndim\u001b[0m\u001b[0;34m=\u001b[0m\u001b[0;36m2\u001b[0m\u001b[0;34m)\u001b[0m\u001b[0;34m\u001b[0m\u001b[0;34m\u001b[0m\u001b[0m\n",
      "\u001b[0;31mKeyError\u001b[0m: \"Columns not found: 'udprs_Age_Diagnosis', 'udprs_Disease_Progression'\""
     ]
    }
   ],
   "source": [
    "PDcluster_clust.groupby(['cluster_label'])['udprs_Disease_Progression','udprs_Age_Diagnosis'].mean()"
   ]
  },
  {
   "cell_type": "code",
   "execution_count": 1126,
   "metadata": {
    "ExecuteTime": {
     "end_time": "2021-01-12T23:41:20.826545Z",
     "start_time": "2021-01-12T23:41:20.774662Z"
    }
   },
   "outputs": [
    {
     "name": "stderr",
     "output_type": "stream",
     "text": [
      "/opt/conda/lib/python3.7/site-packages/ipykernel_launcher.py:7: SettingWithCopyWarning: \n",
      "A value is trying to be set on a copy of a slice from a DataFrame\n",
      "\n",
      "See the caveats in the documentation: http://pandas.pydata.org/pandas-docs/stable/user_guide/indexing.html#returning-a-view-versus-a-copy\n",
      "  import sys\n"
     ]
    }
   ],
   "source": [
    "#select and run cluster variables\n",
    "\n",
    "PDcluster=replacenullsmean(PDcluster)"
   ]
  },
  {
   "cell_type": "code",
   "execution_count": 1139,
   "metadata": {
    "ExecuteTime": {
     "end_time": "2021-01-12T23:43:58.186753Z",
     "start_time": "2021-01-12T23:43:56.989211Z"
    }
   },
   "outputs": [
    {
     "name": "stdout",
     "output_type": "stream",
     "text": [
      "(111, 12)\n",
      "Index(['cog1_Trails A Z score', 'Lm2_cut', 'ESS_norm', 'FOGQ_FOGQ 3',\n",
      "       'udprs_Disease_Progression_z_score', 'udprs_Age_Diagnosis_z_score',\n",
      "       'cog1_MMSE result_z_score', 'udprs_non_tremor_z_score',\n",
      "       'udprs_tremor_z_score', 'udprs_tremor_ratio_z_score',\n",
      "       'cog1_NART_z_score', 'BDI_BDI Total_z_score', 'umap_var1', 'umap_var2'],\n",
      "      dtype='object')\n"
     ]
    },
    {
     "name": "stderr",
     "output_type": "stream",
     "text": [
      "/opt/conda/lib/python3.7/site-packages/ipykernel_launcher.py:7: SettingWithCopyWarning: \n",
      "A value is trying to be set on a copy of a slice from a DataFrame\n",
      "\n",
      "See the caveats in the documentation: http://pandas.pydata.org/pandas-docs/stable/user_guide/indexing.html#returning-a-view-versus-a-copy\n",
      "  import sys\n"
     ]
    },
    {
     "data": {
      "image/png": "[encoded data removed]",
      "text/plain": [
       "<Figure size 432x288 with 1 Axes>"
      ]
     },
     "metadata": {
      "needs_background": "light"
     },
     "output_type": "display_data"
    },
    {
     "data": {
      "text/plain": [
       "<matplotlib.axes._subplots.AxesSubplot at 0x7f6c1898bd10>"
      ]
     },
     "execution_count": 1139,
     "metadata": {},
     "output_type": "execute_result"
    },
    {
     "data": {
      "image/png": "[encoded data removed]",
      "text/plain": [
       "<Figure size 432x288 with 1 Axes>"
      ]
     },
     "metadata": {
      "needs_background": "light"
     },
     "output_type": "display_data"
    }
   ],
   "source": [
    "pdclust_umap=umap_reducer(PDcluster,PDcluster.columns,neighb=20,comp=2)\n",
    "PDcluster_clust=elbow_clust(pdclust_umap,clustfit=4,dropvars=['SYDID','Date of assessment','index'])\n",
    "sns.scatterplot(data=PDcluster_clust, x=\"umap_var1\", y=\"umap_var2\",hue='cluster_label')\n"
   ]
  },
  {
   "cell_type": "code",
   "execution_count": 1142,
   "metadata": {
    "ExecuteTime": {
     "end_time": "2021-01-12T23:44:06.410541Z",
     "start_time": "2021-01-12T23:44:06.403299Z"
    }
   },
   "outputs": [
    {
     "data": {
      "text/plain": [
       "(135, 26)"
      ]
     },
     "execution_count": 1142,
     "metadata": {},
     "output_type": "execute_result"
    }
   ],
   "source": [
    "clust.shape"
   ]
  },
  {
   "cell_type": "code",
   "execution_count": 1141,
   "metadata": {
    "ExecuteTime": {
     "end_time": "2021-01-12T23:44:02.485851Z",
     "start_time": "2021-01-12T23:44:02.452967Z"
    }
   },
   "outputs": [
    {
     "data": {
      "text/html": [
       "<div>\n",
       "<style scoped>\n",
       "    .dataframe tbody tr th:only-of-type {\n",
       "        vertical-align: middle;\n",
       "    }\n",
       "\n",
       "    .dataframe tbody tr th {\n",
       "        vertical-align: top;\n",
       "    }\n",
       "\n",
       "    .dataframe thead th {\n",
       "        text-align: right;\n",
       "    }\n",
       "</style>\n",
       "<table border=\"1\" class=\"dataframe\">\n",
       "  <thead>\n",
       "    <tr style=\"text-align: right;\">\n",
       "      <th></th>\n",
       "      <th>udprs_Disease_Progression</th>\n",
       "      <th>udprs_Age_Diagnosis</th>\n",
       "      <th>cog1_MMSE result</th>\n",
       "      <th>udprs_non_tremor</th>\n",
       "      <th>udprs_tremor</th>\n",
       "      <th>udprs_tremor_ratio</th>\n",
       "      <th>cog1_NART</th>\n",
       "      <th>BDI_BDI Total</th>\n",
       "    </tr>\n",
       "    <tr>\n",
       "      <th>cluster_label</th>\n",
       "      <th></th>\n",
       "      <th></th>\n",
       "      <th></th>\n",
       "      <th></th>\n",
       "      <th></th>\n",
       "      <th></th>\n",
       "      <th></th>\n",
       "      <th></th>\n",
       "    </tr>\n",
       "  </thead>\n",
       "  <tbody>\n",
       "    <tr>\n",
       "      <th>0</th>\n",
       "      <td>0.031852</td>\n",
       "      <td>63.819672</td>\n",
       "      <td>28.810811</td>\n",
       "      <td>1.105405</td>\n",
       "      <td>0.891892</td>\n",
       "      <td>0.867218</td>\n",
       "      <td>110.486486</td>\n",
       "      <td>8.135135</td>\n",
       "    </tr>\n",
       "    <tr>\n",
       "      <th>1</th>\n",
       "      <td>0.024518</td>\n",
       "      <td>56.291757</td>\n",
       "      <td>29.435897</td>\n",
       "      <td>1.210256</td>\n",
       "      <td>0.307692</td>\n",
       "      <td>0.294250</td>\n",
       "      <td>114.384615</td>\n",
       "      <td>7.794872</td>\n",
       "    </tr>\n",
       "    <tr>\n",
       "      <th>2</th>\n",
       "      <td>0.025618</td>\n",
       "      <td>61.406221</td>\n",
       "      <td>29.200000</td>\n",
       "      <td>1.862222</td>\n",
       "      <td>0.355556</td>\n",
       "      <td>0.189429</td>\n",
       "      <td>112.558343</td>\n",
       "      <td>6.688889</td>\n",
       "    </tr>\n",
       "    <tr>\n",
       "      <th>3</th>\n",
       "      <td>0.032717</td>\n",
       "      <td>62.685832</td>\n",
       "      <td>28.571429</td>\n",
       "      <td>1.035714</td>\n",
       "      <td>0.557143</td>\n",
       "      <td>0.607920</td>\n",
       "      <td>111.428571</td>\n",
       "      <td>7.428571</td>\n",
       "    </tr>\n",
       "  </tbody>\n",
       "</table>\n",
       "</div>"
      ],
      "text/plain": [
       "               udprs_Disease_Progression  udprs_Age_Diagnosis  \\\n",
       "cluster_label                                                   \n",
       "0                               0.031852            63.819672   \n",
       "1                               0.024518            56.291757   \n",
       "2                               0.025618            61.406221   \n",
       "3                               0.032717            62.685832   \n",
       "\n",
       "               cog1_MMSE result  udprs_non_tremor  udprs_tremor  \\\n",
       "cluster_label                                                     \n",
       "0                     28.810811          1.105405      0.891892   \n",
       "1                     29.435897          1.210256      0.307692   \n",
       "2                     29.200000          1.862222      0.355556   \n",
       "3                     28.571429          1.035714      0.557143   \n",
       "\n",
       "               udprs_tremor_ratio   cog1_NART  BDI_BDI Total  \n",
       "cluster_label                                                 \n",
       "0                        0.867218  110.486486       8.135135  \n",
       "1                        0.294250  114.384615       7.794872  \n",
       "2                        0.189429  112.558343       6.688889  \n",
       "3                        0.607920  111.428571       7.428571  "
      ]
     },
     "execution_count": 1141,
     "metadata": {},
     "output_type": "execute_result"
    }
   ],
   "source": [
    "clust=pd.merge(PDcluster_clust,PDcombined[['SYDID','Date of assessment','udprs_Disease_Progression','udprs_Age_Diagnosis','BDI_BDI Total','cog1_MMSE result',\\\n",
    "'udprs_non_tremor','udprs_tremor','udprs_tremor_ratio','cog1_NART']],on=['SYDID','Date of assessment'],how='left')\n",
    "\n",
    "clust.groupby(['cluster_label'])['udprs_Disease_Progression','udprs_Age_Diagnosis','cog1_MMSE result',\n",
    "                                              'udprs_non_tremor','udprs_tremor','udprs_tremor_ratio','cog1_NART','BDI_BDI Total'].mean()\n",
    "\n"
   ]
  },
  {
   "cell_type": "code",
   "execution_count": 1137,
   "metadata": {
    "ExecuteTime": {
     "end_time": "2021-01-12T23:43:25.926888Z",
     "start_time": "2021-01-12T23:43:25.915081Z"
    }
   },
   "outputs": [
    {
     "data": {
      "text/plain": [
       "cluster_label\n",
       "0    13\n",
       "1     3\n",
       "2    65\n",
       "3    54\n",
       "dtype: int64"
      ]
     },
     "execution_count": 1137,
     "metadata": {},
     "output_type": "execute_result"
    }
   ],
   "source": [
    "clust.groupby('cluster_label').size()"
   ]
  },
  {
   "cell_type": "code",
   "execution_count": 1025,
   "metadata": {
    "ExecuteTime": {
     "end_time": "2021-01-12T23:01:08.489481Z",
     "start_time": "2021-01-12T23:01:07.751712Z"
    }
   },
   "outputs": [
    {
     "name": "stdout",
     "output_type": "stream",
     "text": [
      "Index(['cog1_Trails A Z score', 'Lm2_cut', 'ESS_norm', 'FOGQ_FOGQ 3',\n",
      "       'udprs_Disease_Progression_z_score', 'udprs_Age_Diagnosis_z_score',\n",
      "       'cog1_MMSE result_z_score', 'udprs_non_tremor_z_score',\n",
      "       'udprs_tremor_z_score', 'udprs_tremor_ratio_z_score',\n",
      "       'cog1_NART_z_score', 'BDI_BDI Total_z_score', 'cluster_label'],\n",
      "      dtype='object')\n"
     ]
    },
    {
     "name": "stderr",
     "output_type": "stream",
     "text": [
      "/opt/conda/lib/python3.7/site-packages/ipykernel_launcher.py:7: SettingWithCopyWarning: \n",
      "A value is trying to be set on a copy of a slice from a DataFrame\n",
      "\n",
      "See the caveats in the documentation: http://pandas.pydata.org/pandas-docs/stable/user_guide/indexing.html#returning-a-view-versus-a-copy\n",
      "  import sys\n"
     ]
    },
    {
     "data": {
      "image/png": "[encoded data removed]",
      "text/plain": [
       "<Figure size 432x288 with 1 Axes>"
      ]
     },
     "metadata": {
      "needs_background": "light"
     },
     "output_type": "display_data"
    }
   ],
   "source": [
    "#PDcluster=replacenullsmean(PDcluster)\n",
    "PDcluster_clust=elbow_clust(PDcluster,clustfit=4)"
   ]
  },
  {
   "cell_type": "code",
   "execution_count": 1026,
   "metadata": {
    "ExecuteTime": {
     "end_time": "2021-01-12T23:01:08.767805Z",
     "start_time": "2021-01-12T23:01:08.760284Z"
    }
   },
   "outputs": [],
   "source": [
    "clusterselect=PDcluster_clust[['SYDID','Date of assessment','cluster_label']]"
   ]
  },
  {
   "cell_type": "code",
   "execution_count": 1027,
   "metadata": {
    "ExecuteTime": {
     "end_time": "2021-01-12T23:01:10.314462Z",
     "start_time": "2021-01-12T23:01:10.302398Z"
    }
   },
   "outputs": [],
   "source": [
    "clust=pd.merge(clusterselect,PDcombined[['SYDID','Date of assessment','udprs_Disease_Progression','udprs_Age_Diagnosis','BDI_BDI Total','cog1_MMSE result',\\\n",
    "'udprs_non_tremor','udprs_tremor','udprs_tremor_ratio','cog1_NART']],on=['SYDID','Date of assessment'],how='inner')"
   ]
  },
  {
   "cell_type": "code",
   "execution_count": 1028,
   "metadata": {
    "ExecuteTime": {
     "end_time": "2021-01-12T23:01:12.394897Z",
     "start_time": "2021-01-12T23:01:12.383045Z"
    }
   },
   "outputs": [
    {
     "data": {
      "text/plain": [
       "cluster_label\n",
       "0     44\n",
       "1     20\n",
       "2     77\n",
       "3    119\n",
       "dtype: int64"
      ]
     },
     "execution_count": 1028,
     "metadata": {},
     "output_type": "execute_result"
    }
   ],
   "source": [
    "clust.groupby(['cluster_label']).size()"
   ]
  },
  {
   "cell_type": "code",
   "execution_count": 1029,
   "metadata": {
    "ExecuteTime": {
     "end_time": "2021-01-12T23:01:14.901758Z",
     "start_time": "2021-01-12T23:01:14.882715Z"
    }
   },
   "outputs": [
    {
     "data": {
      "text/html": [
       "<div>\n",
       "<style scoped>\n",
       "    .dataframe tbody tr th:only-of-type {\n",
       "        vertical-align: middle;\n",
       "    }\n",
       "\n",
       "    .dataframe tbody tr th {\n",
       "        vertical-align: top;\n",
       "    }\n",
       "\n",
       "    .dataframe thead th {\n",
       "        text-align: right;\n",
       "    }\n",
       "</style>\n",
       "<table border=\"1\" class=\"dataframe\">\n",
       "  <thead>\n",
       "    <tr style=\"text-align: right;\">\n",
       "      <th></th>\n",
       "      <th>udprs_Disease_Progression</th>\n",
       "      <th>udprs_Age_Diagnosis</th>\n",
       "      <th>cog1_MMSE result</th>\n",
       "      <th>udprs_non_tremor</th>\n",
       "      <th>udprs_tremor</th>\n",
       "      <th>udprs_tremor_ratio</th>\n",
       "      <th>cog1_NART</th>\n",
       "      <th>BDI_BDI Total</th>\n",
       "    </tr>\n",
       "    <tr>\n",
       "      <th>cluster_label</th>\n",
       "      <th></th>\n",
       "      <th></th>\n",
       "      <th></th>\n",
       "      <th></th>\n",
       "      <th></th>\n",
       "      <th></th>\n",
       "      <th></th>\n",
       "      <th></th>\n",
       "    </tr>\n",
       "  </thead>\n",
       "  <tbody>\n",
       "    <tr>\n",
       "      <th>0</th>\n",
       "      <td>0.025378</td>\n",
       "      <td>61.588389</td>\n",
       "      <td>29.272727</td>\n",
       "      <td>1.847727</td>\n",
       "      <td>0.363636</td>\n",
       "      <td>0.198314</td>\n",
       "      <td>112.048306</td>\n",
       "      <td>6.431818</td>\n",
       "    </tr>\n",
       "    <tr>\n",
       "      <th>1</th>\n",
       "      <td>0.040840</td>\n",
       "      <td>63.989733</td>\n",
       "      <td>26.850000</td>\n",
       "      <td>1.540000</td>\n",
       "      <td>0.530000</td>\n",
       "      <td>0.414551</td>\n",
       "      <td>107.200000</td>\n",
       "      <td>10.050000</td>\n",
       "    </tr>\n",
       "    <tr>\n",
       "      <th>2</th>\n",
       "      <td>0.031121</td>\n",
       "      <td>62.863116</td>\n",
       "      <td>28.701299</td>\n",
       "      <td>1.159740</td>\n",
       "      <td>0.187013</td>\n",
       "      <td>0.164198</td>\n",
       "      <td>116.040590</td>\n",
       "      <td>8.220779</td>\n",
       "    </tr>\n",
       "    <tr>\n",
       "      <th>3</th>\n",
       "      <td>0.028924</td>\n",
       "      <td>52.144416</td>\n",
       "      <td>29.546218</td>\n",
       "      <td>0.853782</td>\n",
       "      <td>0.858824</td>\n",
       "      <td>1.039961</td>\n",
       "      <td>111.537815</td>\n",
       "      <td>7.050420</td>\n",
       "    </tr>\n",
       "  </tbody>\n",
       "</table>\n",
       "</div>"
      ],
      "text/plain": [
       "               udprs_Disease_Progression  udprs_Age_Diagnosis  \\\n",
       "cluster_label                                                   \n",
       "0                               0.025378            61.588389   \n",
       "1                               0.040840            63.989733   \n",
       "2                               0.031121            62.863116   \n",
       "3                               0.028924            52.144416   \n",
       "\n",
       "               cog1_MMSE result  udprs_non_tremor  udprs_tremor  \\\n",
       "cluster_label                                                     \n",
       "0                     29.272727          1.847727      0.363636   \n",
       "1                     26.850000          1.540000      0.530000   \n",
       "2                     28.701299          1.159740      0.187013   \n",
       "3                     29.546218          0.853782      0.858824   \n",
       "\n",
       "               udprs_tremor_ratio   cog1_NART  BDI_BDI Total  \n",
       "cluster_label                                                 \n",
       "0                        0.198314  112.048306       6.431818  \n",
       "1                        0.414551  107.200000      10.050000  \n",
       "2                        0.164198  116.040590       8.220779  \n",
       "3                        1.039961  111.537815       7.050420  "
      ]
     },
     "execution_count": 1029,
     "metadata": {},
     "output_type": "execute_result"
    }
   ],
   "source": [
    "clust.groupby(['cluster_label'])['udprs_Disease_Progression','udprs_Age_Diagnosis','cog1_MMSE result',\n",
    "                                              'udprs_non_tremor','udprs_tremor','udprs_tremor_ratio','cog1_NART','BDI_BDI Total'].mean()\n",
    "                                              \n"
   ]
  },
  {
   "cell_type": "code",
   "execution_count": 1012,
   "metadata": {
    "ExecuteTime": {
     "end_time": "2021-01-12T22:58:19.805890Z",
     "start_time": "2021-01-12T22:58:19.533857Z"
    }
   },
   "outputs": [
    {
     "data": {
      "text/plain": [
       "<matplotlib.axes._subplots.AxesSubplot at 0x7f6c1dab3b50>"
      ]
     },
     "execution_count": 1012,
     "metadata": {},
     "output_type": "execute_result"
    },
    {
     "data": {
      "image/png": "[encoded data removed]",
      "text/plain": [
       "<Figure size 432x288 with 1 Axes>"
      ]
     },
     "metadata": {
      "needs_background": "light"
     },
     "output_type": "display_data"
    }
   ],
   "source": [
    "clust['udprs_Disease_Progression'].hist()"
   ]
  },
  {
   "cell_type": "code",
   "execution_count": 850,
   "metadata": {
    "ExecuteTime": {
     "end_time": "2021-01-12T06:05:38.580942Z",
     "start_time": "2021-01-12T06:05:38.551553Z"
    }
   },
   "outputs": [
    {
     "data": {
      "text/html": [
       "<div>\n",
       "<style scoped>\n",
       "    .dataframe tbody tr th:only-of-type {\n",
       "        vertical-align: middle;\n",
       "    }\n",
       "\n",
       "    .dataframe tbody tr th {\n",
       "        vertical-align: top;\n",
       "    }\n",
       "\n",
       "    .dataframe thead th {\n",
       "        text-align: right;\n",
       "    }\n",
       "</style>\n",
       "<table border=\"1\" class=\"dataframe\">\n",
       "  <thead>\n",
       "    <tr style=\"text-align: right;\">\n",
       "      <th></th>\n",
       "      <th>udprs_Disease_Progression</th>\n",
       "      <th>udprs_Age_Diagnosis</th>\n",
       "      <th>BDI_BDI Total</th>\n",
       "      <th>cog1_MMSE result</th>\n",
       "      <th>udprs_non_tremor</th>\n",
       "      <th>udprs_tremor</th>\n",
       "      <th>udprs_tremor_ratio</th>\n",
       "      <th>cog1_NART</th>\n",
       "      <th>BDI_BDI Total</th>\n",
       "    </tr>\n",
       "  </thead>\n",
       "  <tbody>\n",
       "    <tr>\n",
       "      <th>73</th>\n",
       "      <td>0.029580</td>\n",
       "      <td>59.764545</td>\n",
       "      <td>10.0</td>\n",
       "      <td>24.0</td>\n",
       "      <td>2.1</td>\n",
       "      <td>1.0</td>\n",
       "      <td>0.476190</td>\n",
       "      <td>89.0</td>\n",
       "      <td>10.0</td>\n",
       "    </tr>\n",
       "    <tr>\n",
       "      <th>74</th>\n",
       "      <td>0.049159</td>\n",
       "      <td>64.172485</td>\n",
       "      <td>11.0</td>\n",
       "      <td>30.0</td>\n",
       "      <td>1.9</td>\n",
       "      <td>0.2</td>\n",
       "      <td>0.105263</td>\n",
       "      <td>102.0</td>\n",
       "      <td>11.0</td>\n",
       "    </tr>\n",
       "    <tr>\n",
       "      <th>75</th>\n",
       "      <td>0.015993</td>\n",
       "      <td>55.186858</td>\n",
       "      <td>4.0</td>\n",
       "      <td>29.0</td>\n",
       "      <td>1.1</td>\n",
       "      <td>0.0</td>\n",
       "      <td>0.000000</td>\n",
       "      <td>112.0</td>\n",
       "      <td>4.0</td>\n",
       "    </tr>\n",
       "    <tr>\n",
       "      <th>158</th>\n",
       "      <td>0.010172</td>\n",
       "      <td>55.186858</td>\n",
       "      <td>5.0</td>\n",
       "      <td>28.0</td>\n",
       "      <td>0.5</td>\n",
       "      <td>0.0</td>\n",
       "      <td>0.000000</td>\n",
       "      <td>112.0</td>\n",
       "      <td>5.0</td>\n",
       "    </tr>\n",
       "    <tr>\n",
       "      <th>214</th>\n",
       "      <td>0.006218</td>\n",
       "      <td>55.186858</td>\n",
       "      <td>4.0</td>\n",
       "      <td>30.0</td>\n",
       "      <td>0.6</td>\n",
       "      <td>0.0</td>\n",
       "      <td>0.000000</td>\n",
       "      <td>112.0</td>\n",
       "      <td>4.0</td>\n",
       "    </tr>\n",
       "    <tr>\n",
       "      <th>...</th>\n",
       "      <td>...</td>\n",
       "      <td>...</td>\n",
       "      <td>...</td>\n",
       "      <td>...</td>\n",
       "      <td>...</td>\n",
       "      <td>...</td>\n",
       "      <td>...</td>\n",
       "      <td>...</td>\n",
       "      <td>...</td>\n",
       "    </tr>\n",
       "    <tr>\n",
       "      <th>68</th>\n",
       "      <td>0.029314</td>\n",
       "      <td>68.711841</td>\n",
       "      <td>4.0</td>\n",
       "      <td>29.0</td>\n",
       "      <td>2.3</td>\n",
       "      <td>0.2</td>\n",
       "      <td>0.086957</td>\n",
       "      <td>107.0</td>\n",
       "      <td>4.0</td>\n",
       "    </tr>\n",
       "    <tr>\n",
       "      <th>69</th>\n",
       "      <td>0.072569</td>\n",
       "      <td>70.644764</td>\n",
       "      <td>13.0</td>\n",
       "      <td>25.0</td>\n",
       "      <td>0.9</td>\n",
       "      <td>0.8</td>\n",
       "      <td>0.888889</td>\n",
       "      <td>113.0</td>\n",
       "      <td>13.0</td>\n",
       "    </tr>\n",
       "    <tr>\n",
       "      <th>70</th>\n",
       "      <td>0.017993</td>\n",
       "      <td>69.878166</td>\n",
       "      <td>4.0</td>\n",
       "      <td>26.0</td>\n",
       "      <td>1.3</td>\n",
       "      <td>0.6</td>\n",
       "      <td>0.461538</td>\n",
       "      <td>103.0</td>\n",
       "      <td>4.0</td>\n",
       "    </tr>\n",
       "    <tr>\n",
       "      <th>71</th>\n",
       "      <td>9.000000</td>\n",
       "      <td>76.673511</td>\n",
       "      <td>11.0</td>\n",
       "      <td>30.0</td>\n",
       "      <td>2.1</td>\n",
       "      <td>0.8</td>\n",
       "      <td>0.380952</td>\n",
       "      <td>115.0</td>\n",
       "      <td>11.0</td>\n",
       "    </tr>\n",
       "    <tr>\n",
       "      <th>72</th>\n",
       "      <td>0.023634</td>\n",
       "      <td>60.396988</td>\n",
       "      <td>30.0</td>\n",
       "      <td>30.0</td>\n",
       "      <td>0.9</td>\n",
       "      <td>0.4</td>\n",
       "      <td>0.444444</td>\n",
       "      <td>118.0</td>\n",
       "      <td>30.0</td>\n",
       "    </tr>\n",
       "  </tbody>\n",
       "</table>\n",
       "<p>281 rows × 9 columns</p>\n",
       "</div>"
      ],
      "text/plain": [
       "     udprs_Disease_Progression  udprs_Age_Diagnosis  BDI_BDI Total  \\\n",
       "73                    0.029580            59.764545           10.0   \n",
       "74                    0.049159            64.172485           11.0   \n",
       "75                    0.015993            55.186858            4.0   \n",
       "158                   0.010172            55.186858            5.0   \n",
       "214                   0.006218            55.186858            4.0   \n",
       "..                         ...                  ...            ...   \n",
       "68                    0.029314            68.711841            4.0   \n",
       "69                    0.072569            70.644764           13.0   \n",
       "70                    0.017993            69.878166            4.0   \n",
       "71                    9.000000            76.673511           11.0   \n",
       "72                    0.023634            60.396988           30.0   \n",
       "\n",
       "     cog1_MMSE result  udprs_non_tremor  udprs_tremor  udprs_tremor_ratio  \\\n",
       "73               24.0               2.1           1.0            0.476190   \n",
       "74               30.0               1.9           0.2            0.105263   \n",
       "75               29.0               1.1           0.0            0.000000   \n",
       "158              28.0               0.5           0.0            0.000000   \n",
       "214              30.0               0.6           0.0            0.000000   \n",
       "..                ...               ...           ...                 ...   \n",
       "68               29.0               2.3           0.2            0.086957   \n",
       "69               25.0               0.9           0.8            0.888889   \n",
       "70               26.0               1.3           0.6            0.461538   \n",
       "71               30.0               2.1           0.8            0.380952   \n",
       "72               30.0               0.9           0.4            0.444444   \n",
       "\n",
       "     cog1_NART  BDI_BDI Total  \n",
       "73        89.0           10.0  \n",
       "74       102.0           11.0  \n",
       "75       112.0            4.0  \n",
       "158      112.0            5.0  \n",
       "214      112.0            4.0  \n",
       "..         ...            ...  \n",
       "68       107.0            4.0  \n",
       "69       113.0           13.0  \n",
       "70       103.0            4.0  \n",
       "71       115.0           11.0  \n",
       "72       118.0           30.0  \n",
       "\n",
       "[281 rows x 9 columns]"
      ]
     },
     "execution_count": 850,
     "metadata": {},
     "output_type": "execute_result"
    }
   ],
   "source": [
    "PDcombined[['udprs_Disease_Progression','udprs_Age_Diagnosis','BDI_BDI Total','cog1_MMSE result',\\\n",
    "'udprs_non_tremor','udprs_tremor','udprs_tremor_ratio','cog1_NART','BDI_BDI Total']\n",
    "]"
   ]
  },
  {
   "cell_type": "code",
   "execution_count": 768,
   "metadata": {
    "ExecuteTime": {
     "end_time": "2021-01-12T00:58:11.165407Z",
     "start_time": "2021-01-12T00:58:11.156943Z"
    }
   },
   "outputs": [],
   "source": []
  },
  {
   "cell_type": "code",
   "execution_count": 780,
   "metadata": {
    "ExecuteTime": {
     "end_time": "2021-01-12T01:06:26.501605Z",
     "start_time": "2021-01-12T01:06:26.494218Z"
    }
   },
   "outputs": [],
   "source": []
  },
  {
   "cell_type": "code",
   "execution_count": null,
   "metadata": {},
   "outputs": [],
   "source": []
  },
  {
   "cell_type": "code",
   "execution_count": 766,
   "metadata": {
    "ExecuteTime": {
     "end_time": "2021-01-12T00:57:30.521562Z",
     "start_time": "2021-01-12T00:57:30.514319Z"
    }
   },
   "outputs": [],
   "source": []
  },
  {
   "cell_type": "code",
   "execution_count": 767,
   "metadata": {
    "ExecuteTime": {
     "end_time": "2021-01-12T00:57:30.678238Z",
     "start_time": "2021-01-12T00:57:30.662156Z"
    }
   },
   "outputs": [
    {
     "name": "stderr",
     "output_type": "stream",
     "text": [
      "/opt/conda/lib/python3.7/site-packages/ipykernel_launcher.py:2: SettingWithCopyWarning: \n",
      "A value is trying to be set on a copy of a slice from a DataFrame\n",
      "\n",
      "See the caveats in the documentation: http://pandas.pydata.org/pandas-docs/stable/user_guide/indexing.html#returning-a-view-versus-a-copy\n",
      "  \n",
      "/opt/conda/lib/python3.7/site-packages/ipykernel_launcher.py:3: SettingWithCopyWarning: \n",
      "A value is trying to be set on a copy of a slice from a DataFrame\n",
      "\n",
      "See the caveats in the documentation: http://pandas.pydata.org/pandas-docs/stable/user_guide/indexing.html#returning-a-view-versus-a-copy\n",
      "  This is separate from the ipykernel package so we can avoid doing imports until\n"
     ]
    }
   ],
   "source": []
  },
  {
   "cell_type": "code",
   "execution_count": 372,
   "metadata": {
    "ExecuteTime": {
     "end_time": "2021-01-06T01:29:57.264748Z",
     "start_time": "2021-01-06T01:29:56.932992Z"
    }
   },
   "outputs": [
    {
     "data": {
      "text/plain": [
       "<matplotlib.axes._subplots.AxesSubplot at 0x7f6c205cb950>"
      ]
     },
     "execution_count": 372,
     "metadata": {},
     "output_type": "execute_result"
    },
    {
     "data": {
      "image/png": "[encoded data removed]",
      "text/plain": [
       "<Figure size 432x288 with 1 Axes>"
      ]
     },
     "metadata": {
      "needs_background": "light"
     },
     "output_type": "display_data"
    }
   ],
   "source": [
    "\n",
    "mask_tp0=(udprs_cog_moc['time_point']==0)\n",
    "mask_5yd=(udprs_cog_moc['Disease_Duration']/365<5)\n",
    "\n",
    "(udprs_cog_moc['Disease_Duration']/365)[mask_tp0].hist(bins=50)"
   ]
  },
  {
   "cell_type": "code",
   "execution_count": 373,
   "metadata": {
    "ExecuteTime": {
     "end_time": "2021-01-06T01:29:57.658716Z",
     "start_time": "2021-01-06T01:29:57.650709Z"
    }
   },
   "outputs": [
    {
     "data": {
      "text/plain": [
       "77"
      ]
     },
     "execution_count": 373,
     "metadata": {},
     "output_type": "execute_result"
    }
   ],
   "source": [
    "udprs_cog_moc['SYDID'][mask_tp0&mask_5yd].nunique()"
   ]
  },
  {
   "cell_type": "code",
   "execution_count": 374,
   "metadata": {
    "ExecuteTime": {
     "end_time": "2021-01-06T01:29:59.128664Z",
     "start_time": "2021-01-06T01:29:58.690454Z"
    }
   },
   "outputs": [
    {
     "data": {
      "text/plain": [
       "<matplotlib.axes._subplots.AxesSubplot at 0x7f6c43949490>"
      ]
     },
     "execution_count": 374,
     "metadata": {},
     "output_type": "execute_result"
    },
    {
     "data": {
      "image/png": "[encoded data removed]",
      "text/plain": [
       "<Figure size 432x288 with 1 Axes>"
      ]
     },
     "metadata": {
      "needs_background": "light"
     },
     "output_type": "display_data"
    }
   ],
   "source": [
    "udprs_cog_moc['DDE_coef'][(udprs_cog_moc['DDE_coef']!=0)].hist(bins=100)"
   ]
  },
  {
   "cell_type": "code",
   "execution_count": 375,
   "metadata": {
    "ExecuteTime": {
     "end_time": "2021-01-06T01:30:00.547085Z",
     "start_time": "2021-01-06T01:30:00.361609Z"
    }
   },
   "outputs": [
    {
     "data": {
      "image/png": "[encoded data removed]",
      "text/plain": [
       "<Figure size 432x288 with 1 Axes>"
      ]
     },
     "metadata": {
      "needs_background": "light"
     },
     "output_type": "display_data"
    }
   ],
   "source": [
    "mask=(udprs_cog_moc['totalPDQ-39_coef']>0)&(udprs_cog_moc['DDE_coef']>0)\n",
    "\n",
    "\n",
    "x=udprs_cog_moc['totalPDQ-39_coef'][mask]\n",
    "y=udprs_cog_moc['DDE_coef'][mask]\n",
    "\n",
    "#colors = rng.rand(100)\n",
    "#sizes = 1000 * rng.rand(100)\n",
    "\n",
    "plt.scatter(x, y,\n",
    "            cmap='viridis')\n",
    "plt.show()\n",
    "#plt.colorbar();  # show color scale\n"
   ]
  },
  {
   "cell_type": "code",
   "execution_count": 245,
   "metadata": {
    "ExecuteTime": {
     "end_time": "2020-12-28T23:00:59.361688Z",
     "start_time": "2020-12-28T23:00:59.308764Z"
    }
   },
   "outputs": [
    {
     "ename": "KeyError",
     "evalue": "'totalPDQ-39_coef'",
     "output_type": "error",
     "traceback": [
      "\u001b[0;31m---------------------------------------------------------------------------\u001b[0m",
      "\u001b[0;31mKeyError\u001b[0m                                  Traceback (most recent call last)",
      "\u001b[0;32m/opt/conda/lib/python3.7/site-packages/pandas/core/indexes/base.py\u001b[0m in \u001b[0;36mget_loc\u001b[0;34m(self, key, method, tolerance)\u001b[0m\n\u001b[1;32m   2896\u001b[0m             \u001b[0;32mtry\u001b[0m\u001b[0;34m:\u001b[0m\u001b[0;34m\u001b[0m\u001b[0;34m\u001b[0m\u001b[0m\n\u001b[0;32m-> 2897\u001b[0;31m                 \u001b[0;32mreturn\u001b[0m \u001b[0mself\u001b[0m\u001b[0;34m.\u001b[0m\u001b[0m_engine\u001b[0m\u001b[0;34m.\u001b[0m\u001b[0mget_loc\u001b[0m\u001b[0;34m(\u001b[0m\u001b[0mkey\u001b[0m\u001b[0;34m)\u001b[0m\u001b[0;34m\u001b[0m\u001b[0;34m\u001b[0m\u001b[0m\n\u001b[0m\u001b[1;32m   2898\u001b[0m             \u001b[0;32mexcept\u001b[0m \u001b[0mKeyError\u001b[0m\u001b[0;34m:\u001b[0m\u001b[0;34m\u001b[0m\u001b[0;34m\u001b[0m\u001b[0m\n",
      "\u001b[0;32mpandas/_libs/index.pyx\u001b[0m in \u001b[0;36mpandas._libs.index.IndexEngine.get_loc\u001b[0;34m()\u001b[0m\n",
      "\u001b[0;32mpandas/_libs/index.pyx\u001b[0m in \u001b[0;36mpandas._libs.index.IndexEngine.get_loc\u001b[0;34m()\u001b[0m\n",
      "\u001b[0;32mpandas/_libs/hashtable_class_helper.pxi\u001b[0m in \u001b[0;36mpandas._libs.hashtable.PyObjectHashTable.get_item\u001b[0;34m()\u001b[0m\n",
      "\u001b[0;32mpandas/_libs/hashtable_class_helper.pxi\u001b[0m in \u001b[0;36mpandas._libs.hashtable.PyObjectHashTable.get_item\u001b[0;34m()\u001b[0m\n",
      "\u001b[0;31mKeyError\u001b[0m: 'totalPDQ-39_coef'",
      "\nDuring handling of the above exception, another exception occurred:\n",
      "\u001b[0;31mKeyError\u001b[0m                                  Traceback (most recent call last)",
      "\u001b[0;32m<ipython-input-245-dabb9661b7ea>\u001b[0m in \u001b[0;36m<module>\u001b[0;34m\u001b[0m\n\u001b[0;32m----> 1\u001b[0;31m \u001b[0mudprs_cog_moc\u001b[0m\u001b[0;34m[\u001b[0m\u001b[0;34m'totalPDQ-39_coef'\u001b[0m\u001b[0;34m]\u001b[0m\u001b[0;34m[\u001b[0m\u001b[0;34m(\u001b[0m\u001b[0mudprs_cog_moc\u001b[0m\u001b[0;34m[\u001b[0m\u001b[0;34m'totalPDQ-39_coef'\u001b[0m\u001b[0;34m]\u001b[0m\u001b[0;34m!=\u001b[0m\u001b[0;36m0\u001b[0m\u001b[0;34m)\u001b[0m\u001b[0;34m]\u001b[0m\u001b[0;34m.\u001b[0m\u001b[0mhist\u001b[0m\u001b[0;34m(\u001b[0m\u001b[0mbins\u001b[0m\u001b[0;34m=\u001b[0m\u001b[0;36m100\u001b[0m\u001b[0;34m)\u001b[0m\u001b[0;34m\u001b[0m\u001b[0;34m\u001b[0m\u001b[0m\n\u001b[0m",
      "\u001b[0;32m/opt/conda/lib/python3.7/site-packages/pandas/core/frame.py\u001b[0m in \u001b[0;36m__getitem__\u001b[0;34m(self, key)\u001b[0m\n\u001b[1;32m   2993\u001b[0m             \u001b[0;32mif\u001b[0m \u001b[0mself\u001b[0m\u001b[0;34m.\u001b[0m\u001b[0mcolumns\u001b[0m\u001b[0;34m.\u001b[0m\u001b[0mnlevels\u001b[0m \u001b[0;34m>\u001b[0m \u001b[0;36m1\u001b[0m\u001b[0;34m:\u001b[0m\u001b[0;34m\u001b[0m\u001b[0;34m\u001b[0m\u001b[0m\n\u001b[1;32m   2994\u001b[0m                 \u001b[0;32mreturn\u001b[0m \u001b[0mself\u001b[0m\u001b[0;34m.\u001b[0m\u001b[0m_getitem_multilevel\u001b[0m\u001b[0;34m(\u001b[0m\u001b[0mkey\u001b[0m\u001b[0;34m)\u001b[0m\u001b[0;34m\u001b[0m\u001b[0;34m\u001b[0m\u001b[0m\n\u001b[0;32m-> 2995\u001b[0;31m             \u001b[0mindexer\u001b[0m \u001b[0;34m=\u001b[0m \u001b[0mself\u001b[0m\u001b[0;34m.\u001b[0m\u001b[0mcolumns\u001b[0m\u001b[0;34m.\u001b[0m\u001b[0mget_loc\u001b[0m\u001b[0;34m(\u001b[0m\u001b[0mkey\u001b[0m\u001b[0;34m)\u001b[0m\u001b[0;34m\u001b[0m\u001b[0;34m\u001b[0m\u001b[0m\n\u001b[0m\u001b[1;32m   2996\u001b[0m             \u001b[0;32mif\u001b[0m \u001b[0mis_integer\u001b[0m\u001b[0;34m(\u001b[0m\u001b[0mindexer\u001b[0m\u001b[0;34m)\u001b[0m\u001b[0;34m:\u001b[0m\u001b[0;34m\u001b[0m\u001b[0;34m\u001b[0m\u001b[0m\n\u001b[1;32m   2997\u001b[0m                 \u001b[0mindexer\u001b[0m \u001b[0;34m=\u001b[0m \u001b[0;34m[\u001b[0m\u001b[0mindexer\u001b[0m\u001b[0;34m]\u001b[0m\u001b[0;34m\u001b[0m\u001b[0;34m\u001b[0m\u001b[0m\n",
      "\u001b[0;32m/opt/conda/lib/python3.7/site-packages/pandas/core/indexes/base.py\u001b[0m in \u001b[0;36mget_loc\u001b[0;34m(self, key, method, tolerance)\u001b[0m\n\u001b[1;32m   2897\u001b[0m                 \u001b[0;32mreturn\u001b[0m \u001b[0mself\u001b[0m\u001b[0;34m.\u001b[0m\u001b[0m_engine\u001b[0m\u001b[0;34m.\u001b[0m\u001b[0mget_loc\u001b[0m\u001b[0;34m(\u001b[0m\u001b[0mkey\u001b[0m\u001b[0;34m)\u001b[0m\u001b[0;34m\u001b[0m\u001b[0;34m\u001b[0m\u001b[0m\n\u001b[1;32m   2898\u001b[0m             \u001b[0;32mexcept\u001b[0m \u001b[0mKeyError\u001b[0m\u001b[0;34m:\u001b[0m\u001b[0;34m\u001b[0m\u001b[0;34m\u001b[0m\u001b[0m\n\u001b[0;32m-> 2899\u001b[0;31m                 \u001b[0;32mreturn\u001b[0m \u001b[0mself\u001b[0m\u001b[0;34m.\u001b[0m\u001b[0m_engine\u001b[0m\u001b[0;34m.\u001b[0m\u001b[0mget_loc\u001b[0m\u001b[0;34m(\u001b[0m\u001b[0mself\u001b[0m\u001b[0;34m.\u001b[0m\u001b[0m_maybe_cast_indexer\u001b[0m\u001b[0;34m(\u001b[0m\u001b[0mkey\u001b[0m\u001b[0;34m)\u001b[0m\u001b[0;34m)\u001b[0m\u001b[0;34m\u001b[0m\u001b[0;34m\u001b[0m\u001b[0m\n\u001b[0m\u001b[1;32m   2900\u001b[0m         \u001b[0mindexer\u001b[0m \u001b[0;34m=\u001b[0m \u001b[0mself\u001b[0m\u001b[0;34m.\u001b[0m\u001b[0mget_indexer\u001b[0m\u001b[0;34m(\u001b[0m\u001b[0;34m[\u001b[0m\u001b[0mkey\u001b[0m\u001b[0;34m]\u001b[0m\u001b[0;34m,\u001b[0m \u001b[0mmethod\u001b[0m\u001b[0;34m=\u001b[0m\u001b[0mmethod\u001b[0m\u001b[0;34m,\u001b[0m \u001b[0mtolerance\u001b[0m\u001b[0;34m=\u001b[0m\u001b[0mtolerance\u001b[0m\u001b[0;34m)\u001b[0m\u001b[0;34m\u001b[0m\u001b[0;34m\u001b[0m\u001b[0m\n\u001b[1;32m   2901\u001b[0m         \u001b[0;32mif\u001b[0m \u001b[0mindexer\u001b[0m\u001b[0;34m.\u001b[0m\u001b[0mndim\u001b[0m \u001b[0;34m>\u001b[0m \u001b[0;36m1\u001b[0m \u001b[0;32mor\u001b[0m \u001b[0mindexer\u001b[0m\u001b[0;34m.\u001b[0m\u001b[0msize\u001b[0m \u001b[0;34m>\u001b[0m \u001b[0;36m1\u001b[0m\u001b[0;34m:\u001b[0m\u001b[0;34m\u001b[0m\u001b[0;34m\u001b[0m\u001b[0m\n",
      "\u001b[0;32mpandas/_libs/index.pyx\u001b[0m in \u001b[0;36mpandas._libs.index.IndexEngine.get_loc\u001b[0;34m()\u001b[0m\n",
      "\u001b[0;32mpandas/_libs/index.pyx\u001b[0m in \u001b[0;36mpandas._libs.index.IndexEngine.get_loc\u001b[0;34m()\u001b[0m\n",
      "\u001b[0;32mpandas/_libs/hashtable_class_helper.pxi\u001b[0m in \u001b[0;36mpandas._libs.hashtable.PyObjectHashTable.get_item\u001b[0;34m()\u001b[0m\n",
      "\u001b[0;32mpandas/_libs/hashtable_class_helper.pxi\u001b[0m in \u001b[0;36mpandas._libs.hashtable.PyObjectHashTable.get_item\u001b[0;34m()\u001b[0m\n",
      "\u001b[0;31mKeyError\u001b[0m: 'totalPDQ-39_coef'"
     ]
    }
   ],
   "source": [
    "udprs_cog_moc['totalPDQ-39_coef'][(udprs_cog_moc['totalPDQ-39_coef']!=0)].hist(bins=100)"
   ]
  },
  {
   "cell_type": "code",
   "execution_count": 197,
   "metadata": {
    "ExecuteTime": {
     "end_time": "2020-12-18T03:05:59.413117Z",
     "start_time": "2020-12-18T03:05:59.391543Z"
    }
   },
   "outputs": [
    {
     "data": {
      "text/html": [
       "<div>\n",
       "<style scoped>\n",
       "    .dataframe tbody tr th:only-of-type {\n",
       "        vertical-align: middle;\n",
       "    }\n",
       "\n",
       "    .dataframe tbody tr th {\n",
       "        vertical-align: top;\n",
       "    }\n",
       "\n",
       "    .dataframe thead th {\n",
       "        text-align: right;\n",
       "    }\n",
       "</style>\n",
       "<table border=\"1\" class=\"dataframe\">\n",
       "  <thead>\n",
       "    <tr style=\"text-align: right;\">\n",
       "      <th></th>\n",
       "      <th>Date of assessment</th>\n",
       "      <th>Date</th>\n",
       "      <th>Date/time</th>\n",
       "      <th>Date Diagnosed</th>\n",
       "      <th>Date FOGQ</th>\n",
       "      <th>UDPRS_Tot</th>\n",
       "      <th>pct_chgUDPRS_Tot</th>\n",
       "      <th>chg_UDPRS_Tot</th>\n",
       "      <th>UDPRS_Tot_intercept</th>\n",
       "      <th>UDPRS_Tot_coef</th>\n",
       "      <th>UDPRS_Tot_min_date</th>\n",
       "      <th>UDPRS_Tot_max_date</th>\n",
       "      <th>UDPRS_Tot_counts</th>\n",
       "      <th>chg_UDPRS_Totsuspect</th>\n",
       "      <th>chg_maxUDPRS_Tot</th>\n",
       "      <th>chg_minUDPRS_Tot</th>\n",
       "    </tr>\n",
       "  </thead>\n",
       "  <tbody>\n",
       "    <tr>\n",
       "      <th>90</th>\n",
       "      <td>2011-08-23</td>\n",
       "      <td>2011-08-23</td>\n",
       "      <td>2011-08-23</td>\n",
       "      <td>2007-06-01</td>\n",
       "      <td>2011-08-23 00:00:00</td>\n",
       "      <td>50.0</td>\n",
       "      <td>NaN</td>\n",
       "      <td>NaN</td>\n",
       "      <td>78.77018633540374</td>\n",
       "      <td>-6.80124</td>\n",
       "      <td>2011-08-23</td>\n",
       "      <td>2013-05-28</td>\n",
       "      <td>3</td>\n",
       "      <td>0</td>\n",
       "      <td>0.0</td>\n",
       "      <td>-12.0</td>\n",
       "    </tr>\n",
       "    <tr>\n",
       "      <th>262</th>\n",
       "      <td>2013-05-28</td>\n",
       "      <td>2013-05-28</td>\n",
       "      <td>2013-05-28</td>\n",
       "      <td>2007-06-01</td>\n",
       "      <td>2013-05-28 00:00:00</td>\n",
       "      <td>38.0</td>\n",
       "      <td>-0.24</td>\n",
       "      <td>-12.0</td>\n",
       "      <td>78.77018633540374</td>\n",
       "      <td>-6.80124</td>\n",
       "      <td>2011-08-23</td>\n",
       "      <td>2013-05-28</td>\n",
       "      <td>3</td>\n",
       "      <td>0</td>\n",
       "      <td>0.0</td>\n",
       "      <td>-12.0</td>\n",
       "    </tr>\n",
       "    <tr>\n",
       "      <th>263</th>\n",
       "      <td>2013-05-28</td>\n",
       "      <td>2013-05-28</td>\n",
       "      <td>2013-05-28</td>\n",
       "      <td>2007-06-01</td>\n",
       "      <td>2013-05-28 00:00:00</td>\n",
       "      <td>38.0</td>\n",
       "      <td>0.00</td>\n",
       "      <td>0.0</td>\n",
       "      <td>78.77018633540374</td>\n",
       "      <td>-6.80124</td>\n",
       "      <td>2011-08-23</td>\n",
       "      <td>2013-05-28</td>\n",
       "      <td>3</td>\n",
       "      <td>0</td>\n",
       "      <td>0.0</td>\n",
       "      <td>-12.0</td>\n",
       "    </tr>\n",
       "  </tbody>\n",
       "</table>\n",
       "</div>"
      ],
      "text/plain": [
       "    Date of assessment        Date  Date/time Date Diagnosed  \\\n",
       "90          2011-08-23  2011-08-23 2011-08-23     2007-06-01   \n",
       "262         2013-05-28  2013-05-28 2013-05-28     2007-06-01   \n",
       "263         2013-05-28  2013-05-28 2013-05-28     2007-06-01   \n",
       "\n",
       "               Date FOGQ  UDPRS_Tot  pct_chgUDPRS_Tot  chg_UDPRS_Tot  \\\n",
       "90   2011-08-23 00:00:00       50.0               NaN            NaN   \n",
       "262  2013-05-28 00:00:00       38.0             -0.24          -12.0   \n",
       "263  2013-05-28 00:00:00       38.0              0.00            0.0   \n",
       "\n",
       "    UDPRS_Tot_intercept UDPRS_Tot_coef UDPRS_Tot_min_date UDPRS_Tot_max_date  \\\n",
       "90    78.77018633540374       -6.80124         2011-08-23         2013-05-28   \n",
       "262   78.77018633540374       -6.80124         2011-08-23         2013-05-28   \n",
       "263   78.77018633540374       -6.80124         2011-08-23         2013-05-28   \n",
       "\n",
       "     UDPRS_Tot_counts  chg_UDPRS_Totsuspect  chg_maxUDPRS_Tot  \\\n",
       "90                  3                     0               0.0   \n",
       "262                 3                     0               0.0   \n",
       "263                 3                     0               0.0   \n",
       "\n",
       "     chg_minUDPRS_Tot  \n",
       "90              -12.0  \n",
       "262             -12.0  \n",
       "263             -12.0  "
      ]
     },
     "execution_count": 197,
     "metadata": {},
     "output_type": "execute_result"
    }
   ],
   "source": [
    "\n",
    "udprs_cog_moc[(udprs_cog_moc['SYDID']==\"PD_00047_RF\")][[col for col in udprs_cog_moc.columns if 'UDPRS' in col or 'Date' in col or \n",
    "                                                        ('coef' in col and 'UDPRS' in col)]]"
   ]
  },
  {
   "cell_type": "code",
   "execution_count": 198,
   "metadata": {
    "ExecuteTime": {
     "end_time": "2020-12-18T03:06:01.366697Z",
     "start_time": "2020-12-18T03:06:01.322007Z"
    }
   },
   "outputs": [],
   "source": [
    "maxdate=pd.DataFrame(udprs_cog_moc.groupby(['SYDID'])['Date'].max()).reset_index()\n",
    "maxdate['latest_rec']=1"
   ]
  },
  {
   "cell_type": "code",
   "execution_count": 199,
   "metadata": {
    "ExecuteTime": {
     "end_time": "2020-12-18T03:06:02.038349Z",
     "start_time": "2020-12-18T03:06:02.032649Z"
    }
   },
   "outputs": [
    {
     "data": {
      "text/plain": [
       "['Logical Memory I', 'Logical Memory II']"
      ]
     },
     "execution_count": 199,
     "metadata": {},
     "output_type": "execute_result"
    }
   ],
   "source": [
    "findcols(udprs_cog_moc,'Logical')"
   ]
  },
  {
   "cell_type": "code",
   "execution_count": 200,
   "metadata": {
    "ExecuteTime": {
     "end_time": "2020-12-18T03:06:03.058259Z",
     "start_time": "2020-12-18T03:06:03.023309Z"
    }
   },
   "outputs": [],
   "source": [
    "udprs_cog_moc=pd.merge(udprs_cog_moc,maxdate,on=['SYDID','Date'],how='left')"
   ]
  },
  {
   "cell_type": "code",
   "execution_count": 201,
   "metadata": {
    "ExecuteTime": {
     "end_time": "2020-12-18T03:06:03.943382Z",
     "start_time": "2020-12-18T03:06:03.929597Z"
    }
   },
   "outputs": [],
   "source": [
    "udprs_cog_moc=udprs_cog_moc.sort_values(by=['SYDID','Date'])"
   ]
  },
  {
   "cell_type": "code",
   "execution_count": 203,
   "metadata": {
    "ExecuteTime": {
     "end_time": "2020-12-18T03:06:22.870520Z",
     "start_time": "2020-12-18T03:06:21.322876Z"
    }
   },
   "outputs": [
    {
     "name": "stdout",
     "output_type": "stream",
     "text": [
      "Age_Diagnosis\n"
     ]
    },
    {
     "data": {
      "image/png": "[encoded data removed]",
      "text/plain": [
       "<Figure size 432x288 with 1 Axes>"
      ]
     },
     "metadata": {
      "needs_background": "light"
     },
     "output_type": "display_data"
    },
    {
     "name": "stdout",
     "output_type": "stream",
     "text": [
      "tremor\n"
     ]
    },
    {
     "data": {
      "image/png": "[encoded data removed]",
      "text/plain": [
       "<Figure size 432x288 with 1 Axes>"
      ]
     },
     "metadata": {
      "needs_background": "light"
     },
     "output_type": "display_data"
    },
    {
     "name": "stdout",
     "output_type": "stream",
     "text": [
      "non_tremor\n"
     ]
    },
    {
     "data": {
      "image/png": "[encoded data removed]",
      "text/plain": [
       "<Figure size 432x288 with 1 Axes>"
      ]
     },
     "metadata": {
      "needs_background": "light"
     },
     "output_type": "display_data"
    },
    {
     "name": "stdout",
     "output_type": "stream",
     "text": [
      "Section III Total\n"
     ]
    },
    {
     "data": {
      "image/png": "[encoded data removed]",
      "text/plain": [
       "<Figure size 432x288 with 1 Axes>"
      ]
     },
     "metadata": {
      "needs_background": "light"
     },
     "output_type": "display_data"
    },
    {
     "name": "stdout",
     "output_type": "stream",
     "text": [
      "MMSE result\n"
     ]
    },
    {
     "data": {
      "image/png": "[encoded data removed]",
      "text/plain": [
       "<Figure size 432x288 with 1 Axes>"
      ]
     },
     "metadata": {
      "needs_background": "light"
     },
     "output_type": "display_data"
    },
    {
     "name": "stdout",
     "output_type": "stream",
     "text": [
      "MoCA Total\n"
     ]
    },
    {
     "data": {
      "image/png": "[encoded data removed]",
      "text/plain": [
       "<Figure size 432x288 with 1 Axes>"
      ]
     },
     "metadata": {
      "needs_background": "light"
     },
     "output_type": "display_data"
    },
    {
     "name": "stdout",
     "output_type": "stream",
     "text": [
      "FOGQ 3\n"
     ]
    },
    {
     "data": {
      "image/png": "[encoded data removed]",
      "text/plain": [
       "<Figure size 432x288 with 1 Axes>"
      ]
     },
     "metadata": {
      "needs_background": "light"
     },
     "output_type": "display_data"
    },
    {
     "name": "stdout",
     "output_type": "stream",
     "text": [
      "Logical Memory II\n"
     ]
    },
    {
     "data": {
      "image/png": "[encoded data removed]",
      "text/plain": [
       "<Figure size 432x288 with 1 Axes>"
      ]
     },
     "metadata": {
      "needs_background": "light"
     },
     "output_type": "display_data"
    }
   ],
   "source": [
    "clustervars=['SYDID','tremor_coef','non_tremor_coef',\n",
    " 'SectionIIITotal_coef','MMSEresult_coef','MoCATotal_coef','Age_Diagnosis','tremor','non_tremor',\n",
    "             'Section III Total','MMSE result','MoCA Total']\n",
    "\n",
    "clustervars=['SYDID','Age_Diagnosis','tremor','non_tremor',\n",
    "             'Section III Total','MMSE result','MoCA Total','FOGQ 3','Logical Memory II']\n",
    "\n",
    "\n",
    "vars=[var for var in clustervars if var!='SYDID']\n",
    "for var in vars:\n",
    "    print(var)\n",
    "    udprs_cog_moc[var].hist()\n",
    "    plt.show()\n",
    "    \n",
    "    \n",
    "mask_vars=(udprs_cog_moc['SectionIIITotal_coef']<20)&(udprs_cog_moc['MMSEresult_coef']<10)&\\\n",
    "(udprs_cog_moc['MoCATotal_coef']<10)&(udprs_cog_moc['Age_Diagnosis']>20)&(udprs_cog_moc['Logical Memory II']<200)"
   ]
  },
  {
   "cell_type": "code",
   "execution_count": 204,
   "metadata": {
    "ExecuteTime": {
     "end_time": "2020-12-18T03:06:27.373505Z",
     "start_time": "2020-12-18T03:06:26.531911Z"
    }
   },
   "outputs": [
    {
     "name": "stdout",
     "output_type": "stream",
     "text": [
      "162\n"
     ]
    },
    {
     "data": {
      "image/png": "[encoded data removed]",
      "text/plain": [
       "<Figure size 432x288 with 1 Axes>"
      ]
     },
     "metadata": {
      "needs_background": "light"
     },
     "output_type": "display_data"
    }
   ],
   "source": [
    "\n",
    "\n",
    "def z_score(col):\n",
    "    x = (col - col.mean())/col.std(ddof=0)\n",
    "    return  x\n",
    "\n",
    "mask_tp=(udprs_cog_moc['time_point']==0)\n",
    "df=udprs_cog_moc[clustervars][mask_tp&mask_vars]\n",
    "print(df['SYDID'].nunique())\n",
    "\n",
    "df1=df.copy()\n",
    "df1.drop(columns='SYDID',inplace=True)\n",
    "\n",
    "for var in df1.columns:\n",
    "    df1[var]=z_score(df1[var])\n",
    "\n",
    "def replacenullsmean(df):\n",
    "    for col in df.columns:\n",
    "        nullmask=(df[col].isna())\n",
    "        df[col][nullmask]=df[col][~nullmask].mean()\n",
    "    return df\n",
    "\n",
    "df1=replacenullsmean(df1)\n",
    "\n",
    "from sklearn.cluster import KMeans\n",
    "wcss=[]\n",
    "for i in range(1,11): \n",
    "     kmeans = KMeans(n_clusters=i, init ='k-means++', max_iter=300,  n_init=10,random_state=0)\n",
    "     kmeans.fit(df1)\n",
    "     wcss.append(kmeans.inertia_)\n",
    "plt.plot(range(1,11),wcss)\n",
    "plt.title('The Elbow Method Graph')\n",
    "plt.xlabel('Number of clusters')\n",
    "plt.ylabel('WCSS')\n",
    "plt.show()\n",
    "\n",
    "kmeans = KMeans(n_clusters=4, random_state=0).fit(df1)\n",
    "df['cluster_label']=kmeans.labels_.tolist()\n"
   ]
  },
  {
   "cell_type": "code",
   "execution_count": 205,
   "metadata": {
    "ExecuteTime": {
     "end_time": "2020-12-18T03:06:29.410233Z",
     "start_time": "2020-12-18T03:06:29.369948Z"
    }
   },
   "outputs": [],
   "source": [
    "udprs_cog_moc2=pd.merge(udprs_cog_moc,df[['SYDID','cluster_label']],on='SYDID',how='left')"
   ]
  },
  {
   "cell_type": "code",
   "execution_count": 206,
   "metadata": {
    "ExecuteTime": {
     "end_time": "2020-12-18T03:06:30.235184Z",
     "start_time": "2020-12-18T03:06:30.219707Z"
    }
   },
   "outputs": [],
   "source": [
    "for var in vars:\n",
    "    udprs_cog_moc2[var]=pd.to_numeric(udprs_cog_moc2[var])\n",
    "\n",
    "def summariseclustvars(df=udprs_cog_moc2,gb_var='cluster_label',varsum=vars,countvar='SYDID'):\n",
    "    mask_tp=(df['time_point']==0)\n",
    "    clustersum=pd.DataFrame(df[mask_tp].groupby(gb_var)[varsum].mean()).reset_index()\n",
    "    cluster_count=pd.DataFrame(df[mask_tp].groupby(gb_var).agg({countvar:'count'})).reset_index()\n",
    "    cluster_count.columns=[gb_var,'num_recs']\n",
    "    dfsum=pd.merge(clustersum,cluster_count,on=gb_var)\n",
    "    return dfsum"
   ]
  },
  {
   "cell_type": "code",
   "execution_count": 207,
   "metadata": {
    "ExecuteTime": {
     "end_time": "2020-12-18T03:06:31.573797Z",
     "start_time": "2020-12-18T03:06:31.536812Z"
    }
   },
   "outputs": [
    {
     "data": {
      "text/html": [
       "<div>\n",
       "<style scoped>\n",
       "    .dataframe tbody tr th:only-of-type {\n",
       "        vertical-align: middle;\n",
       "    }\n",
       "\n",
       "    .dataframe tbody tr th {\n",
       "        vertical-align: top;\n",
       "    }\n",
       "\n",
       "    .dataframe thead th {\n",
       "        text-align: right;\n",
       "    }\n",
       "</style>\n",
       "<table border=\"1\" class=\"dataframe\">\n",
       "  <thead>\n",
       "    <tr style=\"text-align: right;\">\n",
       "      <th></th>\n",
       "      <th>cluster_label</th>\n",
       "      <th>Age_Diagnosis</th>\n",
       "      <th>tremor</th>\n",
       "      <th>non_tremor</th>\n",
       "      <th>Section III Total</th>\n",
       "      <th>MMSE result</th>\n",
       "      <th>MoCA Total</th>\n",
       "      <th>FOGQ 3</th>\n",
       "      <th>Logical Memory II</th>\n",
       "      <th>num_recs</th>\n",
       "    </tr>\n",
       "  </thead>\n",
       "  <tbody>\n",
       "    <tr>\n",
       "      <th>0</th>\n",
       "      <td>0.0</td>\n",
       "      <td>64.367420</td>\n",
       "      <td>1.188571</td>\n",
       "      <td>1.528571</td>\n",
       "      <td>35.514286</td>\n",
       "      <td>28.542857</td>\n",
       "      <td>26.771429</td>\n",
       "      <td>0.434783</td>\n",
       "      <td>20.142857</td>\n",
       "      <td>35</td>\n",
       "    </tr>\n",
       "    <tr>\n",
       "      <th>1</th>\n",
       "      <td>1.0</td>\n",
       "      <td>64.061932</td>\n",
       "      <td>0.310345</td>\n",
       "      <td>0.979310</td>\n",
       "      <td>20.448276</td>\n",
       "      <td>26.344828</td>\n",
       "      <td>22.344828</td>\n",
       "      <td>0.357143</td>\n",
       "      <td>11.620690</td>\n",
       "      <td>29</td>\n",
       "    </tr>\n",
       "    <tr>\n",
       "      <th>2</th>\n",
       "      <td>2.0</td>\n",
       "      <td>58.533966</td>\n",
       "      <td>0.468750</td>\n",
       "      <td>0.920313</td>\n",
       "      <td>18.500000</td>\n",
       "      <td>29.187500</td>\n",
       "      <td>28.125000</td>\n",
       "      <td>0.326531</td>\n",
       "      <td>25.687500</td>\n",
       "      <td>64</td>\n",
       "    </tr>\n",
       "    <tr>\n",
       "      <th>3</th>\n",
       "      <td>3.0</td>\n",
       "      <td>54.515924</td>\n",
       "      <td>0.258824</td>\n",
       "      <td>1.747059</td>\n",
       "      <td>37.441176</td>\n",
       "      <td>28.617647</td>\n",
       "      <td>25.911765</td>\n",
       "      <td>2.769231</td>\n",
       "      <td>19.647059</td>\n",
       "      <td>34</td>\n",
       "    </tr>\n",
       "  </tbody>\n",
       "</table>\n",
       "</div>"
      ],
      "text/plain": [
       "   cluster_label  Age_Diagnosis    tremor  non_tremor  Section III Total  \\\n",
       "0            0.0      64.367420  1.188571    1.528571          35.514286   \n",
       "1            1.0      64.061932  0.310345    0.979310          20.448276   \n",
       "2            2.0      58.533966  0.468750    0.920313          18.500000   \n",
       "3            3.0      54.515924  0.258824    1.747059          37.441176   \n",
       "\n",
       "   MMSE result  MoCA Total    FOGQ 3  Logical Memory II  num_recs  \n",
       "0    28.542857   26.771429  0.434783          20.142857        35  \n",
       "1    26.344828   22.344828  0.357143          11.620690        29  \n",
       "2    29.187500   28.125000  0.326531          25.687500        64  \n",
       "3    28.617647   25.911765  2.769231          19.647059        34  "
      ]
     },
     "execution_count": 207,
     "metadata": {},
     "output_type": "execute_result"
    }
   ],
   "source": [
    "summariseclustvars(udprs_cog_moc2)"
   ]
  },
  {
   "cell_type": "code",
   "execution_count": 208,
   "metadata": {
    "ExecuteTime": {
     "end_time": "2020-12-18T03:06:33.393011Z",
     "start_time": "2020-12-18T03:06:33.353499Z"
    }
   },
   "outputs": [
    {
     "data": {
      "text/html": [
       "<div>\n",
       "<style scoped>\n",
       "    .dataframe tbody tr th:only-of-type {\n",
       "        vertical-align: middle;\n",
       "    }\n",
       "\n",
       "    .dataframe tbody tr th {\n",
       "        vertical-align: top;\n",
       "    }\n",
       "\n",
       "    .dataframe thead th {\n",
       "        text-align: right;\n",
       "    }\n",
       "</style>\n",
       "<table border=\"1\" class=\"dataframe\">\n",
       "  <thead>\n",
       "    <tr style=\"text-align: right;\">\n",
       "      <th></th>\n",
       "      <th>SYDID</th>\n",
       "      <th>Age_Diagnosis</th>\n",
       "      <th>tremor</th>\n",
       "      <th>non_tremor</th>\n",
       "      <th>Section III Total</th>\n",
       "      <th>MMSE result</th>\n",
       "      <th>MoCA Total</th>\n",
       "      <th>FOGQ 3</th>\n",
       "      <th>Logical Memory II</th>\n",
       "      <th>num_recs</th>\n",
       "    </tr>\n",
       "  </thead>\n",
       "  <tbody>\n",
       "    <tr>\n",
       "      <th>0</th>\n",
       "      <td>PD_00001_DA</td>\n",
       "      <td>59.764545</td>\n",
       "      <td>1.0</td>\n",
       "      <td>2.1</td>\n",
       "      <td>38.0</td>\n",
       "      <td>24.0</td>\n",
       "      <td>25.0</td>\n",
       "      <td>NaN</td>\n",
       "      <td>15.0</td>\n",
       "      <td>0</td>\n",
       "    </tr>\n",
       "    <tr>\n",
       "      <th>1</th>\n",
       "      <td>PD_00002_MW</td>\n",
       "      <td>64.172485</td>\n",
       "      <td>0.2</td>\n",
       "      <td>1.9</td>\n",
       "      <td>38.0</td>\n",
       "      <td>30.0</td>\n",
       "      <td>25.0</td>\n",
       "      <td>3.0</td>\n",
       "      <td>16.0</td>\n",
       "      <td>0</td>\n",
       "    </tr>\n",
       "    <tr>\n",
       "      <th>2</th>\n",
       "      <td>PD_00004_AW</td>\n",
       "      <td>55.186858</td>\n",
       "      <td>0.0</td>\n",
       "      <td>1.1</td>\n",
       "      <td>15.0</td>\n",
       "      <td>29.0</td>\n",
       "      <td>28.0</td>\n",
       "      <td>0.0</td>\n",
       "      <td>26.0</td>\n",
       "      <td>0</td>\n",
       "    </tr>\n",
       "    <tr>\n",
       "      <th>3</th>\n",
       "      <td>PD_00008_BM</td>\n",
       "      <td>64.164271</td>\n",
       "      <td>1.6</td>\n",
       "      <td>0.9</td>\n",
       "      <td>22.0</td>\n",
       "      <td>29.0</td>\n",
       "      <td>29.0</td>\n",
       "      <td>0.0</td>\n",
       "      <td>29.0</td>\n",
       "      <td>0</td>\n",
       "    </tr>\n",
       "    <tr>\n",
       "      <th>4</th>\n",
       "      <td>PD_00017_RE</td>\n",
       "      <td>64.796715</td>\n",
       "      <td>0.4</td>\n",
       "      <td>0.8</td>\n",
       "      <td>18.0</td>\n",
       "      <td>25.0</td>\n",
       "      <td>25.0</td>\n",
       "      <td>NaN</td>\n",
       "      <td>15.0</td>\n",
       "      <td>0</td>\n",
       "    </tr>\n",
       "    <tr>\n",
       "      <th>...</th>\n",
       "      <td>...</td>\n",
       "      <td>...</td>\n",
       "      <td>...</td>\n",
       "      <td>...</td>\n",
       "      <td>...</td>\n",
       "      <td>...</td>\n",
       "      <td>...</td>\n",
       "      <td>...</td>\n",
       "      <td>...</td>\n",
       "      <td>...</td>\n",
       "    </tr>\n",
       "    <tr>\n",
       "      <th>165</th>\n",
       "      <td>PD_00553_KM</td>\n",
       "      <td>68.711841</td>\n",
       "      <td>0.2</td>\n",
       "      <td>2.3</td>\n",
       "      <td>42.0</td>\n",
       "      <td>29.0</td>\n",
       "      <td>23.0</td>\n",
       "      <td>0.0</td>\n",
       "      <td>13.0</td>\n",
       "      <td>0</td>\n",
       "    </tr>\n",
       "    <tr>\n",
       "      <th>166</th>\n",
       "      <td>PD_00555_PH</td>\n",
       "      <td>70.644764</td>\n",
       "      <td>0.8</td>\n",
       "      <td>0.9</td>\n",
       "      <td>24.0</td>\n",
       "      <td>25.0</td>\n",
       "      <td>24.0</td>\n",
       "      <td>0.0</td>\n",
       "      <td>18.0</td>\n",
       "      <td>1</td>\n",
       "    </tr>\n",
       "    <tr>\n",
       "      <th>167</th>\n",
       "      <td>PD_00557_DC</td>\n",
       "      <td>69.878166</td>\n",
       "      <td>0.6</td>\n",
       "      <td>1.3</td>\n",
       "      <td>26.0</td>\n",
       "      <td>26.0</td>\n",
       "      <td>24.0</td>\n",
       "      <td>NaN</td>\n",
       "      <td>3.0</td>\n",
       "      <td>1</td>\n",
       "    </tr>\n",
       "    <tr>\n",
       "      <th>168</th>\n",
       "      <td>PD_00568_MB</td>\n",
       "      <td>76.673511</td>\n",
       "      <td>0.8</td>\n",
       "      <td>2.1</td>\n",
       "      <td>40.0</td>\n",
       "      <td>30.0</td>\n",
       "      <td>28.0</td>\n",
       "      <td>0.0</td>\n",
       "      <td>27.0</td>\n",
       "      <td>1</td>\n",
       "    </tr>\n",
       "    <tr>\n",
       "      <th>169</th>\n",
       "      <td>PD_00583_KC</td>\n",
       "      <td>60.396988</td>\n",
       "      <td>0.4</td>\n",
       "      <td>0.9</td>\n",
       "      <td>24.0</td>\n",
       "      <td>30.0</td>\n",
       "      <td>28.0</td>\n",
       "      <td>NaN</td>\n",
       "      <td>32.0</td>\n",
       "      <td>0</td>\n",
       "    </tr>\n",
       "  </tbody>\n",
       "</table>\n",
       "<p>170 rows × 10 columns</p>\n",
       "</div>"
      ],
      "text/plain": [
       "           SYDID  Age_Diagnosis  tremor  non_tremor  Section III Total  \\\n",
       "0    PD_00001_DA      59.764545     1.0         2.1               38.0   \n",
       "1    PD_00002_MW      64.172485     0.2         1.9               38.0   \n",
       "2    PD_00004_AW      55.186858     0.0         1.1               15.0   \n",
       "3    PD_00008_BM      64.164271     1.6         0.9               22.0   \n",
       "4    PD_00017_RE      64.796715     0.4         0.8               18.0   \n",
       "..           ...            ...     ...         ...                ...   \n",
       "165  PD_00553_KM      68.711841     0.2         2.3               42.0   \n",
       "166  PD_00555_PH      70.644764     0.8         0.9               24.0   \n",
       "167  PD_00557_DC      69.878166     0.6         1.3               26.0   \n",
       "168  PD_00568_MB      76.673511     0.8         2.1               40.0   \n",
       "169  PD_00583_KC      60.396988     0.4         0.9               24.0   \n",
       "\n",
       "     MMSE result  MoCA Total  FOGQ 3  Logical Memory II  num_recs  \n",
       "0           24.0        25.0     NaN               15.0         0  \n",
       "1           30.0        25.0     3.0               16.0         0  \n",
       "2           29.0        28.0     0.0               26.0         0  \n",
       "3           29.0        29.0     0.0               29.0         0  \n",
       "4           25.0        25.0     NaN               15.0         0  \n",
       "..           ...         ...     ...                ...       ...  \n",
       "165         29.0        23.0     0.0               13.0         0  \n",
       "166         25.0        24.0     0.0               18.0         1  \n",
       "167         26.0        24.0     NaN                3.0         1  \n",
       "168         30.0        28.0     0.0               27.0         1  \n",
       "169         30.0        28.0     NaN               32.0         0  \n",
       "\n",
       "[170 rows x 10 columns]"
      ]
     },
     "execution_count": 208,
     "metadata": {},
     "output_type": "execute_result"
    }
   ],
   "source": [
    "summariseclustvars(gb_var='SYDID',countvar='latest_rec')"
   ]
  },
  {
   "cell_type": "code",
   "execution_count": 209,
   "metadata": {
    "ExecuteTime": {
     "end_time": "2020-12-18T03:06:35.664691Z",
     "start_time": "2020-12-18T03:06:35.463397Z"
    }
   },
   "outputs": [],
   "source": [
    "udprs_cog_moc.to_csv('%s%s' % (outdata,'udprs_cog_moc.csv'))"
   ]
  },
  {
   "cell_type": "code",
   "execution_count": 746,
   "metadata": {
    "ExecuteTime": {
     "end_time": "2020-12-17T05:47:57.232546Z",
     "start_time": "2020-12-17T05:47:56.808766Z"
    }
   },
   "outputs": [
    {
     "data": {
      "text/plain": [
       "<matplotlib.axes._subplots.AxesSubplot at 0x7f903df88b10>"
      ]
     },
     "execution_count": 746,
     "metadata": {},
     "output_type": "execute_result"
    },
    {
     "data": {
      "image/png": "[encoded data removed]",
      "text/plain": [
       "<Figure size 432x288 with 1 Axes>"
      ]
     },
     "metadata": {
      "needs_background": "light"
     },
     "output_type": "display_data"
    }
   ],
   "source": [
    "udprs_cog_moc[\"total PDQ-39\"].hist(bins=100)"
   ]
  },
  {
   "cell_type": "code",
   "execution_count": 493,
   "metadata": {
    "ExecuteTime": {
     "end_time": "2020-12-16T06:53:11.243147Z",
     "start_time": "2020-12-16T06:53:11.018784Z"
    }
   },
   "outputs": [
    {
     "data": {
      "text/plain": [
       "<matplotlib.axes._subplots.AxesSubplot at 0x7f90412d1690>"
      ]
     },
     "execution_count": 493,
     "metadata": {},
     "output_type": "execute_result"
    },
    {
     "data": {
      "image/png": "[encoded data removed]",
      "text/plain": [
       "<Figure size 432x288 with 1 Axes>"
      ]
     },
     "metadata": {
      "needs_background": "light"
     },
     "output_type": "display_data"
    }
   ],
   "source": [
    "udprs_cog_moc['MMSEresult_coef'].hist()"
   ]
  },
  {
   "cell_type": "code",
   "execution_count": 470,
   "metadata": {
    "ExecuteTime": {
     "end_time": "2020-12-16T06:43:42.728546Z",
     "start_time": "2020-12-16T06:43:42.722179Z"
    }
   },
   "outputs": [],
   "source": []
  },
  {
   "cell_type": "code",
   "execution_count": 496,
   "metadata": {
    "ExecuteTime": {
     "end_time": "2020-12-16T06:54:12.716304Z",
     "start_time": "2020-12-16T06:54:10.671698Z"
    }
   },
   "outputs": [
    {
     "name": "stdout",
     "output_type": "stream",
     "text": [
      "tremor_coef\n"
     ]
    },
    {
     "data": {
      "image/png": "[encoded data removed]",
      "text/plain": [
       "<Figure size 432x288 with 1 Axes>"
      ]
     },
     "metadata": {
      "needs_background": "light"
     },
     "output_type": "display_data"
    },
    {
     "name": "stdout",
     "output_type": "stream",
     "text": [
      "non_tremor_coef\n"
     ]
    },
    {
     "data": {
      "image/png": "[encoded data removed]",
      "text/plain": [
       "<Figure size 432x288 with 1 Axes>"
      ]
     },
     "metadata": {
      "needs_background": "light"
     },
     "output_type": "display_data"
    },
    {
     "name": "stdout",
     "output_type": "stream",
     "text": [
      "SectionIIITotal_coef\n"
     ]
    },
    {
     "data": {
      "image/png": "[encoded data removed]",
      "text/plain": [
       "<Figure size 432x288 with 1 Axes>"
      ]
     },
     "metadata": {
      "needs_background": "light"
     },
     "output_type": "display_data"
    },
    {
     "name": "stdout",
     "output_type": "stream",
     "text": [
      "MMSEresult_coef\n"
     ]
    },
    {
     "data": {
      "image/png": "[encoded data removed]",
      "text/plain": [
       "<Figure size 432x288 with 1 Axes>"
      ]
     },
     "metadata": {
      "needs_background": "light"
     },
     "output_type": "display_data"
    },
    {
     "name": "stdout",
     "output_type": "stream",
     "text": [
      "MoCATotal_coef\n"
     ]
    },
    {
     "data": {
      "image/png": "[encoded data removed]",
      "text/plain": [
       "<Figure size 432x288 with 1 Axes>"
      ]
     },
     "metadata": {
      "needs_background": "light"
     },
     "output_type": "display_data"
    },
    {
     "name": "stdout",
     "output_type": "stream",
     "text": [
      "Age_Diagnosis\n"
     ]
    },
    {
     "data": {
      "image/png": "[encoded data removed]",
      "text/plain": [
       "<Figure size 432x288 with 1 Axes>"
      ]
     },
     "metadata": {
      "needs_background": "light"
     },
     "output_type": "display_data"
    },
    {
     "name": "stdout",
     "output_type": "stream",
     "text": [
      "tremor\n"
     ]
    },
    {
     "data": {
      "image/png": "[encoded data removed]",
      "text/plain": [
       "<Figure size 432x288 with 1 Axes>"
      ]
     },
     "metadata": {
      "needs_background": "light"
     },
     "output_type": "display_data"
    },
    {
     "name": "stdout",
     "output_type": "stream",
     "text": [
      "non_tremor\n"
     ]
    },
    {
     "data": {
      "image/png": "[encoded data removed]",
      "text/plain": [
       "<Figure size 432x288 with 1 Axes>"
      ]
     },
     "metadata": {
      "needs_background": "light"
     },
     "output_type": "display_data"
    },
    {
     "name": "stdout",
     "output_type": "stream",
     "text": [
      "Section III Total\n"
     ]
    },
    {
     "data": {
      "image/png": "[encoded data removed]",
      "text/plain": [
       "<Figure size 432x288 with 1 Axes>"
      ]
     },
     "metadata": {
      "needs_background": "light"
     },
     "output_type": "display_data"
    },
    {
     "name": "stdout",
     "output_type": "stream",
     "text": [
      "MMSE result\n"
     ]
    },
    {
     "data": {
      "image/png": "[encoded data removed]",
      "text/plain": [
       "<Figure size 432x288 with 1 Axes>"
      ]
     },
     "metadata": {
      "needs_background": "light"
     },
     "output_type": "display_data"
    },
    {
     "name": "stdout",
     "output_type": "stream",
     "text": [
      "MoCA Total\n"
     ]
    },
    {
     "data": {
      "image/png": "[encoded data removed]",
      "text/plain": [
       "<Figure size 432x288 with 1 Axes>"
      ]
     },
     "metadata": {
      "needs_background": "light"
     },
     "output_type": "display_data"
    }
   ],
   "source": []
  },
  {
   "cell_type": "code",
   "execution_count": 492,
   "metadata": {
    "ExecuteTime": {
     "end_time": "2020-12-16T06:52:38.577412Z",
     "start_time": "2020-12-16T06:52:38.533550Z"
    }
   },
   "outputs": [
    {
     "data": {
      "text/html": [
       "<div>\n",
       "<style scoped>\n",
       "    .dataframe tbody tr th:only-of-type {\n",
       "        vertical-align: middle;\n",
       "    }\n",
       "\n",
       "    .dataframe tbody tr th {\n",
       "        vertical-align: top;\n",
       "    }\n",
       "\n",
       "    .dataframe thead th {\n",
       "        text-align: right;\n",
       "    }\n",
       "</style>\n",
       "<table border=\"1\" class=\"dataframe\">\n",
       "  <thead>\n",
       "    <tr style=\"text-align: right;\">\n",
       "      <th></th>\n",
       "      <th>cluster_label</th>\n",
       "      <th>tremor_coef</th>\n",
       "      <th>non_tremor_coef</th>\n",
       "      <th>SectionIIITotal_coef</th>\n",
       "      <th>MMSEresult_coef</th>\n",
       "      <th>MoCATotal_coef</th>\n",
       "      <th>Age_Diagnosis</th>\n",
       "      <th>tremor</th>\n",
       "      <th>non_tremor</th>\n",
       "      <th>Section III Total</th>\n",
       "      <th>MMSE result</th>\n",
       "      <th>MoCA Total</th>\n",
       "      <th>SYDID</th>\n",
       "    </tr>\n",
       "  </thead>\n",
       "  <tbody>\n",
       "    <tr>\n",
       "      <th>0</th>\n",
       "      <td>0</td>\n",
       "      <td>0.042324</td>\n",
       "      <td>0.117861</td>\n",
       "      <td>3.142639</td>\n",
       "      <td>-0.292467</td>\n",
       "      <td>-0.315188</td>\n",
       "      <td>59.464598</td>\n",
       "      <td>0.392593</td>\n",
       "      <td>0.844444</td>\n",
       "      <td>17.222222</td>\n",
       "      <td>28.802469</td>\n",
       "      <td>26.864198</td>\n",
       "      <td>81</td>\n",
       "    </tr>\n",
       "    <tr>\n",
       "      <th>1</th>\n",
       "      <td>1</td>\n",
       "      <td>0.000000</td>\n",
       "      <td>0.264900</td>\n",
       "      <td>5.397639</td>\n",
       "      <td>-0.249133</td>\n",
       "      <td>3.191085</td>\n",
       "      <td>58.879632</td>\n",
       "      <td>0.100000</td>\n",
       "      <td>1.557143</td>\n",
       "      <td>34.285714</td>\n",
       "      <td>25.214286</td>\n",
       "      <td>19.642857</td>\n",
       "      <td>14</td>\n",
       "    </tr>\n",
       "    <tr>\n",
       "      <th>2</th>\n",
       "      <td>2</td>\n",
       "      <td>0.000000</td>\n",
       "      <td>-4.171429</td>\n",
       "      <td>-46.928571</td>\n",
       "      <td>57.357143</td>\n",
       "      <td>-5.214286</td>\n",
       "      <td>72.462697</td>\n",
       "      <td>0.600000</td>\n",
       "      <td>1.600000</td>\n",
       "      <td>28.000000</td>\n",
       "      <td>17.000000</td>\n",
       "      <td>27.000000</td>\n",
       "      <td>1</td>\n",
       "    </tr>\n",
       "    <tr>\n",
       "      <th>3</th>\n",
       "      <td>3</td>\n",
       "      <td>-0.035139</td>\n",
       "      <td>-0.006513</td>\n",
       "      <td>-0.007907</td>\n",
       "      <td>-0.128384</td>\n",
       "      <td>-0.025561</td>\n",
       "      <td>59.710565</td>\n",
       "      <td>0.783784</td>\n",
       "      <td>1.605405</td>\n",
       "      <td>35.364865</td>\n",
       "      <td>28.608108</td>\n",
       "      <td>26.864865</td>\n",
       "      <td>74</td>\n",
       "    </tr>\n",
       "  </tbody>\n",
       "</table>\n",
       "</div>"
      ],
      "text/plain": [
       "   cluster_label  tremor_coef  non_tremor_coef  SectionIIITotal_coef  \\\n",
       "0              0     0.042324         0.117861              3.142639   \n",
       "1              1     0.000000         0.264900              5.397639   \n",
       "2              2     0.000000        -4.171429            -46.928571   \n",
       "3              3    -0.035139        -0.006513             -0.007907   \n",
       "\n",
       "   MMSEresult_coef  MoCATotal_coef  Age_Diagnosis    tremor  non_tremor  \\\n",
       "0        -0.292467       -0.315188      59.464598  0.392593    0.844444   \n",
       "1        -0.249133        3.191085      58.879632  0.100000    1.557143   \n",
       "2        57.357143       -5.214286      72.462697  0.600000    1.600000   \n",
       "3        -0.128384       -0.025561      59.710565  0.783784    1.605405   \n",
       "\n",
       "   Section III Total  MMSE result  MoCA Total  SYDID  \n",
       "0          17.222222    28.802469   26.864198     81  \n",
       "1          34.285714    25.214286   19.642857     14  \n",
       "2          28.000000    17.000000   27.000000      1  \n",
       "3          35.364865    28.608108   26.864865     74  "
      ]
     },
     "execution_count": 492,
     "metadata": {},
     "output_type": "execute_result"
    }
   ],
   "source": []
  },
  {
   "cell_type": "markdown",
   "metadata": {
    "ExecuteTime": {
     "end_time": "2020-10-31T00:19:48.842749Z",
     "start_time": "2020-10-31T00:19:44.434826Z"
    }
   },
   "source": [
    "### Cluster Analysis"
   ]
  },
  {
   "cell_type": "code",
   "execution_count": 92,
   "metadata": {
    "ExecuteTime": {
     "end_time": "2020-10-31T06:00:18.414415Z",
     "start_time": "2020-10-31T06:00:18.411780Z"
    }
   },
   "outputs": [],
   "source": [
    "#[col for col in udprs_cog_moc.columns if 'coef' in col]"
   ]
  },
  {
   "cell_type": "code",
   "execution_count": 103,
   "metadata": {
    "ExecuteTime": {
     "end_time": "2020-10-31T06:03:52.783929Z",
     "start_time": "2020-10-31T06:03:52.774877Z"
    }
   },
   "outputs": [],
   "source": [
    "# Select Variables for clustering\n",
    "'''\n",
    "Age at diagnosis, various fields such as UDPRS, deltas over time etc.\n",
    "'''\n",
    "\n",
    "\n",
    "clustervars=['tremor_coef','non_tremor_coef','UDPRS_Tot_coef','SectionITotal_coef','SectionIITotal_coef',\n",
    " 'SectionIIITotal_coef','MMSEresult_coef','MoCATotal_coef','Age_Diagnosis','tremor','non_tremor','UDPRS_Tot',\n",
    "             'Section I Total', 'Section II Total','Section III Total','MMSE result','MoCA Total']\n",
    "\n",
    "\n",
    "clustervars=['SectionITotal_coef','SectionIITotal_coef',\n",
    " 'MMSEresult_coef','MoCATotal_coef','Age_Diagnosis','tremor','non_tremor','UDPRS_Tot',\n",
    "             'Section I Total', 'Section II Total','Section III Total','MMSE result','MoCA Total']\n"
   ]
  },
  {
   "cell_type": "code",
   "execution_count": 104,
   "metadata": {
    "ExecuteTime": {
     "end_time": "2020-10-31T06:03:56.684218Z",
     "start_time": "2020-10-31T06:03:56.679539Z"
    }
   },
   "outputs": [],
   "source": [
    "df=udprs_cog_moc[clustervars]"
   ]
  },
  {
   "cell_type": "code",
   "execution_count": 105,
   "metadata": {
    "ExecuteTime": {
     "end_time": "2020-10-31T06:04:03.327288Z",
     "start_time": "2020-10-31T06:04:03.314557Z"
    }
   },
   "outputs": [
    {
     "data": {
      "text/plain": [
       "(302, 13)"
      ]
     },
     "execution_count": 105,
     "metadata": {},
     "output_type": "execute_result"
    }
   ],
   "source": [
    "df.dropna().shape"
   ]
  },
  {
   "cell_type": "code",
   "execution_count": 106,
   "metadata": {
    "ExecuteTime": {
     "end_time": "2020-10-31T06:05:07.065840Z",
     "start_time": "2020-10-31T06:05:07.056322Z"
    }
   },
   "outputs": [],
   "source": [
    "def z_score(df):\n",
    "    for var in df.columns:\n",
    "        df[var]= (df[var] - df[var].mean())/df[var].std(ddof=0)\n",
    "    return  df\n",
    "\n"
   ]
  },
  {
   "cell_type": "code",
   "execution_count": 109,
   "metadata": {
    "ExecuteTime": {
     "end_time": "2020-10-31T06:05:52.635566Z",
     "start_time": "2020-10-31T06:05:52.603268Z"
    }
   },
   "outputs": [
    {
     "name": "stderr",
     "output_type": "stream",
     "text": [
      "/opt/conda/lib/python3.7/site-packages/ipykernel_launcher.py:3: SettingWithCopyWarning: \n",
      "A value is trying to be set on a copy of a slice from a DataFrame.\n",
      "Try using .loc[row_indexer,col_indexer] = value instead\n",
      "\n",
      "See the caveats in the documentation: http://pandas.pydata.org/pandas-docs/stable/user_guide/indexing.html#returning-a-view-versus-a-copy\n",
      "  This is separate from the ipykernel package so we can avoid doing imports until\n"
     ]
    }
   ],
   "source": [
    "df2=df.dropna()\n",
    "df2=z_score(df2)"
   ]
  },
  {
   "cell_type": "code",
   "execution_count": 118,
   "metadata": {
    "ExecuteTime": {
     "end_time": "2020-10-31T06:09:54.916518Z",
     "start_time": "2020-10-31T06:09:53.842067Z"
    }
   },
   "outputs": [
    {
     "data": {
      "image/png": "[encoded data removed]",
      "text/plain": [
       "<Figure size 432x288 with 1 Axes>"
      ]
     },
     "metadata": {
      "needs_background": "light"
     },
     "output_type": "display_data"
    }
   ],
   "source": [
    "from sklearn.cluster import KMeans\n",
    "wcss=[]\n",
    "#this loop will fit the k-means algorithm to our data and \n",
    "#second we will compute the within cluster sum of squares and #appended to our wcss list.\n",
    "for i in range(1,11): \n",
    "     kmeans = KMeans(n_clusters=i, init ='k-means++', max_iter=300,  n_init=10,random_state=0 )\n",
    "#i above is between 1-10 numbers. init parameter is the random #initialization method  \n",
    "#we select kmeans++ method. max_iter parameter the maximum number of iterations there can be to \n",
    "#find the final clusters when the K-meands algorithm is running. we #enter the default value of 300\n",
    "#the next parameter is n_init which is the number of times the #K_means algorithm will be run with\n",
    "#different initial centroid.\n",
    "     kmeans.fit(df2)\n",
    "    #kmeans algorithm fits to the X dataset\n",
    "     wcss.append(kmeans.inertia_)\n",
    "#kmeans inertia_ attribute is:  Sum of squared distances of samples #to their closest cluster center.\n",
    "#4.Plot the elbow graph\n",
    "plt.plot(range(1,11),wcss)\n",
    "plt.title('The Elbow Method Graph')\n",
    "plt.xlabel('Number of clusters')\n",
    "plt.ylabel('WCSS')\n",
    "plt.show()\n",
    "\n",
    "kmeans = KMeans(n_clusters=5, init ='k-means++', max_iter=300, n_init=10,random_state=0 )\n",
    "# We are going to use the fit predict method that returns for each #observation which cluster it belongs to. The cluster to which #client belongs and it will return this cluster numbers into a #single vector that is  called y K-means\n",
    "y_kmeans = kmeans.fit_predict(df2)"
   ]
  },
  {
   "cell_type": "code",
   "execution_count": 114,
   "metadata": {
    "ExecuteTime": {
     "end_time": "2020-10-31T06:08:17.005056Z",
     "start_time": "2020-10-31T06:08:16.277542Z"
    }
   },
   "outputs": [
    {
     "name": "stdout",
     "output_type": "stream",
     "text": [
      "[t-SNE] Computing 121 nearest neighbors...\n",
      "[t-SNE] Indexed 302 samples in 0.001s...\n",
      "[t-SNE] Computed neighbors for 302 samples in 0.009s...\n",
      "[t-SNE] Computed conditional probabilities for sample 302 / 302\n",
      "[t-SNE] Mean sigma: 1.256073\n",
      "[t-SNE] KL divergence after 250 iterations with early exaggeration: 65.082977\n",
      "[t-SNE] KL divergence after 300 iterations: 1.275759\n"
     ]
    },
    {
     "name": "stderr",
     "output_type": "stream",
     "text": [
      "/opt/conda/lib/python3.7/site-packages/ipykernel_launcher.py:15: SettingWithCopyWarning: \n",
      "A value is trying to be set on a copy of a slice from a DataFrame.\n",
      "Try using .loc[row_indexer,col_indexer] = value instead\n",
      "\n",
      "See the caveats in the documentation: http://pandas.pydata.org/pandas-docs/stable/user_guide/indexing.html#returning-a-view-versus-a-copy\n",
      "  from ipykernel import kernelapp as app\n",
      "/opt/conda/lib/python3.7/site-packages/ipykernel_launcher.py:16: SettingWithCopyWarning: \n",
      "A value is trying to be set on a copy of a slice from a DataFrame.\n",
      "Try using .loc[row_indexer,col_indexer] = value instead\n",
      "\n",
      "See the caveats in the documentation: http://pandas.pydata.org/pandas-docs/stable/user_guide/indexing.html#returning-a-view-versus-a-copy\n",
      "  app.launch_new_instance()\n"
     ]
    },
    {
     "data": {
      "text/plain": [
       "<matplotlib.axes._subplots.AxesSubplot at 0x7f3410813050>"
      ]
     },
     "execution_count": 114,
     "metadata": {},
     "output_type": "execute_result"
    },
    {
     "data": {
      "image/png": "[encoded data removed]",
      "text/plain": [
       "<Figure size 1152x720 with 1 Axes>"
      ]
     },
     "metadata": {
      "needs_background": "light"
     },
     "output_type": "display_data"
    }
   ],
   "source": [
    "from __future__ import print_function\n",
    "import time\n",
    "import numpy as np\n",
    "import pandas as pd\n",
    "\n",
    "from sklearn.decomposition import PCA\n",
    "from sklearn.manifold import TSNE\n",
    "%matplotlib inline\n",
    "import matplotlib.pyplot as plt\n",
    "from mpl_toolkits.mplot3d import Axes3D\n",
    "import seaborn as sns\n",
    "time_start = time.time()\n",
    "tsne = TSNE(n_components=2, verbose=1, perplexity=40, n_iter=300)\n",
    "tsne_results = tsne.fit_transform(df2)\n",
    "df2['tsne-2d-one'] = tsne_results[:,0]\n",
    "df2['tsne-2d-two'] = tsne_results[:,1]\n",
    "plt.figure(figsize=(16,10))\n",
    "sns.scatterplot(\n",
    "    x=\"tsne-2d-one\", y=\"tsne-2d-two\",\n",
    "    #hue=\"y\",\n",
    "    palette=sns.color_palette(\"hls\", 10),\n",
    "    data=df2,\n",
    "    legend=\"full\",\n",
    "    alpha=0.3\n",
    ")"
   ]
  },
  {
   "cell_type": "code",
   "execution_count": 121,
   "metadata": {
    "ExecuteTime": {
     "end_time": "2020-10-31T06:11:57.125524Z",
     "start_time": "2020-10-31T06:11:56.883998Z"
    }
   },
   "outputs": [
    {
     "data": {
      "image/png": "[encoded data removed]",
      "text/plain": [
       "<Figure size 432x288 with 1 Axes>"
      ]
     },
     "metadata": {
      "needs_background": "light"
     },
     "output_type": "display_data"
    }
   ],
   "source": [
    "X=np.asarray(df2)\n",
    "\n",
    "plt.scatter(X[y_kmeans==0, 0], X[y_kmeans==0, 1], s=100, c='red', label ='Cluster 1')\n",
    "plt.scatter(X[y_kmeans==1, 0], X[y_kmeans==1, 1], s=100, c='blue', label ='Cluster 2')\n",
    "plt.scatter(X[y_kmeans==2, 0], X[y_kmeans==2, 1], s=100, c='green', label ='Cluster 3')\n",
    "plt.scatter(X[y_kmeans==3, 0], X[y_kmeans==3, 1], s=100, c='cyan', label ='Cluster 4')\n",
    "plt.scatter(X[y_kmeans==4, 0], X[y_kmeans==4, 1], s=100, c='magenta', label ='Cluster 5')\n",
    "#plt.scatter(tsne_results[:,0], tsne_results[:,1], s=300, c='yellow', label = 'Centroids')\n",
    "plt.title('K Means on TSNE')\n",
    "plt.xlabel('TSNE 1')\n",
    "plt.ylabel('TSNE 2')\n",
    "plt.show()"
   ]
  },
  {
   "cell_type": "markdown",
   "metadata": {},
   "source": [
    "# OLD"
   ]
  },
  {
   "cell_type": "markdown",
   "metadata": {},
   "source": [
    "#### Calculate changes over time for each patient"
   ]
  },
  {
   "cell_type": "code",
   "execution_count": 40,
   "metadata": {
    "ExecuteTime": {
     "end_time": "2020-10-30T05:44:52.188361Z",
     "start_time": "2020-10-30T05:44:51.971077Z"
    }
   },
   "outputs": [
    {
     "name": "stderr",
     "output_type": "stream",
     "text": [
      "/opt/conda/lib/python3.7/site-packages/ipykernel_launcher.py:3: SettingWithCopyWarning: \n",
      "A value is trying to be set on a copy of a slice from a DataFrame\n",
      "\n",
      "See the caveats in the documentation: http://pandas.pydata.org/pandas-docs/stable/user_guide/indexing.html#returning-a-view-versus-a-copy\n",
      "  This is separate from the ipykernel package so we can avoid doing imports until\n"
     ]
    }
   ],
   "source": [
    "udprs_cog=udprs_cog.sort_values(by=['SYDID','Date of assessment'])\n",
    "udprs_cog['time_diff']=0\n",
    "udprs_cog['time_diff'][(udprs_cog['SYDID']==udprs_cog['SYDID'].shift(1))]=(udprs_cog['Date of assessment']-udprs_cog['Date of assessment'].shift(1)).dt.days\n",
    "udprs_cog['time_rolling']=udprs_cog.groupby('SYDID')['time_diff'].transform(pd.Series.cumsum)\n",
    "#udprs_cog['MMSE_delt']=0\n",
    "#udprs_cog['MMSE_delt'][(udprs_cog['SYDID']==udprs_cog['SYDID'].shift(1))&(udprs_cog['time_diff']!=0)]=(udprs_cog['MMSE result']-udprs_cog['MMSE result'].shift(1))/udprs_cog['time_diff']\n"
   ]
  },
  {
   "cell_type": "code",
   "execution_count": 41,
   "metadata": {
    "ExecuteTime": {
     "end_time": "2020-10-30T05:44:56.562507Z",
     "start_time": "2020-10-30T05:44:56.542845Z"
    }
   },
   "outputs": [
    {
     "data": {
      "text/html": [
       "<div>\n",
       "<style scoped>\n",
       "    .dataframe tbody tr th:only-of-type {\n",
       "        vertical-align: middle;\n",
       "    }\n",
       "\n",
       "    .dataframe tbody tr th {\n",
       "        vertical-align: top;\n",
       "    }\n",
       "\n",
       "    .dataframe thead th {\n",
       "        text-align: right;\n",
       "    }\n",
       "</style>\n",
       "<table border=\"1\" class=\"dataframe\">\n",
       "  <thead>\n",
       "    <tr style=\"text-align: right;\">\n",
       "      <th></th>\n",
       "      <th>SYDID</th>\n",
       "      <th>time_diff</th>\n",
       "      <th>time_rolling</th>\n",
       "    </tr>\n",
       "  </thead>\n",
       "  <tbody>\n",
       "    <tr>\n",
       "      <th>0</th>\n",
       "      <td>PD_00001_DA</td>\n",
       "      <td>0</td>\n",
       "      <td>0</td>\n",
       "    </tr>\n",
       "    <tr>\n",
       "      <th>217</th>\n",
       "      <td>PD_00001_DA</td>\n",
       "      <td>1197</td>\n",
       "      <td>1197</td>\n",
       "    </tr>\n",
       "    <tr>\n",
       "      <th>382</th>\n",
       "      <td>PD_00001_DA</td>\n",
       "      <td>385</td>\n",
       "      <td>1582</td>\n",
       "    </tr>\n",
       "    <tr>\n",
       "      <th>640</th>\n",
       "      <td>PD_00001_DA</td>\n",
       "      <td>944</td>\n",
       "      <td>2526</td>\n",
       "    </tr>\n",
       "    <tr>\n",
       "      <th>691</th>\n",
       "      <td>PD_00001_DA</td>\n",
       "      <td>639</td>\n",
       "      <td>3165</td>\n",
       "    </tr>\n",
       "    <tr>\n",
       "      <th>...</th>\n",
       "      <td>...</td>\n",
       "      <td>...</td>\n",
       "      <td>...</td>\n",
       "    </tr>\n",
       "    <tr>\n",
       "      <th>214</th>\n",
       "      <td>PD_00557_DC</td>\n",
       "      <td>0</td>\n",
       "      <td>0</td>\n",
       "    </tr>\n",
       "    <tr>\n",
       "      <th>380</th>\n",
       "      <td>PD_00563_JH</td>\n",
       "      <td>0</td>\n",
       "      <td>0</td>\n",
       "    </tr>\n",
       "    <tr>\n",
       "      <th>215</th>\n",
       "      <td>PD_00568_MB</td>\n",
       "      <td>0</td>\n",
       "      <td>0</td>\n",
       "    </tr>\n",
       "    <tr>\n",
       "      <th>216</th>\n",
       "      <td>PD_00583_KC</td>\n",
       "      <td>0</td>\n",
       "      <td>0</td>\n",
       "    </tr>\n",
       "    <tr>\n",
       "      <th>381</th>\n",
       "      <td>PD_00583_KC</td>\n",
       "      <td>420</td>\n",
       "      <td>420</td>\n",
       "    </tr>\n",
       "  </tbody>\n",
       "</table>\n",
       "<p>660 rows × 3 columns</p>\n",
       "</div>"
      ],
      "text/plain": [
       "           SYDID  time_diff  time_rolling\n",
       "0    PD_00001_DA          0             0\n",
       "217  PD_00001_DA       1197          1197\n",
       "382  PD_00001_DA        385          1582\n",
       "640  PD_00001_DA        944          2526\n",
       "691  PD_00001_DA        639          3165\n",
       "..           ...        ...           ...\n",
       "214  PD_00557_DC          0             0\n",
       "380  PD_00563_JH          0             0\n",
       "215  PD_00568_MB          0             0\n",
       "216  PD_00583_KC          0             0\n",
       "381  PD_00583_KC        420           420\n",
       "\n",
       "[660 rows x 3 columns]"
      ]
     },
     "execution_count": 41,
     "metadata": {},
     "output_type": "execute_result"
    }
   ],
   "source": [
    "udprs_cog[['SYDID','time_diff','time_rolling']]"
   ]
  },
  {
   "cell_type": "code",
   "execution_count": 222,
   "metadata": {
    "ExecuteTime": {
     "end_time": "2020-10-15T07:39:20.197901Z",
     "start_time": "2020-10-15T07:39:19.725893Z"
    }
   },
   "outputs": [
    {
     "data": {
      "text/plain": [
       "Text(0, 0.5, 'Non tremor')"
      ]
     },
     "execution_count": 222,
     "metadata": {},
     "output_type": "execute_result"
    },
    {
     "data": {
      "image/png": "[encoded data removed]",
      "text/plain": [
       "<Figure size 432x288 with 2 Axes>"
      ]
     },
     "metadata": {
      "needs_background": "light"
     },
     "output_type": "display_data"
    }
   ],
   "source": [
    "udprs_cog.head()\n",
    "nontremrg=udprs_cog['non_tremor']<5\n",
    "\n",
    "plt.hist2d(udprs_cog['tremor'][nontremrg], udprs_cog['non_tremor'][nontremrg], bins=(50, 50), vmax=20)\n",
    "plt.colorbar()\n",
    "plt.xlabel('Tremor')\n",
    "plt.ylabel('Non tremor')"
   ]
  },
  {
   "cell_type": "code",
   "execution_count": 156,
   "metadata": {
    "ExecuteTime": {
     "end_time": "2020-10-14T05:55:11.367820Z",
     "start_time": "2020-10-14T05:55:09.426470Z"
    }
   },
   "outputs": [
    {
     "name": "stderr",
     "output_type": "stream",
     "text": [
      "/opt/conda/lib/python3.7/site-packages/ipykernel_launcher.py:15: FutureWarning: using a dict on a Series for aggregation\n",
      "is deprecated and will be removed in a future version. Use                 named aggregation instead.\n",
      "\n",
      "    >>> grouper.agg(name_1=func_1, name_2=func_2)\n",
      "\n",
      "  from ipykernel import kernelapp as app\n"
     ]
    },
    {
     "name": "stdout",
     "output_type": "stream",
     "text": [
      "2.2941302256518235\n"
     ]
    },
    {
     "data": {
      "text/plain": [
       "<matplotlib.axes._subplots.AxesSubplot at 0x7f98f9e2dcd0>"
      ]
     },
     "execution_count": 156,
     "metadata": {},
     "output_type": "execute_result"
    },
    {
     "data": {
      "image/png": "[encoded data removed]",
      "text/plain": [
       "<Figure size 432x288 with 1 Axes>"
      ]
     },
     "metadata": {
      "needs_background": "light"
     },
     "output_type": "display_data"
    }
   ],
   "source": [
    "df1=gradvarfull(udprs_cog,'Section III Total')\n",
    "df1[(df1['coef']<5)&(df1['coef']>-10)&(df1['coef']!=0)]['coef'].hist(bins=50)"
   ]
  },
  {
   "cell_type": "code",
   "execution_count": 125,
   "metadata": {
    "ExecuteTime": {
     "end_time": "2020-10-14T05:11:07.903401Z",
     "start_time": "2020-10-14T05:11:07.896001Z"
    }
   },
   "outputs": [
    {
     "data": {
      "text/plain": [
       "(154, 3)"
      ]
     },
     "execution_count": 125,
     "metadata": {},
     "output_type": "execute_result"
    }
   ],
   "source": [
    "df1[(df1['coef']!=0)].shape"
   ]
  },
  {
   "cell_type": "code",
   "execution_count": 88,
   "metadata": {
    "ExecuteTime": {
     "end_time": "2020-10-14T05:01:31.855783Z",
     "start_time": "2020-10-14T05:01:31.831289Z"
    }
   },
   "outputs": [
    {
     "data": {
      "text/html": [
       "<div>\n",
       "<style scoped>\n",
       "    .dataframe tbody tr th:only-of-type {\n",
       "        vertical-align: middle;\n",
       "    }\n",
       "\n",
       "    .dataframe tbody tr th {\n",
       "        vertical-align: top;\n",
       "    }\n",
       "\n",
       "    .dataframe thead th {\n",
       "        text-align: right;\n",
       "    }\n",
       "</style>\n",
       "<table border=\"1\" class=\"dataframe\">\n",
       "  <thead>\n",
       "    <tr style=\"text-align: right;\">\n",
       "      <th></th>\n",
       "      <th>Section I Total</th>\n",
       "      <th>Section II Total</th>\n",
       "      <th>Section III Total</th>\n",
       "      <th>Section IV Total</th>\n",
       "    </tr>\n",
       "  </thead>\n",
       "  <tbody>\n",
       "    <tr>\n",
       "      <th>0</th>\n",
       "      <td>14.0</td>\n",
       "      <td>20.0</td>\n",
       "      <td>18.0</td>\n",
       "      <td>1.0</td>\n",
       "    </tr>\n",
       "    <tr>\n",
       "      <th>217</th>\n",
       "      <td>10.0</td>\n",
       "      <td>14.0</td>\n",
       "      <td>38.0</td>\n",
       "      <td>2.0</td>\n",
       "    </tr>\n",
       "    <tr>\n",
       "      <th>382</th>\n",
       "      <td>14.0</td>\n",
       "      <td>14.0</td>\n",
       "      <td>28.0</td>\n",
       "      <td>1.0</td>\n",
       "    </tr>\n",
       "    <tr>\n",
       "      <th>640</th>\n",
       "      <td>16.0</td>\n",
       "      <td>15.0</td>\n",
       "      <td>41.0</td>\n",
       "      <td>5.0</td>\n",
       "    </tr>\n",
       "    <tr>\n",
       "      <th>691</th>\n",
       "      <td>9.0</td>\n",
       "      <td>15.0</td>\n",
       "      <td>25.0</td>\n",
       "      <td>4.0</td>\n",
       "    </tr>\n",
       "    <tr>\n",
       "      <th>...</th>\n",
       "      <td>...</td>\n",
       "      <td>...</td>\n",
       "      <td>...</td>\n",
       "      <td>...</td>\n",
       "    </tr>\n",
       "    <tr>\n",
       "      <th>214</th>\n",
       "      <td>6.0</td>\n",
       "      <td>13.0</td>\n",
       "      <td>26.0</td>\n",
       "      <td>2.0</td>\n",
       "    </tr>\n",
       "    <tr>\n",
       "      <th>380</th>\n",
       "      <td>28.0</td>\n",
       "      <td>28.0</td>\n",
       "      <td>55.0</td>\n",
       "      <td>0.0</td>\n",
       "    </tr>\n",
       "    <tr>\n",
       "      <th>215</th>\n",
       "      <td>8.0</td>\n",
       "      <td>15.0</td>\n",
       "      <td>40.0</td>\n",
       "      <td>0.0</td>\n",
       "    </tr>\n",
       "    <tr>\n",
       "      <th>216</th>\n",
       "      <td>16.0</td>\n",
       "      <td>5.0</td>\n",
       "      <td>24.0</td>\n",
       "      <td>0.0</td>\n",
       "    </tr>\n",
       "    <tr>\n",
       "      <th>381</th>\n",
       "      <td>19.0</td>\n",
       "      <td>12.0</td>\n",
       "      <td>20.0</td>\n",
       "      <td>0.0</td>\n",
       "    </tr>\n",
       "  </tbody>\n",
       "</table>\n",
       "<p>702 rows × 4 columns</p>\n",
       "</div>"
      ],
      "text/plain": [
       "     Section I Total  Section II Total  Section III Total  Section IV Total\n",
       "0               14.0              20.0               18.0               1.0\n",
       "217             10.0              14.0               38.0               2.0\n",
       "382             14.0              14.0               28.0               1.0\n",
       "640             16.0              15.0               41.0               5.0\n",
       "691              9.0              15.0               25.0               4.0\n",
       "..               ...               ...                ...               ...\n",
       "214              6.0              13.0               26.0               2.0\n",
       "380             28.0              28.0               55.0               0.0\n",
       "215              8.0              15.0               40.0               0.0\n",
       "216             16.0               5.0               24.0               0.0\n",
       "381             19.0              12.0               20.0               0.0\n",
       "\n",
       "[702 rows x 4 columns]"
      ]
     },
     "execution_count": 88,
     "metadata": {},
     "output_type": "execute_result"
    }
   ],
   "source": [
    "udprs_cog_nn[[col for col in udprs_cog_nn if 'Section' in col]]"
   ]
  },
  {
   "cell_type": "markdown",
   "metadata": {},
   "source": [
    "#### Most recent dates for kmeans "
   ]
  },
  {
   "cell_type": "code",
   "execution_count": 27,
   "metadata": {
    "ExecuteTime": {
     "end_time": "2020-10-14T04:17:28.930859Z",
     "start_time": "2020-10-14T04:17:28.916175Z"
    }
   },
   "outputs": [
    {
     "data": {
      "text/plain": [
       "(222,)"
      ]
     },
     "execution_count": 27,
     "metadata": {},
     "output_type": "execute_result"
    }
   ],
   "source": [
    "udprs_cog_maxdate['Trails B Z score'][~(udprs_cog_maxdate['Trails B Z score']==999)&~(udprs_cog_maxdate['Trails B Z score']==888)].shape"
   ]
  },
  {
   "cell_type": "code",
   "execution_count": 28,
   "metadata": {
    "ExecuteTime": {
     "end_time": "2020-10-14T04:17:29.674710Z",
     "start_time": "2020-10-14T04:17:29.654487Z"
    }
   },
   "outputs": [
    {
     "name": "stderr",
     "output_type": "stream",
     "text": [
      "/opt/conda/lib/python3.7/site-packages/ipykernel_launcher.py:1: SettingWithCopyWarning: \n",
      "A value is trying to be set on a copy of a slice from a DataFrame\n",
      "\n",
      "See the caveats in the documentation: http://pandas.pydata.org/pandas-docs/stable/user_guide/indexing.html#returning-a-view-versus-a-copy\n",
      "  \"\"\"Entry point for launching an IPython kernel.\n"
     ]
    }
   ],
   "source": [
    "udprs_cog_maxdate['Princ_Diag'][(udprs_cog_maxdate['Princ_Diag']==\"Idiopathic Parkinson’s disease\")]=\"Idiopathic Parkinsons Disease\"\n",
    "udprs_cog_maxdate=udprs_cog_maxdate[(udprs_cog_maxdate['Princ_Diag']==\"Idiopathic Parkinsons Disease\")&\n",
    "                                   (udprs_cog_maxdate['Date Diagnosed']!=\"Missing\")&~(udprs_cog_maxdate['Trails B Z score']==999)&\n",
    "                                                                                     ~(udprs_cog_maxdate['Trails B Z score']==888)]"
   ]
  },
  {
   "cell_type": "code",
   "execution_count": 29,
   "metadata": {
    "ExecuteTime": {
     "end_time": "2020-10-14T04:17:31.183479Z",
     "start_time": "2020-10-14T04:17:31.156454Z"
    }
   },
   "outputs": [],
   "source": [
    "udprs_cog_maxdate=pd.merge(udprs_cog_maxdate,dem[['SYDID','Gender']])"
   ]
  },
  {
   "cell_type": "code",
   "execution_count": 30,
   "metadata": {
    "ExecuteTime": {
     "end_time": "2020-10-14T04:17:31.806780Z",
     "start_time": "2020-10-14T04:17:31.796867Z"
    }
   },
   "outputs": [],
   "source": [
    "udprs_cog_mod=udprs_cog_maxdate[['SYDID','Gender','MMSE result','Logical Memory II','Date','Date Diagnosed','Birth_date','DDE','Trails B Z score','tremor','non_tremor',\n",
    "                   'tremor_ratio','Section I Total', 'Section II Total',\n",
    "       'Section III Total','Hoehn and Yahr', 'Minutes since last dose']]"
   ]
  },
  {
   "cell_type": "code",
   "execution_count": 31,
   "metadata": {
    "ExecuteTime": {
     "end_time": "2020-10-14T04:17:32.339040Z",
     "start_time": "2020-10-14T04:17:32.318099Z"
    }
   },
   "outputs": [],
   "source": [
    "udprs_cog_mod=udprs_cog_mod.replace([np.inf, -np.inf], np.nan).dropna()"
   ]
  },
  {
   "cell_type": "code",
   "execution_count": 32,
   "metadata": {
    "ExecuteTime": {
     "end_time": "2020-10-14T04:17:32.973436Z",
     "start_time": "2020-10-14T04:17:32.965999Z"
    }
   },
   "outputs": [],
   "source": [
    "udprs_cog_mod['UDPRS_Tot']=udprs_cog_mod[['Section I Total', 'Section II Total','Section III Total']].sum(axis=1)"
   ]
  },
  {
   "cell_type": "code",
   "execution_count": 33,
   "metadata": {
    "ExecuteTime": {
     "end_time": "2020-10-14T04:17:33.489133Z",
     "start_time": "2020-10-14T04:17:33.482934Z"
    }
   },
   "outputs": [],
   "source": [
    "udprs_cog_mod['DDE']=udprs_cog_mod['DDE'].astype(float)\n",
    "udprs_cog_mod['tremor_ratio']=udprs_cog_mod['tremor_ratio'].astype(float)\n",
    "\n"
   ]
  },
  {
   "cell_type": "code",
   "execution_count": 34,
   "metadata": {
    "ExecuteTime": {
     "end_time": "2020-10-14T04:17:34.086937Z",
     "start_time": "2020-10-14T04:17:34.073496Z"
    }
   },
   "outputs": [],
   "source": [
    "udprs_cog_mod['Disease_Duration']=(pd.to_datetime(udprs_cog_mod['Date']).dt.date-pd.to_datetime(udprs_cog_mod['Date Diagnosed']).dt.date).dt.days"
   ]
  },
  {
   "cell_type": "code",
   "execution_count": 35,
   "metadata": {
    "ExecuteTime": {
     "end_time": "2020-10-14T04:17:34.750532Z",
     "start_time": "2020-10-14T04:17:34.745497Z"
    }
   },
   "outputs": [],
   "source": [
    "udprs_cog_mod['Disease_Progression']=udprs_cog_mod['UDPRS_Tot']/udprs_cog_mod['Disease_Duration']\n",
    "#udprs_cog_mod['Disease_Progression']"
   ]
  },
  {
   "cell_type": "code",
   "execution_count": 36,
   "metadata": {
    "ExecuteTime": {
     "end_time": "2020-10-14T04:17:43.446971Z",
     "start_time": "2020-10-14T04:17:43.435630Z"
    }
   },
   "outputs": [],
   "source": [
    "udprs_cog_mod['Age_At_Diagnosis']=(pd.to_datetime(udprs_cog_mod['Date Diagnosed']).dt.date-pd.to_datetime(udprs_cog_mod['Birth_date']).dt.date).dt.days/365.25"
   ]
  },
  {
   "cell_type": "code",
   "execution_count": 37,
   "metadata": {
    "ExecuteTime": {
     "end_time": "2020-10-14T04:17:48.279661Z",
     "start_time": "2020-10-14T04:17:48.263926Z"
    }
   },
   "outputs": [],
   "source": [
    "udprs_cog_mod['Disease_Prog_z']=z_score(udprs_cog_mod,'Disease_Progression')\n",
    "udprs_cog_mod['Age_At_Diagnosis_z']=z_score(udprs_cog_mod,'Age_At_Diagnosis')\n",
    "udprs_cog_mod['tremor_ratio_z']=z_score(udprs_cog_mod,'tremor_ratio')\n",
    "udprs_cog_mod['DDE_z']=z_score(udprs_cog_mod,'DDE')\n",
    "udprs_cog_mod['Logical Memory II_z']=z_score(udprs_cog_mod,'Logical Memory II')"
   ]
  },
  {
   "cell_type": "code",
   "execution_count": 38,
   "metadata": {
    "ExecuteTime": {
     "end_time": "2020-10-14T04:17:49.290977Z",
     "start_time": "2020-10-14T04:17:49.285301Z"
    }
   },
   "outputs": [],
   "source": [
    "X=np.asarray(udprs_cog_mod[['Disease_Prog_z','Age_At_Diagnosis_z','Trails B Z score','tremor_ratio_z','DDE_z','Logical Memory II_z']])"
   ]
  },
  {
   "cell_type": "code",
   "execution_count": 39,
   "metadata": {
    "ExecuteTime": {
     "end_time": "2020-10-14T04:17:50.225676Z",
     "start_time": "2020-10-14T04:17:50.185856Z"
    }
   },
   "outputs": [
    {
     "data": {
      "text/html": [
       "<div>\n",
       "<style scoped>\n",
       "    .dataframe tbody tr th:only-of-type {\n",
       "        vertical-align: middle;\n",
       "    }\n",
       "\n",
       "    .dataframe tbody tr th {\n",
       "        vertical-align: top;\n",
       "    }\n",
       "\n",
       "    .dataframe thead th {\n",
       "        text-align: right;\n",
       "    }\n",
       "</style>\n",
       "<table border=\"1\" class=\"dataframe\">\n",
       "  <thead>\n",
       "    <tr style=\"text-align: right;\">\n",
       "      <th></th>\n",
       "      <th>Disease_Prog_z</th>\n",
       "      <th>Age_At_Diagnosis_z</th>\n",
       "      <th>Trails B Z score</th>\n",
       "      <th>tremor_ratio_z</th>\n",
       "      <th>DDE_z</th>\n",
       "      <th>Logical Memory II_z</th>\n",
       "    </tr>\n",
       "  </thead>\n",
       "  <tbody>\n",
       "    <tr>\n",
       "      <th>0</th>\n",
       "      <td>-0.098911</td>\n",
       "      <td>0.788868</td>\n",
       "      <td>0.500</td>\n",
       "      <td>-0.068523</td>\n",
       "      <td>-0.926177</td>\n",
       "      <td>-0.114994</td>\n",
       "    </tr>\n",
       "    <tr>\n",
       "      <th>1</th>\n",
       "      <td>-0.096199</td>\n",
       "      <td>1.729882</td>\n",
       "      <td>0.000</td>\n",
       "      <td>-0.125722</td>\n",
       "      <td>-0.302609</td>\n",
       "      <td>-0.062280</td>\n",
       "    </tr>\n",
       "    <tr>\n",
       "      <th>2</th>\n",
       "      <td>-0.125707</td>\n",
       "      <td>0.076445</td>\n",
       "      <td>0.300</td>\n",
       "      <td>-0.812118</td>\n",
       "      <td>-1.501778</td>\n",
       "      <td>-0.167708</td>\n",
       "    </tr>\n",
       "    <tr>\n",
       "      <th>3</th>\n",
       "      <td>-0.109621</td>\n",
       "      <td>-0.160245</td>\n",
       "      <td>-1.600</td>\n",
       "      <td>1.590267</td>\n",
       "      <td>-0.926177</td>\n",
       "      <td>-0.343421</td>\n",
       "    </tr>\n",
       "    <tr>\n",
       "      <th>4</th>\n",
       "      <td>-0.125861</td>\n",
       "      <td>-0.082132</td>\n",
       "      <td>0.190</td>\n",
       "      <td>-0.342479</td>\n",
       "      <td>2.963928</td>\n",
       "      <td>-0.325849</td>\n",
       "    </tr>\n",
       "    <tr>\n",
       "      <th>...</th>\n",
       "      <td>...</td>\n",
       "      <td>...</td>\n",
       "      <td>...</td>\n",
       "      <td>...</td>\n",
       "      <td>...</td>\n",
       "      <td>...</td>\n",
       "    </tr>\n",
       "    <tr>\n",
       "      <th>201</th>\n",
       "      <td>-0.117301</td>\n",
       "      <td>-0.323002</td>\n",
       "      <td>-0.632</td>\n",
       "      <td>-0.549673</td>\n",
       "      <td>0.416893</td>\n",
       "      <td>0.095861</td>\n",
       "    </tr>\n",
       "    <tr>\n",
       "      <th>203</th>\n",
       "      <td>-0.119711</td>\n",
       "      <td>-0.590520</td>\n",
       "      <td>-0.741</td>\n",
       "      <td>0.024427</td>\n",
       "      <td>-0.943445</td>\n",
       "      <td>0.095861</td>\n",
       "    </tr>\n",
       "    <tr>\n",
       "      <th>204</th>\n",
       "      <td>-0.115278</td>\n",
       "      <td>0.930464</td>\n",
       "      <td>0.550</td>\n",
       "      <td>-0.812118</td>\n",
       "      <td>-0.033995</td>\n",
       "      <td>0.131004</td>\n",
       "    </tr>\n",
       "    <tr>\n",
       "      <th>205</th>\n",
       "      <td>-0.132380</td>\n",
       "      <td>-1.906947</td>\n",
       "      <td>-0.013</td>\n",
       "      <td>-0.812118</td>\n",
       "      <td>0.225025</td>\n",
       "      <td>0.131004</td>\n",
       "    </tr>\n",
       "    <tr>\n",
       "      <th>206</th>\n",
       "      <td>-0.104666</td>\n",
       "      <td>-2.367788</td>\n",
       "      <td>-0.690</td>\n",
       "      <td>0.500109</td>\n",
       "      <td>4.479678</td>\n",
       "      <td>0.359430</td>\n",
       "    </tr>\n",
       "  </tbody>\n",
       "</table>\n",
       "<p>180 rows × 6 columns</p>\n",
       "</div>"
      ],
      "text/plain": [
       "     Disease_Prog_z  Age_At_Diagnosis_z  Trails B Z score  tremor_ratio_z  \\\n",
       "0         -0.098911            0.788868             0.500       -0.068523   \n",
       "1         -0.096199            1.729882             0.000       -0.125722   \n",
       "2         -0.125707            0.076445             0.300       -0.812118   \n",
       "3         -0.109621           -0.160245            -1.600        1.590267   \n",
       "4         -0.125861           -0.082132             0.190       -0.342479   \n",
       "..              ...                 ...               ...             ...   \n",
       "201       -0.117301           -0.323002            -0.632       -0.549673   \n",
       "203       -0.119711           -0.590520            -0.741        0.024427   \n",
       "204       -0.115278            0.930464             0.550       -0.812118   \n",
       "205       -0.132380           -1.906947            -0.013       -0.812118   \n",
       "206       -0.104666           -2.367788            -0.690        0.500109   \n",
       "\n",
       "        DDE_z  Logical Memory II_z  \n",
       "0   -0.926177            -0.114994  \n",
       "1   -0.302609            -0.062280  \n",
       "2   -1.501778            -0.167708  \n",
       "3   -0.926177            -0.343421  \n",
       "4    2.963928            -0.325849  \n",
       "..        ...                  ...  \n",
       "201  0.416893             0.095861  \n",
       "203 -0.943445             0.095861  \n",
       "204 -0.033995             0.131004  \n",
       "205  0.225025             0.131004  \n",
       "206  4.479678             0.359430  \n",
       "\n",
       "[180 rows x 6 columns]"
      ]
     },
     "execution_count": 39,
     "metadata": {},
     "output_type": "execute_result"
    }
   ],
   "source": [
    "udprs_cog_mod[['Disease_Prog_z','Age_At_Diagnosis_z','Trails B Z score','tremor_ratio_z','DDE_z','Logical Memory II_z']].replace([np.inf, -np.inf], np.nan).dropna()"
   ]
  },
  {
   "cell_type": "code",
   "execution_count": 40,
   "metadata": {
    "ExecuteTime": {
     "end_time": "2020-10-14T04:20:38.125195Z",
     "start_time": "2020-10-14T04:20:38.085365Z"
    }
   },
   "outputs": [],
   "source": [
    "udprs_cog_mod.to_csv('%s%s' % (loc,'udprs_cog_mod.csv'))"
   ]
  },
  {
   "cell_type": "code",
   "execution_count": 41,
   "metadata": {
    "ExecuteTime": {
     "end_time": "2020-10-14T04:20:39.820776Z",
     "start_time": "2020-10-14T04:20:39.786131Z"
    }
   },
   "outputs": [
    {
     "data": {
      "text/html": [
       "<div>\n",
       "<style scoped>\n",
       "    .dataframe tbody tr th:only-of-type {\n",
       "        vertical-align: middle;\n",
       "    }\n",
       "\n",
       "    .dataframe tbody tr th {\n",
       "        vertical-align: top;\n",
       "    }\n",
       "\n",
       "    .dataframe thead th {\n",
       "        text-align: right;\n",
       "    }\n",
       "</style>\n",
       "<table border=\"1\" class=\"dataframe\">\n",
       "  <thead>\n",
       "    <tr style=\"text-align: right;\">\n",
       "      <th></th>\n",
       "      <th>Disease_Progression</th>\n",
       "      <th>Age_At_Diagnosis</th>\n",
       "      <th>Trails B Z score</th>\n",
       "      <th>tremor_ratio</th>\n",
       "      <th>DDE</th>\n",
       "      <th>Logical Memory II</th>\n",
       "    </tr>\n",
       "  </thead>\n",
       "  <tbody>\n",
       "    <tr>\n",
       "      <th>0</th>\n",
       "      <td>0.027135</td>\n",
       "      <td>68.065708</td>\n",
       "      <td>0.500</td>\n",
       "      <td>0.333333</td>\n",
       "      <td>300.0</td>\n",
       "      <td>18.0</td>\n",
       "    </tr>\n",
       "    <tr>\n",
       "      <th>1</th>\n",
       "      <td>0.028956</td>\n",
       "      <td>77.927447</td>\n",
       "      <td>0.000</td>\n",
       "      <td>0.307692</td>\n",
       "      <td>625.0</td>\n",
       "      <td>21.0</td>\n",
       "    </tr>\n",
       "    <tr>\n",
       "      <th>2</th>\n",
       "      <td>0.009141</td>\n",
       "      <td>60.599589</td>\n",
       "      <td>0.300</td>\n",
       "      <td>0.000000</td>\n",
       "      <td>0.0</td>\n",
       "      <td>15.0</td>\n",
       "    </tr>\n",
       "    <tr>\n",
       "      <th>3</th>\n",
       "      <td>0.019943</td>\n",
       "      <td>58.119097</td>\n",
       "      <td>-1.600</td>\n",
       "      <td>1.076923</td>\n",
       "      <td>300.0</td>\n",
       "      <td>5.0</td>\n",
       "    </tr>\n",
       "    <tr>\n",
       "      <th>4</th>\n",
       "      <td>0.009037</td>\n",
       "      <td>58.937714</td>\n",
       "      <td>0.190</td>\n",
       "      <td>0.210526</td>\n",
       "      <td>2327.5</td>\n",
       "      <td>6.0</td>\n",
       "    </tr>\n",
       "    <tr>\n",
       "      <th>...</th>\n",
       "      <td>...</td>\n",
       "      <td>...</td>\n",
       "      <td>...</td>\n",
       "      <td>...</td>\n",
       "      <td>...</td>\n",
       "      <td>...</td>\n",
       "    </tr>\n",
       "    <tr>\n",
       "      <th>201</th>\n",
       "      <td>0.014786</td>\n",
       "      <td>56.413415</td>\n",
       "      <td>-0.632</td>\n",
       "      <td>0.117647</td>\n",
       "      <td>1000.0</td>\n",
       "      <td>30.0</td>\n",
       "    </tr>\n",
       "    <tr>\n",
       "      <th>203</th>\n",
       "      <td>0.013167</td>\n",
       "      <td>53.609856</td>\n",
       "      <td>-0.741</td>\n",
       "      <td>0.375000</td>\n",
       "      <td>291.0</td>\n",
       "      <td>30.0</td>\n",
       "    </tr>\n",
       "    <tr>\n",
       "      <th>204</th>\n",
       "      <td>0.016144</td>\n",
       "      <td>69.549624</td>\n",
       "      <td>0.550</td>\n",
       "      <td>0.000000</td>\n",
       "      <td>765.0</td>\n",
       "      <td>32.0</td>\n",
       "    </tr>\n",
       "    <tr>\n",
       "      <th>205</th>\n",
       "      <td>0.004659</td>\n",
       "      <td>39.813826</td>\n",
       "      <td>-0.013</td>\n",
       "      <td>0.000000</td>\n",
       "      <td>900.0</td>\n",
       "      <td>32.0</td>\n",
       "    </tr>\n",
       "    <tr>\n",
       "      <th>206</th>\n",
       "      <td>0.023270</td>\n",
       "      <td>34.984257</td>\n",
       "      <td>-0.690</td>\n",
       "      <td>0.588235</td>\n",
       "      <td>3117.5</td>\n",
       "      <td>45.0</td>\n",
       "    </tr>\n",
       "  </tbody>\n",
       "</table>\n",
       "<p>180 rows × 6 columns</p>\n",
       "</div>"
      ],
      "text/plain": [
       "     Disease_Progression  Age_At_Diagnosis  Trails B Z score  tremor_ratio  \\\n",
       "0               0.027135         68.065708             0.500      0.333333   \n",
       "1               0.028956         77.927447             0.000      0.307692   \n",
       "2               0.009141         60.599589             0.300      0.000000   \n",
       "3               0.019943         58.119097            -1.600      1.076923   \n",
       "4               0.009037         58.937714             0.190      0.210526   \n",
       "..                   ...               ...               ...           ...   \n",
       "201             0.014786         56.413415            -0.632      0.117647   \n",
       "203             0.013167         53.609856            -0.741      0.375000   \n",
       "204             0.016144         69.549624             0.550      0.000000   \n",
       "205             0.004659         39.813826            -0.013      0.000000   \n",
       "206             0.023270         34.984257            -0.690      0.588235   \n",
       "\n",
       "        DDE  Logical Memory II  \n",
       "0     300.0               18.0  \n",
       "1     625.0               21.0  \n",
       "2       0.0               15.0  \n",
       "3     300.0                5.0  \n",
       "4    2327.5                6.0  \n",
       "..      ...                ...  \n",
       "201  1000.0               30.0  \n",
       "203   291.0               30.0  \n",
       "204   765.0               32.0  \n",
       "205   900.0               32.0  \n",
       "206  3117.5               45.0  \n",
       "\n",
       "[180 rows x 6 columns]"
      ]
     },
     "execution_count": 41,
     "metadata": {},
     "output_type": "execute_result"
    }
   ],
   "source": [
    "udprs_cog_mod[['Disease_Progression','Age_At_Diagnosis','Trails B Z score','tremor_ratio','DDE','Logical Memory II']].dropna()"
   ]
  },
  {
   "cell_type": "code",
   "execution_count": 226,
   "metadata": {},
   "outputs": [
    {
     "data": {
      "text/plain": [
       "Disease_Progression     0.004659\n",
       "Age_At_Diagnosis       12.057495\n",
       "Trails B Z score       -9.580000\n",
       "tremor_ratio            0.000000\n",
       "DDE                     0.000000\n",
       "Logical Memory II       0.000000\n",
       "dtype: float64"
      ]
     },
     "execution_count": 226,
     "metadata": {},
     "output_type": "execute_result"
    }
   ],
   "source": [
    "df_clust.min()"
   ]
  },
  {
   "cell_type": "code",
   "execution_count": 228,
   "metadata": {},
   "outputs": [
    {
     "name": "stderr",
     "output_type": "stream",
     "text": [
      "/opt/anaconda3/lib/python3.8/site-packages/sklearn/cluster/_kmeans.py:93: RuntimeWarning: divide by zero encountered in log\n",
      "  n_local_trials = 2 + int(np.log(n_clusters))\n"
     ]
    },
    {
     "ename": "OverflowError",
     "evalue": "cannot convert float infinity to integer",
     "output_type": "error",
     "traceback": [
      "\u001b[0;31m---------------------------------------------------------------------------\u001b[0m",
      "\u001b[0;31mOverflowError\u001b[0m                             Traceback (most recent call last)",
      "\u001b[0;32m<ipython-input-228-4b632ed7c84c>\u001b[0m in \u001b[0;36m<module>\u001b[0;34m\u001b[0m\n\u001b[1;32m      6\u001b[0m \u001b[0;32mfor\u001b[0m \u001b[0mk\u001b[0m \u001b[0;32min\u001b[0m \u001b[0mrange\u001b[0m\u001b[0;34m(\u001b[0m\u001b[0;36m10\u001b[0m\u001b[0;34m)\u001b[0m\u001b[0;34m:\u001b[0m\u001b[0;34m\u001b[0m\u001b[0;34m\u001b[0m\u001b[0m\n\u001b[1;32m      7\u001b[0m     \u001b[0mkmeanModel\u001b[0m \u001b[0;34m=\u001b[0m \u001b[0mKMeans\u001b[0m\u001b[0;34m(\u001b[0m\u001b[0mn_clusters\u001b[0m\u001b[0;34m=\u001b[0m\u001b[0mk\u001b[0m\u001b[0;34m)\u001b[0m\u001b[0;34m\u001b[0m\u001b[0;34m\u001b[0m\u001b[0m\n\u001b[0;32m----> 8\u001b[0;31m     \u001b[0mkmeanModel\u001b[0m\u001b[0;34m.\u001b[0m\u001b[0mfit\u001b[0m\u001b[0;34m(\u001b[0m\u001b[0mdf_clust\u001b[0m\u001b[0;34m)\u001b[0m\u001b[0;34m\u001b[0m\u001b[0;34m\u001b[0m\u001b[0m\n\u001b[0m\u001b[1;32m      9\u001b[0m     \u001b[0mdistortions\u001b[0m\u001b[0;34m.\u001b[0m\u001b[0mappend\u001b[0m\u001b[0;34m(\u001b[0m\u001b[0mkmeanModel\u001b[0m\u001b[0;34m.\u001b[0m\u001b[0minertia_\u001b[0m\u001b[0;34m)\u001b[0m\u001b[0;34m\u001b[0m\u001b[0;34m\u001b[0m\u001b[0m\n\u001b[1;32m     10\u001b[0m \u001b[0mplt\u001b[0m\u001b[0;34m.\u001b[0m\u001b[0mfigure\u001b[0m\u001b[0;34m(\u001b[0m\u001b[0mfigsize\u001b[0m\u001b[0;34m=\u001b[0m\u001b[0;34m(\u001b[0m\u001b[0;36m16\u001b[0m\u001b[0;34m,\u001b[0m\u001b[0;36m8\u001b[0m\u001b[0;34m)\u001b[0m\u001b[0;34m)\u001b[0m\u001b[0;34m\u001b[0m\u001b[0;34m\u001b[0m\u001b[0m\n",
      "\u001b[0;32m/opt/anaconda3/lib/python3.8/site-packages/sklearn/cluster/_kmeans.py\u001b[0m in \u001b[0;36mfit\u001b[0;34m(self, X, y, sample_weight)\u001b[0m\n\u001b[1;32m   1049\u001b[0m         \u001b[0;32mfor\u001b[0m \u001b[0mseed\u001b[0m \u001b[0;32min\u001b[0m \u001b[0mseeds\u001b[0m\u001b[0;34m:\u001b[0m\u001b[0;34m\u001b[0m\u001b[0;34m\u001b[0m\u001b[0m\n\u001b[1;32m   1050\u001b[0m             \u001b[0;31m# run a k-means once\u001b[0m\u001b[0;34m\u001b[0m\u001b[0;34m\u001b[0m\u001b[0;34m\u001b[0m\u001b[0m\n\u001b[0;32m-> 1051\u001b[0;31m             labels, inertia, centers, n_iter_ = kmeans_single(\n\u001b[0m\u001b[1;32m   1052\u001b[0m                 \u001b[0mX\u001b[0m\u001b[0;34m,\u001b[0m \u001b[0msample_weight\u001b[0m\u001b[0;34m,\u001b[0m \u001b[0mself\u001b[0m\u001b[0;34m.\u001b[0m\u001b[0mn_clusters\u001b[0m\u001b[0;34m,\u001b[0m \u001b[0mmax_iter\u001b[0m\u001b[0;34m=\u001b[0m\u001b[0mself\u001b[0m\u001b[0;34m.\u001b[0m\u001b[0mmax_iter\u001b[0m\u001b[0;34m,\u001b[0m\u001b[0;34m\u001b[0m\u001b[0;34m\u001b[0m\u001b[0m\n\u001b[1;32m   1053\u001b[0m                 \u001b[0minit\u001b[0m\u001b[0;34m=\u001b[0m\u001b[0minit\u001b[0m\u001b[0;34m,\u001b[0m \u001b[0mverbose\u001b[0m\u001b[0;34m=\u001b[0m\u001b[0mself\u001b[0m\u001b[0;34m.\u001b[0m\u001b[0mverbose\u001b[0m\u001b[0;34m,\u001b[0m \u001b[0mtol\u001b[0m\u001b[0;34m=\u001b[0m\u001b[0mtol\u001b[0m\u001b[0;34m,\u001b[0m\u001b[0;34m\u001b[0m\u001b[0;34m\u001b[0m\u001b[0m\n",
      "\u001b[0;32m/opt/anaconda3/lib/python3.8/site-packages/sklearn/cluster/_kmeans.py\u001b[0m in \u001b[0;36m_kmeans_single_elkan\u001b[0;34m(X, sample_weight, n_clusters, max_iter, init, verbose, x_squared_norms, random_state, tol, n_threads)\u001b[0m\n\u001b[1;32m    403\u001b[0m \u001b[0;34m\u001b[0m\u001b[0m\n\u001b[1;32m    404\u001b[0m     \u001b[0;31m# init\u001b[0m\u001b[0;34m\u001b[0m\u001b[0;34m\u001b[0m\u001b[0;34m\u001b[0m\u001b[0m\n\u001b[0;32m--> 405\u001b[0;31m     centers = _init_centroids(X, n_clusters, init, random_state=random_state,\n\u001b[0m\u001b[1;32m    406\u001b[0m                               x_squared_norms=x_squared_norms)\n\u001b[1;32m    407\u001b[0m \u001b[0;34m\u001b[0m\u001b[0m\n",
      "\u001b[0;32m/opt/anaconda3/lib/python3.8/site-packages/sklearn/cluster/_kmeans.py\u001b[0m in \u001b[0;36m_init_centroids\u001b[0;34m(X, n_clusters, init, random_state, x_squared_norms, init_size)\u001b[0m\n\u001b[1;32m    719\u001b[0m \u001b[0;34m\u001b[0m\u001b[0m\n\u001b[1;32m    720\u001b[0m     \u001b[0;32mif\u001b[0m \u001b[0misinstance\u001b[0m\u001b[0;34m(\u001b[0m\u001b[0minit\u001b[0m\u001b[0;34m,\u001b[0m \u001b[0mstr\u001b[0m\u001b[0;34m)\u001b[0m \u001b[0;32mand\u001b[0m \u001b[0minit\u001b[0m \u001b[0;34m==\u001b[0m \u001b[0;34m'k-means++'\u001b[0m\u001b[0;34m:\u001b[0m\u001b[0;34m\u001b[0m\u001b[0;34m\u001b[0m\u001b[0m\n\u001b[0;32m--> 721\u001b[0;31m         centers = _k_init(X, n_clusters, random_state=random_state,\n\u001b[0m\u001b[1;32m    722\u001b[0m                           x_squared_norms=x_squared_norms)\n\u001b[1;32m    723\u001b[0m     \u001b[0;32melif\u001b[0m \u001b[0misinstance\u001b[0m\u001b[0;34m(\u001b[0m\u001b[0minit\u001b[0m\u001b[0;34m,\u001b[0m \u001b[0mstr\u001b[0m\u001b[0;34m)\u001b[0m \u001b[0;32mand\u001b[0m \u001b[0minit\u001b[0m \u001b[0;34m==\u001b[0m \u001b[0;34m'random'\u001b[0m\u001b[0;34m:\u001b[0m\u001b[0;34m\u001b[0m\u001b[0;34m\u001b[0m\u001b[0m\n",
      "\u001b[0;32m/opt/anaconda3/lib/python3.8/site-packages/sklearn/cluster/_kmeans.py\u001b[0m in \u001b[0;36m_k_init\u001b[0;34m(X, n_clusters, x_squared_norms, random_state, n_local_trials)\u001b[0m\n\u001b[1;32m     91\u001b[0m         \u001b[0;31m# specific results for other than mentioning in the conclusion\u001b[0m\u001b[0;34m\u001b[0m\u001b[0;34m\u001b[0m\u001b[0;34m\u001b[0m\u001b[0m\n\u001b[1;32m     92\u001b[0m         \u001b[0;31m# that it helped.\u001b[0m\u001b[0;34m\u001b[0m\u001b[0;34m\u001b[0m\u001b[0;34m\u001b[0m\u001b[0m\n\u001b[0;32m---> 93\u001b[0;31m         \u001b[0mn_local_trials\u001b[0m \u001b[0;34m=\u001b[0m \u001b[0;36m2\u001b[0m \u001b[0;34m+\u001b[0m \u001b[0mint\u001b[0m\u001b[0;34m(\u001b[0m\u001b[0mnp\u001b[0m\u001b[0;34m.\u001b[0m\u001b[0mlog\u001b[0m\u001b[0;34m(\u001b[0m\u001b[0mn_clusters\u001b[0m\u001b[0;34m)\u001b[0m\u001b[0;34m)\u001b[0m\u001b[0;34m\u001b[0m\u001b[0;34m\u001b[0m\u001b[0m\n\u001b[0m\u001b[1;32m     94\u001b[0m \u001b[0;34m\u001b[0m\u001b[0m\n\u001b[1;32m     95\u001b[0m     \u001b[0;31m# Pick first center randomly\u001b[0m\u001b[0;34m\u001b[0m\u001b[0;34m\u001b[0m\u001b[0;34m\u001b[0m\u001b[0m\n",
      "\u001b[0;31mOverflowError\u001b[0m: cannot convert float infinity to integer"
     ]
    }
   ],
   "source": [
    "df_clust=udprs_cog_mod[['Disease_Progression','Age_At_Diagnosis','Trails B Z score','tremor_ratio','DDE','Logical Memory II']].dropna()\n",
    "distortions = []\n",
    "\n",
    "df_clust = df_clust.replace([np.inf, -np.inf, -0], 0)\n",
    "\n",
    "for k in range(10):\n",
    "    kmeanModel = KMeans(n_clusters=k)\n",
    "    kmeanModel.fit(df_clust)\n",
    "    distortions.append(kmeanModel.inertia_)\n",
    "plt.figure(figsize=(16,8))\n",
    "plt.plot(K, distortions, 'bx-')\n",
    "plt.xlabel('k')\n",
    "plt.ylabel('Distortion')\n",
    "plt.title('The Elbow Method showing the optimal k')\n",
    "plt.show()\n"
   ]
  },
  {
   "cell_type": "code",
   "execution_count": 84,
   "metadata": {},
   "outputs": [
    {
     "name": "stderr",
     "output_type": "stream",
     "text": [
      "<ipython-input-84-da9c148b940d>:3: SettingWithCopyWarning: \n",
      "A value is trying to be set on a copy of a slice from a DataFrame\n",
      "\n",
      "See the caveats in the documentation: http://pandas.pydata.org/pandas-docs/stable/indexing.html#indexing-view-versus-copy\n",
      "  cog1_rs['time_diff'][(cog1_rs['SYDID']==cog1_rs['SYDID'].shift(1))]=(cog1_rs['Date/time']-cog1_rs['Date/time'].shift(1)).dt.days\n",
      "<ipython-input-84-da9c148b940d>:6: SettingWithCopyWarning: \n",
      "A value is trying to be set on a copy of a slice from a DataFrame\n",
      "\n",
      "See the caveats in the documentation: http://pandas.pydata.org/pandas-docs/stable/indexing.html#indexing-view-versus-copy\n",
      "  cog1_rs['MMSE_delt'][(cog1_rs['SYDID']==cog1_rs['SYDID'].shift(1))&(cog1_rs['time_diff']!=0)]=(cog1_rs['MMSE result']-cog1_rs['MMSE result'].shift(1))/cog1_rs['time_diff']\n"
     ]
    }
   ],
   "source": [
    "\n",
    "#cog1_rs[['SYDID','Date/time','time_diff']]"
   ]
  },
  {
   "cell_type": "code",
   "execution_count": 100,
   "metadata": {},
   "outputs": [
    {
     "data": {
      "text/plain": [
       "12.364078947368345"
      ]
     },
     "execution_count": 100,
     "metadata": {},
     "output_type": "execute_result"
    }
   ],
   "source": [
    "cog1_rs['MMSE_delt'][pd.notnull(cog1_rs['MMSE_delt'])].quantile(0.99)"
   ]
  },
  {
   "cell_type": "code",
   "execution_count": 95,
   "metadata": {},
   "outputs": [
    {
     "data": {
      "image/png": "[encoded data removed]",
      "text/plain": [
       "<Figure size 432x288 with 1 Axes>"
      ]
     },
     "metadata": {
      "needs_background": "light"
     },
     "output_type": "display_data"
    }
   ],
   "source": [
    "ax=plt.hist(cog1_rs['MMSE_delt'],bins=100)\n",
    "plt.show()"
   ]
  },
  {
   "cell_type": "code",
   "execution_count": 127,
   "metadata": {},
   "outputs": [
    {
     "ename": "ValueError",
     "evalue": "Input contains NaN, infinity or a value too large for dtype('float64').",
     "output_type": "error",
     "traceback": [
      "\u001b[0;31m---------------------------------------------------------------------------\u001b[0m",
      "\u001b[0;31mValueError\u001b[0m                                Traceback (most recent call last)",
      "\u001b[0;32m<ipython-input-127-389dca9fad5f>\u001b[0m in \u001b[0;36m<module>\u001b[0;34m\u001b[0m\n\u001b[1;32m      5\u001b[0m \u001b[0;31m#X=np.array([1,2,3,4])\u001b[0m\u001b[0;34m\u001b[0m\u001b[0;34m\u001b[0m\u001b[0;34m\u001b[0m\u001b[0m\n\u001b[1;32m      6\u001b[0m \u001b[0;31m#y=np.array([1,2,3,4])\u001b[0m\u001b[0;34m\u001b[0m\u001b[0;34m\u001b[0m\u001b[0;34m\u001b[0m\u001b[0m\n\u001b[0;32m----> 7\u001b[0;31m \u001b[0mregr\u001b[0m\u001b[0;34m.\u001b[0m\u001b[0mfit\u001b[0m\u001b[0;34m(\u001b[0m\u001b[0mX\u001b[0m\u001b[0;34m,\u001b[0m \u001b[0my\u001b[0m\u001b[0;34m)\u001b[0m\u001b[0;34m\u001b[0m\u001b[0;34m\u001b[0m\u001b[0m\n\u001b[0m",
      "\u001b[0;32m/opt/anaconda3/lib/python3.8/site-packages/sklearn/linear_model/_base.py\u001b[0m in \u001b[0;36mfit\u001b[0;34m(self, X, y, sample_weight)\u001b[0m\n\u001b[1;32m    503\u001b[0m \u001b[0;34m\u001b[0m\u001b[0m\n\u001b[1;32m    504\u001b[0m         \u001b[0mn_jobs_\u001b[0m \u001b[0;34m=\u001b[0m \u001b[0mself\u001b[0m\u001b[0;34m.\u001b[0m\u001b[0mn_jobs\u001b[0m\u001b[0;34m\u001b[0m\u001b[0;34m\u001b[0m\u001b[0m\n\u001b[0;32m--> 505\u001b[0;31m         X, y = self._validate_data(X, y, accept_sparse=['csr', 'csc', 'coo'],\n\u001b[0m\u001b[1;32m    506\u001b[0m                                    y_numeric=True, multi_output=True)\n\u001b[1;32m    507\u001b[0m \u001b[0;34m\u001b[0m\u001b[0m\n",
      "\u001b[0;32m/opt/anaconda3/lib/python3.8/site-packages/sklearn/base.py\u001b[0m in \u001b[0;36m_validate_data\u001b[0;34m(self, X, y, reset, validate_separately, **check_params)\u001b[0m\n\u001b[1;32m    430\u001b[0m                 \u001b[0my\u001b[0m \u001b[0;34m=\u001b[0m \u001b[0mcheck_array\u001b[0m\u001b[0;34m(\u001b[0m\u001b[0my\u001b[0m\u001b[0;34m,\u001b[0m \u001b[0;34m**\u001b[0m\u001b[0mcheck_y_params\u001b[0m\u001b[0;34m)\u001b[0m\u001b[0;34m\u001b[0m\u001b[0;34m\u001b[0m\u001b[0m\n\u001b[1;32m    431\u001b[0m             \u001b[0;32melse\u001b[0m\u001b[0;34m:\u001b[0m\u001b[0;34m\u001b[0m\u001b[0;34m\u001b[0m\u001b[0m\n\u001b[0;32m--> 432\u001b[0;31m                 \u001b[0mX\u001b[0m\u001b[0;34m,\u001b[0m \u001b[0my\u001b[0m \u001b[0;34m=\u001b[0m \u001b[0mcheck_X_y\u001b[0m\u001b[0;34m(\u001b[0m\u001b[0mX\u001b[0m\u001b[0;34m,\u001b[0m \u001b[0my\u001b[0m\u001b[0;34m,\u001b[0m \u001b[0;34m**\u001b[0m\u001b[0mcheck_params\u001b[0m\u001b[0;34m)\u001b[0m\u001b[0;34m\u001b[0m\u001b[0;34m\u001b[0m\u001b[0m\n\u001b[0m\u001b[1;32m    433\u001b[0m             \u001b[0mout\u001b[0m \u001b[0;34m=\u001b[0m \u001b[0mX\u001b[0m\u001b[0;34m,\u001b[0m \u001b[0my\u001b[0m\u001b[0;34m\u001b[0m\u001b[0;34m\u001b[0m\u001b[0m\n\u001b[1;32m    434\u001b[0m \u001b[0;34m\u001b[0m\u001b[0m\n",
      "\u001b[0;32m/opt/anaconda3/lib/python3.8/site-packages/sklearn/utils/validation.py\u001b[0m in \u001b[0;36minner_f\u001b[0;34m(*args, **kwargs)\u001b[0m\n\u001b[1;32m     71\u001b[0m                           FutureWarning)\n\u001b[1;32m     72\u001b[0m         \u001b[0mkwargs\u001b[0m\u001b[0;34m.\u001b[0m\u001b[0mupdate\u001b[0m\u001b[0;34m(\u001b[0m\u001b[0;34m{\u001b[0m\u001b[0mk\u001b[0m\u001b[0;34m:\u001b[0m \u001b[0marg\u001b[0m \u001b[0;32mfor\u001b[0m \u001b[0mk\u001b[0m\u001b[0;34m,\u001b[0m \u001b[0marg\u001b[0m \u001b[0;32min\u001b[0m \u001b[0mzip\u001b[0m\u001b[0;34m(\u001b[0m\u001b[0msig\u001b[0m\u001b[0;34m.\u001b[0m\u001b[0mparameters\u001b[0m\u001b[0;34m,\u001b[0m \u001b[0margs\u001b[0m\u001b[0;34m)\u001b[0m\u001b[0;34m}\u001b[0m\u001b[0;34m)\u001b[0m\u001b[0;34m\u001b[0m\u001b[0;34m\u001b[0m\u001b[0m\n\u001b[0;32m---> 73\u001b[0;31m         \u001b[0;32mreturn\u001b[0m \u001b[0mf\u001b[0m\u001b[0;34m(\u001b[0m\u001b[0;34m**\u001b[0m\u001b[0mkwargs\u001b[0m\u001b[0;34m)\u001b[0m\u001b[0;34m\u001b[0m\u001b[0;34m\u001b[0m\u001b[0m\n\u001b[0m\u001b[1;32m     74\u001b[0m     \u001b[0;32mreturn\u001b[0m \u001b[0minner_f\u001b[0m\u001b[0;34m\u001b[0m\u001b[0;34m\u001b[0m\u001b[0m\n\u001b[1;32m     75\u001b[0m \u001b[0;34m\u001b[0m\u001b[0m\n",
      "\u001b[0;32m/opt/anaconda3/lib/python3.8/site-packages/sklearn/utils/validation.py\u001b[0m in \u001b[0;36mcheck_X_y\u001b[0;34m(X, y, accept_sparse, accept_large_sparse, dtype, order, copy, force_all_finite, ensure_2d, allow_nd, multi_output, ensure_min_samples, ensure_min_features, y_numeric, estimator)\u001b[0m\n\u001b[1;32m    803\u001b[0m                     estimator=estimator)\n\u001b[1;32m    804\u001b[0m     \u001b[0;32mif\u001b[0m \u001b[0mmulti_output\u001b[0m\u001b[0;34m:\u001b[0m\u001b[0;34m\u001b[0m\u001b[0;34m\u001b[0m\u001b[0m\n\u001b[0;32m--> 805\u001b[0;31m         y = check_array(y, accept_sparse='csr', force_all_finite=True,\n\u001b[0m\u001b[1;32m    806\u001b[0m                         ensure_2d=False, dtype=None)\n\u001b[1;32m    807\u001b[0m     \u001b[0;32melse\u001b[0m\u001b[0;34m:\u001b[0m\u001b[0;34m\u001b[0m\u001b[0;34m\u001b[0m\u001b[0m\n",
      "\u001b[0;32m/opt/anaconda3/lib/python3.8/site-packages/sklearn/utils/validation.py\u001b[0m in \u001b[0;36minner_f\u001b[0;34m(*args, **kwargs)\u001b[0m\n\u001b[1;32m     71\u001b[0m                           FutureWarning)\n\u001b[1;32m     72\u001b[0m         \u001b[0mkwargs\u001b[0m\u001b[0;34m.\u001b[0m\u001b[0mupdate\u001b[0m\u001b[0;34m(\u001b[0m\u001b[0;34m{\u001b[0m\u001b[0mk\u001b[0m\u001b[0;34m:\u001b[0m \u001b[0marg\u001b[0m \u001b[0;32mfor\u001b[0m \u001b[0mk\u001b[0m\u001b[0;34m,\u001b[0m \u001b[0marg\u001b[0m \u001b[0;32min\u001b[0m \u001b[0mzip\u001b[0m\u001b[0;34m(\u001b[0m\u001b[0msig\u001b[0m\u001b[0;34m.\u001b[0m\u001b[0mparameters\u001b[0m\u001b[0;34m,\u001b[0m \u001b[0margs\u001b[0m\u001b[0;34m)\u001b[0m\u001b[0;34m}\u001b[0m\u001b[0;34m)\u001b[0m\u001b[0;34m\u001b[0m\u001b[0;34m\u001b[0m\u001b[0m\n\u001b[0;32m---> 73\u001b[0;31m         \u001b[0;32mreturn\u001b[0m \u001b[0mf\u001b[0m\u001b[0;34m(\u001b[0m\u001b[0;34m**\u001b[0m\u001b[0mkwargs\u001b[0m\u001b[0;34m)\u001b[0m\u001b[0;34m\u001b[0m\u001b[0;34m\u001b[0m\u001b[0m\n\u001b[0m\u001b[1;32m     74\u001b[0m     \u001b[0;32mreturn\u001b[0m \u001b[0minner_f\u001b[0m\u001b[0;34m\u001b[0m\u001b[0;34m\u001b[0m\u001b[0m\n\u001b[1;32m     75\u001b[0m \u001b[0;34m\u001b[0m\u001b[0m\n",
      "\u001b[0;32m/opt/anaconda3/lib/python3.8/site-packages/sklearn/utils/validation.py\u001b[0m in \u001b[0;36mcheck_array\u001b[0;34m(array, accept_sparse, accept_large_sparse, dtype, order, copy, force_all_finite, ensure_2d, allow_nd, ensure_min_samples, ensure_min_features, estimator)\u001b[0m\n\u001b[1;32m    643\u001b[0m \u001b[0;34m\u001b[0m\u001b[0m\n\u001b[1;32m    644\u001b[0m         \u001b[0;32mif\u001b[0m \u001b[0mforce_all_finite\u001b[0m\u001b[0;34m:\u001b[0m\u001b[0;34m\u001b[0m\u001b[0;34m\u001b[0m\u001b[0m\n\u001b[0;32m--> 645\u001b[0;31m             _assert_all_finite(array,\n\u001b[0m\u001b[1;32m    646\u001b[0m                                allow_nan=force_all_finite == 'allow-nan')\n\u001b[1;32m    647\u001b[0m \u001b[0;34m\u001b[0m\u001b[0m\n",
      "\u001b[0;32m/opt/anaconda3/lib/python3.8/site-packages/sklearn/utils/validation.py\u001b[0m in \u001b[0;36m_assert_all_finite\u001b[0;34m(X, allow_nan, msg_dtype)\u001b[0m\n\u001b[1;32m     95\u001b[0m                 not allow_nan and not np.isfinite(X).all()):\n\u001b[1;32m     96\u001b[0m             \u001b[0mtype_err\u001b[0m \u001b[0;34m=\u001b[0m \u001b[0;34m'infinity'\u001b[0m \u001b[0;32mif\u001b[0m \u001b[0mallow_nan\u001b[0m \u001b[0;32melse\u001b[0m \u001b[0;34m'NaN, infinity'\u001b[0m\u001b[0;34m\u001b[0m\u001b[0;34m\u001b[0m\u001b[0m\n\u001b[0;32m---> 97\u001b[0;31m             raise ValueError(\n\u001b[0m\u001b[1;32m     98\u001b[0m                     \u001b[0mmsg_err\u001b[0m\u001b[0;34m.\u001b[0m\u001b[0mformat\u001b[0m\u001b[0;34m\u001b[0m\u001b[0;34m\u001b[0m\u001b[0m\n\u001b[1;32m     99\u001b[0m                     (type_err,\n",
      "\u001b[0;31mValueError\u001b[0m: Input contains NaN, infinity or a value too large for dtype('float64')."
     ]
    }
   ],
   "source": [
    "y = np.asarray(cog1_rs['MMSE result']).reshape(-1, 1)\n",
    "    #df[['date']]=pd.to_datetime(df[['date']])\n",
    "X = np.asarray(cog1_rs['time_diff']).reshape(-1, 1)\n",
    "\n",
    "#X=np.array([1,2,3,4])\n",
    "#y=np.array([1,2,3,4])\n",
    "regr.fit(X, y)"
   ]
  },
  {
   "cell_type": "code",
   "execution_count": 145,
   "metadata": {},
   "outputs": [
    {
     "data": {
      "text/html": [
       "<div>\n",
       "<style scoped>\n",
       "    .dataframe tbody tr th:only-of-type {\n",
       "        vertical-align: middle;\n",
       "    }\n",
       "\n",
       "    .dataframe tbody tr th {\n",
       "        vertical-align: top;\n",
       "    }\n",
       "\n",
       "    .dataframe thead th {\n",
       "        text-align: right;\n",
       "    }\n",
       "</style>\n",
       "<table border=\"1\" class=\"dataframe\">\n",
       "  <thead>\n",
       "    <tr style=\"text-align: right;\">\n",
       "      <th></th>\n",
       "      <th>SYDID</th>\n",
       "      <th>user_interc</th>\n",
       "      <th>user_coef</th>\n",
       "      <th>recs</th>\n",
       "    </tr>\n",
       "  </thead>\n",
       "  <tbody>\n",
       "    <tr>\n",
       "      <th>0</th>\n",
       "      <td>PD_00001_DA</td>\n",
       "      <td>28.672355751706817</td>\n",
       "      <td>-0.0045608764023881325</td>\n",
       "      <td>7</td>\n",
       "    </tr>\n",
       "    <tr>\n",
       "      <th>1</th>\n",
       "      <td>PD_00002_MW</td>\n",
       "      <td>27.568587516352608</td>\n",
       "      <td>-0.0005857801124135145</td>\n",
       "      <td>5</td>\n",
       "    </tr>\n",
       "    <tr>\n",
       "      <th>2</th>\n",
       "      <td>PD_00004_AW</td>\n",
       "      <td>29.654073199527744</td>\n",
       "      <td>-0.00040123229043683583</td>\n",
       "      <td>8</td>\n",
       "    </tr>\n",
       "    <tr>\n",
       "      <th>3</th>\n",
       "      <td>PD_00008_BM</td>\n",
       "      <td>28.159404479240198</td>\n",
       "      <td>0.003553551947635243</td>\n",
       "      <td>9</td>\n",
       "    </tr>\n",
       "    <tr>\n",
       "      <th>4</th>\n",
       "      <td>PD_00009_RP</td>\n",
       "      <td>30.0</td>\n",
       "      <td>-0.001587301587301587</td>\n",
       "      <td>2</td>\n",
       "    </tr>\n",
       "    <tr>\n",
       "      <th>5</th>\n",
       "      <td>PD_00011_BN</td>\n",
       "      <td>29.0</td>\n",
       "      <td>0.0</td>\n",
       "      <td>1</td>\n",
       "    </tr>\n",
       "    <tr>\n",
       "      <th>6</th>\n",
       "      <td>PD_00012_CA</td>\n",
       "      <td>30.0</td>\n",
       "      <td>-0.0008605851979345954</td>\n",
       "      <td>2</td>\n",
       "    </tr>\n",
       "    <tr>\n",
       "      <th>7</th>\n",
       "      <td>PD_00013_TO</td>\n",
       "      <td>29.25815716841018</td>\n",
       "      <td>-0.0018631416814967464</td>\n",
       "      <td>6</td>\n",
       "    </tr>\n",
       "    <tr>\n",
       "      <th>8</th>\n",
       "      <td>PD_00014_CI</td>\n",
       "      <td>26.0</td>\n",
       "      <td>0.0</td>\n",
       "      <td>1</td>\n",
       "    </tr>\n",
       "    <tr>\n",
       "      <th>9</th>\n",
       "      <td>PD_00015_AB</td>\n",
       "      <td>29.405240488155062</td>\n",
       "      <td>-0.0044610809147779705</td>\n",
       "      <td>4</td>\n",
       "    </tr>\n",
       "    <tr>\n",
       "      <th>10</th>\n",
       "      <td>PD_00017_RE</td>\n",
       "      <td>28.471016686086738</td>\n",
       "      <td>-0.0016123966791683363</td>\n",
       "      <td>5</td>\n",
       "    </tr>\n",
       "    <tr>\n",
       "      <th>11</th>\n",
       "      <td>PD_00019_FM</td>\n",
       "      <td>25.195092648214036</td>\n",
       "      <td>-0.005129152996626772</td>\n",
       "      <td>4</td>\n",
       "    </tr>\n",
       "    <tr>\n",
       "      <th>12</th>\n",
       "      <td>PD_00021_GB</td>\n",
       "      <td>27.791467741449146</td>\n",
       "      <td>-0.002467510277104923</td>\n",
       "      <td>3</td>\n",
       "    </tr>\n",
       "    <tr>\n",
       "      <th>13</th>\n",
       "      <td>PD_00022_SB</td>\n",
       "      <td>28.61153304965501</td>\n",
       "      <td>0.0016705375760760846</td>\n",
       "      <td>7</td>\n",
       "    </tr>\n",
       "    <tr>\n",
       "      <th>14</th>\n",
       "      <td>PD_00024_DY</td>\n",
       "      <td>29.0</td>\n",
       "      <td>0.0</td>\n",
       "      <td>1</td>\n",
       "    </tr>\n",
       "    <tr>\n",
       "      <th>15</th>\n",
       "      <td>PD_00025_SM</td>\n",
       "      <td>29.897503929238354</td>\n",
       "      <td>-0.0012052878388064117</td>\n",
       "      <td>10</td>\n",
       "    </tr>\n",
       "    <tr>\n",
       "      <th>16</th>\n",
       "      <td>PD_00026_BH</td>\n",
       "      <td>30.25872464827334</td>\n",
       "      <td>-0.00279293153402417</td>\n",
       "      <td>3</td>\n",
       "    </tr>\n",
       "    <tr>\n",
       "      <th>17</th>\n",
       "      <td>PD_00027_KH</td>\n",
       "      <td>29.072293718075322</td>\n",
       "      <td>-0.0004913915767753986</td>\n",
       "      <td>8</td>\n",
       "    </tr>\n",
       "    <tr>\n",
       "      <th>18</th>\n",
       "      <td>PD_00028_BP</td>\n",
       "      <td>29.892083644510826</td>\n",
       "      <td>-0.002779852294415401</td>\n",
       "      <td>3</td>\n",
       "    </tr>\n",
       "    <tr>\n",
       "      <th>19</th>\n",
       "      <td>PD_00029_JF</td>\n",
       "      <td>30.0</td>\n",
       "      <td>0.0</td>\n",
       "      <td>3</td>\n",
       "    </tr>\n",
       "    <tr>\n",
       "      <th>20</th>\n",
       "      <td>PD_00030_SG</td>\n",
       "      <td>30.0</td>\n",
       "      <td>0.0</td>\n",
       "      <td>2</td>\n",
       "    </tr>\n",
       "    <tr>\n",
       "      <th>21</th>\n",
       "      <td>PD_00031_GR</td>\n",
       "      <td>29.967498776527542</td>\n",
       "      <td>-0.000890898097241623</td>\n",
       "      <td>4</td>\n",
       "    </tr>\n",
       "    <tr>\n",
       "      <th>22</th>\n",
       "      <td>PD_00032_RC</td>\n",
       "      <td>27.675426269362028</td>\n",
       "      <td>-0.0010002610431129612</td>\n",
       "      <td>4</td>\n",
       "    </tr>\n",
       "    <tr>\n",
       "      <th>23</th>\n",
       "      <td>PD_00034_EJ</td>\n",
       "      <td>29.125903120529138</td>\n",
       "      <td>-0.00024380929614472647</td>\n",
       "      <td>5</td>\n",
       "    </tr>\n",
       "    <tr>\n",
       "      <th>24</th>\n",
       "      <td>PD_00035_BP</td>\n",
       "      <td>29.834259260712788</td>\n",
       "      <td>0.00010831702037144887</td>\n",
       "      <td>8</td>\n",
       "    </tr>\n",
       "    <tr>\n",
       "      <th>25</th>\n",
       "      <td>PD_00037_JC</td>\n",
       "      <td>28.510413308401574</td>\n",
       "      <td>0.0009349410019988395</td>\n",
       "      <td>7</td>\n",
       "    </tr>\n",
       "    <tr>\n",
       "      <th>26</th>\n",
       "      <td>PD_00038_YL</td>\n",
       "      <td>28.280440364859125</td>\n",
       "      <td>0.0003871166061843237</td>\n",
       "      <td>6</td>\n",
       "    </tr>\n",
       "    <tr>\n",
       "      <th>27</th>\n",
       "      <td>PD_00040_DK</td>\n",
       "      <td>28.26923361170645</td>\n",
       "      <td>-0.0031145412122427873</td>\n",
       "      <td>4</td>\n",
       "    </tr>\n",
       "    <tr>\n",
       "      <th>28</th>\n",
       "      <td>PD_00042_BD</td>\n",
       "      <td>30.037476261085917</td>\n",
       "      <td>-0.0010126798208991796</td>\n",
       "      <td>6</td>\n",
       "    </tr>\n",
       "    <tr>\n",
       "      <th>29</th>\n",
       "      <td>PD_00043_SG</td>\n",
       "      <td>29.28872594117819</td>\n",
       "      <td>0.00117738543765881</td>\n",
       "      <td>6</td>\n",
       "    </tr>\n",
       "    <tr>\n",
       "      <th>...</th>\n",
       "      <td>...</td>\n",
       "      <td>...</td>\n",
       "      <td>...</td>\n",
       "      <td>...</td>\n",
       "    </tr>\n",
       "    <tr>\n",
       "      <th>221</th>\n",
       "      <td>PD_00471_CS</td>\n",
       "      <td>29.0</td>\n",
       "      <td>0.0</td>\n",
       "      <td>1</td>\n",
       "    </tr>\n",
       "    <tr>\n",
       "      <th>222</th>\n",
       "      <td>PD_00473_DP</td>\n",
       "      <td>27.82422054048729</td>\n",
       "      <td>0.005073482025944811</td>\n",
       "      <td>4</td>\n",
       "    </tr>\n",
       "    <tr>\n",
       "      <th>223</th>\n",
       "      <td>PD_00478_ND</td>\n",
       "      <td>30.0</td>\n",
       "      <td>0.0</td>\n",
       "      <td>1</td>\n",
       "    </tr>\n",
       "    <tr>\n",
       "      <th>224</th>\n",
       "      <td>PD_00481_JC</td>\n",
       "      <td>30.0</td>\n",
       "      <td>0.0</td>\n",
       "      <td>1</td>\n",
       "    </tr>\n",
       "    <tr>\n",
       "      <th>225</th>\n",
       "      <td>PD_00482_OG</td>\n",
       "      <td>28.0</td>\n",
       "      <td>0.0</td>\n",
       "      <td>2</td>\n",
       "    </tr>\n",
       "    <tr>\n",
       "      <th>226</th>\n",
       "      <td>PD_00483_HB</td>\n",
       "      <td>29.0</td>\n",
       "      <td>0.0</td>\n",
       "      <td>1</td>\n",
       "    </tr>\n",
       "    <tr>\n",
       "      <th>227</th>\n",
       "      <td>PD_00486_AH</td>\n",
       "      <td>26.83366582363652</td>\n",
       "      <td>0.0014681709393638018</td>\n",
       "      <td>3</td>\n",
       "    </tr>\n",
       "    <tr>\n",
       "      <th>228</th>\n",
       "      <td>PD_00489_MW</td>\n",
       "      <td>27.0</td>\n",
       "      <td>0.0009596928982725526</td>\n",
       "      <td>2</td>\n",
       "    </tr>\n",
       "    <tr>\n",
       "      <th>229</th>\n",
       "      <td>PD_00491_ES</td>\n",
       "      <td>27.0</td>\n",
       "      <td>0.0</td>\n",
       "      <td>1</td>\n",
       "    </tr>\n",
       "    <tr>\n",
       "      <th>230</th>\n",
       "      <td>PD_00494_RG</td>\n",
       "      <td>26.01044249098922</td>\n",
       "      <td>0.002595560679372539</td>\n",
       "      <td>4</td>\n",
       "    </tr>\n",
       "    <tr>\n",
       "      <th>231</th>\n",
       "      <td>PD_00496_JB</td>\n",
       "      <td>28.88527390718943</td>\n",
       "      <td>-0.0009543641046503133</td>\n",
       "      <td>3</td>\n",
       "    </tr>\n",
       "    <tr>\n",
       "      <th>232</th>\n",
       "      <td>PD_00500_RS</td>\n",
       "      <td>28.0</td>\n",
       "      <td>0.0011299435028248586</td>\n",
       "      <td>2</td>\n",
       "    </tr>\n",
       "    <tr>\n",
       "      <th>233</th>\n",
       "      <td>PD_00502_DN</td>\n",
       "      <td>28.038406827880515</td>\n",
       "      <td>0.002540134119081489</td>\n",
       "      <td>3</td>\n",
       "    </tr>\n",
       "    <tr>\n",
       "      <th>234</th>\n",
       "      <td>PD_00510_RC</td>\n",
       "      <td>29.0</td>\n",
       "      <td>0.0</td>\n",
       "      <td>1</td>\n",
       "    </tr>\n",
       "    <tr>\n",
       "      <th>235</th>\n",
       "      <td>PD_00513_RE</td>\n",
       "      <td>29.54835843191205</td>\n",
       "      <td>0.0004265921926248261</td>\n",
       "      <td>3</td>\n",
       "    </tr>\n",
       "    <tr>\n",
       "      <th>236</th>\n",
       "      <td>PD_00518_JB</td>\n",
       "      <td>30.649518176324506</td>\n",
       "      <td>-0.020506207151077538</td>\n",
       "      <td>5</td>\n",
       "    </tr>\n",
       "    <tr>\n",
       "      <th>237</th>\n",
       "      <td>PD_00519_UV</td>\n",
       "      <td>29.0</td>\n",
       "      <td>0.0</td>\n",
       "      <td>1</td>\n",
       "    </tr>\n",
       "    <tr>\n",
       "      <th>238</th>\n",
       "      <td>PD_00527_MS</td>\n",
       "      <td>30.005963355957558</td>\n",
       "      <td>-0.0010178900678726695</td>\n",
       "      <td>3</td>\n",
       "    </tr>\n",
       "    <tr>\n",
       "      <th>239</th>\n",
       "      <td>PD_00534_SE</td>\n",
       "      <td>26.938055001606283</td>\n",
       "      <td>0.005161325518102523</td>\n",
       "      <td>3</td>\n",
       "    </tr>\n",
       "    <tr>\n",
       "      <th>240</th>\n",
       "      <td>PD_00538_HF</td>\n",
       "      <td>28.040532413621705</td>\n",
       "      <td>-0.0006072535142745606</td>\n",
       "      <td>3</td>\n",
       "    </tr>\n",
       "    <tr>\n",
       "      <th>241</th>\n",
       "      <td>PD_00539_MR</td>\n",
       "      <td>29.0</td>\n",
       "      <td>0.0011627906976744184</td>\n",
       "      <td>2</td>\n",
       "    </tr>\n",
       "    <tr>\n",
       "      <th>242</th>\n",
       "      <td>PD_00541_PB</td>\n",
       "      <td>27.0</td>\n",
       "      <td>0.0</td>\n",
       "      <td>2</td>\n",
       "    </tr>\n",
       "    <tr>\n",
       "      <th>243</th>\n",
       "      <td>PD_00544_JC</td>\n",
       "      <td>30.0</td>\n",
       "      <td>-0.0014903129657228016</td>\n",
       "      <td>2</td>\n",
       "    </tr>\n",
       "    <tr>\n",
       "      <th>244</th>\n",
       "      <td>PD_00547_CM</td>\n",
       "      <td>28.0</td>\n",
       "      <td>0.0</td>\n",
       "      <td>1</td>\n",
       "    </tr>\n",
       "    <tr>\n",
       "      <th>245</th>\n",
       "      <td>PD_00553_KM</td>\n",
       "      <td>29.0</td>\n",
       "      <td>0.0</td>\n",
       "      <td>2</td>\n",
       "    </tr>\n",
       "    <tr>\n",
       "      <th>246</th>\n",
       "      <td>PD_00555_PH</td>\n",
       "      <td>25.0</td>\n",
       "      <td>-0.0023310023310023306</td>\n",
       "      <td>2</td>\n",
       "    </tr>\n",
       "    <tr>\n",
       "      <th>247</th>\n",
       "      <td>PD_00557_DC</td>\n",
       "      <td>26.0</td>\n",
       "      <td>0.0</td>\n",
       "      <td>1</td>\n",
       "    </tr>\n",
       "    <tr>\n",
       "      <th>248</th>\n",
       "      <td>PD_00563_JH</td>\n",
       "      <td>26.0</td>\n",
       "      <td>0.010869565217391302</td>\n",
       "      <td>2</td>\n",
       "    </tr>\n",
       "    <tr>\n",
       "      <th>249</th>\n",
       "      <td>PD_00568_MB</td>\n",
       "      <td>30.0</td>\n",
       "      <td>0.0</td>\n",
       "      <td>2</td>\n",
       "    </tr>\n",
       "    <tr>\n",
       "      <th>250</th>\n",
       "      <td>PD_00583_KC</td>\n",
       "      <td>30.0</td>\n",
       "      <td>0.0</td>\n",
       "      <td>2</td>\n",
       "    </tr>\n",
       "  </tbody>\n",
       "</table>\n",
       "<p>251 rows × 4 columns</p>\n",
       "</div>"
      ],
      "text/plain": [
       "           SYDID         user_interc                user_coef  recs\n",
       "0    PD_00001_DA  28.672355751706817   -0.0045608764023881325     7\n",
       "1    PD_00002_MW  27.568587516352608   -0.0005857801124135145     5\n",
       "2    PD_00004_AW  29.654073199527744  -0.00040123229043683583     8\n",
       "3    PD_00008_BM  28.159404479240198     0.003553551947635243     9\n",
       "4    PD_00009_RP                30.0    -0.001587301587301587     2\n",
       "5    PD_00011_BN                29.0                      0.0     1\n",
       "6    PD_00012_CA                30.0   -0.0008605851979345954     2\n",
       "7    PD_00013_TO   29.25815716841018   -0.0018631416814967464     6\n",
       "8    PD_00014_CI                26.0                      0.0     1\n",
       "9    PD_00015_AB  29.405240488155062   -0.0044610809147779705     4\n",
       "10   PD_00017_RE  28.471016686086738   -0.0016123966791683363     5\n",
       "11   PD_00019_FM  25.195092648214036    -0.005129152996626772     4\n",
       "12   PD_00021_GB  27.791467741449146    -0.002467510277104923     3\n",
       "13   PD_00022_SB   28.61153304965501    0.0016705375760760846     7\n",
       "14   PD_00024_DY                29.0                      0.0     1\n",
       "15   PD_00025_SM  29.897503929238354   -0.0012052878388064117    10\n",
       "16   PD_00026_BH   30.25872464827334     -0.00279293153402417     3\n",
       "17   PD_00027_KH  29.072293718075322   -0.0004913915767753986     8\n",
       "18   PD_00028_BP  29.892083644510826    -0.002779852294415401     3\n",
       "19   PD_00029_JF                30.0                      0.0     3\n",
       "20   PD_00030_SG                30.0                      0.0     2\n",
       "21   PD_00031_GR  29.967498776527542    -0.000890898097241623     4\n",
       "22   PD_00032_RC  27.675426269362028   -0.0010002610431129612     4\n",
       "23   PD_00034_EJ  29.125903120529138  -0.00024380929614472647     5\n",
       "24   PD_00035_BP  29.834259260712788   0.00010831702037144887     8\n",
       "25   PD_00037_JC  28.510413308401574    0.0009349410019988395     7\n",
       "26   PD_00038_YL  28.280440364859125    0.0003871166061843237     6\n",
       "27   PD_00040_DK   28.26923361170645   -0.0031145412122427873     4\n",
       "28   PD_00042_BD  30.037476261085917   -0.0010126798208991796     6\n",
       "29   PD_00043_SG   29.28872594117819      0.00117738543765881     6\n",
       "..           ...                 ...                      ...   ...\n",
       "221  PD_00471_CS                29.0                      0.0     1\n",
       "222  PD_00473_DP   27.82422054048729     0.005073482025944811     4\n",
       "223  PD_00478_ND                30.0                      0.0     1\n",
       "224  PD_00481_JC                30.0                      0.0     1\n",
       "225  PD_00482_OG                28.0                      0.0     2\n",
       "226  PD_00483_HB                29.0                      0.0     1\n",
       "227  PD_00486_AH   26.83366582363652    0.0014681709393638018     3\n",
       "228  PD_00489_MW                27.0    0.0009596928982725526     2\n",
       "229  PD_00491_ES                27.0                      0.0     1\n",
       "230  PD_00494_RG   26.01044249098922     0.002595560679372539     4\n",
       "231  PD_00496_JB   28.88527390718943   -0.0009543641046503133     3\n",
       "232  PD_00500_RS                28.0    0.0011299435028248586     2\n",
       "233  PD_00502_DN  28.038406827880515     0.002540134119081489     3\n",
       "234  PD_00510_RC                29.0                      0.0     1\n",
       "235  PD_00513_RE   29.54835843191205    0.0004265921926248261     3\n",
       "236  PD_00518_JB  30.649518176324506    -0.020506207151077538     5\n",
       "237  PD_00519_UV                29.0                      0.0     1\n",
       "238  PD_00527_MS  30.005963355957558   -0.0010178900678726695     3\n",
       "239  PD_00534_SE  26.938055001606283     0.005161325518102523     3\n",
       "240  PD_00538_HF  28.040532413621705   -0.0006072535142745606     3\n",
       "241  PD_00539_MR                29.0    0.0011627906976744184     2\n",
       "242  PD_00541_PB                27.0                      0.0     2\n",
       "243  PD_00544_JC                30.0   -0.0014903129657228016     2\n",
       "244  PD_00547_CM                28.0                      0.0     1\n",
       "245  PD_00553_KM                29.0                      0.0     2\n",
       "246  PD_00555_PH                25.0   -0.0023310023310023306     2\n",
       "247  PD_00557_DC                26.0                      0.0     1\n",
       "248  PD_00563_JH                26.0     0.010869565217391302     2\n",
       "249  PD_00568_MB                30.0                      0.0     2\n",
       "250  PD_00583_KC                30.0                      0.0     2\n",
       "\n",
       "[251 rows x 4 columns]"
      ]
     },
     "execution_count": 145,
     "metadata": {},
     "output_type": "execute_result"
    }
   ],
   "source": [
    "#X=np.array(cog1_rs['time_diff'])\n",
    "#y=np.array(cog1_rs['MMSE result'])\n",
    "from sklearn import linear_model\n",
    "regr = linear_model.LinearRegression()\n",
    "\n",
    "cog1_rschk=cog1_rs[pd.notnull(cog1_rs['MMSE result'])&pd.notnull(cog1_rs['time_diff'])]\n",
    "def interc(df):\n",
    "    y = np.asarray(df['MMSE result']).reshape(-1, 1)\n",
    "    #df[['date']]=pd.to_datetime(df[['date']])\n",
    "    X = np.asarray(df['time_diff']).reshape(-1, 1)\n",
    "    return np.squeeze(regr.fit(X, y).intercept_)\n",
    "\n",
    "def coef(df):\n",
    "    y = np.asarray(df['MMSE result']).reshape(-1, 1)\n",
    "    #df[['date']]=pd.to_datetime(df[['date']])\n",
    "    X = np.asarray(df['time_diff']).reshape(-1, 1)\n",
    "    return np.squeeze(regr.fit(X, y).coef_)\n",
    "\n",
    "\n",
    "df_user_recs=pd.DataFrame(cog1_rschk.groupby('SYDID').size()).reset_index()\n",
    "df_user_recs.columns=['SYDID','recs']\n",
    "df_user=pd.DataFrame(cog1_rschk.groupby('SYDID').apply(interc)).reset_index()\n",
    "df_user.columns=['SYDID','user_interc']\n",
    "df_user_coef=pd.DataFrame(cog1_rschk.groupby('SYDID').apply(coef)).reset_index()\n",
    "df_user_coef.columns=['SYDID','user_coef']\n",
    "df_user=pd.merge(df_user,df_user_coef,how='left',on='SYDID')\n",
    "df_user=pd.merge(df_user,df_user_recs,how='left',on='SYDID')\n",
    "df_user"
   ]
  },
  {
   "cell_type": "code",
   "execution_count": 141,
   "metadata": {},
   "outputs": [
    {
     "data": {
      "text/plain": [
       "SYDID\n",
       "PD_00001_DA     [28.672355751706817, -0.0045608764023881325]\n",
       "PD_00002_MW     [27.568587516352608, -0.0005857801124135145]\n",
       "PD_00004_AW    [29.654073199527744, -0.00040123229043683583]\n",
       "PD_00008_BM       [28.159404479240198, 0.003553551947635243]\n",
       "PD_00009_RP                    [30.0, -0.001587301587301587]\n",
       "PD_00011_BN                                      [29.0, 0.0]\n",
       "PD_00012_CA                   [30.0, -0.0008605851979345954]\n",
       "PD_00013_TO      [29.25815716841018, -0.0018631416814967464]\n",
       "PD_00014_CI                                      [26.0, 0.0]\n",
       "PD_00015_AB     [29.405240488155062, -0.0044610809147779705]\n",
       "PD_00017_RE     [28.471016686086738, -0.0016123966791683363]\n",
       "PD_00019_FM      [25.195092648214036, -0.005129152996626772]\n",
       "PD_00021_GB      [27.791467741449146, -0.002467510277104923]\n",
       "PD_00022_SB       [28.61153304965501, 0.0016705375760760846]\n",
       "PD_00024_DY                                      [29.0, 0.0]\n",
       "PD_00025_SM     [29.897503929238354, -0.0012052878388064117]\n",
       "PD_00026_BH        [30.25872464827334, -0.00279293153402417]\n",
       "PD_00027_KH     [29.072293718075322, -0.0004913915767753986]\n",
       "PD_00028_BP      [29.892083644510826, -0.002779852294415401]\n",
       "PD_00029_JF                                      [30.0, 0.0]\n",
       "PD_00030_SG                                      [30.0, 0.0]\n",
       "PD_00031_GR      [29.967498776527542, -0.000890898097241623]\n",
       "PD_00032_RC     [27.675426269362028, -0.0010002610431129612]\n",
       "PD_00034_EJ    [29.125903120529138, -0.00024380929614472647]\n",
       "PD_00035_BP     [29.834259260712788, 0.00010831702037144887]\n",
       "PD_00037_JC      [28.510413308401574, 0.0009349410019988395]\n",
       "PD_00038_YL      [28.280440364859125, 0.0003871166061843237]\n",
       "PD_00040_DK      [28.26923361170645, -0.0031145412122427873]\n",
       "PD_00042_BD     [30.037476261085917, -0.0010126798208991796]\n",
       "PD_00043_SG         [29.28872594117819, 0.00117738543765881]\n",
       "                                   ...                      \n",
       "PD_00471_CS                                      [29.0, 0.0]\n",
       "PD_00473_DP        [27.82422054048729, 0.005073482025944811]\n",
       "PD_00478_ND                                      [30.0, 0.0]\n",
       "PD_00481_JC                                      [30.0, 0.0]\n",
       "PD_00482_OG                                      [28.0, 0.0]\n",
       "PD_00483_HB                                      [29.0, 0.0]\n",
       "PD_00486_AH       [26.83366582363652, 0.0014681709393638018]\n",
       "PD_00489_MW                    [27.0, 0.0009596928982725526]\n",
       "PD_00491_ES                                      [27.0, 0.0]\n",
       "PD_00494_RG        [26.01044249098922, 0.002595560679372539]\n",
       "PD_00496_JB      [28.88527390718943, -0.0009543641046503133]\n",
       "PD_00500_RS                    [28.0, 0.0011299435028248586]\n",
       "PD_00502_DN       [28.038406827880515, 0.002540134119081489]\n",
       "PD_00510_RC                                      [29.0, 0.0]\n",
       "PD_00513_RE       [29.54835843191205, 0.0004265921926248261]\n",
       "PD_00518_JB      [30.649518176324506, -0.020506207151077538]\n",
       "PD_00519_UV                                      [29.0, 0.0]\n",
       "PD_00527_MS     [30.005963355957558, -0.0010178900678726695]\n",
       "PD_00534_SE       [26.938055001606283, 0.005161325518102523]\n",
       "PD_00538_HF     [28.040532413621705, -0.0006072535142745606]\n",
       "PD_00539_MR                    [29.0, 0.0011627906976744184]\n",
       "PD_00541_PB                                      [27.0, 0.0]\n",
       "PD_00544_JC                   [30.0, -0.0014903129657228016]\n",
       "PD_00547_CM                                      [28.0, 0.0]\n",
       "PD_00553_KM                                      [29.0, 0.0]\n",
       "PD_00555_PH                   [25.0, -0.0023310023310023306]\n",
       "PD_00557_DC                                      [26.0, 0.0]\n",
       "PD_00563_JH                     [26.0, 0.010869565217391302]\n",
       "PD_00568_MB                                      [30.0, 0.0]\n",
       "PD_00583_KC                                      [30.0, 0.0]\n",
       "Length: 251, dtype: object"
      ]
     },
     "execution_count": 141,
     "metadata": {},
     "output_type": "execute_result"
    }
   ],
   "source": [
    "cog1_rschk.groupby('SYDID').apply(interc)"
   ]
  },
  {
   "cell_type": "code",
   "execution_count": null,
   "metadata": {},
   "outputs": [],
   "source": [
    "#for i,m in enumerate(cog1_rs['SYDID']):\n",
    " #   X=np.array(cog1_rs['time_diff'][(cog1_rs['SYDID']==m)])\n",
    " #   y=np.array(cog1_rs['MMSE result'][(cog1_rs['SYDID']==m)])\n",
    "    "
   ]
  },
  {
   "cell_type": "code",
   "execution_count": null,
   "metadata": {},
   "outputs": [],
   "source": [
    "def model(df, delta,val):\n",
    "    y = df[[val]].values\n",
    "    X = df[['date_diff']].values\n",
    "    return np.squeeze(LinearRegression().fit(X, y).predict(delta))\n",
    "\n",
    "def group_predictions(df, date):\n",
    "    date = pd.to_datetime(date)\n",
    "    df.date = pd.to_datetime(df.date)\n",
    "\n",
    "    day = np.timedelta64(1, 'D')\n",
    "    mn = df.date.min()\n",
    "    df['date_delta'] = df.date.sub(mn).div(day)\n",
    "\n",
    "    dd = (date - mn) / day\n",
    "\n",
    "    return df.groupby('group').apply(model, delta=dd)"
   ]
  },
  {
   "cell_type": "code",
   "execution_count": null,
   "metadata": {},
   "outputs": [],
   "source": [
    "'MMSE result'"
   ]
  },
  {
   "cell_type": "markdown",
   "metadata": {},
   "source": [
    "#### Derivation of key UDPRS variables"
   ]
  },
  {
   "cell_type": "code",
   "execution_count": 64,
   "metadata": {},
   "outputs": [
    {
     "name": "stderr",
     "output_type": "stream",
     "text": [
      "<ipython-input-64-ec9af83dddf1>:16: SettingWithCopyWarning: \n",
      "A value is trying to be set on a copy of a slice from a DataFrame.\n",
      "Try using .loc[row_indexer,col_indexer] = value instead\n",
      "\n",
      "See the caveats in the documentation: http://pandas.pydata.org/pandas-docs/stable/indexing.html#indexing-view-versus-copy\n",
      "  UDPRS2_rs2['Date of assessment']=pd.to_datetime(UDPRS2_rs2['Date of assessment'])\n",
      "<ipython-input-64-ec9af83dddf1>:21: SettingWithCopyWarning: \n",
      "A value is trying to be set on a copy of a slice from a DataFrame.\n",
      "Try using .loc[row_indexer,col_indexer] = value instead\n",
      "\n",
      "See the caveats in the documentation: http://pandas.pydata.org/pandas-docs/stable/indexing.html#indexing-view-versus-copy\n",
      "  UDPRS2_rs2['non_tremor']=UDPRS2_rs2[['28 Facial expression', '29 Rigidity Neck',\n",
      "<ipython-input-64-ec9af83dddf1>:30: SettingWithCopyWarning: \n",
      "A value is trying to be set on a copy of a slice from a DataFrame.\n",
      "Try using .loc[row_indexer,col_indexer] = value instead\n",
      "\n",
      "See the caveats in the documentation: http://pandas.pydata.org/pandas-docs/stable/indexing.html#indexing-view-versus-copy\n",
      "  UDPRS2_rs2['Tremor']=UDPRS2_rs2[['23 ADL Tremor','54 Rest tremorAmplitude Right Arm', '55 Rest tremorAmplitude Left Arm',\n",
      "<ipython-input-64-ec9af83dddf1>:35: SettingWithCopyWarning: \n",
      "A value is trying to be set on a copy of a slice from a DataFrame.\n",
      "Try using .loc[row_indexer,col_indexer] = value instead\n",
      "\n",
      "See the caveats in the documentation: http://pandas.pydata.org/pandas-docs/stable/indexing.html#indexing-view-versus-copy\n",
      "  UDPRS2_rs2['UDPRS_Tot']=UDPRS2_rs2[['Section I Total', 'Section II Total','Section III Total', 'Section IV Total']].sum(axis=1)\n"
     ]
    }
   ],
   "source": [
    "UDPRS2_rs2=UDPRS2_rs[['SYDID','Date of assessment','23 ADL Tremor',\n",
    "                                '28 Facial expression', '29 Rigidity Neck',\n",
    "       '30 Rigidity Right Arm', '31 Rigidity Left Arm',\n",
    "       '32 Rigidity Right Leg', '33 Rigidity Left Leg',\n",
    "       '34 Finger tapping Right', '35 Finger tapping Left',\n",
    "       '36 Hand Movements Right', '37 Hand Movements Left',\n",
    "       '38 Pronation supination Right', '39 Pronation supination Left',\n",
    "        '40 Toe tapping Right', '41 Toe tapping Left',\n",
    "       '42 Leg agility Right', '43 Leg agility Left', '44 Arising from chair','54 Rest tremorAmplitude Right Arm', '55 Rest tremorAmplitude Left Arm',\n",
    "       '56 Rest tremorAmplitude Right Leg', '57 Rest tremorAmplitude Left Leg',\n",
    "       '57a Rest Tremor Amplitude Jaw/Lip', '58 Constancy of Rest Tremor','Section I Total', 'Section II Total',\n",
    "       'Section III Total', 'Section IV Total']].dropna()\n",
    "\n",
    "\n",
    "UDPRS2_rs2=UDPRS2_rs[(UDPRS2_rs['Date of assessment']!=\"No data\")&pd.notnull(UDPRS2_rs['Date of assessment'])]\n",
    "UDPRS2_rs2['Date of assessment']=pd.to_datetime(UDPRS2_rs2['Date of assessment'])\n",
    "maxudprs=pd.DataFrame(UDPRS2_rs2.groupby('SYDID')['Date of assessment'].max()).reset_index()\n",
    "maxudprs.columns=['SYDID','Date of assessment']\n",
    "\n",
    "\n",
    "\n",
    "\n",
    "UDPRS2_rs2['UDPRS_Tot']=UDPRS2_rs2[['Section I Total', 'Section II Total','Section III Total', 'Section IV Total']].sum(axis=1)\n",
    "\n",
    "UDPRS2_rs2=UDPRS2_rs2[(UDPRS2_rs2['Date Diagnosed']!=\"Missing\")]\n",
    "UDPRS2_rs2['Date Diagnosed']=pd.to_datetime(UDPRS2_rs2['Date Diagnosed'])\n",
    "\n",
    "UDPRS2_rs2['Time Since Diagnosis']=(UDPRS2_rs2['Date of assessment']-UDPRS2_rs2['Date Diagnosed']).dt.days\n",
    "UDPRS2_rs2['Age_days']=(UDPRS2_rs2['Date of assessment']-UDPRS2_rs2['Birth_date']).dt.days\n",
    "UDPRS2_rs2['Age_diag_days']=(UDPRS2_rs2['Date Diagnosed']-UDPRS2_rs2['Birth_date']).dt.days\n",
    "UDPRS2_rs2['Age']=UDPRS2_rs2['Age_days']/365.25\n",
    "UDPRS2_rs2['Age_diag']=UDPRS2_rs2['Age_diag_days']/365.25\n",
    "\n",
    "UDPRS2_rs2['Progression_Score']=UDPRS2_rs2['UDPRS_Tot']/UDPRS2_rs2['Time Since Diagnosis']\n",
    "UDPRS2_rs2['Tremor_Score']=UDPRS2_rs2['Tremor']/UDPRS2_rs2['UDPRS_Tot']\n",
    "\n",
    "\n",
    "UDPRS2_rs3=pd.merge(UDPRS2_rs2,maxudprs,on=['SYDID','Date of assessment'],how='inner')\n"
   ]
  },
  {
   "cell_type": "code",
   "execution_count": 61,
   "metadata": {},
   "outputs": [],
   "source": [
    "#ax = sns.boxplot(x=\"Princ_Diag\", y=\"Age_diag\", data=UDPRS2_rs2, whis=np.inf)\n",
    "#ax = sns.swarmplot(x=\"Princ_Diag\", y=\"Age_diag\", data=UDPRS2_rs2, color=\".2\")\n",
    "#plt.show()"
   ]
  },
  {
   "cell_type": "markdown",
   "metadata": {},
   "source": [
    "#### Export datasets for Tableau Analysis"
   ]
  },
  {
   "cell_type": "code",
   "execution_count": 79,
   "metadata": {},
   "outputs": [],
   "source": [
    "exp_dfs=[UDPRS2_rs2,UDPRS2_rs3,UDPRS_rs,cog1_rs,PSYCHQ_rs,RBDQ_rs,BDI_rs,SCOPAS_rs,SCOPAPC_rs,ESS_rs,MOCA_rs,FOGQ_rs,Smell_rs]\n",
    "exp_dfs_name=[\"UDPRS2_rs2.csv\",\"UDPRS2_rs3.csv\",\"UDPRS_rs.csv\",\"cog1_rs.csv\",\"PSYCHQ_rs.csv\",\"RBDQ_rs.csv\",\"BDI_rs.csv\",\"SCOPAS_rs.csv\",\n",
    "             \"SCOPAPC_rs.csv\",\"ESS_rs.csv\",\"MOCA_rs.csv\",\"FOGQ_rs.csv\",\"Smell_rs.csv\"]\n",
    "for i,d in enumerate(exp_dfs):\n",
    "    d.to_csv('%s%s' % (loc,exp_dfs_name[i]))"
   ]
  },
  {
   "cell_type": "markdown",
   "metadata": {},
   "source": [
    "#### Clustering"
   ]
  },
  {
   "cell_type": "code",
   "execution_count": 38,
   "metadata": {},
   "outputs": [
    {
     "data": {
      "text/plain": [
       "array([[2.22192392e-02, 3.67968765e-02, 5.13975324e+01],\n",
       "       [5.65605519e-02, 5.59961871e-02, 6.81938144e+01]])"
      ]
     },
     "execution_count": 38,
     "metadata": {},
     "output_type": "execute_result"
    }
   ],
   "source": [
    "from sklearn.cluster import KMeans\n",
    "kmeans = KMeans(n_clusters=2, random_state=0).fit(UDPRS2_rs2[['Progression_Score','Tremor_Score','Age_diag']].dropna())\n",
    "kmeans.labels_\n",
    "\n",
    "#kmeans.predict([[0, 0], [12, 3]])\n",
    "\n",
    "kmeans.cluster_centers_\n"
   ]
  },
  {
   "cell_type": "code",
   "execution_count": 44,
   "metadata": {},
   "outputs": [
    {
     "data": {
      "text/plain": [
       "Index(['1 Cognitive impairment', '10 Urinary problems',\n",
       "       '11 Constipation problems', '12 Light headedness on standing',\n",
       "       '13 Fatigue', '14 ADL Speech', '15 ADL Saliva and drooling',\n",
       "       '16 ADL Chewing and swallowing', '17 ADL Eating tasks',\n",
       "       '18 ADL Dressing', '19 ADL Hygiene', '2 Hallucinations and Psychosis',\n",
       "       '20 ADL Handwriting', '21 ADL Hobbies', '22 ADL Turning in bed',\n",
       "       '23 ADL Tremor', '24 ADL Getting out of bed',\n",
       "       '25 ADL Walking and balance', '26 ADL Freezing', '27 Motor speech',\n",
       "       '28 Facial expression', '29 Rigidity Neck', '3 Depressed mood',\n",
       "       '30 Rigidity Right Arm', '31 Rigidity Left Arm',\n",
       "       '32 Rigidity Right Leg', '33 Rigidity Left Leg',\n",
       "       '34 Finger tapping Right', '35 Finger tapping Left',\n",
       "       '36 Hand Movements Right', '37 Hand Movements Left',\n",
       "       '38 Pronation supination Right', '39 Pronation supination Left',\n",
       "       '4 Anxious mood', '40 Toe tapping Right', '41 Toe tapping Left',\n",
       "       '42 Leg agility Right', '43 Leg agility Left', '44 Arising from chair',\n",
       "       '45 Gait', '46 Freezing of gait', '47 Postural stability', '48 Posture',\n",
       "       '49 Global spontaneity of movement', '5 Apathy',\n",
       "       '50 Postural tremor Right Arm', '51 Postural tremor Left Arm',\n",
       "       '52 Kinetic tremor Right Hand', '53 Kinetic tremor Left Hand',\n",
       "       '54 Rest tremorAmplitude Right Arm', '55 Rest tremorAmplitude Left Arm',\n",
       "       '56 Rest tremorAmplitude Right Leg', '57 Rest tremorAmplitude Left Leg',\n",
       "       '57a Rest Tremor Amplitude Jaw/Lip', '58 Constancy of Rest Tremor',\n",
       "       '6 Features of DDS', '7 Sleep problems', '8 Daytime sleepiness',\n",
       "       '9 Pain and other sensations', 'Clinical state', 'DDE',\n",
       "       'Date of assessment', 'Dyskinesias interfered with rating',\n",
       "       'Dyskinesias present', 'Filling in questionnaire',\n",
       "       'Functional impact of Dyskinesia', 'Functional impact of Fluctuations',\n",
       "       'Hoehn and Yahr', 'Minutes since last dose', 'On L-dopa',\n",
       "       'On medication', 'Painful Off Dystonias',\n",
       "       'Predictability of fluctuations', 'SYDID', 'Scwab and Eng (rater)',\n",
       "       'Scwab and Eng (subject)', 'Section I Total', 'Section II Total',\n",
       "       'Section III Total', 'Section IV Total', 'Source', 'Time spent in Off',\n",
       "       'Time spent with Dyskinesia', 'Timed hand tapping test-right', 'index',\n",
       "       'time_point', 'Gend', 'Birth_date', 'Princ_Diag', 'Date Diagnosed',\n",
       "       'non_tremor', 'Tremor', 'UDPRS_Tot', 'Time Since Diagnosis', 'Age_days',\n",
       "       'Age_diag_days', 'Age', 'Age_diag', 'Progression_Score',\n",
       "       'Tremor_Score'],\n",
       "      dtype='object')"
      ]
     },
     "execution_count": 44,
     "metadata": {},
     "output_type": "execute_result"
    }
   ],
   "source": [
    "UDPRS2_rs2.columns"
   ]
  },
  {
   "cell_type": "code",
   "execution_count": 45,
   "metadata": {},
   "outputs": [
    {
     "data": {
      "image/png": "[encoded data removed]",
      "text/plain": [
       "<Figure size 432x288 with 1 Axes>"
      ]
     },
     "metadata": {
      "needs_background": "light"
     },
     "output_type": "display_data"
    }
   ],
   "source": [
    "#3 Using the elbow method to find out the optimal number of #clusters. \n",
    "#KMeans class from the sklearn library.\n"
   ]
  },
  {
   "cell_type": "code",
   "execution_count": 46,
   "metadata": {},
   "outputs": [],
   "source": []
  },
  {
   "cell_type": "code",
   "execution_count": 47,
   "metadata": {},
   "outputs": [
    {
     "data": {
      "text/plain": [
       "0.5620166251901644"
      ]
     },
     "execution_count": 47,
     "metadata": {},
     "output_type": "execute_result"
    }
   ],
   "source": []
  },
  {
   "cell_type": "code",
   "execution_count": 90,
   "metadata": {},
   "outputs": [
    {
     "data": {
      "text/plain": [
       "<matplotlib.collections.PathCollection at 0x132d99f40>"
      ]
     },
     "execution_count": 90,
     "metadata": {},
     "output_type": "execute_result"
    },
    {
     "data": {
      "image/png": "[encoded data removed]",
      "text/plain": [
       "<Figure size 432x288 with 1 Axes>"
      ]
     },
     "metadata": {
      "needs_background": "light"
     },
     "output_type": "display_data"
    }
   ],
   "source": []
  },
  {
   "cell_type": "code",
   "execution_count": null,
   "metadata": {},
   "outputs": [],
   "source": [
    "#rate of disease progression\n",
    "['Section I Total', 'Section II Total',\n",
    "       'Section III Total', 'Section IV Total']"
   ]
  },
  {
   "cell_type": "code",
   "execution_count": 45,
   "metadata": {},
   "outputs": [
    {
     "data": {
      "text/html": [
       "<div>\n",
       "<style scoped>\n",
       "    .dataframe tbody tr th:only-of-type {\n",
       "        vertical-align: middle;\n",
       "    }\n",
       "\n",
       "    .dataframe tbody tr th {\n",
       "        vertical-align: top;\n",
       "    }\n",
       "\n",
       "    .dataframe thead th {\n",
       "        text-align: right;\n",
       "    }\n",
       "</style>\n",
       "<table border=\"1\" class=\"dataframe\">\n",
       "  <thead>\n",
       "    <tr style=\"text-align: right;\">\n",
       "      <th></th>\n",
       "      <th>SYDID</th>\n",
       "      <th>Date/time</th>\n",
       "      <th>MoCA Total</th>\n",
       "    </tr>\n",
       "  </thead>\n",
       "  <tbody>\n",
       "    <tr>\n",
       "      <th>251</th>\n",
       "      <td>PD_00001_DA</td>\n",
       "      <td>2014-06-17 00:00:00</td>\n",
       "      <td>24.0</td>\n",
       "    </tr>\n",
       "    <tr>\n",
       "      <th>502</th>\n",
       "      <td>PD_00001_DA</td>\n",
       "      <td>2015-08-26 00:00:00</td>\n",
       "      <td>20.0</td>\n",
       "    </tr>\n",
       "    <tr>\n",
       "      <th>753</th>\n",
       "      <td>PD_00001_DA</td>\n",
       "      <td>2017-01-16 00:00:00</td>\n",
       "      <td>27.0</td>\n",
       "    </tr>\n",
       "    <tr>\n",
       "      <th>1004</th>\n",
       "      <td>PD_00001_DA</td>\n",
       "      <td>2018-10-17 00:00:00</td>\n",
       "      <td>18.0</td>\n",
       "    </tr>\n",
       "    <tr>\n",
       "      <th>1255</th>\n",
       "      <td>PD_00001_DA</td>\n",
       "      <td>2019-07-10 00:00:00</td>\n",
       "      <td>26.0</td>\n",
       "    </tr>\n",
       "  </tbody>\n",
       "</table>\n",
       "</div>"
      ],
      "text/plain": [
       "            SYDID            Date/time  MoCA Total\n",
       "251   PD_00001_DA  2014-06-17 00:00:00        24.0\n",
       "502   PD_00001_DA  2015-08-26 00:00:00        20.0\n",
       "753   PD_00001_DA  2017-01-16 00:00:00        27.0\n",
       "1004  PD_00001_DA  2018-10-17 00:00:00        18.0\n",
       "1255  PD_00001_DA  2019-07-10 00:00:00        26.0"
      ]
     },
     "execution_count": 45,
     "metadata": {},
     "output_type": "execute_result"
    }
   ],
   "source": [
    "MOCA_rs[['SYDID','Date/time','MoCA Total']][pd.notnull(MOCA_rs['SYDID'])&pd.notnull(MOCA_rs['Date/time'])].sort_values(by=['SYDID','Date/time']).head(5)"
   ]
  },
  {
   "cell_type": "code",
   "execution_count": 47,
   "metadata": {},
   "outputs": [
    {
     "data": {
      "text/html": [
       "<div>\n",
       "<style scoped>\n",
       "    .dataframe tbody tr th:only-of-type {\n",
       "        vertical-align: middle;\n",
       "    }\n",
       "\n",
       "    .dataframe tbody tr th {\n",
       "        vertical-align: top;\n",
       "    }\n",
       "\n",
       "    .dataframe thead th {\n",
       "        text-align: right;\n",
       "    }\n",
       "</style>\n",
       "<table border=\"1\" class=\"dataframe\">\n",
       "  <thead>\n",
       "    <tr style=\"text-align: right;\">\n",
       "      <th></th>\n",
       "      <th>SYDID</th>\n",
       "      <th>Date FOGQ</th>\n",
       "      <th>FOGQ Total</th>\n",
       "    </tr>\n",
       "  </thead>\n",
       "  <tbody>\n",
       "    <tr>\n",
       "      <th>251</th>\n",
       "      <td>PD_00001_DA</td>\n",
       "      <td>2010-02-16 00:00:00</td>\n",
       "      <td>3.0</td>\n",
       "    </tr>\n",
       "    <tr>\n",
       "      <th>502</th>\n",
       "      <td>PD_00001_DA</td>\n",
       "      <td>2015-08-26 00:00:00</td>\n",
       "      <td>2.0</td>\n",
       "    </tr>\n",
       "    <tr>\n",
       "      <th>753</th>\n",
       "      <td>PD_00001_DA</td>\n",
       "      <td>2017-05-01 00:00:00</td>\n",
       "      <td>2.0</td>\n",
       "    </tr>\n",
       "    <tr>\n",
       "      <th>252</th>\n",
       "      <td>PD_00002_MW</td>\n",
       "      <td>2010-03-23 00:00:00</td>\n",
       "      <td>0.0</td>\n",
       "    </tr>\n",
       "    <tr>\n",
       "      <th>1005</th>\n",
       "      <td>PD_00002_MW</td>\n",
       "      <td>2011-10-25 00:00:00</td>\n",
       "      <td>12.0</td>\n",
       "    </tr>\n",
       "  </tbody>\n",
       "</table>\n",
       "</div>"
      ],
      "text/plain": [
       "            SYDID            Date FOGQ  FOGQ Total\n",
       "251   PD_00001_DA  2010-02-16 00:00:00         3.0\n",
       "502   PD_00001_DA  2015-08-26 00:00:00         2.0\n",
       "753   PD_00001_DA  2017-05-01 00:00:00         2.0\n",
       "252   PD_00002_MW  2010-03-23 00:00:00         0.0\n",
       "1005  PD_00002_MW  2011-10-25 00:00:00        12.0"
      ]
     },
     "execution_count": 47,
     "metadata": {},
     "output_type": "execute_result"
    }
   ],
   "source": [
    "FOGQ_rs[['SYDID','Date FOGQ','FOGQ Total']][pd.notnull(FOGQ_rs['SYDID'])&pd.notnull(FOGQ_rs['Date FOGQ'])].sort_values(by=['SYDID','Date FOGQ']).head(5)"
   ]
  },
  {
   "cell_type": "code",
   "execution_count": 41,
   "metadata": {},
   "outputs": [
    {
     "data": {
      "text/html": [
       "<div>\n",
       "<style scoped>\n",
       "    .dataframe tbody tr th:only-of-type {\n",
       "        vertical-align: middle;\n",
       "    }\n",
       "\n",
       "    .dataframe tbody tr th {\n",
       "        vertical-align: top;\n",
       "    }\n",
       "\n",
       "    .dataframe thead th {\n",
       "        text-align: right;\n",
       "    }\n",
       "</style>\n",
       "<table border=\"1\" class=\"dataframe\">\n",
       "  <thead>\n",
       "    <tr style=\"text-align: right;\">\n",
       "      <th></th>\n",
       "      <th>SYDID</th>\n",
       "      <th>Date/time</th>\n",
       "    </tr>\n",
       "  </thead>\n",
       "  <tbody>\n",
       "    <tr>\n",
       "      <th>753</th>\n",
       "      <td>PD_00001_DA</td>\n",
       "      <td>2013-05-28</td>\n",
       "    </tr>\n",
       "    <tr>\n",
       "      <th>251</th>\n",
       "      <td>PD_00001_DA</td>\n",
       "      <td>2014-06-17</td>\n",
       "    </tr>\n",
       "    <tr>\n",
       "      <th>1004</th>\n",
       "      <td>PD_00001_DA</td>\n",
       "      <td>2015-08-26</td>\n",
       "    </tr>\n",
       "    <tr>\n",
       "      <th>502</th>\n",
       "      <td>PD_00001_DA</td>\n",
       "      <td>2017-01-16</td>\n",
       "    </tr>\n",
       "    <tr>\n",
       "      <th>1255</th>\n",
       "      <td>PD_00001_DA</td>\n",
       "      <td>2018-10-17</td>\n",
       "    </tr>\n",
       "    <tr>\n",
       "      <th>252</th>\n",
       "      <td>PD_00002_MW</td>\n",
       "      <td>2012-10-16</td>\n",
       "    </tr>\n",
       "    <tr>\n",
       "      <th>253</th>\n",
       "      <td>PD_00004_AW</td>\n",
       "      <td>2012-02-21</td>\n",
       "    </tr>\n",
       "    <tr>\n",
       "      <th>1006</th>\n",
       "      <td>PD_00004_AW</td>\n",
       "      <td>2013-02-12</td>\n",
       "    </tr>\n",
       "    <tr>\n",
       "      <th>755</th>\n",
       "      <td>PD_00004_AW</td>\n",
       "      <td>2015-09-14</td>\n",
       "    </tr>\n",
       "    <tr>\n",
       "      <th>504</th>\n",
       "      <td>PD_00004_AW</td>\n",
       "      <td>2017-04-03</td>\n",
       "    </tr>\n",
       "    <tr>\n",
       "      <th>505</th>\n",
       "      <td>PD_00008_BM</td>\n",
       "      <td>2012-05-29</td>\n",
       "    </tr>\n",
       "    <tr>\n",
       "      <th>1007</th>\n",
       "      <td>PD_00008_BM</td>\n",
       "      <td>2014-11-03</td>\n",
       "    </tr>\n",
       "    <tr>\n",
       "      <th>756</th>\n",
       "      <td>PD_00008_BM</td>\n",
       "      <td>2016-02-08</td>\n",
       "    </tr>\n",
       "    <tr>\n",
       "      <th>254</th>\n",
       "      <td>PD_00008_BM</td>\n",
       "      <td>2017-07-10</td>\n",
       "    </tr>\n",
       "    <tr>\n",
       "      <th>1258</th>\n",
       "      <td>PD_00008_BM</td>\n",
       "      <td>2018-07-18</td>\n",
       "    </tr>\n",
       "    <tr>\n",
       "      <th>258</th>\n",
       "      <td>PD_00013_TO</td>\n",
       "      <td>2013-05-14</td>\n",
       "    </tr>\n",
       "    <tr>\n",
       "      <th>509</th>\n",
       "      <td>PD_00013_TO</td>\n",
       "      <td>2018-07-04</td>\n",
       "    </tr>\n",
       "    <tr>\n",
       "      <th>261</th>\n",
       "      <td>PD_00017_RE</td>\n",
       "      <td>2012-08-21</td>\n",
       "    </tr>\n",
       "    <tr>\n",
       "      <th>512</th>\n",
       "      <td>PD_00017_RE</td>\n",
       "      <td>2016-05-09</td>\n",
       "    </tr>\n",
       "    <tr>\n",
       "      <th>763</th>\n",
       "      <td>PD_00017_RE</td>\n",
       "      <td>2017-03-13</td>\n",
       "    </tr>\n",
       "    <tr>\n",
       "      <th>1017</th>\n",
       "      <td>PD_00022_SB</td>\n",
       "      <td>2011-07-19</td>\n",
       "    </tr>\n",
       "    <tr>\n",
       "      <th>515</th>\n",
       "      <td>PD_00022_SB</td>\n",
       "      <td>2012-08-07</td>\n",
       "    </tr>\n",
       "    <tr>\n",
       "      <th>264</th>\n",
       "      <td>PD_00022_SB</td>\n",
       "      <td>2016-07-18</td>\n",
       "    </tr>\n",
       "    <tr>\n",
       "      <th>766</th>\n",
       "      <td>PD_00022_SB</td>\n",
       "      <td>2017-07-24</td>\n",
       "    </tr>\n",
       "    <tr>\n",
       "      <th>1270</th>\n",
       "      <td>PD_00025_SM</td>\n",
       "      <td>2012-02-07</td>\n",
       "    </tr>\n",
       "    <tr>\n",
       "      <th>768</th>\n",
       "      <td>PD_00025_SM</td>\n",
       "      <td>2013-02-05</td>\n",
       "    </tr>\n",
       "    <tr>\n",
       "      <th>1019</th>\n",
       "      <td>PD_00025_SM</td>\n",
       "      <td>2014-02-11</td>\n",
       "    </tr>\n",
       "    <tr>\n",
       "      <th>517</th>\n",
       "      <td>PD_00025_SM</td>\n",
       "      <td>2015-01-19</td>\n",
       "    </tr>\n",
       "    <tr>\n",
       "      <th>266</th>\n",
       "      <td>PD_00025_SM</td>\n",
       "      <td>2016-01-11</td>\n",
       "    </tr>\n",
       "    <tr>\n",
       "      <th>1521</th>\n",
       "      <td>PD_00025_SM</td>\n",
       "      <td>2016-01-11</td>\n",
       "    </tr>\n",
       "    <tr>\n",
       "      <th>...</th>\n",
       "      <td>...</td>\n",
       "      <td>...</td>\n",
       "    </tr>\n",
       "    <tr>\n",
       "      <th>1224</th>\n",
       "      <td>PD_00469_LB</td>\n",
       "      <td>2017-01-23</td>\n",
       "    </tr>\n",
       "    <tr>\n",
       "      <th>1475</th>\n",
       "      <td>PD_00469_LB</td>\n",
       "      <td>2018-02-28</td>\n",
       "    </tr>\n",
       "    <tr>\n",
       "      <th>473</th>\n",
       "      <td>PD_00473_DP</td>\n",
       "      <td>2012-03-06</td>\n",
       "    </tr>\n",
       "    <tr>\n",
       "      <th>724</th>\n",
       "      <td>PD_00473_DP</td>\n",
       "      <td>2014-07-28</td>\n",
       "    </tr>\n",
       "    <tr>\n",
       "      <th>476</th>\n",
       "      <td>PD_00482_OG</td>\n",
       "      <td>2013-04-23</td>\n",
       "    </tr>\n",
       "    <tr>\n",
       "      <th>729</th>\n",
       "      <td>PD_00486_AH</td>\n",
       "      <td>2014-03-11</td>\n",
       "    </tr>\n",
       "    <tr>\n",
       "      <th>478</th>\n",
       "      <td>PD_00486_AH</td>\n",
       "      <td>2015-02-23</td>\n",
       "    </tr>\n",
       "    <tr>\n",
       "      <th>983</th>\n",
       "      <td>PD_00494_RG</td>\n",
       "      <td>2012-03-06</td>\n",
       "    </tr>\n",
       "    <tr>\n",
       "      <th>732</th>\n",
       "      <td>PD_00494_RG</td>\n",
       "      <td>2013-03-05</td>\n",
       "    </tr>\n",
       "    <tr>\n",
       "      <th>481</th>\n",
       "      <td>PD_00494_RG</td>\n",
       "      <td>2016-05-09</td>\n",
       "    </tr>\n",
       "    <tr>\n",
       "      <th>733</th>\n",
       "      <td>PD_00496_JB</td>\n",
       "      <td>2016-02-22</td>\n",
       "    </tr>\n",
       "    <tr>\n",
       "      <th>482</th>\n",
       "      <td>PD_00496_JB</td>\n",
       "      <td>2017-02-27</td>\n",
       "    </tr>\n",
       "    <tr>\n",
       "      <th>483</th>\n",
       "      <td>PD_00500_RS</td>\n",
       "      <td>2012-04-24</td>\n",
       "    </tr>\n",
       "    <tr>\n",
       "      <th>484</th>\n",
       "      <td>PD_00502_DN</td>\n",
       "      <td>2013-06-04</td>\n",
       "    </tr>\n",
       "    <tr>\n",
       "      <th>735</th>\n",
       "      <td>PD_00502_DN</td>\n",
       "      <td>2014-06-17</td>\n",
       "    </tr>\n",
       "    <tr>\n",
       "      <th>486</th>\n",
       "      <td>PD_00513_RE</td>\n",
       "      <td>2014-04-15</td>\n",
       "    </tr>\n",
       "    <tr>\n",
       "      <th>738</th>\n",
       "      <td>PD_00518_JB</td>\n",
       "      <td>2012-07-10</td>\n",
       "    </tr>\n",
       "    <tr>\n",
       "      <th>989</th>\n",
       "      <td>PD_00518_JB</td>\n",
       "      <td>2013-07-02</td>\n",
       "    </tr>\n",
       "    <tr>\n",
       "      <th>487</th>\n",
       "      <td>PD_00518_JB</td>\n",
       "      <td>2014-10-13</td>\n",
       "    </tr>\n",
       "    <tr>\n",
       "      <th>740</th>\n",
       "      <td>PD_00527_MS</td>\n",
       "      <td>2012-11-13</td>\n",
       "    </tr>\n",
       "    <tr>\n",
       "      <th>489</th>\n",
       "      <td>PD_00527_MS</td>\n",
       "      <td>2015-08-10</td>\n",
       "    </tr>\n",
       "    <tr>\n",
       "      <th>490</th>\n",
       "      <td>PD_00534_SE</td>\n",
       "      <td>2013-10-01</td>\n",
       "    </tr>\n",
       "    <tr>\n",
       "      <th>491</th>\n",
       "      <td>PD_00538_HF</td>\n",
       "      <td>2012-09-25</td>\n",
       "    </tr>\n",
       "    <tr>\n",
       "      <th>742</th>\n",
       "      <td>PD_00538_HF</td>\n",
       "      <td>2017-10-16</td>\n",
       "    </tr>\n",
       "    <tr>\n",
       "      <th>492</th>\n",
       "      <td>PD_00539_MR</td>\n",
       "      <td>2015-02-02</td>\n",
       "    </tr>\n",
       "    <tr>\n",
       "      <th>493</th>\n",
       "      <td>PD_00541_PB</td>\n",
       "      <td>2017-04-24</td>\n",
       "    </tr>\n",
       "    <tr>\n",
       "      <th>494</th>\n",
       "      <td>PD_00544_JC</td>\n",
       "      <td>2014-07-14</td>\n",
       "    </tr>\n",
       "    <tr>\n",
       "      <th>496</th>\n",
       "      <td>PD_00553_KM</td>\n",
       "      <td>2012-10-16</td>\n",
       "    </tr>\n",
       "    <tr>\n",
       "      <th>497</th>\n",
       "      <td>PD_00555_PH</td>\n",
       "      <td>2016-05-30</td>\n",
       "    </tr>\n",
       "    <tr>\n",
       "      <th>500</th>\n",
       "      <td>PD_00568_MB</td>\n",
       "      <td>2017-09-27</td>\n",
       "    </tr>\n",
       "  </tbody>\n",
       "</table>\n",
       "<p>263 rows × 2 columns</p>\n",
       "</div>"
      ],
      "text/plain": [
       "            SYDID  Date/time\n",
       "753   PD_00001_DA 2013-05-28\n",
       "251   PD_00001_DA 2014-06-17\n",
       "1004  PD_00001_DA 2015-08-26\n",
       "502   PD_00001_DA 2017-01-16\n",
       "1255  PD_00001_DA 2018-10-17\n",
       "252   PD_00002_MW 2012-10-16\n",
       "253   PD_00004_AW 2012-02-21\n",
       "1006  PD_00004_AW 2013-02-12\n",
       "755   PD_00004_AW 2015-09-14\n",
       "504   PD_00004_AW 2017-04-03\n",
       "505   PD_00008_BM 2012-05-29\n",
       "1007  PD_00008_BM 2014-11-03\n",
       "756   PD_00008_BM 2016-02-08\n",
       "254   PD_00008_BM 2017-07-10\n",
       "1258  PD_00008_BM 2018-07-18\n",
       "258   PD_00013_TO 2013-05-14\n",
       "509   PD_00013_TO 2018-07-04\n",
       "261   PD_00017_RE 2012-08-21\n",
       "512   PD_00017_RE 2016-05-09\n",
       "763   PD_00017_RE 2017-03-13\n",
       "1017  PD_00022_SB 2011-07-19\n",
       "515   PD_00022_SB 2012-08-07\n",
       "264   PD_00022_SB 2016-07-18\n",
       "766   PD_00022_SB 2017-07-24\n",
       "1270  PD_00025_SM 2012-02-07\n",
       "768   PD_00025_SM 2013-02-05\n",
       "1019  PD_00025_SM 2014-02-11\n",
       "517   PD_00025_SM 2015-01-19\n",
       "266   PD_00025_SM 2016-01-11\n",
       "1521  PD_00025_SM 2016-01-11\n",
       "...           ...        ...\n",
       "1224  PD_00469_LB 2017-01-23\n",
       "1475  PD_00469_LB 2018-02-28\n",
       "473   PD_00473_DP 2012-03-06\n",
       "724   PD_00473_DP 2014-07-28\n",
       "476   PD_00482_OG 2013-04-23\n",
       "729   PD_00486_AH 2014-03-11\n",
       "478   PD_00486_AH 2015-02-23\n",
       "983   PD_00494_RG 2012-03-06\n",
       "732   PD_00494_RG 2013-03-05\n",
       "481   PD_00494_RG 2016-05-09\n",
       "733   PD_00496_JB 2016-02-22\n",
       "482   PD_00496_JB 2017-02-27\n",
       "483   PD_00500_RS 2012-04-24\n",
       "484   PD_00502_DN 2013-06-04\n",
       "735   PD_00502_DN 2014-06-17\n",
       "486   PD_00513_RE 2014-04-15\n",
       "738   PD_00518_JB 2012-07-10\n",
       "989   PD_00518_JB 2013-07-02\n",
       "487   PD_00518_JB 2014-10-13\n",
       "740   PD_00527_MS 2012-11-13\n",
       "489   PD_00527_MS 2015-08-10\n",
       "490   PD_00534_SE 2013-10-01\n",
       "491   PD_00538_HF 2012-09-25\n",
       "742   PD_00538_HF 2017-10-16\n",
       "492   PD_00539_MR 2015-02-02\n",
       "493   PD_00541_PB 2017-04-24\n",
       "494   PD_00544_JC 2014-07-14\n",
       "496   PD_00553_KM 2012-10-16\n",
       "497   PD_00555_PH 2016-05-30\n",
       "500   PD_00568_MB 2017-09-27\n",
       "\n",
       "[263 rows x 2 columns]"
      ]
     },
     "execution_count": 41,
     "metadata": {},
     "output_type": "execute_result"
    }
   ],
   "source": [
    "Smell_rs[['SYDID','Date/time']][pd.notnull(Smell_rs['SYDID'])&pd.notnull(Smell_rs['Date/time'])].sort_values(by=['SYDID','Date/time'])"
   ]
  },
  {
   "cell_type": "code",
   "execution_count": 13,
   "metadata": {},
   "outputs": [
    {
     "name": "stderr",
     "output_type": "stream",
     "text": [
      "<ipython-input-4-758f679da655>:7: SettingWithCopyWarning: \n",
      "A value is trying to be set on a copy of a slice from a DataFrame\n",
      "\n",
      "See the caveats in the documentation: http://pandas.pydata.org/pandas-docs/stable/indexing.html#indexing-view-versus-copy\n",
      "  df['Time_since_Diag'][cond]=\\\n"
     ]
    }
   ],
   "source": [
    "UDPRS_rs2=dt_check(UDPRS_rs,'Date/time',['index', 'Date/time', 'DDE', 'On/Off', '1', '2', '3', '4', '5', '6',\n",
    "       '7', '8', '9', '10', '11', '12', '13', '14', '15', '16', '17', '18',\n",
    "       '19', '20', '21', '22', '23', '24', '25', '26', '27', '28', '29', '30',\n",
    "       '31', '32', '33', '34', '35', '36', '37', '38', '39', '40', '41', '42',\n",
    "       '43', '44', 'Scwab and Eng (subject)', 'Scwab and Eng (rater)',\n",
    "       'Hoehn and Yahr', 'UPDRS-III total', 'SYDID', 'time_point', 'Gend',\n",
    "       'Birth_date', 'Princ_Diag', 'Date Diagnosed'])"
   ]
  },
  {
   "cell_type": "code",
   "execution_count": 19,
   "metadata": {},
   "outputs": [
    {
     "ename": "KeyError",
     "evalue": "\"['Time_since_Diag', 'UPDRS-III total'] not in index\"",
     "output_type": "error",
     "traceback": [
      "\u001b[0;31m---------------------------------------------------------------------------\u001b[0m",
      "\u001b[0;31mKeyError\u001b[0m                                  Traceback (most recent call last)",
      "\u001b[0;32m<ipython-input-19-3262642ec872>\u001b[0m in \u001b[0;36m<module>\u001b[0;34m\u001b[0m\n\u001b[0;32m----> 1\u001b[0;31m \u001b[0mUDPRS2_rs\u001b[0m\u001b[0;34m[\u001b[0m\u001b[0;34m[\u001b[0m\u001b[0;34m\"SYDID\"\u001b[0m\u001b[0;34m,\u001b[0m\u001b[0;34m'Time_since_Diag'\u001b[0m\u001b[0;34m,\u001b[0m\u001b[0;34m\"UPDRS-III total\"\u001b[0m\u001b[0;34m]\u001b[0m\u001b[0;34m]\u001b[0m\u001b[0;34m\u001b[0m\u001b[0;34m\u001b[0m\u001b[0m\n\u001b[0m",
      "\u001b[0;32m/opt/anaconda3/lib/python3.8/site-packages/pandas/core/frame.py\u001b[0m in \u001b[0;36m__getitem__\u001b[0;34m(self, key)\u001b[0m\n\u001b[1;32m   2931\u001b[0m             \u001b[0;32mif\u001b[0m \u001b[0mis_iterator\u001b[0m\u001b[0;34m(\u001b[0m\u001b[0mkey\u001b[0m\u001b[0;34m)\u001b[0m\u001b[0;34m:\u001b[0m\u001b[0;34m\u001b[0m\u001b[0;34m\u001b[0m\u001b[0m\n\u001b[1;32m   2932\u001b[0m                 \u001b[0mkey\u001b[0m \u001b[0;34m=\u001b[0m \u001b[0mlist\u001b[0m\u001b[0;34m(\u001b[0m\u001b[0mkey\u001b[0m\u001b[0;34m)\u001b[0m\u001b[0;34m\u001b[0m\u001b[0;34m\u001b[0m\u001b[0m\n\u001b[0;32m-> 2933\u001b[0;31m             indexer = self.loc._convert_to_indexer(key, axis=1,\n\u001b[0m\u001b[1;32m   2934\u001b[0m                                                    raise_missing=True)\n\u001b[1;32m   2935\u001b[0m \u001b[0;34m\u001b[0m\u001b[0m\n",
      "\u001b[0;32m/opt/anaconda3/lib/python3.8/site-packages/pandas/core/indexing.py\u001b[0m in \u001b[0;36m_convert_to_indexer\u001b[0;34m(self, obj, axis, is_setter, raise_missing)\u001b[0m\n\u001b[1;32m   1352\u001b[0m                 kwargs = {'raise_missing': True if is_setter else\n\u001b[1;32m   1353\u001b[0m                           raise_missing}\n\u001b[0;32m-> 1354\u001b[0;31m                 \u001b[0;32mreturn\u001b[0m \u001b[0mself\u001b[0m\u001b[0;34m.\u001b[0m\u001b[0m_get_listlike_indexer\u001b[0m\u001b[0;34m(\u001b[0m\u001b[0mobj\u001b[0m\u001b[0;34m,\u001b[0m \u001b[0maxis\u001b[0m\u001b[0;34m,\u001b[0m \u001b[0;34m**\u001b[0m\u001b[0mkwargs\u001b[0m\u001b[0;34m)\u001b[0m\u001b[0;34m[\u001b[0m\u001b[0;36m1\u001b[0m\u001b[0;34m]\u001b[0m\u001b[0;34m\u001b[0m\u001b[0;34m\u001b[0m\u001b[0m\n\u001b[0m\u001b[1;32m   1355\u001b[0m         \u001b[0;32melse\u001b[0m\u001b[0;34m:\u001b[0m\u001b[0;34m\u001b[0m\u001b[0;34m\u001b[0m\u001b[0m\n\u001b[1;32m   1356\u001b[0m             \u001b[0;32mtry\u001b[0m\u001b[0;34m:\u001b[0m\u001b[0;34m\u001b[0m\u001b[0;34m\u001b[0m\u001b[0m\n",
      "\u001b[0;32m/opt/anaconda3/lib/python3.8/site-packages/pandas/core/indexing.py\u001b[0m in \u001b[0;36m_get_listlike_indexer\u001b[0;34m(self, key, axis, raise_missing)\u001b[0m\n\u001b[1;32m   1157\u001b[0m             \u001b[0mkeyarr\u001b[0m\u001b[0;34m,\u001b[0m \u001b[0mindexer\u001b[0m\u001b[0;34m,\u001b[0m \u001b[0mnew_indexer\u001b[0m \u001b[0;34m=\u001b[0m \u001b[0max\u001b[0m\u001b[0;34m.\u001b[0m\u001b[0m_reindex_non_unique\u001b[0m\u001b[0;34m(\u001b[0m\u001b[0mkeyarr\u001b[0m\u001b[0;34m)\u001b[0m\u001b[0;34m\u001b[0m\u001b[0;34m\u001b[0m\u001b[0m\n\u001b[1;32m   1158\u001b[0m \u001b[0;34m\u001b[0m\u001b[0m\n\u001b[0;32m-> 1159\u001b[0;31m         self._validate_read_indexer(keyarr, indexer,\n\u001b[0m\u001b[1;32m   1160\u001b[0m                                     \u001b[0mo\u001b[0m\u001b[0;34m.\u001b[0m\u001b[0m_get_axis_number\u001b[0m\u001b[0;34m(\u001b[0m\u001b[0maxis\u001b[0m\u001b[0;34m)\u001b[0m\u001b[0;34m,\u001b[0m\u001b[0;34m\u001b[0m\u001b[0;34m\u001b[0m\u001b[0m\n\u001b[1;32m   1161\u001b[0m                                     raise_missing=raise_missing)\n",
      "\u001b[0;32m/opt/anaconda3/lib/python3.8/site-packages/pandas/core/indexing.py\u001b[0m in \u001b[0;36m_validate_read_indexer\u001b[0;34m(self, key, indexer, axis, raise_missing)\u001b[0m\n\u001b[1;32m   1250\u001b[0m             \u001b[0;32mif\u001b[0m \u001b[0;32mnot\u001b[0m\u001b[0;34m(\u001b[0m\u001b[0mself\u001b[0m\u001b[0;34m.\u001b[0m\u001b[0mname\u001b[0m \u001b[0;34m==\u001b[0m \u001b[0;34m'loc'\u001b[0m \u001b[0;32mand\u001b[0m \u001b[0;32mnot\u001b[0m \u001b[0mraise_missing\u001b[0m\u001b[0;34m)\u001b[0m\u001b[0;34m:\u001b[0m\u001b[0;34m\u001b[0m\u001b[0;34m\u001b[0m\u001b[0m\n\u001b[1;32m   1251\u001b[0m                 \u001b[0mnot_found\u001b[0m \u001b[0;34m=\u001b[0m \u001b[0mlist\u001b[0m\u001b[0;34m(\u001b[0m\u001b[0mset\u001b[0m\u001b[0;34m(\u001b[0m\u001b[0mkey\u001b[0m\u001b[0;34m)\u001b[0m \u001b[0;34m-\u001b[0m \u001b[0mset\u001b[0m\u001b[0;34m(\u001b[0m\u001b[0max\u001b[0m\u001b[0;34m)\u001b[0m\u001b[0;34m)\u001b[0m\u001b[0;34m\u001b[0m\u001b[0;34m\u001b[0m\u001b[0m\n\u001b[0;32m-> 1252\u001b[0;31m                 \u001b[0;32mraise\u001b[0m \u001b[0mKeyError\u001b[0m\u001b[0;34m(\u001b[0m\u001b[0;34m\"{} not in index\"\u001b[0m\u001b[0;34m.\u001b[0m\u001b[0mformat\u001b[0m\u001b[0;34m(\u001b[0m\u001b[0mnot_found\u001b[0m\u001b[0;34m)\u001b[0m\u001b[0;34m)\u001b[0m\u001b[0;34m\u001b[0m\u001b[0;34m\u001b[0m\u001b[0m\n\u001b[0m\u001b[1;32m   1253\u001b[0m \u001b[0;34m\u001b[0m\u001b[0m\n\u001b[1;32m   1254\u001b[0m             \u001b[0;31m# we skip the warning on Categorical/Interval\u001b[0m\u001b[0;34m\u001b[0m\u001b[0;34m\u001b[0m\u001b[0;34m\u001b[0m\u001b[0m\n",
      "\u001b[0;31mKeyError\u001b[0m: \"['Time_since_Diag', 'UPDRS-III total'] not in index\""
     ]
    }
   ],
   "source": [
    "UDPRS2_rs[[\"SYDID\",'Time_since_Diag',\"UPDRS-III total\"]]"
   ]
  },
  {
   "cell_type": "code",
   "execution_count": 18,
   "metadata": {},
   "outputs": [
    {
     "ename": "ValueError",
     "evalue": "Could not interpret input 'Time_since_Diag'",
     "output_type": "error",
     "traceback": [
      "\u001b[0;31m---------------------------------------------------------------------------\u001b[0m",
      "\u001b[0;31mValueError\u001b[0m                                Traceback (most recent call last)",
      "\u001b[0;32m<ipython-input-18-26cd3acbd231>\u001b[0m in \u001b[0;36m<module>\u001b[0;34m\u001b[0m\n\u001b[1;32m      1\u001b[0m \u001b[0;31m#sns.lineplot(data=UDPRS2_rs2[(UDPRS2_rs2['Time_since_Diag']<1000)], x=\"Time_since_Diag\", y='Section III Total', hue=\"SYDID\")\u001b[0m\u001b[0;34m\u001b[0m\u001b[0;34m\u001b[0m\u001b[0;34m\u001b[0m\u001b[0m\n\u001b[0;32m----> 2\u001b[0;31m \u001b[0msns\u001b[0m\u001b[0;34m.\u001b[0m\u001b[0mscatterplot\u001b[0m\u001b[0;34m(\u001b[0m\u001b[0mdata\u001b[0m\u001b[0;34m=\u001b[0m\u001b[0mUDPRS2_rs\u001b[0m\u001b[0;34m[\u001b[0m\u001b[0;34m(\u001b[0m\u001b[0mUDPRS2_rs\u001b[0m\u001b[0;34m[\u001b[0m\u001b[0;34m\"Section III Total\"\u001b[0m\u001b[0;34m]\u001b[0m\u001b[0;34m<\u001b[0m\u001b[0;36m50\u001b[0m\u001b[0;34m)\u001b[0m\u001b[0;34m]\u001b[0m\u001b[0;34m,\u001b[0m \u001b[0mx\u001b[0m\u001b[0;34m=\u001b[0m\u001b[0;34m\"Time_since_Diag\"\u001b[0m\u001b[0;34m,\u001b[0m \u001b[0my\u001b[0m\u001b[0;34m=\u001b[0m\u001b[0;34m\"Section III Total\"\u001b[0m\u001b[0;34m)\u001b[0m\u001b[0;34m\u001b[0m\u001b[0;34m\u001b[0m\u001b[0m\n\u001b[0m",
      "\u001b[0;32m/opt/anaconda3/lib/python3.8/site-packages/seaborn/relational.py\u001b[0m in \u001b[0;36mscatterplot\u001b[0;34m(x, y, hue, style, size, data, palette, hue_order, hue_norm, sizes, size_order, size_norm, markers, style_order, x_bins, y_bins, units, estimator, ci, n_boot, alpha, x_jitter, y_jitter, legend, ax, **kwargs)\u001b[0m\n\u001b[1;32m   1388\u001b[0m                 legend=\"brief\", ax=None, **kwargs):\n\u001b[1;32m   1389\u001b[0m \u001b[0;34m\u001b[0m\u001b[0m\n\u001b[0;32m-> 1390\u001b[0;31m     p = _ScatterPlotter(\n\u001b[0m\u001b[1;32m   1391\u001b[0m         \u001b[0mx\u001b[0m\u001b[0;34m=\u001b[0m\u001b[0mx\u001b[0m\u001b[0;34m,\u001b[0m \u001b[0my\u001b[0m\u001b[0;34m=\u001b[0m\u001b[0my\u001b[0m\u001b[0;34m,\u001b[0m \u001b[0mhue\u001b[0m\u001b[0;34m=\u001b[0m\u001b[0mhue\u001b[0m\u001b[0;34m,\u001b[0m \u001b[0mstyle\u001b[0m\u001b[0;34m=\u001b[0m\u001b[0mstyle\u001b[0m\u001b[0;34m,\u001b[0m \u001b[0msize\u001b[0m\u001b[0;34m=\u001b[0m\u001b[0msize\u001b[0m\u001b[0;34m,\u001b[0m \u001b[0mdata\u001b[0m\u001b[0;34m=\u001b[0m\u001b[0mdata\u001b[0m\u001b[0;34m,\u001b[0m\u001b[0;34m\u001b[0m\u001b[0;34m\u001b[0m\u001b[0m\n\u001b[1;32m   1392\u001b[0m         \u001b[0mpalette\u001b[0m\u001b[0;34m=\u001b[0m\u001b[0mpalette\u001b[0m\u001b[0;34m,\u001b[0m \u001b[0mhue_order\u001b[0m\u001b[0;34m=\u001b[0m\u001b[0mhue_order\u001b[0m\u001b[0;34m,\u001b[0m \u001b[0mhue_norm\u001b[0m\u001b[0;34m=\u001b[0m\u001b[0mhue_norm\u001b[0m\u001b[0;34m,\u001b[0m\u001b[0;34m\u001b[0m\u001b[0;34m\u001b[0m\u001b[0m\n",
      "\u001b[0;32m/opt/anaconda3/lib/python3.8/site-packages/seaborn/relational.py\u001b[0m in \u001b[0;36m__init__\u001b[0;34m(self, x, y, hue, size, style, data, palette, hue_order, hue_norm, sizes, size_order, size_norm, dashes, markers, style_order, x_bins, y_bins, units, estimator, ci, n_boot, alpha, x_jitter, y_jitter, legend)\u001b[0m\n\u001b[1;32m    883\u001b[0m                  legend=None):\n\u001b[1;32m    884\u001b[0m \u001b[0;34m\u001b[0m\u001b[0m\n\u001b[0;32m--> 885\u001b[0;31m         plot_data = self.establish_variables(\n\u001b[0m\u001b[1;32m    886\u001b[0m             \u001b[0mx\u001b[0m\u001b[0;34m,\u001b[0m \u001b[0my\u001b[0m\u001b[0;34m,\u001b[0m \u001b[0mhue\u001b[0m\u001b[0;34m,\u001b[0m \u001b[0msize\u001b[0m\u001b[0;34m,\u001b[0m \u001b[0mstyle\u001b[0m\u001b[0;34m,\u001b[0m \u001b[0munits\u001b[0m\u001b[0;34m,\u001b[0m \u001b[0mdata\u001b[0m\u001b[0;34m\u001b[0m\u001b[0;34m\u001b[0m\u001b[0m\n\u001b[1;32m    887\u001b[0m         )\n",
      "\u001b[0;32m/opt/anaconda3/lib/python3.8/site-packages/seaborn/relational.py\u001b[0m in \u001b[0;36mestablish_variables\u001b[0;34m(self, x, y, hue, size, style, units, data)\u001b[0m\n\u001b[1;32m    135\u001b[0m                 \u001b[0;32mif\u001b[0m \u001b[0misinstance\u001b[0m\u001b[0;34m(\u001b[0m\u001b[0mvar\u001b[0m\u001b[0;34m,\u001b[0m \u001b[0mstr\u001b[0m\u001b[0;34m)\u001b[0m\u001b[0;34m:\u001b[0m\u001b[0;34m\u001b[0m\u001b[0;34m\u001b[0m\u001b[0m\n\u001b[1;32m    136\u001b[0m                     \u001b[0merr\u001b[0m \u001b[0;34m=\u001b[0m \u001b[0;34m\"Could not interpret input '{}'\"\u001b[0m\u001b[0;34m.\u001b[0m\u001b[0mformat\u001b[0m\u001b[0;34m(\u001b[0m\u001b[0mvar\u001b[0m\u001b[0;34m)\u001b[0m\u001b[0;34m\u001b[0m\u001b[0;34m\u001b[0m\u001b[0m\n\u001b[0;32m--> 137\u001b[0;31m                     \u001b[0;32mraise\u001b[0m \u001b[0mValueError\u001b[0m\u001b[0;34m(\u001b[0m\u001b[0merr\u001b[0m\u001b[0;34m)\u001b[0m\u001b[0;34m\u001b[0m\u001b[0;34m\u001b[0m\u001b[0m\n\u001b[0m\u001b[1;32m    138\u001b[0m \u001b[0;34m\u001b[0m\u001b[0m\n\u001b[1;32m    139\u001b[0m             \u001b[0;31m# Extract variable names\u001b[0m\u001b[0;34m\u001b[0m\u001b[0;34m\u001b[0m\u001b[0;34m\u001b[0m\u001b[0m\n",
      "\u001b[0;31mValueError\u001b[0m: Could not interpret input 'Time_since_Diag'"
     ]
    }
   ],
   "source": [
    "#sns.lineplot(data=UDPRS2_rs2[(UDPRS2_rs2['Time_since_Diag']<1000)], x=\"Time_since_Diag\", y='Section III Total', hue=\"SYDID\")\n",
    "sns.scatterplot(data=UDPRS2_rs[(UDPRS2_rs[\"Section III Total\"]<50)], x=\"Time_since_Diag\", y=\"Section III Total\")"
   ]
  },
  {
   "cell_type": "code",
   "execution_count": 20,
   "metadata": {},
   "outputs": [
    {
     "ename": "NameError",
     "evalue": "name 'UDPRS2_rs2' is not defined",
     "output_type": "error",
     "traceback": [
      "\u001b[0;31m---------------------------------------------------------------------------\u001b[0m",
      "\u001b[0;31mNameError\u001b[0m                                 Traceback (most recent call last)",
      "\u001b[0;32m<ipython-input-20-2cebd49ca2bf>\u001b[0m in \u001b[0;36m<module>\u001b[0;34m\u001b[0m\n\u001b[0;32m----> 1\u001b[0;31m \u001b[0max\u001b[0m \u001b[0;34m=\u001b[0m \u001b[0msns\u001b[0m\u001b[0;34m.\u001b[0m\u001b[0mboxplot\u001b[0m\u001b[0;34m(\u001b[0m \u001b[0my\u001b[0m\u001b[0;34m=\u001b[0m\u001b[0;34m\"Section III Total\"\u001b[0m\u001b[0;34m,\u001b[0m \u001b[0mdata\u001b[0m\u001b[0;34m=\u001b[0m\u001b[0mUDPRS2_rs2\u001b[0m\u001b[0;34m,\u001b[0m \u001b[0mwhis\u001b[0m\u001b[0;34m=\u001b[0m\u001b[0mnp\u001b[0m\u001b[0;34m.\u001b[0m\u001b[0minf\u001b[0m\u001b[0;34m)\u001b[0m\u001b[0;34m\u001b[0m\u001b[0;34m\u001b[0m\u001b[0m\n\u001b[0m\u001b[1;32m      2\u001b[0m \u001b[0max\u001b[0m \u001b[0;34m=\u001b[0m \u001b[0msns\u001b[0m\u001b[0;34m.\u001b[0m\u001b[0mswarmplot\u001b[0m\u001b[0;34m(\u001b[0m\u001b[0my\u001b[0m\u001b[0;34m=\u001b[0m\u001b[0;34m\"Section III Total\"\u001b[0m\u001b[0;34m,\u001b[0m \u001b[0mdata\u001b[0m\u001b[0;34m=\u001b[0m\u001b[0mUDPRS2_rs2\u001b[0m\u001b[0;34m,\u001b[0m \u001b[0mcolor\u001b[0m\u001b[0;34m=\u001b[0m\u001b[0;34m\".2\"\u001b[0m\u001b[0;34m)\u001b[0m\u001b[0;34m\u001b[0m\u001b[0;34m\u001b[0m\u001b[0m\n",
      "\u001b[0;31mNameError\u001b[0m: name 'UDPRS2_rs2' is not defined"
     ]
    }
   ],
   "source": [
    "ax = sns.boxplot( y=\"Section III Total\", data=UDPRS2_rs2, whis=np.inf)\n",
    "ax = sns.swarmplot(y=\"Section III Total\", data=UDPRS2_rs2, color=\".2\")"
   ]
  },
  {
   "cell_type": "code",
   "execution_count": 28,
   "metadata": {},
   "outputs": [
    {
     "name": "stderr",
     "output_type": "stream",
     "text": [
      "<ipython-input-4-758f679da655>:7: SettingWithCopyWarning: \n",
      "A value is trying to be set on a copy of a slice from a DataFrame\n",
      "\n",
      "See the caveats in the documentation: http://pandas.pydata.org/pandas-docs/stable/indexing.html#indexing-view-versus-copy\n",
      "  df['Time_since_Diag'][cond]=\\\n"
     ]
    }
   ],
   "source": [
    "UDPRS2_rs2=dt_check(UDPRS2_rs,'Date of assessment',['SYDID','Birth_date','Gend','Princ_Diag','Date Diagnosed','Date of assessment',\n",
    "                                                    'Section I Total', 'Section II Total','Section III Total', 'Section IV Total'])"
   ]
  },
  {
   "cell_type": "code",
   "execution_count": 29,
   "metadata": {},
   "outputs": [
    {
     "name": "stderr",
     "output_type": "stream",
     "text": [
      "<ipython-input-4-758f679da655>:7: SettingWithCopyWarning: \n",
      "A value is trying to be set on a copy of a slice from a DataFrame\n",
      "\n",
      "See the caveats in the documentation: http://pandas.pydata.org/pandas-docs/stable/indexing.html#indexing-view-versus-copy\n",
      "  df['Time_since_Diag'][cond]=\\\n"
     ]
    }
   ],
   "source": [
    "cog1_rs2=dt_check(cog1_rs,'Date/time',['SYDID','Date/time','MMSE result','Princ_Diag','Birth_date','Gend','Date Diagnosed'])"
   ]
  },
  {
   "cell_type": "code",
   "execution_count": 30,
   "metadata": {},
   "outputs": [
    {
     "name": "stderr",
     "output_type": "stream",
     "text": [
      "<ipython-input-4-758f679da655>:7: SettingWithCopyWarning: \n",
      "A value is trying to be set on a copy of a slice from a DataFrame\n",
      "\n",
      "See the caveats in the documentation: http://pandas.pydata.org/pandas-docs/stable/indexing.html#indexing-view-versus-copy\n",
      "  df['Time_since_Diag'][cond]=\\\n"
     ]
    }
   ],
   "source": [
    "PSYCHQ_rs2=dt_check(PSYCHQ_rs,'Date of assessment',['SYDID','Princ_Diag','Birth_date','Gend','Date Diagnosed','Date of assessment',\n",
    "                                                    'AttentionalDysfunction', 'DisorderedThought',\n",
    "       'Distress_Q1', 'Distress_Q10', 'Distress_Q11', 'Distress_Q12',\n",
    "       'Distress_Q13', 'Distress_Q14', 'Distress_Q15', 'Distress_Q16',\n",
    "       'Distress_Q17', 'Distress_Q18', 'Distress_Q19', 'Distress_Q2',\n",
    "       'Distress_Q20', 'Distress_Q3', 'Distress_Q4', 'Distress_Q5',\n",
    "       'Distress_Q6', 'Distress_Q7', 'Distress_Q8', 'Distress_Q9',\n",
    "       'PsycHQTotal', 'Q10_taste', 'Q11_acting_against', 'Q12_threatened',\n",
    "       'Q13_trick', 'Q14_concentrating', 'Q15_multitasking',\n",
    "       'Q16_conversation', 'Q17_day_dream', 'Q18_vivid_dreams',\n",
    "       'Q19_act_out_dream', 'Q1_someone_in_room', 'Q20_afraid_confused',\n",
    "       'Q2_corner_vision', 'Q3_passing_by', 'Q4_shadowy_forms',\n",
    "       'Q5_mistake_things', 'Q6_see_people_things', 'Q7_hear_voices',\n",
    "       'Q8_touch_feel', 'Q9_smell', 'S1_Hallucinations_and_Psychosis',\n",
    "       'S2_Hallucinations_Phenotype',  'SensoryMisperceptions',\n",
    "       'SleepImpairment', 'VisualMisperceptions', 'YN2_could_be_real',\n",
    "       'YN3_convinced_otherwise', 'YN4_frighten', 'YN5_outside_past_month',\n",
    "       'YN_fall_asleep'])\n"
   ]
  },
  {
   "cell_type": "code",
   "execution_count": 31,
   "metadata": {},
   "outputs": [
    {
     "ename": "NameError",
     "evalue": "name 'HADS_rs' is not defined",
     "output_type": "error",
     "traceback": [
      "\u001b[0;31m---------------------------------------------------------------------------\u001b[0m",
      "\u001b[0;31mNameError\u001b[0m                                 Traceback (most recent call last)",
      "\u001b[0;32m<ipython-input-31-e45d4a485d36>\u001b[0m in \u001b[0;36m<module>\u001b[0;34m\u001b[0m\n\u001b[0;32m----> 1\u001b[0;31m HADS_rs2=dt_check(HADS_rs,'Date/Time',['SYDID','Princ_Diag','Birth_date','Gend','Date Diagnosed','Date/Time', 'HADS 1', 'HADS 10', 'HADS 11', 'HADS 12', 'HADS 13',\n\u001b[0m\u001b[1;32m      2\u001b[0m        \u001b[0;34m'HADS 14'\u001b[0m\u001b[0;34m,\u001b[0m \u001b[0;34m'HADS 2'\u001b[0m\u001b[0;34m,\u001b[0m \u001b[0;34m'HADS 3'\u001b[0m\u001b[0;34m,\u001b[0m \u001b[0;34m'HADS 4'\u001b[0m\u001b[0;34m,\u001b[0m \u001b[0;34m'HADS 5'\u001b[0m\u001b[0;34m,\u001b[0m \u001b[0;34m'HADS 6'\u001b[0m\u001b[0;34m,\u001b[0m \u001b[0;34m'HADS 7'\u001b[0m\u001b[0;34m,\u001b[0m\u001b[0;34m\u001b[0m\u001b[0;34m\u001b[0m\u001b[0m\n\u001b[1;32m      3\u001b[0m        \u001b[0;34m'HADS 8'\u001b[0m\u001b[0;34m,\u001b[0m \u001b[0;34m'HADS 9'\u001b[0m\u001b[0;34m,\u001b[0m \u001b[0;34m'HADS Total'\u001b[0m\u001b[0;34m,\u001b[0m \u001b[0;34m'HADS-A'\u001b[0m\u001b[0;34m,\u001b[0m \u001b[0;34m'HADS-D'\u001b[0m\u001b[0;34m,\u001b[0m  \u001b[0;34m'index'\u001b[0m\u001b[0;34m,\u001b[0m\u001b[0;34m\u001b[0m\u001b[0;34m\u001b[0m\u001b[0m\n\u001b[1;32m      4\u001b[0m        'time_point'])\n",
      "\u001b[0;31mNameError\u001b[0m: name 'HADS_rs' is not defined"
     ]
    }
   ],
   "source": [
    "HADS_rs2=dt_check(HADS_rs,'Date/Time',['SYDID','Princ_Diag','Birth_date','Gend','Date Diagnosed','Date/Time', 'HADS 1', 'HADS 10', 'HADS 11', 'HADS 12', 'HADS 13',\n",
    "       'HADS 14', 'HADS 2', 'HADS 3', 'HADS 4', 'HADS 5', 'HADS 6', 'HADS 7',\n",
    "       'HADS 8', 'HADS 9', 'HADS Total', 'HADS-A', 'HADS-D',  'index',\n",
    "       'time_point'])"
   ]
  },
  {
   "cell_type": "code",
   "execution_count": 413,
   "metadata": {},
   "outputs": [
    {
     "name": "stderr",
     "output_type": "stream",
     "text": [
      "<ipython-input-391-758f679da655>:7: SettingWithCopyWarning: \n",
      "A value is trying to be set on a copy of a slice from a DataFrame\n",
      "\n",
      "See the caveats in the documentation: http://pandas.pydata.org/pandas-docs/stable/indexing.html#indexing-view-versus-copy\n",
      "  df['Time_since_Diag'][cond]=\\\n"
     ]
    }
   ],
   "source": [
    "\n",
    "RBDQ_rs2=dt_check(RBDQ_rs,'Date',['SYDID','Princ_Diag','Birth_date','Gend','Date Diagnosed','Date','REMSBD 1', 'REMSBD 10', 'REMSBD 2', 'REMSBD 3', 'REMSBD 4',\n",
    "       'REMSBD 5', 'REMSBD 6_1', 'REMSBD 6_2', 'REMSBD 6_3', 'REMSBD 6_4',\n",
    "       'REMSBD 7', 'REMSBD 8', 'REMSBD 9',  'Total REMSBD', 'index',\n",
    "       'time_point'])"
   ]
  },
  {
   "cell_type": "code",
   "execution_count": 414,
   "metadata": {},
   "outputs": [
    {
     "name": "stderr",
     "output_type": "stream",
     "text": [
      "<ipython-input-391-758f679da655>:7: SettingWithCopyWarning: \n",
      "A value is trying to be set on a copy of a slice from a DataFrame\n",
      "\n",
      "See the caveats in the documentation: http://pandas.pydata.org/pandas-docs/stable/indexing.html#indexing-view-versus-copy\n",
      "  df['Time_since_Diag'][cond]=\\\n"
     ]
    }
   ],
   "source": [
    "BDI_rs2=dt_check(BDI_rs,'Date/time',['SYDID','Princ_Diag','Birth_date','Gend','Date Diagnosed','Date/time','BDI 1', 'BDI 10', 'BDI 11', 'BDI 12', 'BDI 13', 'BDI 14', 'BDI 15',\n",
    "       'BDI 16', 'BDI 17', 'BDI 18', 'BDI 19', 'BDI 2', 'BDI 20', 'BDI 21',\n",
    "       'BDI 3', 'BDI 4', 'BDI 5', 'BDI 6', 'BDI 7', 'BDI 8', 'BDI 9',\n",
    "       'BDI Total',   'index', 'time_point'])"
   ]
  },
  {
   "cell_type": "code",
   "execution_count": 170,
   "metadata": {},
   "outputs": [
    {
     "data": {
      "text/plain": [
       "Index(['AGE', 'AGE GROUP', 'ASS %', 'ASS 1', 'ASS 2', 'Age', 'Age ',\n",
       "       'Age group', 'Age grpup', 'Birthdate', 'Date/time', 'Digit Span',\n",
       "       'Digit Span - Backward', 'Digit Span - Forward', 'Digit Span ASS',\n",
       "       'Digit Span Total', 'LM % Retention', 'LM Recognition',\n",
       "       'Logical Memory I', 'Logical Memory II', 'MMSE result', 'NART',\n",
       "       'Principal Diagnosis', 'SYDID', 'Stroop  1 raw', 'Stroop 1 ASS',\n",
       "       'Stroop 2 ASS', 'Stroop 2 raw', 'Stroop 3 ASS', 'Stroop 3 raw',\n",
       "       'Stroop 4 ASS', 'Stroop 4 raw', 'Trails A Errors', 'Trails A Time',\n",
       "       'Trails A Z score', 'Trails B Errors', 'Trails B Time',\n",
       "       'Trails B Z score', 'Verbal fluency-animals', 'Verbal fluency-letters',\n",
       "       'Years of education', 'index', 'time_point'],\n",
       "      dtype='object')"
      ]
     },
     "execution_count": 170,
     "metadata": {},
     "output_type": "execute_result"
    }
   ],
   "source": [
    "cog1_rs.sort_values(by=['SYDID','Date_time'])"
   ]
  },
  {
   "cell_type": "code",
   "execution_count": 467,
   "metadata": {},
   "outputs": [
    {
     "name": "stdout",
     "output_type": "stream",
     "text": [
      "0\n",
      "1\n",
      "2\n",
      "3\n",
      "4\n"
     ]
    },
    {
     "ename": "IndexError",
     "evalue": "list index out of range",
     "output_type": "error",
     "traceback": [
      "\u001b[0;31m---------------------------------------------------------------------------\u001b[0m",
      "\u001b[0;31mIndexError\u001b[0m                                Traceback (most recent call last)",
      "\u001b[0;32m<ipython-input-467-39ae495bc31a>\u001b[0m in \u001b[0;36m<module>\u001b[0;34m\u001b[0m\n\u001b[1;32m      1\u001b[0m \u001b[0;32mfor\u001b[0m \u001b[0mi\u001b[0m \u001b[0;32min\u001b[0m \u001b[0mrange\u001b[0m\u001b[0;34m(\u001b[0m\u001b[0mlen\u001b[0m\u001b[0;34m(\u001b[0m\u001b[0mimpdfs\u001b[0m\u001b[0;34m)\u001b[0m\u001b[0;34m)\u001b[0m\u001b[0;34m:\u001b[0m\u001b[0;34m\u001b[0m\u001b[0;34m\u001b[0m\u001b[0m\n\u001b[1;32m      2\u001b[0m     \u001b[0mprint\u001b[0m\u001b[0;34m(\u001b[0m\u001b[0mi\u001b[0m\u001b[0;34m)\u001b[0m\u001b[0;34m\u001b[0m\u001b[0;34m\u001b[0m\u001b[0m\n\u001b[0;32m----> 3\u001b[0;31m     \u001b[0mimpdfs\u001b[0m\u001b[0;34m[\u001b[0m\u001b[0mi\u001b[0m\u001b[0;34m]\u001b[0m\u001b[0;34m=\u001b[0m\u001b[0mreshape_data\u001b[0m\u001b[0;34m(\u001b[0m\u001b[0mimpdfs\u001b[0m\u001b[0;34m[\u001b[0m\u001b[0mi\u001b[0m\u001b[0;34m]\u001b[0m\u001b[0;34m)\u001b[0m\u001b[0;34m\u001b[0m\u001b[0;34m\u001b[0m\u001b[0m\n\u001b[0m",
      "\u001b[0;32m<ipython-input-451-cccd9e9adedc>\u001b[0m in \u001b[0;36mreshape_data\u001b[0;34m(df)\u001b[0m\n\u001b[1;32m      9\u001b[0m             \u001b[0mdfs\u001b[0m\u001b[0;34m[\u001b[0m\u001b[0mi\u001b[0m\u001b[0;34m]\u001b[0m\u001b[0;34m=\u001b[0m\u001b[0mpd\u001b[0m\u001b[0;34m.\u001b[0m\u001b[0mDataFrame\u001b[0m\u001b[0;34m(\u001b[0m\u001b[0mdf\u001b[0m\u001b[0;34m.\u001b[0m\u001b[0miloc\u001b[0m\u001b[0;34m[\u001b[0m\u001b[0;34m:\u001b[0m\u001b[0;34m,\u001b[0m  \u001b[0mnp\u001b[0m\u001b[0;34m.\u001b[0m\u001b[0mr_\u001b[0m\u001b[0;34m[\u001b[0m\u001b[0;36m0\u001b[0m\u001b[0;34m:\u001b[0m\u001b[0;36m3\u001b[0m\u001b[0;34m,\u001b[0m \u001b[0mcog_arr\u001b[0m\u001b[0;34m[\u001b[0m\u001b[0mi\u001b[0m\u001b[0;34m-\u001b[0m\u001b[0;36m1\u001b[0m\u001b[0;34m]\u001b[0m\u001b[0;34m:\u001b[0m\u001b[0mc\u001b[0m\u001b[0;34m]\u001b[0m\u001b[0;34m]\u001b[0m\u001b[0;34m)\u001b[0m\u001b[0;34m.\u001b[0m\u001b[0mreset_index\u001b[0m\u001b[0;34m(\u001b[0m\u001b[0;34m)\u001b[0m\u001b[0;34m\u001b[0m\u001b[0;34m\u001b[0m\u001b[0m\n\u001b[1;32m     10\u001b[0m             \u001b[0;31m#print(dfs1[i].columns)\u001b[0m\u001b[0;34m\u001b[0m\u001b[0;34m\u001b[0m\u001b[0;34m\u001b[0m\u001b[0m\n\u001b[0;32m---> 11\u001b[0;31m             \u001b[0mdfs\u001b[0m\u001b[0;34m[\u001b[0m\u001b[0mi\u001b[0m\u001b[0;34m]\u001b[0m\u001b[0;34m=\u001b[0m\u001b[0mremovedotcol\u001b[0m\u001b[0;34m(\u001b[0m\u001b[0mdfs1\u001b[0m\u001b[0;34m[\u001b[0m\u001b[0mi\u001b[0m\u001b[0;34m]\u001b[0m\u001b[0;34m)\u001b[0m\u001b[0;34m\u001b[0m\u001b[0;34m\u001b[0m\u001b[0m\n\u001b[0m\u001b[1;32m     12\u001b[0m             \u001b[0mdfs\u001b[0m\u001b[0;34m[\u001b[0m\u001b[0mi\u001b[0m\u001b[0;34m]\u001b[0m\u001b[0;34m[\u001b[0m\u001b[0;34m'time_point'\u001b[0m\u001b[0;34m]\u001b[0m\u001b[0;34m=\u001b[0m\u001b[0mi\u001b[0m\u001b[0;34m\u001b[0m\u001b[0;34m\u001b[0m\u001b[0m\n\u001b[1;32m     13\u001b[0m     \u001b[0mdf_fin\u001b[0m\u001b[0;34m=\u001b[0m\u001b[0mpd\u001b[0m\u001b[0;34m.\u001b[0m\u001b[0mconcat\u001b[0m\u001b[0;34m(\u001b[0m\u001b[0mdfs\u001b[0m\u001b[0;34m,\u001b[0m\u001b[0maxis\u001b[0m\u001b[0;34m=\u001b[0m\u001b[0;36m0\u001b[0m\u001b[0;34m)\u001b[0m\u001b[0;34m\u001b[0m\u001b[0;34m\u001b[0m\u001b[0m\n",
      "\u001b[0;31mIndexError\u001b[0m: list index out of range"
     ]
    }
   ],
   "source": [
    "for i in range(len(impdfs)):\n",
    "    print(i)\n",
    "    impdfs[i]=reshape_data(impdfs[i])"
   ]
  },
  {
   "cell_type": "code",
   "execution_count": 130,
   "metadata": {},
   "outputs": [
    {
     "data": {
      "text/plain": [
       "time_point\n",
       "0      0\n",
       "1    251\n",
       "2    193\n",
       "3    133\n",
       "4    100\n",
       "5     62\n",
       "6     37\n",
       "7     24\n",
       "8     13\n",
       "9      6\n",
       "Name: MMSE result, dtype: int64"
      ]
     },
     "execution_count": 130,
     "metadata": {},
     "output_type": "execute_result"
    }
   ],
   "source": [
    "cog1_rs.groupby('time_point')['MMSE result'].count()"
   ]
  },
  {
   "cell_type": "code",
   "execution_count": 143,
   "metadata": {},
   "outputs": [
    {
     "name": "stdout",
     "output_type": "stream",
     "text": [
      "0     23.325581\n",
      "1    174.674419\n",
      "2    142.395349\n",
      "3    104.465116\n",
      "4     81.348837\n",
      "5     55.930233\n",
      "6     38.534884\n",
      "7     29.325581\n",
      "8     21.651163\n",
      "9     16.488372\n",
      "dtype: float64\n",
      "0      8.807018\n",
      "1    104.228070\n",
      "2     44.403509\n",
      "3     20.157895\n",
      "dtype: float64\n",
      "0      11.397727\n",
      "1     234.636364\n",
      "2     189.397727\n",
      "3     131.170455\n",
      "4      97.988636\n",
      "5      67.875000\n",
      "6      41.215909\n",
      "7      26.647727\n",
      "8      15.943182\n",
      "9       9.090909\n",
      "10      7.568182\n",
      "dtype: float64\n",
      "0     23.904762\n",
      "1    232.619048\n",
      "2    185.095238\n",
      "3    130.333333\n",
      "4    100.380952\n",
      "5     72.142857\n",
      "6     49.047619\n",
      "7     40.523810\n",
      "8     34.571429\n",
      "9     26.047619\n",
      "dtype: float64\n",
      "0      27.888889\n",
      "1     234.611111\n",
      "2     186.277778\n",
      "3     138.888889\n",
      "4     108.111111\n",
      "5      74.000000\n",
      "6      54.000000\n",
      "7      44.888889\n",
      "8      38.333333\n",
      "9      31.722222\n",
      "10     29.277778\n",
      "11     29.333333\n",
      "dtype: float64\n",
      "0     19.307692\n",
      "1    240.500000\n",
      "2    184.730769\n",
      "3    126.461538\n",
      "4     86.692308\n",
      "5     56.653846\n",
      "6     31.923077\n",
      "7     23.115385\n",
      "dtype: float64\n",
      "0     17.310345\n",
      "1    175.724138\n",
      "2    139.344828\n",
      "3    100.000000\n",
      "4     77.206897\n",
      "5     52.068966\n",
      "6     35.689655\n",
      "7     28.965517\n",
      "8     24.517241\n",
      "9     19.620690\n",
      "dtype: float64\n",
      "0     41.833333\n",
      "1    227.166667\n",
      "2    183.666667\n",
      "3    141.083333\n",
      "4    112.666667\n",
      "5     84.916667\n",
      "6     66.333333\n",
      "7     55.916667\n",
      "8     51.500000\n",
      "dtype: float64\n",
      "0      38.615385\n",
      "1     229.461538\n",
      "2     184.923077\n",
      "3     139.615385\n",
      "4     112.769231\n",
      "5      82.076923\n",
      "6      62.153846\n",
      "7      54.538462\n",
      "8      48.461538\n",
      "9      42.384615\n",
      "10     40.153846\n",
      "dtype: float64\n",
      "0     20.916667\n",
      "1    207.625000\n",
      "2    151.250000\n",
      "3     97.000000\n",
      "4     70.125000\n",
      "5     51.458333\n",
      "6     38.875000\n",
      "7     27.041667\n",
      "dtype: float64\n",
      "0      45.636364\n",
      "1     225.454545\n",
      "2     194.181818\n",
      "3     144.000000\n",
      "4     104.181818\n",
      "5      81.000000\n",
      "6      62.909091\n",
      "7      57.909091\n",
      "8      54.363636\n",
      "9      49.363636\n",
      "10     47.272727\n",
      "dtype: float64\n",
      "0    22.818182\n",
      "1    94.090909\n",
      "2    75.272727\n",
      "3    63.090909\n",
      "4    40.772727\n",
      "5    36.409091\n",
      "6    33.272727\n",
      "7    25.500000\n",
      "8    24.045455\n",
      "dtype: float64\n"
     ]
    }
   ],
   "source": [
    "outdfs=[cog1_rs,PSYCHQ_rs,UDPRS2_rs,HADS_rs,RBDQ_rs,BDI_rs,SCOPAS_rs,SCOPAPC_rs,ESS_rs,MOCA_rs,FOGQ_rs,Smell_rs]\n",
    "\n",
    "for i,df in enumerate(outdfs):\n",
    "    print(pd.DataFrame(df.groupby('time_point').count()).reset_index().mean(axis=1))"
   ]
  },
  {
   "cell_type": "markdown",
   "metadata": {},
   "source": [
    "#### For each df select the important variables based on paper"
   ]
  },
  {
   "cell_type": "markdown",
   "metadata": {},
   "source": [
    "UDPRS change in score with time\n",
    "MOCA change in score with time\n",
    "cog change in score with time\n",
    "\n",
    "Age, years 60 (8) 66 (7) 66 (10) 69 (9)\n",
    "\n",
    "Onset, years 50 (10) 59 (7) 62 (10) 62 (10)\n",
    "\n",
    "Hoehn and Yahr 2 (1) 2 (1) 2 (1) 2 (1)\n",
    "\n",
    "Unified Parkinson’s Disease Rating Scale III 21 (10) 25 (12) 30 (11) 28 (13)\n",
    "\n",
    "Duration, years 10 (6) 8 (4) 3 (1) 7 (5)\n",
    "\n",
    "Disease progression score 4 (2) 5 (2) 13 (5) 8 (4)\n",
    "\n",
    "L-dopa dose, mg 560 (468) 290 (264) 245 (229) 456 (580)\n",
    "\n",
    "Motor phenotype score 1 (0.5) 2 (1) 1 (0.4) 0.6 (0.5)\n",
    "\n",
    "Mini Mental State Examination 30 (1) 29 (1) 30 (1) 28 (1)\n",
    "\n",
    "National Adult Reading Test 117 (6) 115 (8) 117 (6) 108 (10)\n",
    "\n",
    "Verbal fluency (FAS) 46 (13) 40 (12) 44 (9) 33 (12)\n",
    "\n",
    "Categorical fluency 24 (6) 21 (7) 22 (5) 17 (6)\n",
    "\n",
    "Pattern recognition memory (max = 24) 21 (2) 18 (4) 21 (2) 17 (2)\n",
    "\n",
    "Spatial recognition memory (max = 20) 16 (2) 14 (2) 15 (2) 14 (2)\n",
    "\n",
    "Tower of London (max = 14) 10 (2) 10 (3) 11 (2) 5 (4)\n",
    "\n",
    "Beck depression inventory 8 (6) 9 (5) 9 (5) 11 (6)"
   ]
  },
  {
   "cell_type": "code",
   "execution_count": 346,
   "metadata": {},
   "outputs": [],
   "source": [
    "\n",
    "            #print(dfs1[i].columns)"
   ]
  },
  {
   "cell_type": "code",
   "execution_count": 352,
   "metadata": {},
   "outputs": [],
   "source": [
    "cog1_fin=reshape_data(cog1)\n",
    "cog2_fin=reshape_data(cog2)\n",
    "cog_fin=pd.concat([cog1_fin,cog2_fin],axis=0)"
   ]
  },
  {
   "cell_type": "code",
   "execution_count": 392,
   "metadata": {},
   "outputs": [
    {
     "data": {
      "text/html": [
       "<div>\n",
       "<style scoped>\n",
       "    .dataframe tbody tr th:only-of-type {\n",
       "        vertical-align: middle;\n",
       "    }\n",
       "\n",
       "    .dataframe tbody tr th {\n",
       "        vertical-align: top;\n",
       "    }\n",
       "\n",
       "    .dataframe thead th {\n",
       "        text-align: right;\n",
       "    }\n",
       "</style>\n",
       "<table border=\"1\" class=\"dataframe\">\n",
       "  <thead>\n",
       "    <tr style=\"text-align: right;\">\n",
       "      <th></th>\n",
       "      <th>index</th>\n",
       "      <th>SYDID</th>\n",
       "      <th>Birthdate</th>\n",
       "      <th>Principal Diagnosis</th>\n",
       "      <th>time_point</th>\n",
       "      <th>Date/time</th>\n",
       "      <th>Years of education</th>\n",
       "      <th>NART</th>\n",
       "      <th>MMSE result</th>\n",
       "      <th>Age</th>\n",
       "      <th>...</th>\n",
       "      <th>Stroop 2 ASS</th>\n",
       "      <th>Stroop 3 raw</th>\n",
       "      <th>Stroop 3 ASS</th>\n",
       "      <th>Stroop 4 raw</th>\n",
       "      <th>Stroop 4 ASS</th>\n",
       "      <th>Age</th>\n",
       "      <th>Age grpup</th>\n",
       "      <th>AGE</th>\n",
       "      <th>AGE GROUP</th>\n",
       "      <th>Digit Span</th>\n",
       "    </tr>\n",
       "  </thead>\n",
       "  <tbody>\n",
       "    <tr>\n",
       "      <th>0</th>\n",
       "      <td>0</td>\n",
       "      <td>PD_00001_DA</td>\n",
       "      <td>1947-11-26</td>\n",
       "      <td>Idiopathic Parkinsons Disease</td>\n",
       "      <td>0</td>\n",
       "      <td>NaT</td>\n",
       "      <td>NaN</td>\n",
       "      <td>NaN</td>\n",
       "      <td>NaN</td>\n",
       "      <td>NaN</td>\n",
       "      <td>...</td>\n",
       "      <td>NaN</td>\n",
       "      <td>NaN</td>\n",
       "      <td>NaN</td>\n",
       "      <td>NaN</td>\n",
       "      <td>NaN</td>\n",
       "      <td>NaN</td>\n",
       "      <td>NaN</td>\n",
       "      <td>NaN</td>\n",
       "      <td>NaN</td>\n",
       "      <td>NaN</td>\n",
       "    </tr>\n",
       "    <tr>\n",
       "      <th>1</th>\n",
       "      <td>1</td>\n",
       "      <td>PD_00002_MW</td>\n",
       "      <td>1943-05-30</td>\n",
       "      <td>Idiopathic Parkinsons Disease</td>\n",
       "      <td>0</td>\n",
       "      <td>NaT</td>\n",
       "      <td>NaN</td>\n",
       "      <td>NaN</td>\n",
       "      <td>NaN</td>\n",
       "      <td>NaN</td>\n",
       "      <td>...</td>\n",
       "      <td>NaN</td>\n",
       "      <td>NaN</td>\n",
       "      <td>NaN</td>\n",
       "      <td>NaN</td>\n",
       "      <td>NaN</td>\n",
       "      <td>NaN</td>\n",
       "      <td>NaN</td>\n",
       "      <td>NaN</td>\n",
       "      <td>NaN</td>\n",
       "      <td>NaN</td>\n",
       "    </tr>\n",
       "    <tr>\n",
       "      <th>2</th>\n",
       "      <td>2</td>\n",
       "      <td>PD_00004_AW</td>\n",
       "      <td>1952-08-24</td>\n",
       "      <td>Idiopathic Parkinsons Disease</td>\n",
       "      <td>0</td>\n",
       "      <td>NaT</td>\n",
       "      <td>NaN</td>\n",
       "      <td>NaN</td>\n",
       "      <td>NaN</td>\n",
       "      <td>NaN</td>\n",
       "      <td>...</td>\n",
       "      <td>NaN</td>\n",
       "      <td>NaN</td>\n",
       "      <td>NaN</td>\n",
       "      <td>NaN</td>\n",
       "      <td>NaN</td>\n",
       "      <td>NaN</td>\n",
       "      <td>NaN</td>\n",
       "      <td>NaN</td>\n",
       "      <td>NaN</td>\n",
       "      <td>NaN</td>\n",
       "    </tr>\n",
       "    <tr>\n",
       "      <th>3</th>\n",
       "      <td>3</td>\n",
       "      <td>PD_00008_BM</td>\n",
       "      <td>1944-01-02</td>\n",
       "      <td>Idiopathic Parkinsons Disease</td>\n",
       "      <td>0</td>\n",
       "      <td>NaT</td>\n",
       "      <td>NaN</td>\n",
       "      <td>NaN</td>\n",
       "      <td>NaN</td>\n",
       "      <td>NaN</td>\n",
       "      <td>...</td>\n",
       "      <td>NaN</td>\n",
       "      <td>NaN</td>\n",
       "      <td>NaN</td>\n",
       "      <td>NaN</td>\n",
       "      <td>NaN</td>\n",
       "      <td>NaN</td>\n",
       "      <td>NaN</td>\n",
       "      <td>NaN</td>\n",
       "      <td>NaN</td>\n",
       "      <td>NaN</td>\n",
       "    </tr>\n",
       "    <tr>\n",
       "      <th>4</th>\n",
       "      <td>4</td>\n",
       "      <td>PD_00009_RP</td>\n",
       "      <td>1939-02-24</td>\n",
       "      <td>Idiopathic Parkinsons Disease</td>\n",
       "      <td>0</td>\n",
       "      <td>NaT</td>\n",
       "      <td>NaN</td>\n",
       "      <td>NaN</td>\n",
       "      <td>NaN</td>\n",
       "      <td>NaN</td>\n",
       "      <td>...</td>\n",
       "      <td>NaN</td>\n",
       "      <td>NaN</td>\n",
       "      <td>NaN</td>\n",
       "      <td>NaN</td>\n",
       "      <td>NaN</td>\n",
       "      <td>NaN</td>\n",
       "      <td>NaN</td>\n",
       "      <td>NaN</td>\n",
       "      <td>NaN</td>\n",
       "      <td>NaN</td>\n",
       "    </tr>\n",
       "    <tr>\n",
       "      <th>...</th>\n",
       "      <td>...</td>\n",
       "      <td>...</td>\n",
       "      <td>...</td>\n",
       "      <td>...</td>\n",
       "      <td>...</td>\n",
       "      <td>...</td>\n",
       "      <td>...</td>\n",
       "      <td>...</td>\n",
       "      <td>...</td>\n",
       "      <td>...</td>\n",
       "      <td>...</td>\n",
       "      <td>...</td>\n",
       "      <td>...</td>\n",
       "      <td>...</td>\n",
       "      <td>...</td>\n",
       "      <td>...</td>\n",
       "      <td>...</td>\n",
       "      <td>...</td>\n",
       "      <td>...</td>\n",
       "      <td>...</td>\n",
       "      <td>...</td>\n",
       "    </tr>\n",
       "    <tr>\n",
       "      <th>246</th>\n",
       "      <td>246</td>\n",
       "      <td>PD_00555_PH</td>\n",
       "      <td>1940-05-10</td>\n",
       "      <td>Idiopathic Parkinsons Disease</td>\n",
       "      <td>4</td>\n",
       "      <td>NaT</td>\n",
       "      <td>NaN</td>\n",
       "      <td>NaN</td>\n",
       "      <td>NaN</td>\n",
       "      <td>NaN</td>\n",
       "      <td>...</td>\n",
       "      <td>NaN</td>\n",
       "      <td>NaN</td>\n",
       "      <td>NaN</td>\n",
       "      <td>NaN</td>\n",
       "      <td>NaN</td>\n",
       "      <td>NaN</td>\n",
       "      <td>NaN</td>\n",
       "      <td>NaN</td>\n",
       "      <td>NaN</td>\n",
       "      <td>NaN</td>\n",
       "    </tr>\n",
       "    <tr>\n",
       "      <th>247</th>\n",
       "      <td>247</td>\n",
       "      <td>PD_00557_DC</td>\n",
       "      <td>1936-02-15</td>\n",
       "      <td>Idiopathic Parkinsons Disease</td>\n",
       "      <td>4</td>\n",
       "      <td>NaT</td>\n",
       "      <td>NaN</td>\n",
       "      <td>NaN</td>\n",
       "      <td>NaN</td>\n",
       "      <td>NaN</td>\n",
       "      <td>...</td>\n",
       "      <td>NaN</td>\n",
       "      <td>NaN</td>\n",
       "      <td>NaN</td>\n",
       "      <td>NaN</td>\n",
       "      <td>NaN</td>\n",
       "      <td>NaN</td>\n",
       "      <td>NaN</td>\n",
       "      <td>NaN</td>\n",
       "      <td>NaN</td>\n",
       "      <td>NaN</td>\n",
       "    </tr>\n",
       "    <tr>\n",
       "      <th>248</th>\n",
       "      <td>248</td>\n",
       "      <td>PD_00563_JH</td>\n",
       "      <td>1950-08-22</td>\n",
       "      <td>Idiopathic Parkinsons Disease</td>\n",
       "      <td>4</td>\n",
       "      <td>NaT</td>\n",
       "      <td>NaN</td>\n",
       "      <td>NaN</td>\n",
       "      <td>NaN</td>\n",
       "      <td>NaN</td>\n",
       "      <td>...</td>\n",
       "      <td>NaN</td>\n",
       "      <td>NaN</td>\n",
       "      <td>NaN</td>\n",
       "      <td>NaN</td>\n",
       "      <td>NaN</td>\n",
       "      <td>NaN</td>\n",
       "      <td>NaN</td>\n",
       "      <td>NaN</td>\n",
       "      <td>NaN</td>\n",
       "      <td>NaN</td>\n",
       "    </tr>\n",
       "    <tr>\n",
       "      <th>249</th>\n",
       "      <td>249</td>\n",
       "      <td>PD_00568_MB</td>\n",
       "      <td>1936-03-19</td>\n",
       "      <td>Idiopathic Parkinsons Disease</td>\n",
       "      <td>4</td>\n",
       "      <td>NaT</td>\n",
       "      <td>NaN</td>\n",
       "      <td>NaN</td>\n",
       "      <td>NaN</td>\n",
       "      <td>NaN</td>\n",
       "      <td>...</td>\n",
       "      <td>NaN</td>\n",
       "      <td>NaN</td>\n",
       "      <td>NaN</td>\n",
       "      <td>NaN</td>\n",
       "      <td>NaN</td>\n",
       "      <td>NaN</td>\n",
       "      <td>NaN</td>\n",
       "      <td>NaN</td>\n",
       "      <td>NaN</td>\n",
       "      <td>NaN</td>\n",
       "    </tr>\n",
       "    <tr>\n",
       "      <th>250</th>\n",
       "      <td>250</td>\n",
       "      <td>PD_00583_KC</td>\n",
       "      <td>1947-08-09</td>\n",
       "      <td>Idiopathic Parkinsons Disease</td>\n",
       "      <td>4</td>\n",
       "      <td>NaT</td>\n",
       "      <td>NaN</td>\n",
       "      <td>NaN</td>\n",
       "      <td>NaN</td>\n",
       "      <td>NaN</td>\n",
       "      <td>...</td>\n",
       "      <td>NaN</td>\n",
       "      <td>NaN</td>\n",
       "      <td>NaN</td>\n",
       "      <td>NaN</td>\n",
       "      <td>NaN</td>\n",
       "      <td>NaN</td>\n",
       "      <td>NaN</td>\n",
       "      <td>NaN</td>\n",
       "      <td>NaN</td>\n",
       "      <td>NaN</td>\n",
       "    </tr>\n",
       "  </tbody>\n",
       "</table>\n",
       "<p>3765 rows × 43 columns</p>\n",
       "</div>"
      ],
      "text/plain": [
       "     index        SYDID  Birthdate            Principal Diagnosis  time_point  \\\n",
       "0        0  PD_00001_DA 1947-11-26  Idiopathic Parkinsons Disease           0   \n",
       "1        1  PD_00002_MW 1943-05-30  Idiopathic Parkinsons Disease           0   \n",
       "2        2  PD_00004_AW 1952-08-24  Idiopathic Parkinsons Disease           0   \n",
       "3        3  PD_00008_BM 1944-01-02  Idiopathic Parkinsons Disease           0   \n",
       "4        4  PD_00009_RP 1939-02-24  Idiopathic Parkinsons Disease           0   \n",
       "..     ...          ...        ...                            ...         ...   \n",
       "246    246  PD_00555_PH 1940-05-10  Idiopathic Parkinsons Disease           4   \n",
       "247    247  PD_00557_DC 1936-02-15  Idiopathic Parkinsons Disease           4   \n",
       "248    248  PD_00563_JH 1950-08-22  Idiopathic Parkinsons Disease           4   \n",
       "249    249  PD_00568_MB 1936-03-19  Idiopathic Parkinsons Disease           4   \n",
       "250    250  PD_00583_KC 1947-08-09  Idiopathic Parkinsons Disease           4   \n",
       "\n",
       "    Date/time  Years of education  NART  MMSE result  Age   ... Stroop 2 ASS  \\\n",
       "0         NaT                 NaN   NaN          NaN   NaN  ...          NaN   \n",
       "1         NaT                 NaN   NaN          NaN   NaN  ...          NaN   \n",
       "2         NaT                 NaN   NaN          NaN   NaN  ...          NaN   \n",
       "3         NaT                 NaN   NaN          NaN   NaN  ...          NaN   \n",
       "4         NaT                 NaN   NaN          NaN   NaN  ...          NaN   \n",
       "..        ...                 ...   ...          ...   ...  ...          ...   \n",
       "246       NaT                 NaN   NaN          NaN   NaN  ...          NaN   \n",
       "247       NaT                 NaN   NaN          NaN   NaN  ...          NaN   \n",
       "248       NaT                 NaN   NaN          NaN   NaN  ...          NaN   \n",
       "249       NaT                 NaN   NaN          NaN   NaN  ...          NaN   \n",
       "250       NaT                 NaN   NaN          NaN   NaN  ...          NaN   \n",
       "\n",
       "     Stroop 3 raw  Stroop 3 ASS  Stroop 4 raw  Stroop 4 ASS  Age  Age grpup  \\\n",
       "0             NaN           NaN           NaN           NaN  NaN        NaN   \n",
       "1             NaN           NaN           NaN           NaN  NaN        NaN   \n",
       "2             NaN           NaN           NaN           NaN  NaN        NaN   \n",
       "3             NaN           NaN           NaN           NaN  NaN        NaN   \n",
       "4             NaN           NaN           NaN           NaN  NaN        NaN   \n",
       "..            ...           ...           ...           ...  ...        ...   \n",
       "246           NaN           NaN           NaN           NaN  NaN        NaN   \n",
       "247           NaN           NaN           NaN           NaN  NaN        NaN   \n",
       "248           NaN           NaN           NaN           NaN  NaN        NaN   \n",
       "249           NaN           NaN           NaN           NaN  NaN        NaN   \n",
       "250           NaN           NaN           NaN           NaN  NaN        NaN   \n",
       "\n",
       "     AGE  AGE GROUP  Digit Span  \n",
       "0    NaN        NaN         NaN  \n",
       "1    NaN        NaN         NaN  \n",
       "2    NaN        NaN         NaN  \n",
       "3    NaN        NaN         NaN  \n",
       "4    NaN        NaN         NaN  \n",
       "..   ...        ...         ...  \n",
       "246  NaN        NaN         NaN  \n",
       "247  NaN        NaN         NaN  \n",
       "248  NaN        NaN         NaN  \n",
       "249  NaN        NaN         NaN  \n",
       "250  NaN        NaN         NaN  \n",
       "\n",
       "[3765 rows x 43 columns]"
      ]
     },
     "execution_count": 392,
     "metadata": {},
     "output_type": "execute_result"
    }
   ],
   "source": [
    "cog_fin"
   ]
  },
  {
   "cell_type": "code",
   "execution_count": 399,
   "metadata": {},
   "outputs": [],
   "source": [
    "setA=[\"PD_00014_CI\",\"B\"]"
   ]
  },
  {
   "cell_type": "code",
   "execution_count": 400,
   "metadata": {},
   "outputs": [
    {
     "name": "stdout",
     "output_type": "stream",
     "text": [
      "Empty DataFrame\n",
      "Columns: [Principal Diagnosis, SYDID]\n",
      "Index: []\n",
      "             Principal Diagnosis        SYDID\n",
      "8  Idiopathic Parkinsons Disease  PD_00014_CI\n",
      "8  Idiopathic Parkinsons Disease  PD_00014_CI\n",
      "8  Idiopathic Parkinsons Disease  PD_00014_CI\n",
      "8  Idiopathic Parkinsons Disease  PD_00014_CI\n",
      "8  Idiopathic Parkinsons Disease  PD_00014_CI\n",
      "8  Idiopathic Parkinsons Disease  PD_00014_CI\n",
      "8  Idiopathic Parkinsons Disease  PD_00014_CI\n",
      "8  Idiopathic Parkinsons Disease  PD_00014_CI\n",
      "8  Idiopathic Parkinsons Disease  PD_00014_CI\n",
      "8  Idiopathic Parkinsons Disease  PD_00014_CI\n"
     ]
    }
   ],
   "source": [
    "for (columnName, columnData) in cog_fin[[\"Principal Diagnosis\",\"SYDID\"]].iteritems():\n",
    "    print(cog_fin[[\"Principal Diagnosis\",\"SYDID\"]][(cog_fin[columnName].isin(setA))].head(10))"
   ]
  },
  {
   "cell_type": "code",
   "execution_count": 377,
   "metadata": {},
   "outputs": [],
   "source": [
    "HADS_fin=reshape_data(HADS)"
   ]
  },
  {
   "cell_type": "code",
   "execution_count": 381,
   "metadata": {},
   "outputs": [],
   "source": [
    "BDI_fin=reshape_data(BDI)"
   ]
  },
  {
   "cell_type": "code",
   "execution_count": 384,
   "metadata": {},
   "outputs": [
    {
     "data": {
      "text/plain": [
       "index                     2008\n",
       "SYDID                     2008\n",
       "time_point                2008\n",
       "Birthdate                 1757\n",
       "Principal Diagnosis       1750\n",
       "Date/time                  802\n",
       "Years of education         802\n",
       "NART                       798\n",
       "MMSE result                800\n",
       "Age                        251\n",
       "Age group                  444\n",
       "Verbal fluency-letters     795\n",
       "Verbal fluency-animals     795\n",
       "Digit Span - Forward       794\n",
       "Digit Span - Backward      794\n",
       "Digit Span Total           797\n",
       "Digit Span ASS             796\n",
       "Logical Memory I           794\n",
       "ASS 1                      793\n",
       "Logical Memory II          794\n",
       "ASS 2                      794\n",
       "LM % Retention             794\n",
       "ASS %                      794\n",
       "LM Recognition             792\n",
       "Trails A Time              794\n",
       "Trails A Errors            794\n",
       "Trails A Z score           793\n",
       "Trails B Time              794\n",
       "Trails B Errors            794\n",
       "Trails B Z score           793\n",
       "Stroop  1 raw              439\n",
       "Stroop 1 ASS               439\n",
       "Stroop 2 raw               438\n",
       "Stroop 2 ASS               439\n",
       "Stroop 3 raw               439\n",
       "Stroop 3 ASS               439\n",
       "Stroop 4 raw               439\n",
       "Stroop 4 ASS               439\n",
       "Age                        326\n",
       "Age grpup                  133\n",
       "AGE                        225\n",
       "AGE GROUP                  225\n",
       "dtype: int64"
      ]
     },
     "execution_count": 384,
     "metadata": {},
     "output_type": "execute_result"
    }
   ],
   "source": [
    "BDI_fin.count()"
   ]
  },
  {
   "cell_type": "code",
   "execution_count": 344,
   "metadata": {},
   "outputs": [
    {
     "data": {
      "text/html": [
       "<div>\n",
       "<style scoped>\n",
       "    .dataframe tbody tr th:only-of-type {\n",
       "        vertical-align: middle;\n",
       "    }\n",
       "\n",
       "    .dataframe tbody tr th {\n",
       "        vertical-align: top;\n",
       "    }\n",
       "\n",
       "    .dataframe thead th {\n",
       "        text-align: right;\n",
       "    }\n",
       "</style>\n",
       "<table border=\"1\" class=\"dataframe\">\n",
       "  <thead>\n",
       "    <tr style=\"text-align: right;\">\n",
       "      <th></th>\n",
       "      <th>index</th>\n",
       "      <th>SYDID</th>\n",
       "      <th>Birthdate</th>\n",
       "      <th>Principal Diagnosis</th>\n",
       "      <th>time_point</th>\n",
       "      <th>Date/time</th>\n",
       "      <th>Years of education</th>\n",
       "      <th>NART</th>\n",
       "      <th>MMSE result</th>\n",
       "      <th>Age</th>\n",
       "      <th>...</th>\n",
       "      <th>Stroop 2 ASS</th>\n",
       "      <th>Stroop 3 raw</th>\n",
       "      <th>Stroop 3 ASS</th>\n",
       "      <th>Stroop 4 raw</th>\n",
       "      <th>Stroop 4 ASS</th>\n",
       "      <th>Age</th>\n",
       "      <th>Age grpup</th>\n",
       "      <th>AGE</th>\n",
       "      <th>AGE GROUP</th>\n",
       "      <th>Digit Span</th>\n",
       "    </tr>\n",
       "  </thead>\n",
       "  <tbody>\n",
       "    <tr>\n",
       "      <th>0</th>\n",
       "      <td>0</td>\n",
       "      <td>PD_00001_DA</td>\n",
       "      <td>1947-11-26</td>\n",
       "      <td>Idiopathic Parkinsons Disease</td>\n",
       "      <td>1</td>\n",
       "      <td>2008-10-06</td>\n",
       "      <td>10.0</td>\n",
       "      <td>89.0</td>\n",
       "      <td>29.0</td>\n",
       "      <td>60.0</td>\n",
       "      <td>...</td>\n",
       "      <td>NaN</td>\n",
       "      <td>NaN</td>\n",
       "      <td>NaN</td>\n",
       "      <td>NaN</td>\n",
       "      <td>NaN</td>\n",
       "      <td>NaN</td>\n",
       "      <td>NaN</td>\n",
       "      <td>NaN</td>\n",
       "      <td>NaN</td>\n",
       "      <td>NaN</td>\n",
       "    </tr>\n",
       "    <tr>\n",
       "      <th>1</th>\n",
       "      <td>1</td>\n",
       "      <td>PD_00002_MW</td>\n",
       "      <td>1943-05-30</td>\n",
       "      <td>Idiopathic Parkinsons Disease</td>\n",
       "      <td>1</td>\n",
       "      <td>2009-10-30</td>\n",
       "      <td>12.0</td>\n",
       "      <td>102.0</td>\n",
       "      <td>29.0</td>\n",
       "      <td>66.0</td>\n",
       "      <td>...</td>\n",
       "      <td>NaN</td>\n",
       "      <td>NaN</td>\n",
       "      <td>NaN</td>\n",
       "      <td>NaN</td>\n",
       "      <td>NaN</td>\n",
       "      <td>NaN</td>\n",
       "      <td>NaN</td>\n",
       "      <td>NaN</td>\n",
       "      <td>NaN</td>\n",
       "      <td>NaN</td>\n",
       "    </tr>\n",
       "    <tr>\n",
       "      <th>2</th>\n",
       "      <td>2</td>\n",
       "      <td>PD_00004_AW</td>\n",
       "      <td>1952-08-24</td>\n",
       "      <td>Idiopathic Parkinsons Disease</td>\n",
       "      <td>1</td>\n",
       "      <td>2008-11-04</td>\n",
       "      <td>17.0</td>\n",
       "      <td>112.0</td>\n",
       "      <td>30.0</td>\n",
       "      <td>56.0</td>\n",
       "      <td>...</td>\n",
       "      <td>NaN</td>\n",
       "      <td>NaN</td>\n",
       "      <td>NaN</td>\n",
       "      <td>NaN</td>\n",
       "      <td>NaN</td>\n",
       "      <td>NaN</td>\n",
       "      <td>NaN</td>\n",
       "      <td>NaN</td>\n",
       "      <td>NaN</td>\n",
       "      <td>NaN</td>\n",
       "    </tr>\n",
       "    <tr>\n",
       "      <th>3</th>\n",
       "      <td>3</td>\n",
       "      <td>PD_00008_BM</td>\n",
       "      <td>1944-01-02</td>\n",
       "      <td>Idiopathic Parkinsons Disease</td>\n",
       "      <td>1</td>\n",
       "      <td>2008-11-11</td>\n",
       "      <td>12.0</td>\n",
       "      <td>118.0</td>\n",
       "      <td>28.0</td>\n",
       "      <td>64.0</td>\n",
       "      <td>...</td>\n",
       "      <td>NaN</td>\n",
       "      <td>NaN</td>\n",
       "      <td>NaN</td>\n",
       "      <td>NaN</td>\n",
       "      <td>NaN</td>\n",
       "      <td>NaN</td>\n",
       "      <td>NaN</td>\n",
       "      <td>NaN</td>\n",
       "      <td>NaN</td>\n",
       "      <td>NaN</td>\n",
       "    </tr>\n",
       "    <tr>\n",
       "      <th>4</th>\n",
       "      <td>4</td>\n",
       "      <td>PD_00009_RP</td>\n",
       "      <td>1939-02-24</td>\n",
       "      <td>Idiopathic Parkinsons Disease</td>\n",
       "      <td>1</td>\n",
       "      <td>2008-12-02</td>\n",
       "      <td>13.0</td>\n",
       "      <td>105.0</td>\n",
       "      <td>30.0</td>\n",
       "      <td>69.0</td>\n",
       "      <td>...</td>\n",
       "      <td>NaN</td>\n",
       "      <td>NaN</td>\n",
       "      <td>NaN</td>\n",
       "      <td>NaN</td>\n",
       "      <td>NaN</td>\n",
       "      <td>NaN</td>\n",
       "      <td>NaN</td>\n",
       "      <td>NaN</td>\n",
       "      <td>NaN</td>\n",
       "      <td>NaN</td>\n",
       "    </tr>\n",
       "    <tr>\n",
       "      <th>...</th>\n",
       "      <td>...</td>\n",
       "      <td>...</td>\n",
       "      <td>...</td>\n",
       "      <td>...</td>\n",
       "      <td>...</td>\n",
       "      <td>...</td>\n",
       "      <td>...</td>\n",
       "      <td>...</td>\n",
       "      <td>...</td>\n",
       "      <td>...</td>\n",
       "      <td>...</td>\n",
       "      <td>...</td>\n",
       "      <td>...</td>\n",
       "      <td>...</td>\n",
       "      <td>...</td>\n",
       "      <td>...</td>\n",
       "      <td>...</td>\n",
       "      <td>...</td>\n",
       "      <td>...</td>\n",
       "      <td>...</td>\n",
       "      <td>...</td>\n",
       "    </tr>\n",
       "    <tr>\n",
       "      <th>15</th>\n",
       "      <td>15</td>\n",
       "      <td>PD_00025_SM</td>\n",
       "      <td>1965-12-20</td>\n",
       "      <td>Parkinson's Disease</td>\n",
       "      <td>9</td>\n",
       "      <td>2018-02-14</td>\n",
       "      <td>17.0</td>\n",
       "      <td>112.0</td>\n",
       "      <td>30.0</td>\n",
       "      <td>NaN</td>\n",
       "      <td>...</td>\n",
       "      <td>8.0</td>\n",
       "      <td>66.00</td>\n",
       "      <td>9.0</td>\n",
       "      <td>59.0</td>\n",
       "      <td>12.0</td>\n",
       "      <td>NaN</td>\n",
       "      <td>NaN</td>\n",
       "      <td>52.0</td>\n",
       "      <td>45-54</td>\n",
       "      <td>16.0</td>\n",
       "    </tr>\n",
       "    <tr>\n",
       "      <th>31</th>\n",
       "      <td>31</td>\n",
       "      <td>PD_00046_SW</td>\n",
       "      <td>1967-01-07</td>\n",
       "      <td>Idiopathic Parkinsons Disease</td>\n",
       "      <td>9</td>\n",
       "      <td>2019-11-20</td>\n",
       "      <td>15.0</td>\n",
       "      <td>116.0</td>\n",
       "      <td>30.0</td>\n",
       "      <td>NaN</td>\n",
       "      <td>...</td>\n",
       "      <td>13.0</td>\n",
       "      <td>54.69</td>\n",
       "      <td>11.0</td>\n",
       "      <td>82.0</td>\n",
       "      <td>8.0</td>\n",
       "      <td>NaN</td>\n",
       "      <td>NaN</td>\n",
       "      <td>52.0</td>\n",
       "      <td>45-54</td>\n",
       "      <td>11.0</td>\n",
       "    </tr>\n",
       "    <tr>\n",
       "      <th>37</th>\n",
       "      <td>37</td>\n",
       "      <td>PD_00054_BA</td>\n",
       "      <td>1956-06-18</td>\n",
       "      <td>Idiopathic Parkinsons Disease</td>\n",
       "      <td>9</td>\n",
       "      <td>2019-05-29</td>\n",
       "      <td>15.0</td>\n",
       "      <td>118.0</td>\n",
       "      <td>28.0</td>\n",
       "      <td>NaN</td>\n",
       "      <td>...</td>\n",
       "      <td>15.0</td>\n",
       "      <td>37.00</td>\n",
       "      <td>16.0</td>\n",
       "      <td>45.0</td>\n",
       "      <td>15.0</td>\n",
       "      <td>NaN</td>\n",
       "      <td>NaN</td>\n",
       "      <td>62.0</td>\n",
       "      <td>55-64</td>\n",
       "      <td>12.0</td>\n",
       "    </tr>\n",
       "    <tr>\n",
       "      <th>52</th>\n",
       "      <td>52</td>\n",
       "      <td>PD_00072_JB</td>\n",
       "      <td>1940-10-14</td>\n",
       "      <td>Idiopathic Parkinsons Disease</td>\n",
       "      <td>9</td>\n",
       "      <td>2018-07-18</td>\n",
       "      <td>15.0</td>\n",
       "      <td>103.0</td>\n",
       "      <td>30.0</td>\n",
       "      <td>NaN</td>\n",
       "      <td>...</td>\n",
       "      <td>8.0</td>\n",
       "      <td>69.00</td>\n",
       "      <td>11.0</td>\n",
       "      <td>70.0</td>\n",
       "      <td>11.0</td>\n",
       "      <td>NaN</td>\n",
       "      <td>NaN</td>\n",
       "      <td>77.0</td>\n",
       "      <td>75-79</td>\n",
       "      <td>9.0</td>\n",
       "    </tr>\n",
       "    <tr>\n",
       "      <th>103</th>\n",
       "      <td>103</td>\n",
       "      <td>PD_00193_ CD</td>\n",
       "      <td>1943-01-08</td>\n",
       "      <td>Idiopathic Parkinsons Disease</td>\n",
       "      <td>9</td>\n",
       "      <td>2019-04-03</td>\n",
       "      <td>17.0</td>\n",
       "      <td>126.0</td>\n",
       "      <td>28.0</td>\n",
       "      <td>NaN</td>\n",
       "      <td>...</td>\n",
       "      <td>8.0</td>\n",
       "      <td>73.00</td>\n",
       "      <td>10.0</td>\n",
       "      <td>84.0</td>\n",
       "      <td>9.0</td>\n",
       "      <td>NaN</td>\n",
       "      <td>NaN</td>\n",
       "      <td>76.0</td>\n",
       "      <td>75-79</td>\n",
       "      <td>14.0</td>\n",
       "    </tr>\n",
       "  </tbody>\n",
       "</table>\n",
       "<p>821 rows × 43 columns</p>\n",
       "</div>"
      ],
      "text/plain": [
       "     index         SYDID  Birthdate            Principal Diagnosis  \\\n",
       "0        0   PD_00001_DA 1947-11-26  Idiopathic Parkinsons Disease   \n",
       "1        1   PD_00002_MW 1943-05-30  Idiopathic Parkinsons Disease   \n",
       "2        2   PD_00004_AW 1952-08-24  Idiopathic Parkinsons Disease   \n",
       "3        3   PD_00008_BM 1944-01-02  Idiopathic Parkinsons Disease   \n",
       "4        4   PD_00009_RP 1939-02-24  Idiopathic Parkinsons Disease   \n",
       "..     ...           ...        ...                            ...   \n",
       "15      15   PD_00025_SM 1965-12-20            Parkinson's Disease   \n",
       "31      31   PD_00046_SW 1967-01-07  Idiopathic Parkinsons Disease   \n",
       "37      37   PD_00054_BA 1956-06-18  Idiopathic Parkinsons Disease   \n",
       "52      52   PD_00072_JB 1940-10-14  Idiopathic Parkinsons Disease   \n",
       "103    103  PD_00193_ CD 1943-01-08  Idiopathic Parkinsons Disease   \n",
       "\n",
       "     time_point  Date/time  Years of education   NART  MMSE result  Age   ...  \\\n",
       "0             1 2008-10-06                10.0   89.0         29.0  60.0  ...   \n",
       "1             1 2009-10-30                12.0  102.0         29.0  66.0  ...   \n",
       "2             1 2008-11-04                17.0  112.0         30.0  56.0  ...   \n",
       "3             1 2008-11-11                12.0  118.0         28.0  64.0  ...   \n",
       "4             1 2008-12-02                13.0  105.0         30.0  69.0  ...   \n",
       "..          ...        ...                 ...    ...          ...   ...  ...   \n",
       "15            9 2018-02-14                17.0  112.0         30.0   NaN  ...   \n",
       "31            9 2019-11-20                15.0  116.0         30.0   NaN  ...   \n",
       "37            9 2019-05-29                15.0  118.0         28.0   NaN  ...   \n",
       "52            9 2018-07-18                15.0  103.0         30.0   NaN  ...   \n",
       "103           9 2019-04-03                17.0  126.0         28.0   NaN  ...   \n",
       "\n",
       "    Stroop 2 ASS  Stroop 3 raw  Stroop 3 ASS  Stroop 4 raw  Stroop 4 ASS  Age  \\\n",
       "0            NaN           NaN           NaN           NaN           NaN  NaN   \n",
       "1            NaN           NaN           NaN           NaN           NaN  NaN   \n",
       "2            NaN           NaN           NaN           NaN           NaN  NaN   \n",
       "3            NaN           NaN           NaN           NaN           NaN  NaN   \n",
       "4            NaN           NaN           NaN           NaN           NaN  NaN   \n",
       "..           ...           ...           ...           ...           ...  ...   \n",
       "15           8.0         66.00           9.0          59.0          12.0  NaN   \n",
       "31          13.0         54.69          11.0          82.0           8.0  NaN   \n",
       "37          15.0         37.00          16.0          45.0          15.0  NaN   \n",
       "52           8.0         69.00          11.0          70.0          11.0  NaN   \n",
       "103          8.0         73.00          10.0          84.0           9.0  NaN   \n",
       "\n",
       "     Age grpup   AGE  AGE GROUP  Digit Span  \n",
       "0          NaN   NaN        NaN         NaN  \n",
       "1          NaN   NaN        NaN         NaN  \n",
       "2          NaN   NaN        NaN         NaN  \n",
       "3          NaN   NaN        NaN         NaN  \n",
       "4          NaN   NaN        NaN         NaN  \n",
       "..         ...   ...        ...         ...  \n",
       "15         NaN  52.0      45-54        16.0  \n",
       "31         NaN  52.0      45-54        11.0  \n",
       "37         NaN  62.0      55-64        12.0  \n",
       "52         NaN  77.0      75-79         9.0  \n",
       "103        NaN  76.0      75-79        14.0  \n",
       "\n",
       "[821 rows x 43 columns]"
      ]
     },
     "execution_count": 344,
     "metadata": {},
     "output_type": "execute_result"
    }
   ],
   "source": [
    "df_fin[pd.notnull(df_fin['Date/time'])]"
   ]
  },
  {
   "cell_type": "code",
   "execution_count": 39,
   "metadata": {},
   "outputs": [
    {
     "data": {
      "text/plain": [
       "SYDID\n",
       "PD_00001_DA    10\n",
       "PD_00002_MW    10\n",
       "PD_00004_AW    10\n",
       "PD_00008_BM    10\n",
       "PD_00009_RP    10\n",
       "               ..\n",
       "PD_00555_PH    10\n",
       "PD_00557_DC    10\n",
       "PD_00563_JH    10\n",
       "PD_00568_MB    10\n",
       "PD_00583_KC    10\n",
       "Length: 251, dtype: int64"
      ]
     },
     "execution_count": 39,
     "metadata": {},
     "output_type": "execute_result"
    }
   ],
   "source": [
    "df_fin.groupby('SYDID').size()"
   ]
  },
  {
   "cell_type": "code",
   "execution_count": null,
   "metadata": {},
   "outputs": [],
   "source": []
  }
 ],
 "metadata": {
  "kernelspec": {
   "display_name": "Python 3",
   "language": "python",
   "name": "python3"
  },
  "language_info": {
   "codemirror_mode": {
    "name": "ipython",
    "version": 3
   },
   "file_extension": ".py",
   "mimetype": "text/x-python",
   "name": "python",
   "nbconvert_exporter": "python",
   "pygments_lexer": "ipython3",
   "version": "3.7.6"
  },
  "toc": {
   "base_numbering": 1,
   "nav_menu": {},
   "number_sections": false,
   "sideBar": true,
   "skip_h1_title": false,
   "title_cell": "Table of Contents",
   "title_sidebar": "Contents",
   "toc_cell": false,
   "toc_position": {},
   "toc_section_display": true,
   "toc_window_display": false
  }
 },
 "nbformat": 4,
 "nbformat_minor": 4
}
