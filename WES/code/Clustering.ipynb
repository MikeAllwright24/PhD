{
 "cells": [
  {
   "cell_type": "code",
   "execution_count": 50,
   "metadata": {
    "ExecuteTime": {
     "end_time": "2020-12-16T06:04:37.160727Z",
     "start_time": "2020-12-16T06:04:37.153820Z"
    }
   },
   "outputs": [],
   "source": [
    "import pandas as pd\n",
    "import numpy as np\n",
    "import matplotlib.pyplot as plt"
   ]
  },
  {
   "cell_type": "code",
   "execution_count": 84,
   "metadata": {
    "ExecuteTime": {
     "end_time": "2020-12-16T06:18:05.232867Z",
     "start_time": "2020-12-16T06:18:05.181282Z"
    }
   },
   "outputs": [],
   "source": [
    "udprs_cog_moc=pd.read_csv('../Clinical Data/Processed/udprs_cog_moc.csv')"
   ]
  },
  {
   "cell_type": "code",
   "execution_count": 91,
   "metadata": {
    "ExecuteTime": {
     "end_time": "2020-12-16T06:24:29.284723Z",
     "start_time": "2020-12-16T06:24:28.460738Z"
    }
   },
   "outputs": [
    {
     "data": {
      "image/png": "[encoded data removed]",
      "text/plain": [
       "<Figure size 432x288 with 1 Axes>"
      ]
     },
     "metadata": {
      "needs_background": "light"
     },
     "output_type": "display_data"
    }
   ],
   "source": [
    "clustervars=['tremor_coef','non_tremor_coef',\n",
    " 'SectionIIITotal_coef','MMSEresult_coef','MoCATotal_coef','Age_Diagnosis','tremor','non_tremor',\n",
    "             'Section III Total','MMSE result','MoCA Total']\n",
    "\n",
    "def z_score(df,var):\n",
    "    x = (df[var] - df[var].mean())/df[var].std(ddof=0)\n",
    "    return  x\n",
    "\n",
    "def z_score(col):\n",
    "    x = (col - col.mean())/col.std(ddof=0)\n",
    "    return  x\n",
    "\n",
    "mask_tp=(udprs_cog_moc['time_point']==0)\n",
    "df=udprs_cog_moc[clustervars][mask_tp]\n",
    "\n",
    "df1=df.copy()\n",
    "for var in clustervars:\n",
    "    df1[var]=z_score(df1[var])\n",
    "\n",
    "def replacenullsmean(df):\n",
    "    for col in df.columns:\n",
    "        nullmask=(df[col].isna())\n",
    "        df[col][nullmask]=df[col][~nullmask].mean()\n",
    "    return df\n",
    "\n",
    "df1=replacenullsmean(df1)\n",
    "\n",
    "from sklearn.cluster import KMeans\n",
    "wcss=[]\n",
    "for i in range(1,11): \n",
    "     kmeans = KMeans(n_clusters=i, init ='k-means++', max_iter=300,  n_init=10,random_state=0)\n",
    "     kmeans.fit(df1)\n",
    "     wcss.append(kmeans.inertia_)\n",
    "plt.plot(range(1,11),wcss)\n",
    "plt.title('The Elbow Method Graph')\n",
    "plt.xlabel('Number of clusters')\n",
    "plt.ylabel('WCSS')\n",
    "plt.show()\n",
    "\n",
    "kmeans = KMeans(n_clusters=4, random_state=0).fit(df1)\n",
    "df['cluster_label']=kmeans.labels_.tolist()\n",
    "df.to_csv('../Clinical Data/Processed/clusters.csv')"
   ]
  },
  {
   "cell_type": "code",
   "execution_count": 72,
   "metadata": {
    "ExecuteTime": {
     "end_time": "2020-12-16T06:17:01.522327Z",
     "start_time": "2020-12-16T06:17:01.515085Z"
    }
   },
   "outputs": [],
   "source": []
  },
  {
   "cell_type": "code",
   "execution_count": 73,
   "metadata": {
    "ExecuteTime": {
     "end_time": "2020-12-16T06:17:01.826729Z",
     "start_time": "2020-12-16T06:17:01.819344Z"
    }
   },
   "outputs": [],
   "source": []
  },
  {
   "cell_type": "code",
   "execution_count": 74,
   "metadata": {
    "ExecuteTime": {
     "end_time": "2020-12-16T06:17:02.440172Z",
     "start_time": "2020-12-16T06:17:02.408232Z"
    }
   },
   "outputs": [
    {
     "data": {
      "text/html": [
       "<div>\n",
       "<style scoped>\n",
       "    .dataframe tbody tr th:only-of-type {\n",
       "        vertical-align: middle;\n",
       "    }\n",
       "\n",
       "    .dataframe tbody tr th {\n",
       "        vertical-align: top;\n",
       "    }\n",
       "\n",
       "    .dataframe thead th {\n",
       "        text-align: right;\n",
       "    }\n",
       "</style>\n",
       "<table border=\"1\" class=\"dataframe\">\n",
       "  <thead>\n",
       "    <tr style=\"text-align: right;\">\n",
       "      <th></th>\n",
       "      <th>tremor_coef</th>\n",
       "      <th>non_tremor_coef</th>\n",
       "      <th>SectionIIITotal_coef</th>\n",
       "      <th>MMSEresult_coef</th>\n",
       "      <th>MoCATotal_coef</th>\n",
       "      <th>Age_Diagnosis</th>\n",
       "      <th>tremor</th>\n",
       "      <th>non_tremor</th>\n",
       "      <th>Section III Total</th>\n",
       "      <th>MMSE result</th>\n",
       "      <th>MoCA Total</th>\n",
       "    </tr>\n",
       "  </thead>\n",
       "  <tbody>\n",
       "    <tr>\n",
       "      <th>0</th>\n",
       "      <td>-0.112078</td>\n",
       "      <td>-0.060407</td>\n",
       "      <td>-1.071010</td>\n",
       "      <td>-0.213837</td>\n",
       "      <td>-0.910138</td>\n",
       "      <td>59.764545</td>\n",
       "      <td>1.0</td>\n",
       "      <td>2.1</td>\n",
       "      <td>38.0</td>\n",
       "      <td>24.0</td>\n",
       "      <td>25.0</td>\n",
       "    </tr>\n",
       "    <tr>\n",
       "      <th>4</th>\n",
       "      <td>0.000000</td>\n",
       "      <td>0.511204</td>\n",
       "      <td>4.089636</td>\n",
       "      <td>-6.134454</td>\n",
       "      <td>-2.044818</td>\n",
       "      <td>64.172485</td>\n",
       "      <td>0.2</td>\n",
       "      <td>1.9</td>\n",
       "      <td>38.0</td>\n",
       "      <td>30.0</td>\n",
       "      <td>25.0</td>\n",
       "    </tr>\n",
       "    <tr>\n",
       "      <th>6</th>\n",
       "      <td>NaN</td>\n",
       "      <td>0.094324</td>\n",
       "      <td>2.556999</td>\n",
       "      <td>0.246589</td>\n",
       "      <td>0.414412</td>\n",
       "      <td>55.186858</td>\n",
       "      <td>0.0</td>\n",
       "      <td>1.1</td>\n",
       "      <td>15.0</td>\n",
       "      <td>29.0</td>\n",
       "      <td>28.0</td>\n",
       "    </tr>\n",
       "    <tr>\n",
       "      <th>11</th>\n",
       "      <td>-0.017039</td>\n",
       "      <td>0.001415</td>\n",
       "      <td>0.981759</td>\n",
       "      <td>0.077668</td>\n",
       "      <td>0.003073</td>\n",
       "      <td>64.164271</td>\n",
       "      <td>1.6</td>\n",
       "      <td>0.9</td>\n",
       "      <td>22.0</td>\n",
       "      <td>29.0</td>\n",
       "      <td>29.0</td>\n",
       "    </tr>\n",
       "    <tr>\n",
       "      <th>18</th>\n",
       "      <td>0.169669</td>\n",
       "      <td>0.190877</td>\n",
       "      <td>5.726322</td>\n",
       "      <td>0.212086</td>\n",
       "      <td>-0.848344</td>\n",
       "      <td>64.796715</td>\n",
       "      <td>0.4</td>\n",
       "      <td>0.8</td>\n",
       "      <td>18.0</td>\n",
       "      <td>25.0</td>\n",
       "      <td>25.0</td>\n",
       "    </tr>\n",
       "    <tr>\n",
       "      <th>...</th>\n",
       "      <td>...</td>\n",
       "      <td>...</td>\n",
       "      <td>...</td>\n",
       "      <td>...</td>\n",
       "      <td>...</td>\n",
       "      <td>...</td>\n",
       "      <td>...</td>\n",
       "      <td>...</td>\n",
       "      <td>...</td>\n",
       "      <td>...</td>\n",
       "      <td>...</td>\n",
       "    </tr>\n",
       "    <tr>\n",
       "      <th>395</th>\n",
       "      <td>0.393531</td>\n",
       "      <td>-0.787062</td>\n",
       "      <td>-9.838275</td>\n",
       "      <td>0.000000</td>\n",
       "      <td>0.983827</td>\n",
       "      <td>68.711841</td>\n",
       "      <td>0.2</td>\n",
       "      <td>2.3</td>\n",
       "      <td>42.0</td>\n",
       "      <td>29.0</td>\n",
       "      <td>23.0</td>\n",
       "    </tr>\n",
       "    <tr>\n",
       "      <th>397</th>\n",
       "      <td>0.000000</td>\n",
       "      <td>0.000000</td>\n",
       "      <td>0.000000</td>\n",
       "      <td>0.000000</td>\n",
       "      <td>0.000000</td>\n",
       "      <td>70.644764</td>\n",
       "      <td>0.8</td>\n",
       "      <td>0.9</td>\n",
       "      <td>24.0</td>\n",
       "      <td>25.0</td>\n",
       "      <td>24.0</td>\n",
       "    </tr>\n",
       "    <tr>\n",
       "      <th>398</th>\n",
       "      <td>0.000000</td>\n",
       "      <td>0.000000</td>\n",
       "      <td>0.000000</td>\n",
       "      <td>0.000000</td>\n",
       "      <td>0.000000</td>\n",
       "      <td>69.878166</td>\n",
       "      <td>0.6</td>\n",
       "      <td>1.3</td>\n",
       "      <td>26.0</td>\n",
       "      <td>26.0</td>\n",
       "      <td>24.0</td>\n",
       "    </tr>\n",
       "    <tr>\n",
       "      <th>399</th>\n",
       "      <td>0.000000</td>\n",
       "      <td>0.000000</td>\n",
       "      <td>0.000000</td>\n",
       "      <td>0.000000</td>\n",
       "      <td>0.000000</td>\n",
       "      <td>76.673511</td>\n",
       "      <td>0.8</td>\n",
       "      <td>2.1</td>\n",
       "      <td>40.0</td>\n",
       "      <td>30.0</td>\n",
       "      <td>28.0</td>\n",
       "    </tr>\n",
       "    <tr>\n",
       "      <th>400</th>\n",
       "      <td>0.347619</td>\n",
       "      <td>-0.173810</td>\n",
       "      <td>-3.476190</td>\n",
       "      <td>0.000000</td>\n",
       "      <td>-2.607143</td>\n",
       "      <td>60.396988</td>\n",
       "      <td>0.4</td>\n",
       "      <td>0.9</td>\n",
       "      <td>24.0</td>\n",
       "      <td>30.0</td>\n",
       "      <td>28.0</td>\n",
       "    </tr>\n",
       "  </tbody>\n",
       "</table>\n",
       "<p>170 rows × 11 columns</p>\n",
       "</div>"
      ],
      "text/plain": [
       "     tremor_coef  non_tremor_coef  SectionIIITotal_coef  MMSEresult_coef  \\\n",
       "0      -0.112078        -0.060407             -1.071010        -0.213837   \n",
       "4       0.000000         0.511204              4.089636        -6.134454   \n",
       "6            NaN         0.094324              2.556999         0.246589   \n",
       "11     -0.017039         0.001415              0.981759         0.077668   \n",
       "18      0.169669         0.190877              5.726322         0.212086   \n",
       "..           ...              ...                   ...              ...   \n",
       "395     0.393531        -0.787062             -9.838275         0.000000   \n",
       "397     0.000000         0.000000              0.000000         0.000000   \n",
       "398     0.000000         0.000000              0.000000         0.000000   \n",
       "399     0.000000         0.000000              0.000000         0.000000   \n",
       "400     0.347619        -0.173810             -3.476190         0.000000   \n",
       "\n",
       "     MoCATotal_coef  Age_Diagnosis  tremor  non_tremor  Section III Total  \\\n",
       "0         -0.910138      59.764545     1.0         2.1               38.0   \n",
       "4         -2.044818      64.172485     0.2         1.9               38.0   \n",
       "6          0.414412      55.186858     0.0         1.1               15.0   \n",
       "11         0.003073      64.164271     1.6         0.9               22.0   \n",
       "18        -0.848344      64.796715     0.4         0.8               18.0   \n",
       "..              ...            ...     ...         ...                ...   \n",
       "395        0.983827      68.711841     0.2         2.3               42.0   \n",
       "397        0.000000      70.644764     0.8         0.9               24.0   \n",
       "398        0.000000      69.878166     0.6         1.3               26.0   \n",
       "399        0.000000      76.673511     0.8         2.1               40.0   \n",
       "400       -2.607143      60.396988     0.4         0.9               24.0   \n",
       "\n",
       "     MMSE result  MoCA Total  \n",
       "0           24.0        25.0  \n",
       "4           30.0        25.0  \n",
       "6           29.0        28.0  \n",
       "11          29.0        29.0  \n",
       "18          25.0        25.0  \n",
       "..           ...         ...  \n",
       "395         29.0        23.0  \n",
       "397         25.0        24.0  \n",
       "398         26.0        24.0  \n",
       "399         30.0        28.0  \n",
       "400         30.0        28.0  \n",
       "\n",
       "[170 rows x 11 columns]"
      ]
     },
     "execution_count": 74,
     "metadata": {},
     "output_type": "execute_result"
    }
   ],
   "source": []
  },
  {
   "cell_type": "code",
   "execution_count": 75,
   "metadata": {
    "ExecuteTime": {
     "end_time": "2020-12-16T06:17:04.279268Z",
     "start_time": "2020-12-16T06:17:04.261111Z"
    }
   },
   "outputs": [],
   "source": [
    "\n"
   ]
  },
  {
   "cell_type": "code",
   "execution_count": 76,
   "metadata": {
    "ExecuteTime": {
     "end_time": "2020-12-16T06:17:04.667536Z",
     "start_time": "2020-12-16T06:17:04.624310Z"
    }
   },
   "outputs": [],
   "source": []
  },
  {
   "cell_type": "code",
   "execution_count": 77,
   "metadata": {
    "ExecuteTime": {
     "end_time": "2020-12-16T06:17:06.742257Z",
     "start_time": "2020-12-16T06:17:06.002564Z"
    }
   },
   "outputs": [
    {
     "data": {
      "image/png": "[encoded data removed]",
      "text/plain": [
       "<Figure size 432x288 with 1 Axes>"
      ]
     },
     "metadata": {
      "needs_background": "light"
     },
     "output_type": "display_data"
    }
   ],
   "source": []
  },
  {
   "cell_type": "code",
   "execution_count": 82,
   "metadata": {
    "ExecuteTime": {
     "end_time": "2020-12-16T06:17:27.729662Z",
     "start_time": "2020-12-16T06:17:27.669408Z"
    }
   },
   "outputs": [
    {
     "data": {
      "text/plain": [
       "array([[-6.26830136e-03,  5.80157289e-01,  6.48207441e-01,\n",
       "        -1.49675480e-01,  1.10784936e+00, -5.54428502e-03,\n",
       "        -8.75730429e-01,  5.90405167e-01,  6.29399636e-01,\n",
       "        -1.55331199e+00, -2.24103086e+00,  2.00000000e+00],\n",
       "       [-1.52891901e-01, -1.20557710e-01, -2.33929581e-01,\n",
       "        -3.92005001e-02, -1.89006400e-02, -5.86830952e-03,\n",
       "         4.34852618e-01,  7.22023563e-01,  7.85188275e-01,\n",
       "         1.03013850e-01,  1.72775538e-01,  1.11022302e-15],\n",
       "       [-1.35813196e-02, -1.01517542e+01, -7.16196136e+00,\n",
       "         1.22529971e+01, -1.87762097e+00,  1.27075992e+00,\n",
       "         1.21542657e-01,  6.93847768e-01,  1.23738303e-01,\n",
       "        -5.64820259e+00,  2.32198338e-01,  1.00000000e+00],\n",
       "       [ 1.42740270e-01,  1.43846144e-01,  2.00987447e-01,\n",
       "        -9.09528189e-02, -1.37121886e-01, -9.36495060e-03,\n",
       "        -2.63592512e-01, -7.71862743e-01, -8.29568570e-01,\n",
       "         2.23644688e-01,  1.96827624e-01,  2.00000000e+00]])"
      ]
     },
     "execution_count": 82,
     "metadata": {},
     "output_type": "execute_result"
    }
   ],
   "source": [
    "from sklearn.cluster import KMeans\n",
    "\n",
    "#kmeans.predict([[0, 0], [12, 3]])\n",
    "\n",
    "kmeans.cluster_centers_\n"
   ]
  },
  {
   "cell_type": "code",
   "execution_count": 83,
   "metadata": {
    "ExecuteTime": {
     "end_time": "2020-12-16T06:17:27.884473Z",
     "start_time": "2020-12-16T06:17:27.876075Z"
    }
   },
   "outputs": [
    {
     "data": {
      "text/plain": [
       "3    81\n",
       "1    75\n",
       "0    13\n",
       "2     1\n",
       "Name: cluster_label, dtype: int64"
      ]
     },
     "execution_count": 83,
     "metadata": {},
     "output_type": "execute_result"
    }
   ],
   "source": [
    "df['cluster_label'].value_counts()"
   ]
  },
  {
   "cell_type": "code",
   "execution_count": 33,
   "metadata": {
    "ExecuteTime": {
     "end_time": "2020-10-30T05:58:08.221855Z",
     "start_time": "2020-10-30T05:58:07.474236Z"
    }
   },
   "outputs": [
    {
     "name": "stdout",
     "output_type": "stream",
     "text": [
      "[t-SNE] Computing 121 nearest neighbors...\n",
      "[t-SNE] Indexed 484 samples in 0.002s...\n",
      "[t-SNE] Computed neighbors for 484 samples in 0.017s...\n",
      "[t-SNE] Computed conditional probabilities for sample 484 / 484\n",
      "[t-SNE] Mean sigma: 0.118004\n",
      "[t-SNE] KL divergence after 250 iterations with early exaggeration: 49.796249\n",
      "[t-SNE] KL divergence after 300 iterations: 0.201139\n"
     ]
    }
   ],
   "source": [
    "from __future__ import print_function\n",
    "import time\n",
    "import numpy as np\n",
    "import pandas as pd\n",
    "\n",
    "from sklearn.decomposition import PCA\n",
    "from sklearn.manifold import TSNE\n",
    "%matplotlib inline\n",
    "import matplotlib.pyplot as plt\n",
    "from mpl_toolkits.mplot3d import Axes3D\n",
    "import seaborn as sns\n",
    "time_start = time.time()\n",
    "tsne = TSNE(n_components=2, verbose=1, perplexity=40, n_iter=300)\n",
    "tsne_results = tsne.fit_transform(df)\n"
   ]
  },
  {
   "cell_type": "code",
   "execution_count": 38,
   "metadata": {
    "ExecuteTime": {
     "end_time": "2020-10-30T05:59:38.249000Z",
     "start_time": "2020-10-30T05:59:38.234091Z"
    }
   },
   "outputs": [
    {
     "data": {
      "text/plain": [
       "array([ 8.03402710e+00, -1.76381266e+00, -1.48521414e+01, -7.65456676e+00,\n",
       "       -9.19655704e+00, -7.80295610e-01, -3.45208144e+00, -3.60406947e+00,\n",
       "       -1.25347824e+01,  1.13585758e+00,  7.59630859e-01,  1.00276756e+01,\n",
       "       -1.37036123e+01, -1.47048378e+01, -2.48448610e+00,  1.24781656e+01,\n",
       "        9.80412674e+00,  1.24654989e+01, -4.06769514e+00, -1.22979379e+00,\n",
       "        2.87372637e+00,  1.44017124e+01,  1.32835741e+01,  7.71169615e+00,\n",
       "       -1.69873846e+00,  1.36726532e+01,  9.22429502e-01, -1.17759457e+01,\n",
       "        1.29802589e+01, -1.37066689e+01, -6.93914592e-01, -2.11173654e+00,\n",
       "       -1.61088486e+01, -2.36546922e+00, -2.79764295e+00, -2.99665904e+00,\n",
       "        1.21648817e+01,  5.89339316e-01, -2.38918495e+00, -3.41648078e+00,\n",
       "        6.46625805e+00,  1.45490522e+01,  1.23786917e+01,  1.19785357e+01,\n",
       "       -1.56425982e+01, -2.02251121e-01, -1.55432358e+01,  1.38951807e+01,\n",
       "       -4.44471741e+00, -7.30486488e+00,  6.99134111e-01,  1.37994003e+01,\n",
       "        1.99383557e+00,  7.33035326e+00,  7.30005598e+00,  8.45052540e-01,\n",
       "       -2.65903401e+00, -2.25692153e+00, -3.92631078e+00,  8.78792095e+00,\n",
       "       -1.04453933e+00, -3.53494048e+00, -2.72234917e+00,  5.18371224e-01,\n",
       "        8.56892288e-01, -1.47081976e+01, -3.50645566e+00,  1.00785437e+01,\n",
       "       -3.69583392e+00, -1.48827858e+01,  1.42190418e+01, -9.07048130e+00,\n",
       "       -1.07054863e+01,  6.41343212e+00, -1.34880233e+00, -2.42749944e-01,\n",
       "       -3.58863163e+00, -1.20861359e+01,  9.48133755e+00,  6.65211439e-01,\n",
       "       -1.24933949e+01, -3.38924742e+00, -6.60551190e-01,  8.76758862e+00,\n",
       "       -3.54247785e+00, -1.38136597e+01, -1.02792442e+00,  1.05247803e+01,\n",
       "       -2.46560788e+00,  6.14609420e-01,  8.83124530e-01,  8.59663391e+00,\n",
       "       -8.73921680e+00,  9.50328922e+00, -4.54608345e+00, -1.46913881e+01,\n",
       "       -7.48691845e+00, -3.80833745e-01, -3.75881624e+00, -4.24420500e+00,\n",
       "        1.44655347e+00,  7.76866484e+00,  6.58784437e+00, -8.09153271e+00,\n",
       "        1.24891500e+01,  9.67268658e+00,  1.92659819e+00,  1.23921609e+00,\n",
       "       -1.20612211e+01,  4.19169337e-01, -1.47210417e+01,  9.26579475e+00,\n",
       "        8.47395897e+00,  1.29957533e+00, -8.99688661e-01, -1.37307673e+01,\n",
       "        1.33231544e+01,  1.45425262e+01, -9.14227581e+00,  1.02930527e+01,\n",
       "        9.90613163e-01, -3.85028315e+00,  1.01783257e+01,  3.23390675e+00,\n",
       "        1.39080887e+01,  1.06021595e+01, -1.56495152e+01,  4.54733193e-01,\n",
       "       -9.23061848e+00,  1.86473203e+00,  9.64069080e+00, -1.20017042e+01,\n",
       "       -8.20804977e+00,  8.53911877e+00, -1.64264202e+01, -1.55117645e+01,\n",
       "       -3.01917768e+00,  8.99498749e+00,  7.90011215e+00,  7.43631887e+00,\n",
       "       -1.37382069e+01, -3.17257547e+00, -3.52397156e+00, -1.06089495e-01,\n",
       "       -1.35290833e+01,  1.40535383e+01, -9.37952518e+00, -9.36750793e+00,\n",
       "       -1.19049191e+00, -1.24497671e+01,  1.02985358e+00, -1.38349991e+01,\n",
       "       -7.08755851e-01,  2.75521827e+00, -1.38002110e+01,  9.42042828e+00,\n",
       "        1.55340254e+00,  1.04448519e+01,  2.52557397e+00, -2.89292979e+00,\n",
       "        1.26291904e+01, -1.22341099e+01,  8.11906338e-01,  9.09042072e+00,\n",
       "       -2.91066599e+00, -3.43965769e+00,  3.12189519e-01, -8.47149193e-01,\n",
       "       -1.54966679e+01, -1.63236828e+01,  8.86583900e+00, -1.35558634e+01,\n",
       "       -2.61129618e+00, -4.95658922e+00, -2.14695978e+00,  4.98833239e-01,\n",
       "       -2.11135483e+00,  9.26366138e+00,  8.61424732e+00, -9.33294392e+00,\n",
       "       -1.61190853e+01,  8.86113644e+00, -1.03723383e+00, -4.50177431e+00,\n",
       "        1.20861006e+00, -1.04704201e-01, -2.51512623e+00,  5.69949210e-01,\n",
       "        1.32459366e+00,  3.83358210e-01, -9.25182438e+00,  3.65454912e-01,\n",
       "       -2.44124460e+00, -3.31248641e+00, -1.62106533e+01, -8.89161301e+00,\n",
       "       -1.51207800e+01,  1.23417568e+01,  6.42124891e+00, -4.21312237e+00,\n",
       "       -1.25088921e+01,  1.32434149e+01,  7.65263033e+00, -1.84723392e-01,\n",
       "        3.20423937e+00,  1.37424049e+01,  1.01408029e+00,  1.25881582e-01,\n",
       "        7.88128078e-01, -2.99030566e+00,  1.17200422e+01,  9.73503304e+00,\n",
       "       -4.74436474e+00, -3.69029546e+00, -1.64010563e+01,  3.48432517e+00,\n",
       "        3.94659191e-01,  5.97106397e-01, -9.85687828e+00, -1.71995842e+00,\n",
       "       -3.50368810e+00,  1.28589892e+00,  7.35437679e+00,  1.48380065e+00,\n",
       "        1.06515532e+01,  9.14598167e-01,  2.97418618e+00,  7.15416670e+00,\n",
       "        1.09137840e+01,  8.92237127e-01, -3.30242205e+00, -3.76519275e+00,\n",
       "       -2.48590994e+00,  9.90897274e+00,  1.94543064e+00,  1.40385132e+01,\n",
       "       -3.83023471e-01,  1.63802445e-01,  8.52265263e+00,  9.04050350e+00,\n",
       "        9.55603886e+00, -2.91321898e+00, -5.00064802e+00,  8.42127514e+00,\n",
       "        6.67465544e+00,  5.12192130e-01,  2.28893533e-01,  1.40078602e+01,\n",
       "        1.35773630e+01,  1.57159925e+00,  9.11169434e+00, -4.39800596e+00,\n",
       "        5.61101496e-01,  6.82585835e-01, -3.13160086e+00, -3.08018231e+00,\n",
       "       -2.69586158e+00, -6.24108672e-01, -3.38812947e+00,  9.08319092e+00,\n",
       "        6.34425688e+00,  1.03183756e+01, -3.52860451e+00, -1.24086037e+01,\n",
       "        9.34883213e+00, -8.21601772e+00,  9.47415733e+00, -3.41626978e+00,\n",
       "       -1.19383521e-01,  9.02322674e+00,  1.03804665e+01, -2.18061495e+00,\n",
       "        1.01816406e+01, -1.40649307e+00, -5.17504454e+00, -2.71360636e+00,\n",
       "        9.01445293e+00,  3.71567750e+00,  7.49395323e+00,  8.38632679e+00,\n",
       "        4.14916962e-01, -3.23197103e+00,  9.94527626e+00,  8.95319653e+00,\n",
       "        2.52160287e+00,  2.86850240e-03, -1.24918232e+01,  1.34008932e+01,\n",
       "        1.23530035e+01, -1.60191460e+01,  2.35325861e+00, -1.49395198e-01,\n",
       "       -2.65540528e+00,  2.47338915e+00,  1.32570851e+00,  1.29676790e+01,\n",
       "       -1.47163048e+01, -2.77714062e+00,  1.34771986e+01, -9.66814041e+00,\n",
       "        9.41953659e+00,  7.91637993e+00, -1.21142855e+01, -4.77522999e-01,\n",
       "       -1.59022398e+01,  1.38457279e+01, -1.60014057e+01, -4.86285830e+00,\n",
       "        3.30349541e+00, -1.18164062e+01,  1.30943060e+00, -3.50947022e-01,\n",
       "       -9.52621841e+00,  1.32730973e+00,  4.92128581e-02,  7.42362690e+00,\n",
       "       -1.24046021e+01, -1.23946133e+01,  6.13728046e+00, -3.04634356e+00,\n",
       "        1.44740744e+01, -7.27823451e-02,  6.13466620e-01,  8.12414742e+00,\n",
       "        1.65927029e+00,  1.73798144e+00, -5.57309210e-01,  1.12681484e+01,\n",
       "       -3.98186541e+00, -1.26018035e+00,  1.04583073e+01, -7.72641706e+00,\n",
       "        6.77150440e+00, -3.48096418e+00,  5.86039901e-01,  4.67506766e-01,\n",
       "        1.29442844e+01,  8.90022469e+00,  5.38046837e-01, -1.21562071e+01,\n",
       "        6.10570621e+00, -1.38245926e+01, -9.41031837e+00, -3.69738245e+00,\n",
       "        1.36482964e+01, -1.60173244e+01, -3.70682836e+00,  2.67690134e+00,\n",
       "       -4.72006464e+00, -9.09615421e+00,  3.05239749e+00, -3.12958312e+00,\n",
       "        1.43329563e+01, -1.20386610e+01, -2.35346413e+00,  1.22870684e+01,\n",
       "        8.99826908e+00, -3.64248490e+00,  6.65374804e+00,  2.93661928e+00,\n",
       "        8.33496094e-01,  1.49562950e+01,  1.28413630e+00,  1.26645012e+01,\n",
       "       -1.37703228e+01,  7.80203247e+00, -2.94423604e+00,  5.18861771e-01,\n",
       "       -3.11519074e+00, -2.69837284e+00,  1.36099758e+01,  3.13561273e+00,\n",
       "       -1.47316294e+01, -1.37384958e+01, -3.54901624e+00, -8.32091999e+00,\n",
       "        6.83039331e+00, -3.59818840e+00, -1.62856159e+01,  6.23286963e+00,\n",
       "        1.23801517e+00,  5.58244526e-01, -5.81412315e-01,  2.65198135e+00,\n",
       "        7.72285080e+00,  7.46260452e+00,  8.35076141e+00,  1.48309898e+01,\n",
       "        1.26271689e+00, -9.13600636e+00, -7.64985681e-01,  8.41408443e+00,\n",
       "       -4.05493450e+00, -9.81115627e+00,  2.73312390e-01,  1.67328537e+00,\n",
       "       -8.05497265e+00, -3.35873318e+00, -4.11719847e+00, -3.44933462e+00,\n",
       "        9.06740284e+00, -2.68372440e+00, -3.69293046e+00,  9.06172216e-01,\n",
       "       -1.20023165e+01,  1.48756008e+01,  3.38650078e-01,  7.18577766e+00,\n",
       "       -4.76489639e+00, -3.06907558e+00,  4.01222080e-01,  1.08633528e+01,\n",
       "        7.87044811e+00,  9.52327669e-01, -1.62947140e+01, -2.15676451e+00,\n",
       "        8.01389313e+00, -1.14854228e+00,  6.55188608e+00, -2.98494315e+00,\n",
       "        1.03764210e+01,  1.14994364e+01, -3.68291068e+00,  9.60519600e+00,\n",
       "       -9.57604408e+00,  7.43701518e-01,  9.88037395e+00, -2.84119987e+00,\n",
       "       -1.65245590e+01,  6.71643317e-01,  1.51910350e-01, -1.59871292e+00,\n",
       "       -1.51827836e+00,  3.80030775e+00,  1.49159217e+00, -1.08320844e+00,\n",
       "        6.96537828e+00,  1.11877851e+01,  7.62951040e+00,  8.89686108e+00,\n",
       "       -1.21917038e+01,  1.41307802e+01,  1.46986504e+01, -1.36126595e+01,\n",
       "       -1.35284500e+01, -1.19491935e+00,  8.18549061e+00,  1.34341640e+01,\n",
       "       -5.08087277e-01,  6.92787170e+00, -2.97261834e+00, -1.69034195e+00,\n",
       "       -3.26652479e+00, -2.58191657e+00, -1.23917837e+01, -1.23955317e+01,\n",
       "        1.23051204e-01, -1.41387022e+00, -2.14582354e-01,  9.24774170e+00,\n",
       "       -2.47994924e+00, -1.29916942e+00, -2.47515082e+00,  9.32507420e+00,\n",
       "       -1.31081057e+00,  7.10991907e+00, -9.36837769e+00, -3.77681684e+00,\n",
       "        9.87865353e+00, -4.42518187e+00, -4.24562022e-02,  1.32056828e+01,\n",
       "       -9.58645630e+00,  1.37413006e+01,  2.50527710e-01,  1.73065996e+00,\n",
       "        9.54699326e+00, -1.06163478e+00,  1.56397116e+00, -6.88637137e-01,\n",
       "       -4.35986948e+00, -1.62472000e+01, -1.47006598e+01, -4.39164782e+00],\n",
       "      dtype=float32)"
      ]
     },
     "execution_count": 38,
     "metadata": {},
     "output_type": "execute_result"
    }
   ],
   "source": [
    "tsne_results[:,1]"
   ]
  },
  {
   "cell_type": "code",
   "execution_count": 39,
   "metadata": {
    "ExecuteTime": {
     "end_time": "2020-10-30T05:59:56.847943Z",
     "start_time": "2020-10-30T05:59:56.401735Z"
    }
   },
   "outputs": [
    {
     "name": "stderr",
     "output_type": "stream",
     "text": [
      "/opt/conda/lib/python3.7/site-packages/ipykernel_launcher.py:1: SettingWithCopyWarning: \n",
      "A value is trying to be set on a copy of a slice from a DataFrame.\n",
      "Try using .loc[row_indexer,col_indexer] = value instead\n",
      "\n",
      "See the caveats in the documentation: http://pandas.pydata.org/pandas-docs/stable/user_guide/indexing.html#returning-a-view-versus-a-copy\n",
      "  \"\"\"Entry point for launching an IPython kernel.\n",
      "/opt/conda/lib/python3.7/site-packages/ipykernel_launcher.py:2: SettingWithCopyWarning: \n",
      "A value is trying to be set on a copy of a slice from a DataFrame.\n",
      "Try using .loc[row_indexer,col_indexer] = value instead\n",
      "\n",
      "See the caveats in the documentation: http://pandas.pydata.org/pandas-docs/stable/user_guide/indexing.html#returning-a-view-versus-a-copy\n",
      "  \n"
     ]
    },
    {
     "data": {
      "text/plain": [
       "<matplotlib.axes._subplots.AxesSubplot at 0x7fc7a0367f90>"
      ]
     },
     "execution_count": 39,
     "metadata": {},
     "output_type": "execute_result"
    },
    {
     "data": {
      "image/png": "[encoded data removed]",
      "text/plain": [
       "<Figure size 1152x720 with 1 Axes>"
      ]
     },
     "metadata": {
      "needs_background": "light"
     },
     "output_type": "display_data"
    }
   ],
   "source": [
    "df['tsne-2d-one'] = tsne_results[:,0]\n",
    "df['tsne-2d-two'] = tsne_results[:,1]\n",
    "plt.figure(figsize=(16,10))\n",
    "sns.scatterplot(\n",
    "    x=\"tsne-2d-one\", y=\"tsne-2d-two\",\n",
    "    #hue=\"y\",\n",
    "    palette=sns.color_palette(\"hls\", 10),\n",
    "    data=df,\n",
    "    legend=\"full\",\n",
    "    alpha=0.3\n",
    ")"
   ]
  },
  {
   "cell_type": "code",
   "execution_count": 40,
   "metadata": {
    "ExecuteTime": {
     "end_time": "2020-10-30T06:00:53.927205Z",
     "start_time": "2020-10-30T06:00:53.850100Z"
    }
   },
   "outputs": [
    {
     "data": {
      "text/plain": [
       "array([[ 10.076483  ,  -0.54029393],\n",
       "       [ -8.810883  ,  -1.4425225 ],\n",
       "       [ -2.0319777 ,  11.631211  ],\n",
       "       [  0.03993505, -12.444719  ],\n",
       "       [  7.1562123 ,   8.013867  ]], dtype=float32)"
      ]
     },
     "execution_count": 40,
     "metadata": {},
     "output_type": "execute_result"
    }
   ],
   "source": [
    "from sklearn.cluster import KMeans\n",
    "kmeans = KMeans(n_clusters=5, random_state=0).fit(tsne_results)\n",
    "kmeans.labels_\n",
    "\n",
    "#kmeans.predict([[0, 0], [12, 3]])\n",
    "\n",
    "kmeans.cluster_centers_\n",
    "\n"
   ]
  },
  {
   "cell_type": "code",
   "execution_count": 44,
   "metadata": {
    "ExecuteTime": {
     "end_time": "2020-10-30T06:03:33.671504Z",
     "start_time": "2020-10-30T06:03:32.583080Z"
    }
   },
   "outputs": [
    {
     "data": {
      "image/png": "[encoded data removed]",
      "text/plain": [
       "<Figure size 432x288 with 1 Axes>"
      ]
     },
     "metadata": {
      "needs_background": "light"
     },
     "output_type": "display_data"
    }
   ],
   "source": [
    "#3 Using the elbow method to find out the optimal number of #clusters. \n",
    "#KMeans class from the sklearn library.\n",
    "from sklearn.cluster import KMeans\n",
    "wcss=[]\n",
    "#this loop will fit the k-means algorithm to our data and \n",
    "#second we will compute the within cluster sum of squares and #appended to our wcss list.\n",
    "for i in range(1,11): \n",
    "     kmeans = KMeans(n_clusters=i, init ='k-means++', max_iter=300,  n_init=10,random_state=0 )\n",
    "#i above is between 1-10 numbers. init parameter is the random #initialization method  \n",
    "#we select kmeans++ method. max_iter parameter the maximum number of iterations there can be to \n",
    "#find the final clusters when the K-meands algorithm is running. we #enter the default value of 300\n",
    "#the next parameter is n_init which is the number of times the #K_means algorithm will be run with\n",
    "#different initial centroid.\n",
    "     kmeans.fit(df)\n",
    "    #kmeans algorithm fits to the X dataset\n",
    "     wcss.append(kmeans.inertia_)\n",
    "#kmeans inertia_ attribute is:  Sum of squared distances of samples #to their closest cluster center.\n",
    "#4.Plot the elbow graph\n",
    "plt.plot(range(1,11),wcss)\n",
    "plt.title('The Elbow Method Graph')\n",
    "plt.xlabel('Number of clusters')\n",
    "plt.ylabel('WCSS')\n",
    "plt.show()"
   ]
  },
  {
   "cell_type": "code",
   "execution_count": 45,
   "metadata": {
    "ExecuteTime": {
     "end_time": "2020-10-30T06:04:08.601405Z",
     "start_time": "2020-10-30T06:04:08.530842Z"
    }
   },
   "outputs": [],
   "source": [
    "kmeans = KMeans(n_clusters=5, init ='k-means++', max_iter=300, n_init=10,random_state=0 )\n",
    "# We are going to use the fit predict method that returns for each #observation which cluster it belongs to. The cluster to which #client belongs and it will return this cluster numbers into a #single vector that is  called y K-means\n",
    "y_kmeans = kmeans.fit_predict(df)"
   ]
  },
  {
   "cell_type": "code",
   "execution_count": 53,
   "metadata": {
    "ExecuteTime": {
     "end_time": "2020-10-30T06:06:57.370750Z",
     "start_time": "2020-10-30T06:06:57.364736Z"
    }
   },
   "outputs": [
    {
     "name": "stderr",
     "output_type": "stream",
     "text": [
      "/opt/conda/lib/python3.7/site-packages/ipykernel_launcher.py:1: SettingWithCopyWarning: \n",
      "A value is trying to be set on a copy of a slice from a DataFrame.\n",
      "Try using .loc[row_indexer,col_indexer] = value instead\n",
      "\n",
      "See the caveats in the documentation: http://pandas.pydata.org/pandas-docs/stable/user_guide/indexing.html#returning-a-view-versus-a-copy\n",
      "  \"\"\"Entry point for launching an IPython kernel.\n"
     ]
    }
   ],
   "source": [
    "df['cluster']=y_kmeans"
   ]
  },
  {
   "cell_type": "code",
   "execution_count": 54,
   "metadata": {
    "ExecuteTime": {
     "end_time": "2020-10-30T06:07:04.067259Z",
     "start_time": "2020-10-30T06:07:04.044254Z"
    }
   },
   "outputs": [
    {
     "data": {
      "text/html": [
       "<div>\n",
       "<style scoped>\n",
       "    .dataframe tbody tr th:only-of-type {\n",
       "        vertical-align: middle;\n",
       "    }\n",
       "\n",
       "    .dataframe tbody tr th {\n",
       "        vertical-align: top;\n",
       "    }\n",
       "\n",
       "    .dataframe thead th {\n",
       "        text-align: right;\n",
       "    }\n",
       "</style>\n",
       "<table border=\"1\" class=\"dataframe\">\n",
       "  <thead>\n",
       "    <tr style=\"text-align: right;\">\n",
       "      <th></th>\n",
       "      <th>MoCA Total</th>\n",
       "      <th>UDPRS_Tot</th>\n",
       "      <th>Progression</th>\n",
       "      <th>tremor</th>\n",
       "      <th>non_tremor</th>\n",
       "      <th>tsne-2d-one</th>\n",
       "      <th>tsne-2d-two</th>\n",
       "      <th>cluster</th>\n",
       "    </tr>\n",
       "  </thead>\n",
       "  <tbody>\n",
       "    <tr>\n",
       "      <th>0</th>\n",
       "      <td>-0.075254</td>\n",
       "      <td>-0.106577</td>\n",
       "      <td>-0.045433</td>\n",
       "      <td>-0.210976</td>\n",
       "      <td>-0.096106</td>\n",
       "      <td>7.697864</td>\n",
       "      <td>8.034027</td>\n",
       "      <td>0</td>\n",
       "    </tr>\n",
       "    <tr>\n",
       "      <th>1</th>\n",
       "      <td>-0.097820</td>\n",
       "      <td>-0.069554</td>\n",
       "      <td>-0.103779</td>\n",
       "      <td>-0.956323</td>\n",
       "      <td>-0.052003</td>\n",
       "      <td>-7.993207</td>\n",
       "      <td>-1.763813</td>\n",
       "      <td>1</td>\n",
       "    </tr>\n",
       "    <tr>\n",
       "      <th>2</th>\n",
       "      <td>-0.052687</td>\n",
       "      <td>0.179027</td>\n",
       "      <td>-0.072431</td>\n",
       "      <td>2.025065</td>\n",
       "      <td>0.006801</td>\n",
       "      <td>-1.737241</td>\n",
       "      <td>-14.852141</td>\n",
       "      <td>2</td>\n",
       "    </tr>\n",
       "    <tr>\n",
       "      <th>3</th>\n",
       "      <td>-0.188087</td>\n",
       "      <td>0.200183</td>\n",
       "      <td>-0.080186</td>\n",
       "      <td>0.907044</td>\n",
       "      <td>-0.022601</td>\n",
       "      <td>2.619126</td>\n",
       "      <td>-7.654567</td>\n",
       "      <td>2</td>\n",
       "    </tr>\n",
       "    <tr>\n",
       "      <th>4</th>\n",
       "      <td>-0.007553</td>\n",
       "      <td>-0.064265</td>\n",
       "      <td>-0.079167</td>\n",
       "      <td>0.907044</td>\n",
       "      <td>-0.052003</td>\n",
       "      <td>2.715523</td>\n",
       "      <td>-9.196557</td>\n",
       "      <td>2</td>\n",
       "    </tr>\n",
       "    <tr>\n",
       "      <th>...</th>\n",
       "      <td>...</td>\n",
       "      <td>...</td>\n",
       "      <td>...</td>\n",
       "      <td>...</td>\n",
       "      <td>...</td>\n",
       "      <td>...</td>\n",
       "      <td>...</td>\n",
       "      <td>...</td>\n",
       "    </tr>\n",
       "    <tr>\n",
       "      <th>479</th>\n",
       "      <td>0.037580</td>\n",
       "      <td>-0.080132</td>\n",
       "      <td>-0.100208</td>\n",
       "      <td>-0.956323</td>\n",
       "      <td>-0.088756</td>\n",
       "      <td>-10.354376</td>\n",
       "      <td>-0.688637</td>\n",
       "      <td>1</td>\n",
       "    </tr>\n",
       "    <tr>\n",
       "      <th>480</th>\n",
       "      <td>0.015013</td>\n",
       "      <td>-0.244090</td>\n",
       "      <td>-0.127882</td>\n",
       "      <td>-0.956323</td>\n",
       "      <td>-0.103457</td>\n",
       "      <td>-12.073792</td>\n",
       "      <td>-4.359869</td>\n",
       "      <td>1</td>\n",
       "    </tr>\n",
       "    <tr>\n",
       "      <th>481</th>\n",
       "      <td>-0.052687</td>\n",
       "      <td>0.448764</td>\n",
       "      <td>-0.083036</td>\n",
       "      <td>2.770412</td>\n",
       "      <td>0.095007</td>\n",
       "      <td>-2.511412</td>\n",
       "      <td>-16.247200</td>\n",
       "      <td>2</td>\n",
       "    </tr>\n",
       "    <tr>\n",
       "      <th>482</th>\n",
       "      <td>0.037580</td>\n",
       "      <td>-0.127733</td>\n",
       "      <td>-0.096151</td>\n",
       "      <td>2.025065</td>\n",
       "      <td>-0.074055</td>\n",
       "      <td>-1.455832</td>\n",
       "      <td>-14.700660</td>\n",
       "      <td>2</td>\n",
       "    </tr>\n",
       "    <tr>\n",
       "      <th>483</th>\n",
       "      <td>0.037580</td>\n",
       "      <td>-0.254668</td>\n",
       "      <td>-0.122994</td>\n",
       "      <td>-0.956323</td>\n",
       "      <td>-0.091906</td>\n",
       "      <td>-12.329718</td>\n",
       "      <td>-4.391648</td>\n",
       "      <td>1</td>\n",
       "    </tr>\n",
       "  </tbody>\n",
       "</table>\n",
       "<p>484 rows × 8 columns</p>\n",
       "</div>"
      ],
      "text/plain": [
       "     MoCA Total  UDPRS_Tot  Progression    tremor  non_tremor  tsne-2d-one  \\\n",
       "0     -0.075254  -0.106577    -0.045433 -0.210976   -0.096106     7.697864   \n",
       "1     -0.097820  -0.069554    -0.103779 -0.956323   -0.052003    -7.993207   \n",
       "2     -0.052687   0.179027    -0.072431  2.025065    0.006801    -1.737241   \n",
       "3     -0.188087   0.200183    -0.080186  0.907044   -0.022601     2.619126   \n",
       "4     -0.007553  -0.064265    -0.079167  0.907044   -0.052003     2.715523   \n",
       "..          ...        ...          ...       ...         ...          ...   \n",
       "479    0.037580  -0.080132    -0.100208 -0.956323   -0.088756   -10.354376   \n",
       "480    0.015013  -0.244090    -0.127882 -0.956323   -0.103457   -12.073792   \n",
       "481   -0.052687   0.448764    -0.083036  2.770412    0.095007    -2.511412   \n",
       "482    0.037580  -0.127733    -0.096151  2.025065   -0.074055    -1.455832   \n",
       "483    0.037580  -0.254668    -0.122994 -0.956323   -0.091906   -12.329718   \n",
       "\n",
       "     tsne-2d-two  cluster  \n",
       "0       8.034027        0  \n",
       "1      -1.763813        1  \n",
       "2     -14.852141        2  \n",
       "3      -7.654567        2  \n",
       "4      -9.196557        2  \n",
       "..           ...      ...  \n",
       "479    -0.688637        1  \n",
       "480    -4.359869        1  \n",
       "481   -16.247200        2  \n",
       "482   -14.700660        2  \n",
       "483    -4.391648        1  \n",
       "\n",
       "[484 rows x 8 columns]"
      ]
     },
     "execution_count": 54,
     "metadata": {},
     "output_type": "execute_result"
    }
   ],
   "source": [
    "df"
   ]
  },
  {
   "cell_type": "code",
   "execution_count": 46,
   "metadata": {
    "ExecuteTime": {
     "end_time": "2020-10-30T06:05:13.513218Z",
     "start_time": "2020-10-30T06:05:13.508552Z"
    }
   },
   "outputs": [
    {
     "name": "stderr",
     "output_type": "stream",
     "text": [
      "/opt/conda/lib/python3.7/site-packages/ipykernel_launcher.py:1: SettingWithCopyWarning: \n",
      "A value is trying to be set on a copy of a slice from a DataFrame.\n",
      "Try using .loc[row_indexer,col_indexer] = value instead\n",
      "\n",
      "See the caveats in the documentation: http://pandas.pydata.org/pandas-docs/stable/user_guide/indexing.html#returning-a-view-versus-a-copy\n",
      "  \"\"\"Entry point for launching an IPython kernel.\n"
     ]
    }
   ],
   "source": [
    " \n",
    "df['tsne-2d-two'] = tsne_results[:,1]"
   ]
  },
  {
   "cell_type": "code",
   "execution_count": 64,
   "metadata": {
    "ExecuteTime": {
     "end_time": "2020-10-30T06:21:55.882127Z",
     "start_time": "2020-10-30T06:21:55.802992Z"
    }
   },
   "outputs": [],
   "source": [
    "kmeans = KMeans(n_clusters=5, init ='k-means++', max_iter=300, n_init=10,random_state=0 )\n",
    "# We are going to use the fit predict method that returns for each #observation which cluster it belongs to. The cluster to which #client belongs and it will return this cluster numbers into a #single vector that is  called y K-means\n",
    "#y_kmeans = kmeans.fit_predict(X)\n",
    "\n",
    "y_kmeans = kmeans.fit_predict(tsne_results)"
   ]
  },
  {
   "cell_type": "code",
   "execution_count": 65,
   "metadata": {
    "ExecuteTime": {
     "end_time": "2020-10-30T06:21:56.013667Z",
     "start_time": "2020-10-30T06:21:56.010311Z"
    }
   },
   "outputs": [],
   "source": [
    "X=np.asarray(df)"
   ]
  },
  {
   "cell_type": "code",
   "execution_count": 67,
   "metadata": {
    "ExecuteTime": {
     "end_time": "2020-10-30T06:22:20.453737Z",
     "start_time": "2020-10-30T06:22:20.078907Z"
    }
   },
   "outputs": [
    {
     "data": {
      "image/png": "[encoded data removed]",
      "text/plain": [
       "<Figure size 432x288 with 1 Axes>"
      ]
     },
     "metadata": {
      "needs_background": "light"
     },
     "output_type": "display_data"
    }
   ],
   "source": [
    "plt.scatter(X[y_kmeans==0, 0], X[y_kmeans==0, 1], s=100, c='red', label ='Cluster 1')\n",
    "plt.scatter(X[y_kmeans==1, 0], X[y_kmeans==1, 1], s=100, c='blue', label ='Cluster 2')\n",
    "plt.scatter(X[y_kmeans==2, 0], X[y_kmeans==2, 1], s=100, c='green', label ='Cluster 3')\n",
    "plt.scatter(X[y_kmeans==3, 0], X[y_kmeans==3, 1], s=100, c='cyan', label ='Cluster 4')\n",
    "plt.scatter(X[y_kmeans==4, 0], X[y_kmeans==4, 1], s=100, c='magenta', label ='Cluster 5')\n",
    "plt.scatter(tsne_results[:,0], tsne_results[:,1], s=300, c='yellow', label = 'Centroids')\n",
    "plt.title('K Means on TSNE')\n",
    "plt.xlabel('TSNE 1')\n",
    "plt.ylabel('TSNE 2')\n",
    "plt.show()"
   ]
  },
  {
   "cell_type": "code",
   "execution_count": null,
   "metadata": {},
   "outputs": [],
   "source": []
  }
 ],
 "metadata": {
  "kernelspec": {
   "display_name": "Python 3",
   "language": "python",
   "name": "python3"
  },
  "language_info": {
   "codemirror_mode": {
    "name": "ipython",
    "version": 3
   },
   "file_extension": ".py",
   "mimetype": "text/x-python",
   "name": "python",
   "nbconvert_exporter": "python",
   "pygments_lexer": "ipython3",
   "version": "3.7.6"
  },
  "toc": {
   "base_numbering": 1,
   "nav_menu": {},
   "number_sections": false,
   "sideBar": true,
   "skip_h1_title": false,
   "title_cell": "Table of Contents",
   "title_sidebar": "Contents",
   "toc_cell": false,
   "toc_position": {},
   "toc_section_display": true,
   "toc_window_display": false
  }
 },
 "nbformat": 4,
 "nbformat_minor": 2
}
