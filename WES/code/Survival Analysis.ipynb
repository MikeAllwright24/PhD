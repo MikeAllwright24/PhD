{
 "cells": [
  {
   "cell_type": "code",
   "execution_count": 5,
   "metadata": {
    "ExecuteTime": {
     "end_time": "2021-01-05T08:13:20.439685Z",
     "start_time": "2021-01-05T08:13:20.430175Z"
    }
   },
   "outputs": [],
   "source": [
    "import pandas as pd\n",
    "import numpy as np\n",
    "import re\n",
    "import seaborn as sns\n",
    "import matplotlib.pyplot as plt\n",
    "import scipy\n",
    "import MLModels\n",
    "\n",
    "\n",
    "loc=\"../Clinical Data/Raw/\"\n",
    "outdata=\"../Clinical Data/Processed/\""
   ]
  },
  {
   "cell_type": "code",
   "execution_count": 3,
   "metadata": {
    "ExecuteTime": {
     "end_time": "2021-01-05T08:11:16.347926Z",
     "start_time": "2021-01-05T08:11:16.168596Z"
    }
   },
   "outputs": [],
   "source": [
    "import lifelines"
   ]
  },
  {
   "cell_type": "code",
   "execution_count": 4,
   "metadata": {
    "ExecuteTime": {
     "end_time": "2021-01-05T08:11:35.540286Z",
     "start_time": "2021-01-05T08:11:35.529491Z"
    }
   },
   "outputs": [],
   "source": [
    "def findcols(df,txt):\n",
    "    cols=[col for col in df.columns if txt in col]\n",
    "    return cols\n",
    "\n",
    "def datacleaner(df):\n",
    "    for col in df.columns:\n",
    "        masknotna=(df[col][pd.notnull(df[col])])\n",
    "        df[col]=df[col].fillna(df[col][masknotna].mean())\n",
    "    return df\n",
    "    "
   ]
  },
  {
   "cell_type": "code",
   "execution_count": 6,
   "metadata": {
    "ExecuteTime": {
     "end_time": "2021-01-05T08:13:22.238741Z",
     "start_time": "2021-01-05T08:13:22.187536Z"
    }
   },
   "outputs": [],
   "source": [
    "udprs_cog_moc=pd.read_csv('%s%s' % (outdata,'udprs_cog_moc.csv'))"
   ]
  },
  {
   "cell_type": "code",
   "execution_count": 52,
   "metadata": {
    "ExecuteTime": {
     "end_time": "2021-01-05T08:31:04.157756Z",
     "start_time": "2021-01-05T08:31:04.139402Z"
    }
   },
   "outputs": [
    {
     "data": {
      "text/plain": [
       "SYDID        Date of assessment\n",
       "PD_00001_DA  2013-05-28            NaN\n",
       "PD_00002_MW  2011-10-25            3.0\n",
       "PD_00004_AW  2011-02-01            0.0\n",
       "             2012-02-21            0.0\n",
       "             2013-02-12            0.0\n",
       "                                  ... \n",
       "PD_00553_KM  2012-10-16            0.0\n",
       "PD_00555_PH  2012-11-20            0.0\n",
       "PD_00557_DC  2012-11-06            NaN\n",
       "PD_00568_MB  2012-11-27            0.0\n",
       "PD_00583_KC  2013-03-19            NaN\n",
       "Name: FOGQ 3, Length: 263, dtype: float64"
      ]
     },
     "execution_count": 52,
     "metadata": {},
     "output_type": "execute_result"
    }
   ],
   "source": [
    "udprs_cog_moc.groupby(['SYDID','Date of assessment'])['FOGQ 3'].mean()"
   ]
  },
  {
   "cell_type": "code",
   "execution_count": 49,
   "metadata": {
    "ExecuteTime": {
     "end_time": "2021-01-05T08:29:18.144331Z",
     "start_time": "2021-01-05T08:29:18.109850Z"
    }
   },
   "outputs": [
    {
     "name": "stderr",
     "output_type": "stream",
     "text": [
      "\n",
      "A value is trying to be set on a copy of a slice from a DataFrame\n",
      "\n",
      "See the caveats in the documentation: http://pandas.pydata.org/pandas-docs/stable/user_guide/indexing.html#returning-a-view-versus-a-copy\n"
     ]
    }
   ],
   "source": [
    "maskfog=(udprs_cog_moc['FOGQ 3']>0)\n",
    "masknofog=(udprs_cog_moc['FOGQ 3']==0)\n",
    "\n",
    "udprs_cog_moc['fog']=0\n",
    "udprs_cog_moc['fog'][maskfog]=1\n",
    "udprs_cog_moc['fog']=udprs_cog_moc.groupby('SYDID')['fog'].transform('max')\n",
    "\n",
    "udprs_cog_moc['FOG_Date']=pd.to_datetime\\\n",
    "(udprs_cog_moc[maskfog].groupby('SYDID')['Date of assessment'].transform('min'))\n",
    "\n"
   ]
  },
  {
   "cell_type": "code",
   "execution_count": 50,
   "metadata": {
    "ExecuteTime": {
     "end_time": "2021-01-05T08:29:45.221397Z",
     "start_time": "2021-01-05T08:29:45.208711Z"
    }
   },
   "outputs": [
    {
     "data": {
      "text/plain": [
       "0    159\n",
       "1    107\n",
       "Name: fog, dtype: int64"
      ]
     },
     "execution_count": 50,
     "metadata": {},
     "output_type": "execute_result"
    }
   ],
   "source": [
    "udprs_cog_moc['fog'].value_counts()"
   ]
  },
  {
   "cell_type": "code",
   "execution_count": 33,
   "metadata": {
    "ExecuteTime": {
     "end_time": "2021-01-05T08:20:14.904612Z",
     "start_time": "2021-01-05T08:20:14.867238Z"
    }
   },
   "outputs": [
    {
     "name": "stderr",
     "output_type": "stream",
     "text": [
      "\n",
      "A value is trying to be set on a copy of a slice from a DataFrame\n",
      "\n",
      "See the caveats in the documentation: http://pandas.pydata.org/pandas-docs/stable/user_guide/indexing.html#returning-a-view-versus-a-copy\n"
     ]
    }
   ],
   "source": [
    "maskfog=(udprs_cog_moc['FOGQ 3']>0)\n",
    "masknofog=(udprs_cog_moc['FOGQ 3']==0)\n",
    "\n",
    "udprs_cog_moc['fog']=0\n",
    "udprs_cog_moc['fog'][maskfog]=1\n",
    "udprs_cog_moc['fog']=udprs_cog_moc.groupby('SYDID')['fog'].transform('max')\n",
    "\n",
    "masknofog2=(udprs_cog_moc['no_fog']==1)\n",
    "\n",
    "\n"
   ]
  },
  {
   "cell_type": "code",
   "execution_count": 36,
   "metadata": {
    "ExecuteTime": {
     "end_time": "2021-01-05T08:21:17.708220Z",
     "start_time": "2021-01-05T08:21:17.698890Z"
    }
   },
   "outputs": [
    {
     "data": {
      "text/plain": [
       "['Princ_Diag', 'Date Diagnosed', 'Age_Diagnosis']"
      ]
     },
     "execution_count": 36,
     "metadata": {},
     "output_type": "execute_result"
    }
   ],
   "source": [
    "findcols(udprs_cog_moc,'Diag')"
   ]
  },
  {
   "cell_type": "code",
   "execution_count": 45,
   "metadata": {
    "ExecuteTime": {
     "end_time": "2021-01-05T08:22:46.284497Z",
     "start_time": "2021-01-05T08:22:46.269105Z"
    }
   },
   "outputs": [],
   "source": [
    "udprs_cog_moc['time_to_fog']=(pd.to_datetime(udprs_cog_moc['FOG_Date'])-pd.to_datetime(udprs_cog_moc['Date Diagnosed'])).dt.days\n",
    "\n",
    "\n",
    "#[pd.notnull(udprs_cog_moc['FOG_Date'])].mean()"
   ]
  },
  {
   "cell_type": "code",
   "execution_count": 47,
   "metadata": {
    "ExecuteTime": {
     "end_time": "2021-01-05T08:23:09.392950Z",
     "start_time": "2021-01-05T08:23:09.378519Z"
    }
   },
   "outputs": [
    {
     "data": {
      "text/plain": [
       "1      1546.0\n",
       "9      8101.0\n",
       "10     7139.0\n",
       "11     7139.0\n",
       "16     4263.0\n",
       "        ...  \n",
       "241    2562.0\n",
       "242    1554.0\n",
       "244    7264.0\n",
       "251    3176.0\n",
       "256    4651.0\n",
       "Name: time_to_fog, Length: 75, dtype: float64"
      ]
     },
     "execution_count": 47,
     "metadata": {},
     "output_type": "execute_result"
    }
   ],
   "source": [
    "udprs_cog_moc['time_to_fog'][pd.notnull(udprs_cog_moc['time_to_fog'])]"
   ]
  },
  {
   "cell_type": "code",
   "execution_count": 22,
   "metadata": {
    "ExecuteTime": {
     "end_time": "2021-01-05T08:17:48.894828Z",
     "start_time": "2021-01-05T08:17:48.859160Z"
    }
   },
   "outputs": [
    {
     "name": "stderr",
     "output_type": "stream",
     "text": [
      "\n",
      "A value is trying to be set on a copy of a slice from a DataFrame\n",
      "\n",
      "See the caveats in the documentation: http://pandas.pydata.org/pandas-docs/stable/user_guide/indexing.html#returning-a-view-versus-a-copy\n"
     ]
    }
   ],
   "source": [
    "udprs_cog_moc['MCI']=0\n",
    "mask=(udprs_cog_moc['MoCA Total']<27)\n",
    "udprs_cog_moc['MCI'][mask]=1\n",
    "mask2=(udprs_cog_moc['MCI']==1)\n",
    "udprs_cog_moc['MCI_date']=udprs_cog_moc[mask2].groupby('SYDID')['Date of assessment'].transform('min')\n",
    "\n"
   ]
  },
  {
   "cell_type": "code",
   "execution_count": 31,
   "metadata": {
    "ExecuteTime": {
     "end_time": "2021-01-05T08:18:59.301360Z",
     "start_time": "2021-01-05T08:18:59.288442Z"
    }
   },
   "outputs": [
    {
     "data": {
      "text/plain": [
       "Timestamp('2012-01-17 00:45:28.421052672')"
      ]
     },
     "execution_count": 31,
     "metadata": {},
     "output_type": "execute_result"
    }
   ],
   "source": [
    "pd.to_datetime(udprs_cog_moc['MCI_date']).mean()"
   ]
  },
  {
   "cell_type": "code",
   "execution_count": 30,
   "metadata": {
    "ExecuteTime": {
     "end_time": "2021-01-05T08:18:54.880966Z",
     "start_time": "2021-01-05T08:18:54.868721Z"
    }
   },
   "outputs": [
    {
     "data": {
      "text/plain": [
       "Timestamp('2012-09-09 18:13:32.030075136')"
      ]
     },
     "execution_count": 30,
     "metadata": {},
     "output_type": "execute_result"
    }
   ],
   "source": [
    "pd.to_datetime(udprs_cog_moc['Date of assessment']).mean()"
   ]
  },
  {
   "cell_type": "code",
   "execution_count": null,
   "metadata": {},
   "outputs": [],
   "source": []
  }
 ],
 "metadata": {
  "kernelspec": {
   "display_name": "Python 3",
   "language": "python",
   "name": "python3"
  },
  "language_info": {
   "codemirror_mode": {
    "name": "ipython",
    "version": 3
   },
   "file_extension": ".py",
   "mimetype": "text/x-python",
   "name": "python",
   "nbconvert_exporter": "python",
   "pygments_lexer": "ipython3",
   "version": "3.7.6"
  },
  "toc": {
   "base_numbering": 1,
   "nav_menu": {},
   "number_sections": false,
   "sideBar": true,
   "skip_h1_title": false,
   "title_cell": "Table of Contents",
   "title_sidebar": "Contents",
   "toc_cell": false,
   "toc_position": {},
   "toc_section_display": true,
   "toc_window_display": false
  }
 },
 "nbformat": 4,
 "nbformat_minor": 2
}
